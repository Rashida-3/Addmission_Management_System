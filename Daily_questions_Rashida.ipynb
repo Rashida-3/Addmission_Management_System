{
  "cells": [
    {
      "cell_type": "code",
      "execution_count": null,
      "metadata": {
        "colab": {
          "base_uri": "https://localhost:8080/"
        },
        "id": "yV0cZJmObvcL",
        "outputId": "afbbbfb6-6dd6-43fd-f0d0-5a5af2a64e16"
      },
      "outputs": [
        {
          "name": "stdout",
          "output_type": "stream",
          "text": [
            "{'anam': 3, 'rashida': 1, 'zobia': 2}\n"
          ]
        }
      ],
      "source": [
        "zx={'rashida':1,'zobia':2}\n",
        "y=('anam',3)\n",
        "z={**{y[0]:y[1]},**x}\n",
        "print(z)"
      ]
    },
    {
      "cell_type": "code",
      "source": [
        "def outer(func):\n",
        "  def inner():\n",
        "    print('dec')\n",
        "    func()\n",
        "  return inner\n",
        "@outer\n",
        "def ord():\n",
        "  print('norml')\n",
        "ord()"
      ],
      "metadata": {
        "colab": {
          "base_uri": "https://localhost:8080/"
        },
        "id": "KJRlX2y_cmRM",
        "outputId": "e9a0196e-113a-44bf-994d-fecae032352e"
      },
      "execution_count": null,
      "outputs": [
        {
          "output_type": "stream",
          "name": "stdout",
          "text": [
            "dec\n",
            "norml\n"
          ]
        }
      ]
    },
    {
      "cell_type": "markdown",
      "metadata": {
        "id": "eMUPYWz9mUri"
      },
      "source": [
        "**swap two element **"
      ]
    },
    {
      "cell_type": "code",
      "execution_count": null,
      "metadata": {
        "colab": {
          "base_uri": "https://localhost:8080/"
        },
        "id": "yXKOJti2cwzx",
        "outputId": "5aebdd8b-29e7-417b-c20a-59015b67de4b"
      },
      "outputs": [
        {
          "name": "stdout",
          "output_type": "stream",
          "text": [
            "[3, 2, 5, 4, 7, 6]\n"
          ]
        }
      ],
      "source": [
        "lst=[2,3,4,5,6,7]\n",
        "for i in range(0,len(lst),2):\n",
        "  if i+1<len(lst):\n",
        "    lst[i],lst[i+1]=lst[i+1],lst[i]\n",
        "print(lst)\n"
      ]
    },
    {
      "cell_type": "markdown",
      "metadata": {
        "id": "81XZG5mYiQR2"
      },
      "source": [
        "**interchange first and last elements in a list**"
      ]
    },
    {
      "cell_type": "code",
      "execution_count": null,
      "metadata": {
        "colab": {
          "base_uri": "https://localhost:8080/"
        },
        "id": "O9oMIksehegk",
        "outputId": "ca0cc512-ca74-47b6-d918-2efae8dc0166"
      },
      "outputs": [
        {
          "name": "stdout",
          "output_type": "stream",
          "text": [
            "[5, 3, 4, 2]\n"
          ]
        }
      ],
      "source": [
        "lst=[2,3,4,5]\n",
        "lst[3],lst[0]=lst[0],lst[3]\n",
        "\n",
        "print(lst)"
      ]
    },
    {
      "cell_type": "markdown",
      "metadata": {
        "id": "j_ZysBltmAjc"
      },
      "source": [
        "**Check if element exists in list in Python**"
      ]
    },
    {
      "cell_type": "code",
      "execution_count": null,
      "metadata": {
        "colab": {
          "base_uri": "https://localhost:8080/"
        },
        "id": "NlGAli3VmdJh",
        "outputId": "3b1609d5-9540-4829-dd5b-4a8b0d7fd4ec"
      },
      "outputs": [
        {
          "name": "stdout",
          "output_type": "stream",
          "text": [
            "exit\n"
          ]
        }
      ],
      "source": [
        "test_list = [1, 6, 3, 5, 3, 4]\n",
        "i=6\n",
        "if i in test_list:\n",
        "  print('exit')\n",
        "else:\n",
        "  print('not exit')\n"
      ]
    },
    {
      "cell_type": "markdown",
      "metadata": {
        "id": "KIGAkoPPoCOX"
      },
      "source": [
        "**check number is present in list or not**"
      ]
    },
    {
      "cell_type": "code",
      "execution_count": null,
      "metadata": {
        "colab": {
          "base_uri": "https://localhost:8080/"
        },
        "id": "T89S-fjqmv5G",
        "outputId": "5d2e42ac-3f32-4d50-c084-b9458a657e8b"
      },
      "outputs": [
        {
          "name": "stdout",
          "output_type": "stream",
          "text": [
            "enter any number22\n",
            " not present\n"
          ]
        }
      ],
      "source": [
        "lst=[2,3,44,45,6,7,43,11,23,12,5]\n",
        "n=int(input('enter any number'))\n",
        "if n  in lst:\n",
        "  print('present')\n",
        "else:\n",
        "  print(' not present')\n"
      ]
    },
    {
      "cell_type": "code",
      "execution_count": null,
      "metadata": {
        "colab": {
          "base_uri": "https://localhost:8080/"
        },
        "id": "45Mbe5xeoPwX",
        "outputId": "a3284213-6a20-4672-e5d0-8d7cd7251cda"
      },
      "outputs": [
        {
          "name": "stdout",
          "output_type": "stream",
          "text": [
            "the largest number is 87\n"
          ]
        }
      ],
      "source": [
        "lst=[23,87,56]\n",
        "g=1\n",
        "for i in range(len(lst)):\n",
        "  for j in range(i+1,len(lst)):\n",
        "    if lst[i]>g:\n",
        "       g=lst[i]\n",
        "\n",
        "print(\"the largest number is\",g)"
      ]
    },
    {
      "cell_type": "markdown",
      "metadata": {
        "id": "wU-TBdldnRrP"
      },
      "source": [
        "**26/09/2023 **"
      ]
    },
    {
      "cell_type": "markdown",
      "metadata": {
        "id": "j5ZdS4Vij139"
      },
      "source": [
        "**1.find the largest number in the list**"
      ]
    },
    {
      "cell_type": "code",
      "execution_count": null,
      "metadata": {
        "colab": {
          "base_uri": "https://localhost:8080/"
        },
        "id": "xXMW7HyvSd2W",
        "outputId": "b6461b88-286c-4220-c3f7-f84b949bde9f"
      },
      "outputs": [
        {
          "name": "stdout",
          "output_type": "stream",
          "text": [
            "87\n"
          ]
        }
      ],
      "source": [
        "lst=[2,32,4,54,53,22,11,67,5,87]\n",
        "lst1=0\n",
        "for i in lst:\n",
        "  if i>lst1:\n",
        "    lst1=i\n",
        "print(i)"
      ]
    },
    {
      "cell_type": "code",
      "execution_count": null,
      "metadata": {
        "colab": {
          "base_uri": "https://localhost:8080/"
        },
        "id": "3rb377NdkRQc",
        "outputId": "2593b5e2-bbc8-4797-f82d-0ca45a4b58ab"
      },
      "outputs": [
        {
          "name": "stdout",
          "output_type": "stream",
          "text": [
            "[87, 67, 54, 53, 32, 22, 11, 5, 4, 2]\n",
            "87\n"
          ]
        }
      ],
      "source": [
        "# 2nd method\n",
        "lst=[2,32,4,54,53,22,11,67,5,87]\n",
        "\n",
        "for i in range(len(lst)):\n",
        "  for j in range(len(lst)):\n",
        "    if lst[i]>lst[j]:\n",
        "      lst[i],lst[j]=lst[j],lst[i]\n",
        "print(lst)\n",
        "print(lst[0])\n",
        "\n",
        "\n"
      ]
    },
    {
      "cell_type": "markdown",
      "metadata": {
        "id": "eC-FWed5leMZ"
      },
      "source": [
        "**2.the sum and product of the list**"
      ]
    },
    {
      "cell_type": "code",
      "execution_count": null,
      "metadata": {
        "colab": {
          "base_uri": "https://localhost:8080/"
        },
        "id": "eA_QWFPCkzrM",
        "outputId": "7cddcb50-9176-4038-9c59-1c5c895d4cdd"
      },
      "outputs": [
        {
          "name": "stdout",
          "output_type": "stream",
          "text": [
            "the sum of  337\n",
            "the product of 5167601556480\n"
          ]
        }
      ],
      "source": [
        "lst=[2,32,4,54,53,22,11,67,5,87]\n",
        "\n",
        "sum=0\n",
        "product=1\n",
        "for i in lst:\n",
        "  sum=sum+i\n",
        "  product=product*i\n",
        "print('the sum of ',sum)\n",
        "print('the product of',product)\n"
      ]
    },
    {
      "cell_type": "code",
      "execution_count": null,
      "metadata": {
        "id": "v5bSAju_mvnt"
      },
      "outputs": [],
      "source": [
        "# 2nd method\n",
        "\n",
        "# from functools import reduce\n",
        "# lst=[2,32,4,54,53,22,11,67,5,87]\n",
        "\n",
        "# print('the sum is',sum(lst))\n",
        "# print('the product is ',reduce(lambda x,y: x*y,lst))\n",
        "\n"
      ]
    },
    {
      "cell_type": "markdown",
      "metadata": {
        "id": "mNl_bt-inI3k"
      },
      "source": [
        "**3. find the average number of list element**"
      ]
    },
    {
      "cell_type": "code",
      "execution_count": null,
      "metadata": {
        "colab": {
          "base_uri": "https://localhost:8080/"
        },
        "id": "9OduJkS6nGT3",
        "outputId": "cedd2559-3f12-4035-fd9d-050a09ffb4cd"
      },
      "outputs": [
        {
          "name": "stdout",
          "output_type": "stream",
          "text": [
            "average number is  (33.7, 2)\n"
          ]
        }
      ],
      "source": [
        "lst=[2,32,4,54,53,22,11,67,5,87]\n",
        "def average(lst):\n",
        "  return (sum)/ len(lst)\n",
        "average=average(lst)\n",
        "print('average number is ',(average,2))"
      ]
    },
    {
      "cell_type": "code",
      "execution_count": null,
      "metadata": {
        "colab": {
          "base_uri": "https://localhost:8080/"
        },
        "id": "Q4vW-Fj5oJFu",
        "outputId": "e412dba0-4965-4d27-b039-0840e6a552a2"
      },
      "outputs": [
        {
          "name": "stdout",
          "output_type": "stream",
          "text": [
            "the average of the list 33.7\n"
          ]
        }
      ],
      "source": [
        "# 2nd method\n",
        "def average(lst):\n",
        "  return reduce(lambda a,b: a+b,lst)/len(lst)\n",
        "lst=[2,32,4,54,53,22,11,67,5,87]\n",
        "average=average(lst)\n",
        "print('the average of the list',average)\n",
        "\n"
      ]
    },
    {
      "cell_type": "markdown",
      "metadata": {
        "id": "UNIKovCYYh9g"
      },
      "source": [
        "**4.find the unique number in list**"
      ]
    },
    {
      "cell_type": "code",
      "execution_count": null,
      "metadata": {
        "colab": {
          "base_uri": "https://localhost:8080/"
        },
        "id": "Wjj9MhDrYS15",
        "outputId": "8c28b4ba-f3ee-4812-9086-bfd2ccc4be9c"
      },
      "outputs": [
        {
          "name": "stdout",
          "output_type": "stream",
          "text": [
            "unique number {1: 2, 2: 2, 3: 2, 5: 1}\n",
            "1\n"
          ]
        }
      ],
      "source": [
        "l=[1,2,3,3,2,1,5]\n",
        "x={}\n",
        "y=0\n",
        "for i in l:\n",
        "  if i in x:\n",
        "    x[i]+=1\n",
        "  else:\n",
        "    x[i]=1\n",
        "print('unique number',x)\n",
        "for k,v in x.items():\n",
        "  if v==1:\n",
        "    y+=1\n",
        "print(y)\n",
        "\n",
        "\n",
        "\n"
      ]
    },
    {
      "cell_type": "code",
      "execution_count": null,
      "metadata": {
        "colab": {
          "base_uri": "https://localhost:8080/"
        },
        "id": "zbdaZHqsY4gp",
        "outputId": "22a43d27-1639-4084-9e5e-c24a025495fc"
      },
      "outputs": [
        {
          "name": "stdout",
          "output_type": "stream",
          "text": [
            "1\n"
          ]
        }
      ],
      "source": [
        "l=[1,2,3,3,2,1,5]\n",
        "x=0\n",
        "for i in l:\n",
        "  if l.count(i)==1:\n",
        "    x+=1\n",
        "print(x)\n"
      ]
    },
    {
      "cell_type": "markdown",
      "metadata": {
        "id": "HpdCv3xTZAMc"
      },
      "source": [
        "**5.find the dublicate in list**"
      ]
    },
    {
      "cell_type": "code",
      "execution_count": null,
      "metadata": {
        "colab": {
          "base_uri": "https://localhost:8080/"
        },
        "id": "MNxvGlxMY7SR",
        "outputId": "9df41ea8-a903-4ba4-b0bb-a4a1fe8beb78"
      },
      "outputs": [
        {
          "name": "stdout",
          "output_type": "stream",
          "text": [
            "[2, 12]\n"
          ]
        }
      ],
      "source": [
        "l=[2,2,21,23,22,12,12]\n",
        "d=[]\n",
        "for item in l:\n",
        "  if l.count(item)>1 and item not in d:\n",
        "    d.append(item)\n",
        "print(d)"
      ]
    },
    {
      "cell_type": "code",
      "execution_count": null,
      "metadata": {
        "colab": {
          "base_uri": "https://localhost:8080/"
        },
        "id": "9aXwGRXW65iH",
        "outputId": "2f822984-b8ee-4e09-b7cd-bb7f64d64d47"
      },
      "outputs": [
        {
          "name": "stdout",
          "output_type": "stream",
          "text": [
            "[2, 12]\n"
          ]
        }
      ],
      "source": [
        "l=[2,2,21,23,22,12,12]\n",
        "d=[]\n",
        "for i in l:\n",
        "  if l.count(i)>1 and i not in d:\n",
        "    d.append(i)\n",
        "print(d)"
      ]
    },
    {
      "cell_type": "code",
      "execution_count": null,
      "metadata": {
        "colab": {
          "base_uri": "https://localhost:8080/"
        },
        "id": "pOar0nFy7Qib",
        "outputId": "e4c8e227-00b9-43f4-bba4-f37947658e53"
      },
      "outputs": [
        {
          "name": "stdout",
          "output_type": "stream",
          "text": [
            "[2, 12]\n"
          ]
        }
      ],
      "source": [
        "l=[2,2,21,23,22,12,12]\n",
        "x=[]\n",
        "for i in l:\n",
        "  if l.count(i)>1 and i not in x:\n",
        "    x.append(i)\n",
        "print(x)"
      ]
    },
    {
      "cell_type": "code",
      "execution_count": null,
      "metadata": {
        "colab": {
          "base_uri": "https://localhost:8080/"
        },
        "id": "dSiwBdLpZPYq",
        "outputId": "b949a6fc-7bbc-44fc-ebac-86fc76dccc8f"
      },
      "outputs": [
        {
          "name": "stdout",
          "output_type": "stream",
          "text": [
            "1\n",
            "2\n",
            "3\n"
          ]
        }
      ],
      "source": [
        "l=[1,2,3,3,2,1,5]\n",
        "x={}\n",
        "y=0\n",
        "for i in l:\n",
        "  if i in x:\n",
        "    x[i]+=1\n",
        "  else:\n",
        "    x[i]=1\n",
        "for k,v in x.items():\n",
        "  if v!=1:\n",
        "    print(k)\n"
      ]
    },
    {
      "cell_type": "markdown",
      "metadata": {
        "id": "Jy_YgnDlZcNx"
      },
      "source": [
        "**6.remove dublicate in list**"
      ]
    },
    {
      "cell_type": "code",
      "execution_count": null,
      "metadata": {
        "colab": {
          "base_uri": "https://localhost:8080/"
        },
        "id": "FKLRQS7pZvOR",
        "outputId": "4c0e367f-2d51-421c-87fa-5a00b7ff8e67"
      },
      "outputs": [
        {
          "name": "stdout",
          "output_type": "stream",
          "text": [
            "[2, 21, 23, 22, 12]\n"
          ]
        }
      ],
      "source": [
        "l=[2,2,21,23,22,12,12]\n",
        "for i in l:\n",
        "  if l.count(i)>1:\n",
        "    l.remove(i)\n",
        "print(l)"
      ]
    },
    {
      "cell_type": "code",
      "execution_count": null,
      "metadata": {
        "colab": {
          "base_uri": "https://localhost:8080/"
        },
        "id": "RSUnVrdp7y8D",
        "outputId": "7cfdba06-92a9-43ed-bf89-2818f96f9806"
      },
      "outputs": [
        {
          "name": "stdout",
          "output_type": "stream",
          "text": [
            "[2, 21, 23, 22, 12]\n"
          ]
        }
      ],
      "source": [
        "l=[2,2,21,23,22,12,12]\n",
        "for i in l:\n",
        "  if l.count(i)>1:\n",
        "    l.remove(i)\n",
        "print(l)"
      ]
    },
    {
      "cell_type": "code",
      "execution_count": null,
      "metadata": {
        "colab": {
          "base_uri": "https://localhost:8080/"
        },
        "id": "4KMGORBuZznA",
        "outputId": "51fa62a8-4ab2-453b-f812-8b8d1f785268"
      },
      "outputs": [
        {
          "name": "stdout",
          "output_type": "stream",
          "text": [
            "[2, 21, 23, 22, 12]\n"
          ]
        }
      ],
      "source": [
        "l=[2,2,21,23,22,12,12]\n",
        "l1=[]\n",
        "for i in l:\n",
        "  if i not in l1:\n",
        "    l1.append(i)\n",
        "print(l1)\n"
      ]
    },
    {
      "cell_type": "markdown",
      "metadata": {
        "id": "sXavrfswxu74"
      },
      "source": [
        "**27/09/2023**"
      ]
    },
    {
      "cell_type": "markdown",
      "metadata": {
        "id": "kfms4Fzd1p14"
      },
      "source": [
        "1.sort according to length\n"
      ]
    },
    {
      "cell_type": "code",
      "execution_count": null,
      "metadata": {
        "colab": {
          "base_uri": "https://localhost:8080/"
        },
        "id": "DDxqkR9VkyZY",
        "outputId": "e7a8b2a4-d22a-404d-b682-dddb0ff22847"
      },
      "outputs": [
        {
          "name": "stdout",
          "output_type": "stream",
          "text": [
            "['at', 'car', 'flask', 'thanks']\n"
          ]
        }
      ],
      "source": [
        "\n",
        "x=['flask','car','at','thanks']\n",
        "for i in range(len(x)):\n",
        "  for j in range(len(x)):\n",
        "    if len(x[i])<len(x[j]):\n",
        "      x[i],x[j]=x[j],x[i]\n",
        "print(x)"
      ]
    },
    {
      "cell_type": "code",
      "execution_count": null,
      "metadata": {
        "colab": {
          "base_uri": "https://localhost:8080/"
        },
        "id": "4J84DzM1zu1x",
        "outputId": "fcfbde27-d317-4b23-b1f0-d7ff37c22f08"
      },
      "outputs": [
        {
          "name": "stdout",
          "output_type": "stream",
          "text": [
            "[('xyz', 10), ('abc', 11), ('pqr', 12)]\n"
          ]
        }
      ],
      "source": [
        "x=[('pqr',12),('abc',11),('xyz',10)]\n",
        "for i in range(len(x)):\n",
        "  for j in range(i+1,len(x)):\n",
        "    if x[i][1]>x[j][1]:\n",
        "      x[i],x[j]=x[j],x[i]\n",
        "print(x)"
      ]
    },
    {
      "cell_type": "markdown",
      "metadata": {
        "id": "Zwvp3YEsyCmP"
      },
      "source": [
        "\n",
        "\n",
        "**2.sort without using sort method**"
      ]
    },
    {
      "cell_type": "code",
      "execution_count": null,
      "metadata": {
        "colab": {
          "base_uri": "https://localhost:8080/"
        },
        "id": "jxMcx0krxl-y",
        "outputId": "45886754-ce2c-4f39-ed3c-dd9a0be7bd80"
      },
      "outputs": [
        {
          "name": "stdout",
          "output_type": "stream",
          "text": [
            "[2, 5, 7, 12, 21, 32, 34]\n"
          ]
        }
      ],
      "source": [
        "lst=[2,32,5,21,12,34,7]\n",
        "for i in range(len(lst)):\n",
        "  for j in range(len(lst)):\n",
        "    if lst[i]<lst[j]:\n",
        "      lst[i],lst[j]=lst[j],lst[i]\n",
        "print(lst)"
      ]
    },
    {
      "cell_type": "code",
      "execution_count": null,
      "metadata": {
        "colab": {
          "base_uri": "https://localhost:8080/"
        },
        "id": "aS6FKD0_zFZX",
        "outputId": "8c418c3c-b3e3-4957-ce3d-1402ae4aca91"
      },
      "outputs": [
        {
          "name": "stdout",
          "output_type": "stream",
          "text": [
            "[2, 5, 7, 12, 21, 32, 34]\n"
          ]
        }
      ],
      "source": [
        "# 2nd method\n",
        "lst=[2,32,5,21,12,34,7]\n",
        "lst.sort()\n",
        "print(lst)"
      ]
    },
    {
      "cell_type": "markdown",
      "metadata": {
        "id": "8izJ4YVlaVpX"
      },
      "source": [
        "**3.reversed a list **"
      ]
    },
    {
      "cell_type": "code",
      "execution_count": null,
      "metadata": {
        "colab": {
          "base_uri": "https://localhost:8080/"
        },
        "id": "XACaMPXRzbhW",
        "outputId": "001746ef-87e9-4134-b9aa-0df31709d906"
      },
      "outputs": [
        {
          "name": "stdout",
          "output_type": "stream",
          "text": [
            "[40, 30, 20, 10]\n"
          ]
        }
      ],
      "source": [
        "a=[10,20,30,40]\n",
        "a.reverse()\n",
        "print(a)"
      ]
    },
    {
      "cell_type": "code",
      "execution_count": null,
      "metadata": {
        "colab": {
          "base_uri": "https://localhost:8080/"
        },
        "id": "LSEGT_27ari-",
        "outputId": "446ca1bb-f214-4b25-8378-6194b69a026c"
      },
      "outputs": [
        {
          "name": "stdout",
          "output_type": "stream",
          "text": [
            "[40, 30, 20, 10]\n"
          ]
        }
      ],
      "source": [
        "a=[10,20,30,40]\n",
        "a=a[::-1]\n",
        "print(a)"
      ]
    },
    {
      "cell_type": "markdown",
      "metadata": {
        "id": "dQuANyaxb57l"
      },
      "source": [
        "**4. concatent two list**"
      ]
    },
    {
      "cell_type": "code",
      "execution_count": null,
      "metadata": {
        "colab": {
          "base_uri": "https://localhost:8080/"
        },
        "id": "HJEQAEXHaxAC",
        "outputId": "c0ec6a23-4677-4388-cf90-1c3fa97a92e1"
      },
      "outputs": [
        {
          "name": "stdout",
          "output_type": "stream",
          "text": [
            "['My', 'name', 'is', 'rashida']\n"
          ]
        }
      ],
      "source": [
        "list1 = [\"M\", \"na\", \"i\", \"ras\"]\n",
        "list2 = [\"y\", \"me\", \"s\", \"hida\"]\n",
        "list3=[i+j for i,j in zip(list1,list2)]\n",
        "print(list3)"
      ]
    },
    {
      "cell_type": "code",
      "execution_count": null,
      "metadata": {
        "colab": {
          "base_uri": "https://localhost:8080/"
        },
        "id": "2H3BNGtPf2sK",
        "outputId": "5a774936-39dc-441d-c2d5-501d34fa7f3e"
      },
      "outputs": [
        {
          "name": "stdout",
          "output_type": "stream",
          "text": [
            "[6, 8, 10, 12]\n"
          ]
        }
      ],
      "source": [
        "l1=[1,2,3,4]\n",
        "l2=[5,6,7,8]\n",
        "l3=[i+j for i,j in zip(l1,l2)]\n",
        "print(l3)"
      ]
    },
    {
      "cell_type": "markdown",
      "metadata": {
        "id": "AFInF1QMd17-"
      },
      "source": [
        "**5.find the 2nd highest number in the list**"
      ]
    },
    {
      "cell_type": "code",
      "execution_count": null,
      "metadata": {
        "colab": {
          "base_uri": "https://localhost:8080/"
        },
        "id": "0YE_9nG1cVQw",
        "outputId": "a04e7102-6442-4dc6-a945-b4bda06f4b89"
      },
      "outputs": [
        {
          "name": "stdout",
          "output_type": "stream",
          "text": [
            "[2, 3, 4, 12, 23, 24, 43, 44, 55, 56, 67]\n",
            "this is second highest number 56\n"
          ]
        }
      ],
      "source": [
        "lst=[2,12,3,4,43,23,56,44,24,67,55]\n",
        "for i in range(len(lst)):\n",
        "  for j in range(len(lst)):\n",
        "    if lst[i]<lst[j]:\n",
        "      lst[i],lst[j]=lst[j],lst[i]\n",
        "print(lst)\n",
        "print('this is second highest number',lst[-2])"
      ]
    },
    {
      "cell_type": "code",
      "execution_count": null,
      "metadata": {
        "colab": {
          "base_uri": "https://localhost:8080/"
        },
        "id": "JyrTsJkLfhGt",
        "outputId": "791329ae-ecd3-4fe0-c51b-58e4be25b635"
      },
      "outputs": [
        {
          "name": "stdout",
          "output_type": "stream",
          "text": [
            "[2, 3, 4, 12, 23, 24, 43, 44, 55, 56, 67]\n",
            "2nd largest number is  56\n"
          ]
        }
      ],
      "source": [
        "lst=[2,12,3,4,43,23,56,44,24,67,55]\n",
        "lst.sort()\n",
        "print(lst)\n",
        "print('2nd largest number is ',lst[-2])"
      ]
    },
    {
      "cell_type": "code",
      "execution_count": null,
      "metadata": {
        "colab": {
          "base_uri": "https://localhost:8080/"
        },
        "id": "vvB1eO4CdM-O",
        "outputId": "80ac512c-939b-4265-a34a-4b4e3b1ead0a"
      },
      "outputs": [
        {
          "name": "stdout",
          "output_type": "stream",
          "text": [
            "this is highest number in the list 67\n"
          ]
        }
      ],
      "source": [
        "lst=[2,12,3,4,43,23,56,44,24,67,55]\n",
        "ls=0\n",
        "for i in lst:\n",
        "  if i>ls:\n",
        "    ls=i\n",
        "print('this is highest number in the list',ls)\n"
      ]
    },
    {
      "cell_type": "markdown",
      "metadata": {
        "id": "ZIN4IV4xktg8"
      },
      "source": [
        "**29/9/2023**"
      ]
    },
    {
      "cell_type": "markdown",
      "metadata": {
        "id": "ob9W_OOVuu-L"
      },
      "source": [
        "**`1.capitalized first character in string**"
      ]
    },
    {
      "cell_type": "code",
      "execution_count": null,
      "metadata": {
        "colab": {
          "base_uri": "https://localhost:8080/"
        },
        "id": "mOYhHJ1qe8XL",
        "outputId": "0086f44b-8132-4ace-b2ae-f6b13d3c8661"
      },
      "outputs": [
        {
          "name": "stdout",
          "output_type": "stream",
          "text": [
            "Rashida\n"
          ]
        }
      ],
      "source": [
        "x='rashida'\n",
        "s=x.capitalize()\n",
        "print(s)"
      ]
    },
    {
      "cell_type": "code",
      "execution_count": null,
      "metadata": {
        "colab": {
          "base_uri": "https://localhost:8080/"
        },
        "id": "7Dlm9fEWu2NY",
        "outputId": "e19017d6-abf2-4764-8d70-0ad24194a1b5"
      },
      "outputs": [
        {
          "name": "stdout",
          "output_type": "stream",
          "text": [
            "Rashida\n"
          ]
        }
      ],
      "source": [
        "x='rashida'\n",
        "y=x[0].upper()\n",
        "# print(y)\n",
        "x=x.replace('r',y)\n",
        "print(x)"
      ]
    },
    {
      "cell_type": "markdown",
      "metadata": {
        "id": "MpSCFIsdzBx7"
      },
      "source": [
        "**2.Swap two tuples in Python**"
      ]
    },
    {
      "cell_type": "code",
      "execution_count": null,
      "metadata": {
        "colab": {
          "base_uri": "https://localhost:8080/"
        },
        "id": "Xi1lo4gWvxPN",
        "outputId": "44b14922-9fed-403d-cc8b-a516644fa5e3"
      },
      "outputs": [
        {
          "name": "stdout",
          "output_type": "stream",
          "text": [
            "[11, 12] [99, 88]\n"
          ]
        }
      ],
      "source": [
        "x=[99,88]\n",
        "y=[11,12]\n",
        "x,y=y,x\n",
        "print(x,y)"
      ]
    },
    {
      "cell_type": "markdown",
      "metadata": {
        "id": "KA4uwMMJ09al"
      },
      "source": [
        "**3.concatenet two list index wise**"
      ]
    },
    {
      "cell_type": "code",
      "execution_count": null,
      "metadata": {
        "colab": {
          "base_uri": "https://localhost:8080/"
        },
        "id": "dKI_hmX7zKe9",
        "outputId": "e2eb68c1-c2da-4a65-d4b8-f56bfb158b14"
      },
      "outputs": [
        {
          "name": "stdout",
          "output_type": "stream",
          "text": [
            "[12, 14]\n"
          ]
        }
      ],
      "source": [
        "x=[1,2]\n",
        "y=[11,12]\n",
        "z=[i+j for i,j in zip(x,y)]\n",
        "print(z)"
      ]
    },
    {
      "cell_type": "code",
      "execution_count": null,
      "metadata": {
        "colab": {
          "base_uri": "https://localhost:8080/"
        },
        "id": "QQwqUtBd1F1c",
        "outputId": "dd2d878c-7f5f-400b-bedf-b769a88cdc14"
      },
      "outputs": [
        {
          "name": "stdout",
          "output_type": "stream",
          "text": [
            "[7, 10, 7]\n"
          ]
        }
      ],
      "source": [
        "l1 = [2,4,3]\n",
        "l2 = [5,6,4]\n",
        "l3=[]\n",
        "for i in range(3):\n",
        "  l3.append(l1[i]+l2[i])\n",
        "print(l3)"
      ]
    },
    {
      "cell_type": "markdown",
      "metadata": {
        "id": "6cC3rlJR3X5y"
      },
      "source": [
        "**4.question**"
      ]
    },
    {
      "cell_type": "code",
      "execution_count": null,
      "metadata": {
        "colab": {
          "base_uri": "https://localhost:8080/"
        },
        "id": "QXD9cP2hzlP8",
        "outputId": "8c102724-28ef-49db-98ca-6835fe3eeb3d"
      },
      "outputs": [
        {
          "name": "stdout",
          "output_type": "stream",
          "text": [
            "{'abc': 1, 'xyz': 3, 'str': 5}\n"
          ]
        }
      ],
      "source": [
        "a={'abc':1,'pqr':2,'xyz':3,'lmn':4,'str':5}\n",
        "lst=['abc','xyz','str']\n",
        "y={}\n",
        "for i in lst:\n",
        "  if i in a:\n",
        "    y[i]=a[i]\n",
        "print(y)"
      ]
    },
    {
      "cell_type": "markdown",
      "metadata": {
        "id": "4R441PNi3wfV"
      },
      "source": [
        "**5th question**"
      ]
    },
    {
      "cell_type": "code",
      "execution_count": null,
      "metadata": {
        "colab": {
          "base_uri": "https://localhost:8080/"
        },
        "id": "03eHTnzW3Slo",
        "outputId": "bef69044-7ff6-41fe-e4ab-77163565b75a"
      },
      "outputs": [
        {
          "name": "stdout",
          "output_type": "stream",
          "text": [
            "['sAdique', 'junAID', 'suFiyaN', 'Ashraf']\n"
          ]
        }
      ],
      "source": [
        "a=[\"sAdiquE\",\"junAId\",\"suFiyan\",\"AshraF\"]\n",
        "for i in range(len(a)):\n",
        "      if a[i][-1].isupper():\n",
        "        b=a[i][-1].lower()\n",
        "        a[i]=a[i][:-1]+b\n",
        "\n",
        "      else:\n",
        "          b=a[i][-1].upper()\n",
        "          a[i]=a[i][:-1]+b\n",
        "print(a)"
      ]
    },
    {
      "cell_type": "code",
      "execution_count": null,
      "metadata": {
        "colab": {
          "base_uri": "https://localhost:8080/"
        },
        "id": "dQyXN9Yu3zM2",
        "outputId": "36dd8a6c-6d22-4456-da31-97697d73b3a5"
      },
      "outputs": [
        {
          "name": "stdout",
          "output_type": "stream",
          "text": [
            "{'a': 3, 'b': 2, 'c': 4, 'd': 1}\n"
          ]
        }
      ],
      "source": [
        "x=\"aaabbccccd\"\n",
        "y={}\n",
        "for i in x:\n",
        "  if i in y:\n",
        "    y[i]+=1\n",
        "  else:\n",
        "      y[i]=1\n",
        "print(y)"
      ]
    },
    {
      "cell_type": "markdown",
      "metadata": {
        "id": "eBiQvUc_NeL1"
      },
      "source": [
        "**30/09/2023**"
      ]
    },
    {
      "cell_type": "markdown",
      "metadata": {
        "id": "lqvmJv_9bNBg"
      },
      "source": [
        "**1st question**"
      ]
    },
    {
      "cell_type": "code",
      "execution_count": null,
      "metadata": {
        "colab": {
          "base_uri": "https://localhost:8080/"
        },
        "id": "Fe8b096hEttr",
        "outputId": "1b2dc4cc-b008-4661-baa5-536ddd394971"
      },
      "outputs": [
        {
          "name": "stdout",
          "output_type": "stream",
          "text": [
            "['VW', 'BMW', 'car', 'Ford', 'Mitsubishi']\n"
          ]
        }
      ],
      "source": [
        "cars = ['car','Mitsubishi', 'BMW', 'VW', 'Ford']\n",
        "for i in range(len(cars)):\n",
        "  for j in range(len(cars)):\n",
        "    if len(cars[i])<len(cars[j]):\n",
        "      cars[i],cars[j]=cars[j],cars[i]\n",
        "print(cars)"
      ]
    },
    {
      "cell_type": "markdown",
      "metadata": {
        "id": "wv2E0Ad7bRLs"
      },
      "source": [
        "**2nd question**"
      ]
    },
    {
      "cell_type": "code",
      "execution_count": null,
      "metadata": {
        "colab": {
          "base_uri": "https://localhost:8080/"
        },
        "id": "jJYCdbisFCx1",
        "outputId": "73393dbf-de61-49df-9c8d-4398fcbccaf1"
      },
      "outputs": [
        {
          "name": "stdout",
          "output_type": "stream",
          "text": [
            "['apple', 'banana', 'mango']\n"
          ]
        }
      ],
      "source": [
        "x=['apple','banana','cherry','kiwi','mango']\n",
        "n=[y for y in x if 'a' in y]\n",
        "print(n)"
      ]
    },
    {
      "cell_type": "markdown",
      "metadata": {
        "id": "qMHm9CLAblaW"
      },
      "source": [
        "**3rd question**"
      ]
    },
    {
      "cell_type": "code",
      "execution_count": null,
      "metadata": {
        "colab": {
          "base_uri": "https://localhost:8080/"
        },
        "id": "z2yYULdKaBsn",
        "outputId": "be755be1-e4ba-46a7-c775-92c3c98dec71"
      },
      "outputs": [
        {
          "name": "stdout",
          "output_type": "stream",
          "text": [
            "check number present or not:5\n",
            "number is present\n"
          ]
        }
      ],
      "source": [
        "lst=[2,3,4,5,6,12,11,33,22]\n",
        "number=int(input('check number present or not:'))\n",
        "if number in lst:\n",
        "  print('number is present')\n",
        "else:\n",
        "  print('number is not present')"
      ]
    },
    {
      "cell_type": "markdown",
      "metadata": {
        "id": "BYmHD-WciNLQ"
      },
      "source": [
        "**4th question**"
      ]
    },
    {
      "cell_type": "code",
      "execution_count": null,
      "metadata": {
        "colab": {
          "base_uri": "https://localhost:8080/"
        },
        "id": "XodkA6CNcNBf",
        "outputId": "0f2249d4-1809-4315-aa83-0897ba589d5e"
      },
      "outputs": [
        {
          "name": "stdout",
          "output_type": "stream",
          "text": [
            "[2, 1, 4, 3, 6, 5]\n"
          ]
        }
      ],
      "source": [
        "lst = [1,2,3,4,5,6]\n",
        "for i in range(0,len(lst),2):\n",
        "  lst[i],lst[i+1]=lst[i+1],lst[i]\n",
        "print(lst)\n"
      ]
    },
    {
      "cell_type": "code",
      "execution_count": null,
      "metadata": {
        "colab": {
          "base_uri": "https://localhost:8080/"
        },
        "id": "QoSB6sethhsH",
        "outputId": "211b8c2a-8064-4d43-ffa5-41ebf314f018"
      },
      "outputs": [
        {
          "name": "stdout",
          "output_type": "stream",
          "text": [
            "['zobia', 'rashida', 'heena', 'anam']\n"
          ]
        }
      ],
      "source": [
        "lst=['rashida','zobia','anam','heena']\n",
        "for i in range(0,len(lst),2):\n",
        "  lst[i],lst[i+1]=lst[i+1],lst[i]\n",
        "print(lst)\n"
      ]
    },
    {
      "cell_type": "markdown",
      "metadata": {
        "id": "sHTd6MdngNHW"
      },
      "source": [
        "**03/10/2023**"
      ]
    },
    {
      "cell_type": "markdown",
      "metadata": {
        "id": "PmMrLdwmrHGb"
      },
      "source": [
        "**question 1. find the largest number in dictionary**"
      ]
    },
    {
      "cell_type": "code",
      "execution_count": null,
      "metadata": {
        "colab": {
          "base_uri": "https://localhost:8080/"
        },
        "id": "hCP89qmzg972",
        "outputId": "d0a9f196-aa7c-43f0-ba66-8ea3b5a05716"
      },
      "outputs": [
        {
          "name": "stdout",
          "output_type": "stream",
          "text": [
            "32\n"
          ]
        }
      ],
      "source": [
        "d={'rajnish': 9, 'ravi': 10, 'sanjeev': 15, 'suraj': 32, 'yash': 2}\n",
        "x=0\n",
        "\n",
        "for i in d:\n",
        "  if d[i]>x:\n",
        "    x=d[i]\n",
        "\n",
        "print(x)"
      ]
    },
    {
      "cell_type": "markdown",
      "metadata": {
        "id": "0jo7OSOLrKrj"
      },
      "source": [
        "**question 2**"
      ]
    },
    {
      "cell_type": "code",
      "execution_count": null,
      "metadata": {
        "colab": {
          "base_uri": "https://localhost:8080/"
        },
        "id": "jFLH3nQ0jIF6",
        "outputId": "3b0716fd-1c0b-42d9-8993-ee12ff843546"
      },
      "outputs": [
        {
          "name": "stdout",
          "output_type": "stream",
          "text": [
            "6\n"
          ]
        }
      ],
      "source": [
        "x=[1,4,2,6]\n",
        "y=0\n",
        "for i in x:\n",
        "  if i >y:\n",
        "    y=i\n",
        "print(y)\n"
      ]
    },
    {
      "cell_type": "markdown",
      "metadata": {
        "id": "CZV2PGlArN_R"
      },
      "source": [
        "**question 3. find the largest number with key in dictionary**\n",
        "\n",
        "---\n",
        "\n",
        "\n",
        "\n",
        "---\n",
        "\n"
      ]
    },
    {
      "cell_type": "code",
      "execution_count": null,
      "metadata": {
        "colab": {
          "base_uri": "https://localhost:8080/"
        },
        "id": "X0bgZhvijsnR",
        "outputId": "4fb1dcda-28ca-47d9-a1bc-75687ab25972"
      },
      "outputs": [
        {
          "name": "stdout",
          "output_type": "stream",
          "text": [
            "suraj 32\n"
          ]
        }
      ],
      "source": [
        "d={'rajnish': 9, 'ravi': 10, 'sanjeev': 15, 'suraj': 32, 'yash': 2}\n",
        "x=0\n",
        "a=\"\"\n",
        "for i in d:\n",
        "  if d[i]>x:\n",
        "    x=d[i]\n",
        "    a=i\n",
        "print(a,x)"
      ]
    },
    {
      "cell_type": "markdown",
      "metadata": {
        "id": "bY2hjPMUrRc6"
      },
      "source": [
        "**`question 4 .Sort Dictionary By Key`**"
      ]
    },
    {
      "cell_type": "code",
      "execution_count": null,
      "metadata": {
        "colab": {
          "base_uri": "https://localhost:8080/"
        },
        "id": "8ffa8OnLjuYZ",
        "outputId": "e0726950-16b8-4a06-df4f-f344bf76f6e0"
      },
      "outputs": [
        {
          "name": "stdout",
          "output_type": "stream",
          "text": [
            "{'rajnish': 9, 'ravi': 10, 'sanjeev': 15, 'suraj': 32, 'yash': 2}\n"
          ]
        }
      ],
      "source": [
        "dl={'ravi': 10, 'rajnish': 9,'sanjeev': 15, 'yash': 2, 'suraj': 32}\n",
        "s = list(dl.keys())\n",
        "s.sort()\n",
        "z={i:dl[i]for i in s}\n",
        "print(z)"
      ]
    },
    {
      "cell_type": "markdown",
      "metadata": {
        "id": "PO1vVRw_DC8S"
      },
      "source": [
        "**5.sort dictinary values**"
      ]
    },
    {
      "cell_type": "code",
      "execution_count": null,
      "metadata": {
        "colab": {
          "base_uri": "https://localhost:8080/"
        },
        "id": "RJZxZZDgrYb3",
        "outputId": "eed290cd-1b05-4c8d-9b73-46a5875ddc34"
      },
      "outputs": [
        {
          "name": "stdout",
          "output_type": "stream",
          "text": [
            "[2, 9, 10, 15, 32]\n"
          ]
        }
      ],
      "source": [
        "dl={'ravi': 10, 'rajnish': 9,'sanjeev': 15, 'yash': 2, 'suraj': 32}\n",
        "x=sorted(dl.values())\n",
        "print(x)"
      ]
    },
    {
      "cell_type": "code",
      "execution_count": null,
      "metadata": {
        "colab": {
          "base_uri": "https://localhost:8080/"
        },
        "id": "lp-g0ACdCvBp",
        "outputId": "b213a9e7-4cd0-4bdb-f743-6b4346cd117c"
      },
      "outputs": [
        {
          "name": "stdout",
          "output_type": "stream",
          "text": [
            "['rajnish', 'ravi', 'sanjeev', 'suraj', 'yash']\n"
          ]
        }
      ],
      "source": [
        "dl={'ravi': 10, 'rajnish': 9,'sanjeev': 15, 'yash': 2, 'suraj': 32}\n",
        "x=sorted(dl.keys())\n",
        "print(x)"
      ]
    },
    {
      "cell_type": "markdown",
      "metadata": {
        "id": "UNSJ2kPxGfzR"
      },
      "source": [
        "**6.sort dictionary keys without using sort method**"
      ]
    },
    {
      "cell_type": "code",
      "execution_count": null,
      "metadata": {
        "colab": {
          "base_uri": "https://localhost:8080/"
        },
        "id": "7wdAQvF2GlCS",
        "outputId": "61b4b352-392e-4d21-8a8b-027ffc32370f"
      },
      "outputs": [
        {
          "name": "stdout",
          "output_type": "stream",
          "text": [
            "['rajnish', 'ravi', 'sanjeev', 'suraj', 'yash']\n",
            "{'rajnish': 9, 'ravi': 10, 'sanjeev': 15, 'suraj': 32, 'yash': 2}\n"
          ]
        }
      ],
      "source": [
        "x = {'ravi': 10, 'rajnish': 9,'sanjeev': 15, 'yash': 2, 'suraj': 32}\n",
        "\n",
        "y=list(x.keys())\n",
        "# print(y)\n",
        "z={}\n",
        "for i in range(len(y)):\n",
        "  for j in range(i,len(y)):\n",
        "    if y[i]>y[j]:\n",
        "      y[i],y[j]=y[j],y[i]\n",
        "\n",
        "print(y)\n",
        "for i in y:\n",
        "  z[i]=x[i]\n",
        "print(z)\n",
        "\n"
      ]
    },
    {
      "cell_type": "markdown",
      "metadata": {
        "id": "H1BtUAH3GwM6"
      },
      "source": [
        "**7. sort dictionary values without using sort method**"
      ]
    },
    {
      "cell_type": "code",
      "execution_count": null,
      "metadata": {
        "colab": {
          "base_uri": "https://localhost:8080/"
        },
        "id": "yweUbDEdG1-j",
        "outputId": "8be0e79a-fa76-473a-acbd-22074e27f9f6"
      },
      "outputs": [
        {
          "name": "stdout",
          "output_type": "stream",
          "text": [
            "{'ravi': 2, 'rajnish': 9, 'sanjeev': 10, 'yash': 15, 'suraj': 32}\n"
          ]
        }
      ],
      "source": [
        "x = {'ravi': 10, 'rajnish': 9,'sanjeev': 15, 'yash': 2, 'suraj': 32}\n",
        "\n",
        "for i in x:\n",
        "  for j in x:\n",
        "    if x[i]<x[j]:\n",
        "      x[i],x[j]=x[j],x[i]\n",
        "\n",
        "print(x)\n"
      ]
    },
    {
      "cell_type": "markdown",
      "metadata": {
        "id": "FJIoaA0RDI6O"
      },
      "source": [
        "**04/10/2023**"
      ]
    },
    {
      "cell_type": "markdown",
      "metadata": {
        "id": "LBCP9eI7HFgQ"
      },
      "source": [
        "**1. merge two dictionary**"
      ]
    },
    {
      "cell_type": "code",
      "execution_count": null,
      "metadata": {
        "colab": {
          "base_uri": "https://localhost:8080/"
        },
        "id": "GJGQf281C8x5",
        "outputId": "54e72dc1-da07-40c5-a659-beff69934a2f"
      },
      "outputs": [
        {
          "name": "stdout",
          "output_type": "stream",
          "text": [
            "{'a': 10, 'b': 8, 'd': 6, 'c': 4}\n"
          ]
        }
      ],
      "source": [
        "dict1 = {'a': 10, 'b': 8}\n",
        "dict2 = {'d': 6, 'c': 4}\n",
        "dict1.update(dict2)\n",
        "print(dict1)"
      ]
    },
    {
      "cell_type": "code",
      "execution_count": null,
      "metadata": {
        "colab": {
          "base_uri": "https://localhost:8080/"
        },
        "id": "NFLVEpHKg_B5",
        "outputId": "f6974e16-100b-491c-f913-f28acdf74228"
      },
      "outputs": [
        {
          "name": "stdout",
          "output_type": "stream",
          "text": [
            "{'a': 10, 'b': 8, 'd': 6, 'c': 4}\n"
          ]
        }
      ],
      "source": [
        "dict1 = {'a': 10, 'b': 8}\n",
        "dict2 = {'d': 6, 'c': 4}\n",
        "dict3=dict1.copy()\n",
        "dict3.update(dict2)\n",
        "print(dict3)"
      ]
    },
    {
      "cell_type": "markdown",
      "metadata": {
        "id": "ih1-nYshJnMh"
      },
      "source": [
        "**question 2**"
      ]
    },
    {
      "cell_type": "code",
      "execution_count": null,
      "metadata": {
        "colab": {
          "base_uri": "https://localhost:8080/"
        },
        "id": "BL9Xq0qjHQMa",
        "outputId": "8263a5f7-99ed-463c-875d-438f4e478fd0"
      },
      "outputs": [
        {
          "name": "stdout",
          "output_type": "stream",
          "text": [
            "[1, 2, 3, 0, 0]\n"
          ]
        }
      ],
      "source": [
        "x=[0,1,0,3,2]\n",
        "for i in range(len(x)):\n",
        "  for j in range(len(x)):\n",
        "    if x[i]<x[j]:\n",
        "      x[i],x[j]=x[j],x[i]\n",
        "c=x.count(0)\n",
        "for i in range(c):\n",
        "  x.remove(0)\n",
        "  x.append(0)\n",
        "print(x)"
      ]
    },
    {
      "cell_type": "code",
      "execution_count": null,
      "metadata": {
        "colab": {
          "base_uri": "https://localhost:8080/"
        },
        "id": "WkWV5jRJHor0",
        "outputId": "75ce3956-7141-476b-cbcf-658890d51a13"
      },
      "outputs": [
        {
          "name": "stdout",
          "output_type": "stream",
          "text": [
            "[1, 3, 2, 0, 0]\n"
          ]
        }
      ],
      "source": [
        "x=[0,1,0,3,2]\n",
        "c=x.count(0)\n",
        "for i in range(c):\n",
        "  x.remove(0)\n",
        "  x.append(0)\n",
        "print(x)\n"
      ]
    },
    {
      "cell_type": "markdown",
      "metadata": {
        "id": "J3fTdeAHMG4O"
      },
      "source": [
        "**question 3.**"
      ]
    },
    {
      "cell_type": "code",
      "execution_count": null,
      "metadata": {
        "colab": {
          "base_uri": "https://localhost:8080/"
        },
        "id": "zs0giLqrJcd5",
        "outputId": "8a93df64-0de0-4194-bf12-a00bdf16ed31"
      },
      "outputs": [
        {
          "name": "stdout",
          "output_type": "stream",
          "text": [
            "{'a': 3, 'b': 2, 'c': 4, 'd': 1}\n",
            "a3b2c4d1\n"
          ]
        }
      ],
      "source": [
        "x=\"aaabbccccd\"\n",
        "y={}\n",
        "s=''\n",
        "for i in x:\n",
        "  if i in y:\n",
        "    y[i]+=1\n",
        "  else:\n",
        "      y[i]=1\n",
        "print(y)\n",
        "\n",
        "for k,v in y.items():\n",
        "  s1=k+str(v)\n",
        "  s+=''.join(s1)\n",
        "print(s)"
      ]
    },
    {
      "cell_type": "markdown",
      "metadata": {
        "id": "MO-0DI-1antZ"
      },
      "source": [
        "***question 4.check whether a given key already exists in a dictionary.***"
      ]
    },
    {
      "cell_type": "code",
      "execution_count": null,
      "metadata": {
        "colab": {
          "base_uri": "https://localhost:8080/"
        },
        "id": "0I0g-4fNMLgV",
        "outputId": "bb201689-6ac7-4f44-ce19-710b5e6317f1"
      },
      "outputs": [
        {
          "name": "stdout",
          "output_type": "stream",
          "text": [
            "key is not present in dict\n"
          ]
        }
      ],
      "source": [
        "d = {1: 10, 2: 20, 3: 30, 4: 40, 5: 50, 6: 60}\n",
        "def key_present(x):\n",
        "  if x in d:\n",
        "    print('key is present in dictionary')\n",
        "  else:\n",
        "    print('key is not present in dict')\n",
        "key_present(8)\n"
      ]
    },
    {
      "cell_type": "markdown",
      "metadata": {
        "id": "UU7ImyiwhxoL"
      },
      "source": [
        "**question 5. remove duplicates from the dictionary.**"
      ]
    },
    {
      "cell_type": "code",
      "execution_count": null,
      "metadata": {
        "colab": {
          "base_uri": "https://localhost:8080/"
        },
        "id": "5tBVSNuvbEPx",
        "outputId": "82d5667e-029e-4f96-bcc3-3dbcabb3cf84"
      },
      "outputs": [
        {
          "name": "stdout",
          "output_type": "stream",
          "text": [
            "{'id1': {'name': ['Sara'], 'class': ['V'], 'subject_integration': ['english, math, science']}, 'id2': {'name': ['David'], 'class': ['V'], 'subject_integration': ['english, math, science']}, 'id3': {'name': ['Sara'], 'class': ['V'], 'subject_integration': ['english', 'math', 'science']}, 'id4': {'name': ['Surya'], 'class': ['V'], 'subject_integration': ['english, math, science']}}\n"
          ]
        }
      ],
      "source": [
        "student_data = {'id1':\n",
        "   {'name': ['Sara'],\n",
        "    'class': ['V'],\n",
        "    'subject_integration': ['english, math, science']\n",
        "   },\n",
        " 'id2':\n",
        "  {'name': ['David'],\n",
        "    'class': ['V'],\n",
        "    'subject_integration': ['english, math, science']\n",
        "   },\n",
        " 'id3':\n",
        "    {'name': ['Sara'],\n",
        "    'class': ['V'],\n",
        "    'subject_integration': ['english', 'math', 'science']\n",
        "   },\n",
        " 'id4':\n",
        "   {'name': ['Surya'],\n",
        "    'class': ['V'],\n",
        "    'subject_integration': ['english, math, science']\n",
        "   },\n",
        "}\n",
        "\n",
        "result = {}\n",
        "\n",
        "for key,value in student_data.items():\n",
        "    if value not in result.values():\n",
        "        result[key] = value\n",
        "\n",
        "print(result)"
      ]
    },
    {
      "cell_type": "code",
      "execution_count": null,
      "metadata": {
        "colab": {
          "base_uri": "https://localhost:8080/"
        },
        "id": "CQuMOdx8h1o-",
        "outputId": "c415ee1a-a0ef-418d-b56b-a85949454679"
      },
      "outputs": [
        {
          "name": "stdout",
          "output_type": "stream",
          "text": [
            "David\n",
            "V\n",
            "english, math, science\n",
            "Sara\n",
            "math\n"
          ]
        }
      ],
      "source": [
        "print(student_data['id2']['name'][0])\n",
        "print(student_data['id2']['class'][0])\n",
        "print(student_data['id4']['subject_integration'][0])\n",
        "print(student_data['id3']['name'][0])\n",
        "print(student_data['id3']['subject_integration'][1])\n"
      ]
    },
    {
      "cell_type": "markdown",
      "metadata": {
        "id": "inLFGfoxR8K4"
      },
      "source": [
        "**06/10/23**"
      ]
    },
    {
      "cell_type": "markdown",
      "metadata": {
        "id": "XJU02aYeSzUS"
      },
      "source": [
        "**find the highest 3 values of corresponding keys in a dictionary.**"
      ]
    },
    {
      "cell_type": "code",
      "execution_count": null,
      "metadata": {
        "colab": {
          "base_uri": "https://localhost:8080/"
        },
        "id": "4kiFGQvYjuoY",
        "outputId": "da3a9974-dd25-4252-82e9-97906e5dd15c"
      },
      "outputs": [
        {
          "name": "stdout",
          "output_type": "stream",
          "text": [
            "b 587\n",
            "c 560\n",
            "e 5874\n"
          ]
        }
      ],
      "source": [
        "d= {'a':500, 'b':587, 'c': 560,'d':400, 'e':5874, 'f': 20}\n",
        "d1=sorted(d.values(),reverse=True)[:3]\n",
        "for k in d.keys():\n",
        "  for i in d1:\n",
        "    if d[k]==i:\n",
        "      print(k,d[k])"
      ]
    },
    {
      "cell_type": "code",
      "execution_count": null,
      "metadata": {
        "colab": {
          "base_uri": "https://localhost:8080/"
        },
        "id": "EraAI23iTNqf",
        "outputId": "266f462c-2495-44e4-b5ac-2b36dd4afc1d"
      },
      "outputs": [
        {
          "name": "stdout",
          "output_type": "stream",
          "text": [
            "[2, 1]\n"
          ]
        }
      ],
      "source": [
        "x=[1,2,1]\n",
        "for i in x:\n",
        "  if x.count(i)>1:\n",
        "    x.remove(i)\n",
        "print(x)\n",
        "\n"
      ]
    },
    {
      "cell_type": "code",
      "execution_count": null,
      "metadata": {
        "colab": {
          "base_uri": "https://localhost:8080/"
        },
        "id": "nVWrEw3ukKgz",
        "outputId": "c2fba7e2-a672-4cbf-a410-d8668d2ae404"
      },
      "outputs": [
        {
          "name": "stdout",
          "output_type": "stream",
          "text": [
            "[1, 2]\n"
          ]
        }
      ],
      "source": [
        "x=[1,2,3,1,2]\n",
        "y=[]\n",
        "for i in x:\n",
        "  if x.count(i)>1 and i not in y:\n",
        "    y.append(i)\n",
        "print(y)"
      ]
    },
    {
      "cell_type": "code",
      "execution_count": null,
      "metadata": {
        "colab": {
          "base_uri": "https://localhost:8080/"
        },
        "id": "r3BjalXNkiKE",
        "outputId": "4182eee1-8ccf-4a08-841f-6e137fec802c"
      },
      "outputs": [
        {
          "name": "stdout",
          "output_type": "stream",
          "text": [
            "[1, 3, 2]\n"
          ]
        }
      ],
      "source": [
        "x=[1,2,3,2]\n",
        "for i in x:\n",
        "  if x.count(i)>1:\n",
        "    x.remove(i)\n",
        "print(x)"
      ]
    },
    {
      "cell_type": "code",
      "execution_count": null,
      "metadata": {
        "colab": {
          "base_uri": "https://localhost:8080/"
        },
        "id": "Zre05p4hk0xh",
        "outputId": "4365f982-e9f7-446a-ddc3-be23cf0f11b5"
      },
      "outputs": [
        {
          "name": "stdout",
          "output_type": "stream",
          "text": [
            "[2]\n"
          ]
        }
      ],
      "source": [
        "x=[1,2,3,2]\n",
        "y=[]\n",
        "for i in x:\n",
        "  if x.count(i)>1 and i not in y:\n",
        "    y.append(i)\n",
        "print(y)"
      ]
    },
    {
      "cell_type": "code",
      "execution_count": null,
      "metadata": {
        "colab": {
          "base_uri": "https://localhost:8080/"
        },
        "id": "WeQGplJTlNKI",
        "outputId": "3930039c-d251-4aae-ec2b-0ddcab587315"
      },
      "outputs": [
        {
          "name": "stdout",
          "output_type": "stream",
          "text": [
            "{'rashida': 1, 'zobia': 2, 'n': 1, 'a': 2}\n"
          ]
        }
      ],
      "source": [
        "x={'rashida':1,'zobia':2}\n",
        "y={'n':1,'a':2}\n",
        "z={**x,**y}\n",
        "\n",
        "print(z)"
      ]
    },
    {
      "cell_type": "code",
      "execution_count": null,
      "metadata": {
        "colab": {
          "base_uri": "https://localhost:8080/"
        },
        "id": "KjR2haWqqQpY",
        "outputId": "5ddc54cd-ebef-4eb9-fb32-d7411d99b47b"
      },
      "outputs": [
        {
          "name": "stdout",
          "output_type": "stream",
          "text": [
            "[2, 4, 6, 8]\n"
          ]
        }
      ],
      "source": [
        "l=[i for i in range(1,10) if i%2==0 ]\n",
        "print(l)"
      ]
    },
    {
      "cell_type": "code",
      "execution_count": null,
      "metadata": {
        "colab": {
          "base_uri": "https://localhost:8080/"
        },
        "id": "D7heCgGls6E4",
        "outputId": "86f5d7d8-aa05-426e-d1ca-8573336fdbfc"
      },
      "outputs": [
        {
          "name": "stdout",
          "output_type": "stream",
          "text": [
            "[2, 4, 6, 8, 10, 12, 14, 16, 18]\n"
          ]
        }
      ],
      "source": [
        "l=[i for i in range(1,20) if i%2==0]\n",
        "print(l)"
      ]
    },
    {
      "cell_type": "code",
      "execution_count": null,
      "metadata": {
        "colab": {
          "base_uri": "https://localhost:8080/"
        },
        "id": "ooWbTvgdtI-0",
        "outputId": "1b04d78e-ac35-4345-d836-7e5b37890ffa"
      },
      "outputs": [
        {
          "name": "stdout",
          "output_type": "stream",
          "text": [
            "odd\n"
          ]
        }
      ],
      "source": [
        "x=lambda num: 'even ' if num%2==0 else 'odd'\n",
        "print(x(7))"
      ]
    },
    {
      "cell_type": "code",
      "execution_count": null,
      "metadata": {
        "colab": {
          "base_uri": "https://localhost:8080/"
        },
        "id": "EJXtkaD5tZBk",
        "outputId": "b41d54ba-07e3-4f22-ef86-51e7c2f6152e"
      },
      "outputs": [
        {
          "name": "stdout",
          "output_type": "stream",
          "text": [
            "[1, 12, 21, 432]\n"
          ]
        }
      ],
      "source": [
        "l=[1,21,432,12]\n",
        "for i in range(len(l)):\n",
        "  for j in range(len(l)):\n",
        "    if l[i]<l[j]:\n",
        "      l[i],l[j]=l[j],l[i]\n",
        "print(l)"
      ]
    },
    {
      "cell_type": "markdown",
      "metadata": {
        "id": "rt3ByLl0jhJL"
      },
      "source": [
        "**09/10/2023**"
      ]
    },
    {
      "cell_type": "markdown",
      "metadata": {
        "id": "MI864pwalRzR"
      },
      "source": [
        "**find the highest marks in dictionary**"
      ]
    },
    {
      "cell_type": "code",
      "execution_count": null,
      "metadata": {
        "colab": {
          "base_uri": "https://localhost:8080/"
        },
        "id": "X9z2av00z8Sr",
        "outputId": "ee0b51a3-844e-4b0f-e524-7a1aca7643d8"
      },
      "outputs": [
        {
          "name": "stdout",
          "output_type": "stream",
          "text": [
            "[21, 12, 2, 5]\n",
            "{'rashida', 21}\n"
          ]
        }
      ],
      "source": [
        "dl={'rashida':21,'zobia':12,'heena':2,'anam':5}\n",
        "z=list(dl.values())\n",
        "print(z)\n",
        "for i in range(len(z)):\n",
        "  for j in range(len(z)):\n",
        "    if z[i]<z[j]:\n",
        "      z[i],z[j]=z[j],z[i]\n",
        "# print(z)\n",
        "# print(z[-1])\n",
        "for k,v in dl.items():\n",
        "  if v==z[-1]:\n",
        "    print({k,v})"
      ]
    },
    {
      "cell_type": "code",
      "execution_count": null,
      "metadata": {
        "colab": {
          "base_uri": "https://localhost:8080/"
        },
        "id": "iPZaEXXWygj9",
        "outputId": "567436e2-a826-4b4b-8d78-a756fbcbaa73"
      },
      "outputs": [
        {
          "name": "stdout",
          "output_type": "stream",
          "text": [
            "[21, 12, 2, 5]\n",
            "{'zobia', 12}\n"
          ]
        }
      ],
      "source": [
        "dl={'rashida':21,'zobia':12,'heena':2,'anam':5}\n",
        "z=list(dl.values())\n",
        "print(z)\n",
        "for i in range(len(z)):\n",
        "  for j in range(len(z)):\n",
        "    if z[i]<z[j]:\n",
        "      z[i],z[j]=z[j],z[i]\n",
        "# print(z)\n",
        "# print(z[-1])\n",
        "for k,v in dl.items():\n",
        "  if v==z[-2]:\n",
        "    print({k,v})\n"
      ]
    },
    {
      "cell_type": "markdown",
      "metadata": {
        "id": "0KdsPwhMmCKU"
      },
      "source": [
        "**Sort (ascending and descending) a dictionary by value**\n",
        "\n",
        "\n"
      ]
    },
    {
      "cell_type": "code",
      "execution_count": null,
      "metadata": {
        "colab": {
          "base_uri": "https://localhost:8080/"
        },
        "id": "dAxu1gnkj9Yc",
        "outputId": "753ba0d9-b010-45d5-8317-3f2b8c0ae43b"
      },
      "outputs": [
        {
          "name": "stdout",
          "output_type": "stream",
          "text": [
            "[(11, 2), (13, 4), (14, 3), (12, 1), (10, 0)]\n",
            "[(10, 0), (12, 1), (11, 2), (14, 3), (13, 4)]\n",
            "{10: 0, 12: 1, 11: 2, 14: 3, 13: 4}\n"
          ]
        }
      ],
      "source": [
        "d = {11: 2, 13: 4, 14: 3, 12: 1, 10: 0}\n",
        "x=list(d.items())\n",
        "print(x)\n",
        "for i in range(len(x)):\n",
        "  for j in range(len(x)):\n",
        "    if x[i][1]<x[j][1]:\n",
        "      x[i],x[j]=x[j],x[i]\n",
        "print(x)\n",
        "z=dict(x)\n",
        "print(z)"
      ]
    },
    {
      "cell_type": "markdown",
      "metadata": {
        "id": "Eu4Su2W6yybq"
      },
      "source": [
        "**3rd question desending order by values**"
      ]
    },
    {
      "cell_type": "code",
      "execution_count": null,
      "metadata": {
        "colab": {
          "base_uri": "https://localhost:8080/"
        },
        "id": "YEzQLLR7vr6l",
        "outputId": "b4bf9c65-1060-4b75-d953-9a5aa2113b17"
      },
      "outputs": [
        {
          "name": "stdout",
          "output_type": "stream",
          "text": [
            "[(11, 2), (13, 4), (14, 3), (12, 1), (10, 0)]\n",
            "[(13, 4), (14, 3), (11, 2), (12, 1), (10, 0)]\n",
            "{13: 4, 14: 3, 11: 2, 12: 1, 10: 0}\n"
          ]
        }
      ],
      "source": [
        "# desending order\n",
        "d = {11: 2, 13: 4, 14: 3, 12: 1, 10: 0}\n",
        "x=list(d.items())\n",
        "print(x)\n",
        "for i in range(len(x)):\n",
        "  for j in range(len(x)):\n",
        "    if x[i][1]>x[j][1]:\n",
        "      x[i],x[j]=x[j],x[i]\n",
        "print(x)\n",
        "z=dict(x)\n",
        "print(z)"
      ]
    },
    {
      "cell_type": "markdown",
      "metadata": {
        "id": "ELfCOhWjptWa"
      },
      "source": [
        "**4th add new value in dictionary**"
      ]
    },
    {
      "cell_type": "code",
      "execution_count": null,
      "metadata": {
        "colab": {
          "base_uri": "https://localhost:8080/"
        },
        "id": "m8MTTrltprEc",
        "outputId": "17961f9a-bcce-45bd-af02-eeef71af74e0"
      },
      "outputs": [
        {
          "name": "stdout",
          "output_type": "stream",
          "text": [
            "{0: 10, 1: 20, 2: 1}\n"
          ]
        }
      ],
      "source": [
        "d = {0:10, 1:20}\n",
        "d.update({2:1})\n",
        "print(d)"
      ]
    },
    {
      "cell_type": "code",
      "execution_count": null,
      "metadata": {
        "colab": {
          "base_uri": "https://localhost:8080/"
        },
        "id": "EHVcC3cdmJvp",
        "outputId": "fc680f3c-5047-42df-f5f0-59628d826f45"
      },
      "outputs": [
        {
          "name": "stdout",
          "output_type": "stream",
          "text": [
            "{0: 10, 1: 20, 4: 2}\n"
          ]
        }
      ],
      "source": [
        "d = {0:10, 1:20}\n",
        "d.update(dict({4:2}))\n",
        "print(d)"
      ]
    },
    {
      "cell_type": "markdown",
      "metadata": {
        "id": "6jC0SMN4uJPG"
      },
      "source": [
        "**check whether a given key already exists in a dictionary.**"
      ]
    },
    {
      "cell_type": "code",
      "execution_count": null,
      "metadata": {
        "colab": {
          "base_uri": "https://localhost:8080/"
        },
        "id": "voLwiDW8qk-X",
        "outputId": "1198e6f4-38e2-4140-aec7-e25f8811beef"
      },
      "outputs": [
        {
          "name": "stdout",
          "output_type": "stream",
          "text": [
            "enter your key:6\n",
            "present\n"
          ]
        }
      ],
      "source": [
        "d = {1: 10, 2: 20, 3: 30, 4: 40, 5: 50, 6: 60}\n",
        "x=int(input('enter your key:'))\n",
        "\n",
        "if x in d.keys():\n",
        "  print('present')\n",
        "else:\n",
        "  print('not present')"
      ]
    },
    {
      "cell_type": "markdown",
      "metadata": {
        "id": "gjIAbHTsGGxk"
      },
      "source": [
        "**10/10/2023**"
      ]
    },
    {
      "cell_type": "markdown",
      "metadata": {
        "id": "Wv9YpxuyzRJ9"
      },
      "source": [
        "**sum all the items in a dictionary.**"
      ]
    },
    {
      "cell_type": "code",
      "execution_count": null,
      "metadata": {
        "colab": {
          "base_uri": "https://localhost:8080/"
        },
        "id": "GRN7l-KxuNU3",
        "outputId": "9d764b29-0fa7-44d7-f518-1e38f39527b6"
      },
      "outputs": [
        {
          "name": "stdout",
          "output_type": "stream",
          "text": [
            "[100, -54, 247]\n",
            "293\n"
          ]
        }
      ],
      "source": [
        "y = {'data1':100,'data2':-54,'data3':247}\n",
        "\n",
        "x=list(y.values())\n",
        "print(x)\n",
        "print(sum(x))"
      ]
    },
    {
      "cell_type": "code",
      "execution_count": null,
      "metadata": {
        "colab": {
          "base_uri": "https://localhost:8080/"
        },
        "id": "3Jjho8ZmGdvq",
        "outputId": "b589cbfe-8572-4d49-c308-710fdd19234f"
      },
      "outputs": [
        {
          "name": "stdout",
          "output_type": "stream",
          "text": [
            "100\n",
            "-54\n",
            "247\n"
          ]
        }
      ],
      "source": [
        "y = {'data1':100,'data2':-54,'data3':247}\n",
        "x=0\n",
        "for i in y.values():\n",
        "  # print(i)\n",
        "  x+=i\n",
        "print(x)\n"
      ]
    },
    {
      "cell_type": "markdown",
      "metadata": {
        "id": "FzbLM5ANUB0h"
      },
      "source": [
        "**2.sort a given dictionary by key**"
      ]
    },
    {
      "cell_type": "code",
      "execution_count": null,
      "metadata": {
        "colab": {
          "base_uri": "https://localhost:8080/"
        },
        "id": "fEAU4pd5H3e6",
        "outputId": "d843480f-5a3f-48c7-e729-07db3a0ac07c"
      },
      "outputs": [
        {
          "name": "stdout",
          "output_type": "stream",
          "text": [
            "['black', 'green', 'red', 'white']\n",
            "{'black': '#000000', 'green': '#008000', 'red': '#FF0000', 'white': '#FFFFFF'}\n"
          ]
        }
      ],
      "source": [
        "x= {'red':'#FF0000','green':'#008000','black':'#000000','white':'#FFFFFF'}\n",
        "y=list(x.keys())\n",
        "# print(y)\n",
        "a={}\n",
        "for i in range(len(y)):\n",
        "  for j in range(len(y)):\n",
        "    if y[i]<y[j]:\n",
        "      y[i],y[j]=y[j],y[i]\n",
        "print(y)\n",
        "for i in y:\n",
        "  a[i]=x[i]\n",
        "print(a)"
      ]
    },
    {
      "cell_type": "markdown",
      "metadata": {
        "id": "QU9WOFepa0CB"
      },
      "source": [
        "**3. minimum values of a dictionary.**"
      ]
    },
    {
      "cell_type": "code",
      "execution_count": null,
      "metadata": {
        "colab": {
          "base_uri": "https://localhost:8080/"
        },
        "id": "GuPHbnmPUSUK",
        "outputId": "cb163a36-76d6-4a59-8457-50a6e5049a9d"
      },
      "outputs": [
        {
          "output_type": "stream",
          "name": "stdout",
          "text": [
            "[500, 560, 5874]\n",
            "{'x', 500}\n"
          ]
        }
      ],
      "source": [
        "l = {'x':500, 'y':5874, 'z': 560}\n",
        "x=list(l.values())\n",
        "# print(x)\n",
        "for i in range(len(x)):\n",
        "  for j in range(len(x)):\n",
        "    if x[i]<x[j]:\n",
        "      x[i],x[j]=x[j],x[i]\n",
        "print(x)\n",
        "for k,v in l.items():\n",
        "  if v==x[-3]:\n",
        "    print({k,v})"
      ]
    },
    {
      "cell_type": "markdown",
      "metadata": {
        "id": "1OYkzMn2ecxK"
      },
      "source": [
        "**4.remove duplicates from the dictionary.**"
      ]
    },
    {
      "cell_type": "code",
      "execution_count": null,
      "metadata": {
        "colab": {
          "base_uri": "https://localhost:8080/"
        },
        "id": "GFI9_oT7Y8-B",
        "outputId": "9c9afd36-3fb6-4ac8-b964-3c53c2e9da58"
      },
      "outputs": [
        {
          "name": "stdout",
          "output_type": "stream",
          "text": [
            "{'id1': {'name': ['Sara'], 'class': ['V'], 'subject_integration': ['english, math, science']}, 'id2': {'name': ['David'], 'class': ['V'], 'subject_integration': ['english, math, science']}, 'id4': {'name': ['Surya'], 'class': ['V'], 'subject_integration': ['english, math, science']}}\n"
          ]
        }
      ],
      "source": [
        "student_data = {'id1':\n",
        "   {'name': ['Sara'],\n",
        "    'class': ['V'],\n",
        "    'subject_integration': ['english, math, science']\n",
        "   },\n",
        " 'id2':\n",
        "  {'name': ['David'],\n",
        "    'class': ['V'],\n",
        "    'subject_integration': ['english, math, science']\n",
        "   },\n",
        " 'id3':\n",
        "    {'name': ['Sara'],\n",
        "    'class': ['V'],\n",
        "    'subject_integration': ['english, math, science']\n",
        "   },\n",
        " 'id4':\n",
        "   {'name': ['Surya'],\n",
        "    'class': ['V'],\n",
        "    'subject_integration': ['english, math, science']\n",
        "   },\n",
        "}\n",
        "\n",
        "result = {}\n",
        "\n",
        "for key,value in student_data.items():\n",
        "    if value not in result.values():\n",
        "        result[key] = value\n",
        "\n",
        "print(result)"
      ]
    },
    {
      "cell_type": "markdown",
      "metadata": {
        "id": "EsjzT1Nxq4Bi"
      },
      "source": [
        "**5.check if a dictionary is empty or not.**"
      ]
    },
    {
      "cell_type": "code",
      "execution_count": null,
      "metadata": {
        "colab": {
          "base_uri": "https://localhost:8080/"
        },
        "id": "2LFaJyWxhQnr",
        "outputId": "0fa4e735-55ef-4347-c767-7a4aab4fad23"
      },
      "outputs": [
        {
          "name": "stdout",
          "output_type": "stream",
          "text": [
            "Dictionary is empty\n"
          ]
        }
      ],
      "source": [
        "d = {}\n",
        "if not bool(d):\n",
        "    print(\"Dictionary is empty\")\n",
        "else:\n",
        "  print('dictionary is not empty')"
      ]
    },
    {
      "cell_type": "code",
      "execution_count": null,
      "metadata": {
        "colab": {
          "base_uri": "https://localhost:8080/"
        },
        "id": "EiD6RO3yrGqG",
        "outputId": "74a7e6e1-10d5-43f3-da40-4271fdf0339f"
      },
      "outputs": [
        {
          "name": "stdout",
          "output_type": "stream",
          "text": [
            "empty\n"
          ]
        }
      ],
      "source": [
        "d={}\n",
        "if len(d)==0:\n",
        "  print('empty')\n",
        "else:\n",
        "  print('not empty')"
      ]
    },
    {
      "cell_type": "markdown",
      "metadata": {
        "id": "j9UY1zN0qzao"
      },
      "source": [
        "**11/10/2023**"
      ]
    },
    {
      "cell_type": "markdown",
      "metadata": {
        "id": "GKSGTNY0wMr5"
      },
      "source": [
        "**1.find the highest 3 values of corresponding keys in a dictionary.**"
      ]
    },
    {
      "cell_type": "code",
      "execution_count": null,
      "metadata": {
        "colab": {
          "base_uri": "https://localhost:8080/"
        },
        "id": "hDGPO0e9rMS0",
        "outputId": "dc4d029f-e5d6-45bd-f2c5-f0244e8024c2"
      },
      "outputs": [
        {
          "name": "stdout",
          "output_type": "stream",
          "text": [
            "[5874, 584, 560, 500, 400, 20]\n",
            "{'b': 584}\n",
            "{'c': 560}\n",
            "{'e': 5874}\n"
          ]
        }
      ],
      "source": [
        "l= {'a':500, 'b':584, 'c': 560,'d':400, 'e':5874, 'f': 20}\n",
        "x=list(l.values())\n",
        "# print(x)\n",
        "for i in range(len(x)):\n",
        "  for j in range(len(x)):\n",
        "    if x[i]>x[j]:\n",
        "      x[i],x[j]=x[j],x[i]\n",
        "\n",
        "print(x)\n",
        "x=x[:3]\n",
        "for k,v in l.items():\n",
        "  for i in x:\n",
        "    if v==i:\n",
        "      print({k:v})"
      ]
    },
    {
      "cell_type": "markdown",
      "metadata": {
        "id": "gI2N-TaR_k_q"
      },
      "source": [
        "**2nd question sort a list alphabetically in a dictionary.**\n",
        "\n",
        "\n"
      ]
    },
    {
      "cell_type": "code",
      "execution_count": null,
      "metadata": {
        "colab": {
          "base_uri": "https://localhost:8080/"
        },
        "id": "vYevajNfw6Nf",
        "outputId": "676e84f7-6a85-4432-b81d-14d077f330d2"
      },
      "outputs": [
        {
          "name": "stdout",
          "output_type": "stream",
          "text": [
            "[2, 3, 1]\n",
            "[5, 1, 2]\n",
            "[3, 2, 4]\n",
            "{'n1': [1, 2, 3], 'n2': [1, 2, 5], 'n3': [2, 3, 4]}\n"
          ]
        }
      ],
      "source": [
        "d = {'n1': [2, 3, 1], 'n2': [5, 1, 2], 'n3': [3, 2, 4]}\n",
        "\n",
        "for k, v in d.items():\n",
        "  print(v)\n",
        "  for i in range(len(v)):\n",
        "    for j in range(i+1, len(v)):\n",
        "      if v[i] > v[j]:\n",
        "        v[i], v[j] = v[j], v[i]\n",
        "print(d)\n"
      ]
    },
    {
      "cell_type": "markdown",
      "metadata": {
        "id": "MbGtpRJq1Fgj"
      },
      "source": [
        "**3rd.question highest in dictinary**"
      ]
    },
    {
      "cell_type": "code",
      "execution_count": null,
      "metadata": {
        "colab": {
          "base_uri": "https://localhost:8080/"
        },
        "id": "6oxv--zF1ktJ",
        "outputId": "455a2aa1-7aff-4566-94bb-d18fe2799fac"
      },
      "outputs": [
        {
          "name": "stdout",
          "output_type": "stream",
          "text": [
            "{'David': 95}\n"
          ]
        }
      ],
      "source": [
        "scores = {'Alice': 85, 'Bob': 92, 'Charlie': 78, 'David': 95, 'Eve': 88}\n",
        "\n",
        "highest_score = 0\n",
        "highest_name = None\n",
        "\n",
        "for key, value in scores.items():\n",
        "  if value > highest_score:\n",
        "    highest_score = value\n",
        "    highest_name = key\n",
        "\n",
        "print({highest_name:highest_score})"
      ]
    },
    {
      "cell_type": "markdown",
      "metadata": {
        "id": "x4TQq76y7K3V"
      },
      "source": [
        "**4.question count the number of items in a dictionary value that is a list.**"
      ]
    },
    {
      "cell_type": "code",
      "execution_count": null,
      "metadata": {
        "colab": {
          "base_uri": "https://localhost:8080/"
        },
        "id": "RVfPqKLAFgl3",
        "outputId": "4207d4e9-fac1-41e9-eb72-0a06179f37ab"
      },
      "outputs": [
        {
          "name": "stdout",
          "output_type": "stream",
          "text": [
            "5\n"
          ]
        }
      ],
      "source": [
        "dict =  {'Alex': ['subj1', 'subj2', 'subj3'], 'David': ['subj1', 'subj2']}\n",
        "ctr = sum(map(len, dict.values()))\n",
        "print(ctr)"
      ]
    },
    {
      "cell_type": "markdown",
      "metadata": {
        "id": "-5m6d-bXHnVP"
      },
      "source": [
        "**12/10/2023**"
      ]
    },
    {
      "cell_type": "code",
      "execution_count": null,
      "metadata": {
        "colab": {
          "base_uri": "https://localhost:8080/"
        },
        "id": "UZXAf2DG7cGr",
        "outputId": "33bc1017-e1de-43d7-e87e-e409fc8f74a9"
      },
      "outputs": [
        {
          "name": "stdout",
          "output_type": "stream",
          "text": [
            "1 \n",
            "2 2 \n",
            "3 3 3 \n",
            "4 4 4 4 \n",
            "5 5 5 5 5 \n"
          ]
        }
      ],
      "source": [
        "n=6\n",
        "for i in range(1,n):\n",
        "  for j in range(i):\n",
        "    print(i, end=\" \")\n",
        "  print()"
      ]
    },
    {
      "cell_type": "code",
      "execution_count": null,
      "metadata": {
        "colab": {
          "base_uri": "https://localhost:8080/"
        },
        "id": "NYvbw2slHr7k",
        "outputId": "68e3db95-617e-4777-dca6-59b6552c47c0"
      },
      "outputs": [
        {
          "name": "stdout",
          "output_type": "stream",
          "text": [
            "* \n",
            "* * \n",
            "* * * \n",
            "* * * * \n",
            "* * * * * \n"
          ]
        }
      ],
      "source": [
        "n=6\n",
        "for i in range(1,n):\n",
        "  for j in range(i):\n",
        "    print(\"*\", end=\" \")\n",
        "  print()"
      ]
    },
    {
      "cell_type": "code",
      "execution_count": null,
      "metadata": {
        "colab": {
          "base_uri": "https://localhost:8080/"
        },
        "id": "NVqUxg6MHvn_",
        "outputId": "03a2f6b5-2c85-4d76-e10b-a2eb37d0e56e"
      },
      "outputs": [
        {
          "name": "stdout",
          "output_type": "stream",
          "text": [
            "1 1 1 1 1 1 \n",
            "2 2 2 2 2 \n",
            "3 3 3 3 \n",
            "4 4 4 \n",
            "5 5 \n",
            "6 \n"
          ]
        }
      ],
      "source": [
        "n=7\n",
        "for i in range(1,n):\n",
        "  for j in range(n-i):\n",
        "    print(i, end=\" \")\n",
        "  print()"
      ]
    },
    {
      "cell_type": "code",
      "execution_count": null,
      "metadata": {
        "colab": {
          "base_uri": "https://localhost:8080/"
        },
        "id": "XFOcEAkNH0PD",
        "outputId": "8049102f-8e49-4c76-9e49-0bcc85faefb1"
      },
      "outputs": [
        {
          "name": "stdout",
          "output_type": "stream",
          "text": [
            "* * * * * \n",
            "* * * * \n",
            "* * * \n",
            "* * \n",
            "* \n"
          ]
        }
      ],
      "source": [
        "n=5\n",
        "for i in range(n):\n",
        "  for j in range(n-i):\n",
        "    print(\"*\", end=\" \")\n",
        "  print()"
      ]
    },
    {
      "cell_type": "code",
      "execution_count": null,
      "metadata": {
        "colab": {
          "base_uri": "https://localhost:8080/"
        },
        "id": "nSXoStnRJAf6",
        "outputId": "dbecad7e-75ea-4b3e-febf-b3168bb06792"
      },
      "outputs": [
        {
          "name": "stdout",
          "output_type": "stream",
          "text": [
            "0 0 0 0 0 \n",
            "1 1 1 1 \n",
            "2 2 2 \n",
            "3 3 \n",
            "4 \n",
            "\n"
          ]
        }
      ],
      "source": [
        "n=6\n",
        "for i in range(n):\n",
        "  for j in range(i+1,n):\n",
        "    print(i, end=\" \")\n",
        "  print()"
      ]
    },
    {
      "cell_type": "markdown",
      "metadata": {
        "id": "PY61n6VBK1Xm"
      },
      "source": [
        "**13/10/23**"
      ]
    },
    {
      "cell_type": "code",
      "execution_count": null,
      "metadata": {
        "colab": {
          "base_uri": "https://localhost:8080/"
        },
        "id": "v3sh_FrsKX8H",
        "outputId": "530b015c-fca2-40b4-b399-fcd651fe0f6b"
      },
      "outputs": [
        {
          "name": "stdout",
          "output_type": "stream",
          "text": [
            "{'s': 1, 'a': 2, 'd': 1, 'i': 2, 'q': 1, 'u': 1, 'e': 1, 'l': 1}\n"
          ]
        }
      ],
      "source": [
        "str1=\"sadique ali\"\n",
        "x={}\n",
        "for i in str1:\n",
        "  if i==\" \":\n",
        "    continue\n",
        "  elif i in x:\n",
        "    x[i]+=1\n",
        "  else:\n",
        "    x[i]=1\n",
        "print(x)"
      ]
    },
    {
      "cell_type": "code",
      "execution_count": null,
      "metadata": {
        "colab": {
          "base_uri": "https://localhost:8080/"
        },
        "id": "aYpc6wBzLxA5",
        "outputId": "88457432-794e-4425-b1e6-b09bc568c17d"
      },
      "outputs": [
        {
          "name": "stdout",
          "output_type": "stream",
          "text": [
            "abc_400\n",
            "xyz_95\n",
            "pqr_400\n"
          ]
        }
      ],
      "source": [
        "a={'abc':[25,0,30,400],'xyz':[1,0,95,25],'pqr':[400,300,200,1]}\n",
        "\n",
        "\n",
        "for k,v in a.items():\n",
        "  x=0\n",
        "  for i in v:\n",
        "    if i>x:\n",
        "      x=i\n",
        "  print(f\"{k}_{x}\")"
      ]
    },
    {
      "cell_type": "code",
      "execution_count": null,
      "metadata": {
        "colab": {
          "base_uri": "https://localhost:8080/"
        },
        "id": "160nVpKxMtyJ",
        "outputId": "ac1d9b77-deed-4bff-dd9a-d328d76f7436"
      },
      "outputs": [
        {
          "name": "stdout",
          "output_type": "stream",
          "text": [
            "[(1, 8), (4, 5)]\n"
          ]
        }
      ],
      "source": [
        "a=[5,7,4,3,9,8,19,21,10]\n",
        "sum1=17\n",
        "l=[]\n",
        "for i in range(len(a)):\n",
        "  for j in range(i+1,len(a)):\n",
        "    # print(i)\n",
        "    res=a[i]+a[j]\n",
        "    if res==sum1:\n",
        "      l.append((i,j))\n",
        "print(l)\n",
        "      # print(i,j)\n"
      ]
    },
    {
      "cell_type": "code",
      "execution_count": null,
      "metadata": {
        "colab": {
          "base_uri": "https://localhost:8080/"
        },
        "id": "pRmq_ouvQCaJ",
        "outputId": "785d2ba6-e2b1-4af4-c177-920df16d6011"
      },
      "outputs": [
        {
          "name": "stdout",
          "output_type": "stream",
          "text": [
            "[(7, 10), (9, 8)]\n"
          ]
        }
      ],
      "source": [
        "a=[5,7,4,3,9,8,19,21,10]\n",
        "sum1=17\n",
        "l=[]\n",
        "for i in range(len(a)):\n",
        "  for j in range(i+1,len(a)):\n",
        "    res=a[i]+a[j]\n",
        "    if res==sum1:\n",
        "      l.append((a[i],a[j]))\n",
        "print(l)\n"
      ]
    },
    {
      "cell_type": "code",
      "execution_count": null,
      "metadata": {
        "colab": {
          "base_uri": "https://localhost:8080/"
        },
        "id": "xhRD2djO0H5z",
        "outputId": "5a862ece-a930-4996-b0ee-d9aa8dbe31c5"
      },
      "outputs": [
        {
          "name": "stdout",
          "output_type": "stream",
          "text": [
            "{'red': 3, 'green': 5, 'black': 5, 'white': 5}\n"
          ]
        }
      ],
      "source": [
        "dic ={1: 'red', 2: 'green', 3: 'black', 4: 'white'}\n",
        "d={}\n",
        "# o/p={'red':3,'green':5,'black':5,'white':5}\n",
        "for k,v in dic.items():\n",
        "  d[v]=len(v)\n",
        "print(d)"
      ]
    },
    {
      "cell_type": "markdown",
      "metadata": {
        "id": "bkmCCmH5cwKQ"
      },
      "source": [
        "**drop empty items from a given dictionary.**"
      ]
    },
    {
      "cell_type": "code",
      "execution_count": null,
      "metadata": {
        "colab": {
          "base_uri": "https://localhost:8080/"
        },
        "id": "DX8wysNobppC",
        "outputId": "7e603f0f-db61-4138-d7ab-6eba4e33759d"
      },
      "outputs": [
        {
          "name": "stdout",
          "output_type": "stream",
          "text": [
            "{'c1': 'Red', 'c2': 'Green'}\n"
          ]
        }
      ],
      "source": [
        "dict1 = {'c1': 'Red', 'c2': 'Green', 'c3':None}\n",
        "dict1 = {key:value for (key, value) in dict1.items() if value is not None}\n",
        "print(dict1)"
      ]
    },
    {
      "cell_type": "code",
      "execution_count": null,
      "metadata": {
        "id": "7kNy3vYH2pYT"
      },
      "outputs": [],
      "source": []
    },
    {
      "cell_type": "markdown",
      "metadata": {
        "id": "vett2VRvii4L"
      },
      "source": [
        "**find the specified number of maximum values in a given dictionary.**"
      ]
    },
    {
      "cell_type": "code",
      "execution_count": null,
      "metadata": {
        "colab": {
          "base_uri": "https://localhost:8080/"
        },
        "id": "81D0XgCoc6Kr",
        "outputId": "c50e871b-a0f9-4e22-d09b-5aff864b8548"
      },
      "outputs": [
        {
          "name": "stdout",
          "output_type": "stream",
          "text": [
            "{'f': 100}\n"
          ]
        }
      ],
      "source": [
        "dictt = {'a':5, 'b':14, 'c': 32, 'd':35, 'e':24, 'f': 100, 'g':57, 'h':8, 'i': 100}\n",
        "x=0\n",
        "y=None\n",
        "for k,v in dictt.items():\n",
        "  if v>x:\n",
        "    x=v\n",
        "    y=k\n",
        "print({y:x})"
      ]
    },
    {
      "cell_type": "markdown",
      "metadata": {
        "id": "wkdGjW7bwsii"
      },
      "source": [
        "***16/10/23**"
      ]
    },
    {
      "cell_type": "markdown",
      "metadata": {
        "id": "TGpPvapxw9Ra"
      },
      "source": [
        "**check number is palandrome or not**"
      ]
    },
    {
      "cell_type": "code",
      "execution_count": null,
      "metadata": {
        "colab": {
          "base_uri": "https://localhost:8080/"
        },
        "id": "UeRptV8hwxEi",
        "outputId": "f50f029a-c25b-49bc-8683-d6155c6cc0b3"
      },
      "outputs": [
        {
          "name": "stdout",
          "output_type": "stream",
          "text": [
            "enter any number567\n",
            "not palandrom\n"
          ]
        }
      ],
      "source": [
        "num=int(input('enter any number'))\n",
        "rev=0\n",
        "tem=num\n",
        "while num>0:\n",
        "  digit=num%10\n",
        "  rev=rev*10+digit\n",
        "  num=num//10\n",
        "\n",
        "if tem==rev:\n",
        "  print('palandrom')\n",
        "else:\n",
        "  print('not palandrom')\n"
      ]
    },
    {
      "cell_type": "markdown",
      "metadata": {
        "id": "se2hvweG5nV7"
      },
      "source": [
        "**2.*find* unique number in list **"
      ]
    },
    {
      "cell_type": "code",
      "execution_count": null,
      "metadata": {
        "colab": {
          "base_uri": "https://localhost:8080/"
        },
        "id": "x8MO1QTJzFIb",
        "outputId": "e1b1b5f4-f866-4cd5-d37f-2cfdf7393543"
      },
      "outputs": [
        {
          "name": "stdout",
          "output_type": "stream",
          "text": [
            "unique number {1: 2, 2: 1, 3: 2, 6: 2, 5: 2, 4: 2}\n",
            "2\n"
          ]
        }
      ],
      "source": [
        "list=[1,2,3,6,5,4,1,3,5,4,6]\n",
        "x={}\n",
        "y=\"\"\n",
        "for i in list:\n",
        "  if i in x:\n",
        "    x[i]+=1\n",
        "  else:\n",
        "    x[i]=1\n",
        "print('unique number',x)\n",
        "for k,v in x.items():\n",
        "  if v==1:\n",
        "    y = k\n",
        "print(y)"
      ]
    },
    {
      "cell_type": "code",
      "source": [
        "a=[1,2,3,3,2]\n",
        "b={}\n",
        "z=''\n",
        "for i in a:\n",
        "  if i in b:\n",
        "    b[i]+=1\n",
        "  else:\n",
        "    b[i]=1\n",
        "print(b)\n",
        "for k,v in b.items():\n",
        "  if v==1:\n",
        "    z=k\n",
        "print(z)\n"
      ],
      "metadata": {
        "colab": {
          "base_uri": "https://localhost:8080/"
        },
        "id": "PD62arHIVjPJ",
        "outputId": "ac927574-d30f-4f73-bfe7-7ea5aa8d1d44"
      },
      "execution_count": null,
      "outputs": [
        {
          "output_type": "stream",
          "name": "stdout",
          "text": [
            "{1: 1, 2: 2, 3: 2}\n",
            "1\n"
          ]
        }
      ]
    },
    {
      "cell_type": "code",
      "execution_count": null,
      "metadata": {
        "colab": {
          "base_uri": "https://localhost:8080/"
        },
        "id": "W6W0Mbwx7WPN",
        "outputId": "e6473b82-1624-44c4-d9a8-1d82fd5532c0"
      },
      "outputs": [
        {
          "name": "stdout",
          "output_type": "stream",
          "text": [
            "[2]\n"
          ]
        }
      ],
      "source": [
        "lst=[1,2,3,6,5,4,1,3,5,4,6]\n",
        "a = []\n",
        "for i in lst:\n",
        "  if lst.count(i)==1:\n",
        "    a.append(i)\n",
        "print(a)\n"
      ]
    },
    {
      "cell_type": "code",
      "execution_count": null,
      "metadata": {
        "colab": {
          "base_uri": "https://localhost:8080/"
        },
        "id": "NDKANgwb5e8D",
        "outputId": "4dbb9559-2032-4f7a-b093-92e693a3dcf2"
      },
      "outputs": [
        {
          "name": "stdout",
          "output_type": "stream",
          "text": [
            "unique number {1: 2, 2: 1, 3: 2, 6: 2, 5: 1, 4: 2}\n",
            "[2, 5]\n"
          ]
        }
      ],
      "source": [
        "list=[1,2,3,6,5,4,1,3,4,6]\n",
        "x={}\n",
        "y=[]\n",
        "for i in list:\n",
        "  if i in x:\n",
        "    x[i]+=1\n",
        "  else:\n",
        "    x[i]=1\n",
        "print('unique number',x)\n",
        "for k,v in x.items():\n",
        "  if v==1:\n",
        "    y.append(k)\n",
        "print(y)"
      ]
    },
    {
      "cell_type": "code",
      "source": [],
      "metadata": {
        "id": "H3tVu5KTY4wn"
      },
      "execution_count": null,
      "outputs": []
    },
    {
      "cell_type": "markdown",
      "metadata": {
        "id": "dojM5bwjpc5q"
      },
      "source": [
        "**3rd question**"
      ]
    },
    {
      "cell_type": "code",
      "execution_count": null,
      "metadata": {
        "colab": {
          "base_uri": "https://localhost:8080/"
        },
        "id": "qeGSMMO51F7d",
        "outputId": "0ccbce66-f1b5-4378-99f9-801c5fe27f39"
      },
      "outputs": [
        {
          "name": "stdout",
          "output_type": "stream",
          "text": [
            "unique number {'a': 2, 'b': 1, 'c': 1, 'd': 2, 'r': 1, 's': 1, 'g': 2}\n",
            "bcrs\n"
          ]
        }
      ],
      "source": [
        "list=\"aabcddrsgg\"\n",
        "x={}\n",
        "y=[]\n",
        "for i in list:\n",
        "  if i in x:\n",
        "    x[i]+=1\n",
        "  else:\n",
        "    x[i]=1\n",
        "print('unique number',x)\n",
        "for k,v in x.items():\n",
        "  if v==1:\n",
        "    y.append(k)\n",
        "print(\"\".join(y))"
      ]
    },
    {
      "cell_type": "markdown",
      "metadata": {
        "id": "hWEa9K4j6WdF"
      },
      "source": [
        "**check number is armstrong or not**"
      ]
    },
    {
      "cell_type": "code",
      "execution_count": null,
      "metadata": {
        "colab": {
          "base_uri": "https://localhost:8080/"
        },
        "id": "uVp5oPpn5GrJ",
        "outputId": "9a30a615-4653-461f-c3d6-a9cb76308be0"
      },
      "outputs": [
        {
          "name": "stdout",
          "output_type": "stream",
          "text": [
            "armstrong\n"
          ]
        }
      ],
      "source": [
        "a=153\n",
        "num=a\n",
        "sum=0\n",
        "while a>0:\n",
        "  digit=a%10\n",
        "  sum+=digit**3\n",
        "  a=a//10\n",
        "\n",
        "\n",
        "if sum==num:\n",
        "  print('armstrong')\n",
        "else:\n",
        "  print('not armstrong')\n"
      ]
    },
    {
      "cell_type": "markdown",
      "metadata": {
        "id": "4FR-5OWW6gxd"
      },
      "source": [
        "**find a factorial of a number**"
      ]
    },
    {
      "cell_type": "code",
      "execution_count": null,
      "metadata": {
        "id": "KrT8bRJh7EkF"
      },
      "outputs": [],
      "source": []
    },
    {
      "cell_type": "markdown",
      "metadata": {
        "id": "kL6iV9cxfWQp"
      },
      "source": [
        "**17/10/23**"
      ]
    },
    {
      "cell_type": "code",
      "execution_count": null,
      "metadata": {
        "colab": {
          "base_uri": "https://localhost:8080/"
        },
        "id": "4xleZDwhI4Ab",
        "outputId": "86da056b-c79f-42ab-c320-d6e1e5a17d69"
      },
      "outputs": [
        {
          "name": "stdout",
          "output_type": "stream",
          "text": [
            "enter number4\n",
            "{0: 'a', 1: 'b', 2: 'c', 3: 'd'}\n"
          ]
        }
      ],
      "source": [
        "a=\"abcdefghijklmnopqrstuvwxyz\"\n",
        "n=int(input('enter number'))\n",
        "d={}\n",
        "for i in range(n):\n",
        "  d[i]=a[i]\n",
        "print(d)"
      ]
    },
    {
      "cell_type": "markdown",
      "metadata": {
        "id": "zO67oIu2v4Vj"
      },
      "source": [
        "**2nd. maximum value in dictionary**"
      ]
    },
    {
      "cell_type": "code",
      "execution_count": null,
      "metadata": {
        "colab": {
          "base_uri": "https://localhost:8080/"
        },
        "id": "adN-11Nwvh6R",
        "outputId": "68348bbb-5615-4d36-c643-f743fa8c6311"
      },
      "outputs": [
        {
          "name": "stdout",
          "output_type": "stream",
          "text": [
            "{'Roxanne': 22}\n"
          ]
        }
      ],
      "source": [
        "std = {'Theodore': 19,'Roxanne': 22,'Mathew': 21,'Betty': 20}\n",
        "x=0\n",
        "y=None\n",
        "for k,v in std.items():\n",
        "  if v>x:\n",
        "    x=v\n",
        "    y=k\n",
        "print({y:x})"
      ]
    },
    {
      "cell_type": "code",
      "execution_count": null,
      "metadata": {
        "colab": {
          "base_uri": "https://localhost:8080/"
        },
        "id": "Zaas15CAwSRZ",
        "outputId": "cf25a89f-9595-4c16-c0d0-ff807b07bc58"
      },
      "outputs": [
        {
          "name": "stdout",
          "output_type": "stream",
          "text": [
            "{'Roxanne': 22}\n"
          ]
        }
      ],
      "source": [
        "std = {'Theodore': 19,'Roxanne': 22,'Mathew': 21,'Betty': 20}\n",
        "x=0\n",
        "y=None\n",
        "for k,v in std.items():\n",
        "  if v>x:\n",
        "    x=v\n",
        "    y=k\n",
        "print({y:x})\n"
      ]
    },
    {
      "cell_type": "markdown",
      "metadata": {
        "id": "1mgf7aR3of_I"
      },
      "source": [
        "**18/10/23**"
      ]
    },
    {
      "cell_type": "markdown",
      "metadata": {
        "id": "TXQiFHGLwHJr"
      },
      "source": [
        "**1.covert two list into dictionary **"
      ]
    },
    {
      "cell_type": "code",
      "execution_count": null,
      "metadata": {
        "colab": {
          "base_uri": "https://localhost:8080/"
        },
        "id": "2zfvEgecokyV",
        "outputId": "57ca42c1-caa5-46f1-affe-a054016cf22c"
      },
      "outputs": [
        {
          "name": "stdout",
          "output_type": "stream",
          "text": [
            "{'a': 1, 'b': 2, 'c': 3}\n"
          ]
        }
      ],
      "source": [
        "l1 = [\"a\", \"b\" , \"c\"]\n",
        "l2 = [1, 2, 3]\n",
        "l3={k:v for k,v in zip(l1,l2)}\n",
        "print(l3)"
      ]
    },
    {
      "cell_type": "code",
      "execution_count": null,
      "metadata": {
        "colab": {
          "base_uri": "https://localhost:8080/"
        },
        "id": "SkJKGRLbpBnY",
        "outputId": "790feb0f-1462-49ca-c34d-051ad59d861b"
      },
      "outputs": [
        {
          "name": "stdout",
          "output_type": "stream",
          "text": [
            "{1: 2, 2: 3, 3: 4, 4: 5}\n"
          ]
        }
      ],
      "source": [
        "x=[1,2,3,4]\n",
        "y=[2,3,4,5]\n",
        "z=dict(zip(x,y))\n",
        "print(z)"
      ]
    },
    {
      "cell_type": "code",
      "execution_count": null,
      "metadata": {
        "colab": {
          "base_uri": "https://localhost:8080/"
        },
        "id": "AmiJR0MJqBhI",
        "outputId": "f9a1318d-9330-4dfa-9477-0152c6a846b7"
      },
      "outputs": [
        {
          "name": "stdout",
          "output_type": "stream",
          "text": [
            "{'a': 1, 'b': 2, 'c': 3}\n"
          ]
        }
      ],
      "source": [
        "l1 = [\"a\", \"b\" , \"c\"]\n",
        "l2 = [1, 2, 3]\n",
        "res={}\n",
        "for key in l1:\n",
        "  for value in l2:\n",
        "    res[key]=value\n",
        "    l2.remove(value)\n",
        "    break\n",
        "print(str(res))\n"
      ]
    },
    {
      "cell_type": "markdown",
      "metadata": {
        "id": "E_ulz97kwPFd"
      },
      "source": [
        "**2. sort dictinary by key**"
      ]
    },
    {
      "cell_type": "code",
      "execution_count": null,
      "metadata": {
        "colab": {
          "base_uri": "https://localhost:8080/"
        },
        "id": "L3UdhyXxsZ0a",
        "outputId": "db2580ac-ae64-4593-86e6-a67702a97e05"
      },
      "outputs": [
        {
          "name": "stdout",
          "output_type": "stream",
          "text": [
            "['black', 'green', 'red', 'white']\n",
            "{'black': '14567', 'green': '7991', 'red': '1234', 'white': '6789'}\n"
          ]
        }
      ],
      "source": [
        "d= {'red':'1234','green':'7991','black':'14567','white':'6789'}\n",
        "z={}\n",
        "x=list(d.keys())\n",
        "# print(x)\n",
        "for i in range(len(x)):\n",
        "  for j in range(len(x)):\n",
        "    if x[i]<x[j]:\n",
        "      x[i],x[j]=x[j],x[i]\n",
        "print(x)\n",
        "for i in x:\n",
        "  z[i]=d[i]\n",
        "print(z)\n",
        "\n"
      ]
    },
    {
      "cell_type": "markdown",
      "metadata": {
        "id": "SNBj1N8aweWV"
      },
      "source": [
        "**3rd. sum all the items in dictionary**"
      ]
    },
    {
      "cell_type": "code",
      "execution_count": null,
      "metadata": {
        "colab": {
          "base_uri": "https://localhost:8080/"
        },
        "id": "pysCoU5IsenD",
        "outputId": "683dc348-e5cb-478a-c15f-fc4c6032bf7b"
      },
      "outputs": [
        {
          "name": "stdout",
          "output_type": "stream",
          "text": [
            "[100, 54, 247]\n",
            "401\n"
          ]
        }
      ],
      "source": [
        "dt= {'data1':100,'data2':54,'data3':247}\n",
        "x=list(dt.values())\n",
        "print(x)\n",
        "print(sum(x))\n",
        "\n"
      ]
    },
    {
      "cell_type": "code",
      "execution_count": null,
      "metadata": {
        "colab": {
          "base_uri": "https://localhost:8080/"
        },
        "id": "hOliQhKhvnM_",
        "outputId": "e2b04148-f5fb-420d-a92d-61636391b58e"
      },
      "outputs": [
        {
          "name": "stdout",
          "output_type": "stream",
          "text": [
            "247\n"
          ]
        }
      ],
      "source": [
        "dt= {'data1':100,'data2':54,'data3':247}\n",
        "x=0\n",
        "for i in dt.values():\n",
        "    y=x+i\n",
        "print(y)"
      ]
    },
    {
      "cell_type": "markdown",
      "metadata": {
        "id": "7d7uF_Gey7kA"
      },
      "source": [
        "**4.check if dictionary is empty or not**"
      ]
    },
    {
      "cell_type": "code",
      "execution_count": null,
      "metadata": {
        "colab": {
          "base_uri": "https://localhost:8080/"
        },
        "id": "lnPOm9m9xZ4q",
        "outputId": "f9501ea2-0a24-4fd1-8f49-70f98eef9a04"
      },
      "outputs": [
        {
          "name": "stdout",
          "output_type": "stream",
          "text": [
            "its empty dictionary\n"
          ]
        }
      ],
      "source": [
        "x={}\n",
        "# print(len(x))\n",
        "if len(x)==0:\n",
        "  print('its empty dictionary')\n",
        "else:\n",
        "  print('its not empty dictionary')"
      ]
    },
    {
      "cell_type": "code",
      "execution_count": null,
      "metadata": {
        "colab": {
          "base_uri": "https://localhost:8080/"
        },
        "id": "0m9OZKfr_y0M",
        "outputId": "9b02fc04-d5bc-4806-8c35-40b64dc4daf3"
      },
      "outputs": [
        {
          "name": "stdout",
          "output_type": "stream",
          "text": [
            "its not empty dictionary\n"
          ]
        }
      ],
      "source": [
        "x={'1':1,'2':3}\n",
        "# print(len(x))\n",
        "if len(x)==0:\n",
        "  print('its empty dictionary')\n",
        "else:\n",
        "  print('its not empty dictionary')"
      ]
    },
    {
      "cell_type": "markdown",
      "metadata": {
        "id": "T-DD87gmAksC"
      },
      "source": [
        "**19/10/23**"
      ]
    },
    {
      "cell_type": "code",
      "execution_count": null,
      "metadata": {
        "colab": {
          "base_uri": "https://localhost:8080/"
        },
        "id": "XoX9l5kFCKQc",
        "outputId": "8e11381f-04aa-4ecb-acb5-860f0e3b4fd0"
      },
      "outputs": [
        {
          "name": "stdout",
          "output_type": "stream",
          "text": [
            "[(5, 10), (7, 8)]\n"
          ]
        }
      ],
      "source": [
        "a=[5,7,4,3,9,8,19,21,10]\n",
        "x=15\n",
        "y=[]\n",
        "for i in range(len(a)):\n",
        "  for j in range(i+1,len(a)):\n",
        "    res=a[i]+a[j]\n",
        "    if res==x:\n",
        "      y.append((a[i],a[j]))\n",
        "print(y)"
      ]
    },
    {
      "cell_type": "code",
      "execution_count": null,
      "metadata": {
        "colab": {
          "base_uri": "https://localhost:8080/"
        },
        "id": "IH9vXUawzJzQ",
        "outputId": "2afe8d76-ccc5-4931-c597-0502e7c2e39b"
      },
      "outputs": [
        {
          "name": "stdout",
          "output_type": "stream",
          "text": [
            "{'abc': 13}\n"
          ]
        }
      ],
      "source": [
        "x={'pqr':12,'xyz':11,'abc':13}\n",
        "y=0\n",
        "z=None\n",
        "for k,v in x.items():\n",
        "  if v>y:\n",
        "    y=v\n",
        "    z=k\n",
        "print({z:y})\n"
      ]
    },
    {
      "cell_type": "code",
      "execution_count": null,
      "metadata": {
        "colab": {
          "base_uri": "https://localhost:8080/"
        },
        "id": "VRQV5j2z0MPs",
        "outputId": "2a30e099-7afc-4ac6-beb5-88da1d7cf29d"
      },
      "outputs": [
        {
          "name": "stdout",
          "output_type": "stream",
          "text": [
            "{'pqr': 11, 'xyz': 12, 'abc': 13}\n"
          ]
        }
      ],
      "source": [
        "x={'pqr':12,'xyz':11,'abc':13}\n",
        "for i in x:\n",
        "  for j in x:\n",
        "    if x[i]<x[j]:\n",
        "      x[i],x[j]=x[j],x[i]\n",
        "print(x)"
      ]
    },
    {
      "cell_type": "code",
      "execution_count": null,
      "metadata": {
        "colab": {
          "base_uri": "https://localhost:8080/"
        },
        "id": "zoTtlruS1T21",
        "outputId": "83f11df6-501c-4331-c930-43190f7c9650"
      },
      "outputs": [
        {
          "name": "stdout",
          "output_type": "stream",
          "text": [
            "['pqr', 'xyz', 'abc']\n",
            "['abc', 'pqr', 'xyz']\n"
          ]
        }
      ],
      "source": [
        "x={'pqr':12,'xyz':11,'abc':13}\n",
        "y=list(x.keys())\n",
        "print(y)\n",
        "for i in range(len(y)):\n",
        "  for j in range(len(y)):\n",
        "    if y[i]<y[j]:\n",
        "      y[i],y[j]=y[j],y[i]\n",
        "print(y)\n"
      ]
    },
    {
      "cell_type": "code",
      "execution_count": null,
      "metadata": {
        "colab": {
          "base_uri": "https://localhost:8080/"
        },
        "id": "803KPbjE2wsI",
        "outputId": "69649e49-b65a-4736-c25c-4c20eda9b107"
      },
      "outputs": [
        {
          "name": "stdout",
          "output_type": "stream",
          "text": [
            "{'a': 1, 'b': 2, 'c': 3, 'd': 4}\n"
          ]
        }
      ],
      "source": [
        "z='abbcccdddd'\n",
        "x={}\n",
        "for i in z:\n",
        "  if i in x:\n",
        "    x[i]+=1\n",
        "  else:\n",
        "    x[i]=1\n",
        "print(x)"
      ]
    },
    {
      "cell_type": "markdown",
      "metadata": {
        "id": "FywnGQCGM6Wc"
      },
      "source": [
        "**20/10/23**"
      ]
    },
    {
      "cell_type": "code",
      "execution_count": null,
      "metadata": {
        "colab": {
          "base_uri": "https://localhost:8080/"
        },
        "id": "k2d-Csig_Ktu",
        "outputId": "a391dd93-816e-435c-b4e1-a0035193e186"
      },
      "outputs": [
        {
          "name": "stdout",
          "output_type": "stream",
          "text": [
            "['VW', 'BMW', 'car', 'Ford', 'Mitsubishi']\n"
          ]
        }
      ],
      "source": [
        "lst = ['car','Mitsubishi', 'BMW', 'VW', 'Ford']\n",
        "for i in range(len(lst)):\n",
        "  for j in range(i+1,len(lst)):\n",
        "    if len(lst[i])>len(lst[j]):\n",
        "      lst[i],lst[j]=lst[j],lst[i]\n",
        "print(lst)"
      ]
    },
    {
      "cell_type": "code",
      "execution_count": null,
      "metadata": {
        "colab": {
          "base_uri": "https://localhost:8080/"
        },
        "id": "7-_jcStbNczP",
        "outputId": "b2ac1629-78d3-4988-9f1b-d580b372d997"
      },
      "outputs": [
        {
          "name": "stdout",
          "output_type": "stream",
          "text": [
            "{1: 1, 2: 2, 3: 3, 4: 2}\n"
          ]
        }
      ],
      "source": [
        "x=[1,2,3,4,3,2,4,3]\n",
        "y={}\n",
        "for i in x:\n",
        "  if i in y:\n",
        "    y[i]+=1\n",
        "  else:\n",
        "     y[i]=1\n",
        "print(y)"
      ]
    },
    {
      "cell_type": "markdown",
      "metadata": {
        "id": "L_S-GD1mFP2b"
      },
      "source": [
        "**sort basis on second element**"
      ]
    },
    {
      "cell_type": "code",
      "execution_count": null,
      "metadata": {
        "colab": {
          "base_uri": "https://localhost:8080/"
        },
        "id": "Ou9jmzbqNxZw",
        "outputId": "316321fe-619e-41a8-9c3c-957319463a65"
      },
      "outputs": [
        {
          "name": "stdout",
          "output_type": "stream",
          "text": [
            "[(56, 'apple'), ('water', 'case'), (1, 'groot'), ('dell', 'ipad'), ('teams', 'ml'), ('zoo', 'peanuts')]\n"
          ]
        }
      ],
      "source": [
        "tup =[(\"zoo\", \"peanuts\"),(1, 'groot'), (\"teams\",\"ml\"),('dell', 'ipad'), ('water', 'case'), (56,\"apple\")]\n",
        "for i in range(len(tup)):\n",
        "  for j in range(len(tup)):\n",
        "    if tup[i][1]<tup[j][1]:\n",
        "      tup[i],tup[j]=tup[j],tup[i]\n",
        "print(tup)"
      ]
    },
    {
      "cell_type": "code",
      "execution_count": null,
      "metadata": {
        "colab": {
          "base_uri": "https://localhost:8080/"
        },
        "id": "V7kEPmiEFx5K",
        "outputId": "384df52d-de1e-4c93-cace-9ee8425660ba"
      },
      "outputs": [
        {
          "name": "stdout",
          "output_type": "stream",
          "text": [
            "[(1, 'groot'), (56, 'apple'), ('dell', 'ipad'), ('teams', 'ml'), ('water', 'case'), ('zoo', 'peanuts')]\n"
          ]
        }
      ],
      "source": [
        "l=[(\"zoo\", \"peanuts\"),(1, 'groot'), (\"teams\",\"ml\"),('dell', 'ipad'), ('water', 'case'), (56,\"apple\")]\n",
        "\n",
        "for i in range(len(l)):\n",
        "  for j in range(len(l)):\n",
        "    if str(l[i][0])<str(l[j][0]):\n",
        "      l[i],l[j]=l[j],l[i]\n",
        "print(l)\n",
        "\n"
      ]
    },
    {
      "cell_type": "markdown",
      "metadata": {
        "id": "N1F5muI4K09_"
      },
      "source": [
        "**swap two element**"
      ]
    },
    {
      "cell_type": "code",
      "execution_count": null,
      "metadata": {
        "colab": {
          "base_uri": "https://localhost:8080/"
        },
        "id": "EtwGOZt-IRKd",
        "outputId": "04e28351-23fe-4ced-ebcd-156f9a14e5e2"
      },
      "outputs": [
        {
          "name": "stdout",
          "output_type": "stream",
          "text": [
            "[('peanuts', 'zoo'), ('groot', 1), ('ml', 'teams'), ('ipad', 'dell'), ('case', 'water'), ('apple', 56)]\n"
          ]
        }
      ],
      "source": [
        "l=[(\"zoo\", \"peanuts\"),(1, 'groot'), (\"teams\",\"ml\"),('dell', 'ipad'), ('water', 'case'), (56,\"apple\")]\n",
        "\n",
        "for i in range(len(l)):\n",
        "    a=list(l[i])\n",
        "    a[0],a[1]=a[1],a[0]\n",
        "    l[i]=tuple(a)\n",
        "print(l)"
      ]
    },
    {
      "cell_type": "markdown",
      "metadata": {
        "id": "cytq7IBSIzkx"
      },
      "source": [
        "**21/10/23**"
      ]
    },
    {
      "cell_type": "code",
      "execution_count": null,
      "metadata": {
        "colab": {
          "base_uri": "https://localhost:8080/"
        },
        "id": "a-OtBAqeXJ3g",
        "outputId": "43150c78-e5a7-4ed1-87e9-43d2916dbd70"
      },
      "outputs": [
        {
          "name": "stdout",
          "output_type": "stream",
          "text": [
            "{0: [21, 10, 100], 1: [26, 20, 150], 2: [28, 30, 200]}\n"
          ]
        },
        {
          "data": {
            "text/plain": [
              "{0: [21, 10, 100], 1: [26, 20, 150], 2: [28, 30, 200]}"
            ]
          },
          "execution_count": 1,
          "metadata": {},
          "output_type": "execute_result"
        }
      ],
      "source": [
        "def func(dt):\n",
        "  x={}\n",
        "  for i, values in enumerate(dt[\"threshold\"]):\n",
        "    x[i]=list(values.values())\n",
        "  return x\n",
        "\n",
        "dt={\"threshold\":[{\"temp\":21,\"hum\":10,\"lux\":100},{\"temp\":26,\"hum\":20,\"lux\":150},{\"temp\":28,\"hum\":30,\"lux\":200}]}\n",
        "ot=func(dt)\n",
        "print(ot)\n",
        "{0:[21,10,100],1:[26,20,150],2:[28,30,200]}\n"
      ]
    },
    {
      "cell_type": "code",
      "execution_count": null,
      "metadata": {
        "colab": {
          "base_uri": "https://localhost:8080/"
        },
        "id": "-o40elH0Pk74",
        "outputId": "330bfad8-f989-47f3-e176-3629d328d143"
      },
      "outputs": [
        {
          "name": "stdout",
          "output_type": "stream",
          "text": [
            "{'temp': 21, 'hum': 10, 'lux': 100}\n",
            "{'temp': 26, 'hum': 20, 'lux': 150}\n",
            "{'temp': 28, 'hum': 30, 'lux': 200}\n",
            "{0: [21, 10, 100], 1: [26, 20, 150], 2: [28, 30, 200]}\n"
          ]
        }
      ],
      "source": [
        "def func(dt):\n",
        "  x={}\n",
        "  for i, values in enumerate(dt[\"threshold\"]):\n",
        "\n",
        "    # print(values)\n",
        "    x[i]=list(values.values())\n",
        "  return x\n",
        "\n",
        "dt={\"threshold\":[{\"temp\":21,\"hum\":10,\"lux\":100},{\"temp\":26,\"hum\":20,\"lux\":150},{\"temp\":28,\"hum\":30,\"lux\":200}]}\n",
        "ot=func(dt)\n",
        "print(ot)\n"
      ]
    },
    {
      "cell_type": "code",
      "execution_count": null,
      "metadata": {
        "colab": {
          "base_uri": "https://localhost:8080/"
        },
        "id": "gz7co0uVX7yd",
        "outputId": "1da4014e-e822-40c9-9af5-3ac64195c075"
      },
      "outputs": [
        {
          "name": "stdout",
          "output_type": "stream",
          "text": [
            "{'temp': 21, 'hum': 10, 'lux': 100}\n",
            "{'temp': 26, 'hum': 20, 'lux': 150}\n",
            "{'temp': 28, 'hum': 30, 'lux': 200}\n"
          ]
        }
      ],
      "source": [
        "dt={\"threshold\":[{\"temp\":21,\"hum\":10,\"lux\":100},{\"temp\":26,\"hum\":20,\"lux\":150},{\"temp\":28,\"hum\":30,\"lux\":200}]}\n",
        "for k,v in enumerate(dt[\"threshold\"]):\n",
        "\n",
        "  print(v)\n"
      ]
    },
    {
      "cell_type": "code",
      "execution_count": null,
      "metadata": {
        "id": "KXf94BXqYd70"
      },
      "outputs": [],
      "source": [
        "threshold_dic={0: [26, 50, 10], 1: [28, 70, 20], 2: [30, 30, 50],3:1}\n",
        "\n",
        "def getThreshold(data):\n",
        "  count=0\n",
        "  for i in data.values():\n",
        "    if count==3:\n",
        "      break\n",
        "    # print(i)\n",
        "    dic={'temp':i[0],'hum':i[1],'lux':i[2]}\n",
        "    count+=1\n",
        "    print(dic)"
      ]
    },
    {
      "cell_type": "markdown",
      "metadata": {
        "id": "L2X8F3TPFL4W"
      },
      "source": [
        "**23/10/23**"
      ]
    },
    {
      "cell_type": "code",
      "execution_count": null,
      "metadata": {
        "colab": {
          "base_uri": "https://localhost:8080/"
        },
        "id": "tgW7YOGUZ82z",
        "outputId": "301366da-a962-4e1b-8158-ecd735da9262"
      },
      "outputs": [
        {
          "name": "stdout",
          "output_type": "stream",
          "text": [
            "*  \n",
            "* *  \n",
            "* * *  \n",
            "* * * *  \n",
            "* * * * *  \n"
          ]
        }
      ],
      "source": [
        "for i in range(1,6):\n",
        "  for j in range(1,i+1):\n",
        "   print(\"*\",end=\" \")\n",
        "  print(\" \")"
      ]
    },
    {
      "cell_type": "code",
      "execution_count": null,
      "metadata": {
        "colab": {
          "base_uri": "https://localhost:8080/"
        },
        "id": "rfWZzA85FZuG",
        "outputId": "2a23481d-d7e4-444c-f3cf-00331f8c8eaa"
      },
      "outputs": [
        {
          "name": "stdout",
          "output_type": "stream",
          "text": [
            "* * * * *  \n",
            "* * * *  \n",
            "* * *  \n",
            "* *  \n",
            "*  \n"
          ]
        }
      ],
      "source": [
        "for i in range(5,0,-1):\n",
        "  for j in range(1,i+1):\n",
        "   print(\"*\",end=\" \")\n",
        "  print(\" \")"
      ]
    },
    {
      "cell_type": "code",
      "execution_count": null,
      "metadata": {
        "colab": {
          "base_uri": "https://localhost:8080/"
        },
        "id": "f-x37J4-d8xB",
        "outputId": "f07356aa-dc1d-4a01-d5a2-2988a74ba777"
      },
      "outputs": [
        {
          "name": "stdout",
          "output_type": "stream",
          "text": [
            "A A A A A A  \n",
            "A A A A A  \n",
            "A A A A  \n",
            "A A A  \n",
            "A A  \n",
            "A  \n"
          ]
        }
      ],
      "source": [
        "for i in range(6,0,-1):\n",
        "  for j in range(1,i+1):\n",
        "   print(\"A\",end=\" \")\n",
        "  print(\" \")"
      ]
    },
    {
      "cell_type": "code",
      "execution_count": null,
      "metadata": {
        "colab": {
          "base_uri": "https://localhost:8080/"
        },
        "id": "R8E6soTMeORj",
        "outputId": "c7d1b63c-14b4-44e8-f926-ad8a0f6aeb27"
      },
      "outputs": [
        {
          "name": "stdout",
          "output_type": "stream",
          "text": [
            "[1, 2, 3, 6, 5, 4]\n"
          ]
        }
      ],
      "source": [
        "list=[1,2,3,6,5,4,1,3,5,4,6]\n",
        "x=[]\n",
        "for i in list:\n",
        "  if i not in x:\n",
        "    x.append(i)\n",
        "print(x)"
      ]
    },
    {
      "cell_type": "code",
      "execution_count": null,
      "metadata": {
        "colab": {
          "base_uri": "https://localhost:8080/"
        },
        "id": "n-e-tNyepcVK",
        "outputId": "dbfd79c4-cc01-40c0-e4a0-48139a7b3897"
      },
      "outputs": [
        {
          "name": "stdout",
          "output_type": "stream",
          "text": [
            "('e', 'x', 'e', 'r', 'c', 'i', 's', 'e')\n"
          ]
        }
      ],
      "source": [
        "tup = ('e', 'x', 'e', 'r', 'c', 'i', 's', 'e', 's')\n",
        "tp=tup[0:-1]\n",
        "# tp=tup[5]\n",
        "print(tp)"
      ]
    },
    {
      "cell_type": "code",
      "execution_count": null,
      "metadata": {
        "colab": {
          "base_uri": "https://localhost:8080/"
        },
        "id": "CX2UD7WhqFnh",
        "outputId": "86dd5c27-aaae-4458-94d5-0a382410f824"
      },
      "outputs": [
        {
          "name": "stdout",
          "output_type": "stream",
          "text": [
            "[20, 40]\n"
          ]
        }
      ],
      "source": [
        "l = ['hello', 10, 20, 40, 20, 60, 40, 30]\n",
        "x=[]\n",
        "for i in l:\n",
        "  if l.count(i)>1 and i not in x:\n",
        "    x.append(i)\n",
        "print(x)"
      ]
    },
    {
      "cell_type": "code",
      "execution_count": null,
      "metadata": {
        "colab": {
          "base_uri": "https://localhost:8080/"
        },
        "id": "ZNJBJNb9sE6B",
        "outputId": "465bddd3-bc2c-47e6-cec8-06c387ebacfa"
      },
      "outputs": [
        {
          "name": "stdout",
          "output_type": "stream",
          "text": [
            "[1, 2, 4]\n"
          ]
        }
      ],
      "source": [
        "l=[1,2,3,1,2,4,5,4]\n",
        "x=[]\n",
        "for i in l:\n",
        "  if l.count(i)>1 and i not in x:\n",
        "    x.append(i)\n",
        "print(x)"
      ]
    },
    {
      "cell_type": "markdown",
      "metadata": {
        "id": "cN_9UYwsXOrk"
      },
      "source": [
        "**24/10/23**"
      ]
    },
    {
      "cell_type": "code",
      "execution_count": null,
      "metadata": {
        "colab": {
          "base_uri": "https://localhost:8080/"
        },
        "id": "CzazjnFYYTLT",
        "outputId": "0f081850-69b3-43b1-cd28-ee51d8cf7d46"
      },
      "outputs": [
        {
          "name": "stdout",
          "output_type": "stream",
          "text": [
            "100 f\n"
          ]
        }
      ],
      "source": [
        "dictt = {'a':5, 'b':14, 'c': 32, 'd':35, 'e':24, 'f': 100, 'g':57, 'h':8, 'i': 100}\n",
        "y=0\n",
        "z=None\n",
        "for k,v in dictt.items():\n",
        "  if v>y:\n",
        "    y=v\n",
        "    z=k\n",
        "\n",
        "print(y,z)\n"
      ]
    },
    {
      "cell_type": "code",
      "execution_count": null,
      "metadata": {
        "colab": {
          "base_uri": "https://localhost:8080/"
        },
        "id": "5492U47gVvx8",
        "outputId": "53240952-a6f4-4632-f2e7-1b039baf5f70"
      },
      "outputs": [
        {
          "name": "stdout",
          "output_type": "stream",
          "text": [
            "1 \n",
            "1 2 \n",
            "1 2 3 \n",
            "1 2 3 4 \n",
            "1 2 3 4 5 \n"
          ]
        }
      ],
      "source": [
        "rows = 5\n",
        "for i in range(1, rows + 1):\n",
        "    for j in range(1, i + 1):\n",
        "        print(j, end=' ')\n",
        "    print('')"
      ]
    },
    {
      "cell_type": "markdown",
      "metadata": {
        "id": "lSE3k6so-DWg"
      },
      "source": [
        "**25/10/23. 1st.swap alternate**"
      ]
    },
    {
      "cell_type": "code",
      "execution_count": null,
      "metadata": {
        "colab": {
          "base_uri": "https://localhost:8080/"
        },
        "id": "IJnsysKFF95c",
        "outputId": "61a983ef-90b1-4eec-ccf5-276d1fb2b75b"
      },
      "outputs": [
        {
          "name": "stdout",
          "output_type": "stream",
          "text": [
            "[6, 5, 2, 7, 1, 3, 9]\n"
          ]
        }
      ],
      "source": [
        "fr=[5,6,7,2,3,1,9]\n",
        "for i in range(0,len(fr),2):\n",
        "  if i+1<len(fr):\n",
        "    fr[i],fr[i+1]=fr[i+1],fr[i]\n",
        "print(fr)"
      ]
    },
    {
      "cell_type": "code",
      "execution_count": null,
      "metadata": {
        "colab": {
          "base_uri": "https://localhost:8080/"
        },
        "id": "gIyzguGVaifb",
        "outputId": "2f1dc581-d049-4a0e-ce04-bf91759028db"
      },
      "outputs": [
        {
          "name": "stdout",
          "output_type": "stream",
          "text": [
            "[6, 5, 2, 7, 1, 3]\n"
          ]
        }
      ],
      "source": [
        "fr=[5,6,7,2,3,1]\n",
        "for i in range(0,len(fr),2):\n",
        "  fr[i],fr[i+1]=fr[i+1],fr[i]\n",
        "print(fr)\n",
        "\n"
      ]
    },
    {
      "cell_type": "code",
      "execution_count": null,
      "metadata": {
        "colab": {
          "base_uri": "https://localhost:8080/"
        },
        "id": "4rOJIroVElDH",
        "outputId": "d09248d6-a528-4a43-89f1-c236185318a0"
      },
      "outputs": [
        {
          "name": "stdout",
          "output_type": "stream",
          "text": [
            "[3, 2, 4, 6, 5, 7]\n"
          ]
        }
      ],
      "source": [
        "lst=[2,3,4,5,6,7]\n",
        "for i in range(0,len(lst),3):\n",
        "  if i+1<len(lst):\n",
        "    lst[i],lst[i+1]=lst[i+1],lst[i]\n",
        "print(lst)\n"
      ]
    },
    {
      "cell_type": "code",
      "execution_count": null,
      "metadata": {
        "colab": {
          "base_uri": "https://localhost:8080/"
        },
        "id": "mtsuhyy3_MSf",
        "outputId": "cec34400-4fd6-490e-d4ba-4181baed9ac7"
      },
      "outputs": [
        {
          "name": "stdout",
          "output_type": "stream",
          "text": [
            "{'s': 1, 'a': 2, 'd': 1, 'i': 2, 'q': 1, 'u': 1, 'e': 1, ' ': 1, 'l': 1}\n"
          ]
        }
      ],
      "source": [
        "str1=\"sadique ali\"\n",
        "x={}\n",
        "for i in str1:\n",
        "  if i in x:\n",
        "    x[i]+=1\n",
        "  else:\n",
        "    x[i]=1\n",
        "print(x)\n"
      ]
    },
    {
      "cell_type": "code",
      "execution_count": null,
      "metadata": {
        "colab": {
          "base_uri": "https://localhost:8080/"
        },
        "id": "iVBqODLl-jcS",
        "outputId": "b51b53f7-41d0-461f-c6a5-58b15b9fc1fa"
      },
      "outputs": [
        {
          "name": "stdout",
          "output_type": "stream",
          "text": [
            "[(1, 2, 3), (4, 5, 7), (1, 10, 12), (0, 1, 10)]\n"
          ]
        }
      ],
      "source": [
        "a=[(2,1,3),(5,4,7),(10,12,1),(0,10,1)]\n",
        "\n",
        "for k in range(len(a)):\n",
        "  x=list(a[k])\n",
        "  # print(x)\n",
        "  for i in range(len(x)):\n",
        "    for j in range(i+1,len(x)):\n",
        "      if x[i]>x[j]:\n",
        "        x[i],x[j]=x[j],x[i]\n",
        "      a[k]=tuple(x)\n",
        "print(a)\n"
      ]
    },
    {
      "cell_type": "code",
      "execution_count": null,
      "metadata": {
        "colab": {
          "base_uri": "https://localhost:8080/"
        },
        "id": "RHkVRQxVAWrD",
        "outputId": "de17d30a-0a73-40f9-81bb-c32cb809f7cc"
      },
      "outputs": [
        {
          "name": "stdout",
          "output_type": "stream",
          "text": [
            "17\n"
          ]
        }
      ],
      "source": [
        "x=[2,3,1,2,4,5]\n",
        "y=0\n",
        "for i in x:\n",
        "  y=y+i\n",
        "\n",
        "print(y)"
      ]
    },
    {
      "cell_type": "code",
      "execution_count": null,
      "metadata": {
        "colab": {
          "base_uri": "https://localhost:8080/"
        },
        "id": "eX5MfIhWESn_",
        "outputId": "9b56a9cc-0c24-489e-8908-127068ea3119"
      },
      "outputs": [
        {
          "name": "stdout",
          "output_type": "stream",
          "text": [
            "17\n"
          ]
        }
      ],
      "source": [
        "x=[2,3,1,2,4,5]\n",
        "print(sum(x))"
      ]
    },
    {
      "cell_type": "markdown",
      "metadata": {
        "id": "eY7DgRs0FgyG"
      },
      "source": [
        "**26/10/2023**"
      ]
    },
    {
      "cell_type": "code",
      "execution_count": null,
      "metadata": {
        "colab": {
          "base_uri": "https://localhost:8080/"
        },
        "id": "C5w4V6SXEWSm",
        "outputId": "19a3c034-f581-46f7-c57e-325420b5b4f0"
      },
      "outputs": [
        {
          "name": "stdout",
          "output_type": "stream",
          "text": [
            "{2: ['notepad', 'mouse'], 1: ['cat']}\n"
          ]
        }
      ],
      "source": [
        "lst=[\"notepad\",\"notepad\",\"mouse\",\"mouse\",\"cat\"]\n",
        "# x={}\n",
        "# for i in lst:\n",
        "#   if i in x:\n",
        "#     x[i]+=1\n",
        "#   else:\n",
        "#     x[i]=1\n",
        "# print(x)\n",
        "z={}\n",
        "for i,j in x.items():\n",
        "  if j not in z:\n",
        "    z[j] = [i]\n",
        "\n",
        "  else:\n",
        "    z[j].append(i)\n",
        "\n",
        "print(z)\n",
        "\n",
        "\n",
        "# o/p:{2: ['notepad', 'mouse'], 1: ['cat']}"
      ]
    },
    {
      "cell_type": "code",
      "execution_count": null,
      "metadata": {
        "colab": {
          "base_uri": "https://localhost:8080/"
        },
        "id": "Vp0fJOMVvjM4",
        "outputId": "a3f93a0a-0de3-4136-c935-3dd40ec87a63"
      },
      "outputs": [
        {
          "name": "stdout",
          "output_type": "stream",
          "text": [
            "{'notepad': 2, 'mouse': 2, 'cat': 1}\n"
          ]
        }
      ],
      "source": [
        "lst=[\"notepad\",\"notepad\",\"mouse\",\"mouse\",\"cat\"]\n",
        "x={}\n",
        "for i in lst:\n",
        "  if i in x:\n",
        "    x[i]+=1\n",
        "  else:\n",
        "    x[i]=1\n",
        "print(x)"
      ]
    },
    {
      "cell_type": "code",
      "execution_count": null,
      "metadata": {
        "colab": {
          "base_uri": "https://localhost:8080/"
        },
        "id": "XvuSw9ENwCGu",
        "outputId": "592b1fd4-015b-4dfe-ae9d-5b12d69a4be7"
      },
      "outputs": [
        {
          "name": "stdout",
          "output_type": "stream",
          "text": [
            "{'abc': 1, 'mnc': 3, 'str': 5}\n"
          ]
        }
      ],
      "source": [
        "a={'abc':1,'pqr':2,'mnc':3,'lmn':4,'str':5}\n",
        "lst=['abc','mnc','str']\n",
        "x={}\n",
        "for i in lst:\n",
        "  if i in a:\n",
        "    x[i]=a[i]\n",
        "print(x)"
      ]
    },
    {
      "cell_type": "code",
      "execution_count": null,
      "metadata": {
        "colab": {
          "base_uri": "https://localhost:8080/"
        },
        "id": "ymT7BNZrJ6RJ",
        "outputId": "ef51a8e9-ab40-4fa3-da60-8652cbb820e4"
      },
      "outputs": [
        {
          "name": "stdout",
          "output_type": "stream",
          "text": [
            "[(10, 5), (12, 3)]\n"
          ]
        }
      ],
      "source": [
        "a=[10,12,3,4,5]\n",
        "sum=15\n",
        "y=[]\n",
        "for i in range(len(a)):\n",
        "  for j in range(i+1,len(a)):\n",
        "    res=a[i]+a[j]\n",
        "    if res==sum:\n",
        "      y.append((a[i],a[j]))\n",
        "print(y)"
      ]
    },
    {
      "cell_type": "markdown",
      "metadata": {
        "id": "X8FMpVxWB6iG"
      },
      "source": [
        "**27/10/2023**"
      ]
    },
    {
      "cell_type": "code",
      "execution_count": null,
      "metadata": {
        "colab": {
          "base_uri": "https://localhost:8080/"
        },
        "id": "SIWICyXoEWqr",
        "outputId": "2ec45a2d-f02a-456b-d794-03f32348e9e7"
      },
      "outputs": [
        {
          "name": "stdout",
          "output_type": "stream",
          "text": [
            "{'abc': 1, 'xyz': 3, 'str': 5}\n"
          ]
        }
      ],
      "source": [
        "a={'abc':1,'pqr':2,'xyz':3,'lmn':4,'str':5}\n",
        "lst=['abc','xyz','str']\n",
        "x={}\n",
        "for i in lst:\n",
        "  if i in a:\n",
        "    x[i]=a[i]\n",
        "print(x)"
      ]
    },
    {
      "cell_type": "code",
      "execution_count": null,
      "metadata": {
        "colab": {
          "base_uri": "https://localhost:8080/"
        },
        "id": "Q5shBxSAE8IP",
        "outputId": "18711d09-b873-4cf8-a930-8809a5f7ff5e"
      },
      "outputs": [
        {
          "name": "stdout",
          "output_type": "stream",
          "text": [
            "rashida_400\n",
            "zobia_95\n",
            "anam_400\n"
          ]
        }
      ],
      "source": [
        "a={'rashida':[25,0,30,400],'zobia':[1,0,95,25],'anam':[400,300,200,1]}\n",
        "\n",
        "for k,v in a.items():\n",
        "  x=0\n",
        "  for i in v:\n",
        "    if i>x:\n",
        "      x=i\n",
        "  print(f\"{k}_{x}\")\n",
        "\n",
        "\n"
      ]
    },
    {
      "cell_type": "code",
      "execution_count": null,
      "metadata": {
        "colab": {
          "base_uri": "https://localhost:8080/"
        },
        "id": "7eqbrOj6Gqur",
        "outputId": "cf2ac0a5-94ca-443b-8bf7-ea6957a2553f"
      },
      "outputs": [
        {
          "name": "stdout",
          "output_type": "stream",
          "text": [
            "{'a': 1, '3': 1, 'b': 1, '2': 1, 'c': 1, '4': 1, 'd': 1, '1': 1}\n"
          ]
        }
      ],
      "source": [
        "a=\"a3b2c4d1\"\n",
        "y={}\n",
        "for i in a:\n",
        "  if i in y:\n",
        "    y[i]+=1\n",
        "  else:\n",
        "    y[i]=1\n",
        "print(y)"
      ]
    },
    {
      "cell_type": "code",
      "execution_count": null,
      "metadata": {
        "colab": {
          "base_uri": "https://localhost:8080/"
        },
        "id": "XXM1gdcsHVjw",
        "outputId": "ea67d367-9baa-4804-b331-0f9fd2b4f0a3"
      },
      "outputs": [
        {
          "name": "stdout",
          "output_type": "stream",
          "text": [
            "aaabbccccd"
          ]
        }
      ],
      "source": [
        "a=\"a3b2c4d1\"\n",
        "b=\"\"\n",
        "for i in range(0,len(a),2):\n",
        "    # print(a[i])\n",
        "\n",
        "  b=a[i]*int(a[i+1])\n",
        "  print(b,end=\"\")\n"
      ]
    },
    {
      "cell_type": "code",
      "execution_count": null,
      "metadata": {
        "colab": {
          "base_uri": "https://localhost:8080/"
        },
        "id": "4EvauF8WQ6XS",
        "outputId": "58e3b068-4340-486b-834c-6d925029c9ea"
      },
      "outputs": [
        {
          "name": "stdout",
          "output_type": "stream",
          "text": [
            "Ali\n",
            "Akbar\n",
            "Bilal\n"
          ]
        }
      ],
      "source": [
        "d = {\"Ali\":{\"Score\":91},\"Akbar\":{\"Score\":45},\"Bilal\":{\"Score\":30}}\n",
        "x=0\n",
        "y=\"\"\n",
        "for i in d:\n",
        "  print(i)\n",
        "  if d[i]['score']>x:\n",
        "    x=d[i]['score']\n",
        "    y=i\n",
        "print({y:x})\n",
        "# {'Ali': 91}"
      ]
    },
    {
      "cell_type": "code",
      "execution_count": null,
      "metadata": {
        "colab": {
          "base_uri": "https://localhost:8080/"
        },
        "id": "iBJHmzr-TKLB",
        "outputId": "f0f3cd1e-e26e-4688-a5e6-34dadf0282dc"
      },
      "outputs": [
        {
          "name": "stdout",
          "output_type": "stream",
          "text": [
            "\n",
            "1 \n",
            "2 2 \n",
            "3 3 3 \n",
            "4 4 4 4 \n",
            "5 5 5 5 5 \n"
          ]
        }
      ],
      "source": [
        "x=6\n",
        "for i in range(x):\n",
        "  for j in range(i):\n",
        "    print(i,end=\" \")\n",
        "  print(\"\")\n"
      ]
    },
    {
      "cell_type": "markdown",
      "metadata": {
        "id": "IbMfPj0fiAGs"
      },
      "source": [
        "**28/10/23 map function question 1**"
      ]
    },
    {
      "cell_type": "code",
      "execution_count": null,
      "metadata": {
        "colab": {
          "base_uri": "https://localhost:8080/"
        },
        "id": "hL12MfJjTSY7",
        "outputId": "3c4b5e8d-ff32-436d-e318-16b74a8a6fc6"
      },
      "outputs": [
        {
          "name": "stdout",
          "output_type": "stream",
          "text": [
            "[12, 15, 18]\n"
          ]
        }
      ],
      "source": [
        "# map function\n",
        "\n",
        "nums1 = [1, 2, 3]\n",
        "nums2 = [4, 5, 6]\n",
        "nums3 = [7, 8, 9]\n",
        "res=map(lambda x,y,z: x+y+z,nums1,nums2,nums3)\n",
        "print(list(res))"
      ]
    },
    {
      "cell_type": "markdown",
      "metadata": {
        "id": "52eFKvxhFuZb"
      },
      "source": [
        "**user defind method**"
      ]
    },
    {
      "cell_type": "code",
      "execution_count": null,
      "metadata": {
        "colab": {
          "base_uri": "https://localhost:8080/"
        },
        "id": "okoCeNbRDYzU",
        "outputId": "58c1d0bb-44ca-4bca-a33e-bd9114b6a474"
      },
      "outputs": [
        {
          "name": "stdout",
          "output_type": "stream",
          "text": [
            "[12, 15, 18]\n"
          ]
        }
      ],
      "source": [
        "nums1 = [1, 2, 3]\n",
        "nums2 = [4, 5, 6]\n",
        "nums3 = [7, 8, 9]\n",
        "l3=[]\n",
        "for i in range(3):\n",
        "  l3.append(nums1[i]+nums2[i]+nums3[i])\n",
        "print(l3)"
      ]
    },
    {
      "cell_type": "markdown",
      "metadata": {
        "id": "mJsz23xiWazk"
      },
      "source": [
        "**question 2**"
      ]
    },
    {
      "cell_type": "code",
      "execution_count": null,
      "metadata": {
        "colab": {
          "base_uri": "https://localhost:8080/"
        },
        "id": "xcFcGzRIc_Sc",
        "outputId": "898157e0-e74d-4e85-f7ad-04c73f2ee5f1"
      },
      "outputs": [
        {
          "name": "stdout",
          "output_type": "stream",
          "text": [
            "[4, 9, 16, 25]\n"
          ]
        }
      ],
      "source": [
        "def square(num):\n",
        "  return num*num\n",
        "\n",
        "nums=[2,3,4,5]\n",
        "# print(nums)\n",
        "res=map(square,nums)\n",
        "print(list(res))\n"
      ]
    },
    {
      "cell_type": "markdown",
      "metadata": {
        "id": "0bFjwvlMFzYq"
      },
      "source": [
        "**user defind method**"
      ]
    },
    {
      "cell_type": "code",
      "execution_count": null,
      "metadata": {
        "colab": {
          "base_uri": "https://localhost:8080/"
        },
        "id": "_sOAH1cF6YNs",
        "outputId": "50777070-346b-4801-863e-7db8b192caa4"
      },
      "outputs": [
        {
          "name": "stdout",
          "output_type": "stream",
          "text": [
            "[4, 9, 16, 25]\n"
          ]
        }
      ],
      "source": [
        "nums=[2,3,4,5]\n",
        "x=[i*i for i in nums]\n",
        "print(x)\n"
      ]
    },
    {
      "cell_type": "markdown",
      "metadata": {
        "id": "dmfRbKg0WfHJ"
      },
      "source": [
        "**question 3**"
      ]
    },
    {
      "cell_type": "code",
      "execution_count": null,
      "metadata": {
        "colab": {
          "base_uri": "https://localhost:8080/"
        },
        "id": "zXyQmExLgI4N",
        "outputId": "bdc8b4e7-7613-4fc1-ffbf-e4240a77aa2f"
      },
      "outputs": [
        {
          "name": "stdout",
          "output_type": "stream",
          "text": [
            "['even', 'odd', 'even', 'odd', 'even']\n"
          ]
        }
      ],
      "source": [
        "def even_odd(num):\n",
        "  if num%2==0:\n",
        "    return 'even'\n",
        "  else:\n",
        "    return 'odd'\n",
        "nums=[2,3,4,5,6]\n",
        "res=map(even_odd,nums)\n",
        "print(list(res))"
      ]
    },
    {
      "cell_type": "markdown",
      "metadata": {
        "id": "XDo2_JXm1ePg"
      },
      "source": [
        "**`user defined method`**"
      ]
    },
    {
      "cell_type": "code",
      "execution_count": null,
      "metadata": {
        "colab": {
          "base_uri": "https://localhost:8080/"
        },
        "id": "6XcA30WB1cow",
        "outputId": "db9c9a5a-306a-46c6-948a-be8d408dba35"
      },
      "outputs": [
        {
          "name": "stdout",
          "output_type": "stream",
          "text": [
            "even 2\n",
            "odd 3\n",
            "even 4\n",
            "odd 5\n",
            "even 6\n"
          ]
        }
      ],
      "source": [
        "nums=[2,3,4,5,6]\n",
        "for i in nums:\n",
        "  if i%2==0:\n",
        "    print('even',i)\n",
        "  else:\n",
        "    print('odd',i)"
      ]
    },
    {
      "cell_type": "code",
      "execution_count": null,
      "metadata": {
        "colab": {
          "base_uri": "https://localhost:8080/"
        },
        "id": "5JHpQKhLtgV_",
        "outputId": "753b8fa2-cd3b-45fc-afb2-85f2113a00e1"
      },
      "outputs": [
        {
          "name": "stdout",
          "output_type": "stream",
          "text": [
            "['HEENA', 'ANAM', 'RASHIDA']\n"
          ]
        }
      ],
      "source": [
        "person=['heena','anam','rashida']\n",
        "upper_person=list(map(str.upper,person))\n",
        "print(upper_person)"
      ]
    },
    {
      "cell_type": "code",
      "execution_count": null,
      "metadata": {
        "colab": {
          "base_uri": "https://localhost:8080/"
        },
        "id": "4iquWnBbwIJX",
        "outputId": "e11956d0-2109-4a64-84f2-fbf3f706df34"
      },
      "outputs": [
        {
          "name": "stdout",
          "output_type": "stream",
          "text": [
            "['HEENA', 'ANAM', 'RASHIDA']\n"
          ]
        }
      ],
      "source": [
        "person=['heena','anam','rashida']\n",
        "s1=[]\n",
        "for i in person:\n",
        "  if i.lower():\n",
        "    s1.append(i.upper())\n",
        "print(s1)"
      ]
    },
    {
      "cell_type": "code",
      "execution_count": null,
      "metadata": {
        "colab": {
          "base_uri": "https://localhost:8080/"
        },
        "id": "tTlrl9p9t8oM",
        "outputId": "366c2bce-a377-42d5-9d6c-906c1c160055"
      },
      "outputs": [
        {
          "name": "stdout",
          "output_type": "stream",
          "text": [
            "RASHIDA\n"
          ]
        }
      ],
      "source": [
        "person=['heena','anam','rashida']\n",
        "# c1=0\n",
        "for i in person:\n",
        "  # print(i)\n",
        "  if i.islower():\n",
        "    x=i.upper()\n",
        "    person=x\n",
        "print(x)"
      ]
    },
    {
      "cell_type": "code",
      "execution_count": null,
      "metadata": {
        "colab": {
          "base_uri": "https://localhost:8080/"
        },
        "id": "AyAE0DrUtJGS",
        "outputId": "b9519e78-6075-40b5-c730-1bdccedc348c"
      },
      "outputs": [
        {
          "name": "stdout",
          "output_type": "stream",
          "text": [
            "[5, 4, 32, 15]\n"
          ]
        }
      ],
      "source": [
        "|list1 = [1, 2, 4, 5]\n",
        "\n",
        "tuple1 = (5, 2, 8, 3)\n",
        "\n",
        "z=map(lambda x,y: x*y,list1,tuple1)\n",
        "print(list(z))"
      ]
    },
    {
      "cell_type": "markdown",
      "metadata": {
        "id": "dJwWR6sLF6hJ"
      },
      "source": [
        "**zip functions 1.**"
      ]
    },
    {
      "cell_type": "code",
      "execution_count": null,
      "metadata": {
        "colab": {
          "base_uri": "https://localhost:8080/"
        },
        "id": "3uJ-0pbBfN5R",
        "outputId": "8a51f7de-efd2-473d-cce4-70bc64a6bb48"
      },
      "outputs": [
        {
          "name": "stdout",
          "output_type": "stream",
          "text": [
            "[(1, 2), (2, 3), (3, 4), (4, 5)]\n"
          ]
        }
      ],
      "source": [
        "# zip function\n",
        "\n",
        "x=[1,2,3,4]\n",
        "y=[2,3,4,5]\n",
        "res=zip(x,y)\n",
        "print(list(res))\n"
      ]
    },
    {
      "cell_type": "code",
      "execution_count": null,
      "metadata": {
        "colab": {
          "base_uri": "https://localhost:8080/"
        },
        "id": "ajnCXnNnGH6q",
        "outputId": "caffad95-fd50-40eb-c3d8-d0f1bb4fe99c"
      },
      "outputs": [
        {
          "name": "stdout",
          "output_type": "stream",
          "text": [
            "[(1, 2), (2, 3), (3, 4), (4, 5)]\n"
          ]
        }
      ],
      "source": [
        "def func(x,y):\n",
        "  return x,y\n",
        "\n",
        "x=[1,2,3,4]\n",
        "y=[2,3,4,5]\n",
        "res=[func(x[i],y[i]) for i in range(len(x))]\n",
        "print(res)"
      ]
    },
    {
      "cell_type": "markdown",
      "metadata": {
        "id": "zEoBSBSbWIGC"
      },
      "source": [
        "**question 2**"
      ]
    },
    {
      "cell_type": "code",
      "execution_count": null,
      "metadata": {
        "colab": {
          "base_uri": "https://localhost:8080/"
        },
        "id": "X6VF5RgdgpYp",
        "outputId": "2f0ff6d9-8d86-4c11-956d-1c70a2ce89f9"
      },
      "outputs": [
        {
          "name": "stdout",
          "output_type": "stream",
          "text": [
            "{'a': 1, 'b': 2, 'c': 3}\n"
          ]
        }
      ],
      "source": [
        "l1 = [\"a\", \"b\" , \"c\"]\n",
        "l2 = [1, 2, 3]\n",
        "l3={k:v for k,v in zip(l1,l2)}\n",
        "print(l3)"
      ]
    },
    {
      "cell_type": "code",
      "execution_count": null,
      "metadata": {
        "colab": {
          "base_uri": "https://localhost:8080/"
        },
        "id": "-V12P27THQBn",
        "outputId": "91a2f441-e339-42f2-c633-464140b98506"
      },
      "outputs": [
        {
          "name": "stdout",
          "output_type": "stream",
          "text": [
            "{'a': 1, 'b': 2, 'c': 3}\n"
          ]
        }
      ],
      "source": [
        "l1 = [\"a\", \"b\", \"c\"]\n",
        "l2 = [1, 2, 3]\n",
        "\n",
        "res= {l1[i]: l2[i] for i in range(len(l1))}\n",
        "# print(l1[i])\n",
        "print(res)\n"
      ]
    },
    {
      "cell_type": "markdown",
      "metadata": {
        "id": "G8Hew-EJWLe4"
      },
      "source": [
        "**question 3**"
      ]
    },
    {
      "cell_type": "code",
      "execution_count": null,
      "metadata": {
        "colab": {
          "base_uri": "https://localhost:8080/"
        },
        "id": "J6thHLaehD2A",
        "outputId": "9bdc9c7c-d333-40dc-b4b4-556a86cfb560"
      },
      "outputs": [
        {
          "name": "stdout",
          "output_type": "stream",
          "text": [
            "['My', 'name', 'is', 'rashida']\n"
          ]
        }
      ],
      "source": [
        "list1 = [\"M\", \"na\", \"i\", \"ras\"]\n",
        "list2 = [\"y\", \"me\", \"s\", \"hida\"]\n",
        "list3=[i+j for i,j in zip(list1,list2)]\n",
        "print(list3)"
      ]
    },
    {
      "cell_type": "code",
      "execution_count": null,
      "metadata": {
        "colab": {
          "base_uri": "https://localhost:8080/"
        },
        "id": "T5bjXorASuTK",
        "outputId": "ec974677-57ed-4609-a0e0-fe662166e55f"
      },
      "outputs": [
        {
          "name": "stdout",
          "output_type": "stream",
          "text": [
            "['My', 'name', 'is', 'rashida']\n"
          ]
        }
      ],
      "source": [
        "list1 = [\"M\", \"na\", \"i\", \"ras\"]\n",
        "list2 = [\"y\", \"me\", \"s\", \"hida\"]\n",
        "res=[list1[i]+list2[i] for i in range(len(list1))]\n",
        "print(res)"
      ]
    },
    {
      "cell_type": "markdown",
      "metadata": {
        "id": "NIOXFAajWPWD"
      },
      "source": [
        "**question 4**"
      ]
    },
    {
      "cell_type": "code",
      "execution_count": null,
      "metadata": {
        "colab": {
          "base_uri": "https://localhost:8080/"
        },
        "id": "6IO1Ik-chcca",
        "outputId": "6f299871-b227-4a0f-da26-2b466f8c48fd"
      },
      "outputs": [
        {
          "name": "stdout",
          "output_type": "stream",
          "text": [
            "[5, 7, 9]\n"
          ]
        }
      ],
      "source": [
        "x=[2,3,4]\n",
        "y=[3,4,5]\n",
        "z=[i+j for i,j in zip(x,y)]\n",
        "print(z)"
      ]
    },
    {
      "cell_type": "code",
      "execution_count": null,
      "metadata": {
        "colab": {
          "base_uri": "https://localhost:8080/"
        },
        "id": "FqsIZj41Tb67",
        "outputId": "6071ea7a-9886-4a3c-a838-3c1bfe3c1192"
      },
      "outputs": [
        {
          "name": "stdout",
          "output_type": "stream",
          "text": [
            "[5, 7, 9]\n"
          ]
        }
      ],
      "source": [
        "x=[2,3,4]\n",
        "y=[3,4,5]\n",
        "res=[x[i]+y[i] for i in range(len(x))]\n",
        "print(res)"
      ]
    },
    {
      "cell_type": "markdown",
      "metadata": {
        "id": "gWCLqeQ4TRIC"
      },
      "source": [
        "***filter method ***"
      ]
    },
    {
      "cell_type": "code",
      "execution_count": null,
      "metadata": {
        "colab": {
          "base_uri": "https://localhost:8080/"
        },
        "id": "zRPvn8dQhyUl",
        "outputId": "a8ff417e-29c9-4945-e0de-e4019ab1f7ea"
      },
      "outputs": [
        {
          "name": "stdout",
          "output_type": "stream",
          "text": [
            "[2, 4]\n"
          ]
        }
      ],
      "source": [
        "# filter\n",
        "x=[2,3,4,5]\n",
        "res=filter(lambda x: x%2==0,x)\n",
        "print(list(res))"
      ]
    },
    {
      "cell_type": "markdown",
      "metadata": {
        "id": "LKS0mmY5VwDT"
      },
      "source": [
        "**user defind method**"
      ]
    },
    {
      "cell_type": "code",
      "execution_count": null,
      "metadata": {
        "colab": {
          "base_uri": "https://localhost:8080/"
        },
        "id": "wTQ9BmV0Ujam",
        "outputId": "653f83ef-1af0-4f8f-fec0-3fedbce322ce"
      },
      "outputs": [
        {
          "name": "stdout",
          "output_type": "stream",
          "text": [
            "even 2\n",
            "even 4\n"
          ]
        }
      ],
      "source": [
        "x=[2,3,4,5]\n",
        "for i in x:\n",
        "  if i%2==0:\n",
        "    print('even',i)\n"
      ]
    },
    {
      "cell_type": "markdown",
      "metadata": {
        "id": "M3ocu1PzV5xA"
      },
      "source": [
        "**in built method**"
      ]
    },
    {
      "cell_type": "code",
      "execution_count": null,
      "metadata": {
        "colab": {
          "base_uri": "https://localhost:8080/"
        },
        "id": "9PoO4NVci4BK",
        "outputId": "27b1eb11-a982-45e2-d208-6483ee95cced"
      },
      "outputs": [
        {
          "name": "stdout",
          "output_type": "stream",
          "text": [
            "[3, 5]\n"
          ]
        }
      ],
      "source": [
        "\n",
        "x=[2,3,4,5]\n",
        "res=filter(lambda x: x%2!=0,x)\n",
        "print(list(res))"
      ]
    },
    {
      "cell_type": "markdown",
      "metadata": {
        "id": "33j0uHn_V2ls"
      },
      "source": [
        "**user defind method**"
      ]
    },
    {
      "cell_type": "code",
      "execution_count": null,
      "metadata": {
        "colab": {
          "base_uri": "https://localhost:8080/"
        },
        "id": "TBcTl3-GVgS7",
        "outputId": "148298e2-dd58-4937-c44c-65e13b746310"
      },
      "outputs": [
        {
          "name": "stdout",
          "output_type": "stream",
          "text": [
            "odd 3\n",
            "odd 5\n"
          ]
        }
      ],
      "source": [
        "x=[2,3,4,5]\n",
        "for i in x:\n",
        "  if i%2!=0:\n",
        "    print('odd',i)\n"
      ]
    },
    {
      "cell_type": "markdown",
      "metadata": {
        "id": "CkStDg4GVpRN"
      },
      "source": [
        "***Reduce method ***"
      ]
    },
    {
      "cell_type": "code",
      "execution_count": null,
      "metadata": {
        "colab": {
          "base_uri": "https://localhost:8080/"
        },
        "id": "2mYNn0lmjjF7",
        "outputId": "b7414f34-dcd1-4bc2-ccba-e026ee6d3e5e"
      },
      "outputs": [
        {
          "name": "stdout",
          "output_type": "stream",
          "text": [
            "24\n"
          ]
        }
      ],
      "source": [
        "# reduces\n",
        "from functools import reduce\n",
        "numbers = [1,2,3,4]\n",
        "reduced_number = reduce(lambda x,y: x*y, numbers)\n",
        "print(reduced_number)\n"
      ]
    },
    {
      "cell_type": "code",
      "execution_count": null,
      "metadata": {
        "colab": {
          "base_uri": "https://localhost:8080/"
        },
        "id": "LBF6qRY8meK8",
        "outputId": "b2f18001-8628-4184-c872-c9310f99d856"
      },
      "outputs": [
        {
          "name": "stdout",
          "output_type": "stream",
          "text": [
            "24\n"
          ]
        }
      ],
      "source": [
        "numbers = [1,2,3,4]\n",
        "x=1\n",
        "for i in numbers:\n",
        "  x*=i\n",
        "print(x)"
      ]
    },
    {
      "cell_type": "markdown",
      "metadata": {
        "id": "6HcHJUCCz2ox"
      },
      "source": [
        "**2nd question**"
      ]
    },
    {
      "cell_type": "code",
      "execution_count": null,
      "metadata": {
        "colab": {
          "base_uri": "https://localhost:8080/"
        },
        "id": "05EvCjx3V8FY",
        "outputId": "2a884979-7d93-4201-f752-c33c04dce154"
      },
      "outputs": [
        {
          "name": "stdout",
          "output_type": "stream",
          "text": [
            "10\n"
          ]
        }
      ],
      "source": [
        "from functools import reduce\n",
        "def sum(a,b):\n",
        "  return a+b\n",
        "res=reduce(sum,[2,3,4,1])\n",
        "print(res)"
      ]
    },
    {
      "cell_type": "code",
      "execution_count": null,
      "metadata": {
        "colab": {
          "base_uri": "https://localhost:8080/"
        },
        "id": "gxMzn4VYLUFD",
        "outputId": "fbed66ba-4274-45eb-9ccc-38ae538baff0"
      },
      "outputs": [
        {
          "name": "stdout",
          "output_type": "stream",
          "text": [
            "10\n"
          ]
        }
      ],
      "source": [
        "x=[2,3,4,1]\n",
        "y=0\n",
        "for i in x:\n",
        "  y=y+i\n",
        "print(y)"
      ]
    },
    {
      "cell_type": "markdown",
      "metadata": {
        "id": "BmedQY2RXDWM"
      },
      "source": [
        "**30/10/2023**"
      ]
    },
    {
      "cell_type": "code",
      "execution_count": null,
      "metadata": {
        "colab": {
          "base_uri": "https://localhost:8080/"
        },
        "id": "11I3RxetzJpI",
        "outputId": "468d8abd-9226-457d-af28-0c182e8a6140"
      },
      "outputs": [
        {
          "name": "stdout",
          "output_type": "stream",
          "text": [
            "{'A': 1, 'p': 2, 'l': 1, 'e': 1}\n"
          ]
        }
      ],
      "source": [
        "str1 = \"Apple\"\n",
        "x={}\n",
        "for i in str1:\n",
        "  if i in x:\n",
        "    x[i]+=1\n",
        "  else:\n",
        "    x[i]=1\n",
        "print(x)"
      ]
    },
    {
      "cell_type": "code",
      "execution_count": null,
      "metadata": {
        "colab": {
          "base_uri": "https://localhost:8080/"
        },
        "id": "0PEdm1fZeqit",
        "outputId": "9f220413-9e31-492c-d127-7c6440daf3dc"
      },
      "outputs": [
        {
          "name": "stdout",
          "output_type": "stream",
          "text": [
            "{1: 2, 2: 2, 3: 1, 4: 2, 5: 1}\n"
          ]
        }
      ],
      "source": [
        "x=[1,2,1,2,3,4,4,5]\n",
        "y={}\n",
        "for i in x:\n",
        "  if i in y:\n",
        "    y[i]+=1\n",
        "  else:\n",
        "    y[i]=1\n",
        "print(y)"
      ]
    },
    {
      "cell_type": "code",
      "execution_count": null,
      "metadata": {
        "colab": {
          "base_uri": "https://localhost:8080/"
        },
        "id": "jdu304loY_VK",
        "outputId": "60fc2901-00ac-4193-df1a-a359c0078d31"
      },
      "outputs": [
        {
          "name": "stdout",
          "output_type": "stream",
          "text": [
            "evitanYP\n"
          ]
        }
      ],
      "source": [
        "str1 = \"PYnative\"\n",
        "str1=str1[::-1]\n",
        "print(str1)"
      ]
    },
    {
      "cell_type": "code",
      "execution_count": null,
      "metadata": {
        "colab": {
          "base_uri": "https://localhost:8080/"
        },
        "id": "zN89XbaPZqiL",
        "outputId": "511e7140-c70b-4b0d-b2d6-2e870a2ba327"
      },
      "outputs": [
        {
          "name": "stdout",
          "output_type": "stream",
          "text": [
            "evitanYP\n"
          ]
        }
      ],
      "source": [
        "str1 = \"PYnative\"\n",
        "str1 = ''.join(reversed(str1))\n",
        "print(str1)"
      ]
    },
    {
      "cell_type": "code",
      "execution_count": null,
      "metadata": {
        "colab": {
          "base_uri": "https://localhost:8080/"
        },
        "id": "1lR-CISUZ3yy",
        "outputId": "e47909f4-5bb4-4751-88e4-1bd7f3a3a979"
      },
      "outputs": [
        {
          "name": "stdout",
          "output_type": "stream",
          "text": [
            "[(2, 'abc'), (11, 'pqr'), (9, 'xyz')]\n"
          ]
        }
      ],
      "source": [
        "b = [(11, \"pqr\"),(2, 'abc'), (9, 'xyz')]\n",
        "for i in range(len(b)):\n",
        "  for j in range(len(b)):\n",
        "    if b[i][1]<b[j][1]:\n",
        "      b[i],b[j]=b[j],b[i]\n",
        "print(b)"
      ]
    },
    {
      "cell_type": "code",
      "execution_count": null,
      "metadata": {
        "colab": {
          "base_uri": "https://localhost:8080/"
        },
        "id": "aJtwh2VCcrrp",
        "outputId": "fb5fb64a-3bb6-4dbc-9232-a0f06c938144"
      },
      "outputs": [
        {
          "name": "stdout",
          "output_type": "stream",
          "text": [
            "[(2, 'abc'), (9, 'xyz'), (11, 'pqr')]\n"
          ]
        }
      ],
      "source": [
        " l1= [(11, \"pqr\"),(2, 'abc'), (9, 'xyz')]\n",
        " for i in range(len(l1)):\n",
        "  for j in range(len(l1)):\n",
        "    if l1[i][0]<l1[j][0]:\n",
        "      l1[i],l1[j]=l1[j],l1[i]\n",
        "print(l1)\n"
      ]
    },
    {
      "cell_type": "markdown",
      "metadata": {
        "id": "ggIRvt4FX91p"
      },
      "source": [
        "**31/10/2023**"
      ]
    },
    {
      "cell_type": "code",
      "execution_count": null,
      "metadata": {
        "colab": {
          "base_uri": "https://localhost:8080/"
        },
        "id": "febXu3XkdsIx",
        "outputId": "9ab3cc69-278f-43ac-9d0d-072ea559bc45"
      },
      "outputs": [
        {
          "name": "stdout",
          "output_type": "stream",
          "text": [
            "RASHIDA ANSARI\n"
          ]
        }
      ],
      "source": [
        "str='rashida ansari'\n",
        "if str.islower():\n",
        "  x=str.upper()\n",
        "print(x)"
      ]
    },
    {
      "cell_type": "code",
      "execution_count": null,
      "metadata": {
        "colab": {
          "base_uri": "https://localhost:8080/"
        },
        "id": "9oOtBDVleBzD",
        "outputId": "e6c51633-e7fa-4bc7-d4bb-c9e78aeb8843"
      },
      "outputs": [
        {
          "name": "stdout",
          "output_type": "stream",
          "text": [
            "1 2 3 4 5 6 7 8 9 10 \n",
            "2 4 6 8 10 12 14 16 18 20 \n",
            "3 6 9 12 15 18 21 24 27 30 \n",
            "4 8 12 16 20 24 28 32 36 40 \n",
            "5 10 15 20 25 30 35 40 45 50 \n",
            "6 12 18 24 30 36 42 48 54 60 \n",
            "7 14 21 28 35 42 49 56 63 70 \n",
            "8 16 24 32 40 48 56 64 72 80 \n",
            "9 18 27 36 45 54 63 72 81 90 \n",
            "10 20 30 40 50 60 70 80 90 100 \n"
          ]
        }
      ],
      "source": [
        "for i in range(1, 11):\n",
        "    for j in range(1, 11):\n",
        "        print(i * j, end=' ')\n",
        "    print()"
      ]
    },
    {
      "cell_type": "code",
      "execution_count": null,
      "metadata": {
        "colab": {
          "base_uri": "https://localhost:8080/"
        },
        "id": "dGNYuA3yQqvH",
        "outputId": "f4bcc723-a29a-45d6-e4f7-21f44ce396c0"
      },
      "outputs": [
        {
          "name": "stdout",
          "output_type": "stream",
          "text": [
            "* \n",
            "* * \n",
            "* * * \n",
            "* * * * \n",
            "* * * * * \n"
          ]
        }
      ],
      "source": [
        "rows=6\n",
        "for i in range(1,rows):\n",
        "  for j in range(1,i+1):\n",
        "    print('*',end=' ')\n",
        "  print('')"
      ]
    },
    {
      "cell_type": "code",
      "execution_count": null,
      "metadata": {
        "colab": {
          "base_uri": "https://localhost:8080/"
        },
        "id": "BlRSRvlZtJp5",
        "outputId": "58a682b1-70bf-4393-dc5c-0a8cd6b98d01"
      },
      "outputs": [
        {
          "name": "stdout",
          "output_type": "stream",
          "text": [
            "[22, 32, 42, 23, 33, 43, 24, 34, 44]\n"
          ]
        }
      ],
      "source": [
        "first = [2, 3, 4]\n",
        "second = [20, 30, 40]\n",
        "final = []\n",
        "for i in first:\n",
        "    for j in second:\n",
        "        final.append(i+j)\n",
        "print(final)"
      ]
    },
    {
      "cell_type": "code",
      "execution_count": null,
      "metadata": {
        "colab": {
          "base_uri": "https://localhost:8080/"
        },
        "id": "G_nabR6xuBU8",
        "outputId": "b970dd76-b71a-4a1d-e650-1cd1a54be3e2"
      },
      "outputs": [
        {
          "name": "stdout",
          "output_type": "stream",
          "text": [
            "[22, 32, 42, 23, 33, 43, 24, 34, 44]\n"
          ]
        }
      ],
      "source": [
        "first = [2, 3, 4]\n",
        "second = [20, 30, 40]\n",
        "final = [i+j for i in first for j in second]\n",
        "print(final)"
      ]
    },
    {
      "cell_type": "code",
      "execution_count": null,
      "metadata": {
        "colab": {
          "base_uri": "https://localhost:8080/"
        },
        "id": "x-cBZS8x5-7X",
        "outputId": "da5e0335-b481-415a-c957-09a4b4ca5ded"
      },
      "outputs": [
        {
          "name": "stdout",
          "output_type": "stream",
          "text": [
            "iteration 0: 1\n",
            "iteration 1: 2\n",
            "iteration 2: 3\n",
            "iteration 3: 4\n",
            "iteration 4: 5\n",
            "iteration 5: 6\n"
          ]
        }
      ],
      "source": [
        "numbers = [[1, 2, 3], [4, 5, 6]]\n",
        "\n",
        "cnt = 0\n",
        "for i in numbers:\n",
        "    for j in i:\n",
        "        print('iteration', cnt, end=': ')\n",
        "        print(j)\n",
        "        cnt = cnt + 1"
      ]
    },
    {
      "cell_type": "code",
      "execution_count": null,
      "metadata": {
        "colab": {
          "base_uri": "https://localhost:8080/"
        },
        "id": "5-xVvUHr6mQy",
        "outputId": "b7adbd1d-b2d6-4afe-81b2-8eda9fc6a13c"
      },
      "outputs": [
        {
          "name": "stdout",
          "output_type": "stream",
          "text": [
            "[5, 15, 25, 50]\n"
          ]
        }
      ],
      "source": [
        "list1 = [5, 20, 15, 20, 25, 50, 20]\n",
        "result = []\n",
        "for i in list1:\n",
        "  if i != 20:\n",
        "    result.append(i)\n",
        "print(result)"
      ]
    },
    {
      "cell_type": "code",
      "execution_count": null,
      "metadata": {
        "colab": {
          "base_uri": "https://localhost:8080/"
        },
        "id": "mgQ0OvKk7tHZ",
        "outputId": "59a16c70-fa87-4cca-a5f1-4a0b36e96625"
      },
      "outputs": [
        {
          "name": "stdout",
          "output_type": "stream",
          "text": [
            "[5, 15, 25, 50]\n"
          ]
        }
      ],
      "source": [
        "list1 = [5, 20, 15, 20, 25, 50, 20]\n",
        "\n",
        "while 20 in list1:\n",
        "  list1.remove(20)\n",
        "print(list1)"
      ]
    },
    {
      "cell_type": "code",
      "execution_count": null,
      "metadata": {
        "colab": {
          "base_uri": "https://localhost:8080/"
        },
        "id": "RiotFymY8BQk",
        "outputId": "1e97aaa6-1916-4c4d-d7c5-d1ef8eaee061"
      },
      "outputs": [
        {
          "name": "stdout",
          "output_type": "stream",
          "text": [
            "[10, 20, [300, 400, [5000, 6000, 7000], 500], 30, 40]\n"
          ]
        }
      ],
      "source": [
        "list1 = [10, 20, [300, 400, [5000, 6000], 500], 30, 40]\n",
        "\n",
        "list1[2][2].append(7000)\n",
        "\n",
        "print(list1)"
      ]
    },
    {
      "cell_type": "code",
      "execution_count": null,
      "metadata": {
        "colab": {
          "base_uri": "https://localhost:8080/"
        },
        "id": "kzpwJwXM8ztS",
        "outputId": "8c9b2b02-f816-49f2-a936-3b041e92d484"
      },
      "outputs": [
        {
          "name": "stdout",
          "output_type": "stream",
          "text": [
            "[1, 4, 9, 16, 25, 36, 49]\n"
          ]
        }
      ],
      "source": [
        "numbers = [1, 2, 3, 4, 5, 6, 7]\n",
        "\n",
        "print([i*i for i in numbers])"
      ]
    },
    {
      "cell_type": "code",
      "execution_count": null,
      "metadata": {
        "colab": {
          "base_uri": "https://localhost:8080/"
        },
        "id": "yWsUMXbF-Gm_",
        "outputId": "133785c9-da81-46c9-a0e2-1bffef6385da"
      },
      "outputs": [
        {
          "name": "stdout",
          "output_type": "stream",
          "text": [
            "[1, 4, 9, 16, 25, 36, 49]\n"
          ]
        }
      ],
      "source": [
        "numbers = [1,2,3,4,5,6,7]\n",
        "numbers = []\n",
        "for value in range(1,8):\n",
        "  numbers.append(value**2)\n",
        "print(numbers)"
      ]
    },
    {
      "cell_type": "code",
      "execution_count": null,
      "metadata": {
        "colab": {
          "base_uri": "https://localhost:8080/"
        },
        "id": "u8rzeQ_89Aty",
        "outputId": "b76ce91f-ebca-49f7-a8a6-9ac3f07d42da"
      },
      "outputs": [
        {
          "name": "stdout",
          "output_type": "stream",
          "text": [
            "['Mike', 'Emma', 'Kelly', 'Brad']\n"
          ]
        }
      ],
      "source": [
        "list1 = [\"Mike\", \"\", \"Emma\", \"Kelly\", \"\", \"Brad\"]\n",
        "l1=[]\n",
        "l2=[]\n",
        "for i in list1:\n",
        "  if len(i)==0:\n",
        "    l1.append(i)\n",
        "  else:\n",
        "    l2.append(i)\n",
        "print(l2)"
      ]
    },
    {
      "cell_type": "code",
      "execution_count": null,
      "metadata": {
        "colab": {
          "base_uri": "https://localhost:8080/"
        },
        "id": "2a3h_x6R-Oep",
        "outputId": "27eaaa92-f690-4378-b5f3-abcb1901587c"
      },
      "outputs": [
        {
          "name": "stdout",
          "output_type": "stream",
          "text": [
            "['Mike', 'Emma', 'Kelly', 'Brad']\n"
          ]
        }
      ],
      "source": [
        "list1=[\"Mike\",\"\",\"Emma\", \"Kelly\",\"\",\"Brad\"]\n",
        "while \"\" in list1:\n",
        "    list1.remove(\"\")\n",
        "print(list1)\n"
      ]
    },
    {
      "cell_type": "code",
      "execution_count": null,
      "metadata": {
        "colab": {
          "base_uri": "https://localhost:8080/"
        },
        "id": "-Z1Mm_6C9V_o",
        "outputId": "c663f403-1774-4936-9e58-a8df273677ec"
      },
      "outputs": [
        {
          "name": "stdout",
          "output_type": "stream",
          "text": [
            "['My', 'name', 'is', 'Kelly']\n"
          ]
        }
      ],
      "source": [
        "a = [\"M\", \"na\", \"i\", \"Ke\"]\n",
        "b = [\"y\", \"me\", \"s\", \"lly\"]\n",
        "c = [a[i]+b[i] for i in range(4)]\n",
        "print(c)"
      ]
    },
    {
      "cell_type": "markdown",
      "metadata": {
        "id": "mz9MpY56JNPJ"
      },
      "source": [
        "**01/11/2023**"
      ]
    },
    {
      "cell_type": "code",
      "execution_count": null,
      "metadata": {
        "colab": {
          "base_uri": "https://localhost:8080/"
        },
        "id": "RGWqHkP1YoUu",
        "outputId": "1fde323b-3934-445b-c2d9-d6276c37ac6c"
      },
      "outputs": [
        {
          "name": "stdout",
          "output_type": "stream",
          "text": [
            "1 2\n",
            "2 3 4\n",
            "4 5 6 7\n",
            "7 8 9 10 11\n",
            "11 12 13 14 15 16\n"
          ]
        }
      ],
      "source": [
        "num=1\n",
        "for i in range(5):\n",
        "  for j in range(i+1):\n",
        "    print(num,end = \" \")\n",
        "    num=num+1\n",
        "  print(num)"
      ]
    },
    {
      "cell_type": "code",
      "execution_count": null,
      "metadata": {
        "id": "uZXUjbGu9-Ic"
      },
      "outputs": [],
      "source": [
        "# a=[3,7,5,4]\n",
        "# y=[]\n",
        "# z=0\n",
        "# for i in range(len(a)):\n",
        "#   z== sum(a) - a[i]\n",
        "#   y.append(z)\n",
        "# print(y)\n",
        "\n",
        "# output:[16, 12, 14, 15]"
      ]
    },
    {
      "cell_type": "code",
      "execution_count": null,
      "metadata": {
        "id": "TtycPb69ch16"
      },
      "outputs": [],
      "source": [
        "# f = [3, 7, 5, 4]\n",
        "# output = [sum(f) - x for x in f]\n",
        "\n",
        "# print(output)\n"
      ]
    },
    {
      "cell_type": "code",
      "execution_count": null,
      "metadata": {
        "colab": {
          "base_uri": "https://localhost:8080/"
        },
        "id": "_l4EAnMJcmiW",
        "outputId": "bd33d543-44cb-4078-c22b-3aa422d2f401"
      },
      "outputs": [
        {
          "name": "stdout",
          "output_type": "stream",
          "text": [
            "20 40 60 80 100 "
          ]
        }
      ],
      "source": [
        "my_list = [10, 20, 30, 40, 50, 60, 70, 80, 90, 100]\n",
        "for i in range(len(my_list)):\n",
        "    if i%2!=0:\n",
        "        print(my_list[i],end=\" \")"
      ]
    },
    {
      "cell_type": "code",
      "execution_count": null,
      "metadata": {
        "colab": {
          "base_uri": "https://localhost:8080/"
        },
        "id": "RfxH1UUudcTF",
        "outputId": "0c82ae46-3fd3-4a96-fab9-16cb4cd2aead"
      },
      "outputs": [
        {
          "name": "stdout",
          "output_type": "stream",
          "text": [
            "rashida 247\n"
          ]
        }
      ],
      "source": [
        "dt= {'zobia':100,'anam':54,'rashida':247}\n",
        "x=0\n",
        "y={}\n",
        "for k,v in dt.items():\n",
        "  if v>x:\n",
        "    x=v\n",
        "    y=k\n",
        "print(y,x)"
      ]
    },
    {
      "cell_type": "code",
      "execution_count": null,
      "metadata": {
        "colab": {
          "base_uri": "https://localhost:8080/"
        },
        "id": "iKj6F9zjqm9c",
        "outputId": "ae15c8d9-50be-4564-e389-cd7acef31868"
      },
      "outputs": [
        {
          "name": "stdout",
          "output_type": "stream",
          "text": [
            "15\n",
            "55\n",
            "75\n",
            "150\n"
          ]
        }
      ],
      "source": [
        "list1 = [12, 15, 32, 42, 55, 75, 122, 132, 150, 180, 200]\n",
        "for i in list1:\n",
        "    if (i%5==0) and (i<151):\n",
        "        print(i)"
      ]
    },
    {
      "cell_type": "code",
      "execution_count": null,
      "metadata": {
        "colab": {
          "base_uri": "https://localhost:8080/"
        },
        "id": "twAxK-1y0wls",
        "outputId": "eddc05fc-019e-4069-c93c-aa6e88068d97"
      },
      "outputs": [
        {
          "name": "stdout",
          "output_type": "stream",
          "text": [
            "[100, 54, 247]\n"
          ]
        }
      ],
      "source": [
        "dt= {'zobia':100,'anam':54,'rashida':247}\n",
        "x=list(dt.values())\n",
        "print(x)\n",
        "for i in range(len(x)):\n",
        "  for j in range(len(x)):\n",
        "    if x[i]"
      ]
    },
    {
      "cell_type": "markdown",
      "metadata": {
        "id": "mdFJo5gbZSsW"
      },
      "source": [
        "**02/11/2023**"
      ]
    },
    {
      "cell_type": "markdown",
      "metadata": {
        "id": "t9u_pEGyJ4kr"
      },
      "source": [
        "**`sort based on 2nd elemnet`**"
      ]
    },
    {
      "cell_type": "code",
      "execution_count": null,
      "metadata": {
        "colab": {
          "base_uri": "https://localhost:8080/"
        },
        "id": "InBA_X2n2Ziv",
        "outputId": "ca4fee1f-db04-44cb-83d7-a475d1876ad3"
      },
      "outputs": [
        {
          "name": "stdout",
          "output_type": "stream",
          "text": [
            "[('name', 'John'), ('city', 'New York'), ('age', 'the')]\n"
          ]
        }
      ],
      "source": [
        "dic= {'name': 'John', 'age': 'the', 'city': 'New York'}\n",
        "x=list(dic.items())\n",
        "# print(x)\n",
        "for i in range(len(x)):\n",
        "  for j in range(len(x)):\n",
        "    if x[i][1]<x[j][1]:\n",
        "      x[i],x[j]=x[j],x[i]\n",
        "print(x)\n"
      ]
    },
    {
      "cell_type": "markdown",
      "metadata": {
        "id": "nKlo443QKDJc"
      },
      "source": [
        "**`sort based on 1st elemnet`**"
      ]
    },
    {
      "cell_type": "code",
      "execution_count": null,
      "metadata": {
        "colab": {
          "base_uri": "https://localhost:8080/"
        },
        "id": "oTEwMDKQZXFi",
        "outputId": "ba4b2265-0fbb-4fa2-9e00-cd5032f88685"
      },
      "outputs": [
        {
          "name": "stdout",
          "output_type": "stream",
          "text": [
            "[('age', 22), ('city', 'New York'), ('name', 'John')]\n"
          ]
        }
      ],
      "source": [
        "dic= {'name': 'John', 'age': 22, 'city': 'New York'}\n",
        "x=list(dic.items())\n",
        "# print(x)\n",
        "for i in range(len(x)):\n",
        "  for j in range(len(x)):\n",
        "    if x[i][0]<x[j][0]:\n",
        "      x[i],x[j]=x[j],x[i]\n",
        "print(x)\n"
      ]
    },
    {
      "cell_type": "code",
      "execution_count": null,
      "metadata": {
        "colab": {
          "base_uri": "https://localhost:8080/"
        },
        "id": "JGQ26fKYZXYN",
        "outputId": "fc924798-288e-43f2-f301-bc9d0583578d"
      },
      "outputs": [
        {
          "name": "stdout",
          "output_type": "stream",
          "text": [
            "exercises\n"
          ]
        }
      ],
      "source": [
        "tup = ('e', 'x', 'e', 'r', 'c', 'i', 's', 'e', 's')\n",
        "str =  ''.join(tup)\n",
        "print(str)"
      ]
    },
    {
      "cell_type": "code",
      "execution_count": null,
      "metadata": {
        "colab": {
          "base_uri": "https://localhost:8080/"
        },
        "id": "gfr1LxVChofW",
        "outputId": "532f0c4a-b0fc-4ad7-f947-6ab242dd0018"
      },
      "outputs": [
        {
          "name": "stdout",
          "output_type": "stream",
          "text": [
            "Maximum key: Roxanne\n",
            "Minimum key: Theodore\n"
          ]
        }
      ],
      "source": [
        "x = {'Theodore': 19, 'Roxanne': 22, 'Mathew': 21, 'Betty': 20}\n",
        "\n",
        "max = None\n",
        "min = None\n",
        "\n",
        "for key, value in x.items():\n",
        "    if max is None or value > x[max]:\n",
        "        max = key\n",
        "    if min is None or value < x[min]:\n",
        "        min = key\n",
        "\n",
        "print(f\"Maximum key: {max}\")\n",
        "print(f\"Minimum key: {min}\")\n"
      ]
    },
    {
      "cell_type": "code",
      "execution_count": null,
      "metadata": {
        "colab": {
          "base_uri": "https://localhost:8080/"
        },
        "id": "XP3_uLkjmpcL",
        "outputId": "5f254a14-b966-448b-fec9-8ffe497b593a"
      },
      "outputs": [
        {
          "name": "stdout",
          "output_type": "stream",
          "text": [
            "20\n"
          ]
        }
      ],
      "source": [
        "setn = {5, 10, 3, 15, 2, 20}\n",
        "x=0\n",
        "for i in setn:\n",
        "  if i>x:\n",
        "    x=i\n",
        "print(x)"
      ]
    },
    {
      "cell_type": "markdown",
      "metadata": {
        "id": "z_HLGjeDZYIC"
      },
      "source": [
        "**03/11/2023**"
      ]
    },
    {
      "cell_type": "code",
      "execution_count": null,
      "metadata": {
        "colab": {
          "base_uri": "https://localhost:8080/"
        },
        "id": "FMic_UoXd9vL",
        "outputId": "6e976447-22c8-490d-99df-c070e5723f9c"
      },
      "outputs": [
        {
          "name": "stdout",
          "output_type": "stream",
          "text": [
            "['Mike', 'Emma', 'Kelly', 'Brad']\n"
          ]
        }
      ],
      "source": [
        "list1 = [\"Mike\",'' \"Emma\",'', \"Kelly\", \"\", \"Brad\",'']\n",
        "l1=\"\"\n",
        "l2=[]\n",
        "for i in list1:\n",
        "  if i ==l1:\n",
        "    continue\n",
        "  else:\n",
        "    l2.append(i)\n",
        "print(l2)\n"
      ]
    },
    {
      "cell_type": "code",
      "execution_count": null,
      "metadata": {
        "colab": {
          "base_uri": "https://localhost:8080/"
        },
        "id": "iqLqgsbgd99j",
        "outputId": "7eecd8a0-c850-4441-b6fc-4edf5812b173"
      },
      "outputs": [
        {
          "name": "stdout",
          "output_type": "stream",
          "text": [
            "{'Ali': 91}\n"
          ]
        }
      ],
      "source": [
        "d = {\"Ali\":{\"Score\":91},\"Akbar\":{\"Score\":45},\"Bilal\":{\"Score\":30}}\n",
        "x=0\n",
        "y={}\n",
        "for i in d:\n",
        "  # print(i)\n",
        "  if d[i]['Score']>x:\n",
        "    x=d[i]['Score']\n",
        "    y=i\n",
        "print({y:x})\n",
        "# {'Ali': 91}"
      ]
    },
    {
      "cell_type": "code",
      "execution_count": null,
      "metadata": {
        "colab": {
          "base_uri": "https://localhost:8080/"
        },
        "id": "RwathXzMd-Ds",
        "outputId": "950db1b2-1fd9-4804-b93f-e57f731a0266"
      },
      "outputs": [
        {
          "name": "stdout",
          "output_type": "stream",
          "text": [
            "raj\n",
            "anam\n"
          ]
        }
      ],
      "source": [
        "x=['raj','anam','neen']\n",
        "for i in x:\n",
        "  # print(i)\n",
        "  if 'a' in i:\n",
        "    print(i)"
      ]
    },
    {
      "cell_type": "markdown",
      "metadata": {
        "id": "zuh20nzgRZKJ"
      },
      "source": [
        "**sort Counter by value.**"
      ]
    },
    {
      "cell_type": "code",
      "execution_count": null,
      "metadata": {
        "colab": {
          "base_uri": "https://localhost:8080/"
        },
        "id": "iEKfw3hSCppK",
        "outputId": "0a32a6a5-2703-4bcd-c619-24c066619004"
      },
      "outputs": [
        {
          "name": "stdout",
          "output_type": "stream",
          "text": [
            "{'Math': 81, 'Physics': 83, 'Chemistry': 87}\n"
          ]
        }
      ],
      "source": [
        "data ={'Math':81, 'Physics':83, 'Chemistry':87}\n",
        "for i in data:\n",
        "  for j in data:\n",
        "    if data[i]<data[j]:\n",
        "      data[i],data[j]=data[j],data[i]\n",
        "print(data)"
      ]
    },
    {
      "cell_type": "code",
      "execution_count": null,
      "metadata": {
        "colab": {
          "base_uri": "https://localhost:8080/"
        },
        "id": "8y9cWgX8RHvw",
        "outputId": "97018d12-0fef-4b00-9052-683b558b0a61"
      },
      "outputs": [
        {
          "name": "stdout",
          "output_type": "stream",
          "text": [
            "[('Math', 81), ('Physics', 83), ('Chemistry', 87)]\n",
            "{'Math': 81, 'Physics': 83, 'Chemistry': 87}\n"
          ]
        }
      ],
      "source": [
        "data ={'Math':81, 'Physics':83, 'Chemistry':87}\n",
        "dat1=sorted(data.items(),key=lambda x:x[1] )\n",
        "print(dat1)\n",
        "dat2=dict(dat1)\n",
        "print(dat2)"
      ]
    },
    {
      "cell_type": "code",
      "execution_count": null,
      "metadata": {
        "colab": {
          "base_uri": "https://localhost:8080/"
        },
        "id": "MKTaLF7bdyuy",
        "outputId": "97065c92-7a0a-4f78-ef05-ab8aa8ef1ec6"
      },
      "outputs": [
        {
          "name": "stdout",
          "output_type": "stream",
          "text": [
            "{'red': 3, 'green': 5, 'black': 5, 'white': 5}\n"
          ]
        }
      ],
      "source": [
        "x={1: 'red', 2: 'green', 3: 'black', 4: 'white', 5: 'black'}\n",
        "y={}\n",
        "for k,v in x.items():\n",
        "  y[v]=len(v)\n",
        "print(y)\n",
        "\n"
      ]
    },
    {
      "cell_type": "code",
      "execution_count": null,
      "metadata": {
        "colab": {
          "base_uri": "https://localhost:8080/"
        },
        "id": "al5J9Qnpmnci",
        "outputId": "587da399-5c53-4894-96f3-c260b89b8f14"
      },
      "outputs": [
        {
          "name": "stdout",
          "output_type": "stream",
          "text": [
            "{'Austin Little': 13, 'Natasha Howard': 14, 'Alfred Mullins': 14, 'Jamie Rowe': 10}\n"
          ]
        }
      ],
      "source": [
        "z={'1': 'Austin Little', '2': 'Natasha Howard', '3': 'Alfred Mullins', '4': 'Jamie Rowe'}\n",
        "dt={}\n",
        "for k,v in z.items():\n",
        "  dt[v]=len(v)\n",
        "print(dt)"
      ]
    },
    {
      "cell_type": "code",
      "execution_count": null,
      "metadata": {
        "colab": {
          "base_uri": "https://localhost:8080/"
        },
        "id": "PMPf036CnVSf",
        "outputId": "a6eca5d3-80c0-4b50-b860-9ed037081ab1"
      },
      "outputs": [
        {
          "name": "stdout",
          "output_type": "stream",
          "text": [
            "{'1': 1, '2': 1, '3': 1, '4': 1}\n"
          ]
        }
      ],
      "source": [
        "z={'1': 'Austin Little', '2': 'Natasha Howard', '3': 'Alfred Mullins', '4': 'Jamie Rowe'}\n",
        "dt={}\n",
        "for k,v in z.items():\n",
        "  dt[k]=len(k)\n",
        "print(dt)"
      ]
    },
    {
      "cell_type": "markdown",
      "metadata": {
        "id": "yucU999BfiOo"
      },
      "source": [
        "**04/11/2023**"
      ]
    },
    {
      "cell_type": "code",
      "execution_count": null,
      "metadata": {
        "colab": {
          "base_uri": "https://localhost:8080/"
        },
        "id": "UJhKe766i4HY",
        "outputId": "ed1f6020-1f24-4390-9411-8e3a6d846400"
      },
      "outputs": [
        {
          "name": "stdout",
          "output_type": "stream",
          "text": [
            "[(3, 11), (1, 12), (2, 13)]\n"
          ]
        }
      ],
      "source": [
        "x=[(1,12),(3,11),(2,13)]\n",
        "for i in range(len(x)):\n",
        "  # print(i)\n",
        "  for j in range(len(x)):\n",
        "    if x[i][1]<x[j][1]:\n",
        "      x[i],x[j]=x[j],x[i]\n",
        "print(x)\n"
      ]
    },
    {
      "cell_type": "code",
      "execution_count": null,
      "metadata": {
        "colab": {
          "base_uri": "https://localhost:8080/"
        },
        "id": "f5rF-hZ4jH5m",
        "outputId": "d5d477a1-a89a-487b-b4d4-9842402689c4"
      },
      "outputs": [
        {
          "name": "stdout",
          "output_type": "stream",
          "text": [
            "[(1, 12), (2, 13), (3, 11)]\n"
          ]
        }
      ],
      "source": [
        "x=[(1,12),(3,11),(2,13)]\n",
        "for i in range(len(x)):\n",
        "  # print(i)\n",
        "  for j in range(len(x)):\n",
        "    if x[i][0]<x[j][0]:\n",
        "      x[i],x[j]=x[j],x[i]\n",
        "print(x)\n"
      ]
    },
    {
      "cell_type": "markdown",
      "metadata": {
        "id": "V8gwGEy33nnJ"
      },
      "source": [
        "**count frequency of dictionary**"
      ]
    },
    {
      "cell_type": "code",
      "execution_count": null,
      "metadata": {
        "colab": {
          "base_uri": "https://localhost:8080/"
        },
        "id": "tbtMoyfWnJ4J",
        "outputId": "93725354-f924-4224-9f67-9466236dc4cd"
      },
      "outputs": [
        {
          "name": "stdout",
          "output_type": "stream",
          "text": [
            "{10: 2, 40: 2, 20: 2, 70: 1, 80: 1}\n"
          ]
        }
      ],
      "source": [
        "x={'V': 10, 'VI': 10, 'VII': 40, 'VIII': 20, 'IX': 70, 'X': 80, 'XI': 40, 'XII': 20}\n",
        "y={}\n",
        "for value in x.values():\n",
        "  if value in y:\n",
        "    y[value]+=1\n",
        "  else:\n",
        "    y[value]=1\n",
        "print(y)"
      ]
    },
    {
      "cell_type": "markdown",
      "metadata": {
        "id": "96FW2N1pZfkc"
      },
      "source": [
        "**convert a dictionary into a list of lists**"
      ]
    },
    {
      "cell_type": "code",
      "execution_count": null,
      "metadata": {
        "colab": {
          "base_uri": "https://localhost:8080/"
        },
        "id": "iyU9DxI4Zm6X",
        "outputId": "509baf7f-6dfc-4b68-8fa5-7387fc856ad0"
      },
      "outputs": [
        {
          "name": "stdout",
          "output_type": "stream",
          "text": [
            "[[1, 'red'], [2, 'green'], [3, 'black'], [4, 'white'], [5, 'black']]\n"
          ]
        }
      ],
      "source": [
        "x = {1: 'red', 2: 'green', 3: 'black', 4: 'white', 5: 'black'}\n",
        "res=[]\n",
        "for k,v in x.items():\n",
        "  res.append([k,v])\n",
        "print(res)\n"
      ]
    },
    {
      "cell_type": "code",
      "execution_count": null,
      "metadata": {
        "colab": {
          "base_uri": "https://localhost:8080/"
        },
        "id": "KTRakuF0Z3hu",
        "outputId": "95ce03d0-c0a4-4c5b-d314-bbe257c688a2"
      },
      "outputs": [
        {
          "name": "stdout",
          "output_type": "stream",
          "text": [
            "[[1, 'red'], [2, 'green'], [3, 'black'], [4, 'white'], [5, 'black']]\n"
          ]
        }
      ],
      "source": [
        "x = {1: 'red', 2: 'green', 3: 'black', 4: 'white', 5: 'black'}\n",
        "z=[[k,v]for k,v in x.items()]\n",
        "print(z)"
      ]
    },
    {
      "cell_type": "markdown",
      "metadata": {
        "id": "oOWjFhqDayPU"
      },
      "source": [
        "** filter even numbers from a dictionary of values.**"
      ]
    },
    {
      "cell_type": "code",
      "execution_count": null,
      "metadata": {
        "colab": {
          "base_uri": "https://localhost:8080/"
        },
        "id": "Pi0S0DANaVUi",
        "outputId": "876b27b4-069e-43fd-b7d3-b4b96b7c9b5e"
      },
      "outputs": [
        {
          "name": "stdout",
          "output_type": "stream",
          "text": [
            "{'V': [4, 6, 10], 'VI': [4, 12], 'VII': [8]}\n"
          ]
        }
      ],
      "source": [
        "x={'V': [1, 4, 6, 10], 'VI': [1, 4, 12], 'VII': [1, 3, 8]}\n",
        "y={}\n",
        "for k,v in x.items():\n",
        "  even=[]\n",
        "  for val in v:\n",
        "    if val%2==0:\n",
        "      even.append(val)\n",
        "  y[k]=even\n",
        "print(y)\n"
      ]
    },
    {
      "cell_type": "code",
      "execution_count": null,
      "metadata": {
        "colab": {
          "base_uri": "https://localhost:8080/"
        },
        "id": "lm_JA1X0bUDC",
        "outputId": "d057ad43-5cfc-48fc-d264-8caaff6b5517"
      },
      "outputs": [
        {
          "name": "stdout",
          "output_type": "stream",
          "text": [
            "{'V': [4, 6, 10], 'VI': [4, 12], 'VII': [8]}\n"
          ]
        }
      ],
      "source": [
        "x = {'V': [1, 4, 6, 10], 'VI': [1, 4, 12], 'VII': [1, 3, 8]}\n",
        "\n",
        "result = {}\n",
        "\n",
        "for k, v in x.items():\n",
        "    even = [value for value in v if value % 2 == 0]\n",
        "    result[k] = even\n",
        "\n",
        "print(result)"
      ]
    },
    {
      "cell_type": "markdown",
      "metadata": {
        "id": "8WC5atOVf7Br"
      },
      "source": [
        "**hightes in dictionary**"
      ]
    },
    {
      "cell_type": "code",
      "execution_count": null,
      "metadata": {
        "colab": {
          "base_uri": "https://localhost:8080/"
        },
        "id": "gKPqwboNb5jS",
        "outputId": "64f845dd-2f4e-4f34-ed5e-bcb930eeb3f5"
      },
      "outputs": [
        {
          "name": "stdout",
          "output_type": "stream",
          "text": [
            "{'i': 100}\n"
          ]
        }
      ],
      "source": [
        "dl={'a': 5, 'b': 14, 'c': 32, 'd': 35, 'e': 24, 'f': 100, 'g': 57, 'h': 8, 'i': 100}\n",
        "x=0\n",
        "y={}\n",
        "for k,v in dl.items():\n",
        "  if v>x:\n",
        "    x=v\n",
        "    y=k\n",
        "print({k:v})\n",
        "\n"
      ]
    },
    {
      "cell_type": "code",
      "execution_count": null,
      "metadata": {
        "colab": {
          "base_uri": "https://localhost:8080/"
        },
        "id": "JC1CT1nSgJq6",
        "outputId": "4482c99c-e332-4299-95bd-0b83c3418e46"
      },
      "outputs": [
        {
          "name": "stdout",
          "output_type": "stream",
          "text": [
            "{'f': 100}\n",
            "{'i': 100}\n"
          ]
        }
      ],
      "source": [
        "dt={'a': 5, 'b': 14, 'c': 32, 'd': 35, 'e': 24, 'f': 100, 'g': 57, 'h': 8, 'i': 100}\n",
        "st=list(dt.values())\n",
        "# print(x)\n",
        "for i1 in range(len(st)):\n",
        "  for j2 in range(len(st)):\n",
        "    if st[i1]<st[j2]:\n",
        "      st[i1],st[j2]=st[j2],st[i1]\n",
        "# print(x)\n",
        "for k,v in dt.items():\n",
        "  if v==st[-1]:\n",
        "    print({k:v})\n"
      ]
    },
    {
      "cell_type": "markdown",
      "metadata": {
        "id": "LKnUKA6YgAIS"
      },
      "source": [
        "**05/11/2023 sunday**"
      ]
    },
    {
      "cell_type": "code",
      "execution_count": null,
      "metadata": {
        "colab": {
          "base_uri": "https://localhost:8080/"
        },
        "id": "_t2VC2IUf0O8",
        "outputId": "f2beaf91-80aa-44d5-aac9-cefc851f6877"
      },
      "outputs": [
        {
          "name": "stdout",
          "output_type": "stream",
          "text": [
            "{1: ['Jean Castro', 'V'], 2: ['Lula Powell', 'V'], 3: ['Brian Howell', 'VI'], 4: ['Lynne Foster', 'VI'], 5: ['Zachary Simon', 'VII']}\n"
          ]
        }
      ],
      "source": [
        "l1=[[1, 'Jean Castro', 'V'], [2, 'Lula Powell', 'V'], [3, 'Brian Howell', 'VI'], [4, 'Lynne Foster', 'VI'], [5, 'Zachary Simon', 'VII']]\n",
        "res = {}\n",
        "for i in l1:\n",
        "  # print(i)\n",
        "    key = i[0]\n",
        "    values = i[1:]\n",
        "    res[key] = values\n",
        "\n",
        "print(res)"
      ]
    },
    {
      "cell_type": "markdown",
      "metadata": {
        "id": "8ET2wgUM4340"
      },
      "source": [
        "**06/11/2023**"
      ]
    },
    {
      "cell_type": "markdown",
      "metadata": {
        "id": "MiqjFnO5gRNe"
      },
      "source": [
        "**find the key of the maximum value in a dictionary.**"
      ]
    },
    {
      "cell_type": "code",
      "execution_count": null,
      "metadata": {
        "colab": {
          "base_uri": "https://localhost:8080/"
        },
        "id": "urB-aSiX48JD",
        "outputId": "60db0a9b-f47e-4892-be60-dbe2db2675db"
      },
      "outputs": [
        {
          "name": "stdout",
          "output_type": "stream",
          "text": [
            "maximum Roxanne\n"
          ]
        }
      ],
      "source": [
        "x={'Theodore': 19, 'Roxanne': 22, 'Mathew': 21, 'Betty': 20}\n",
        "\n",
        "max=None\n",
        "for k,v in x.items():\n",
        "  if max is None or v >x[max]:\n",
        "    max=k\n",
        "print('maximum',max)\n"
      ]
    },
    {
      "cell_type": "markdown",
      "metadata": {
        "id": "iPPr6ANmiz9a"
      },
      "source": [
        "**minimum value of the said dictionary**"
      ]
    },
    {
      "cell_type": "code",
      "execution_count": null,
      "metadata": {
        "colab": {
          "base_uri": "https://localhost:8080/"
        },
        "id": "c8LzAbgq48Tq",
        "outputId": "c966f449-b18d-48f1-9bc4-04b6a6aac661"
      },
      "outputs": [
        {
          "name": "stdout",
          "output_type": "stream",
          "text": [
            "Minimum key: Theodore\n"
          ]
        }
      ],
      "source": [
        "x = {'Theodore': 19, 'Roxanne': 22, 'Mathew': 21, 'Betty': 20}\n",
        "\n",
        "min = None\n",
        "\n",
        "for key, value in x.items():\n",
        "\n",
        "    if min is None or value < x[min]:\n",
        "        min = key\n",
        "\n",
        "print(f\"Minimum key: {min}\")\n"
      ]
    },
    {
      "cell_type": "markdown",
      "metadata": {
        "id": "3IWjhdDolonD"
      },
      "source": [
        "**create a flat list of all the values in a flat dictionary**"
      ]
    },
    {
      "cell_type": "code",
      "execution_count": null,
      "metadata": {
        "colab": {
          "base_uri": "https://localhost:8080/"
        },
        "id": "knuyMzZfir07",
        "outputId": "7494941a-7918-4384-9f18-769c87e0d31a"
      },
      "outputs": [
        {
          "name": "stdout",
          "output_type": "stream",
          "text": [
            "[19, 20, 21, 20]\n"
          ]
        }
      ],
      "source": [
        "dt={'Theodore': 19, 'Roxanne': 20, 'Mathew': 21, 'Betty': 20}\n",
        "x=[]\n",
        "for k,v in dt.items():\n",
        "  # print(v,end=\" \")\n",
        "  x.append(v)\n",
        "print(x)\n"
      ]
    },
    {
      "cell_type": "markdown",
      "metadata": {
        "id": "XSO8vm4ql1CZ"
      },
      "source": [
        "**create a flat list of all the keys in a flat dictionary**"
      ]
    },
    {
      "cell_type": "code",
      "execution_count": null,
      "metadata": {
        "colab": {
          "base_uri": "https://localhost:8080/"
        },
        "id": "2tmHyqsXlt-7",
        "outputId": "5f69f6e2-1766-4b77-a1d9-72d5c60adf6e"
      },
      "outputs": [
        {
          "name": "stdout",
          "output_type": "stream",
          "text": [
            "['Theodore', 'Roxanne', 'Mathew', 'Betty']\n"
          ]
        }
      ],
      "source": [
        "dt={'Theodore': 19, 'Roxanne': 20, 'Mathew': 21, 'Betty': 20}\n",
        "x=[]\n",
        "for k,v in dt.items():\n",
        "  x.append(k)\n",
        "print(x)\n"
      ]
    },
    {
      "cell_type": "markdown",
      "metadata": {
        "id": "f1GfLY9ZwjeL"
      },
      "source": [
        "**transform a dictionary into a list of tuples.**"
      ]
    },
    {
      "cell_type": "code",
      "execution_count": null,
      "metadata": {
        "colab": {
          "base_uri": "https://localhost:8080/"
        },
        "id": "6rT7QRP0wao7",
        "outputId": "28f4518e-ac3b-46f1-d1b7-dd124d70dec9"
      },
      "outputs": [
        {
          "name": "stdout",
          "output_type": "stream",
          "text": [
            "[('Red', 1), ('Green', 3), ('White', 5), ('Black', 2), ('Pink', 4)]\n"
          ]
        }
      ],
      "source": [
        "l1={'Red': 1, 'Green': 3, 'White': 5, 'Black': 2, 'Pink': 4}\n",
        "l2=[]\n",
        "for key in l1:\n",
        "  l2.append((key,l1[key]))\n",
        "print(l2)\n"
      ]
    },
    {
      "cell_type": "markdown",
      "metadata": {
        "id": "DXq1vA-PyuGX"
      },
      "source": [
        "**combine two lists into a dictionary.**"
      ]
    },
    {
      "cell_type": "code",
      "execution_count": null,
      "metadata": {
        "colab": {
          "base_uri": "https://localhost:8080/"
        },
        "id": "R3eW0nwtyl4Q",
        "outputId": "b6b3847d-576f-4062-99c4-0f77396d87a5"
      },
      "outputs": [
        {
          "name": "stdout",
          "output_type": "stream",
          "text": [
            "{'a': 1, 'b': 2, 'c': 3, 'd': 4, 'e': 5}\n"
          ]
        }
      ],
      "source": [
        "x=['a', 'b', 'c', 'd', 'e', 'f']\n",
        "y=[1, 2, 3, 4, 5]\n",
        "z={}\n",
        "for k in x:\n",
        "  for v in y:\n",
        "    z[k]=v\n",
        "    y.remove(v)\n",
        "    break\n",
        "print(str(z))\n",
        "\n",
        "\n"
      ]
    },
    {
      "cell_type": "code",
      "execution_count": null,
      "metadata": {
        "colab": {
          "base_uri": "https://localhost:8080/"
        },
        "id": "EHJUNb4Ska-H",
        "outputId": "204f4483-7b14-4a8a-833c-7290e6972176"
      },
      "outputs": [
        {
          "name": "stdout",
          "output_type": "stream",
          "text": [
            "[2, 4, 6, 8, 10, 12, 14, 16, 18, 20]\n"
          ]
        }
      ],
      "source": [
        "lst=range(1,11)\n",
        "y=2\n",
        "z=map(lambda i: i*y,lst)\n",
        "print(list(z))"
      ]
    },
    {
      "cell_type": "code",
      "execution_count": null,
      "metadata": {
        "colab": {
          "base_uri": "https://localhost:8080/"
        },
        "id": "ruQn-ch0kmpP",
        "outputId": "df6c3fda-5e59-4907-ed8f-0b8f56fffcdf"
      },
      "outputs": [
        {
          "name": "stdout",
          "output_type": "stream",
          "text": [
            "[2, 4, 6, 8, 10, 12, 14, 16, 18, 20]\n"
          ]
        }
      ],
      "source": [
        "lst=[1,2,3,4,5,6,7,8,9,10]\n",
        "x=2\n",
        "a=map(lambda i: i*x,lst)\n",
        "print(list(a))"
      ]
    },
    {
      "cell_type": "markdown",
      "metadata": {
        "id": "WdsQbEOtaf1e"
      },
      "source": [
        "**07/11/2023  Tuesday**"
      ]
    },
    {
      "cell_type": "code",
      "execution_count": null,
      "metadata": {
        "id": "sdv1KyRjX0vO"
      },
      "outputs": [],
      "source": [
        "b = [1, 2, 3, 9, [2, 3, 4, [2, 4, 5, 6, 7], 5, 6, 7]]\n",
        "# total = 0\n",
        "# for i in range(len(b)):\n",
        "#   if len(b[i]):\n",
        "#     print(i)\n"
      ]
    },
    {
      "cell_type": "code",
      "execution_count": null,
      "metadata": {
        "colab": {
          "base_uri": "https://localhost:8080/"
        },
        "id": "OejSNhZPCnu3",
        "outputId": "95643b00-126e-4982-d683-3b6294cd75ca"
      },
      "outputs": [
        {
          "name": "stdout",
          "output_type": "stream",
          "text": [
            "45\n"
          ]
        }
      ],
      "source": [
        "numbers = [[1, 2, 3], [4, 5, 6], [7, 8, 9]]\n",
        "total=0\n",
        "for i in numbers:\n",
        "  for num in i:\n",
        "    total+=num\n",
        "print(total)\n",
        "\n"
      ]
    },
    {
      "cell_type": "code",
      "execution_count": null,
      "metadata": {
        "id": "CQTRqrfV6Qk3"
      },
      "outputs": [],
      "source": [
        "# Original dictionary elements:\n",
        "# {'Theodore': 19, 'Roxanne': 22, 'Mathew': 21, 'Betty': 20}\n",
        "# Finds the key of the maximum and minimum value of the said dictionary:\n",
        "# ('Roxanne', 'Theodore')\n"
      ]
    },
    {
      "cell_type": "code",
      "execution_count": null,
      "metadata": {
        "colab": {
          "base_uri": "https://localhost:8080/"
        },
        "id": "fSLEQn2V6Vm1",
        "outputId": "509122a7-c0f4-4598-ce78-ef3bc252b128"
      },
      "outputs": [
        {
          "name": "stdout",
          "output_type": "stream",
          "text": [
            "['tom', 'has', 'eaten', 'chicken', 'today']\n",
            "Tom Has Eaten Chicken Today "
          ]
        }
      ],
      "source": [
        "a='tom has eaten chicken today'\n",
        "b=a.split()\n",
        "print(b)\n",
        "for i in b:\n",
        "  res=i[0].upper()\n",
        "  print(res+i[1:],end=' ')\n",
        "\n"
      ]
    },
    {
      "cell_type": "code",
      "execution_count": null,
      "metadata": {
        "colab": {
          "base_uri": "https://localhost:8080/"
        },
        "id": "O-GsdhyEATAK",
        "outputId": "9f06f9d0-4c45-44c6-e094-ef2cc99c5807"
      },
      "outputs": [
        {
          "name": "stdout",
          "output_type": "stream",
          "text": [
            "tom HAS eaten CHICKEN today\n"
          ]
        }
      ],
      "source": [
        "a='tom has eaten chicken today'\n",
        "b=a.split()\n",
        "# print(b)\n",
        "for i in range(len(b)):\n",
        "  # print(i)\n",
        "  if i %2!=0:\n",
        "    b[i]=b[i].upper()\n",
        "print(' '.join(b))\n"
      ]
    },
    {
      "cell_type": "markdown",
      "metadata": {
        "id": "M65F4MBx9Wy8"
      },
      "source": [
        "**sort based on 2nd element**"
      ]
    },
    {
      "cell_type": "code",
      "execution_count": null,
      "metadata": {
        "colab": {
          "base_uri": "https://localhost:8080/"
        },
        "id": "Msrqiupk8xk9",
        "outputId": "58d1ac46-ac5b-436a-df20-2ab4071f810c"
      },
      "outputs": [
        {
          "name": "stdout",
          "output_type": "stream",
          "text": [
            "[(56, 'apple'), ('water', 'case'), (1, 'groot'), ('dell', 'ipad'), ('teams', 'ml'), ('zoo', 'peanuts')]\n"
          ]
        }
      ],
      "source": [
        "tup =[(\"zoo\", \"peanuts\"),(1, 'groot'), (\"teams\",\"ml\"),('dell', 'ipad'), ('water', 'case'), (56,\"apple\")]\n",
        "for i in range(len(tup)):\n",
        "  for j in range(len(tup)):\n",
        "    if tup[i][1]<tup[j][1]:\n",
        "      tup[i],tup[j]=tup[j],tup[i]\n",
        "print(tup)"
      ]
    },
    {
      "cell_type": "code",
      "execution_count": null,
      "metadata": {
        "colab": {
          "base_uri": "https://localhost:8080/"
        },
        "id": "hL4_qtkB7CjR",
        "outputId": "a842b6c6-2404-4b4b-f49a-bfbb42c17d1e"
      },
      "outputs": [
        {
          "name": "stdout",
          "output_type": "stream",
          "text": [
            "{2: 2, 1: 2, 4: 2, 3: 1}\n"
          ]
        }
      ],
      "source": [
        "x=[2,2,1,1,4,3,4]\n",
        "y={}\n",
        "for i in x:\n",
        "  if i in y:\n",
        "    y[i]+=1\n",
        "  else:\n",
        "    y[i]=1\n",
        "print(y)\n"
      ]
    },
    {
      "cell_type": "markdown",
      "metadata": {
        "id": "bM7YVJljVgSC"
      },
      "source": [
        "#08/11/23"
      ]
    },
    {
      "cell_type": "code",
      "execution_count": null,
      "metadata": {
        "colab": {
          "base_uri": "https://localhost:8080/"
        },
        "id": "g73Ivy9tVfPn",
        "outputId": "cc0b6307-34d2-49b5-f15b-0eca73f74a49"
      },
      "outputs": [
        {
          "name": "stdout",
          "output_type": "stream",
          "text": [
            "Roxanne 22\n"
          ]
        }
      ],
      "source": [
        "x={'Theodore': 19, 'Roxanne': 22, 'Mathew': 21, 'Betty': 20}\n",
        "y=None\n",
        "z=0\n",
        "for k,v in x.items():\n",
        "  if y is  None or v>x[y]:\n",
        "    y=k\n",
        "    z=v\n",
        "\n",
        "print(y,z)\n"
      ]
    },
    {
      "cell_type": "code",
      "execution_count": null,
      "metadata": {
        "colab": {
          "base_uri": "https://localhost:8080/"
        },
        "id": "dbeafn2xZElL",
        "outputId": "01cdb93a-4186-4a70-baf5-526779292615"
      },
      "outputs": [
        {
          "name": "stdout",
          "output_type": "stream",
          "text": [
            "8 is not prime number\n"
          ]
        }
      ],
      "source": [
        "\n",
        "num = 8\n",
        "if num ==1:\n",
        "  print(num,'is not prime number')\n",
        "if num>1:\n",
        "  for i in range(2,num):\n",
        "    if num%i==0:\n",
        "      print(num,'is not prime number')\n",
        "      break\n",
        "  else:\n",
        "      print(num,'its prime number')\n"
      ]
    },
    {
      "cell_type": "code",
      "execution_count": null,
      "metadata": {
        "colab": {
          "base_uri": "https://localhost:8080/"
        },
        "id": "FbEgh2PYvX1Z",
        "outputId": "68c70552-498e-4d82-e830-0bcd045344f2"
      },
      "outputs": [
        {
          "name": "stdout",
          "output_type": "stream",
          "text": [
            "[2, 1, 4, 3, 9, 5]\n"
          ]
        }
      ],
      "source": [
        "l = [1, 2, 3, 4, 5, 9]\n",
        "for i in range(0,len(l),2):\n",
        "  l[i],l[i+1]=l[i+1],l[i]\n",
        "print(l)\n",
        "\n"
      ]
    },
    {
      "cell_type": "markdown",
      "metadata": {
        "id": "z4_oekkPxuuF"
      },
      "source": [
        "#Write a Python program to remove unwanted characters from a given string.\n"
      ]
    },
    {
      "cell_type": "code",
      "execution_count": null,
      "metadata": {
        "colab": {
          "base_uri": "https://localhost:8080/"
        },
        "id": "N2RqbUzgxd8c",
        "outputId": "809d0781-9296-424a-b0b8-07d90b822fa9"
      },
      "outputs": [
        {
          "name": "stdout",
          "output_type": "stream",
          "text": [
            "ABCD\n"
          ]
        }
      ],
      "source": [
        "s = 'A%^!B#*CD'\n",
        "st=s.replace('%',\"\").replace('^','').replace('!','').replace('#','').replace('*','')\n",
        "print(st)"
      ]
    },
    {
      "cell_type": "code",
      "execution_count": null,
      "metadata": {
        "colab": {
          "base_uri": "https://localhost:8080/"
        },
        "id": "37nOF4_nz5dH",
        "outputId": "c2fe2375-d698-4ff6-85d7-0662c98525d1"
      },
      "outputs": [
        {
          "name": "stdout",
          "output_type": "stream",
          "text": [
            "ABCD\n"
          ]
        }
      ],
      "source": [
        "s = 'A%^!B#*CD'\n",
        "y=''\n",
        "for i in s:\n",
        "  if i.isalpha():\n",
        "    y+=i\n",
        "print(y)\n"
      ]
    },
    {
      "cell_type": "code",
      "execution_count": null,
      "metadata": {
        "colab": {
          "base_uri": "https://localhost:8080/"
        },
        "id": "9mODDakV0KB3",
        "outputId": "98de49d4-b859-46f6-83a6-c59d80de9a24"
      },
      "outputs": [
        {
          "name": "stdout",
          "output_type": "stream",
          "text": [
            "['soleha', 'playing', 'football', 'in', 'the', 'garden']\n",
            "soleha PLAYING football IN the GARDEN\n"
          ]
        }
      ],
      "source": [
        "x=\"soleha playing football in the garden\"\n",
        "b=x.split()\n",
        "print(b)\n",
        "for i in range(len(b)):\n",
        "  # print(i)\n",
        "  if i%2!=0:\n",
        "    b[i]=b[i].upper()\n",
        "print(\" \".join(b))\n",
        "\n"
      ]
    },
    {
      "cell_type": "markdown",
      "metadata": {
        "id": "mohEUjywmYKr"
      },
      "source": [
        "#09/11/2023"
      ]
    },
    {
      "cell_type": "code",
      "execution_count": null,
      "metadata": {
        "colab": {
          "base_uri": "https://localhost:8080/"
        },
        "id": "quG1NdYh3Szm",
        "outputId": "13dea4ab-ecc9-4fdd-af5c-ce55ef7cc764"
      },
      "outputs": [
        {
          "name": "stdout",
          "output_type": "stream",
          "text": [
            "abcd\n"
          ]
        }
      ],
      "source": [
        "a='ab$!cd^&'\n",
        "b=''\n",
        "c='~@#$!%^&*'\n",
        "for i in a:\n",
        "  if i in c:\n",
        "    continue\n",
        "  else:\n",
        "    b=b+i\n",
        "print(b)\n"
      ]
    },
    {
      "cell_type": "code",
      "execution_count": null,
      "metadata": {
        "colab": {
          "base_uri": "https://localhost:8080/"
        },
        "id": "8xzph5pcUtfJ",
        "outputId": "7f2598f3-3a85-4fa6-8880-45fd24178781"
      },
      "outputs": [
        {
          "name": "stdout",
          "output_type": "stream",
          "text": [
            "['hmm', 'long', 'havey', 'short']\n"
          ]
        }
      ],
      "source": [
        "dt=['long','short','havey','hmm']\n",
        "for i in range(len(dt)):\n",
        "  for j in range(i+1,len(dt)):\n",
        "    if len(dt[i])>len(dt[j]):\n",
        "      dt[i],dt[j]=dt[j],dt[i]\n",
        "print(dt)\n"
      ]
    },
    {
      "cell_type": "code",
      "execution_count": null,
      "metadata": {
        "colab": {
          "base_uri": "https://localhost:8080/"
        },
        "id": "trPPxN9-VRZH",
        "outputId": "34d00fc8-fae8-4608-d114-a5212cf4d295"
      },
      "outputs": [
        {
          "name": "stdout",
          "output_type": "stream",
          "text": [
            "['r', 'a', 's', 'h', 'i', 'd']\n",
            "r a s h i d\n"
          ]
        }
      ],
      "source": [
        "th={'r':1,'a':2,'s':3,'h':4,'i':5,'d':6,'a':7}\n",
        "s=list(th.items())\n",
        "# print(s)\n",
        "new=[]\n",
        "for i in s:\n",
        "  new.append(i[0])\n",
        "print(new)\n",
        "print(''.join(new))"
      ]
    },
    {
      "cell_type": "code",
      "execution_count": null,
      "metadata": {
        "colab": {
          "base_uri": "https://localhost:8080/"
        },
        "id": "ETeeQVpKXGgK",
        "outputId": "40d90849-4f55-4e47-aceb-0b132f1059e8"
      },
      "outputs": [
        {
          "name": "stdout",
          "output_type": "stream",
          "text": [
            "soleha PLAYING football IN the GARDEN\n"
          ]
        }
      ],
      "source": [
        "a=\"soleha playing football in the garden\"\n",
        "b=a.split()\n",
        "# print(b)\n",
        "for i in range(1,len(b),2):\n",
        "  # print(b[i])\n",
        "  b[i]=b[i].upper()\n",
        "print(' '.join(b))"
      ]
    },
    {
      "cell_type": "code",
      "execution_count": null,
      "metadata": {
        "colab": {
          "base_uri": "https://localhost:8080/"
        },
        "id": "dSReIGjdmVvA",
        "outputId": "8f4410d7-e281-4214-f81c-b287591fa360"
      },
      "outputs": [
        {
          "name": "stdout",
          "output_type": "stream",
          "text": [
            "[(10, 1), (11, 2), (12, 3)]\n"
          ]
        }
      ],
      "source": [
        "z=[(12,3),(11,2),(10,1)]\n",
        "for i in range(len(z)):\n",
        "  for j in range(i+1,len(z)):\n",
        "    if z[i][0]>z[j][0]:\n",
        "      z[i],z[j]=z[j],z[i]\n",
        "print(z)"
      ]
    },
    {
      "cell_type": "code",
      "execution_count": null,
      "metadata": {
        "colab": {
          "base_uri": "https://localhost:8080/"
        },
        "id": "h_wWFKSP1XZj",
        "outputId": "8bce460f-79b9-40af-9ada-4206bb9c2f6d"
      },
      "outputs": [
        {
          "name": "stdout",
          "output_type": "stream",
          "text": [
            "['Mike', 'Emma', 'Kelly', 'Brad']\n"
          ]
        }
      ],
      "source": [
        "list1 = [\"Mike\",'' \"Emma\",'', \"Kelly\", \"\", \"Brad\",'']\n",
        "l1=''\n",
        "l2=[]\n",
        "for i in list1:\n",
        "  if i==l1:\n",
        "    continue\n",
        "  else:\n",
        "    l2.append(i)\n",
        "print(l2)"
      ]
    },
    {
      "cell_type": "markdown",
      "metadata": {
        "id": "zB-uviO2YJ3h"
      },
      "source": [
        "#10/11/2023"
      ]
    },
    {
      "cell_type": "markdown",
      "metadata": {
        "id": "_-wDEMyr5l1W"
      },
      "source": [
        "# calculate the square of each even number from a list and store in dict\n"
      ]
    },
    {
      "cell_type": "code",
      "execution_count": null,
      "metadata": {
        "colab": {
          "base_uri": "https://localhost:8080/"
        },
        "id": "f61t7JJy1kbu",
        "outputId": "af127e64-7ef3-4873-c878-0721ab11ccb9"
      },
      "outputs": [
        {
          "name": "stdout",
          "output_type": "stream",
          "text": [
            "{2: 4, 4: 16, 6: 36}\n"
          ]
        }
      ],
      "source": [
        "num=[2,3,4,5,6]\n",
        "num1={x: x**2 for x in num if x%2==0}\n",
        "print(num1)"
      ]
    },
    {
      "cell_type": "code",
      "execution_count": null,
      "metadata": {
        "colab": {
          "base_uri": "https://localhost:8080/"
        },
        "id": "uvYpSqH45gpy",
        "outputId": "874bb8ba-310a-4f0c-dbf4-ab32188b35f3"
      },
      "outputs": [
        {
          "name": "stdout",
          "output_type": "stream",
          "text": [
            "even\n"
          ]
        }
      ],
      "source": [
        "x=lambda i: 'even' if i%2==0 else 'odd'\n",
        "print(x(8))"
      ]
    },
    {
      "cell_type": "markdown",
      "metadata": {
        "id": "g94_QpZ4gzn4"
      },
      "source": [
        "#Write a Python program to replace the last element in a list with another list."
      ]
    },
    {
      "cell_type": "code",
      "execution_count": null,
      "metadata": {
        "colab": {
          "base_uri": "https://localhost:8080/"
        },
        "id": "UxI7rYAWQoRs",
        "outputId": "77b5164e-972a-43c4-83a2-bf2c7f3d0763"
      },
      "outputs": [
        {
          "name": "stdout",
          "output_type": "stream",
          "text": [
            "[1, 3, 5, 7, 9, 10, 2, 4, 6, 8]\n"
          ]
        }
      ],
      "source": [
        "num1 = [1, 3, 5, 7, 9, 10]\n",
        "num2 = [2, 4, 6, 8]\n",
        "num3=num1+num2\n",
        "print(num3)"
      ]
    },
    {
      "cell_type": "code",
      "execution_count": null,
      "metadata": {
        "colab": {
          "base_uri": "https://localhost:8080/"
        },
        "id": "25A5FBbqgdRD",
        "outputId": "76c64df9-5071-4b37-fcdd-1e7567993e3b"
      },
      "outputs": [
        {
          "name": "stdout",
          "output_type": "stream",
          "text": [
            "[1, 3, 5, 7, 9, 10, 2, 4, 6, 8]\n"
          ]
        }
      ],
      "source": [
        "num1 = [1, 3, 5, 7, 9, 10]\n",
        "num2 = [2, 4, 6, 8]\n",
        "num1.extend(num2)\n",
        "print(num1)"
      ]
    },
    {
      "cell_type": "code",
      "execution_count": null,
      "metadata": {
        "colab": {
          "base_uri": "https://localhost:8080/"
        },
        "id": "Y8QWmRh_gld6",
        "outputId": "e17de167-2ab3-4824-e26b-a8629bc4ad21"
      },
      "outputs": [
        {
          "name": "stdout",
          "output_type": "stream",
          "text": [
            "1 red\n",
            "2 white\n",
            "3 black\n"
          ]
        }
      ],
      "source": [
        "num = [1, 2, 3]\n",
        "color = ['red', 'white', 'black']\n",
        "for(a,b)in zip(num,color):\n",
        "  print(a,b)"
      ]
    },
    {
      "cell_type": "code",
      "execution_count": null,
      "metadata": {
        "colab": {
          "base_uri": "https://localhost:8080/"
        },
        "id": "QHgg-ac2hW_a",
        "outputId": "402f6f97-a974-420c-b54f-b64e5f8b995a"
      },
      "outputs": [
        {
          "name": "stdout",
          "output_type": "stream",
          "text": [
            "['red', 'white', 'black', 1, 2, 3]\n"
          ]
        }
      ],
      "source": [
        "num = [1, 2, 3]\n",
        "color = ['red', 'white', 'black']\n",
        "num1=[]\n",
        "for i in num:\n",
        "  if i not in color:\n",
        "    color.append(i)\n",
        "print(color)\n",
        "\n"
      ]
    },
    {
      "cell_type": "markdown",
      "metadata": {
        "id": "hXx5IH-DmnvS"
      },
      "source": [
        "#11/11/2023"
      ]
    },
    {
      "cell_type": "code",
      "execution_count": null,
      "metadata": {
        "colab": {
          "base_uri": "https://localhost:8080/"
        },
        "id": "1KQKsMZVkw_i",
        "outputId": "05f2c888-5d7e-48ef-c040-6d0c6a362f23"
      },
      "outputs": [
        {
          "name": "stdout",
          "output_type": "stream",
          "text": [
            "[[10, 20], [40], [30, 56, 25], [33]]\n"
          ]
        }
      ],
      "source": [
        "l1=[[10, 20], [40], [30, 56, 25], [10, 20], [33], [40]]\n",
        "l2=[]\n",
        "for i in l1:\n",
        "  if i not in l2:\n",
        "    l2.append(i)\n",
        "print(l2)\n"
      ]
    },
    {
      "cell_type": "markdown",
      "metadata": {
        "id": "TTh6Z81gH4FI"
      },
      "source": [
        "#Write a Python program to convert a pair of values into a sorted unique list\n",
        "\n"
      ]
    },
    {
      "cell_type": "code",
      "execution_count": null,
      "metadata": {
        "colab": {
          "base_uri": "https://localhost:8080/"
        },
        "id": "gBKH-X_PHw1g",
        "outputId": "7660270c-334d-447f-a62d-8488c679a4c9"
      },
      "outputs": [
        {
          "name": "stdout",
          "output_type": "stream",
          "text": [
            "[(1, 2), (3, 4), (5, 6), (7, 8), (9, 10)]\n"
          ]
        }
      ],
      "source": [
        "L = [(1, 2), (3, 4), (1, 2), (5, 6), (7, 8), (1, 2), (3, 4), (3, 4), (7, 8), (9, 10)]\n",
        "l2=[]\n",
        "for i in L:\n",
        "  if i not in l2:\n",
        "    l2.append(i)\n",
        "print(l2)"
      ]
    },
    {
      "cell_type": "code",
      "execution_count": null,
      "metadata": {
        "colab": {
          "base_uri": "https://localhost:8080/"
        },
        "id": "OeRcrSCwK6Nb",
        "outputId": "fb197762-ef8f-438c-e30a-c9de9a322348"
      },
      "outputs": [
        {
          "name": "stdout",
          "output_type": "stream",
          "text": [
            "[36, 48, 52, 72]\n",
            "{52, 'minhaj'}\n"
          ]
        }
      ],
      "source": [
        "# marks greater than 50\n",
        "data={'junaid':36,'sarfaraz':48,'minhaj':52,'sadiqu':72}\n",
        "l=list(data.values())\n",
        "# print(l)\n",
        "for i in range(len(l)):\n",
        "  for j in range(len(l)):\n",
        "    if l[i]<l[j]:\n",
        "      l[i],l[j]=l[j],l[i]\n",
        "\n",
        "print(l)\n",
        "for k,v in data.items():\n",
        "  if v==l[-2]:\n",
        "    print({k,v})\n",
        "\n",
        "\n"
      ]
    },
    {
      "cell_type": "code",
      "execution_count": null,
      "metadata": {
        "colab": {
          "base_uri": "https://localhost:8080/"
        },
        "id": "FQ_kRxkiRv8B",
        "outputId": "2a4eb467-5812-4ade-aed5-f2b3f01f3037"
      },
      "outputs": [
        {
          "name": "stdout",
          "output_type": "stream",
          "text": [
            "[36, 48, 52, 72]\n",
            "{72, 'sadiqu'}\n"
          ]
        }
      ],
      "source": [
        "# student highest marks\n",
        "data={'junaid':36,'sarfaraz':48,'minhaj':52,'sadiqu':72}\n",
        "l=list(data.values())\n",
        "# print(l)\n",
        "for i in range(len(l)):\n",
        "  for j in range(len(l)):\n",
        "    if l[i]<l[j]:\n",
        "      l[i],l[j]=l[j],l[i]\n",
        "\n",
        "print(l)\n",
        "for k,v in data.items():\n",
        "  if v==l[-1]:\n",
        "    print({k,v})\n",
        "\n",
        "\n"
      ]
    },
    {
      "cell_type": "code",
      "execution_count": null,
      "metadata": {
        "colab": {
          "base_uri": "https://localhost:8080/"
        },
        "id": "7GgCbVyXR307",
        "outputId": "9b2906fd-4a6f-4b82-ec30-15c1ec7ffd72"
      },
      "outputs": [
        {
          "name": "stdout",
          "output_type": "stream",
          "text": [
            "[(1, 2), (2, 5), (2, 3), (2, 1), (4, 4)]\n"
          ]
        }
      ],
      "source": [
        "x=[(2, 5), (1, 2), (4, 4), (2, 3), (2, 1)]\n",
        "for i in range(len(x)):\n",
        "  for j in range(i+1,len(x)):\n",
        "    if x[i][0]>x[j][0]:\n",
        "      x[i],x[j]=x[j],x[i]\n",
        "print(x)\n"
      ]
    },
    {
      "cell_type": "markdown",
      "metadata": {
        "id": "-lF6gViKGCPP"
      },
      "source": [
        "#Write a Python program to change the position of every n-th value"
      ]
    },
    {
      "cell_type": "code",
      "execution_count": null,
      "metadata": {
        "colab": {
          "base_uri": "https://localhost:8080/"
        },
        "id": "MMXz9U4B9dg1",
        "outputId": "124187ce-07e4-4fd9-b7f4-6f59208dadfa"
      },
      "outputs": [
        {
          "name": "stdout",
          "output_type": "stream",
          "text": [
            "[1, 0, 3, 2, 5, 4]\n"
          ]
        }
      ],
      "source": [
        "lst=[0,1,2,3,4,5]\n",
        "for i in range(0,len(lst),2):\n",
        "  lst[i],lst[i+1]=lst[i+1],lst[i]\n",
        "print(lst)"
      ]
    },
    {
      "cell_type": "code",
      "execution_count": null,
      "metadata": {
        "colab": {
          "base_uri": "https://localhost:8080/"
        },
        "id": "kzVjy895IMCv",
        "outputId": "229d7bbd-d693-4698-fc5d-d5cbd56a157b"
      },
      "outputs": [
        {
          "name": "stdout",
          "output_type": "stream",
          "text": [
            "78\n"
          ]
        }
      ],
      "source": [
        "lst = [[1, 2, 3], [4, 5, 6], [10, 11, 12], [7, 8, 9]]\n",
        "res=0\n",
        "for i in lst:\n",
        "  # print(i)\n",
        "  for j in i:\n",
        "    # print(j)\n",
        "    res+=j\n",
        "print(res)\n",
        "\n"
      ]
    },
    {
      "cell_type": "markdown",
      "metadata": {
        "id": "7J4BBbHKKLvx"
      },
      "source": [
        "#12/11/2023 Sunday"
      ]
    },
    {
      "cell_type": "markdown",
      "metadata": {
        "id": "D-N6eOTIKV5a"
      },
      "source": [
        "# sort"
      ]
    },
    {
      "cell_type": "code",
      "execution_count": null,
      "metadata": {
        "colab": {
          "base_uri": "https://localhost:8080/"
        },
        "id": "NtyO33gUHUhi",
        "outputId": "0f573395-42df-4dc2-90de-3b42b731f089"
      },
      "outputs": [
        {
          "name": "stdout",
          "output_type": "stream",
          "text": [
            "['ask', 'be', 'come', 'do', 'feel', 'find', 'get', 'give', 'go', 'have', 'know', 'leave', 'look', 'make', 'say', 'see', 'seem', 'take', 'tell', 'think', 'use', 'want', 'work']\n"
          ]
        }
      ],
      "source": [
        "l1= ['be','have','do','say','get','make','go','know','take','see','come','think','look','want','give','use','find','tell','ask','work','seem','feel','leave']\n",
        "for i in range(len(l1)):\n",
        "  for j in range(len(l1)):\n",
        "    if l1[i]<l1[j]:\n",
        "      l1[i],l1[j]=l1[j],l1[i]\n",
        "print(l1)\n"
      ]
    },
    {
      "cell_type": "markdown",
      "metadata": {
        "id": "KJ_87LcLLDSm"
      },
      "source": [
        "# Write a Python program to select the odd items from a list.\n"
      ]
    },
    {
      "cell_type": "code",
      "execution_count": null,
      "metadata": {
        "colab": {
          "base_uri": "https://localhost:8080/"
        },
        "id": "A7qaT1iRHshQ",
        "outputId": "b71618a4-97ba-492a-8d7a-1b184f87092d"
      },
      "outputs": [
        {
          "name": "stdout",
          "output_type": "stream",
          "text": [
            "[1, 3, 5, 7, 9]\n"
          ]
        }
      ],
      "source": [
        "x = [1, 2, 3, 4, 5, 6, 7, 8, 9]\n",
        "y=[]\n",
        "for i in x:\n",
        "  if i%2!=0:\n",
        "    y.append(i)\n",
        "print(y)\n"
      ]
    },
    {
      "cell_type": "code",
      "execution_count": null,
      "metadata": {
        "colab": {
          "base_uri": "https://localhost:8080/"
        },
        "id": "6v-HCK6RKjff",
        "outputId": "3c2e14fd-f9f4-445e-bf4e-f76cbd5575db"
      },
      "outputs": [
        {
          "name": "stdout",
          "output_type": "stream",
          "text": [
            "{'Black': '#000000', 'Red': '#FF0000', 'Maroon': '#800000', 'Yellow': '#FFFF00'}\n"
          ]
        }
      ],
      "source": [
        "x= [\"Black\", \"Red\", \"Maroon\", \"Yellow\"]\n",
        "y= [\"#000000\", \"#FF0000\", \"#800000\", \"#FFFF00\"]\n",
        "z= {}\n",
        "for i in range(len(x)):\n",
        "  # print(x[i])\n",
        "  # print(y[i])\n",
        "  z[x[i]]=y[i]\n",
        "print(z)"
      ]
    },
    {
      "cell_type": "markdown",
      "metadata": {
        "id": "UiJGzNgFfg6l"
      },
      "source": [
        "# 13/11/2023"
      ]
    },
    {
      "cell_type": "markdown",
      "metadata": {
        "id": "KXBTCmz_gEeJ"
      },
      "source": [
        "#Write a Python program to print the numbers of a specified list after removing even numbers from it.\n"
      ]
    },
    {
      "cell_type": "code",
      "execution_count": null,
      "metadata": {
        "colab": {
          "base_uri": "https://localhost:8080/"
        },
        "id": "1QU4cvvQTGil",
        "outputId": "76a28ae7-af77-4ac5-928b-f73cb79ccd4b"
      },
      "outputs": [
        {
          "name": "stdout",
          "output_type": "stream",
          "text": [
            "[7, 25, 27]\n"
          ]
        }
      ],
      "source": [
        "num = [7, 8, 120, 25, 44, 20, 27]\n",
        "num1=[]\n",
        "for i in num:\n",
        "  if i %2!=0:\n",
        "    num1.append(i)\n",
        "print(num1)\n"
      ]
    },
    {
      "cell_type": "code",
      "execution_count": null,
      "metadata": {
        "colab": {
          "base_uri": "https://localhost:8080/"
        },
        "id": "A4cQVm95f_qp",
        "outputId": "b7583cae-0148-4068-c5e4-4072c8e6f188"
      },
      "outputs": [
        {
          "name": "stdout",
          "output_type": "stream",
          "text": [
            "[7, 25, 27]\n"
          ]
        }
      ],
      "source": [
        "num = [7, 8, 120, 25, 44, 20, 27]\n",
        "num=[x for x in num if x%2!=0]\n",
        "print(num)"
      ]
    },
    {
      "cell_type": "markdown",
      "metadata": {
        "id": "-Ke1tGdXkWuT"
      },
      "source": [
        "# remove duplicate element in list"
      ]
    },
    {
      "cell_type": "code",
      "execution_count": null,
      "metadata": {
        "colab": {
          "base_uri": "https://localhost:8080/"
        },
        "id": "_6-x6UQhhZpt",
        "outputId": "8946c52a-88e7-4bee-de62-7f224acc0367"
      },
      "outputs": [
        {
          "name": "stdout",
          "output_type": "stream",
          "text": [
            "['Alice', 'Bob', 1, 2, 3]\n"
          ]
        }
      ],
      "source": [
        "lst = ['Alice', 'Bob', 'Bob', 1, 1, 1, 2, 3, 3]\n",
        "lst1=[]\n",
        "for i in lst:\n",
        "  if i not in lst1:\n",
        "    lst1.append(i)\n",
        "print(lst1)\n"
      ]
    },
    {
      "cell_type": "markdown",
      "metadata": {
        "id": "P5U7oHO2ldmd"
      },
      "source": [
        "# Write a Python program to convert a list of characters into a string.\n"
      ]
    },
    {
      "cell_type": "code",
      "execution_count": null,
      "metadata": {
        "colab": {
          "base_uri": "https://localhost:8080/"
        },
        "id": "81fFpTKIil8O",
        "outputId": "14dcabf2-1f23-44c3-bc48-e27ccdc1903e"
      },
      "outputs": [
        {
          "name": "stdout",
          "output_type": "stream",
          "text": [
            "abcd\n"
          ]
        }
      ],
      "source": [
        "s = ['a', 'b', 'c', 'd']\n",
        "print(''.join(s))"
      ]
    },
    {
      "cell_type": "code",
      "execution_count": null,
      "metadata": {
        "colab": {
          "base_uri": "https://localhost:8080/"
        },
        "id": "U_KxZX-UjXss",
        "outputId": "85dee9fe-f63f-40e0-d316-dc34de78c093"
      },
      "outputs": [
        {
          "name": "stdout",
          "output_type": "stream",
          "text": [
            "programming\n"
          ]
        }
      ],
      "source": [
        "Input=['p', 'r', 'o', 'g', 'r', 'a', 'm', 'm', 'i', 'n', 'g']\n",
        "new=''\n",
        "for i in Input:\n",
        "  new+=i\n",
        "print(new)"
      ]
    },
    {
      "cell_type": "markdown",
      "metadata": {
        "id": "t4WBmktGmmb4"
      },
      "source": [
        "# Write a Python program to find the second smallest number in a list.\n"
      ]
    },
    {
      "cell_type": "code",
      "execution_count": null,
      "metadata": {
        "colab": {
          "base_uri": "https://localhost:8080/"
        },
        "id": "0F22_iWelHIc",
        "outputId": "de77fcb2-da31-427a-e7c7-bad50b897599"
      },
      "outputs": [
        {
          "name": "stdout",
          "output_type": "stream",
          "text": [
            "[2, 3, 11, 12, 21]\n",
            "second smaller number 3\n"
          ]
        }
      ],
      "source": [
        "x=[11,21,12,3,2]\n",
        "for i in range(len(x)):\n",
        "  for j in range(len(x)):\n",
        "    if x[i]<x[j]:\n",
        "      x[i],x[j]=x[j],x[i]\n",
        "print(x)\n",
        "print('second smaller number',x[1])"
      ]
    },
    {
      "cell_type": "markdown",
      "metadata": {
        "id": "fUshRxWYm-bc"
      },
      "source": [
        "#Write a Python program to find the second largest number in a list.\n"
      ]
    },
    {
      "cell_type": "code",
      "execution_count": null,
      "metadata": {
        "colab": {
          "base_uri": "https://localhost:8080/"
        },
        "id": "35WJV-fGmKed",
        "outputId": "19e82fdb-f5aa-4741-9cf3-d8a742c1ce75"
      },
      "outputs": [
        {
          "name": "stdout",
          "output_type": "stream",
          "text": [
            "[2, 3, 11, 12, 21]\n",
            "second largest number 12\n"
          ]
        }
      ],
      "source": [
        "x=[11,21,12,3,2]\n",
        "for i in range(len(x)):\n",
        "  for j in range(len(x)):\n",
        "    if x[i]<x[j]:\n",
        "      x[i],x[j]=x[j],x[i]\n",
        "print(x)\n",
        "print('second largest number',x[3])"
      ]
    },
    {
      "cell_type": "markdown",
      "metadata": {
        "id": "l_eeOjyBoGfi"
      },
      "source": [
        "#Write a Python program to get the frequency of elements in a list.\n"
      ]
    },
    {
      "cell_type": "code",
      "execution_count": null,
      "metadata": {
        "colab": {
          "base_uri": "https://localhost:8080/"
        },
        "id": "N4dtwgDvmxHj",
        "outputId": "3bb77e5c-698e-4332-e95f-07958c001eb7"
      },
      "outputs": [
        {
          "name": "stdout",
          "output_type": "stream",
          "text": [
            "{10: 4, 20: 4, 40: 2, 50: 2, 30: 1}\n"
          ]
        }
      ],
      "source": [
        "lst = [10, 10, 10, 10, 20, 20, 20, 20, 40, 40, 50, 50, 30]\n",
        "lst1={}\n",
        "for num in lst:\n",
        "  if num in lst1:\n",
        "    lst1[num]+=1\n",
        "  else:\n",
        "    lst1[num]=1\n",
        "print(lst1)\n"
      ]
    },
    {
      "cell_type": "code",
      "execution_count": null,
      "metadata": {
        "colab": {
          "base_uri": "https://localhost:8080/"
        },
        "id": "pYAMUm-Vnoub",
        "outputId": "338a934a-0162-45ca-8277-a462e1de930c"
      },
      "outputs": [
        {
          "name": "stdout",
          "output_type": "stream",
          "text": [
            "{'a': 2, 'b': 2, 'c': 1, 'd': 3}\n"
          ]
        }
      ],
      "source": [
        "x='aabbcddd'\n",
        "y={}\n",
        "for i in x:\n",
        "  if i in y:\n",
        "    y[i]+=1\n",
        "  else:\n",
        "    y[i]=1\n",
        "print(y)"
      ]
    },
    {
      "cell_type": "markdown",
      "metadata": {
        "id": "T-2dLHkHpHWF"
      },
      "source": [
        "#Write a Python program to find common items in two lists.\n"
      ]
    },
    {
      "cell_type": "code",
      "execution_count": null,
      "metadata": {
        "colab": {
          "base_uri": "https://localhost:8080/"
        },
        "id": "o8Bi3MTQn_T3",
        "outputId": "39824703-ca8d-4bb0-f9b0-36e6897c1d23"
      },
      "outputs": [
        {
          "name": "stdout",
          "output_type": "stream",
          "text": [
            "['Green', 'White']\n"
          ]
        }
      ],
      "source": [
        "color1 = \"Red\", \"Green\", \"Orange\", \"White\"\n",
        "color2 = \"Black\", \"Green\", \"White\", \"Pink\"\n",
        "col=[]\n",
        "\n",
        "for i in color1:\n",
        "  if i in color2:\n",
        "    col.append(i)\n",
        "print(col)\n"
      ]
    },
    {
      "cell_type": "markdown",
      "metadata": {
        "id": "3pDKR_FDBDpG"
      },
      "source": [
        "# 14/11/2023"
      ]
    },
    {
      "cell_type": "code",
      "execution_count": null,
      "metadata": {
        "colab": {
          "base_uri": "https://localhost:8080/"
        },
        "id": "8tZuCSA9o7lK",
        "outputId": "648904f8-8df5-4b25-fafb-5981712204d9"
      },
      "outputs": [
        {
          "name": "stdout",
          "output_type": "stream",
          "text": [
            "[['red', 'orange', 'green', 'blue', 'white']]\n"
          ]
        }
      ],
      "source": [
        "dt=[\"red\", \"orange\", \"green\", \"blue\", \"white\"],\n",
        "dt2=[\"black\", \"yellow\", \"green\", \"blue\"]\n",
        "dt1=[]\n",
        "for i in dt:\n",
        "  if i not in dt2:\n",
        "    dt1.append(i)\n",
        "print(dt1)\n",
        "\n"
      ]
    },
    {
      "cell_type": "code",
      "execution_count": null,
      "metadata": {
        "colab": {
          "base_uri": "https://localhost:8080/"
        },
        "id": "ZjMz4k9eG1jl",
        "outputId": "e41fc4f8-145d-4b3a-ede1-574462ffc987"
      },
      "outputs": [
        {
          "name": "stdout",
          "output_type": "stream",
          "text": [
            "[1, 2, 3, 4, 5, 6, 7]\n"
          ]
        }
      ],
      "source": [
        "from functools import reduce\n",
        "\n",
        "my_list = [[1], [2, 3], [4, 5, 6, 7]]\n",
        "print(reduce(lambda x, y: x+y, my_list))"
      ]
    },
    {
      "cell_type": "markdown",
      "metadata": {
        "id": "UHrSs_42HSj7"
      },
      "source": [
        "generate tables"
      ]
    },
    {
      "cell_type": "code",
      "execution_count": null,
      "metadata": {
        "colab": {
          "base_uri": "https://localhost:8080/"
        },
        "id": "bCEX1iB-HQcT",
        "outputId": "84a0ae63-0e7c-4113-8c95-43ad21adbbff"
      },
      "outputs": [
        {
          "name": "stdout",
          "output_type": "stream",
          "text": [
            "[0, 2, 4, 6, 8, 10, 12, 14, 16, 18]\n"
          ]
        }
      ],
      "source": [
        "number_list = [ x for x in range(20) if x % 2 == 0]\n",
        "print(number_list)"
      ]
    },
    {
      "cell_type": "code",
      "execution_count": null,
      "metadata": {
        "colab": {
          "base_uri": "https://localhost:8080/"
        },
        "id": "dMh1pcHaHcMJ",
        "outputId": "774072b6-8957-4ccb-ee60-29713ca798d7"
      },
      "outputs": [
        {
          "name": "stdout",
          "output_type": "stream",
          "text": [
            "['Even', 'Odd', 'Even', 'Odd', 'Even', 'Odd', 'Even', 'Odd', 'Even', 'Odd']\n"
          ]
        }
      ],
      "source": [
        "obj = [\"Even\" if i%2==0 else \"Odd\" for i in range(10)]\n",
        "print(obj)"
      ]
    },
    {
      "cell_type": "markdown",
      "metadata": {
        "id": "y-mUzdVlN7oE"
      },
      "source": [
        "#15/11/2023"
      ]
    },
    {
      "cell_type": "code",
      "execution_count": null,
      "metadata": {
        "colab": {
          "base_uri": "https://localhost:8080/"
        },
        "id": "i1PcpEU7JzdP",
        "outputId": "0553bbfc-e3e5-440d-866f-c0b0ff48e64e"
      },
      "outputs": [
        {
          "name": "stdout",
          "output_type": "stream",
          "text": [
            "[1, 2, 3, 4, 5, 6, 10, 11, 12, 7, 8, 9]\n"
          ]
        }
      ],
      "source": [
        "num = [[1, 2, 3], [4, 5, 6], [10, 11, 12], [7, 8, 9]]\n",
        "num1=[]\n",
        "for i in num:\n",
        "  num1.extend(i)\n",
        "print(num1)\n",
        "\n",
        "\n"
      ]
    },
    {
      "cell_type": "code",
      "execution_count": null,
      "metadata": {
        "colab": {
          "base_uri": "https://localhost:8080/"
        },
        "id": "zO5_YdqPOA_4",
        "outputId": "26f8651b-53db-4c25-88ba-86d308ac108a"
      },
      "outputs": [
        {
          "name": "stdout",
          "output_type": "stream",
          "text": [
            "[1, 2, 3, 4, 5, 6, 10, 11, 12, 7, 8, 9]\n"
          ]
        }
      ],
      "source": [
        "num = [[1, 2, 3], [4, 5, 6], [10, 11, 12], [7, 8, 9]]\n",
        "res=[]\n",
        "for i in num:\n",
        "  for j in i:\n",
        "    # print(j)\n",
        "    res.append(j)\n",
        "print(res)\n",
        "\n"
      ]
    },
    {
      "cell_type": "code",
      "execution_count": null,
      "metadata": {
        "colab": {
          "base_uri": "https://localhost:8080/"
        },
        "id": "2LAw6MFGGauc",
        "outputId": "c0232164-a59c-44e5-d66c-1b6192260ac9"
      },
      "outputs": [
        {
          "name": "stdout",
          "output_type": "stream",
          "text": [
            "[1, 2, 3, 4, 5, 6, 10, 11, 12, 7, 8, 9]\n"
          ]
        }
      ],
      "source": [
        "num1 = [[1, 2, 3], [4, 5, 6], [10, 11, 12], [7, 8, 9]]\n",
        "\n",
        "res = [num for i in num1 for num in i]\n",
        "print(res)"
      ]
    },
    {
      "cell_type": "code",
      "execution_count": null,
      "metadata": {
        "id": "0hGwmbmdHMVR"
      },
      "outputs": [],
      "source": [
        "# lst=[0, 10, [20, 30], 40, 50, [60, 70, 80], [90, 100, 110, 120]]\n"
      ]
    },
    {
      "cell_type": "markdown",
      "metadata": {
        "id": "XhghMac7QcyH"
      },
      "source": [
        "# find the common element from the given list"
      ]
    },
    {
      "cell_type": "code",
      "execution_count": null,
      "metadata": {
        "colab": {
          "base_uri": "https://localhost:8080/"
        },
        "id": "uazrTrvtThve",
        "outputId": "04cc2d0d-2789-47c6-c3d8-e8ac5890c3c4"
      },
      "outputs": [
        {
          "name": "stdout",
          "output_type": "stream",
          "text": [
            "[5]\n"
          ]
        }
      ],
      "source": [
        "a=[1,2,3,4,5]\n",
        "b=[3,4,5,6,7]\n",
        "c=[5,6,7,8,9]\n",
        "res=[]\n",
        "for i in a:\n",
        "  if i in b and i in c:\n",
        "    res.append(i)\n",
        "print(res)"
      ]
    },
    {
      "cell_type": "code",
      "execution_count": null,
      "metadata": {
        "colab": {
          "base_uri": "https://localhost:8080/"
        },
        "id": "YrMukVJPFuBm",
        "outputId": "733d8daf-b971-4d8e-b13f-8118b4223634"
      },
      "outputs": [
        {
          "name": "stdout",
          "output_type": "stream",
          "text": [
            "{5}\n"
          ]
        }
      ],
      "source": [
        "a=[1,2,3,4,5]\n",
        "b=[3,4,5,6,7]\n",
        "c=[5,6,7,8,9]\n",
        "d=set()\n",
        "for num in a:\n",
        "  if num in b and num in c:\n",
        "    d.add(num)\n",
        "print(d)"
      ]
    },
    {
      "cell_type": "code",
      "execution_count": null,
      "metadata": {
        "colab": {
          "base_uri": "https://localhost:8080/"
        },
        "id": "vktAs0VHISQ3",
        "outputId": "3a7708ea-9a1b-4a8c-c095-515a8632f47e"
      },
      "outputs": [
        {
          "name": "stdout",
          "output_type": "stream",
          "text": [
            "[5, 7]\n"
          ]
        }
      ],
      "source": [
        "# find the missing element in a list\n",
        "\n",
        "lst=[1,2,3,4,6,8]\n",
        "em=[]\n",
        "for i in range(lst[0],lst[-1]+1):\n",
        "  if i not in lst:\n",
        "    em.append(i)\n",
        "print(em)"
      ]
    },
    {
      "cell_type": "code",
      "execution_count": null,
      "metadata": {
        "colab": {
          "base_uri": "https://localhost:8080/"
        },
        "id": "k2Nv6tXIFain",
        "outputId": "2ec05df2-1137-4a01-c8d0-bcf6a2e0ca47"
      },
      "outputs": [
        {
          "name": "stdout",
          "output_type": "stream",
          "text": [
            "[1, 2, 3, 4, 5, 6, 7]\n"
          ]
        }
      ],
      "source": [
        "lst= [[1], [2, 3], [4, 5, 6, 7]]\n",
        "\n",
        "res = [num for i in lst for num in i]\n",
        "print(res)"
      ]
    },
    {
      "cell_type": "markdown",
      "metadata": {
        "id": "iMeyYtrEOnmF"
      },
      "source": [
        "#16/11/2023"
      ]
    },
    {
      "cell_type": "code",
      "execution_count": null,
      "metadata": {
        "colab": {
          "base_uri": "https://localhost:8080/"
        },
        "id": "AMVsT36jGT83",
        "outputId": "13bfd632-f56e-465a-cfe7-37db4673c5a0"
      },
      "outputs": [
        {
          "name": "stdout",
          "output_type": "stream",
          "text": [
            "['abc', 'pqr', '\"xyz', 'tpq\"', 'syz', '\"mpl', 'saq', 'ddda\"', 'pqr']\n"
          ]
        }
      ],
      "source": [
        "string='abc pqr \"xyz tpq\" syz \"mpl saq ddda\" pqr'\n",
        "x=string.split()\n",
        "print(x)\n",
        "x=[]\n",
        "#[abc,pqr,\"xyz tpq\", syz,\"mpl saq ddda\", pqr]\n",
        "\n",
        "# for i in string:\n",
        "#   if i not in x:\n",
        "#     x.append(i)\n",
        "# print(x)\n"
      ]
    },
    {
      "cell_type": "code",
      "execution_count": null,
      "metadata": {
        "colab": {
          "base_uri": "https://localhost:8080/"
        },
        "id": "YZya2tjJPgY5",
        "outputId": "1eabfcd2-13fe-4943-86b1-c163d298d174"
      },
      "outputs": [
        {
          "name": "stdout",
          "output_type": "stream",
          "text": [
            "{'g': 2, 'o': 3, 'l': 1, 'e': 1, '.': 1, 'c': 1, 'm': 1}\n"
          ]
        }
      ],
      "source": [
        "st='google.com'\n",
        "st1={}\n",
        "for i in st:\n",
        "  if i in st1:\n",
        "    st1[i]+=1\n",
        "  else:\n",
        "    st1[i]=1\n",
        "print(st1)\n"
      ]
    },
    {
      "cell_type": "markdown",
      "metadata": {
        "id": "cq2qmbZ6GC2t"
      },
      "source": [
        "#Append new string in the middle of a given string"
      ]
    },
    {
      "cell_type": "code",
      "execution_count": null,
      "metadata": {
        "colab": {
          "base_uri": "https://localhost:8080/"
        },
        "id": "ipgYqS69CU9G",
        "outputId": "a8d5d9f5-6668-4d52-ea4e-0c1054f716f0"
      },
      "outputs": [
        {
          "name": "stdout",
          "output_type": "stream",
          "text": [
            "AuKellylt\n"
          ]
        }
      ],
      "source": [
        "s1 = \"Ault\"\n",
        "s2 = \"Kelly\"\n",
        "# AuKellylt\n",
        "\n",
        "\n",
        "f=s1[:2]\n",
        "l=s1[2:]\n",
        "new=f+s2+l\n",
        "print(new)"
      ]
    },
    {
      "cell_type": "code",
      "execution_count": null,
      "metadata": {
        "colab": {
          "base_uri": "https://localhost:8080/"
        },
        "id": "7fN8km9EEfVK",
        "outputId": "8b0c4120-67ab-4786-d3dc-c6d39e00e776"
      },
      "outputs": [
        {
          "name": "stdout",
          "output_type": "stream",
          "text": [
            "6\n",
            "5\n",
            "4\n"
          ]
        }
      ],
      "source": [
        "x = 6\n",
        "while x:\n",
        "    print(x)\n",
        "    x -= 1\n",
        "    if x == 3:\n",
        "        break"
      ]
    },
    {
      "cell_type": "code",
      "execution_count": null,
      "metadata": {
        "colab": {
          "base_uri": "https://localhost:8080/"
        },
        "id": "mjL5TG-ZQAr-",
        "outputId": "0f4e8b43-de3a-4c35-cb52-88dde505e0cd"
      },
      "outputs": [
        {
          "name": "stdout",
          "output_type": "stream",
          "text": [
            "1 2 3 4 5 6 7 8 9 "
          ]
        }
      ],
      "source": [
        "list = [[1, 2, 3],[4, 5, 6],[7, 8, 9]]\n",
        "for sublist in list:\n",
        "    for number in sublist:\n",
        "      print(number,end=' ')"
      ]
    },
    {
      "cell_type": "code",
      "execution_count": null,
      "metadata": {
        "id": "x5lPuqXmRmkK"
      },
      "outputs": [],
      "source": [
        "# def checkAge(age):\n",
        "#     if age > 18:\n",
        "#         return True\n",
        "#     else:\n",
        "#         return False\n",
        "\n",
        "# age = [5, 11, 16, 19, 24, 42]\n",
        "# adults = filter(checkAge, age)\n",
        "# print(list(adults))"
      ]
    },
    {
      "cell_type": "code",
      "execution_count": null,
      "metadata": {
        "colab": {
          "base_uri": "https://localhost:8080/"
        },
        "id": "WFYJl0GYTBKf",
        "outputId": "0fca5834-847c-4ab1-912f-bde32723ca40"
      },
      "outputs": [
        {
          "name": "stdout",
          "output_type": "stream",
          "text": [
            "[1, 2, 3, 4, 5, 6, 7, 8, 9]\n"
          ]
        }
      ],
      "source": [
        "vector = [[1, 2, 3], [4, 5, 6], [7, 8, 9]]\n",
        "L = [number for list in vector for number in list]\n",
        "print(L)"
      ]
    },
    {
      "cell_type": "code",
      "execution_count": null,
      "metadata": {
        "colab": {
          "base_uri": "https://localhost:8080/"
        },
        "id": "uKo2RG0QUA7j",
        "outputId": "2d6ab7ed-9a41-41a7-8a12-cd39e27ce340"
      },
      "outputs": [
        {
          "name": "stdout",
          "output_type": "stream",
          "text": [
            "[[1, 4, 7], [2, 5, 8], [3, 6, 9]]\n"
          ]
        }
      ],
      "source": [
        "matrix = [[1, 2, 3],[4, 5, 6],[7, 8, 9]]\n",
        "L = [[num[i] for num in matrix] for i in range(3)]\n",
        "print(L)"
      ]
    },
    {
      "cell_type": "markdown",
      "metadata": {
        "id": "JZaodUYzn9D2"
      },
      "source": [
        "#17/11/2023"
      ]
    },
    {
      "cell_type": "markdown",
      "metadata": {
        "id": "sRJOQQgHpJAb"
      },
      "source": [
        "#Write a Python program to remove duplicates from a list of lists."
      ]
    },
    {
      "cell_type": "code",
      "execution_count": null,
      "metadata": {
        "colab": {
          "base_uri": "https://localhost:8080/"
        },
        "id": "zf5V8ox8UL_q",
        "outputId": "a7ded80b-60b9-4d53-fc16-5433fca988ca"
      },
      "outputs": [
        {
          "name": "stdout",
          "output_type": "stream",
          "text": [
            "[[10, 20], [40], [30, 56, 25], [33]]\n"
          ]
        }
      ],
      "source": [
        "dt=[[10, 20], [40], [30, 56, 25], [10, 20], [33], [40]]\n",
        "dt1=[]\n",
        "for i in dt:\n",
        "  if i not in dt1:\n",
        "    dt1.append(i)\n",
        "print(dt1)\n"
      ]
    },
    {
      "cell_type": "code",
      "execution_count": null,
      "metadata": {
        "colab": {
          "base_uri": "https://localhost:8080/"
        },
        "id": "kAEpf2_uo1SA",
        "outputId": "16bf192b-96c4-4972-9961-17cc59c4d209"
      },
      "outputs": [
        {
          "name": "stdout",
          "output_type": "stream",
          "text": [
            "[[30, 56, 25], [10, 20], [33], [40]]\n"
          ]
        }
      ],
      "source": [
        "dt=[[10, 20], [40], [30, 56, 25], [10, 20], [33], [40]]\n",
        "for i in dt:\n",
        "  if dt.count(i)>1:\n",
        "    dt.remove(i)\n",
        "print(dt)"
      ]
    },
    {
      "cell_type": "code",
      "execution_count": null,
      "metadata": {
        "colab": {
          "base_uri": "https://localhost:8080/"
        },
        "id": "HFIUfxjWrgEU",
        "outputId": "cdcc9e3b-f5b7-409d-b805-7af36eb4f3c4"
      },
      "outputs": [
        {
          "name": "stdout",
          "output_type": "stream",
          "text": [
            "[0, 1, 2, 3, 4, 5, 6, 7, 8, 9]\n"
          ]
        }
      ],
      "source": [
        "x=[0, 0, 1, 2, 3, 4, 4, 5, 6, 6, 6, 7, 8, 9, 4, 4]\n",
        "res=[]\n",
        "for i in x:\n",
        "  if i not in res:\n",
        "    res.append(i)\n",
        "print(res)"
      ]
    },
    {
      "cell_type": "code",
      "execution_count": null,
      "metadata": {
        "colab": {
          "base_uri": "https://localhost:8080/"
        },
        "id": "LzNB-iPcr9HY",
        "outputId": "6e385127-3635-4ae6-d3e9-576fd3163e46"
      },
      "outputs": [
        {
          "name": "stdout",
          "output_type": "stream",
          "text": [
            "{1: 3, 2: 1, 3: 1, 4: 1, 4.3: 1, 5: 1}\n"
          ]
        }
      ],
      "source": [
        "dt=[1, 1, 2, 3, 4, 4.3, 5, 1]\n",
        "x={}\n",
        "for i in dt:\n",
        "  if i in x:\n",
        "    x[i]+=1\n",
        "  else:\n",
        "    x[i]=1\n",
        "print(x)"
      ]
    },
    {
      "cell_type": "markdown",
      "metadata": {
        "id": "94PzLtnhvzJ6"
      },
      "source": [
        "#Write a Python program to remove duplicates from a list\n"
      ]
    },
    {
      "cell_type": "code",
      "execution_count": null,
      "metadata": {
        "colab": {
          "base_uri": "https://localhost:8080/"
        },
        "id": "BREN69qHuFq4",
        "outputId": "20d5c607-b2d4-41be-a47d-41aa04280d20"
      },
      "outputs": [
        {
          "name": "stdout",
          "output_type": "stream",
          "text": [
            "{1, 2, 3, 4, 5, 6, 7, 8}\n"
          ]
        }
      ],
      "source": [
        "a = [1,2,3,7,2,1,5,6,4,8,5,4]\n",
        "\n",
        "dup = set()\n",
        "uniq = []\n",
        "for x in a:\n",
        "    if x not in dup:\n",
        "        uniq.append(x)\n",
        "        dup.add(x)\n",
        "print(dup)"
      ]
    },
    {
      "cell_type": "code",
      "execution_count": null,
      "metadata": {
        "colab": {
          "base_uri": "https://localhost:8080/"
        },
        "id": "d2OKioY7vpAU",
        "outputId": "034e1de0-67e7-4339-a4c9-18366e4e4dc6"
      },
      "outputs": [
        {
          "name": "stdout",
          "output_type": "stream",
          "text": [
            "[3, 7, 2, 1, 6, 8, 5, 4]\n"
          ]
        }
      ],
      "source": [
        "a = [1,2,3,7,2,1,5,6,4,8,5,4]\n",
        "\n",
        "for i in a:\n",
        "  if a.count(i)>1:\n",
        "    a.remove(i)\n",
        "print(a)"
      ]
    },
    {
      "cell_type": "markdown",
      "metadata": {
        "id": "PPNMIki5w7vQ"
      },
      "source": [
        "##Write a Program that get two lists as input and check if they have at least one common member"
      ]
    },
    {
      "cell_type": "code",
      "execution_count": null,
      "metadata": {
        "colab": {
          "base_uri": "https://localhost:8080/"
        },
        "id": "2YxogN-0wGYa",
        "outputId": "0c799aa9-aeb2-49c2-86c9-8eee84f7eee3"
      },
      "outputs": [
        {
          "name": "stdout",
          "output_type": "stream",
          "text": [
            "[5]\n"
          ]
        }
      ],
      "source": [
        "a=[1,2,3,4,5]\n",
        "b=[5,6,7,8,9]\n",
        "res=[]\n",
        "for i in a:\n",
        "  if i in b:\n",
        "    res.append(i)\n",
        "print(res)\n",
        "\n"
      ]
    },
    {
      "cell_type": "markdown",
      "metadata": {
        "id": "heTIfqATaEmK"
      },
      "source": [
        "#Write a Python program to Zip two given lists of lists."
      ]
    },
    {
      "cell_type": "code",
      "execution_count": null,
      "metadata": {
        "colab": {
          "base_uri": "https://localhost:8080/"
        },
        "id": "sSvIAj7Bwz7C",
        "outputId": "c8b9de0b-638b-4577-cc87-1a895732991e"
      },
      "outputs": [
        {
          "name": "stdout",
          "output_type": "stream",
          "text": [
            "[[1, 3, 2, 4], [5, 7, 6, 8], [9, 11, 10, 12, 14]]\n"
          ]
        }
      ],
      "source": [
        "x=[[1, 3], [5, 7], [9, 11]]\n",
        "y=[[2, 4], [6, 8], [10, 12, 14]]\n",
        "res=[]\n",
        "for i in range(len(x)):\n",
        "  # print(x[i])\n",
        "  tem=x[i]+y[i]\n",
        "  res.append(tem)\n",
        "print(res)"
      ]
    },
    {
      "cell_type": "code",
      "execution_count": null,
      "metadata": {
        "colab": {
          "base_uri": "https://localhost:8080/"
        },
        "id": "2JJOY4j7xKUB",
        "outputId": "73953d5d-4722-49ac-b083-b50c84137a70"
      },
      "outputs": [
        {
          "name": "stdout",
          "output_type": "stream",
          "text": [
            "[[0], [0, 7], [1, 3], [2], [9, 11], [13, 15, 17]]\n"
          ]
        }
      ],
      "source": [
        "dt=[[2], [0], [1, 3], [0, 7], [9, 11], [13, 15, 17]]\n",
        "for i in range(len(dt)):\n",
        "  for j in range(len(dt)):\n",
        "    # print(dt[i])\n",
        "    if dt[i]<dt[j]:\n",
        "      dt[i],dt[j]=dt[j],dt[i]\n",
        "print(dt)"
      ]
    },
    {
      "cell_type": "markdown",
      "metadata": {
        "id": "wQijY8QjjczV"
      },
      "source": [
        "#18/11/2023 saturday"
      ]
    },
    {
      "cell_type": "code",
      "execution_count": null,
      "metadata": {
        "colab": {
          "base_uri": "https://localhost:8080/"
        },
        "id": "npy9KcTIy2AL",
        "outputId": "d29ef86a-1377-4b36-a00b-f9686a239449"
      },
      "outputs": [
        {
          "name": "stdout",
          "output_type": "stream",
          "text": [
            "need TO daily PRACTICE on CODING\n"
          ]
        }
      ],
      "source": [
        "st='need to daily practice on coding'\n",
        "st1=st.split()\n",
        "# print(st1)\n",
        "for i in range(len(st1)):\n",
        "  if i%2!=0:\n",
        "    st1[i]=st1[i].upper()\n",
        "print(' '.join(st1))"
      ]
    },
    {
      "cell_type": "markdown",
      "metadata": {
        "id": "3Iut1ybw6v_K"
      },
      "source": [
        "#Write a Python program to count the number of lists in a given list of lists.\n"
      ]
    },
    {
      "cell_type": "code",
      "execution_count": null,
      "metadata": {
        "colab": {
          "base_uri": "https://localhost:8080/"
        },
        "id": "QM04Yr_rjyTz",
        "outputId": "18b4f7c7-9bcc-444c-b071-d32c783cdf35"
      },
      "outputs": [
        {
          "name": "stdout",
          "output_type": "stream",
          "text": [
            "4\n"
          ]
        }
      ],
      "source": [
        "\n",
        "x=[[1, 3], [5, 7], [9, 11], [13, 15, 17]]\n",
        "y=[i for i in x]\n",
        "print(len(y))"
      ]
    },
    {
      "cell_type": "code",
      "execution_count": null,
      "metadata": {
        "colab": {
          "base_uri": "https://localhost:8080/"
        },
        "id": "S3R-iZLb64zJ",
        "outputId": "84197561-c2e1-4d77-f764-2125c3836af6"
      },
      "outputs": [
        {
          "name": "stdout",
          "output_type": "stream",
          "text": [
            "4\n"
          ]
        }
      ],
      "source": [
        "x=[[1, 3], [5, 7], [9, 11], [13, 15, 17]]\n",
        "y=list(filter(lambda i: i, x))\n",
        "print(len(y))"
      ]
    },
    {
      "cell_type": "markdown",
      "metadata": {
        "id": "tCKfCNTU91QQ"
      },
      "source": [
        "#count total number in a list"
      ]
    },
    {
      "cell_type": "code",
      "execution_count": null,
      "metadata": {
        "colab": {
          "base_uri": "https://localhost:8080/"
        },
        "id": "TbxjTE_g7b1k",
        "outputId": "4f5bb26c-cb0a-4ed2-e4c3-778d12947b8c"
      },
      "outputs": [
        {
          "name": "stdout",
          "output_type": "stream",
          "text": [
            "5\n"
          ]
        }
      ],
      "source": [
        "lst=[1,2,3,4,5]\n",
        "print(len(lst))"
      ]
    },
    {
      "cell_type": "code",
      "execution_count": null,
      "metadata": {
        "colab": {
          "base_uri": "https://localhost:8080/"
        },
        "id": "q8IdALmU7n2p",
        "outputId": "7f49a1ad-b36d-4d58-ea05-17906d1f367c"
      },
      "outputs": [
        {
          "name": "stdout",
          "output_type": "stream",
          "text": [
            "5\n"
          ]
        }
      ],
      "source": [
        "lst=[1,2,3,4,5]\n",
        "count=0\n",
        "for i in lst:\n",
        "  count=count+1\n",
        "print(count)"
      ]
    },
    {
      "cell_type": "code",
      "execution_count": null,
      "metadata": {
        "colab": {
          "base_uri": "https://localhost:8080/"
        },
        "id": "Sw-670SY9JDx",
        "outputId": "55862197-2e42-41a6-cbf9-075a408e3cd3"
      },
      "outputs": [
        {
          "name": "stdout",
          "output_type": "stream",
          "text": [
            "15\n"
          ]
        }
      ],
      "source": [
        "lst=[1,2,3,4,5]\n",
        "count=0\n",
        "for i in lst:\n",
        "  count=count+i\n",
        "print(count)"
      ]
    },
    {
      "cell_type": "code",
      "execution_count": null,
      "metadata": {
        "colab": {
          "base_uri": "https://localhost:8080/"
        },
        "id": "nkZ9lJM2-5Ty",
        "outputId": "fd7fd0a2-2a7e-4e65-a1ba-51ee244dcc92"
      },
      "outputs": [
        {
          "name": "stdout",
          "output_type": "stream",
          "text": [
            "{(1, 3): 2, (5, 7): 2, (13, 15, 17): 1, (9, 11): 1}\n"
          ]
        }
      ],
      "source": [
        "x=[[1, 3], [5, 7], [1, 3], [13, 15, 17], [5, 7], [9, 11]]\n",
        "dic={}\n",
        "for i in x:\n",
        "  tup=tuple(i)\n",
        "  if tup in dic:\n",
        "    dic[tup]+=1\n",
        "  else:\n",
        "    dic[tup]=1\n",
        "print(dic)"
      ]
    },
    {
      "cell_type": "code",
      "execution_count": null,
      "metadata": {
        "colab": {
          "base_uri": "https://localhost:8080/"
        },
        "id": "IsnBwZWlCnNK",
        "outputId": "35e755b1-cbe4-4b74-ec16-b09bb88a1006"
      },
      "outputs": [
        {
          "name": "stdout",
          "output_type": "stream",
          "text": [
            "{('green', 'orange'): 2, ('black',): 1, ('white',): 1}\n"
          ]
        }
      ],
      "source": [
        "x=[['green', 'orange'], ['black'], ['green', 'orange'], ['white']]\n",
        "dic={}\n",
        "for i in x:\n",
        "  tup=tuple(i)\n",
        "  if tup in dic:\n",
        "    dic[tup]+=1\n",
        "  else:\n",
        "    dic[tup]=1\n",
        "print(dic)\n"
      ]
    },
    {
      "cell_type": "markdown",
      "metadata": {
        "id": "ruKk4xoaFN9m"
      },
      "source": [
        "#20/11/2023 Monday"
      ]
    },
    {
      "cell_type": "code",
      "execution_count": null,
      "metadata": {
        "colab": {
          "base_uri": "https://localhost:8080/"
        },
        "id": "4dKNdl0LM00N",
        "outputId": "2038b3b7-989e-4750-b12d-42c8740edfc5"
      },
      "outputs": [
        {
          "name": "stdout",
          "output_type": "stream",
          "text": [
            "{'key1'} {10}\n",
            "{'key3'} {30}\n",
            "{'key5'} {50}\n"
          ]
        }
      ],
      "source": [
        "dt= {'key1': 10,'key2': None,'key3': 30,'key4': None,'key5': 50}\n",
        "\n",
        "for k,v  in dt.items():\n",
        "    if v is not None:\n",
        "        print({k},{v})"
      ]
    },
    {
      "cell_type": "markdown",
      "metadata": {
        "id": "3TGunez0fy90"
      },
      "source": [
        "## Write a Python program to convert a given string into a list of words.\n"
      ]
    },
    {
      "cell_type": "code",
      "execution_count": null,
      "metadata": {
        "colab": {
          "base_uri": "https://localhost:8080/"
        },
        "id": "uH-CCXLkWvFv",
        "outputId": "9290325d-669f-4dea-998e-6d81dc2bd606"
      },
      "outputs": [
        {
          "name": "stdout",
          "output_type": "stream",
          "text": [
            "['The', 'quick', 'brown', 'fox', 'jumps', 'over', 'the', 'lazy', 'dog.']\n"
          ]
        }
      ],
      "source": [
        "str1 = \"The quick brown fox jumps over the lazy dog.\"\n",
        "res=str1.split()\n",
        "print(res)"
      ]
    },
    {
      "cell_type": "code",
      "execution_count": null,
      "metadata": {
        "colab": {
          "base_uri": "https://localhost:8080/"
        },
        "id": "hbtd0-5Ofkwa",
        "outputId": "2df48352-1952-4d8d-e9a5-704ac9b741e5"
      },
      "outputs": [
        {
          "name": "stdout",
          "output_type": "stream",
          "text": [
            "w3reSOURCE.COM\n"
          ]
        }
      ],
      "source": [
        "str1 = 'W3RESOURCE.COM'\n",
        "print(str1[:4].lower() + str1[4:])\n"
      ]
    },
    {
      "cell_type": "markdown",
      "metadata": {
        "id": "dXKV6jk9i6zz"
      },
      "source": [
        "##Write a Python program to move spaces to the front of a given string."
      ]
    },
    {
      "cell_type": "code",
      "execution_count": null,
      "metadata": {
        "colab": {
          "base_uri": "https://localhost:8080/"
        },
        "id": "yk03WKl5g7GW",
        "outputId": "093f7ab9-2da7-4f5d-d6a1-bb5621a33019"
      },
      "outputs": [
        {
          "name": "stdout",
          "output_type": "stream",
          "text": [
            "w3resource\n"
          ]
        }
      ],
      "source": [
        "st=\"w 3 res ou r ce\"\n",
        "st1=''\n",
        "for i in st:\n",
        "  if i !=' ':\n",
        "    st1+=i\n",
        "print(st1)"
      ]
    },
    {
      "cell_type": "markdown",
      "metadata": {
        "id": "Fq-RZG6qB4VM"
      },
      "source": [
        "##write a python programe to capitalized every first charachter in string"
      ]
    },
    {
      "cell_type": "code",
      "execution_count": null,
      "metadata": {
        "colab": {
          "base_uri": "https://localhost:8080/"
        },
        "id": "5fF2V2XL3sv1",
        "outputId": "ab915d9c-471c-4759-852a-dc68f10c7493"
      },
      "outputs": [
        {
          "name": "stdout",
          "output_type": "stream",
          "text": [
            "Hello World, How Are You\n"
          ]
        }
      ],
      "source": [
        "st= \"hello world, how are you\"\n",
        "# convert each first word in capital letter\n",
        "s=st.title()\n",
        "\n",
        "print(s)"
      ]
    },
    {
      "cell_type": "code",
      "execution_count": null,
      "metadata": {
        "colab": {
          "base_uri": "https://localhost:8080/"
        },
        "id": "TqcEwe0nBzQU",
        "outputId": "db90a699-a115-44ab-9b85-a51c28e0d2e6"
      },
      "outputs": [
        {
          "name": "stdout",
          "output_type": "stream",
          "text": [
            "Hello World, How Are You\n"
          ]
        }
      ],
      "source": [
        "st= \"hello world, how are you\"\n",
        "st1=st.split()\n",
        "em=[]\n",
        "# print(st1)\n",
        "for i in st1:\n",
        "  res=i[0].upper()+i[1:]\n",
        "  em.append(res)\n",
        "\n",
        "print(' '.join(em))\n",
        "\n"
      ]
    },
    {
      "cell_type": "code",
      "execution_count": null,
      "metadata": {
        "id": "ne6qW5vc4A7V"
      },
      "outputs": [],
      "source": []
    },
    {
      "cell_type": "markdown",
      "metadata": {
        "id": "CLaReK1lLYX9"
      },
      "source": [
        "#22/11/23"
      ]
    },
    {
      "cell_type": "markdown",
      "metadata": {
        "id": "hJoBrERnNvQ7"
      },
      "source": [
        "##1st:Write a Python program to check if a dictionary is empty or not.\n",
        "\n",
        "\n"
      ]
    },
    {
      "cell_type": "code",
      "execution_count": null,
      "metadata": {
        "colab": {
          "base_uri": "https://localhost:8080/"
        },
        "id": "k7h-DP0jLbf0",
        "outputId": "3347b2ff-b0c4-49ff-cbb4-90b7e2be128a"
      },
      "outputs": [
        {
          "name": "stdout",
          "output_type": "stream",
          "text": [
            "is dictinary empty?: True\n"
          ]
        }
      ],
      "source": [
        "dt= {}\n",
        "res=len(dt)==0\n",
        "print('is dictinary empty?:',res)\n"
      ]
    },
    {
      "cell_type": "code",
      "execution_count": null,
      "metadata": {
        "colab": {
          "base_uri": "https://localhost:8080/"
        },
        "id": "5lrx3Dm5N_B9",
        "outputId": "d72d612c-82b0-478d-9fc0-50c50602f56d"
      },
      "outputs": [
        {
          "name": "stdout",
          "output_type": "stream",
          "text": [
            "empty dictionary True\n"
          ]
        }
      ],
      "source": [
        "dt= {}\n",
        "dt1={}\n",
        "res=len(dt)==len(dt1)\n",
        "print('empty dictionary',res)"
      ]
    },
    {
      "cell_type": "code",
      "execution_count": null,
      "metadata": {
        "colab": {
          "base_uri": "https://localhost:8080/"
        },
        "id": "xQbRPc6TM1hc",
        "outputId": "14f8478d-7ab0-4d43-f6fa-3ba37aa1e6f5"
      },
      "outputs": [
        {
          "name": "stdout",
          "output_type": "stream",
          "text": [
            "is dictinary empty?: False\n"
          ]
        }
      ],
      "source": [
        "dt= {1:2,2:3}\n",
        "res=len(dt)==0\n",
        "print('is dictinary empty?:',res)\n"
      ]
    },
    {
      "cell_type": "code",
      "execution_count": null,
      "metadata": {
        "colab": {
          "base_uri": "https://localhost:8080/"
        },
        "id": "rRMoqIwCNycL",
        "outputId": "fc3e7b9e-52df-4872-9f55-2ce39085fbdd"
      },
      "outputs": [
        {
          "name": "stdout",
          "output_type": "stream",
          "text": [
            "empty dictionary False\n"
          ]
        }
      ],
      "source": [
        "dt= {1:2,2:3}\n",
        "dt1={}\n",
        "res=len(dt)==len(dt1)\n",
        "print('empty dictionary',res)"
      ]
    },
    {
      "cell_type": "code",
      "execution_count": null,
      "metadata": {
        "colab": {
          "base_uri": "https://localhost:8080/"
        },
        "id": "UIchSdyoO2aC",
        "outputId": "5be743ce-3221-4614-b929-02f302970e2d"
      },
      "outputs": [
        {
          "name": "stdout",
          "output_type": "stream",
          "text": [
            "empty\n"
          ]
        }
      ],
      "source": [
        "dic={}\n",
        "if not (dic):\n",
        "  print('empty')\n",
        "else:\n",
        "  print('not empty')\n"
      ]
    },
    {
      "cell_type": "markdown",
      "metadata": {
        "id": "VdAzkzF6SSSc"
      },
      "source": [
        "##2nd:Write a Python program to print all distinct values in a dictionary."
      ]
    },
    {
      "cell_type": "code",
      "execution_count": null,
      "metadata": {
        "colab": {
          "base_uri": "https://localhost:8080/"
        },
        "id": "aMgll3K3OPfJ",
        "outputId": "5b88d16b-e67a-4f9e-8e8a-1eb5121b74e7"
      },
      "outputs": [
        {
          "name": "stdout",
          "output_type": "stream",
          "text": [
            "['S001', 'S007', 'S005', 'S002', 'S009']\n"
          ]
        }
      ],
      "source": [
        "data=[{\"V\":\"S001\"}, {\"V\": \"S002\"}, {\"VI\": \"S001\"}, {\"VI\": \"S005\"}, {\"VII\":\"S005\"}, {\"V\":\"S009\"},{\"VIII\":\"S007\"}]\n",
        "res=list(set(v for i in data for v in i.values()))\n",
        "print(res)"
      ]
    },
    {
      "cell_type": "code",
      "execution_count": null,
      "metadata": {
        "colab": {
          "base_uri": "https://localhost:8080/"
        },
        "id": "5azQYykgPaY0",
        "outputId": "a3fb76af-befd-48a1-91c7-6faa251af586"
      },
      "outputs": [
        {
          "name": "stdout",
          "output_type": "stream",
          "text": [
            "['S001', 'S007', 'S005', 'S002', 'S009']\n"
          ]
        }
      ],
      "source": [
        "data=[{\"V\":\"S001\"}, {\"V\": \"S002\"}, {\"VI\": \"S001\"}, {\"VI\": \"S005\"}, {\"VII\":\"S005\"}, {\"V\":\"S009\"},{\"VIII\":\"S007\"}]\n",
        "res=[]\n",
        "for i in data:\n",
        "  # print(i.values())\n",
        "  res.extend(list(i.values()))\n",
        "print(list(set(res)))"
      ]
    },
    {
      "cell_type": "markdown",
      "metadata": {
        "id": "iCRRR3OwYa1n"
      },
      "source": [
        "##3rd:two list convert into dictionary"
      ]
    },
    {
      "cell_type": "code",
      "execution_count": null,
      "metadata": {
        "colab": {
          "base_uri": "https://localhost:8080/"
        },
        "id": "Zd7MGbnNROyz",
        "outputId": "3d1a88be-d63a-4944-94b3-259bd6feaefd"
      },
      "outputs": [
        {
          "name": "stdout",
          "output_type": "stream",
          "text": [
            "{'Rash': 1, 'Kil': 4, 'Varsha': 5}\n"
          ]
        }
      ],
      "source": [
        "k= [\"Rash\", \"Kil\", \"Varsha\"]\n",
        "v= [1, 4, 5]\n",
        "res={}\n",
        "for key in k:\n",
        "  for value in v:\n",
        "    res[key]=value\n",
        "    v.remove(value)\n",
        "    break\n",
        "print(res)\n"
      ]
    },
    {
      "cell_type": "code",
      "execution_count": null,
      "metadata": {
        "colab": {
          "base_uri": "https://localhost:8080/"
        },
        "id": "6dwL0AQoRbWe",
        "outputId": "850887f7-a519-42d8-b395-ff1717b775c0"
      },
      "outputs": [
        {
          "name": "stdout",
          "output_type": "stream",
          "text": [
            "{'Rash': 1, 'Kil': 4, 'Varsha': 5}\n"
          ]
        }
      ],
      "source": [
        "k= [\"Rash\", \"Kil\", \"Varsha\"]\n",
        "v= [1, 4, 5]\n",
        "res=dict(map(lambda i,j: (i,j), k,v))\n",
        "print(res)"
      ]
    },
    {
      "cell_type": "code",
      "execution_count": null,
      "metadata": {
        "colab": {
          "base_uri": "https://localhost:8080/"
        },
        "id": "vb-sd0ZfYDyG",
        "outputId": "f02b38b4-c942-42d6-b0b5-45dc0d185db0"
      },
      "outputs": [
        {
          "name": "stdout",
          "output_type": "stream",
          "text": [
            "{'Rash': 1, 'Kil': 4, 'Varsha': 5}\n"
          ]
        }
      ],
      "source": [
        "k= [\"Rash\", \"Kil\", \"Varsha\"]\n",
        "v= [1, 4, 5]\n",
        "res=dict(zip(k,v))\n",
        "print(res)"
      ]
    },
    {
      "cell_type": "markdown",
      "metadata": {
        "id": "dEmneb2SeEyL"
      },
      "source": [
        "##4th:Write a Python program to drop empty items from a given dictionary."
      ]
    },
    {
      "cell_type": "code",
      "execution_count": null,
      "metadata": {
        "colab": {
          "base_uri": "https://localhost:8080/"
        },
        "id": "cEzG-nsaYruI",
        "outputId": "c57e03e3-052b-4f7e-f116-9e5c287395ae"
      },
      "outputs": [
        {
          "name": "stdout",
          "output_type": "stream",
          "text": [
            "{'c1': 'Red', 'c2': 'Green'}\n"
          ]
        }
      ],
      "source": [
        "dt={'c1': 'Red', 'c2': 'Green','c3': None}\n",
        "res= {key:value for (key, value) in dt.items() if value is not None}\n",
        "print(res)"
      ]
    },
    {
      "cell_type": "code",
      "execution_count": null,
      "metadata": {
        "colab": {
          "base_uri": "https://localhost:8080/"
        },
        "id": "GZZvn30ZetPh",
        "outputId": "a8661dba-f76e-419c-d365-1d38fd221e3a"
      },
      "outputs": [
        {
          "name": "stdout",
          "output_type": "stream",
          "text": [
            "Red\n",
            "Green\n",
            "None\n",
            "{'c1': 'Red', 'c2': 'Green', 'c3': None}\n"
          ]
        }
      ],
      "source": [
        "dt={'c1': 'Red', 'c2': 'Green','c3': None}\n",
        "for k,v in dt.items():\n",
        "  print(v)\n",
        "\n",
        "print(dt)"
      ]
    },
    {
      "cell_type": "code",
      "execution_count": null,
      "metadata": {
        "colab": {
          "base_uri": "https://localhost:8080/"
        },
        "id": "lds4Uaa_fvwt",
        "outputId": "4422dd96-70c9-4c55-fde5-c0845cb8cd80"
      },
      "outputs": [
        {
          "name": "stdout",
          "output_type": "stream",
          "text": [
            "{'c3': None}\n"
          ]
        }
      ],
      "source": [
        "dt={'c1': 'Red', 'c2': 'Green','c3': None}\n",
        "res= {key:value for (key, value) in dt.items() if value is  None}\n",
        "print(res)"
      ]
    },
    {
      "cell_type": "markdown",
      "metadata": {
        "id": "1w271HzbwHzx"
      },
      "source": [
        "#5th:reversed list"
      ]
    },
    {
      "cell_type": "code",
      "execution_count": null,
      "metadata": {
        "colab": {
          "base_uri": "https://localhost:8080/"
        },
        "id": "kV2O_lecg4zJ",
        "outputId": "16ffd00f-a5ff-45f0-bcf2-8c01a1e04f77"
      },
      "outputs": [
        {
          "name": "stdout",
          "output_type": "stream",
          "text": [
            "[4, 3, 2, 1]\n"
          ]
        }
      ],
      "source": [
        "x=[1,2,3,4]\n",
        "res=reversed(x)\n",
        "print(list(res))"
      ]
    },
    {
      "cell_type": "code",
      "execution_count": null,
      "metadata": {
        "colab": {
          "base_uri": "https://localhost:8080/"
        },
        "id": "elyN5jOAt1eP",
        "outputId": "e401f9c7-e46c-4ab0-dcc3-bf29ce895e21"
      },
      "outputs": [
        {
          "name": "stdout",
          "output_type": "stream",
          "text": [
            "[4, 3, 2, 1]\n"
          ]
        }
      ],
      "source": [
        "x=[1,2,3,4]\n",
        "res=x[::-1]\n",
        "print(res)"
      ]
    },
    {
      "cell_type": "code",
      "execution_count": null,
      "metadata": {
        "colab": {
          "base_uri": "https://localhost:8080/"
        },
        "id": "WSYJ6s3iuHeT",
        "outputId": "756d80e5-6222-4797-cc39-3a951373be44"
      },
      "outputs": [
        {
          "name": "stdout",
          "output_type": "stream",
          "text": [
            "[5, 4, 3, 2, 1]\n"
          ]
        }
      ],
      "source": [
        "x=[1,2,3,4,5]\n",
        "y=[]\n",
        "for i in x:\n",
        "  # print(i)\n",
        "  y.insert(0,i)\n",
        "print(y)"
      ]
    },
    {
      "cell_type": "markdown",
      "metadata": {
        "id": "DMgpAots03vX"
      },
      "source": [
        "#23/11/2023"
      ]
    },
    {
      "cell_type": "markdown",
      "metadata": {
        "id": "tLRmvase09Sd"
      },
      "source": [
        "#1st: question\n",
        "## count each element in string"
      ]
    },
    {
      "cell_type": "code",
      "execution_count": null,
      "metadata": {
        "colab": {
          "base_uri": "https://localhost:8080/"
        },
        "id": "lTK2zpGuvQg4",
        "outputId": "4f6588e2-9e23-4e39-d932-e572d6b9bf7d"
      },
      "outputs": [
        {
          "name": "stdout",
          "output_type": "stream",
          "text": [
            "['shweta', 'shweta', 'ab', 'cd', 'shweta']\n",
            "{'shweta': 3, 'ab': 1, 'cd': 1}\n"
          ]
        }
      ],
      "source": [
        "x=\"shweta shweta ab cd shweta\"\n",
        "a=x.split()\n",
        "print(a)\n",
        "y={}\n",
        "for i in a:\n",
        "  if i in y:\n",
        "    y[i]+=1\n",
        "  else:\n",
        "    y[i]=1\n",
        "print(y)\n",
        "# print(' '.join(y))\n"
      ]
    },
    {
      "cell_type": "markdown",
      "metadata": {
        "id": "cV03NJWX1BZ4"
      },
      "source": [
        "#2nd: question\n",
        "## Reversed string"
      ]
    },
    {
      "cell_type": "code",
      "execution_count": null,
      "metadata": {
        "colab": {
          "base_uri": "https://localhost:8080/"
        },
        "id": "cZA1L4aj0QQ-",
        "outputId": "cf9c73be-a9a6-4953-ca7a-71438e30c568"
      },
      "outputs": [
        {
          "name": "stdout",
          "output_type": "stream",
          "text": [
            "ExercisesPython\n"
          ]
        }
      ],
      "source": [
        "st=\"Python Exercises\"\n",
        "st1=st.split()\n",
        "\n",
        "st1=st1[::-1]\n",
        "# print(st1)\n",
        "print(''.join(st1))"
      ]
    },
    {
      "cell_type": "code",
      "execution_count": null,
      "metadata": {
        "colab": {
          "base_uri": "https://localhost:8080/"
        },
        "id": "pWUiLS7P4vNt",
        "outputId": "d23ed5eb-07ca-4619-c7e5-7598c03e98ed"
      },
      "outputs": [
        {
          "name": "stdout",
          "output_type": "stream",
          "text": [
            "ExercisesPython\n"
          ]
        }
      ],
      "source": [
        "st=\"Python Exercises\"\n",
        "str=st.split()\n",
        "# print(str)\n",
        "str1=\"\"\n",
        "for i in str:\n",
        "  str1=i+str1\n",
        "print(str1)\n",
        "# print(''.join(str1))\n"
      ]
    },
    {
      "cell_type": "markdown",
      "metadata": {
        "id": "P2RLN7xV1HNI"
      },
      "source": [
        "#3rd: question\n",
        "##  repeated character in string"
      ]
    },
    {
      "cell_type": "code",
      "execution_count": null,
      "metadata": {
        "colab": {
          "base_uri": "https://localhost:8080/"
        },
        "id": "LpKMzpGm1LnU",
        "outputId": "5f4840bd-381a-4669-f0ae-eb21b3c782ff"
      },
      "outputs": [
        {
          "name": "stdout",
          "output_type": "stream",
          "text": [
            "['t', 'h', 'e', 'u', 'r', 'o']\n"
          ]
        }
      ],
      "source": [
        "str1 = 'thequickbrownfoxjumpsoverthelazydog'\n",
        "str2=[]\n",
        "for i in str1:\n",
        "  if str1.count(i)>1:\n",
        "    if i not in str2:\n",
        "      str2.append(i)\n",
        "print(str2)"
      ]
    },
    {
      "cell_type": "markdown",
      "metadata": {
        "id": "ts9FbblS7zBk"
      },
      "source": [
        "#4th: question\n",
        "##Write a Python program to count repeated characters in a string.\n",
        "\n"
      ]
    },
    {
      "cell_type": "code",
      "execution_count": null,
      "metadata": {
        "colab": {
          "base_uri": "https://localhost:8080/"
        },
        "id": "7TBaTZ6N6-ec",
        "outputId": "67dcca28-7d55-4e7b-d889-09fabe8d14ee"
      },
      "outputs": [
        {
          "name": "stdout",
          "output_type": "stream",
          "text": [
            "t 2\n",
            "h 2\n",
            "e 3\n",
            "u 2\n",
            "r 2\n",
            "o 4\n"
          ]
        }
      ],
      "source": [
        "str1 = 'thequickbrownfoxjumpsoverthelazydog'\n",
        "str3={}\n",
        "str2=[]\n",
        "for i in str1:\n",
        "  if i in str3:\n",
        "    str3[i]+=1\n",
        "  else:\n",
        "    str3[i]=1\n",
        "# print(str3)\n",
        "for k,v in str3.items():\n",
        "  if v>1:\n",
        "    print(k,v)"
      ]
    },
    {
      "cell_type": "markdown",
      "metadata": {
        "id": "WfwuP_7vBenY"
      },
      "source": [
        "#5th question\n",
        "## Write a Python program to find the first repeated word in a given string."
      ]
    },
    {
      "cell_type": "code",
      "execution_count": null,
      "metadata": {
        "colab": {
          "base_uri": "https://localhost:8080/"
        },
        "id": "2B5WXmH087KL",
        "outputId": "da9fa93b-7068-4028-9f1e-bb2d9e5e4417"
      },
      "outputs": [
        {
          "name": "stdout",
          "output_type": "stream",
          "text": [
            "{'P': 1, 'y': 1, 't': 1, 'h': 1, 'o': 1, 'n': 1, ' ': 1, 'E': 1, 'x': 1, 'e': 2, 'r': 1, 'c': 1, 'i': 1, 's': 4}\n",
            "s 4\n"
          ]
        }
      ],
      "source": [
        "st=\"Python Exercissses\"\n",
        "st1={}\n",
        "for i in st:\n",
        "  if i in st1:\n",
        "    st1[i]+=1\n",
        "  else:\n",
        "    st1[i]=1\n",
        "print(st1)\n",
        "\n",
        "l = st1.values()\n",
        "mx = max(l)\n",
        "\n",
        "for k, v in st1.items():\n",
        "  if v == mx:\n",
        "    print(k, v)"
      ]
    },
    {
      "cell_type": "markdown",
      "metadata": {
        "id": "RrhJSR76i-rq"
      },
      "source": [
        "#24/11/2023"
      ]
    },
    {
      "cell_type": "markdown",
      "metadata": {
        "id": "2rcZsMEQEls_"
      },
      "source": [
        "##1st: Write a Python script to concatenate the following dictionaries to create a new one.\n",
        "\n"
      ]
    },
    {
      "cell_type": "code",
      "execution_count": null,
      "metadata": {
        "colab": {
          "base_uri": "https://localhost:8080/"
        },
        "id": "8jzyDGpq-k53",
        "outputId": "b6efabf0-fe62-4dd3-b4c2-a1f7ef7034bd"
      },
      "outputs": [
        {
          "name": "stdout",
          "output_type": "stream",
          "text": [
            "{1: 10, 2: 20, 3: 30, 4: 40, 5: 50, 6: 60}\n"
          ]
        }
      ],
      "source": [
        "dic1 = {1: 10, 2: 20}\n",
        "dic2 = {3: 30, 4: 40}\n",
        "dic3 = {5: 50, 6: 60}\n",
        "dic4={}\n",
        "for d in (dic1,dic2,dic3):\n",
        "  dic4.update(d)\n",
        "print(dic4)\n"
      ]
    },
    {
      "cell_type": "code",
      "execution_count": null,
      "metadata": {
        "colab": {
          "base_uri": "https://localhost:8080/"
        },
        "id": "K9pToZYsEiMh",
        "outputId": "d4415ac4-bbb0-42b1-c796-c12c43cae2c8"
      },
      "outputs": [
        {
          "name": "stdout",
          "output_type": "stream",
          "text": [
            "{1: 10, 2: 20, 3: 30, 4: 40, 5: 50, 6: 60}\n"
          ]
        }
      ],
      "source": [
        "dic1 = {1: 10, 2: 20}\n",
        "dic2 = {3: 30, 4: 40}\n",
        "dic3 = {5: 50, 6: 60}\n",
        "dic4={}\n",
        "for i in (dic1,dic2,dic3):\n",
        "  dic4={** dic4,**i}\n",
        "print(dic4)"
      ]
    },
    {
      "cell_type": "markdown",
      "metadata": {
        "id": "SeGXq496Hjtb"
      },
      "source": [
        "##2nd: Write a Python script to check whether a given key already exists in a dictionary.\n",
        "\n"
      ]
    },
    {
      "cell_type": "code",
      "execution_count": null,
      "metadata": {
        "colab": {
          "base_uri": "https://localhost:8080/"
        },
        "id": "5rUY9YeQFyxz",
        "outputId": "c0d09e85-c598-4754-aded-4303f9347e34"
      },
      "outputs": [
        {
          "name": "stdout",
          "output_type": "stream",
          "text": [
            "key present in dictionary\n"
          ]
        }
      ],
      "source": [
        "d = {1: 10, 2: 20, 3: 30, 4: 40, 5: 50, 6: 60}\n",
        "\n",
        "if 3 in d:\n",
        "  print('key present in dictionary')\n",
        "else:\n",
        "  print('key not present in dictionary')"
      ]
    },
    {
      "cell_type": "code",
      "execution_count": null,
      "metadata": {
        "colab": {
          "base_uri": "https://localhost:8080/"
        },
        "id": "S74Rrx30GWK0",
        "outputId": "cbf383ce-225f-4c67-cde3-a469a3f6fee1"
      },
      "outputs": [
        {
          "name": "stdout",
          "output_type": "stream",
          "text": [
            "Key does not exist in the dictionary.\n"
          ]
        }
      ],
      "source": [
        "dt= {'key1': 'value1', 'key2': 'value2', 'key3': 'value3'}\n",
        "\n",
        "if 'key4' in dt:\n",
        "    print(\"Key exists in the dictionary.\")\n",
        "else:\n",
        "    print(\"Key does not exist in the dictionary.\")"
      ]
    },
    {
      "cell_type": "markdown",
      "metadata": {
        "id": "8_pd68WWIFJi"
      },
      "source": [
        "##3rd: Write a Python script to generate and print a dictionary that contains a number (between 1 and n) in the form (x, x*x)."
      ]
    },
    {
      "cell_type": "code",
      "execution_count": null,
      "metadata": {
        "colab": {
          "base_uri": "https://localhost:8080/"
        },
        "id": "0t4Khf_MG5Tf",
        "outputId": "58c861e1-1a63-4a80-ff84-a87a547fc837"
      },
      "outputs": [
        {
          "name": "stdout",
          "output_type": "stream",
          "text": [
            "{1: 1, 2: 4, 3: 9, 4: 16, 5: 25, 6: 36, 7: 49, 8: 64, 9: 81, 10: 100, 11: 121, 12: 144, 13: 169, 14: 196, 15: 225}\n"
          ]
        }
      ],
      "source": [
        "d = dict()\n",
        "for x in range(1, 16):\n",
        "    d[x] = x ** 2\n",
        "print(d)"
      ]
    },
    {
      "cell_type": "markdown",
      "metadata": {
        "id": "ZJVXrE8dKNYH"
      },
      "source": [
        "##4th: Write a Python program to sort a list alphabetically in a dictionary.\n"
      ]
    },
    {
      "cell_type": "code",
      "execution_count": null,
      "metadata": {
        "colab": {
          "base_uri": "https://localhost:8080/"
        },
        "id": "M3uRngrIH-FY",
        "outputId": "7bee7a02-b0f3-47bb-89fc-b02818c51384"
      },
      "outputs": [
        {
          "name": "stdout",
          "output_type": "stream",
          "text": [
            "{'n1': [1, 2, 3], 'n2': [1, 2, 5], 'n3': [2, 3, 4]}\n"
          ]
        }
      ],
      "source": [
        "num = {'n1': [2, 3, 1], 'n2': [5, 1, 2], 'n3': [3, 2, 4]}\n",
        "res= {x: sorted(y) for x, y in num.items()}\n",
        "print(res)\n"
      ]
    },
    {
      "cell_type": "code",
      "source": [
        "num = {'n1': [2, 3, 1], 'n2': [5, 1, 2], 'n3': [3, 2, 4]}\n",
        "for k in num:\n",
        "  print(num[k])"
      ],
      "metadata": {
        "colab": {
          "base_uri": "https://localhost:8080/"
        },
        "id": "P2OWeNl3U_bq",
        "outputId": "ae86204b-2fd8-4467-9d3b-71ba6776c2a9"
      },
      "execution_count": null,
      "outputs": [
        {
          "output_type": "stream",
          "name": "stdout",
          "text": [
            "[2, 3, 1]\n",
            "[5, 1, 2]\n",
            "[3, 2, 4]\n"
          ]
        }
      ]
    },
    {
      "cell_type": "code",
      "execution_count": null,
      "metadata": {
        "colab": {
          "base_uri": "https://localhost:8080/"
        },
        "id": "kzKd80yOKc-C",
        "outputId": "d38d4136-2e2a-4ace-89e0-1e594a5304d4"
      },
      "outputs": [
        {
          "output_type": "stream",
          "name": "stdout",
          "text": [
            "[[2, 3, 1], [5, 1, 2], [3, 2, 4]]\n"
          ]
        }
      ],
      "source": [
        "dict = {'n1': [2, 3, 1], 'n2': [5, 1, 2], 'n3': [3, 2, 4]}\n",
        "x=list(num.values())\n",
        "print(x)"
      ]
    },
    {
      "cell_type": "markdown",
      "source": [
        "##5th:"
      ],
      "metadata": {
        "id": "cfCKo8D3VKPZ"
      }
    },
    {
      "cell_type": "code",
      "execution_count": null,
      "metadata": {
        "id": "gZXP4zAzK5aK",
        "colab": {
          "base_uri": "https://localhost:8080/"
        },
        "outputId": "4d3854e6-fa83-4013-afb1-d9e8440ded15"
      },
      "outputs": [
        {
          "output_type": "stream",
          "name": "stdout",
          "text": [
            "[5874, 584, 560, 500, 400, 20]\n",
            "{'b': 584}\n",
            "{'c': 560}\n",
            "{'e': 5874}\n"
          ]
        }
      ],
      "source": [
        "l= {'a':500, 'b':584, 'c': 560,'d':400, 'e':5874, 'f': 20}\n",
        "x=list(l.values())\n",
        "# print(x)\n",
        "for i in range(len(x)):\n",
        "  for j in range(len(x)):\n",
        "    if x[i]>x[j]:\n",
        "      x[i],x[j]=x[j],x[i]\n",
        "\n",
        "print(x)\n",
        "x=x[:3]\n",
        "for k,v in l.items():\n",
        "  for i in x:\n",
        "    if v==i:\n",
        "      print({k:v})"
      ]
    },
    {
      "cell_type": "markdown",
      "source": [
        "#6th:"
      ],
      "metadata": {
        "id": "V_P8nZzZWd3N"
      }
    },
    {
      "cell_type": "code",
      "source": [
        "dt={'V': 10, 'VI': 10, 'VII': 40, 'VIII': 20, 'IX': 70, 'X': 80, 'XI': 40, 'XII': 20}\n",
        "#Counter({10: 2, 40: 2, 20: 2, 70: 1, 80: 1})\n"
      ],
      "metadata": {
        "id": "X2Ju1EWQVZv-"
      },
      "execution_count": null,
      "outputs": []
    },
    {
      "cell_type": "markdown",
      "source": [
        "#25/11/2023"
      ],
      "metadata": {
        "id": "_cMXWrZIOHhh"
      }
    },
    {
      "cell_type": "markdown",
      "source": [
        "##1st: convert two list into dictionary"
      ],
      "metadata": {
        "id": "C4pC3-NCkTZu"
      }
    },
    {
      "cell_type": "code",
      "source": [
        "lst1=['a', 'b', 'c', 'd', 'e', 'f']\n",
        "lst2=[1, 2, 3, 4, 5]\n",
        "lst3={k:v for k,v in zip(lst1,lst2)}\n",
        "print(lst3)\n"
      ],
      "metadata": {
        "colab": {
          "base_uri": "https://localhost:8080/"
        },
        "id": "nB7j9psqOLrF",
        "outputId": "cf6a3714-009f-42d3-902f-47ae49da3d04"
      },
      "execution_count": null,
      "outputs": [
        {
          "output_type": "stream",
          "name": "stdout",
          "text": [
            "{'a': 1, 'b': 2, 'c': 3, 'd': 4, 'e': 5}\n"
          ]
        }
      ]
    },
    {
      "cell_type": "code",
      "source": [
        "lst1=['a', 'b', 'c', 'd', 'e', 'f']\n",
        "lst2=[1, 2, 3, 4, 5]\n",
        "lst3={}\n",
        "for k in lst1:\n",
        "  for v in lst2:\n",
        "    lst3[k]=v\n",
        "    lst2.remove(v)\n",
        "    break\n",
        "print(str(lst3))\n",
        "\n"
      ],
      "metadata": {
        "colab": {
          "base_uri": "https://localhost:8080/"
        },
        "id": "XMnkO95pObsO",
        "outputId": "bba46782-eee9-40da-efaa-53acddae3941"
      },
      "execution_count": null,
      "outputs": [
        {
          "output_type": "stream",
          "name": "stdout",
          "text": [
            "{'a': 1, 'b': 2, 'c': 3, 'd': 4, 'e': 5}\n"
          ]
        }
      ]
    },
    {
      "cell_type": "markdown",
      "source": [
        "##2nd: sort based on 2nd element"
      ],
      "metadata": {
        "id": "U5-UjE8Ik5_6"
      }
    },
    {
      "cell_type": "code",
      "source": [
        "ls=[(8,7),(4,3),(6,5)]\n",
        "for i in range(len(ls)):\n",
        "  for j in range(len(ls)):\n",
        "    if ls[i][1]<ls[j][1]:\n",
        "      ls[i],ls[j]=ls[j],ls[i]\n",
        "print(ls)"
      ],
      "metadata": {
        "colab": {
          "base_uri": "https://localhost:8080/"
        },
        "id": "O4LW_4cKkaRa",
        "outputId": "f6fd611a-3913-417e-f76c-5a29c5e61ea1"
      },
      "execution_count": null,
      "outputs": [
        {
          "output_type": "stream",
          "name": "stdout",
          "text": [
            "[(4, 3), (6, 5), (8, 7)]\n"
          ]
        }
      ]
    },
    {
      "cell_type": "code",
      "source": [
        "x={'w': 50, 'x': 100, 'y': 'Green', 'z': 400}\n",
        "y={'x': 300, 'y': 'Red', 'z': 600}\n"
      ],
      "metadata": {
        "id": "FQwnUE7Akr29"
      },
      "execution_count": null,
      "outputs": []
    },
    {
      "cell_type": "markdown",
      "source": [
        "##3rd: adding the values with common key"
      ],
      "metadata": {
        "id": "kpDwWWwA5I26"
      }
    },
    {
      "cell_type": "code",
      "source": [
        "dict1 = {'a': 12, 'for': 25, 'c': 9}\n",
        "dict2 = {'Geeks': 100, 'geek': 200, 'for': 300}\n",
        "\n",
        "for key in dict2:\n",
        "    if key in dict1:\n",
        "        dict2[key] = dict2[key] + dict1[key]\n",
        "    else:\n",
        "        pass\n",
        "\n",
        "print(dict2)"
      ],
      "metadata": {
        "colab": {
          "base_uri": "https://localhost:8080/"
        },
        "id": "8h18_WWr4vOe",
        "outputId": "28b9249a-af93-4f27-924c-0e75b66b2076"
      },
      "execution_count": null,
      "outputs": [
        {
          "output_type": "stream",
          "name": "stdout",
          "text": [
            "{'Geeks': 100, 'geek': 200, 'for': 325}\n"
          ]
        }
      ]
    },
    {
      "cell_type": "markdown",
      "source": [
        "##4th: Convert a set into dictionary"
      ],
      "metadata": {
        "id": "hWjeRMGO6Kcq"
      }
    },
    {
      "cell_type": "code",
      "source": [
        "set1= {1, 2, 3, 4, 5}\n",
        "dt = {key: 0 for key in set1}\n",
        "print(dt)\n",
        "\n"
      ],
      "metadata": {
        "colab": {
          "base_uri": "https://localhost:8080/"
        },
        "id": "gfQRTtd84vuD",
        "outputId": "c2011af0-65de-4222-a78a-1b7c999e0a0b"
      },
      "execution_count": null,
      "outputs": [
        {
          "output_type": "stream",
          "name": "stdout",
          "text": [
            "{1: 0, 2: 0, 3: 0, 4: 0, 5: 0}\n"
          ]
        }
      ]
    },
    {
      "cell_type": "markdown",
      "source": [
        "##5th:"
      ],
      "metadata": {
        "id": "EkKxqZf7g-Yw"
      }
    },
    {
      "cell_type": "code",
      "source": [
        "sampleDict = {'Physics': 82,'Math': 65,'history': 75}\n",
        "t=min(sampleDict.values())\n",
        "print(t)\n",
        "for i in sampleDict:\n",
        "     if(sampleDict[i]==t):\n",
        "         print(i)"
      ],
      "metadata": {
        "id": "i458C8XM57hm",
        "colab": {
          "base_uri": "https://localhost:8080/"
        },
        "outputId": "dcc7e576-f42d-4e7e-8b64-032428dd9345"
      },
      "execution_count": null,
      "outputs": [
        {
          "output_type": "stream",
          "name": "stdout",
          "text": [
            "65\n",
            "Math\n"
          ]
        }
      ]
    },
    {
      "cell_type": "markdown",
      "source": [
        "#27/11/2023"
      ],
      "metadata": {
        "id": "0dEFhz0iBMXt"
      }
    },
    {
      "cell_type": "code",
      "source": [
        "list1 = [5, 20, 15, 20, 25, 50, 20]\n",
        "\n",
        "for i in list1:\n",
        "  if i == 20:\n",
        "    list1.remove(i)\n",
        "\n",
        "print(list1)\n",
        "\n"
      ],
      "metadata": {
        "id": "CP4wtejDf3WJ",
        "colab": {
          "base_uri": "https://localhost:8080/"
        },
        "outputId": "bd5ad50d-6a2d-44c1-db40-736fb9a46a36"
      },
      "execution_count": null,
      "outputs": [
        {
          "output_type": "stream",
          "name": "stdout",
          "text": [
            "[5, 15, 25, 50]\n"
          ]
        }
      ]
    },
    {
      "cell_type": "code",
      "source": [
        "numbers = [1,2,3,4,5,6,7]\n",
        "for i in range(len(numbers)):\n",
        "  numbers[i] = numbers[i] ** 2\n",
        "print(numbers)"
      ],
      "metadata": {
        "id": "ka9cv9MYEVj_",
        "colab": {
          "base_uri": "https://localhost:8080/"
        },
        "outputId": "54de437b-04f1-4ad3-e643-bb828c144836"
      },
      "execution_count": null,
      "outputs": [
        {
          "output_type": "stream",
          "name": "stdout",
          "text": [
            "[1, 4, 9, 16, 25, 36, 49]\n"
          ]
        }
      ]
    },
    {
      "cell_type": "code",
      "source": [
        "str1 = \"PyNaTive\"\n",
        "lowercase = \"\"\n",
        "uppercase = \"\"\n",
        "for char in str1:\n",
        "    if char.islower():\n",
        "        lowercase = lowercase + char\n",
        "    else:\n",
        "        uppercase = uppercase + char\n",
        "result = lowercase + uppercase\n",
        "\n",
        "print(result)\n"
      ],
      "metadata": {
        "colab": {
          "base_uri": "https://localhost:8080/"
        },
        "id": "mJo4wqIg1CJJ",
        "outputId": "fcec7740-91b3-4940-e902-5d5e47a2036d"
      },
      "execution_count": null,
      "outputs": [
        {
          "output_type": "stream",
          "name": "stdout",
          "text": [
            "yaivePNT\n"
          ]
        }
      ]
    },
    {
      "cell_type": "code",
      "source": [
        "str1 = \"PyNaTive\"\n",
        "\n",
        "def lower_first(str1):\n",
        "    for c in str1:\n",
        "        if c == c.upper():\n",
        "            str1 = str1[1:] + str1[0]\n",
        "    print(str1)\n"
      ],
      "metadata": {
        "id": "a50J-CMV1S3k"
      },
      "execution_count": null,
      "outputs": []
    },
    {
      "cell_type": "code",
      "source": [
        "str1 = \"emma25 is Data scientist and AI Expert30\"\n",
        "m = str1.split()\n",
        "for i in m :\n",
        "    for j in i:\n",
        "        if(j.isalpha()):\n",
        "            continue\n",
        "        elif(j.isdigit()):\n",
        "            print(i)\n",
        "            break"
      ],
      "metadata": {
        "colab": {
          "base_uri": "https://localhost:8080/"
        },
        "id": "oS-GAeXME9hn",
        "outputId": "6b2570ed-2bbf-4d02-8305-d8fdd09bbe42"
      },
      "execution_count": null,
      "outputs": [
        {
          "output_type": "stream",
          "name": "stdout",
          "text": [
            "emma25\n",
            "Expert30\n"
          ]
        }
      ]
    },
    {
      "cell_type": "code",
      "source": [
        "str1 = \"Emma25 is Data scientist50 and AI Expert\"\n",
        "m = []\n",
        "\n",
        "s = str1.split()\n",
        "for i in s:\n",
        "    if i.isalnum():\n",
        "        m.append(i)\n",
        "# print(m)\n",
        "print(m[0:4:3])"
      ],
      "metadata": {
        "colab": {
          "base_uri": "https://localhost:8080/"
        },
        "id": "fdm8mXvxFxwQ",
        "outputId": "d4ce52a2-4221-498e-b60a-dd3d76fc820c"
      },
      "execution_count": null,
      "outputs": [
        {
          "output_type": "stream",
          "name": "stdout",
          "text": [
            "['Emma25', 'scientist50']\n"
          ]
        }
      ]
    },
    {
      "cell_type": "markdown",
      "source": [
        "#28/11/2023"
      ],
      "metadata": {
        "id": "vwldNMv_FpKX"
      }
    },
    {
      "cell_type": "code",
      "source": [
        "str_list = [\"Emma\", \"Jon\", \"\", \"Kelly\", None, \"Eric\", \"\"]\n",
        "for i in str_list:\n",
        "  if i==\"\":\n",
        "    continue\n",
        "  else:\n",
        "    print(i,end=' ')"
      ],
      "metadata": {
        "colab": {
          "base_uri": "https://localhost:8080/"
        },
        "id": "dVshtxJ3Fcus",
        "outputId": "4be5be01-97c9-4777-fe84-d4fb61ef9a4e"
      },
      "execution_count": null,
      "outputs": [
        {
          "output_type": "stream",
          "name": "stdout",
          "text": [
            "Emma Jon Kelly None Eric "
          ]
        }
      ]
    },
    {
      "cell_type": "code",
      "source": [
        "s1 = \"Abc\"\n",
        "s2 = \"Xyz\"\n",
        "\n",
        "s3=''\n",
        "s2_rev = s2[::-1]\n",
        "for i in range(len(s1)):\n",
        "    s3 += s1[i]\n",
        "    s3 += s2_rev[i]\n",
        "print(s3)"
      ],
      "metadata": {
        "colab": {
          "base_uri": "https://localhost:8080/"
        },
        "id": "1anpfAdiGSzT",
        "outputId": "0e5da10a-2a6b-4c83-a474-acd1778ced00"
      },
      "execution_count": null,
      "outputs": [
        {
          "output_type": "stream",
          "name": "stdout",
          "text": [
            "AzbycX\n"
          ]
        }
      ]
    },
    {
      "cell_type": "code",
      "source": [
        "s1 = \"Ault\"\n",
        "s2 = \"Kelly\"\n",
        "print(s1[0]+s2[0]+s1[2]+s2[2]+s1[-1]+s2[-1])"
      ],
      "metadata": {
        "colab": {
          "base_uri": "https://localhost:8080/"
        },
        "id": "tfC3HwKMG2E1",
        "outputId": "c79ffb18-807d-48fa-bfd7-6386e983326f"
      },
      "execution_count": null,
      "outputs": [
        {
          "output_type": "stream",
          "name": "stdout",
          "text": [
            "AKllty\n"
          ]
        }
      ]
    },
    {
      "cell_type": "markdown",
      "source": [
        "#29/11/2023"
      ],
      "metadata": {
        "id": "SdFC8QCISnLL"
      }
    },
    {
      "cell_type": "code",
      "source": [
        "employees = ['Kelly', 'Emma']\n",
        "defaults = {\"designation\": 'Developer', \"salary\": 8000}\n",
        "\n",
        "dic = {}\n",
        "for i in employees:\n",
        "  dic[i] = defaults\n",
        "print(dic)"
      ],
      "metadata": {
        "id": "-JeuKOUQHnun",
        "colab": {
          "base_uri": "https://localhost:8080/"
        },
        "outputId": "85030a9a-ec7d-4438-996a-75ff4a762fb9"
      },
      "execution_count": null,
      "outputs": [
        {
          "output_type": "stream",
          "name": "stdout",
          "text": [
            "{'Kelly': {'designation': 'Developer', 'salary': 8000}, 'Emma': {'designation': 'Developer', 'salary': 8000}}\n"
          ]
        }
      ]
    },
    {
      "cell_type": "code",
      "source": [
        "d = {'x': 1, 'y': 2, 'z': 3}\n",
        "for k in d:\n",
        "    print (k, '=', d[k])"
      ],
      "metadata": {
        "colab": {
          "base_uri": "https://localhost:8080/"
        },
        "id": "RzhzNMX31E_I",
        "outputId": "b586ed4a-34af-40d6-b1b0-68c01b74310f"
      },
      "execution_count": null,
      "outputs": [
        {
          "output_type": "stream",
          "name": "stdout",
          "text": [
            "x = 1\n",
            "y = 2\n",
            "z = 3\n"
          ]
        }
      ]
    },
    {
      "cell_type": "code",
      "source": [
        "d = {'x': 1, 'y': 2, 'z': 3}\n",
        "for k in d.keys():\n",
        "    print (k, '=', d[k])"
      ],
      "metadata": {
        "colab": {
          "base_uri": "https://localhost:8080/"
        },
        "id": "GTBr-Ok-44Zt",
        "outputId": "abfa5283-d5f4-4642-bcba-d0bce1ce415c"
      },
      "execution_count": null,
      "outputs": [
        {
          "output_type": "stream",
          "name": "stdout",
          "text": [
            "x = 1\n",
            "y = 2\n",
            "z = 3\n"
          ]
        }
      ]
    },
    {
      "cell_type": "code",
      "source": [
        "keys = ['Ten', 'Twenty', 'Thirty']\n",
        "values = [10, 20, 30]\n",
        "\n",
        "d = dict.fromkeys(keys)\n",
        "for i, k in enumerate(d.keys()):\n",
        "\td[k] = values[i]\n",
        "print(d)"
      ],
      "metadata": {
        "colab": {
          "base_uri": "https://localhost:8080/"
        },
        "id": "eYIb4Cg11hsw",
        "outputId": "8e6128d2-6450-4b8e-801f-85ec9e84ddc4"
      },
      "execution_count": null,
      "outputs": [
        {
          "output_type": "stream",
          "name": "stdout",
          "text": [
            "{'Ten': 10, 'Twenty': 20, 'Thirty': 30}\n"
          ]
        }
      ]
    },
    {
      "cell_type": "code",
      "source": [
        "x = {1:10, 2:20, 3:30}\n",
        "x[2]=25\n",
        "print(x)\n"
      ],
      "metadata": {
        "colab": {
          "base_uri": "https://localhost:8080/"
        },
        "id": "cwzbmitC1v6s",
        "outputId": "9177f97b-e433-4111-8f16-48e986dec8b4"
      },
      "execution_count": null,
      "outputs": [
        {
          "output_type": "stream",
          "name": "stdout",
          "text": [
            "{1: 10, 2: 25, 3: 30}\n"
          ]
        }
      ]
    },
    {
      "cell_type": "code",
      "source": [
        "x = {1:10, 2:20, 3:30}\n",
        "x[4] = 20\n",
        "print(x)"
      ],
      "metadata": {
        "colab": {
          "base_uri": "https://localhost:8080/"
        },
        "id": "r4gLgzPG4kpa",
        "outputId": "0e72ae7e-5683-40ba-e6c2-75279fb2df8e"
      },
      "execution_count": null,
      "outputs": [
        {
          "output_type": "stream",
          "name": "stdout",
          "text": [
            "{1: 10, 2: 20, 3: 30, 4: 20}\n"
          ]
        }
      ]
    },
    {
      "cell_type": "markdown",
      "source": [
        "#**30/11/2023**"
      ],
      "metadata": {
        "id": "LWk8E276b0xB"
      }
    },
    {
      "cell_type": "markdown",
      "source": [
        "##Write a Python program to sum all the items\n"
      ],
      "metadata": {
        "id": "sesjE3zcb2PD"
      }
    },
    {
      "cell_type": "code",
      "source": [
        "item=[1,7,-10,34,2,-8]\n",
        "sum = 0\n",
        "for i in item:\n",
        "\tsum+= i\n",
        "print(sum)"
      ],
      "metadata": {
        "id": "VTDmRDnI4rJp",
        "colab": {
          "base_uri": "https://localhost:8080/"
        },
        "outputId": "d3842d09-6f5d-4ed8-e8f3-858b1beb7ae9"
      },
      "execution_count": null,
      "outputs": [
        {
          "output_type": "stream",
          "name": "stdout",
          "text": [
            "26\n"
          ]
        }
      ]
    },
    {
      "cell_type": "markdown",
      "source": [
        "##Write a Python program to remove duplicates from a list\n"
      ],
      "metadata": {
        "id": "Rn2wXP2QcQxS"
      }
    },
    {
      "cell_type": "code",
      "source": [
        "a = [1,2,3,7,2,1,5,6,4,8,5,4]\n",
        "dup = set()\n",
        "uniq = []\n",
        "for x in a:\n",
        "    if x not in dup:\n",
        "        uniq.append(x)\n",
        "        dup.add(x)\n",
        "print(dup)"
      ],
      "metadata": {
        "colab": {
          "base_uri": "https://localhost:8080/"
        },
        "id": "n79vEiEYbypX",
        "outputId": "d21a88b7-fd02-4d66-e74a-d7a3686b7edd"
      },
      "execution_count": null,
      "outputs": [
        {
          "output_type": "stream",
          "name": "stdout",
          "text": [
            "{1, 2, 3, 4, 5, 6, 7, 8}\n"
          ]
        }
      ]
    },
    {
      "cell_type": "markdown",
      "source": [
        "##Write a Python program to find common items from two lists\n"
      ],
      "metadata": {
        "id": "v0axwUI5dbVL"
      }
    },
    {
      "cell_type": "code",
      "source": [
        "num1 = [23,45,67,78,89,34]\n",
        "num2 = [34,89,55,56,39,67]\n",
        "print(set(num1) and set(num2))"
      ],
      "metadata": {
        "colab": {
          "base_uri": "https://localhost:8080/"
        },
        "id": "eJe6kJ57cNNn",
        "outputId": "9c717a30-6801-4772-f1da-619d48bec232"
      },
      "execution_count": null,
      "outputs": [
        {
          "output_type": "stream",
          "name": "stdout",
          "text": [
            "{34, 67, 39, 55, 56, 89}\n"
          ]
        }
      ]
    },
    {
      "cell_type": "markdown",
      "source": [
        "##Write a Python Program to print all Possible Combinations from the three Digits\n"
      ],
      "metadata": {
        "id": "h3pV4XLSdynH"
      }
    },
    {
      "cell_type": "code",
      "source": [
        "a = [1, 2, 3]\n",
        "for i in range(3):\n",
        "    for j in range(3):\n",
        "        for k in range(3):\n",
        "            if (i!=j and j!=k and i!=k):\n",
        "                print(a[i], a[j], a[k])"
      ],
      "metadata": {
        "colab": {
          "base_uri": "https://localhost:8080/"
        },
        "id": "96DM9htycik2",
        "outputId": "9b9d7b2a-74c8-4716-fef8-b45a48387c37"
      },
      "execution_count": null,
      "outputs": [
        {
          "output_type": "stream",
          "name": "stdout",
          "text": [
            "1 2 3\n",
            "1 3 2\n",
            "2 1 3\n",
            "2 3 1\n",
            "3 1 2\n",
            "3 2 1\n"
          ]
        }
      ]
    },
    {
      "cell_type": "markdown",
      "source": [
        "##Write a Python program to convert a tuple to a dictionary\n"
      ],
      "metadata": {
        "id": "9FLjI5cyemwT"
      }
    },
    {
      "cell_type": "code",
      "source": [
        "t = ((\"Name\", \"Ram\"),(\"Age\", 23),(\"City\", \"Salem\"),(\"Mark\", 422))\n",
        "print(dict((k,v) for k, v in t))"
      ],
      "metadata": {
        "colab": {
          "base_uri": "https://localhost:8080/"
        },
        "id": "sklIBOMfdu7a",
        "outputId": "56f21e92-8282-493e-86c5-90b59cffc75c"
      },
      "execution_count": null,
      "outputs": [
        {
          "output_type": "stream",
          "name": "stdout",
          "text": [
            "{'Name': 'Ram', 'Age': 23, 'City': 'Salem', 'Mark': 422}\n"
          ]
        }
      ]
    },
    {
      "cell_type": "markdown",
      "source": [
        "#01/12/2023 Friday"
      ],
      "metadata": {
        "id": "l2vyz1ZbbEew"
      }
    },
    {
      "cell_type": "code",
      "source": [
        "sam= {\n",
        "    'emp1': {'name': 'Jhon', 'salary': 7500},\n",
        "    'emp2': {'name': 'Emma', 'salary': 8000},\n",
        "    'emp3': {'name': 'Brad', 'salary': 6500}\n",
        "}\n",
        "\n",
        "sam['emp3']['salary'] = 8500\n",
        "print(sam)"
      ],
      "metadata": {
        "id": "K5WIaIUNeuEG",
        "colab": {
          "base_uri": "https://localhost:8080/"
        },
        "outputId": "87f5cfc2-8b63-4243-d5a6-6a7ec8eb8d49"
      },
      "execution_count": null,
      "outputs": [
        {
          "output_type": "stream",
          "name": "stdout",
          "text": [
            "{'emp1': {'name': 'Jhon', 'salary': 7500}, 'emp2': {'name': 'Emma', 'salary': 8000}, 'emp3': {'name': 'Brad', 'salary': 8500}}\n"
          ]
        }
      ]
    },
    {
      "cell_type": "markdown",
      "source": [
        "##Write a program to find if the given number is prime or not."
      ],
      "metadata": {
        "id": "wI36GuCekVXM"
      }
    },
    {
      "cell_type": "code",
      "source": [
        "num = int(input(\"enter a number: \"))\n",
        "fl = False\n",
        "if num > 1:\n",
        "    for i in range(2, num):\n",
        "        if (num % i) == 0:\n",
        "            fl = True\n",
        "            break\n",
        "if fl:\n",
        "    print(num, \"is not a prime number\")\n",
        "else:\n",
        "    print(num, \"is a prime number\")\n"
      ],
      "metadata": {
        "id": "OIKSyVwibchM",
        "colab": {
          "base_uri": "https://localhost:8080/"
        },
        "outputId": "1c1a780c-7d64-40af-d2ad-ab4265e8d093"
      },
      "execution_count": null,
      "outputs": [
        {
          "output_type": "stream",
          "name": "stdout",
          "text": [
            "enter a number: 6\n",
            "6 is not a prime number\n"
          ]
        }
      ]
    },
    {
      "cell_type": "code",
      "source": [
        "a=[(\"zoo\", \"peanuts\"),(1, 'groot'), (\"teams\",\"ml\"),('dell', 'ipad'), ('water', 'case'), (56,\"apple\")]\n",
        "for i in range(len(a)):\n",
        "  for j in range(len(a)):\n",
        "    if a[i][1]<a[j][1]:\n",
        "      a[i],a[j]=a[j],a[i]\n",
        "print(a)"
      ],
      "metadata": {
        "colab": {
          "base_uri": "https://localhost:8080/"
        },
        "id": "XQf3NEvmkESJ",
        "outputId": "cfa606b8-875c-477f-c118-e2af40b3ffbb"
      },
      "execution_count": null,
      "outputs": [
        {
          "output_type": "stream",
          "name": "stdout",
          "text": [
            "[(56, 'apple'), ('water', 'case'), (1, 'groot'), ('dell', 'ipad'), ('teams', 'ml'), ('zoo', 'peanuts')]\n"
          ]
        }
      ]
    },
    {
      "cell_type": "code",
      "source": [
        "l=[(\"zoo\", \"peanuts\"),(1, 'groot'), (\"teams\",\"ml\"),('dell', 'ipad'), ('water', 'case'), (56,\"apple\")]\n",
        "for i in range(len(l)):\n",
        "  # print(l[i])\n",
        "  a=list(l[i])\n",
        "  a[0],a[1]=a[1],a[0]\n",
        "  l[i]=tuple(a)\n",
        "print(l)\n",
        "\n"
      ],
      "metadata": {
        "colab": {
          "base_uri": "https://localhost:8080/"
        },
        "id": "MQiUijNUnfvG",
        "outputId": "e1055534-1c01-47f8-adfd-531c353f3628"
      },
      "execution_count": null,
      "outputs": [
        {
          "output_type": "stream",
          "name": "stdout",
          "text": [
            "[('peanuts', 'zoo'), ('groot', 1), ('ml', 'teams'), ('ipad', 'dell'), ('case', 'water'), ('apple', 56)]\n"
          ]
        }
      ]
    },
    {
      "cell_type": "code",
      "source": [
        "a=[3,2,1,5,6,8]\n",
        "for i in range(0,len(a),2):\n",
        "  if i+1<len(a):\n",
        "    a[i],a[i+1]=a[i+1],a[i]\n",
        "print(a)"
      ],
      "metadata": {
        "colab": {
          "base_uri": "https://localhost:8080/"
        },
        "id": "DHPpnHrSk-Bd",
        "outputId": "28ebfde1-cab0-43cc-902e-88241d426b3c"
      },
      "execution_count": null,
      "outputs": [
        {
          "output_type": "stream",
          "name": "stdout",
          "text": [
            "[2, 3, 5, 1, 8, 6]\n"
          ]
        }
      ]
    },
    {
      "cell_type": "markdown",
      "source": [
        "#02/12/2023"
      ],
      "metadata": {
        "id": "YfC2eRbPZyHo"
      }
    },
    {
      "cell_type": "code",
      "source": [
        "x=\"aaabbccccd\"\n",
        "em={}\n",
        "for i in x:\n",
        "  if i in em:\n",
        "    em[i]+=1\n",
        "  else:\n",
        "    em[i]=1\n",
        "print(em)"
      ],
      "metadata": {
        "colab": {
          "base_uri": "https://localhost:8080/"
        },
        "id": "VT91ty5H1BIK",
        "outputId": "66413de6-28e0-4968-a24d-272b4f21ff30"
      },
      "execution_count": null,
      "outputs": [
        {
          "output_type": "stream",
          "name": "stdout",
          "text": [
            "{'a': 3, 'b': 2, 'c': 4, 'd': 1}\n"
          ]
        }
      ]
    },
    {
      "cell_type": "code",
      "source": [
        "a={'abc':1,'pqr':2,'xyz':3,'lmn':4,'str':5}\n",
        "lst=['abc','xyz','str']\n",
        "x={}\n",
        "for i in lst:\n",
        "  if i in a:\n",
        "    x[i]=a[i]\n",
        "print(x)"
      ],
      "metadata": {
        "colab": {
          "base_uri": "https://localhost:8080/"
        },
        "id": "iR9lX67KheOR",
        "outputId": "a9ed2e7e-4827-4012-b372-1d6183e8345d"
      },
      "execution_count": null,
      "outputs": [
        {
          "output_type": "stream",
          "name": "stdout",
          "text": [
            "{'abc': 1, 'xyz': 3, 'str': 5}\n"
          ]
        }
      ]
    },
    {
      "cell_type": "code",
      "source": [
        "d={'rajnish': 9, 'ravi': 10, 'sanjeev': 15, 'suraj': 32, 'yash': 2}\n",
        "x=0\n",
        "a=\"\"\n",
        "for i in d:\n",
        "  # print(d[i])\n",
        "  if d[i]>x:\n",
        "    x=d[i]\n",
        "    a=i\n",
        "print(a,x)\n"
      ],
      "metadata": {
        "colab": {
          "base_uri": "https://localhost:8080/"
        },
        "id": "HzoXuYPhhyQ_",
        "outputId": "524c7418-8c83-494f-b07f-5cd8aeee0ac5"
      },
      "execution_count": null,
      "outputs": [
        {
          "output_type": "stream",
          "name": "stdout",
          "text": [
            "suraj 32\n"
          ]
        }
      ]
    },
    {
      "cell_type": "code",
      "source": [
        "x = {'ravi': 10, 'rajnish': 9,'sanjeev': 15, 'yash': 2, 'suraj': 32}\n",
        "z={}\n",
        "y=list(x.keys())\n",
        "# print(y)\n",
        "for i in range(len(y)):\n",
        "  for j in range(len(y)):\n",
        "    if y[i]<y[j]:\n",
        "      y[i],y[j]=y[j],y[i]\n",
        "# print(y)\n",
        "for i in y:\n",
        "  z[i]=x[i]\n",
        "print(z)\n"
      ],
      "metadata": {
        "colab": {
          "base_uri": "https://localhost:8080/"
        },
        "id": "mvc1JYKQiPud",
        "outputId": "65dc268d-7f61-4454-fc5b-4f6aa2922af4"
      },
      "execution_count": null,
      "outputs": [
        {
          "output_type": "stream",
          "name": "stdout",
          "text": [
            "{'rajnish': 9, 'ravi': 10, 'sanjeev': 15, 'suraj': 32, 'yash': 2}\n"
          ]
        }
      ]
    },
    {
      "cell_type": "code",
      "source": [
        "# x = {'ravi': 10, 'rajnish': 9,'sanjeev': 15, 'yash': 2, 'suraj': 32}\n",
        "# z={}\n",
        "# y=list(x.values())\n",
        "# print(y)\n",
        "# for i in range(len(y)):\n",
        "#   for j in range(len(y)):\n",
        "#     if y[i]<y[j]:\n",
        "#       y[i],y[j]=y[j],y[i]\n",
        "# print(y)\n",
        "# for i in y:\n",
        "#   z[i]=x[i]\n",
        "# print(z)\n",
        "\n"
      ],
      "metadata": {
        "id": "QhFklP14iwlE"
      },
      "execution_count": null,
      "outputs": []
    },
    {
      "cell_type": "code",
      "source": [
        "x=[2,3,4,5]\n",
        "x[1],x[0]=x[0],x[1]\n",
        "print(x)"
      ],
      "metadata": {
        "id": "f8v1h8SJRoHf",
        "colab": {
          "base_uri": "https://localhost:8080/"
        },
        "outputId": "16347f6d-33cf-41ca-d842-890fb56e37a3"
      },
      "execution_count": null,
      "outputs": [
        {
          "output_type": "stream",
          "name": "stdout",
          "text": [
            "[3, 2, 4, 5]\n"
          ]
        }
      ]
    },
    {
      "cell_type": "markdown",
      "source": [
        "#03/12/2023"
      ],
      "metadata": {
        "id": "eMYDUrnrlui8"
      }
    },
    {
      "cell_type": "code",
      "source": [
        "a=[\"sAdiquE\",\"junAId\",\"suFiyan\",\"AshraF\"]\n",
        "for i in range(len(a)):\n",
        "      if a[i][-1].isupper():\n",
        "        b=a[i][-1].lower()\n",
        "        a[i]=a[i][:-1]+b\n",
        "\n",
        "      else:\n",
        "          b=a[i][-1].upper()\n",
        "          a[i]=a[i][:-1]+b\n",
        "print(a)"
      ],
      "metadata": {
        "colab": {
          "base_uri": "https://localhost:8080/"
        },
        "id": "mBaW9g2llsaJ",
        "outputId": "14183d68-e987-406c-ba78-72243dc3c245"
      },
      "execution_count": null,
      "outputs": [
        {
          "output_type": "stream",
          "name": "stdout",
          "text": [
            "['sAdique', 'junAID', 'suFiyaN', 'Ashraf']\n"
          ]
        }
      ]
    },
    {
      "cell_type": "code",
      "source": [
        "person=['abc','xyz','pqr']\n",
        "s1=[]\n",
        "for i in person:\n",
        "  if i.lower():\n",
        "    s1.append(i.upper())\n",
        "print(s1)"
      ],
      "metadata": {
        "colab": {
          "base_uri": "https://localhost:8080/"
        },
        "id": "_EVvlXJiwxEJ",
        "outputId": "9c460684-22c4-4284-ef72-6160954599b5"
      },
      "execution_count": null,
      "outputs": [
        {
          "output_type": "stream",
          "name": "stdout",
          "text": [
            "['ABC', 'XYZ', 'PQR']\n"
          ]
        }
      ]
    },
    {
      "cell_type": "code",
      "source": [
        "person=['heena','anam','abc']\n",
        "# c1=0\n",
        "for i in person:\n",
        "  # print(i)\n",
        "  if i.islower():\n",
        "    x=i.upper()\n",
        "    person=x\n",
        "print(x)"
      ],
      "metadata": {
        "colab": {
          "base_uri": "https://localhost:8080/"
        },
        "id": "fdb1R7E_xWeA",
        "outputId": "40c593bd-7ce2-4ebd-fd6b-69fe9fb55d0a"
      },
      "execution_count": null,
      "outputs": [
        {
          "output_type": "stream",
          "name": "stdout",
          "text": [
            "ABC\n"
          ]
        }
      ]
    },
    {
      "cell_type": "code",
      "source": [
        "a='rohan playing Daily On the road'\n",
        "b=a.split()\n",
        "# print(b)\n",
        "for i in b:\n",
        "  # print(i[0])\n",
        "  res=i[0].upper()\n",
        "  print(res+i[1:],end=' ')\n",
        "\n"
      ],
      "metadata": {
        "colab": {
          "base_uri": "https://localhost:8080/"
        },
        "id": "-oCjlKrMxbT9",
        "outputId": "d471096b-c967-43cf-85fa-f86da5a4e3d1"
      },
      "execution_count": null,
      "outputs": [
        {
          "output_type": "stream",
          "name": "stdout",
          "text": [
            "Rohan Playing Daily On The Road "
          ]
        }
      ]
    },
    {
      "cell_type": "markdown",
      "source": [
        "#06/12/2023"
      ],
      "metadata": {
        "id": "DD8k4UhNlR2G"
      }
    },
    {
      "cell_type": "code",
      "source": [
        "x='abcabccap'\n",
        "y={}\n",
        "for i in x:\n",
        "  if i in y:\n",
        "    y[i]+=1\n",
        "  else:\n",
        "    y[i]=1\n",
        "print(y)\n"
      ],
      "metadata": {
        "id": "to-uDdg4xp-_",
        "colab": {
          "base_uri": "https://localhost:8080/"
        },
        "outputId": "b05207fa-728e-415c-ce13-eb22f45b3a09"
      },
      "execution_count": null,
      "outputs": [
        {
          "output_type": "stream",
          "name": "stdout",
          "text": [
            "{'a': 3, 'b': 2, 'c': 3, 'p': 1}\n"
          ]
        }
      ]
    },
    {
      "cell_type": "code",
      "source": [
        "x=[2, 3, 8, 4, 7, 9, 8, 2, 6, 5, 1, 6, 1, 2, 3, 4, 6, 9, 1, 2]\n",
        "ct=[]\n",
        "for i in x:\n",
        "  if x.count(i)>1 and i not in ct:\n",
        "    ct.append(i)\n",
        "print(ct)\n"
      ],
      "metadata": {
        "colab": {
          "base_uri": "https://localhost:8080/"
        },
        "id": "hcGt18j45CuW",
        "outputId": "32e5e9c5-e3ff-4137-e5bf-1d4b6d1d91e0"
      },
      "execution_count": null,
      "outputs": [
        {
          "output_type": "stream",
          "name": "stdout",
          "text": [
            "[2, 3, 8, 4, 9, 6, 1]\n"
          ]
        }
      ]
    },
    {
      "cell_type": "code",
      "source": [
        "list=\"aabcddrsgg\"\n",
        "x={}\n",
        "y=[]\n",
        "for i in list:\n",
        "  if i in x:\n",
        "    x[i]+=1\n",
        "  else:\n",
        "    x[i]=1\n",
        "print('unique number',x)\n",
        "for k,v in x.items():\n",
        "  if v==1:\n",
        "    y.append(k)\n",
        "print(\"\".join(y))"
      ],
      "metadata": {
        "colab": {
          "base_uri": "https://localhost:8080/"
        },
        "id": "Kin-vS4v5zB0",
        "outputId": "5c5049fe-2c83-4c26-ae1c-86d2fdb5aa16"
      },
      "execution_count": null,
      "outputs": [
        {
          "output_type": "stream",
          "name": "stdout",
          "text": [
            "unique number {'a': 2, 'b': 1, 'c': 1, 'd': 2, 'r': 1, 's': 1, 'g': 2}\n",
            "bcrs\n"
          ]
        }
      ]
    },
    {
      "cell_type": "code",
      "source": [
        "dic = {\"x\":[99, 12, 88],\"y\":[{'value':[1,2,3]},{'value':[5,6,7]}]}\n",
        "for i in dic:\n",
        "  print(dic[i])"
      ],
      "metadata": {
        "id": "Je6mrMv063Ga",
        "colab": {
          "base_uri": "https://localhost:8080/"
        },
        "outputId": "1e90f98b-61ef-4845-9004-dd493ca0cf3d"
      },
      "execution_count": null,
      "outputs": [
        {
          "output_type": "stream",
          "name": "stdout",
          "text": [
            "[99, 12, 88]\n",
            "[{'value': [1, 2, 3]}, {'value': [5, 6, 7]}]\n"
          ]
        }
      ]
    },
    {
      "cell_type": "code",
      "source": [
        "lst = [11,43,56,78,56,98,34,789,800,781,782]\n",
        "max=0\n",
        "for i in lst:\n",
        "  if i>max:\n",
        "    max=i\n",
        "print(max)"
      ],
      "metadata": {
        "id": "lLMpWf-M63aW",
        "colab": {
          "base_uri": "https://localhost:8080/"
        },
        "outputId": "37512979-90d1-440f-e341-101cd2f41f1c"
      },
      "execution_count": null,
      "outputs": [
        {
          "output_type": "stream",
          "name": "stdout",
          "text": [
            "800\n"
          ]
        }
      ]
    },
    {
      "cell_type": "markdown",
      "source": [
        "#07/12/2023"
      ],
      "metadata": {
        "id": "mZ29wC10n_iI"
      }
    },
    {
      "cell_type": "code",
      "source": [
        "lst1 = ['SarFraz', 'arFan', 'AshHraf', 'junaid']\n",
        "lst2 = []\n",
        "\n",
        "for i in lst1:\n",
        "    if i[0].islower():\n",
        "        x=i[0].upper() + i[1:]\n",
        "        lst2.append(x)\n",
        "    else:\n",
        "        x=i[0].lower() + i[1:]\n",
        "        lst2.append(x)\n",
        "print(lst2)"
      ],
      "metadata": {
        "colab": {
          "base_uri": "https://localhost:8080/"
        },
        "id": "JKlsEWIS28cp",
        "outputId": "435bb0d1-bbaa-41db-eaad-b6d32a6a33eb"
      },
      "execution_count": null,
      "outputs": [
        {
          "output_type": "stream",
          "name": "stdout",
          "text": [
            "['sarFraz', 'ArFan', 'ashHraf', 'Junaid']\n"
          ]
        }
      ]
    },
    {
      "cell_type": "code",
      "source": [
        "p1= {\"name\": \"Sadiq\", \"country\": \"India\", \"telephone\": 1178}\n",
        "x={}\n",
        "pr=list(p1.keys())\n",
        "# print(pr)\n",
        "for i in range(len(pr)):\n",
        "  for j in range(len(pr)):\n",
        "    if pr[i]<pr[j]:\n",
        "      pr[i],pr[j]=pr[j],pr[i]\n",
        "# print(pr)\n",
        "for i in pr:\n",
        "   x[i]=p1[i]\n",
        "print(x)\n"
      ],
      "metadata": {
        "id": "s3XIJ5fF4YXf",
        "colab": {
          "base_uri": "https://localhost:8080/"
        },
        "outputId": "a838f8f2-2354-4f72-e3f2-df338ebd37dd"
      },
      "execution_count": null,
      "outputs": [
        {
          "output_type": "stream",
          "name": "stdout",
          "text": [
            "{'country': 'India', 'name': 'Sadiq', 'telephone': 1178}\n"
          ]
        }
      ]
    },
    {
      "cell_type": "code",
      "source": [
        "x = {'ravi': 10, 'rajnish': 9,'sanjeev': 15, 'yash': 2, 'suraj': 32}\n",
        "z={}\n",
        "y=list(x.values())\n",
        "print(y)\n",
        "for i in range(len(y)):\n",
        "  for j in range(len(y)):\n",
        "    if y[i]<y[j]:\n",
        "      y[i],y[j]=y[j],y[i]\n",
        "print(y)\n",
        "# for i in y:\n",
        "#   z[i]=x[i]\n",
        "# print(z)\n",
        "\n",
        "\n"
      ],
      "metadata": {
        "colab": {
          "base_uri": "https://localhost:8080/"
        },
        "id": "42lak68ElWjL",
        "outputId": "d5b1c747-aa4a-448d-a216-41cbfdda5bad"
      },
      "execution_count": null,
      "outputs": [
        {
          "output_type": "stream",
          "name": "stdout",
          "text": [
            "[10, 9, 15, 2, 32]\n",
            "[2, 9, 10, 15, 32]\n"
          ]
        }
      ]
    },
    {
      "cell_type": "code",
      "source": [
        "x = {'ravi': 10, 'rajnish': 9,'sanjeev': 15, 'yash': 2, 'suraj': 32}\n",
        "y=list(x.keys())\n",
        "print(y)"
      ],
      "metadata": {
        "colab": {
          "base_uri": "https://localhost:8080/"
        },
        "id": "bTpaJbKCm1cu",
        "outputId": "fd195fec-bf74-4ed9-ef16-ec0d35805da1"
      },
      "execution_count": null,
      "outputs": [
        {
          "output_type": "stream",
          "name": "stdout",
          "text": [
            "['ravi', 'rajnish', 'sanjeev', 'yash', 'suraj']\n"
          ]
        }
      ]
    },
    {
      "cell_type": "code",
      "source": [
        "x=\"ansari\"\n",
        "y={}\n",
        "for i in x:\n",
        "  if i in y:\n",
        "    y[i]+=1\n",
        "  else:\n",
        "    y[i]=1\n",
        "print(y)\n"
      ],
      "metadata": {
        "colab": {
          "base_uri": "https://localhost:8080/"
        },
        "id": "knNRUMG-pLrh",
        "outputId": "648645c6-2955-43ba-91a5-5ed912835076"
      },
      "execution_count": null,
      "outputs": [
        {
          "output_type": "stream",
          "name": "stdout",
          "text": [
            "{'a': 2, 'n': 1, 's': 1, 'r': 1, 'i': 1}\n"
          ]
        }
      ]
    },
    {
      "cell_type": "code",
      "source": [
        "x=[1,2,1,2,3]\n",
        "y={}\n",
        "z=''\n",
        "for i in x:\n",
        "  if i in y:\n",
        "    y[i]+=1\n",
        "  else:\n",
        "    y[i]=1\n",
        "print(y)\n",
        "for k,v in y.items():\n",
        "  if v==1:\n",
        "    z=k\n",
        "print(z)"
      ],
      "metadata": {
        "id": "HhWrlBK3J172",
        "colab": {
          "base_uri": "https://localhost:8080/"
        },
        "outputId": "1843ea62-32a6-4cc7-985a-f426d0176921"
      },
      "execution_count": null,
      "outputs": [
        {
          "output_type": "stream",
          "name": "stdout",
          "text": [
            "{1: 2, 2: 2, 3: 1}\n",
            "3\n"
          ]
        }
      ]
    },
    {
      "cell_type": "markdown",
      "source": [
        "#08/12/2023"
      ],
      "metadata": {
        "id": "gSuD4optMvPX"
      }
    },
    {
      "cell_type": "code",
      "source": [
        "x=[1,2,3,4]\n",
        "y=[5,6,7,8]\n",
        "for i in x:\n",
        "  if i not in y:\n",
        "    y.append(i)\n",
        "print(y)\n"
      ],
      "metadata": {
        "colab": {
          "base_uri": "https://localhost:8080/"
        },
        "id": "-ov9oOlRMyni",
        "outputId": "1daf65df-0de5-4230-f809-4e738bb1bcea"
      },
      "execution_count": null,
      "outputs": [
        {
          "output_type": "stream",
          "name": "stdout",
          "text": [
            "[5, 6, 7, 8, 1, 2, 3, 4]\n"
          ]
        }
      ]
    },
    {
      "cell_type": "code",
      "source": [
        "st=\"student done Our work In the collage\"\n",
        "st1=st.split()\n",
        "# print(st1)\n",
        "for i in st1:\n",
        "  # print(i[0])\n",
        "  res=i[0].upper()\n",
        "  print(res+i[1:],end=' ')\n"
      ],
      "metadata": {
        "colab": {
          "base_uri": "https://localhost:8080/"
        },
        "id": "9cMAGMidMzH0",
        "outputId": "547c222f-3d2d-4470-b831-31b1fb572f4c"
      },
      "execution_count": null,
      "outputs": [
        {
          "output_type": "stream",
          "name": "stdout",
          "text": [
            "Student Done Our Work In The Collage "
          ]
        }
      ]
    },
    {
      "cell_type": "code",
      "source": [
        "a='rohan playing Daily On the road'\n",
        "b=a.split()\n",
        "# print(b)\n",
        "for i in b:\n",
        "  # print(i[0])\n",
        "  res=i[0].upper()\n",
        "  print(res+i[1:],end=' ')\n",
        "\n"
      ],
      "metadata": {
        "colab": {
          "base_uri": "https://localhost:8080/"
        },
        "id": "aoSzKC5RN2lo",
        "outputId": "26618d67-edd9-4d3c-aa70-b1139335eca3"
      },
      "execution_count": null,
      "outputs": [
        {
          "output_type": "stream",
          "name": "stdout",
          "text": [
            "Rohan Playing Daily On The Road "
          ]
        }
      ]
    },
    {
      "cell_type": "code",
      "source": [
        "x=[2,2,1,2,7,7]\n",
        "y={}\n",
        "z=''\n",
        "for i in x:\n",
        "  if i in y:\n",
        "    y[i]+=1\n",
        "  else:\n",
        "    y[i]=1\n",
        "print(y)\n",
        "for k,v in y.items():\n",
        "  if v==1:\n",
        "    z=k\n",
        "print(z)"
      ],
      "metadata": {
        "colab": {
          "base_uri": "https://localhost:8080/"
        },
        "id": "KsA6L_kn-v0d",
        "outputId": "73914502-98df-418c-c2f2-fb48b44c75d0"
      },
      "execution_count": null,
      "outputs": [
        {
          "output_type": "stream",
          "name": "stdout",
          "text": [
            "{2: 3, 1: 1, 7: 2}\n",
            "1\n"
          ]
        }
      ]
    },
    {
      "cell_type": "code",
      "source": [],
      "metadata": {
        "id": "CbIDpOUgAShN"
      },
      "execution_count": null,
      "outputs": []
    },
    {
      "cell_type": "markdown",
      "source": [
        "#09/12/2023"
      ],
      "metadata": {
        "id": "CBTwADuJMnpi"
      }
    },
    {
      "cell_type": "code",
      "source": [
        "x = {'ravi': 10, 'rajnish': 9,'sanjeev': 15, 'yash': 2, 'suraj': 32}\n",
        "z={}\n",
        "y=list(x.keys())\n",
        "# print(y)\n",
        "for i in range(len(y)):\n",
        "  for j in range(len(y)):\n",
        "    if y[i]<y[j]:\n",
        "      y[i],y[j]=y[j],y[i]\n",
        "print(y)\n",
        "for i in y:\n",
        "  z[i]=x[i]\n",
        "print(z)"
      ],
      "metadata": {
        "colab": {
          "base_uri": "https://localhost:8080/"
        },
        "id": "jzrqd0eC-mIu",
        "outputId": "c5fd0239-e2cd-4482-ee23-c7dc1844cd0a"
      },
      "execution_count": null,
      "outputs": [
        {
          "output_type": "stream",
          "name": "stdout",
          "text": [
            "['rajnish', 'ravi', 'sanjeev', 'suraj', 'yash']\n",
            "{'rajnish': 9, 'ravi': 10, 'sanjeev': 15, 'suraj': 32, 'yash': 2}\n"
          ]
        }
      ]
    },
    {
      "cell_type": "code",
      "source": [
        "x = {'ravi': 10, 'rajnish': 9,'sanjeev': 15, 'yash': 2, 'suraj': 32}\n",
        "y=0\n",
        "for i in x:\n",
        "  if x[i]>y:\n",
        "    y=x[i]\n",
        "print(y)\n"
      ],
      "metadata": {
        "colab": {
          "base_uri": "https://localhost:8080/"
        },
        "id": "KsLH9knT_IjJ",
        "outputId": "6d7de96f-189f-40ab-e230-fc6109459d6f"
      },
      "execution_count": null,
      "outputs": [
        {
          "output_type": "stream",
          "name": "stdout",
          "text": [
            "32\n"
          ]
        }
      ]
    },
    {
      "cell_type": "code",
      "source": [
        "x = {'ravi': 10, 'rajnish': 9,'sanjeev': 15, 'yash': 2, 'suraj': 32}\n",
        "y=list(x.values())\n",
        "for i in range(len(y)):\n",
        "  for j in range(len(y)):\n",
        "    if y[i]<y[j]:\n",
        "      y[i],y[j]=y[j],y[i]\n",
        "print(y)\n",
        "for k,v in x.items():\n",
        "  if v==y[-1]:\n",
        "    print({k,v})"
      ],
      "metadata": {
        "colab": {
          "base_uri": "https://localhost:8080/"
        },
        "id": "fPNA9iIdAODT",
        "outputId": "6b260d57-7d7e-471c-94b0-190a188ac63d"
      },
      "execution_count": null,
      "outputs": [
        {
          "output_type": "stream",
          "name": "stdout",
          "text": [
            "[2, 9, 10, 15, 32]\n",
            "{32, 'suraj'}\n"
          ]
        }
      ]
    },
    {
      "cell_type": "code",
      "source": [
        "x='aabbbc'\n",
        "y={}\n",
        "for i in x:\n",
        "  if i in y:\n",
        "    y[i]+=1\n",
        "  else:\n",
        "    y[i]=1\n",
        "print(y)"
      ],
      "metadata": {
        "colab": {
          "base_uri": "https://localhost:8080/"
        },
        "id": "XAHTD7HmBTm0",
        "outputId": "388a5254-599d-4404-849d-1a8d7c8c3865"
      },
      "execution_count": null,
      "outputs": [
        {
          "output_type": "stream",
          "name": "stdout",
          "text": [
            "{'a': 2, 'b': 3, 'c': 1}\n"
          ]
        }
      ]
    },
    {
      "cell_type": "code",
      "source": [
        "x=[1,2,2,1,3,3,6]\n",
        "y={}\n",
        "z=''\n",
        "for i in x:\n",
        "  if i in y:\n",
        "    y[i]+=1\n",
        "  else:\n",
        "    y[i]=1\n",
        "# print(y)\n",
        "for k,v in y.items():\n",
        "  if v==1:\n",
        "    z=k\n",
        "print(z)"
      ],
      "metadata": {
        "colab": {
          "base_uri": "https://localhost:8080/"
        },
        "id": "fkjFCp7oLHIi",
        "outputId": "29c48e2b-1beb-4b16-f385-dfca673dcc00"
      },
      "execution_count": null,
      "outputs": [
        {
          "output_type": "stream",
          "name": "stdout",
          "text": [
            "6\n"
          ]
        }
      ]
    },
    {
      "cell_type": "markdown",
      "source": [
        "#11/12/2023"
      ],
      "metadata": {
        "id": "5QXBS-t5-hAs"
      }
    },
    {
      "cell_type": "code",
      "source": [
        "def gen(max=0):\n",
        "  n=0\n",
        "  while n<max:\n",
        "    yield 2**n\n",
        "    n+=1\n",
        "num=gen(6)\n",
        "print(next(num))\n",
        "print(next(num))"
      ],
      "metadata": {
        "id": "MQX1CFUxL7ZC",
        "colab": {
          "base_uri": "https://localhost:8080/"
        },
        "outputId": "85c8790c-aff2-41dd-bcc7-415f6630f28f"
      },
      "execution_count": null,
      "outputs": [
        {
          "output_type": "stream",
          "name": "stdout",
          "text": [
            "1\n",
            "2\n"
          ]
        }
      ]
    },
    {
      "cell_type": "code",
      "source": [
        "lst=[2,3,4,5,9]\n",
        "for i in range(0,len(lst),2):\n",
        "  if i+1<len(lst):\n",
        "    lst[i],lst[i+1]=lst[i+1],lst[i]\n",
        "print(lst)\n"
      ],
      "metadata": {
        "colab": {
          "base_uri": "https://localhost:8080/"
        },
        "id": "1iHTpJUSA7vg",
        "outputId": "754e4b91-799f-41fe-bf70-dcc26c62b53c"
      },
      "execution_count": null,
      "outputs": [
        {
          "output_type": "stream",
          "name": "stdout",
          "text": [
            "[3, 2, 5, 4, 9]\n"
          ]
        }
      ]
    },
    {
      "cell_type": "code",
      "source": [
        "x=[2,1,11,4]\n",
        "y=0\n",
        "for i in x:\n",
        "  if i>y:\n",
        "    y=i\n",
        "print(y)"
      ],
      "metadata": {
        "colab": {
          "base_uri": "https://localhost:8080/"
        },
        "id": "_3oC782YEl5y",
        "outputId": "fdfc2ad7-825b-4211-c993-621231f41ec5"
      },
      "execution_count": null,
      "outputs": [
        {
          "output_type": "stream",
          "name": "stdout",
          "text": [
            "11\n"
          ]
        }
      ]
    },
    {
      "cell_type": "code",
      "source": [
        "lst=[1,2,1,4,5,8]\n",
        "x=0\n",
        "for i in lst:\n",
        "  x=x+i\n",
        "print(x)\n"
      ],
      "metadata": {
        "colab": {
          "base_uri": "https://localhost:8080/"
        },
        "id": "AbtjzePOFGMp",
        "outputId": "89b1d09c-b1e1-4a5b-bff2-c5a94ac19555"
      },
      "execution_count": null,
      "outputs": [
        {
          "output_type": "stream",
          "name": "stdout",
          "text": [
            "21\n"
          ]
        }
      ]
    },
    {
      "cell_type": "code",
      "source": [
        "ls=[2,1,2,4,3]\n",
        "ls1=[]\n",
        "for i in ls:\n",
        "  if i not in ls1:\n",
        "    ls1.append(i)\n",
        "print(ls1)"
      ],
      "metadata": {
        "colab": {
          "base_uri": "https://localhost:8080/"
        },
        "id": "IrN6i9rBFQcO",
        "outputId": "0f3f25df-5454-4fb6-e48a-c7b7a58edba7"
      },
      "execution_count": null,
      "outputs": [
        {
          "output_type": "stream",
          "name": "stdout",
          "text": [
            "[2, 1, 4, 3]\n"
          ]
        }
      ]
    },
    {
      "cell_type": "code",
      "source": [
        "l = {'x':500, 'y':5874, 'z': 560}\n",
        "ls=list(l.values())\n",
        "# print(ls)\n",
        "for i in range(len(ls)):\n",
        "  for j in range(len(ls)):\n",
        "    if ls[i]<ls[j]:\n",
        "      ls[i],ls[j]=ls[j],ls[i]\n",
        "\n",
        "print(ls)\n",
        "for k,v in l.items():\n",
        "\n"
      ],
      "metadata": {
        "colab": {
          "base_uri": "https://localhost:8080/"
        },
        "id": "xLN2PsasFqMc",
        "outputId": "c81b6548-883e-42bb-bb9c-c1d123161a08"
      },
      "execution_count": null,
      "outputs": [
        {
          "output_type": "stream",
          "name": "stdout",
          "text": [
            "[500, 5874, 560]\n",
            "[500, 560, 5874]\n"
          ]
        }
      ]
    },
    {
      "cell_type": "markdown",
      "source": [
        "#12/12/2023"
      ],
      "metadata": {
        "id": "OtUcQOyYcxcR"
      }
    },
    {
      "cell_type": "code",
      "source": [
        "x=[2,1,4,3,0]\n",
        "for i in range(len(x)):\n",
        "  for j in range(len(x)):\n",
        "    if x[i]<x[j]:\n",
        "      x[i],x[j]=x[j],x[i]\n",
        "print(x)"
      ],
      "metadata": {
        "id": "IZpBTtBFIKw_",
        "colab": {
          "base_uri": "https://localhost:8080/"
        },
        "outputId": "89dd5030-004f-4edd-e5eb-4469f66d6b54"
      },
      "execution_count": null,
      "outputs": [
        {
          "output_type": "stream",
          "name": "stdout",
          "text": [
            "[0, 1, 2, 3, 4]\n"
          ]
        }
      ]
    },
    {
      "cell_type": "code",
      "source": [
        "x=[2,1,2,1,3,5,3]\n",
        "y={}\n",
        "z=''\n",
        "for i in x:\n",
        "  if i in y:\n",
        "    y[i]+=1\n",
        "  else:\n",
        "    y[i]=1\n",
        "print(y)\n",
        "for k,v in y.items():\n",
        "  if v==1:\n",
        "    z=k\n",
        "    print(z)"
      ],
      "metadata": {
        "id": "ldvY7Ch5WuCu",
        "colab": {
          "base_uri": "https://localhost:8080/"
        },
        "outputId": "ba9ad737-ac10-4bad-bdfd-d8c702a48195"
      },
      "execution_count": null,
      "outputs": [
        {
          "output_type": "stream",
          "name": "stdout",
          "text": [
            "{2: 2, 1: 2, 3: 2, 5: 1}\n",
            "5\n"
          ]
        }
      ]
    },
    {
      "cell_type": "code",
      "source": [
        "x={'a':1,'b':12,'c':3,'d':4}\n",
        "y=0\n",
        "for i in x:\n",
        "  if x[i]>y:\n",
        "    y=x[i]\n",
        "print(y)\n"
      ],
      "metadata": {
        "colab": {
          "base_uri": "https://localhost:8080/"
        },
        "id": "evTFYGnQ53W1",
        "outputId": "40699341-9fa7-4c20-bb08-45a822f550e7"
      },
      "execution_count": null,
      "outputs": [
        {
          "output_type": "stream",
          "name": "stdout",
          "text": [
            "12\n"
          ]
        }
      ]
    },
    {
      "cell_type": "markdown",
      "source": [
        "##sort list of tuple"
      ],
      "metadata": {
        "id": "KzR1Kpk5h38G"
      }
    },
    {
      "cell_type": "code",
      "source": [
        "lst=[(2, 5), (1, 2), (4, 4), (2, 3), (2, 1)]\n",
        "for i in range(len(lst)):\n",
        "  for j in range(len(lst)):\n",
        "    if lst[i]<lst[j]:\n",
        "      lst[i],lst[j]=lst[j],lst[i]\n",
        "print(lst)\n"
      ],
      "metadata": {
        "id": "RbKj5TqzIdUc",
        "colab": {
          "base_uri": "https://localhost:8080/"
        },
        "outputId": "f31456b6-1db9-4160-a3e8-fe90dc7bb058"
      },
      "execution_count": null,
      "outputs": [
        {
          "output_type": "stream",
          "name": "stdout",
          "text": [
            "[(1, 2), (2, 1), (2, 3), (2, 5), (4, 4)]\n"
          ]
        }
      ]
    },
    {
      "cell_type": "code",
      "source": [
        "a = [10, 20, 30, 20, 10, 50, 60, 40, 80, 50, 40]\n",
        "b=[]\n",
        "for i in a:\n",
        "  if i not in b:\n",
        "    b.append(i)\n",
        "print(b)"
      ],
      "metadata": {
        "colab": {
          "base_uri": "https://localhost:8080/"
        },
        "id": "4xtMqFf7hvXE",
        "outputId": "8d380e76-f2d6-4fed-8281-03f9e88612fb"
      },
      "execution_count": null,
      "outputs": [
        {
          "output_type": "stream",
          "name": "stdout",
          "text": [
            "[10, 20, 30, 50, 60, 40, 80]\n"
          ]
        }
      ]
    },
    {
      "cell_type": "markdown",
      "source": [
        "#13/12/2023"
      ],
      "metadata": {
        "id": "ZQueoEZ6iShD"
      }
    },
    {
      "cell_type": "code",
      "source": [
        "num = [3, 5, 7, 9, 23, 15]\n",
        "for i in range(len(num)):\n",
        "    if num[i] % 5 == 0:\n",
        "        print(num[i], end=' ')\n",
        "    else:\n",
        "        pass"
      ],
      "metadata": {
        "colab": {
          "base_uri": "https://localhost:8080/"
        },
        "id": "tcxqcxzhiO8P",
        "outputId": "74ff1f52-2383-4c75-aa40-e8a6e5dea4b7"
      },
      "execution_count": null,
      "outputs": [
        {
          "output_type": "stream",
          "name": "stdout",
          "text": [
            "5 15 "
          ]
        }
      ]
    },
    {
      "cell_type": "code",
      "source": [
        "num = [2,3,4,5,2,6,3,2]\n",
        "x = []\n",
        "for i in range(len(num)):\n",
        "    if num[i] not in x:\n",
        "        x.append(num[i])\n",
        "    else:\n",
        "        pass\n",
        "\n",
        "print(x)"
      ],
      "metadata": {
        "colab": {
          "base_uri": "https://localhost:8080/"
        },
        "id": "GMJ8dMRIk_ai",
        "outputId": "712d9254-6a52-4da1-f21d-094f3dc8571a"
      },
      "execution_count": null,
      "outputs": [
        {
          "output_type": "stream",
          "name": "stdout",
          "text": [
            "[2, 3, 4, 5, 6]\n"
          ]
        }
      ]
    },
    {
      "cell_type": "code",
      "source": [
        "dict1 = {'key 1': 200, 'key 2': 300}\n",
        "x = []\n",
        "for i in dict1.values():\n",
        "    x.append(i)\n",
        "\n",
        "print(sum(x))"
      ],
      "metadata": {
        "colab": {
          "base_uri": "https://localhost:8080/"
        },
        "id": "8zHswOfr19WD",
        "outputId": "1ebe71c5-e98a-4c13-e391-540bfe3631d1"
      },
      "execution_count": null,
      "outputs": [
        {
          "output_type": "stream",
          "name": "stdout",
          "text": [
            "500\n"
          ]
        }
      ]
    },
    {
      "cell_type": "code",
      "source": [
        "\n",
        "num = [2,3,4,5,2,6,3,2]\n",
        "x = []\n",
        "for i in range(len(num)):\n",
        "    if num[i] not in x:\n",
        "        x.append(num[i])\n",
        "    else:\n",
        "        pass\n",
        "\n",
        "print(x)"
      ],
      "metadata": {
        "colab": {
          "base_uri": "https://localhost:8080/"
        },
        "id": "R-0gDnvn2gPF",
        "outputId": "426159f9-21ef-4f6f-f95e-73a18dcd2e57"
      },
      "execution_count": null,
      "outputs": [
        {
          "output_type": "stream",
          "name": "stdout",
          "text": [
            "[2, 3, 4, 5, 6]\n"
          ]
        }
      ]
    },
    {
      "cell_type": "code",
      "source": [],
      "metadata": {
        "id": "aOy0OvBT2nLI"
      },
      "execution_count": null,
      "outputs": []
    },
    {
      "cell_type": "markdown",
      "source": [
        "#15/12/2023"
      ],
      "metadata": {
        "id": "3GnL60TKzbrU"
      }
    },
    {
      "cell_type": "code",
      "source": [
        "x=range(5,50,10)\n",
        "my_list=list(x)\n",
        "print(my_list)"
      ],
      "metadata": {
        "colab": {
          "base_uri": "https://localhost:8080/"
        },
        "id": "e4HjEAjUzfzg",
        "outputId": "c4429f92-2857-435e-c42c-1ec7c1b7e0f0"
      },
      "execution_count": null,
      "outputs": [
        {
          "output_type": "stream",
          "name": "stdout",
          "text": [
            "[5, 15, 25, 35, 45]\n"
          ]
        }
      ]
    },
    {
      "cell_type": "code",
      "source": [
        "num = [23, 34, 'hello', 32, 56]\n",
        "count = 0\n",
        "for i in range(len(num)):\n",
        "    count += 1\n",
        "print(\"Total count of items are:\",count)\n",
        "\n"
      ],
      "metadata": {
        "colab": {
          "base_uri": "https://localhost:8080/"
        },
        "id": "yRAKNTg60BLN",
        "outputId": "63fead1a-6dfa-4e1c-a61c-17dc819c5bde"
      },
      "execution_count": null,
      "outputs": [
        {
          "output_type": "stream",
          "name": "stdout",
          "text": [
            "Total count of items are: 5\n"
          ]
        }
      ]
    },
    {
      "cell_type": "code",
      "source": [
        "num = [23, 34, 'hello', 32, 56]\n",
        "count = 0\n",
        "for i in range(len(num)):\n",
        "    count += 1\n",
        "    # Approach 2\n",
        "print(\"Total count of items are:\",len(num))"
      ],
      "metadata": {
        "colab": {
          "base_uri": "https://localhost:8080/"
        },
        "id": "a13kGZsD0Z-T",
        "outputId": "2c751d0a-a6a3-4d4a-9077-2a975e7ed4ef"
      },
      "execution_count": null,
      "outputs": [
        {
          "output_type": "stream",
          "name": "stdout",
          "text": [
            "Total count of items are: 5\n"
          ]
        }
      ]
    },
    {
      "cell_type": "code",
      "source": [
        "num = [2, 3, 4, 5, 6]\n",
        "\n",
        "for i in range(len(num)):\n",
        "    x = num[i]*num[i]\n",
        "    print(x, end=' ')"
      ],
      "metadata": {
        "colab": {
          "base_uri": "https://localhost:8080/"
        },
        "id": "SuoRDGNP0wRH",
        "outputId": "8593f43d-8541-43c0-c63a-e5953bad2f1c"
      },
      "execution_count": null,
      "outputs": [
        {
          "output_type": "stream",
          "name": "stdout",
          "text": [
            "4 9 16 25 36 "
          ]
        }
      ]
    },
    {
      "cell_type": "code",
      "source": [
        "num = [\"Hello\", 34, 45, '', 40]\n",
        "while(\"\" in num):\n",
        "    num.remove(\"\")\n",
        "\n",
        "print(num)"
      ],
      "metadata": {
        "colab": {
          "base_uri": "https://localhost:8080/"
        },
        "id": "Obt04aa51Cxb",
        "outputId": "509de31f-329a-480f-a08a-cefdea52061b"
      },
      "execution_count": null,
      "outputs": [
        {
          "output_type": "stream",
          "name": "stdout",
          "text": [
            "['Hello', 34, 45, 40]\n"
          ]
        }
      ]
    },
    {
      "cell_type": "code",
      "source": [
        "list1 = [23, 24, 25, 26]\n",
        "list2 = [27, 28, 29, 30]\n",
        "\n",
        "for i in range(len(list2)):\n",
        "    list1.append(list2[i])\n",
        "\n",
        "print(list1)"
      ],
      "metadata": {
        "colab": {
          "base_uri": "https://localhost:8080/"
        },
        "id": "4DDvRQUt1Gfe",
        "outputId": "64031c68-4fd0-4332-8511-7a8b27f11db6"
      },
      "execution_count": null,
      "outputs": [
        {
          "output_type": "stream",
          "name": "stdout",
          "text": [
            "[23, 24, 25, 26, 27, 28, 29, 30]\n"
          ]
        }
      ]
    },
    {
      "cell_type": "markdown",
      "source": [
        "#16/12/2023"
      ],
      "metadata": {
        "id": "p4I_BSxBt_Fl"
      }
    },
    {
      "cell_type": "code",
      "source": [
        "key = ['Fruit', 'Vegetable']\n",
        "value = ['Mango','Tomato']\n",
        "z={}\n",
        "for i in range(len(key)):\n",
        "  z[key[i]]=value[i]\n",
        "\n",
        "print(z)"
      ],
      "metadata": {
        "id": "KB4XZcEs1ptR",
        "colab": {
          "base_uri": "https://localhost:8080/"
        },
        "outputId": "fe152c6f-c6c7-451a-d9bb-2d3590db6373"
      },
      "execution_count": null,
      "outputs": [
        {
          "output_type": "stream",
          "name": "stdout",
          "text": [
            "{'Fruit': 'Mango', 'Vegetable': 'Tomato'}\n"
          ]
        }
      ]
    },
    {
      "cell_type": "code",
      "source": [
        "key = ['Fruit', 'Vegetable']\n",
        "value = ['Mango','Tomato']\n",
        "res=dict(zip(key,value))\n",
        "print(res)"
      ],
      "metadata": {
        "colab": {
          "base_uri": "https://localhost:8080/"
        },
        "id": "xVLKYJQs2YiY",
        "outputId": "991f30ee-ed50-4c92-d31d-987f8e290be0"
      },
      "execution_count": null,
      "outputs": [
        {
          "output_type": "stream",
          "name": "stdout",
          "text": [
            "{'Fruit': 'Mango', 'Vegetable': 'Tomato'}\n"
          ]
        }
      ]
    },
    {
      "cell_type": "code",
      "source": [
        "key = ['Fruit', 'Vegetable']\n",
        "value = ['Mango','Tomato']\n",
        "z={}\n",
        "for i in key:\n",
        "  for j in value:\n",
        "    z[i]=value\n",
        "print(z)"
      ],
      "metadata": {
        "colab": {
          "base_uri": "https://localhost:8080/"
        },
        "id": "6F45cXdk69s7",
        "outputId": "ae3d815b-08a7-4713-b90c-a643849c3a93"
      },
      "execution_count": null,
      "outputs": [
        {
          "output_type": "stream",
          "name": "stdout",
          "text": [
            "{'Fruit': ['Mango', 'Tomato'], 'Vegetable': ['Mango', 'Tomato']}\n"
          ]
        }
      ]
    },
    {
      "cell_type": "code",
      "source": [
        "x=10\n",
        "y=20\n",
        "\n",
        "if x<y:\n",
        "  print('greater',y)\n",
        "else:\n",
        "  print('lower',x)\n"
      ],
      "metadata": {
        "colab": {
          "base_uri": "https://localhost:8080/"
        },
        "id": "CQsr4VwEyZl8",
        "outputId": "9b3151c6-7af4-48fc-a588-8badfd35de4d"
      },
      "execution_count": null,
      "outputs": [
        {
          "output_type": "stream",
          "name": "stdout",
          "text": [
            "greater 20\n"
          ]
        }
      ]
    },
    {
      "cell_type": "markdown",
      "source": [
        "##convert a list of dictionaries to a single dictionary"
      ],
      "metadata": {
        "id": "3v7ZXRsw2RWP"
      }
    },
    {
      "cell_type": "code",
      "source": [
        "l1=[{1:'a',2:'b'},{3:'c',4:'d'}]\n",
        "d1={}\n",
        "for i in l1:\n",
        "  d1.update(i)\n",
        "print(d1)"
      ],
      "metadata": {
        "colab": {
          "base_uri": "https://localhost:8080/"
        },
        "id": "CIOIQF7VxSY4",
        "outputId": "b88e0cdc-424a-4b06-f4f5-386f1ecc626f"
      },
      "execution_count": null,
      "outputs": [
        {
          "output_type": "stream",
          "name": "stdout",
          "text": [
            "{1: 'a', 2: 'b', 3: 'c', 4: 'd'}\n"
          ]
        }
      ]
    },
    {
      "cell_type": "code",
      "source": [
        "l1=[{1:'a',2:'b'},{3:'c',4:'d'}]\n",
        "d1={**l1[0], **l1[1]}\n",
        "print(d1)\n"
      ],
      "metadata": {
        "colab": {
          "base_uri": "https://localhost:8080/"
        },
        "id": "ZHCpIj0d0wQm",
        "outputId": "738ae3d2-efe9-4be9-b0cd-05287327bfae"
      },
      "execution_count": null,
      "outputs": [
        {
          "output_type": "stream",
          "name": "stdout",
          "text": [
            "{1: 'a', 2: 'b', 3: 'c', 4: 'd'}\n"
          ]
        }
      ]
    },
    {
      "cell_type": "code",
      "source": [
        "lst = [\n",
        "   {'name':'rohan','location':'l1'},\n",
        "    {'name':'mohan','location':'l2'},\n",
        "    {'name':'nitin','location':'l1'},\n",
        "   {'name':'arjun','location':'l3'},\n",
        "    {'name':'mohit','location':'l2'}\n",
        "]\n",
        "# output = {\n",
        "#     'l1':[\n",
        "#         {'name':'rohan','location':'l1'},\n",
        "#         {'name':'nitin','location':'l1'}\n",
        "#     ]\n"
      ],
      "metadata": {
        "id": "-T2Bqf9k08CL"
      },
      "execution_count": null,
      "outputs": []
    },
    {
      "cell_type": "code",
      "source": [
        "# Output: [(1, 1), (2, 8), (3, 27)]\n",
        "lst = [1, 2, 3]\n",
        "res=[(x,x**3)for x in lst]\n",
        "print(res)"
      ],
      "metadata": {
        "colab": {
          "base_uri": "https://localhost:8080/"
        },
        "id": "aSEMPMh41cvL",
        "outputId": "6742f9cb-c176-4e11-9cbe-968cbcefdc17"
      },
      "execution_count": null,
      "outputs": [
        {
          "output_type": "stream",
          "name": "stdout",
          "text": [
            "[(1, 1), (2, 8), (3, 27)]\n"
          ]
        }
      ]
    },
    {
      "cell_type": "markdown",
      "source": [
        "#18/12/2023"
      ],
      "metadata": {
        "id": "l2hY9kVnw_Cs"
      }
    },
    {
      "cell_type": "code",
      "source": [
        "dt={'w': 1, '3': 1, 'r': 2, 'e': 2, 's': 1, 'o': 1, 'u': 1, 'c': 1}\n",
        "dt1=0\n",
        "for i in dt:\n",
        "  if dt[i]>dt1:\n",
        "    dt1=dt[i]\n",
        "print(dt1)\n"
      ],
      "metadata": {
        "id": "xQcvx9Xu8FCv",
        "colab": {
          "base_uri": "https://localhost:8080/"
        },
        "outputId": "2642812a-26a9-4f36-e7e0-f625d084b121"
      },
      "execution_count": null,
      "outputs": [
        {
          "output_type": "stream",
          "name": "stdout",
          "text": [
            "2\n"
          ]
        }
      ]
    },
    {
      "cell_type": "code",
      "source": [
        "dt = {'ajay': 300, 'bushan': 200, 'danish':400}\n",
        "dt1=0\n",
        "dt2=None\n",
        "for k,v in dt.items():\n",
        "  if v>dt1:\n",
        "    dt1=v\n",
        "    dt2=k\n",
        "print(dt2,dt1)\n"
      ],
      "metadata": {
        "id": "dHWlhEhCIryj",
        "colab": {
          "base_uri": "https://localhost:8080/"
        },
        "outputId": "c09b382d-6c4e-4669-9c67-7e74b4042c34"
      },
      "execution_count": null,
      "outputs": [
        {
          "output_type": "stream",
          "name": "stdout",
          "text": [
            "danish 400\n"
          ]
        }
      ]
    },
    {
      "cell_type": "markdown",
      "source": [
        "##Write a Python program to print all distinct values in a dictionary."
      ],
      "metadata": {
        "id": "CifEGKtFJxpK"
      }
    },
    {
      "cell_type": "code",
      "source": [
        "dt=[{\"V\":\"S001\"}, {\"V\": \"S002\"}, {\"VI\": \"S001\"}, {\"VI\": \"S005\"}, {\"VII\":\"S005\"}, {\"V\":\"S009\"},{\"VIII\":\"S007\"}]\n",
        "dt1=set()\n",
        "for item in dt:\n",
        "  for v in item.values():\n",
        "    if v not in dt1:\n",
        "      dt1.add(v)\n",
        "print('unique values',dt1)\n",
        "\n"
      ],
      "metadata": {
        "colab": {
          "base_uri": "https://localhost:8080/"
        },
        "id": "9bH5kRasGb_g",
        "outputId": "938773b5-ce9a-41c4-d0b1-b396353f7f41"
      },
      "execution_count": null,
      "outputs": [
        {
          "output_type": "stream",
          "name": "stdout",
          "text": [
            "unique values {'S009', 'S002', 'S007', 'S001', 'S005'}\n"
          ]
        }
      ]
    },
    {
      "cell_type": "code",
      "source": [
        "data={'Math':89, 'Physics':88, 'Chemistry':87}\n",
        "for i in data:\n",
        "  for j in data:\n",
        "    if data[i]<data[j]:\n",
        "      data[i],data[j]=data[j],data[i]\n",
        "print(data)\n",
        "\n"
      ],
      "metadata": {
        "colab": {
          "base_uri": "https://localhost:8080/"
        },
        "id": "ZZ4dkhtIHDWi",
        "outputId": "51788dad-475c-4329-e077-051046704fda"
      },
      "execution_count": null,
      "outputs": [
        {
          "output_type": "stream",
          "name": "stdout",
          "text": [
            "{'Math': 87, 'Physics': 88, 'Chemistry': 89}\n"
          ]
        }
      ]
    },
    {
      "cell_type": "code",
      "source": [
        "a=\"AACCdABbDDBs\"\n",
        "b={}\n",
        "z=[]\n",
        "# O/P:2A2C1d1A1B1b2D1B\n",
        "for i in a:\n",
        "  if i in b:\n",
        "    b[i]+=1\n",
        "  else:\n",
        "    b[i]=1\n",
        "print(b)\n",
        "for k,v in b.items():\n",
        "  if v==1:\n",
        "    z.append(k)\n",
        "print(''.join(z))"
      ],
      "metadata": {
        "colab": {
          "base_uri": "https://localhost:8080/"
        },
        "id": "rmL0iyQqIgC6",
        "outputId": "efe08070-dfa0-4b27-89e6-a343c2858f0b"
      },
      "execution_count": null,
      "outputs": [
        {
          "output_type": "stream",
          "name": "stdout",
          "text": [
            "{'A': 3, 'C': 2, 'd': 1, 'B': 2, 'b': 1, 'D': 2, 's': 1}\n",
            "dbs\n"
          ]
        }
      ]
    },
    {
      "cell_type": "code",
      "source": [
        "x = {'key1': 1, 'key2': 3, 'key3': 2}\n",
        "y = {'key1': 1, 'key2': 2}\n",
        "\n",
        "for key in x:\n",
        "    if key in y and x[key] == y[key]:\n",
        "        print(f\"{key}: {x[key]} is present in both x and y\")\n"
      ],
      "metadata": {
        "colab": {
          "base_uri": "https://localhost:8080/"
        },
        "id": "tVWJ0DNcLMq3",
        "outputId": "9c05aa12-be60-479f-94ac-0d7750b3dc44"
      },
      "execution_count": null,
      "outputs": [
        {
          "output_type": "stream",
          "name": "stdout",
          "text": [
            "key1: 1 is present in both x and y\n"
          ]
        }
      ]
    },
    {
      "cell_type": "markdown",
      "source": [
        "#19/12/2023"
      ],
      "metadata": {
        "id": "HZXDYeNENFxn"
      }
    },
    {
      "cell_type": "code",
      "source": [
        "number=input('enter any thing here')\n",
        "if number==number[::-1]:\n",
        "  print(number,'number is palandrome')\n",
        "else:\n",
        "  print(number,'number is not palandrome')"
      ],
      "metadata": {
        "id": "AJeguHmAFJI8",
        "colab": {
          "base_uri": "https://localhost:8080/"
        },
        "outputId": "96a85dfa-bb99-4f22-a269-463ccfe49410"
      },
      "execution_count": null,
      "outputs": [
        {
          "output_type": "stream",
          "name": "stdout",
          "text": [
            "enter any thing herenone\n",
            "none number is not palandrome\n"
          ]
        }
      ]
    },
    {
      "cell_type": "markdown",
      "source": [
        "#2nd"
      ],
      "metadata": {
        "id": "19PO_9STTzlk"
      }
    },
    {
      "cell_type": "code",
      "source": [
        "x={'1':['a','b'],'2':['c','d']}\n",
        "for i in x['1']:\n",
        "  for j in x['2']:\n",
        "    z=i+j\n",
        "    print(z)"
      ],
      "metadata": {
        "colab": {
          "base_uri": "https://localhost:8080/"
        },
        "id": "3J5lDF8mOv6U",
        "outputId": "eef1825a-67fd-4b86-c717-f18983c7a539"
      },
      "execution_count": null,
      "outputs": [
        {
          "output_type": "stream",
          "name": "stdout",
          "text": [
            "ac\n",
            "ad\n",
            "bc\n",
            "bd\n"
          ]
        }
      ]
    },
    {
      "cell_type": "code",
      "source": [
        "x={'1':['a','b'],'2':['c','d']}\n",
        "out=[i+j for i in x ['1'] for j in x['2']]\n",
        "print(out)"
      ],
      "metadata": {
        "colab": {
          "base_uri": "https://localhost:8080/"
        },
        "id": "sHWGb8nfPFsP",
        "outputId": "3b783274-a8d8-40b5-aee1-d6230faadace"
      },
      "execution_count": null,
      "outputs": [
        {
          "output_type": "stream",
          "name": "stdout",
          "text": [
            "['ac', 'ad', 'bc', 'bd']\n"
          ]
        }
      ]
    },
    {
      "cell_type": "markdown",
      "source": [
        "##3.Reverse Words in a Given String in Python"
      ],
      "metadata": {
        "id": "hPGojC9WTw22"
      }
    },
    {
      "cell_type": "code",
      "source": [
        "st= \"geeks quiz practice code\"\n",
        "s=st.split()[::-1]\n",
        "l=[]\n",
        "for i in s:\n",
        "  l.append(i)\n",
        "print(' '.join(l))\n"
      ],
      "metadata": {
        "colab": {
          "base_uri": "https://localhost:8080/"
        },
        "id": "i6lN01mgRzds",
        "outputId": "32367ff1-ab12-45c9-d664-35a9cf141961"
      },
      "execution_count": null,
      "outputs": [
        {
          "output_type": "stream",
          "name": "stdout",
          "text": [
            "code practice quiz geeks\n"
          ]
        }
      ]
    },
    {
      "cell_type": "code",
      "source": [
        "st= \"geeks quiz practice code\"\n",
        "print(' '.join(reversed(st.split())))\n"
      ],
      "metadata": {
        "colab": {
          "base_uri": "https://localhost:8080/"
        },
        "id": "_EzU4c7oS22A",
        "outputId": "03f601af-b57a-4d23-87a4-1c47ff0bf5f6"
      },
      "execution_count": null,
      "outputs": [
        {
          "output_type": "stream",
          "name": "stdout",
          "text": [
            "code practice quiz geeks\n"
          ]
        }
      ]
    },
    {
      "cell_type": "markdown",
      "source": [
        "##4th.How to Remove Letters From a String in Python\n"
      ],
      "metadata": {
        "id": "OVCudjc6Ulfi"
      }
    },
    {
      "cell_type": "code",
      "source": [
        "st='coding practices on daily basis'\n",
        "res=''\n",
        "for i in range(len(st)):\n",
        "  if i !=15:\n",
        "    res=res+st[i]\n",
        "print('string after removal of character:',res)"
      ],
      "metadata": {
        "colab": {
          "base_uri": "https://localhost:8080/"
        },
        "id": "G4rMZqRIUKSc",
        "outputId": "fe95febb-88f8-47b1-8dde-2b2eb5da784e"
      },
      "execution_count": null,
      "outputs": [
        {
          "output_type": "stream",
          "name": "stdout",
          "text": [
            "string after removal of character: coding practice on daily basis\n"
          ]
        }
      ]
    },
    {
      "cell_type": "code",
      "source": [
        "st='coding practices on daily basis'\n",
        "new=st[:2]+st[5:]\n",
        "print(new)"
      ],
      "metadata": {
        "colab": {
          "base_uri": "https://localhost:8080/"
        },
        "id": "XI8Q8M2IU8_e",
        "outputId": "72816170-1ea0-491a-b63d-9a865eca1bb5"
      },
      "execution_count": null,
      "outputs": [
        {
          "output_type": "stream",
          "name": "stdout",
          "text": [
            "cog practices on daily basis\n"
          ]
        }
      ]
    },
    {
      "cell_type": "markdown",
      "source": [
        "##5th.put spaces between words starting with capital letters"
      ],
      "metadata": {
        "id": "a9ikloaCXuJ5"
      }
    },
    {
      "cell_type": "code",
      "source": [
        "st1= \"BruceWayneIsBatman\"\n",
        "st2=st1[0]\n",
        "for i in range(1,len(st1)):\n",
        "  if st1[i].isupper():\n",
        "    st2+='  '+st1[i].lower()\n",
        "  else:\n",
        "    st2+=st1[i]\n",
        "print(st2)\n",
        "\n"
      ],
      "metadata": {
        "colab": {
          "base_uri": "https://localhost:8080/"
        },
        "id": "tRpY2fszU9Es",
        "outputId": "7b8d29a1-9a15-4aee-c1f4-311bdf12a1fc"
      },
      "execution_count": null,
      "outputs": [
        {
          "output_type": "stream",
          "name": "stdout",
          "text": [
            "Bruce  wayne  is  batman\n"
          ]
        }
      ]
    },
    {
      "cell_type": "code",
      "source": [
        "st= \"BruceWayneIsBatman\"\n",
        "st1=st[0]\n",
        "for i in st[1:]:\n",
        "  if i.isupper():\n",
        "    st1+=' '+ i.lower()\n",
        "  else:\n",
        "    st1+=i\n",
        "print(st1)\n"
      ],
      "metadata": {
        "colab": {
          "base_uri": "https://localhost:8080/"
        },
        "id": "PIehHaA_Yu-i",
        "outputId": "2e80a67b-9e59-4e6d-e021-08e4152d9f42"
      },
      "execution_count": null,
      "outputs": [
        {
          "output_type": "stream",
          "name": "stdout",
          "text": [
            "Bruce wayne is batman\n"
          ]
        }
      ]
    },
    {
      "cell_type": "markdown",
      "source": [
        "#20/12/2023"
      ],
      "metadata": {
        "id": "0Pn3lcBSW093"
      }
    },
    {
      "cell_type": "code",
      "source": [
        "x=[\"g\",\"s\",\"best\"]\n",
        "y={\"g\":[5,6,7],\"s\":[7,4,2]}\n",
        "new=[]\n",
        "for i in x:\n",
        "  if i in y:\n",
        "    new.append(y[i][2])\n",
        "new.append(x[2])\n",
        "print(new)"
      ],
      "metadata": {
        "id": "4fXBr82fY5sx",
        "colab": {
          "base_uri": "https://localhost:8080/"
        },
        "outputId": "2d12c13e-dc52-4cad-8a84-980f7be25426"
      },
      "execution_count": null,
      "outputs": [
        {
          "output_type": "stream",
          "name": "stdout",
          "text": [
            "[7, 2, 'best']\n"
          ]
        }
      ]
    },
    {
      "cell_type": "code",
      "source": [
        "x=[1,2,3,4]\n",
        "y=[1,2,3,4,5]\n",
        "z=[]\n",
        "for i in y:\n",
        "  if i in x:\n",
        "    x.remove(i)\n",
        "print(y)\n"
      ],
      "metadata": {
        "id": "faeOciDfXU9P",
        "colab": {
          "base_uri": "https://localhost:8080/"
        },
        "outputId": "82137c49-1659-4eb1-d238-6af0f4c2b07c"
      },
      "execution_count": null,
      "outputs": [
        {
          "output_type": "stream",
          "name": "stdout",
          "text": [
            "[1, 2, 3, 4, 5]\n"
          ]
        }
      ]
    },
    {
      "cell_type": "code",
      "source": [
        "x={1: 'Geeks', 2: 'For', 3: 'Geeks'}\n",
        "del x[3]\n",
        "print(x)\n",
        "\n",
        "# 2nd approch\n",
        "\n",
        "x = {'Math': 81, 'Physics': 83, 'Chemistry': 87}\n",
        "ob=x.pop('Chemistry')\n",
        "print(x)"
      ],
      "metadata": {
        "id": "z1zU04Kkab23",
        "colab": {
          "base_uri": "https://localhost:8080/"
        },
        "outputId": "19ae32ed-1a16-489f-b655-c840e03dce29"
      },
      "execution_count": null,
      "outputs": [
        {
          "output_type": "stream",
          "name": "stdout",
          "text": [
            "{1: 'Geeks', 2: 'For'}\n",
            "{'Math': 81, 'Physics': 83}\n"
          ]
        }
      ]
    },
    {
      "cell_type": "code",
      "source": [
        "dict1 = {'c': 45, 'b': 95, 'a': 35}\n",
        "z={}\n",
        "x=list(dict1.values())\n",
        "# print(x)\n",
        "for i in range(len(x)):\n",
        "  for j in range(len(x)):\n",
        "    if x[i]<x[j]:\n",
        "      x[i],x[j]=x[j],x[i]\n",
        "# print(x)\n",
        "for i in x:\n",
        "  for key,value in dict1.items():\n",
        "    if value==i:\n",
        "      z[key]=value\n",
        "print(z)"
      ],
      "metadata": {
        "colab": {
          "base_uri": "https://localhost:8080/"
        },
        "id": "KC357FK0dnqn",
        "outputId": "4a10a17a-3020-4003-d63e-6b4cc64454b2"
      },
      "execution_count": null,
      "outputs": [
        {
          "output_type": "stream",
          "name": "stdout",
          "text": [
            "{'a': 35, 'c': 45, 'b': 95}\n"
          ]
        }
      ]
    },
    {
      "cell_type": "code",
      "source": [
        "dict1 = {'c': 45, 'b': 95, 'a': 35}\n",
        "z={}\n",
        "x=list(dict1.keys())\n",
        "# print(x)\n",
        "for i in range(len(x)):\n",
        "  for j in range(len(x)):\n",
        "    if x[i]<x[j]:\n",
        "      x[i],x[j]=x[j],x[i]\n",
        "# print(x)\n",
        "for i in x:\n",
        "  z[i]=dict1[i]\n",
        "print(z)"
      ],
      "metadata": {
        "colab": {
          "base_uri": "https://localhost:8080/"
        },
        "id": "qaQqR96Oeo77",
        "outputId": "c111ef3f-bef3-46ac-c264-56a2185811df"
      },
      "execution_count": null,
      "outputs": [
        {
          "output_type": "stream",
          "name": "stdout",
          "text": [
            "{'a': 35, 'b': 95, 'c': 45}\n"
          ]
        }
      ]
    },
    {
      "cell_type": "markdown",
      "source": [
        "#21/12/2023 Thursday"
      ],
      "metadata": {
        "id": "QVaj0wTSnJZf"
      }
    },
    {
      "cell_type": "code",
      "source": [
        "x=[2,1,2,1,5]\n",
        "y={}\n",
        "z=''\n",
        "for i in x:\n",
        "  if i in y:\n",
        "    y[i]+=1\n",
        "  else:\n",
        "    y[i]=1\n",
        "# print(y)\n",
        "for k,v in y.items():\n",
        "  if v==1:\n",
        "    z=k\n",
        "    print(z)\n"
      ],
      "metadata": {
        "id": "a4QGw8NBoAZq",
        "colab": {
          "base_uri": "https://localhost:8080/"
        },
        "outputId": "5ef6f9d8-94a3-4ed1-b325-30c028c8c084"
      },
      "execution_count": null,
      "outputs": [
        {
          "output_type": "stream",
          "name": "stdout",
          "text": [
            "5\n"
          ]
        }
      ]
    },
    {
      "cell_type": "markdown",
      "source": [
        "##Write a Python program to change the position of every n-th value to the (n+1)th in a list.\n",
        "\n"
      ],
      "metadata": {
        "id": "yL2fupNCyanR"
      }
    },
    {
      "cell_type": "code",
      "source": [
        "x=[2,1,3,4,5,6]\n",
        "for i in range(0,len(x),2):\n",
        "  x[i],x[i+1]=x[i+1],x[i]\n",
        "print(x)"
      ],
      "metadata": {
        "colab": {
          "base_uri": "https://localhost:8080/"
        },
        "id": "ceZYKEFqnh6-",
        "outputId": "f81372f8-e6f0-480d-fc44-cdd0df10157a"
      },
      "execution_count": null,
      "outputs": [
        {
          "output_type": "stream",
          "name": "stdout",
          "text": [
            "[1, 2, 4, 3, 6, 5]\n"
          ]
        }
      ]
    },
    {
      "cell_type": "code",
      "source": [
        "lst= [0,1,2,3,4,5]\n",
        "for i in range(0,len(lst),2):\n",
        "  lst[i],lst[i+1]=lst[i+1],lst[i]\n",
        "print(lst)\n"
      ],
      "metadata": {
        "colab": {
          "base_uri": "https://localhost:8080/"
        },
        "id": "tEAObu8eyFb3",
        "outputId": "00fe45f2-f66e-4839-84be-32cde55c5d02"
      },
      "execution_count": null,
      "outputs": [
        {
          "output_type": "stream",
          "name": "stdout",
          "text": [
            "[1, 0, 3, 2, 5, 4]\n"
          ]
        }
      ]
    },
    {
      "cell_type": "code",
      "source": [
        "x=[2,1,3,4,5,6,9]\n",
        "for i in range(0,len(x),2):\n",
        "  if i+1<len(x):\n",
        "    x[i],x[i+1]=x[i+1],x[i]\n",
        "print(x)\n"
      ],
      "metadata": {
        "colab": {
          "base_uri": "https://localhost:8080/"
        },
        "id": "WnRKxkaToHLJ",
        "outputId": "1e2ef617-614c-4ff8-f94f-6c739160ed8c"
      },
      "execution_count": null,
      "outputs": [
        {
          "output_type": "stream",
          "name": "stdout",
          "text": [
            "[1, 2, 4, 3, 6, 5, 9]\n"
          ]
        }
      ]
    },
    {
      "cell_type": "markdown",
      "source": [
        "##Write a Python program to print the numbers of a specified list after removing even numbers from it.\n",
        "\n",
        "\n"
      ],
      "metadata": {
        "id": "hTpsKmbCt2OG"
      }
    },
    {
      "cell_type": "code",
      "source": [
        "num = [7, 8, 120, 25, 44, 20, 27]\n",
        "num=[x for x in num  if x%2 !=0]\n",
        "print(num)"
      ],
      "metadata": {
        "colab": {
          "base_uri": "https://localhost:8080/"
        },
        "id": "BQv4AN8roVb_",
        "outputId": "737cbd18-50f9-460f-889a-046672d7b903"
      },
      "execution_count": null,
      "outputs": [
        {
          "output_type": "stream",
          "name": "stdout",
          "text": [
            "[7, 25, 27]\n"
          ]
        }
      ]
    },
    {
      "cell_type": "markdown",
      "source": [
        "## sort dictionary by keys"
      ],
      "metadata": {
        "id": "uqMPiFIt5dOq"
      }
    },
    {
      "cell_type": "code",
      "source": [
        "dt={'ravi': 10, 'rajnish': 9, 'sanjeev': 15, 'yash': 2, 'suraj': 32}\n",
        "z={}\n",
        "x=list(dt.keys())\n",
        "# print(x)\n",
        "for i in range(len(x)):\n",
        "  for j in range(len(x)):\n",
        "    if x[i]<x[j]:\n",
        "      x[i],x[j]=x[j],x[i]\n",
        "# print(x)\n",
        "for i in x:\n",
        "  z[i]=dt[i]\n",
        "print(z)\n",
        "\n"
      ],
      "metadata": {
        "colab": {
          "base_uri": "https://localhost:8080/"
        },
        "id": "0Y4DEwB-ti-d",
        "outputId": "13fc00ae-9634-437f-9c66-50f6280f87a7"
      },
      "execution_count": null,
      "outputs": [
        {
          "output_type": "stream",
          "name": "stdout",
          "text": [
            "{'rajnish': 9, 'ravi': 10, 'sanjeev': 15, 'suraj': 32, 'yash': 2}\n"
          ]
        }
      ]
    },
    {
      "cell_type": "markdown",
      "source": [
        "## sort dictinary based on values"
      ],
      "metadata": {
        "id": "mHyk8u939fYw"
      }
    },
    {
      "cell_type": "code",
      "source": [
        "dt={'ravi': 10, 'rajnish': 9, 'sanjeev': 15, 'yash': 2, 'suraj': 32}\n",
        "for i in dt:\n",
        "  for j in dt:\n",
        "    if dt[i]<dt[j]:\n",
        "      dt[i],dt[j]=dt[j],dt[i]\n",
        "print(dt)"
      ],
      "metadata": {
        "colab": {
          "base_uri": "https://localhost:8080/"
        },
        "id": "TeARipuNvtYI",
        "outputId": "7cba7980-083e-4a1b-80ba-0d933a554f1d"
      },
      "execution_count": null,
      "outputs": [
        {
          "output_type": "stream",
          "name": "stdout",
          "text": [
            "{'ravi': 2, 'rajnish': 9, 'sanjeev': 10, 'yash': 15, 'suraj': 32}\n"
          ]
        }
      ]
    },
    {
      "cell_type": "markdown",
      "source": [
        "#22/12/2023 Friday"
      ],
      "metadata": {
        "id": "FO8-ltnVoQkd"
      }
    },
    {
      "cell_type": "markdown",
      "source": [
        "##find the student with the highest marks"
      ],
      "metadata": {
        "id": "F7cPxcJsi84d"
      }
    },
    {
      "cell_type": "code",
      "source": [
        "students = [{\"name\": \"Alice\", \"marks\": 85},{\"name\": \"Bob\", \"marks\": 70},{\"name\": \"Charlie\", \"marks\": 95},{\"name\": \"David\", \"marks\": 80},{\"name\": \"Eva\", \"marks\": 90}]\n",
        "high = 0\n",
        "st = None\n",
        "for student in students:\n",
        "    marks = student[\"marks\"]\n",
        "    if marks > high:\n",
        "        high = marks\n",
        "        st = student[\"name\"]\n",
        "\n",
        "print(f\"The student with the highest marks is {st} with {high} marks.\")"
      ],
      "metadata": {
        "colab": {
          "base_uri": "https://localhost:8080/"
        },
        "id": "lmKE9vbf9bLh",
        "outputId": "e968bd58-f76c-40cf-819c-ec73091bbff6"
      },
      "execution_count": null,
      "outputs": [
        {
          "output_type": "stream",
          "name": "stdout",
          "text": [
            "The student with the highest marks is Charlie with 95 marks.\n"
          ]
        }
      ]
    },
    {
      "cell_type": "markdown",
      "source": [
        "##replace place"
      ],
      "metadata": {
        "id": "90jbH-lS_NRd"
      }
    },
    {
      "cell_type": "code",
      "source": [
        "l=[1,2,3,4]\n",
        "for i in range(1,len(l),2):\n",
        "  l[i],l[i-1]=l[i-1],l[i]\n",
        "print(l)"
      ],
      "metadata": {
        "colab": {
          "base_uri": "https://localhost:8080/"
        },
        "id": "Fl2sMCRXiZPh",
        "outputId": "c73b710e-b1df-4166-b18d-5646b1fd0fda"
      },
      "execution_count": null,
      "outputs": [
        {
          "output_type": "stream",
          "name": "stdout",
          "text": [
            "[2, 1, 4, 3]\n"
          ]
        }
      ]
    },
    {
      "cell_type": "code",
      "source": [
        "l=[1,2,3,4]\n",
        "for i in range(0,len(l),2):\n",
        "  l[i],l[i+1]=l[i+1],l[i]\n",
        "print(l)\n"
      ],
      "metadata": {
        "colab": {
          "base_uri": "https://localhost:8080/"
        },
        "id": "_ObAvS8avo-5",
        "outputId": "09c34b52-492a-4612-e852-e6561cd229c1"
      },
      "execution_count": null,
      "outputs": [
        {
          "output_type": "stream",
          "name": "stdout",
          "text": [
            "[2, 1, 4, 3]\n"
          ]
        }
      ]
    },
    {
      "cell_type": "markdown",
      "source": [
        "##Write a Python program to remove duplicates from a list of lists."
      ],
      "metadata": {
        "id": "8PCeQthmu4Yj"
      }
    },
    {
      "cell_type": "code",
      "source": [
        "l=[[10, 20], [40], [30, 56, 25], [10, 20], [33], [40]]\n",
        "l1=[]\n",
        "for i in l:\n",
        "  if i not in l1:\n",
        "    l1.append(i)\n",
        "print(l1)\n"
      ],
      "metadata": {
        "id": "jFzlWpfijsZR",
        "colab": {
          "base_uri": "https://localhost:8080/"
        },
        "outputId": "a1798754-351c-4d8d-f704-71b9e1533738"
      },
      "execution_count": null,
      "outputs": [
        {
          "output_type": "stream",
          "name": "stdout",
          "text": [
            "[[10, 20], [40], [30, 56, 25], [33]]\n"
          ]
        }
      ]
    },
    {
      "cell_type": "code",
      "source": [
        "l=[[10, 20], [40], [30, 56, 25], [10, 20], [33], [40]]\n",
        "l2=[]\n",
        "new=set()\n",
        "for i in l:\n",
        "  res=tuple(i)\n",
        "  if res not in new:\n",
        "    l2.append(i)\n",
        "    new.add(res)\n",
        "print(l2)\n"
      ],
      "metadata": {
        "colab": {
          "base_uri": "https://localhost:8080/"
        },
        "id": "AThL-s_NtnDQ",
        "outputId": "893e4148-9d3c-4bee-ee0b-245f449fa667"
      },
      "execution_count": null,
      "outputs": [
        {
          "output_type": "stream",
          "name": "stdout",
          "text": [
            "[[10, 20], [40], [30, 56, 25], [33]]\n"
          ]
        }
      ]
    },
    {
      "cell_type": "code",
      "source": [
        "l = [[10, 20], [40], [30, 56, 25], [10, 20], [33], [40]]\n",
        "l2=[]\n",
        "new=[]\n",
        "for i in l:\n",
        "  if i not in new:\n",
        "    l2.append(i)\n",
        "    new.append(i)\n",
        "print(l2)"
      ],
      "metadata": {
        "colab": {
          "base_uri": "https://localhost:8080/"
        },
        "id": "qHVd9cElvGoj",
        "outputId": "a8c307ae-16a4-499e-8ac5-96d4c2c89301"
      },
      "execution_count": null,
      "outputs": [
        {
          "output_type": "stream",
          "name": "stdout",
          "text": [
            "[[10, 20], [40], [30, 56, 25], [33]]\n"
          ]
        }
      ]
    },
    {
      "cell_type": "code",
      "source": [
        "# lst=[0, 10, [20, 30], 40, 50, [60, 70, 80], [90, 100, 110, 120]]"
      ],
      "metadata": {
        "id": "Eh5efgNhuRod"
      },
      "execution_count": null,
      "outputs": []
    },
    {
      "cell_type": "code",
      "source": [
        "a=[[1, 3], [5, 7], [9, 11]]\n",
        "b=[[2, 4], [6, 8], [10, 12, 14]]\n",
        "print(list(zip(a,b)))"
      ],
      "metadata": {
        "colab": {
          "base_uri": "https://localhost:8080/"
        },
        "id": "JZLYd6o6vBD7",
        "outputId": "cf8a4cf0-a253-4584-c313-6b7340c08f8c"
      },
      "execution_count": null,
      "outputs": [
        {
          "output_type": "stream",
          "name": "stdout",
          "text": [
            "[([1, 3], [2, 4]), ([5, 7], [6, 8]), ([9, 11], [10, 12, 14])]\n"
          ]
        }
      ]
    },
    {
      "cell_type": "markdown",
      "source": [
        "#23/12/2023"
      ],
      "metadata": {
        "id": "PGxN0XWFCb8f"
      }
    },
    {
      "cell_type": "markdown",
      "source": [
        "##Insertion Sort list"
      ],
      "metadata": {
        "id": "YQFthshX-pbe"
      }
    },
    {
      "cell_type": "code",
      "source": [
        "list1 = [6, 5, 4, 3, 2, 1]\n",
        "for j in range (1, len(list1)):\n",
        "    while list1[j-1] > list1[j] and j > 0:\n",
        "        list1[j-1], list1[j] = list1[j], list1[j-1]\n",
        "        j -= 1\n",
        "print(list1)"
      ],
      "metadata": {
        "colab": {
          "base_uri": "https://localhost:8080/"
        },
        "id": "0rHhmSQCwXDR",
        "outputId": "8a5827d6-2faa-435c-cc85-7b9fbc84de82"
      },
      "execution_count": null,
      "outputs": [
        {
          "output_type": "stream",
          "name": "stdout",
          "text": [
            "[1, 2, 3, 4, 5, 6]\n"
          ]
        }
      ]
    },
    {
      "cell_type": "code",
      "source": [
        "lst=[7,5,3,4,1]\n",
        "new=[]\n",
        "while lst:\n",
        "  min=lst[0]\n",
        "  for x in lst:\n",
        "    if x<min:\n",
        "      min=x\n",
        "  new.append(min)\n",
        "  lst.remove(min)\n",
        "print(new)"
      ],
      "metadata": {
        "colab": {
          "base_uri": "https://localhost:8080/"
        },
        "id": "6AHXSSAB-u0b",
        "outputId": "ba9c7a70-ddac-4837-8944-32c5feba3ca0"
      },
      "execution_count": null,
      "outputs": [
        {
          "output_type": "stream",
          "name": "stdout",
          "text": [
            "[1, 3, 4, 5, 7]\n"
          ]
        }
      ]
    },
    {
      "cell_type": "code",
      "source": [
        "list1 = ['p', 'q']\n",
        "\n",
        "list2 = []\n",
        "\n",
        "for i in range(1,4):\n",
        "    for j in list1:\n",
        "        str1 = j + str(i)\n",
        "        list2.append(str1)\n",
        "print(list2)"
      ],
      "metadata": {
        "colab": {
          "base_uri": "https://localhost:8080/"
        },
        "id": "C9jaFbjM_ITb",
        "outputId": "80c5e9dc-4613-4ed6-ed9e-561158c1234d"
      },
      "execution_count": null,
      "outputs": [
        {
          "output_type": "stream",
          "name": "stdout",
          "text": [
            "['p1', 'q1', 'p2', 'q2', 'p3', 'q3']\n"
          ]
        }
      ]
    },
    {
      "cell_type": "code",
      "source": [
        "a = input(\"Enter String:\\n\")\n",
        "b = a[::-1]\n",
        "if a==b:\n",
        "    print(\"Palindrome string\")\n",
        "else:\n",
        "    print(\"Not palindrome string\")\n"
      ],
      "metadata": {
        "colab": {
          "base_uri": "https://localhost:8080/"
        },
        "id": "Mg0zrs3Q_rzB",
        "outputId": "21880da9-2d1c-4e8e-afb3-4be249f9ffd8"
      },
      "execution_count": null,
      "outputs": [
        {
          "output_type": "stream",
          "name": "stdout",
          "text": [
            "Enter String:\n",
            "madam\n",
            "Palindrome string\n"
          ]
        }
      ]
    },
    {
      "cell_type": "markdown",
      "source": [
        "## Write a Python program to print all unique values in a dictionary.\n"
      ],
      "metadata": {
        "id": "0mVYpzgJBuLA"
      }
    },
    {
      "cell_type": "code",
      "source": [
        "dict_1 = [{'V':'S001'}, {'V':'S002'},{'VI':'S001'}, {'VI':'S005'}, {'VII':'S005'}, {'V':'S009'}, {'VII':'S007'}]\n",
        "un=set(x for i in dict_1 for x in i.values())\n",
        "print('unique values',un)"
      ],
      "metadata": {
        "colab": {
          "base_uri": "https://localhost:8080/"
        },
        "id": "6waFjxEiBFdU",
        "outputId": "0253dbae-e97a-4b2a-f511-0eafa747654d"
      },
      "execution_count": null,
      "outputs": [
        {
          "output_type": "stream",
          "name": "stdout",
          "text": [
            "unique values {'S007', 'S002', 'S009', 'S005', 'S001'}\n"
          ]
        }
      ]
    },
    {
      "cell_type": "code",
      "source": [
        "dict_1 = [{'V':'S001'}, {'V':'S002'},{'VI':'S001'}, {'VI':'S005'}, {'VII':'S005'}, {'V':'S009'}, {'VII':'S007'}]\n",
        "b=set()\n",
        "for i in dict_1:\n",
        "  for j in i.values():\n",
        "    b.add(j)\n",
        "print(b)\n"
      ],
      "metadata": {
        "colab": {
          "base_uri": "https://localhost:8080/"
        },
        "id": "kBFlo6foBRYl",
        "outputId": "bb9d9b86-e35f-4aec-fc5b-f72a1b2b5b38"
      },
      "execution_count": null,
      "outputs": [
        {
          "output_type": "stream",
          "name": "stdout",
          "text": [
            "{'S007', 'S002', 'S009', 'S005', 'S001'}\n"
          ]
        }
      ]
    },
    {
      "cell_type": "code",
      "source": [
        "my_dict= {'1':['a', 'b'], '2':['c', 'd']}\n",
        "my_list= list(my_dict.values())\n",
        "for i in my_list[0]:\n",
        "    for j in my_list[1]:\n",
        "        print(i+j)"
      ],
      "metadata": {
        "colab": {
          "base_uri": "https://localhost:8080/"
        },
        "id": "PpbfehNEBpnC",
        "outputId": "6b8acc3c-96ea-4a16-d57f-ca138c70e00a"
      },
      "execution_count": null,
      "outputs": [
        {
          "output_type": "stream",
          "name": "stdout",
          "text": [
            "ac\n",
            "ad\n",
            "bc\n",
            "bd\n"
          ]
        }
      ]
    },
    {
      "cell_type": "code",
      "source": [
        "dt={'a':1,'b':2,'c':3}\n",
        "x=0\n",
        "for i in dt:\n",
        "  if dt[i]>x:\n",
        "    x=dt[i]\n",
        "print(x)\n"
      ],
      "metadata": {
        "id": "N5ACpM3vB8Hp",
        "colab": {
          "base_uri": "https://localhost:8080/"
        },
        "outputId": "94a21be0-8270-441f-bb0b-3a9fea220e54"
      },
      "execution_count": null,
      "outputs": [
        {
          "output_type": "stream",
          "name": "stdout",
          "text": [
            "3\n"
          ]
        }
      ]
    },
    {
      "cell_type": "markdown",
      "source": [
        "#25/12/2023"
      ],
      "metadata": {
        "id": "aFk2CPqSCmBz"
      }
    },
    {
      "cell_type": "code",
      "source": [
        "x={'a':12,'b':33,'c':11}\n",
        "y=0\n",
        "for i in x:\n",
        "  if x[i]>y:\n",
        "    y=x[i]\n",
        "print(y)\n"
      ],
      "metadata": {
        "id": "9e5jTVP_E4-l",
        "colab": {
          "base_uri": "https://localhost:8080/"
        },
        "outputId": "0b54341b-51ce-4f53-bc9b-ef46b1f3cf9d"
      },
      "execution_count": null,
      "outputs": [
        {
          "output_type": "stream",
          "name": "stdout",
          "text": [
            "33\n"
          ]
        }
      ]
    },
    {
      "cell_type": "markdown",
      "source": [
        "##convert two list into dictionary"
      ],
      "metadata": {
        "id": "GB0yAEJGmscE"
      }
    },
    {
      "cell_type": "code",
      "source": [
        "x=['kjf','gfs','ftr']\n",
        "y=[1,2,3]\n",
        "n=dict(zip(x,y))\n",
        "print(n)"
      ],
      "metadata": {
        "colab": {
          "base_uri": "https://localhost:8080/"
        },
        "id": "DzmH3bAzen2P",
        "outputId": "393babba-b611-47cd-fe8a-b5c6e63bd996"
      },
      "execution_count": null,
      "outputs": [
        {
          "output_type": "stream",
          "name": "stdout",
          "text": [
            "{'kjf': 1, 'gfs': 2, 'ftr': 3}\n"
          ]
        }
      ]
    },
    {
      "cell_type": "code",
      "source": [
        "x=['kjf','gfs','ftr']\n",
        "y=[1,2,3]\n",
        "res=dict(map(lambda a,b: (a,b), x,y))\n",
        "print(res)"
      ],
      "metadata": {
        "colab": {
          "base_uri": "https://localhost:8080/"
        },
        "id": "HgCu-5VUldO4",
        "outputId": "ba2e801a-0683-46d3-d705-74feb2f7e467"
      },
      "execution_count": null,
      "outputs": [
        {
          "output_type": "stream",
          "name": "stdout",
          "text": [
            "{'kjf': 1, 'gfs': 2, 'ftr': 3}\n"
          ]
        }
      ]
    },
    {
      "cell_type": "code",
      "source": [
        "k= [\"Rash\", \"Kil\", \"Varsha\"]\n",
        "v= [1, 4, 5]\n",
        "res={}\n",
        "for key in k:\n",
        "  for value in v:\n",
        "    res[key]=value\n",
        "    v.remove(value)\n",
        "    break\n",
        "print(res)"
      ],
      "metadata": {
        "colab": {
          "base_uri": "https://localhost:8080/"
        },
        "id": "Qoel-Mf6kkvq",
        "outputId": "4afffc4d-d64a-419e-ea87-22f16b3ccadc"
      },
      "execution_count": null,
      "outputs": [
        {
          "output_type": "stream",
          "name": "stdout",
          "text": [
            "{'Rash': 1, 'Kil': 4, 'Varsha': 5}\n"
          ]
        }
      ]
    },
    {
      "cell_type": "code",
      "source": [
        "l=['ab','car','bike','moter']\n",
        "for i in range(len(l)):\n",
        "  for j in range(len(l)):\n",
        "    if len(l[i])<len(l[j]):\n",
        "      l[i],l[j]=l[j],l[i]\n",
        "print(l)"
      ],
      "metadata": {
        "colab": {
          "base_uri": "https://localhost:8080/"
        },
        "id": "1BtbP2KmoEEL",
        "outputId": "23aa18cc-399e-42ad-b4da-c08fa229444c"
      },
      "execution_count": null,
      "outputs": [
        {
          "output_type": "stream",
          "name": "stdout",
          "text": [
            "['ab', 'car', 'bike', 'moter']\n"
          ]
        }
      ]
    },
    {
      "cell_type": "code",
      "source": [
        "lst=['abc', 'xyz', 'aba','cac', '1221']\n",
        "lst1=0\n",
        "for i in lst:\n",
        "  if i[0]==i[-1]:\n",
        "    lst1+=1\n",
        "print(lst1)\n"
      ],
      "metadata": {
        "colab": {
          "base_uri": "https://localhost:8080/"
        },
        "id": "Flfm57y-oEKm",
        "outputId": "f8a1a35c-7d0c-4c39-b611-e37b9e44b35d"
      },
      "execution_count": null,
      "outputs": [
        {
          "output_type": "stream",
          "name": "stdout",
          "text": [
            "3\n"
          ]
        }
      ]
    },
    {
      "cell_type": "markdown",
      "source": [
        "#26/12/2023"
      ],
      "metadata": {
        "id": "03aO7H2RcAVj"
      }
    },
    {
      "cell_type": "code",
      "source": [
        "a=[(1,2),(3,0),(5,6),(0,4)]\n",
        "for i in range(len(a)):\n",
        "  for j in range(len(a)):\n",
        "    if a[i][1]<a[j][1]:\n",
        "      a[i],a[j]=a[j],a[i]\n",
        "print(a)"
      ],
      "metadata": {
        "id": "tNISkuCnsjTk",
        "outputId": "a99d10fa-0533-4940-f2cb-ae708978fc8e",
        "colab": {
          "base_uri": "https://localhost:8080/"
        }
      },
      "execution_count": null,
      "outputs": [
        {
          "output_type": "stream",
          "name": "stdout",
          "text": [
            "[(3, 0), (1, 2), (0, 4), (5, 6)]\n"
          ]
        }
      ]
    },
    {
      "cell_type": "code",
      "source": [
        "a='1a2bb3c4d'\n",
        "# ot=aabbbccccdddd\n",
        "b=''\n",
        "i=0\n",
        "while i< len(a):\n",
        "  if a[i].isdigit():\n",
        "    b+=int(a[i]) * a[i+1]\n",
        "    i+=2\n",
        "  else:\n",
        "    i+=1\n",
        "print(b)"
      ],
      "metadata": {
        "id": "jgVynSs7MdXw",
        "colab": {
          "base_uri": "https://localhost:8080/"
        },
        "outputId": "16b8194b-a304-4b7c-8367-94b39617c6ae"
      },
      "execution_count": null,
      "outputs": [
        {
          "output_type": "stream",
          "name": "stdout",
          "text": [
            "abbcccdddd\n"
          ]
        }
      ]
    },
    {
      "cell_type": "code",
      "source": [
        "a='1a2bb3c4d'\n",
        "new=[]\n",
        "for i in range(len(a)):\n",
        "  # print(a[i])\n",
        "  if a[i].isnumeric():\n",
        "    ct=int(a[i])\n",
        "    for j in range(ct):\n",
        "      new.append(a[i+1])\n",
        "  else:\n",
        "    continue\n",
        "print(new)\n",
        "for i in new:\n",
        "  st=''.join(new)\n",
        "print(st)"
      ],
      "metadata": {
        "colab": {
          "base_uri": "https://localhost:8080/"
        },
        "id": "BN4haZ2ensSS",
        "outputId": "b21de976-4a01-47c1-e5a2-3ecec811705d"
      },
      "execution_count": null,
      "outputs": [
        {
          "output_type": "stream",
          "name": "stdout",
          "text": [
            "['a', 'b', 'b', 'c', 'c', 'c', 'd', 'd', 'd', 'd']\n",
            "abbcccdddd\n"
          ]
        }
      ]
    },
    {
      "cell_type": "code",
      "source": [
        "a=[2,1,3,2,1]\n",
        "b={}\n",
        "x=''\n",
        "for i in a:\n",
        "  if i in b:\n",
        "    b[i]+=1\n",
        "  else:\n",
        "    b[i]=1\n",
        "print(b)\n",
        "for k,v in b.items():\n",
        "  if v==1:\n",
        "    x=k\n",
        "print(x)"
      ],
      "metadata": {
        "colab": {
          "base_uri": "https://localhost:8080/"
        },
        "id": "gtIHL_MChPV9",
        "outputId": "d3a0cbb9-9c72-492e-d5b0-a43d6796cc8c"
      },
      "execution_count": null,
      "outputs": [
        {
          "output_type": "stream",
          "name": "stdout",
          "text": [
            "{2: 2, 1: 2, 3: 1}\n",
            "3\n"
          ]
        }
      ]
    },
    {
      "cell_type": "code",
      "source": [
        "a=[1,2,1,3,4,3,5,2]\n",
        "b=[]\n",
        "for i in range(len(a)):\n",
        "  if a.count(i)>1 and i not in b:\n",
        "    b.append(i)\n",
        "print(b)\n"
      ],
      "metadata": {
        "colab": {
          "base_uri": "https://localhost:8080/"
        },
        "id": "J_qVyKZsh99z",
        "outputId": "35943d76-79ea-497f-a582-7135be62b1d1"
      },
      "execution_count": null,
      "outputs": [
        {
          "output_type": "stream",
          "name": "stdout",
          "text": [
            "[1, 2, 3]\n"
          ]
        }
      ]
    },
    {
      "cell_type": "markdown",
      "source": [
        "#27/12/2023"
      ],
      "metadata": {
        "id": "JpCfvdxDZme_"
      }
    },
    {
      "cell_type": "code",
      "source": [
        "st=['Python', 'Exercises', 'Practice', 'Solution', 'Exercises']\n",
        "st1=[]\n",
        "for i in st:\n",
        "  if i  not in st1:\n",
        "    st1.append(i)\n",
        "print(st1)"
      ],
      "metadata": {
        "id": "cPP08LyJbFFZ",
        "colab": {
          "base_uri": "https://localhost:8080/"
        },
        "outputId": "be90bebe-63e8-4e6d-efca-d978c1628215"
      },
      "execution_count": null,
      "outputs": [
        {
          "output_type": "stream",
          "name": "stdout",
          "text": [
            "['Python', 'Exercises', 'Practice', 'Solution']\n"
          ]
        }
      ]
    },
    {
      "cell_type": "code",
      "source": [
        "st=['Python', 'Exercises', 'Practice', 'Solution', 'Exercises']\n",
        "st1=list(set(st))\n",
        "print(st1)"
      ],
      "metadata": {
        "colab": {
          "base_uri": "https://localhost:8080/"
        },
        "id": "nTcZrbVc9w7N",
        "outputId": "c378941f-b02d-4a42-f37e-0614a7c10203"
      },
      "execution_count": null,
      "outputs": [
        {
          "output_type": "stream",
          "name": "stdout",
          "text": [
            "['Exercises', 'Solution', 'Practice', 'Python']\n"
          ]
        }
      ]
    },
    {
      "cell_type": "code",
      "source": [
        "a=\"raabbbcccc\"\n",
        "b={}\n",
        "for i in a:\n",
        "  if i in b:\n",
        "    b[i]+=1\n",
        "  else:\n",
        "    b[i]=1\n",
        "print(b)"
      ],
      "metadata": {
        "id": "hB5pl-bYbsrh",
        "colab": {
          "base_uri": "https://localhost:8080/"
        },
        "outputId": "bf490dcf-5741-4819-858d-9eab6a8cc31f"
      },
      "execution_count": null,
      "outputs": [
        {
          "output_type": "stream",
          "name": "stdout",
          "text": [
            "{'r': 1, 'a': 2, 'b': 3, 'c': 4}\n"
          ]
        }
      ]
    },
    {
      "cell_type": "code",
      "source": [
        "s='Rashida'\n",
        "dic={}\n",
        "for i in s:\n",
        "  str1=s.count(i)\n",
        "  dic[i]=str1\n",
        "print(dic)"
      ],
      "metadata": {
        "colab": {
          "base_uri": "https://localhost:8080/"
        },
        "id": "ovXGH9m70Q35",
        "outputId": "1f77923f-b06d-4f01-b2fb-a5f0e01d25ec"
      },
      "execution_count": null,
      "outputs": [
        {
          "output_type": "stream",
          "name": "stdout",
          "text": [
            "{'R': 1, 'a': 2, 's': 1, 'h': 1, 'i': 1, 'd': 1}\n"
          ]
        }
      ]
    },
    {
      "cell_type": "code",
      "source": [
        "my_str = \"python programming\"\n",
        "vowels = ['a','e','i','o','u']\n",
        "count = [i for i in my_str if i in vowels]\n",
        "print(len(count))"
      ],
      "metadata": {
        "colab": {
          "base_uri": "https://localhost:8080/"
        },
        "id": "BmYT15IX_TeW",
        "outputId": "a7459681-91a7-4c2e-a782-340064935384"
      },
      "execution_count": null,
      "outputs": [
        {
          "output_type": "stream",
          "name": "stdout",
          "text": [
            "4\n"
          ]
        }
      ]
    },
    {
      "cell_type": "code",
      "source": [
        "cars = [{'car': 'Ford', 'year': 2005}, {'car': 'Mitsubishi', 'year': 2000},{'car': 'BMW', 'year': 2019},\n",
        "        {'car': 'VW', 'year': 2011}]\n",
        "for i in range(len(cars)):\n",
        "    for j in range(len(cars)):\n",
        "        if cars[i]['year'] < cars[j]['year']:\n",
        "            cars[i], cars[j] = cars[j], cars[i]\n",
        "print(cars)"
      ],
      "metadata": {
        "colab": {
          "base_uri": "https://localhost:8080/"
        },
        "id": "8ZzfVSzwBEdr",
        "outputId": "71fd6bda-7135-4386-de71-81254635bc9e"
      },
      "execution_count": null,
      "outputs": [
        {
          "output_type": "stream",
          "name": "stdout",
          "text": [
            "[{'car': 'Mitsubishi', 'year': 2000}, {'car': 'Ford', 'year': 2005}, {'car': 'VW', 'year': 2011}, {'car': 'BMW', 'year': 2019}]\n"
          ]
        }
      ]
    },
    {
      "cell_type": "code",
      "source": [
        "a = [\"asd\",\"def\",\"ase\",\"dfg\",\"asd\",\"def\",\"dfg\"]\n",
        "for i in range(len(a)):\n",
        "  for j in range(len(a))\n"
      ],
      "metadata": {
        "id": "ca2qur1vBEyS"
      },
      "execution_count": null,
      "outputs": []
    },
    {
      "cell_type": "markdown",
      "source": [
        "#05/02/2024 MONDAY"
      ],
      "metadata": {
        "id": "JsSao0YXiHlM"
      }
    },
    {
      "cell_type": "markdown",
      "source": [
        "##1st:  remove dublicate in list"
      ],
      "metadata": {
        "id": "vFWGQkW2mDMj"
      }
    },
    {
      "cell_type": "code",
      "source": [
        "st=['Python', 'Exercises', 'Practice', 'Solution', 'Exercises']\n",
        "st1=[]\n",
        "for i in st:\n",
        "  if i not in st1:\n",
        "    st1.append(i)\n",
        "print(st1)"
      ],
      "metadata": {
        "id": "yZF5XeYQ_6UI",
        "colab": {
          "base_uri": "https://localhost:8080/"
        },
        "outputId": "623a1d12-8dc9-4a05-be7b-f79ab6127833"
      },
      "execution_count": null,
      "outputs": [
        {
          "output_type": "stream",
          "name": "stdout",
          "text": [
            "['Python', 'Exercises', 'Practice', 'Solution']\n"
          ]
        }
      ]
    },
    {
      "cell_type": "code",
      "source": [
        "st=['Python', 'Exercises', 'Practice', 'Solution', 'Exercises']\n",
        "st2=[]\n",
        "[st2.append(i) for i in st if i not in st2]\n",
        "print(st2)"
      ],
      "metadata": {
        "id": "Tt6mSEwoEUHw",
        "colab": {
          "base_uri": "https://localhost:8080/"
        },
        "outputId": "234e21f4-8a21-4ad5-ae05-01db017ae2b4"
      },
      "execution_count": null,
      "outputs": [
        {
          "output_type": "stream",
          "name": "stdout",
          "text": [
            "['Python', 'Exercises', 'Practice', 'Solution']\n"
          ]
        }
      ]
    },
    {
      "cell_type": "code",
      "source": [
        "st=['Python', 'Exercises', 'Practice', 'Solution', 'Exercises']\n",
        "for i ,j in enumerate(st):\n",
        "  if j not in st[:i]:\n",
        "   print(j)"
      ],
      "metadata": {
        "colab": {
          "base_uri": "https://localhost:8080/"
        },
        "id": "cEEXZgzYr_0I",
        "outputId": "c6707957-f45b-4a99-b858-155fd85ef36c"
      },
      "execution_count": null,
      "outputs": [
        {
          "output_type": "stream",
          "name": "stdout",
          "text": [
            "Python\n",
            "Exercises\n",
            "Practice\n",
            "Solution\n"
          ]
        }
      ]
    },
    {
      "cell_type": "markdown",
      "source": [
        "## 2.swap two element"
      ],
      "metadata": {
        "id": "CcDzazIWmRDn"
      }
    },
    {
      "cell_type": "code",
      "source": [
        "lst=[2,3,4,5,6]\n",
        "for i in range(0,len(lst),2):\n",
        "  if i+1<len(lst):\n",
        "    lst[i],lst[i+1]=lst[i+1],lst[i]\n",
        "\n",
        "print(lst)"
      ],
      "metadata": {
        "colab": {
          "base_uri": "https://localhost:8080/"
        },
        "id": "EYlaogQ9kDvC",
        "outputId": "6dca1861-1d05-45af-c43d-38aa6984ac59"
      },
      "execution_count": null,
      "outputs": [
        {
          "output_type": "stream",
          "name": "stdout",
          "text": [
            "[3, 2, 5, 4, 6]\n"
          ]
        }
      ]
    },
    {
      "cell_type": "code",
      "source": [
        "lst=[2,3,4,5,6,8]\n",
        "for i in range(0,len(lst),2):\n",
        "  lst[i],lst[i+1]=lst[i+1],lst[i]\n",
        "print(lst)\n"
      ],
      "metadata": {
        "colab": {
          "base_uri": "https://localhost:8080/"
        },
        "id": "H5t8yFcgnQiD",
        "outputId": "320143ae-aa4f-4ede-e028-47ceaeeae32b"
      },
      "execution_count": null,
      "outputs": [
        {
          "output_type": "stream",
          "name": "stdout",
          "text": [
            "[3, 2, 5, 4, 8, 6]\n"
          ]
        }
      ]
    },
    {
      "cell_type": "markdown",
      "source": [
        "## 3rd. largest number in list"
      ],
      "metadata": {
        "id": "cGZG6rKIqFNS"
      }
    },
    {
      "cell_type": "code",
      "source": [
        "lst=[2,32,4,54,53,22,11,67,5,87]\n",
        "lst1=0\n",
        "for i in lst:\n",
        "  if i>lst1:\n",
        "    lst1=i\n",
        "print(\"largest number is\",lst1)"
      ],
      "metadata": {
        "colab": {
          "base_uri": "https://localhost:8080/"
        },
        "id": "9wfCiMh9pTDZ",
        "outputId": "5fd48635-538a-40d5-cc85-660bc695aef6"
      },
      "execution_count": null,
      "outputs": [
        {
          "output_type": "stream",
          "name": "stdout",
          "text": [
            "largest number is 87\n"
          ]
        }
      ]
    },
    {
      "cell_type": "code",
      "source": [
        "lst=[2,32,4,54,53,22,11,67,5,87]\n",
        "for i in range(len(lst)):\n",
        "  for j in range(len(lst)):\n",
        "    if lst[i]>lst[j]:\n",
        "      lst[i],lst[j]=lst[j],lst[i]\n",
        "print(lst)\n",
        "print(\"largest number is \",lst[-1])"
      ],
      "metadata": {
        "colab": {
          "base_uri": "https://localhost:8080/"
        },
        "id": "obudipiUqCk6",
        "outputId": "6613b7b0-b007-470f-9ec4-03730aa79313"
      },
      "execution_count": null,
      "outputs": [
        {
          "output_type": "stream",
          "name": "stdout",
          "text": [
            "[87, 67, 54, 53, 32, 22, 11, 5, 4, 2]\n",
            "largest number is  2\n"
          ]
        }
      ]
    },
    {
      "cell_type": "code",
      "source": [
        "\n",
        "lst=[2,32,4,54,53,22,11,67,5,87]\n",
        "for i in range(len(lst)):\n",
        "  for j in range(len(lst)):\n",
        "    if lst[i]>lst[j]:\n",
        "      lst[i],lst[j]=lst[j],lst[i]\n",
        "print(lst)\n",
        "print(\"largest number is \",lst[0:2])"
      ],
      "metadata": {
        "colab": {
          "base_uri": "https://localhost:8080/"
        },
        "id": "Yh40D7yEqnVe",
        "outputId": "f640d45c-f47c-4d5a-b108-8dc96f34f19c"
      },
      "execution_count": null,
      "outputs": [
        {
          "output_type": "stream",
          "name": "stdout",
          "text": [
            "[87, 67, 54, 53, 32, 22, 11, 5, 4, 2]\n",
            "largest number is  [87, 67]\n"
          ]
        }
      ]
    },
    {
      "cell_type": "markdown",
      "source": [
        "##4th. dublicate number in list"
      ],
      "metadata": {
        "id": "J2CS4Izz12-W"
      }
    },
    {
      "cell_type": "code",
      "source": [
        "l=[2,2,21,23,22,12,12]\n",
        "d=[]\n",
        "ud=[]\n",
        "for i in l:\n",
        "  if i not in d:\n",
        "    d.append(i)\n",
        "  elif i not in ud:\n",
        "    ud.append(i)\n",
        "print(ud)"
      ],
      "metadata": {
        "colab": {
          "base_uri": "https://localhost:8080/"
        },
        "id": "xPkVRqLzvFDc",
        "outputId": "ea69c6fa-2e0d-4f08-a069-51757ba356fc"
      },
      "execution_count": null,
      "outputs": [
        {
          "output_type": "stream",
          "name": "stdout",
          "text": [
            "[2, 12]\n"
          ]
        }
      ]
    },
    {
      "cell_type": "code",
      "source": [
        "l=[2,2,21,23,22,12,12]\n",
        "l1=[]\n",
        "for i in l:\n",
        "  if l.count(i)>1 and i not in l1:\n",
        "    l1.append(i)\n",
        "print(l1)"
      ],
      "metadata": {
        "colab": {
          "base_uri": "https://localhost:8080/"
        },
        "id": "zRGOaWOg1MwS",
        "outputId": "a0c782f1-16f6-4192-b634-b25ac4390666"
      },
      "execution_count": null,
      "outputs": [
        {
          "output_type": "stream",
          "name": "stdout",
          "text": [
            "[2, 12]\n"
          ]
        }
      ]
    },
    {
      "cell_type": "markdown",
      "source": [
        "##5th. remove dublicate in list"
      ],
      "metadata": {
        "id": "g27eQytO5PUQ"
      }
    },
    {
      "cell_type": "code",
      "source": [
        "l=[2,2,21,23,22,12,12]\n",
        "l2=[]\n",
        "for i in l:\n",
        "  if i not in l2:\n",
        "    l2.append(i)\n",
        "print(l2)\n",
        "\n"
      ],
      "metadata": {
        "colab": {
          "base_uri": "https://localhost:8080/"
        },
        "id": "IS3SVfLT1cWe",
        "outputId": "a8ab0dc8-4ca5-46b0-f0e7-bf70db636534"
      },
      "execution_count": null,
      "outputs": [
        {
          "output_type": "stream",
          "name": "stdout",
          "text": [
            "[2, 21, 23, 22, 12]\n"
          ]
        }
      ]
    },
    {
      "cell_type": "code",
      "source": [
        "l=[2,2,21,23,22,12,12]\n",
        "for i in l:\n",
        "  if l.count(i)>1:\n",
        "    l.remove(i)\n",
        "print(l)"
      ],
      "metadata": {
        "colab": {
          "base_uri": "https://localhost:8080/"
        },
        "id": "4XmrGeKF1zLV",
        "outputId": "d9083aa4-2acc-47f6-c329-22be6de5c25c"
      },
      "execution_count": null,
      "outputs": [
        {
          "output_type": "stream",
          "name": "stdout",
          "text": [
            "[2, 21, 23, 22, 12]\n"
          ]
        }
      ]
    },
    {
      "cell_type": "code",
      "source": [
        "x=['flask','car','at','thanks']\n",
        "for i in range(len(x)):\n",
        "  for j in range(len(x)):\n",
        "    if len(x[i])<len(x[j]):\n",
        "      x[i],x[j]=x[j],x[i]\n",
        "print(x)"
      ],
      "metadata": {
        "colab": {
          "base_uri": "https://localhost:8080/"
        },
        "id": "63BCuqyE5cq6",
        "outputId": "53d13643-d623-43aa-92e2-16bb59f73243"
      },
      "execution_count": null,
      "outputs": [
        {
          "output_type": "stream",
          "name": "stdout",
          "text": [
            "['at', 'car', 'flask', 'thanks']\n"
          ]
        }
      ]
    },
    {
      "cell_type": "markdown",
      "source": [
        "## 6.largest number in dictionary"
      ],
      "metadata": {
        "id": "5yNecM7Jfecg"
      }
    },
    {
      "cell_type": "code",
      "source": [
        "d={'rajnish': 9, 'ravi': 10, 'sanjeev': 15, 'suraj': 32, 'yash': 2}\n",
        "dt=0\n",
        "d1=\"\"\n",
        "for i in d:\n",
        "  if d[i]>dt:\n",
        "    dt=d[i]\n",
        "    d1=i\n",
        "print(dt,d1)\n"
      ],
      "metadata": {
        "colab": {
          "base_uri": "https://localhost:8080/"
        },
        "id": "KzijrlIY529J",
        "outputId": "e48a01ab-d94b-4e18-eb33-60f4707e0b5f"
      },
      "execution_count": null,
      "outputs": [
        {
          "output_type": "stream",
          "name": "stdout",
          "text": [
            "32 suraj\n"
          ]
        }
      ]
    },
    {
      "cell_type": "markdown",
      "source": [
        "#7th count each character in string"
      ],
      "metadata": {
        "id": "0Nooz5Jh1M0x"
      }
    },
    {
      "cell_type": "code",
      "source": [
        "l=\"mumbaicodingclub\"\n",
        "y={}\n",
        "for i in l:\n",
        "  if i in y:\n",
        "    y[i]+=1\n",
        "  else:\n",
        "    y[i]=1\n",
        "print(y)"
      ],
      "metadata": {
        "colab": {
          "base_uri": "https://localhost:8080/"
        },
        "id": "iWsvnuoyflOT",
        "outputId": "14c3efe3-03a8-4876-b314-cc840d0b8c1f"
      },
      "execution_count": null,
      "outputs": [
        {
          "output_type": "stream",
          "name": "stdout",
          "text": [
            "{'m': 2, 'u': 2, 'b': 2, 'a': 1, 'i': 2, 'c': 2, 'o': 1, 'd': 1, 'n': 1, 'g': 1, 'l': 1}\n"
          ]
        }
      ]
    },
    {
      "cell_type": "markdown",
      "source": [
        "#06/02/2024"
      ],
      "metadata": {
        "id": "djDmwDminJMx"
      }
    },
    {
      "cell_type": "code",
      "source": [
        "x=[1,2,3,4]\n",
        "y=[5,6,7,8]\n",
        "\n",
        "res=[i+j for i,j in zip(x,y)]\n",
        "print(res)"
      ],
      "metadata": {
        "id": "ShqHLIX2i2RQ",
        "colab": {
          "base_uri": "https://localhost:8080/"
        },
        "outputId": "b78ec59c-00f6-46db-f61e-2157f782c945"
      },
      "execution_count": null,
      "outputs": [
        {
          "output_type": "stream",
          "name": "stdout",
          "text": [
            "[6, 8, 10, 12]\n"
          ]
        }
      ]
    },
    {
      "cell_type": "code",
      "source": [
        "x=[1,2,3,4]\n",
        "y=[5,6,7,8]\n",
        "z=[]\n",
        "for i in range(3):\n",
        "  z.append(x[i]+y[i])\n",
        "print(z)"
      ],
      "metadata": {
        "colab": {
          "base_uri": "https://localhost:8080/"
        },
        "id": "-Ca51Bs9olNC",
        "outputId": "ee94babb-e9b3-4b84-d1d4-ae7cb53de498"
      },
      "execution_count": null,
      "outputs": [
        {
          "output_type": "stream",
          "name": "stdout",
          "text": [
            "[6, 8, 10]\n"
          ]
        }
      ]
    },
    {
      "cell_type": "code",
      "source": [
        "# lst=[12,11,2,32]\n",
        "# ls=0\n",
        "# for i in lst:\n",
        "#   if i<ls:\n",
        "# print(ls)\n"
      ],
      "metadata": {
        "id": "JxPAcBtEpP1B"
      },
      "execution_count": null,
      "outputs": []
    },
    {
      "cell_type": "code",
      "source": [
        "lst=[12,11,2,32]\n",
        "lst.sort()\n",
        "print(lst)\n",
        "print(\"smallest number in list\",lst[0])"
      ],
      "metadata": {
        "colab": {
          "base_uri": "https://localhost:8080/"
        },
        "id": "bJCcdvlCwK-t",
        "outputId": "317ebd90-80f9-41e9-c954-823840bffd27"
      },
      "execution_count": null,
      "outputs": [
        {
          "output_type": "stream",
          "name": "stdout",
          "text": [
            "[2, 11, 12, 32]\n",
            "smallest number in list 2\n"
          ]
        }
      ]
    },
    {
      "cell_type": "code",
      "source": [
        "lst=[12,11,2,32]\n",
        "print(min(lst))"
      ],
      "metadata": {
        "colab": {
          "base_uri": "https://localhost:8080/"
        },
        "id": "csek2MB1wtU4",
        "outputId": "335bd8ea-61af-472f-b673-60c468b6c796"
      },
      "execution_count": null,
      "outputs": [
        {
          "output_type": "stream",
          "name": "stdout",
          "text": [
            "2\n"
          ]
        }
      ]
    },
    {
      "cell_type": "code",
      "source": [
        "l1=[(2, 5), (1, 2), (4, 4), (2, 3), (2, 1)]\n",
        "for i in range(len(l1)):\n",
        "  for j in range(len(l1)):\n",
        "    if l1[i][1]<l1[j][1]:\n",
        "      l1[i],l1[j]=l1[j],l1[i]\n",
        "print(l1)"
      ],
      "metadata": {
        "colab": {
          "base_uri": "https://localhost:8080/"
        },
        "id": "Q9qALODWxe0q",
        "outputId": "352b6795-f787-4b44-f2fb-bb9c4f9911aa"
      },
      "execution_count": null,
      "outputs": [
        {
          "output_type": "stream",
          "name": "stdout",
          "text": [
            "[(2, 1), (1, 2), (2, 3), (4, 4), (2, 5)]\n"
          ]
        }
      ]
    },
    {
      "cell_type": "code",
      "source": [
        "st=[2,1,4,5,5,1,2]\n",
        "st1=[]\n",
        "for i in st:\n",
        "  if i not in st1:\n",
        "    st1.append(i)\n",
        "print(st1)\n"
      ],
      "metadata": {
        "colab": {
          "base_uri": "https://localhost:8080/"
        },
        "id": "bpV1xK6rywlA",
        "outputId": "cb5cf2b3-d5fc-4c31-8e9a-3085a95b270e"
      },
      "execution_count": null,
      "outputs": [
        {
          "output_type": "stream",
          "name": "stdout",
          "text": [
            "[2, 1, 4, 5]\n"
          ]
        }
      ]
    },
    {
      "cell_type": "code",
      "source": [
        "st=[2,1,4,5,5,1,2]\n",
        "res=list(set(st))\n",
        "print(res)"
      ],
      "metadata": {
        "colab": {
          "base_uri": "https://localhost:8080/"
        },
        "id": "ueCOLu_N3TYS",
        "outputId": "bdf90a3e-fda7-462f-c4d7-d1523e3aa7bd"
      },
      "execution_count": null,
      "outputs": [
        {
          "output_type": "stream",
          "name": "stdout",
          "text": [
            "[1, 2, 4, 5]\n"
          ]
        }
      ]
    },
    {
      "cell_type": "code",
      "source": [
        "lst=[2,1,2,3,1,5]\n",
        "x={}\n",
        "y=''\n",
        "for i in lst:\n",
        "  if i in x:\n",
        "    x[i]+=1\n",
        "  else:\n",
        "    x[i]=1\n",
        "print(x)\n",
        "for k,v in x.items():\n",
        "  if v==1:\n",
        "    y=k\n",
        "print(y)"
      ],
      "metadata": {
        "colab": {
          "base_uri": "https://localhost:8080/"
        },
        "id": "kd8nkg1JwxyG",
        "outputId": "d71aaad0-ab54-420e-cbd4-6fee7dae2cf4"
      },
      "execution_count": null,
      "outputs": [
        {
          "output_type": "stream",
          "name": "stdout",
          "text": [
            "{2: 2, 1: 2, 3: 1, 5: 1}\n",
            "5\n"
          ]
        }
      ]
    },
    {
      "cell_type": "code",
      "source": [
        "x = {'ravi': 10, 'rajnish': 9,'sanjeev': 15, 'yash': 2, 'suraj': 32}\n",
        "z={}\n",
        "y=list(x.keys())\n",
        "for i in range(len(y)):\n",
        "  for j in range(len(y)):\n",
        "    if y[i]<y[j]:\n",
        "      y[i],y[j]=y[j],y[i]\n",
        "print(y)\n",
        "for i in y:\n",
        "  z[i]=x[i]\n",
        "print(z)\n"
      ],
      "metadata": {
        "id": "qSRmorOSxCcE",
        "colab": {
          "base_uri": "https://localhost:8080/"
        },
        "outputId": "35a1a940-97e5-4c13-97b8-554e5cd9b1d8"
      },
      "execution_count": null,
      "outputs": [
        {
          "output_type": "stream",
          "name": "stdout",
          "text": [
            "['rajnish', 'ravi', 'sanjeev', 'suraj', 'yash']\n",
            "{'rajnish': 9, 'ravi': 10, 'sanjeev': 15, 'suraj': 32, 'yash': 2}\n"
          ]
        }
      ]
    },
    {
      "cell_type": "markdown",
      "source": [
        "#07/02/2024"
      ],
      "metadata": {
        "id": "6jicjOqtsqGn"
      }
    },
    {
      "cell_type": "code",
      "source": [
        "x = {'ravi': 10, 'rajnish': 9,'sanjeev': 15, 'yash': 2, 'suraj': 32}\n",
        "y={}\n",
        "z=list(x.keys())\n",
        "for i in range(len(z)):\n",
        "  for j in range(len(z)):\n",
        "    if z[i]>z[j]:\n",
        "      z[i],z[j]=z[j],z[i]\n",
        "# print(z)\n",
        "for i in z:\n",
        "  y[i]=x[i]\n",
        "print(y)\n",
        "\n"
      ],
      "metadata": {
        "id": "kbTw9Sg51qPz",
        "colab": {
          "base_uri": "https://localhost:8080/"
        },
        "outputId": "0dc1bf87-f893-48f3-f34a-b8eeb7724e5b"
      },
      "execution_count": null,
      "outputs": [
        {
          "output_type": "stream",
          "name": "stdout",
          "text": [
            "{'yash': 2, 'suraj': 32, 'sanjeev': 15, 'ravi': 10, 'rajnish': 9}\n"
          ]
        }
      ]
    },
    {
      "cell_type": "markdown",
      "source": [
        "#reversed method integer"
      ],
      "metadata": {
        "id": "uCiARR37DaRy"
      }
    },
    {
      "cell_type": "code",
      "source": [
        "a=12345\n",
        "print(str(a)[::-1])"
      ],
      "metadata": {
        "colab": {
          "base_uri": "https://localhost:8080/"
        },
        "id": "YX_RbTiatlEZ",
        "outputId": "b17a3171-e43d-4801-961c-e3c969dd1bae"
      },
      "execution_count": null,
      "outputs": [
        {
          "output_type": "stream",
          "name": "stdout",
          "text": [
            "54321\n"
          ]
        }
      ]
    },
    {
      "cell_type": "code",
      "source": [
        "a=12345\n",
        "b=0\n",
        "while (a>0):\n",
        "  b=a%10+b*10\n",
        "  a=a//10\n",
        "print(b)"
      ],
      "metadata": {
        "colab": {
          "base_uri": "https://localhost:8080/"
        },
        "id": "4ehxwXXn3KwC",
        "outputId": "599c6973-d7bf-4035-c774-c7b001ff40b0"
      },
      "execution_count": null,
      "outputs": [
        {
          "output_type": "stream",
          "name": "stdout",
          "text": [
            "54321\n"
          ]
        }
      ]
    },
    {
      "cell_type": "code",
      "source": [
        "a=[(1,6),(3,4),(0,5)]\n",
        "for i in range(len(a)):\n",
        "  for j in range(len(a)):\n",
        "    if a[i][1]<a[j][1]:\n",
        "      a[i],a[j]=a[j],a[i]\n",
        "print(a)"
      ],
      "metadata": {
        "colab": {
          "base_uri": "https://localhost:8080/"
        },
        "id": "ldfz9jWN7lCy",
        "outputId": "e7aae343-2226-4782-a014-b47ab3860197"
      },
      "execution_count": null,
      "outputs": [
        {
          "output_type": "stream",
          "name": "stdout",
          "text": [
            "[(3, 4), (0, 5), (1, 6)]\n"
          ]
        }
      ]
    },
    {
      "cell_type": "markdown",
      "source": [
        "## unique number in list"
      ],
      "metadata": {
        "id": "44lCcF7vM_LN"
      }
    },
    {
      "cell_type": "code",
      "source": [
        "s=[1,2,1]\n",
        "t={}\n",
        "h=''\n",
        "for i in s:\n",
        "  if i in t:\n",
        "    t[i]+=1\n",
        "  else:\n",
        "    t[i]=1\n",
        "print(t)\n",
        "for k,v in t.items():\n",
        "  if v==1:\n",
        "    h=k\n",
        "print(h)"
      ],
      "metadata": {
        "colab": {
          "base_uri": "https://localhost:8080/"
        },
        "id": "VegdRZQELRZW",
        "outputId": "a5867eca-d825-40b0-b2a8-0f970307a4a9"
      },
      "execution_count": null,
      "outputs": [
        {
          "output_type": "stream",
          "name": "stdout",
          "text": [
            "{1: 2, 2: 1}\n",
            "2\n"
          ]
        }
      ]
    },
    {
      "cell_type": "code",
      "source": [
        "key = ['Fruit', 'Vegetable']\n",
        "value = ['Mango','Tomato']\n",
        "z={}\n",
        "for i in range(len(key)):\n",
        "  z[key[i]]=value[i]\n",
        "\n",
        "print(z)"
      ],
      "metadata": {
        "colab": {
          "base_uri": "https://localhost:8080/"
        },
        "id": "VzuOA2JaJ4mz",
        "outputId": "30d0893a-f030-46ba-de4c-9bd6eb35d548"
      },
      "execution_count": null,
      "outputs": [
        {
          "output_type": "stream",
          "name": "stdout",
          "text": [
            "{'Fruit': 'Mango', 'Vegetable': 'Tomato'}\n"
          ]
        }
      ]
    },
    {
      "cell_type": "markdown",
      "source": [
        "#09/02/2024"
      ],
      "metadata": {
        "id": "T_2i4J6Y_Uvr"
      }
    },
    {
      "cell_type": "code",
      "source": [
        "a=23456\n",
        "b=0\n",
        "while (a>0):\n",
        "  b=a%10 + b*10\n",
        "  a=a//10\n",
        "print(b)\n"
      ],
      "metadata": {
        "id": "ih54shBUnYTp",
        "colab": {
          "base_uri": "https://localhost:8080/"
        },
        "outputId": "9459b83a-aef6-455d-e60a-47f393742751"
      },
      "execution_count": null,
      "outputs": [
        {
          "output_type": "stream",
          "name": "stdout",
          "text": [
            "65432\n"
          ]
        }
      ]
    },
    {
      "cell_type": "markdown",
      "source": [
        "##remove dublicate number in list"
      ],
      "metadata": {
        "id": "UDJrGni8A5nK"
      }
    },
    {
      "cell_type": "code",
      "source": [
        "lst=[2,1,2,3,1]\n",
        "lst1=[]\n",
        "for i in lst:\n",
        "  if i not in lst1:\n",
        "    lst1.append(i)\n",
        "print(lst1)\n"
      ],
      "metadata": {
        "colab": {
          "base_uri": "https://localhost:8080/"
        },
        "id": "uVgdSu1dAORq",
        "outputId": "f93793c9-8299-415b-fbcb-188e04cacfcf"
      },
      "execution_count": null,
      "outputs": [
        {
          "output_type": "stream",
          "name": "stdout",
          "text": [
            "[2, 1, 3]\n"
          ]
        }
      ]
    },
    {
      "cell_type": "code",
      "source": [
        "lst=[2,1,2,3,1]\n",
        "res=set(lst)\n",
        "print(list(res))"
      ],
      "metadata": {
        "colab": {
          "base_uri": "https://localhost:8080/"
        },
        "id": "8jQoOiQUEAqP",
        "outputId": "f2c83dc5-e421-4cfb-a1a6-232fe7a7567c"
      },
      "execution_count": null,
      "outputs": [
        {
          "output_type": "stream",
          "name": "stdout",
          "text": [
            "[1, 2, 3]\n"
          ]
        }
      ]
    },
    {
      "cell_type": "markdown",
      "source": [
        "##unique number in list"
      ],
      "metadata": {
        "id": "J4H__mHRC2l7"
      }
    },
    {
      "cell_type": "code",
      "source": [
        "ls=[1,2,1,4,2]\n",
        "ls1={}\n",
        "t=''\n",
        "for i in ls:\n",
        "  if i in ls1:\n",
        "    ls1[i]+=1\n",
        "  else:\n",
        "    ls1[i]=1\n",
        "print(ls1)\n",
        "for k,v in ls1.items():\n",
        "  if v==1:\n",
        "    t=k\n",
        "print(t)"
      ],
      "metadata": {
        "colab": {
          "base_uri": "https://localhost:8080/"
        },
        "id": "eQkVOMxMAxB8",
        "outputId": "80220daf-9a5e-4e79-a6b9-b8e797d35698"
      },
      "execution_count": null,
      "outputs": [
        {
          "output_type": "stream",
          "name": "stdout",
          "text": [
            "{1: 2, 2: 2, 4: 1}\n",
            "4\n"
          ]
        }
      ]
    },
    {
      "cell_type": "markdown",
      "source": [
        "##concatent two list"
      ],
      "metadata": {
        "id": "Mse_NMVyGlWy"
      }
    },
    {
      "cell_type": "code",
      "source": [
        "# concatent two list\n",
        "\n",
        "a=[2,3,4]\n",
        "b=[5,6,7]\n",
        "z=[i+j for i,j in zip(a,b)]\n",
        "print(z)"
      ],
      "metadata": {
        "colab": {
          "base_uri": "https://localhost:8080/"
        },
        "id": "BtTvuqJvBLGA",
        "outputId": "d88a030f-5fc9-4cc7-e4d0-54945547e85b"
      },
      "execution_count": null,
      "outputs": [
        {
          "output_type": "stream",
          "name": "stdout",
          "text": [
            "[7, 9, 11]\n"
          ]
        }
      ]
    },
    {
      "cell_type": "code",
      "source": [
        "a={'abc':1,'pqr':2,'xyz':3,'lmn':4,'str':5}\n",
        "b=['abc','xyz','str']\n",
        "c={}\n",
        "for i in b:\n",
        "  # print(b)\n",
        "  if i in a:\n",
        "    # print(c)\n",
        "    c[i]=a[i]\n",
        "print(c)"
      ],
      "metadata": {
        "colab": {
          "base_uri": "https://localhost:8080/"
        },
        "id": "DWLCkrjbHlOC",
        "outputId": "a4078e98-7859-4592-997a-73ea73521fd4"
      },
      "execution_count": null,
      "outputs": [
        {
          "output_type": "stream",
          "name": "stdout",
          "text": [
            "{'abc': 1, 'xyz': 3, 'str': 5}\n"
          ]
        }
      ]
    },
    {
      "cell_type": "markdown",
      "source": [
        "## convert list to list in dictionary"
      ],
      "metadata": {
        "id": "MLkpZ5P7KyOx"
      }
    },
    {
      "cell_type": "code",
      "source": [
        "val=[\"Gfg\",3,'is',8]\n",
        "key=['name','id']\n",
        "\n",
        "res=[]\n",
        "n=len(key)\n",
        "for i in range(0,len(val),n):\n",
        "  dic=dict(zip(key,val[i:i+n]))\n",
        "  res.append(dic)\n",
        "print(res)"
      ],
      "metadata": {
        "colab": {
          "base_uri": "https://localhost:8080/"
        },
        "id": "k2gDoL0oJmXE",
        "outputId": "3775c025-5162-48b3-fe0a-e18574db9628"
      },
      "execution_count": null,
      "outputs": [
        {
          "output_type": "stream",
          "name": "stdout",
          "text": [
            "[{'name': 'Gfg', 'id': 3}, {'name': 'is', 'id': 8}]\n"
          ]
        }
      ]
    },
    {
      "cell_type": "code",
      "source": [
        "val=[\"Gfg\",3,'is',8]\n",
        "key=['name','id']\n",
        "res=[]\n",
        "n=len(key)\n",
        "for i in range(0,len(val),n):\n",
        "  d={key[j]:val[i+j]for j in range(n)}\n",
        "  res.append(d)\n",
        "print(res)\n"
      ],
      "metadata": {
        "colab": {
          "base_uri": "https://localhost:8080/"
        },
        "id": "fBoV3W9_JsPN",
        "outputId": "12f509ea-f706-45f3-b4a7-bbf77191cd04"
      },
      "execution_count": null,
      "outputs": [
        {
          "output_type": "stream",
          "name": "stdout",
          "text": [
            "[{'name': 'Gfg', 'id': 3}, {'name': 'is', 'id': 8}]\n"
          ]
        }
      ]
    },
    {
      "cell_type": "code",
      "source": [
        "st='hidayatkhan'\n",
        "s={}\n",
        "for i in st:\n",
        "  if i in s:\n",
        "    s[i]+=1\n",
        "  else:\n",
        "    s[i]=1\n",
        "print(s)\n"
      ],
      "metadata": {
        "colab": {
          "base_uri": "https://localhost:8080/"
        },
        "id": "6EmXMuOQKqOr",
        "outputId": "b169024d-07fb-4d26-b45c-d869e8d5e9e3"
      },
      "execution_count": null,
      "outputs": [
        {
          "output_type": "stream",
          "name": "stdout",
          "text": [
            "{'h': 2, 'i': 1, 'd': 1, 'a': 3, 'y': 1, 't': 1, 'k': 1, 'n': 1}\n"
          ]
        }
      ]
    },
    {
      "cell_type": "markdown",
      "source": [
        "##sort element lenght"
      ],
      "metadata": {
        "id": "-fcepXddZg3D"
      }
    },
    {
      "cell_type": "code",
      "source": [
        "bk=['shweta','hidayatkhan','rashida','zobia']\n",
        "for i in range(len(bk)):\n",
        "  for j in range(len(bk)):\n",
        "    if len(bk[i])<len(bk[j]):\n",
        "      bk[i],bk[j]=bk[j],bk[i]\n",
        "print(bk)\n"
      ],
      "metadata": {
        "colab": {
          "base_uri": "https://localhost:8080/"
        },
        "id": "fGGacf8QYiem",
        "outputId": "e6fffbf7-7828-4b14-9b67-39bd6f17d515"
      },
      "execution_count": null,
      "outputs": [
        {
          "output_type": "stream",
          "name": "stdout",
          "text": [
            "['zobia', 'shweta', 'rashida', 'hidayatkhan']\n"
          ]
        }
      ]
    },
    {
      "cell_type": "markdown",
      "source": [
        "#12/02/2024"
      ],
      "metadata": {
        "id": "l35EI83vYefE"
      }
    },
    {
      "cell_type": "code",
      "source": [
        "a=[2,1,5,4,8]\n",
        "c=0\n",
        "for i in range(len(a)-1):\n",
        "  if a[i]<a[i+1]:\n",
        "    c+=1\n",
        "print(c)\n"
      ],
      "metadata": {
        "id": "ZTvjTPJ_ZDri",
        "colab": {
          "base_uri": "https://localhost:8080/"
        },
        "outputId": "bda47cf1-9ee2-4c7d-d454-ffc6d4c4be7f"
      },
      "execution_count": null,
      "outputs": [
        {
          "output_type": "stream",
          "name": "stdout",
          "text": [
            "2\n"
          ]
        }
      ]
    },
    {
      "cell_type": "code",
      "source": [
        "a=\"12rasida34\"\n",
        "b=''\n",
        "c=[]\n",
        "\n",
        "for i in a:\n",
        "  if i.isdigit():\n",
        "    c.append(i)\n",
        "print(c)\n"
      ],
      "metadata": {
        "colab": {
          "base_uri": "https://localhost:8080/"
        },
        "id": "QskUO24-Zlqs",
        "outputId": "1fd993e4-e90d-42ce-9ee1-5c6baa08b735"
      },
      "execution_count": null,
      "outputs": [
        {
          "output_type": "stream",
          "name": "stdout",
          "text": [
            "['1', '2', '3', '4']\n"
          ]
        }
      ]
    },
    {
      "cell_type": "code",
      "source": [
        "a=\"12rasida34\"\n",
        "b=''\n",
        "c=[]\n",
        "for i in a:\n",
        "  if i.isalpha():\n",
        "    c.append(i)\n",
        "print(c)"
      ],
      "metadata": {
        "colab": {
          "base_uri": "https://localhost:8080/"
        },
        "id": "fEQnL3vYk5v_",
        "outputId": "0697a93c-4070-4cc3-aea4-2933fded1fd8"
      },
      "execution_count": null,
      "outputs": [
        {
          "output_type": "stream",
          "name": "stdout",
          "text": [
            "['r', 'a', 's', 'i', 'd', 'a']\n"
          ]
        }
      ]
    },
    {
      "cell_type": "code",
      "source": [
        "a=\"12rasida34\"\n",
        "b=''\n",
        "c=''\n",
        "for i in a:\n",
        "  if i.isdigit():\n",
        "    c+=i\n",
        "# print(c)\n",
        "  else:\n",
        "    b+=i\n",
        "print(b+c)\n"
      ],
      "metadata": {
        "colab": {
          "base_uri": "https://localhost:8080/"
        },
        "id": "AfLbawW8lOpW",
        "outputId": "024e2926-d185-40d1-d376-c9155bbe3603"
      },
      "execution_count": null,
      "outputs": [
        {
          "output_type": "stream",
          "name": "stdout",
          "text": [
            "rasida1234\n"
          ]
        }
      ]
    },
    {
      "cell_type": "code",
      "source": [
        "a=\"my12name36is99Rashida55\"\n",
        "b=''\n",
        "c=''\n",
        "for i in a:\n",
        "  if i.isdigit():\n",
        "    c+=i\n",
        "# print(c)\n",
        "  else:\n",
        "    b+=i\n",
        "print(b+c)\n"
      ],
      "metadata": {
        "colab": {
          "base_uri": "https://localhost:8080/"
        },
        "id": "DP3qxOSmFj92",
        "outputId": "6a702b8c-b70e-444c-bf6d-9cb7e7d8a233"
      },
      "execution_count": null,
      "outputs": [
        {
          "output_type": "stream",
          "name": "stdout",
          "text": [
            "mynameisRashida12369955\n"
          ]
        }
      ]
    },
    {
      "cell_type": "markdown",
      "source": [
        "##sort string"
      ],
      "metadata": {
        "id": "OfwKItHWoXCE"
      }
    },
    {
      "cell_type": "code",
      "source": [
        "a=\"xyxabcpqr\"\n",
        "res=''.join(sorted(a))\n",
        "\n",
        "print('sort string: ',str(res))"
      ],
      "metadata": {
        "colab": {
          "base_uri": "https://localhost:8080/"
        },
        "id": "b6i_8s-_mzIX",
        "outputId": "279426c1-2449-480b-abeb-8063f054ad7d"
      },
      "execution_count": null,
      "outputs": [
        {
          "output_type": "stream",
          "name": "stdout",
          "text": [
            "sort string:  abcpqrxxy\n"
          ]
        }
      ]
    },
    {
      "cell_type": "code",
      "source": [
        "a=\"zyxabcpqr\"\n",
        "\n",
        "new=list(a)\n",
        "\n",
        "for i in range(len(new)):\n",
        "  for j in range(len(new)):\n",
        "    if new[i]<new[j]:\n",
        "      new[i],new[j]=new[j],new[i]\n",
        "print(new)\n",
        "\n",
        "for i in new:\n",
        "  print(i,end=\"\")"
      ],
      "metadata": {
        "colab": {
          "base_uri": "https://localhost:8080/"
        },
        "id": "OXWOl2Bpnb9_",
        "outputId": "4f18e345-36c5-40ef-bde2-9f49026c4732"
      },
      "execution_count": null,
      "outputs": [
        {
          "output_type": "stream",
          "name": "stdout",
          "text": [
            "['a', 'b', 'c', 'p', 'q', 'r', 'x', 'y', 'z']\n",
            "abcpqrxyz"
          ]
        }
      ]
    },
    {
      "cell_type": "code",
      "source": [
        "a=\"zyxabcpqr\"\n",
        "new=[]\n",
        "for i in a:\n",
        "  new.append(i)\n",
        "# print(new)\n",
        "\n",
        "for i in range(len(new)):\n",
        "  for j in range(len(new)):\n",
        "    if new[i]<new[j]:\n",
        "      new[i],new[j]=new[j],new[i]\n",
        "print(new)\n",
        "\n",
        "for i in new:\n",
        "  print(i,end=\"\")\n",
        "\n",
        "\n",
        "\n"
      ],
      "metadata": {
        "colab": {
          "base_uri": "https://localhost:8080/"
        },
        "id": "rRK5VabLoyik",
        "outputId": "4887d318-4639-405a-d841-284ca2d336ad"
      },
      "execution_count": null,
      "outputs": [
        {
          "output_type": "stream",
          "name": "stdout",
          "text": [
            "['a', 'b', 'c', 'p', 'q', 'r', 'x', 'y', 'z']\n",
            "abcpqrxyz"
          ]
        }
      ]
    },
    {
      "cell_type": "code",
      "source": [
        "m=\"my12name36is99Rashida55\"\n",
        "#m=mynameisRashida12369955\n",
        "\n",
        "numbers=''\n",
        "characters=''\n",
        "for i in m:\n",
        "  if ord(i)<65:\n",
        "    numbers+=i\n",
        "  else:\n",
        "    characters+=i\n",
        "print(characters+numbers)"
      ],
      "metadata": {
        "colab": {
          "base_uri": "https://localhost:8080/"
        },
        "id": "LyZhD5GqqPHT",
        "outputId": "e97d15bc-0fe2-4b1f-dab0-2dd6bc3b7424"
      },
      "execution_count": null,
      "outputs": [
        {
          "output_type": "stream",
          "name": "stdout",
          "text": [
            "mynameisRashida12369955\n"
          ]
        }
      ]
    },
    {
      "cell_type": "markdown",
      "source": [
        "#13/02/2024"
      ],
      "metadata": {
        "id": "hpie1POQlSNe"
      }
    },
    {
      "cell_type": "code",
      "source": [
        "x=[\"Gfg\", 3, \"is\", 8, \"Best\", 10, \"for\", 18, \"Geeks\", 33]\n",
        "y=[\"name\", \"number\"]\n",
        "d=[]\n",
        "for i in range(0,len(x),len(y)):\n",
        "  d.append({y[0]:x[i],y[1]:x[i+1]})\n",
        "print(d)"
      ],
      "metadata": {
        "id": "2jdN48C481L_",
        "colab": {
          "base_uri": "https://localhost:8080/"
        },
        "outputId": "90c10025-162a-4ef8-af18-aed978f5adb5"
      },
      "execution_count": null,
      "outputs": [
        {
          "output_type": "stream",
          "name": "stdout",
          "text": [
            "[{'name': 'Gfg', 'number': 3}, {'name': 'is', 'number': 8}, {'name': 'Best', 'number': 10}, {'name': 'for', 'number': 18}, {'name': 'Geeks', 'number': 33}]\n"
          ]
        }
      ]
    },
    {
      "cell_type": "code",
      "source": [
        "x=[\"Gfg\", 3,\"is\", 8, \"Best\", 10, \"for\", 18, \"Geeks\", 33]\n",
        "y=[\"name\", \"number\"]\n",
        "d=[]\n",
        "for i in x:\n",
        "  if type(i)==str:\n",
        "    d.append({y[0]:i})\n",
        "  else:\n",
        "    d.append({y[1]:i})\n",
        "\n",
        "print(d)"
      ],
      "metadata": {
        "colab": {
          "base_uri": "https://localhost:8080/"
        },
        "id": "8q1cpp66-SMU",
        "outputId": "8ab136f3-189b-4030-f67d-3d40a8b1ff8c"
      },
      "execution_count": null,
      "outputs": [
        {
          "output_type": "stream",
          "name": "stdout",
          "text": [
            "[{'name': 'Gfg'}, {'number': 3}, {'name': 'is'}, {'number': 8}, {'name': 'Best'}, {'number': 10}, {'name': 'for'}, {'number': 18}, {'name': 'Geeks'}, {'number': 33}]\n"
          ]
        }
      ]
    },
    {
      "cell_type": "code",
      "source": [
        "x={'month' : [1, 2, 3],'name' : ['Jan', 'Feb', 'March']}\n",
        "# y=[]\n",
        "\n",
        "for i in range(len(x['month'])):\n",
        "  # print(i)\n",
        "  d={x['month'][i]:x['name'][i]}\n",
        "  print(d)\n",
        "# output : {1: 'Jan', 2: 'Feb', 3: 'March'}\n",
        "\n"
      ],
      "metadata": {
        "colab": {
          "base_uri": "https://localhost:8080/"
        },
        "id": "b8ESw5HeltsW",
        "outputId": "16b6df44-e73e-4e3f-b090-b3b6d87300d2"
      },
      "execution_count": null,
      "outputs": [
        {
          "output_type": "stream",
          "name": "stdout",
          "text": [
            "{1: 'Jan'}\n",
            "{2: 'Feb'}\n",
            "{3: 'March'}\n"
          ]
        }
      ]
    },
    {
      "cell_type": "code",
      "source": [
        "a=36\n",
        "b=46\n",
        "a,b=b,a\n",
        "print('swap element',a,b)\n",
        "\n"
      ],
      "metadata": {
        "colab": {
          "base_uri": "https://localhost:8080/"
        },
        "id": "Lqw1kLSEnsIw",
        "outputId": "a3831376-1234-49e0-e46c-d8783394fecb"
      },
      "execution_count": null,
      "outputs": [
        {
          "output_type": "stream",
          "name": "stdout",
          "text": [
            "swap element 46 36\n"
          ]
        }
      ]
    },
    {
      "cell_type": "code",
      "source": [
        "l=[3,10,2,1,20]\n",
        "c=[]\n",
        "for i in range(len(l)):\n",
        "  g=[l[i]]\n",
        "  larg=l[i]\n",
        "  for j in range(i+1,len(l)):\n",
        "    if larg<l[j]:\n",
        "      larg=l[j]\n",
        "      g.append(l[j])\n",
        "  c.append(len(g))\n",
        "print(c)\n",
        "print(max(c))\n"
      ],
      "metadata": {
        "colab": {
          "base_uri": "https://localhost:8080/"
        },
        "id": "wkfDxOTAqNu4",
        "outputId": "80b52fae-fb00-4e14-a0f4-321f5582c00f"
      },
      "execution_count": null,
      "outputs": [
        {
          "output_type": "stream",
          "name": "stdout",
          "text": [
            "[3, 2, 2, 2, 1]\n",
            "3\n"
          ]
        }
      ]
    },
    {
      "cell_type": "code",
      "source": [
        "l=[50,3,10,7,40,80,90,6]\n",
        "c=[]\n",
        "for i in range(len(l)):\n",
        "  g=[l[i]]\n",
        "  larg=l[i]\n",
        "  for j in range(i+1,len(l)):\n",
        "    if larg<l[j]:\n",
        "      larg=l[j]\n",
        "      g.append(l[j])\n",
        "  c.append(len(g))\n",
        "print(c)\n",
        "print(max(c))"
      ],
      "metadata": {
        "colab": {
          "base_uri": "https://localhost:8080/"
        },
        "id": "YrDBq_JHtxZj",
        "outputId": "7d020dac-0dc9-47d1-ece2-b8cd7d25c426"
      },
      "execution_count": null,
      "outputs": [
        {
          "output_type": "stream",
          "name": "stdout",
          "text": [
            "[3, 5, 4, 4, 3, 2, 1, 1]\n",
            "5\n"
          ]
        }
      ]
    },
    {
      "cell_type": "markdown",
      "source": [
        "#14/02/2024"
      ],
      "metadata": {
        "id": "qPvxXiGkt4_f"
      }
    },
    {
      "cell_type": "code",
      "source": [
        "a=[2,1,11,3,1,2,3]\n",
        "b={}\n",
        "for i in a:\n",
        "  if i in b:\n",
        "    b[i]+=1\n",
        "  else:\n",
        "    b[i]=1\n",
        "print(b)\n",
        "for k,v in b.items():\n",
        "  if v==1:\n",
        "    print(k)"
      ],
      "metadata": {
        "id": "yAWAa5kdvEkI",
        "colab": {
          "base_uri": "https://localhost:8080/"
        },
        "outputId": "f9672f56-8385-401a-a8a3-5bcd95115cab"
      },
      "execution_count": null,
      "outputs": [
        {
          "output_type": "stream",
          "name": "stdout",
          "text": [
            "{2: 2, 1: 2, 11: 1, 3: 2}\n",
            "11\n"
          ]
        }
      ]
    },
    {
      "cell_type": "code",
      "source": [
        "l=['rashida ansari','zobia ansari','huda khan','shweta kadam']\n",
        "l1=[]\n",
        "st=' '\n",
        "for i in l:\n",
        "  for j in range(len(i)):\n",
        "    if i[j]==st:\n",
        "      l1+=[i[j+1:]]\n",
        "      break\n",
        "print(l1)\n"
      ],
      "metadata": {
        "id": "02iZc1JgwWz-",
        "colab": {
          "base_uri": "https://localhost:8080/"
        },
        "outputId": "0a33003e-e091-4e2b-8167-e5faebe431d2"
      },
      "execution_count": null,
      "outputs": [
        {
          "output_type": "stream",
          "name": "stdout",
          "text": [
            "['ansari', 'ansari', 'khan', 'kadam']\n"
          ]
        }
      ]
    },
    {
      "cell_type": "code",
      "source": [
        "x={'Geeks_for_for': 1, 'Geeks_for_geeks': 4, 'for_geeks_Geeks': 3, 'geeks_Geeks_for': 7}\n",
        "\n",
        "for i,j in x.items():\n",
        "  z=i.split(\"_\")\n",
        "  # print(z)\n",
        "\n",
        "  for k in range(len(z)):\n",
        "    di={z[0]:{z[1]:{z[2]:j}}}\n",
        "  print(di)\n",
        "\n",
        "# final_dict= {'Geeks': {'for': {'for': 1, 'geeks': 4}}, 'for': {'geeks': {'Geeks': 3}}, 'geeks': {'Geeks': {'for': 7}}}"
      ],
      "metadata": {
        "colab": {
          "base_uri": "https://localhost:8080/"
        },
        "id": "HyIyf9qPu_Dg",
        "outputId": "642f8ada-cd88-42f0-abac-817b7ff10e01"
      },
      "execution_count": null,
      "outputs": [
        {
          "output_type": "stream",
          "name": "stdout",
          "text": [
            "{'Geeks': {'for': {'for': 1}}}\n",
            "{'Geeks': {'for': {'geeks': 4}}}\n",
            "{'for': {'geeks': {'Geeks': 3}}}\n",
            "{'geeks': {'Geeks': {'for': 7}}}\n"
          ]
        }
      ]
    },
    {
      "cell_type": "code",
      "source": [
        "st=''"
      ],
      "metadata": {
        "id": "63YPV7vX6Y5w"
      },
      "execution_count": null,
      "outputs": []
    },
    {
      "cell_type": "code",
      "source": [
        "num = int(input(\"Enter the number of people: \"))\n",
        "total=num*(num-1)//2\n",
        "print(\"total handshack\",total)\n",
        "\n"
      ],
      "metadata": {
        "colab": {
          "base_uri": "https://localhost:8080/"
        },
        "id": "5M1nYtwZ0Nuc",
        "outputId": "5f37f431-d754-42b3-fb3c-4c3cb8ab1468"
      },
      "execution_count": null,
      "outputs": [
        {
          "output_type": "stream",
          "name": "stdout",
          "text": [
            "Enter the number of people: 10\n",
            "total handshack 45\n"
          ]
        }
      ]
    },
    {
      "cell_type": "code",
      "source": [
        "l=3\n",
        "l=l*(l-1)//2\n",
        "print(l)"
      ],
      "metadata": {
        "colab": {
          "base_uri": "https://localhost:8080/"
        },
        "id": "ap5AwsAw0OAC",
        "outputId": "68822fe6-0c00-4c6b-d821-d6926463b45d"
      },
      "execution_count": null,
      "outputs": [
        {
          "output_type": "stream",
          "name": "stdout",
          "text": [
            "3\n"
          ]
        }
      ]
    },
    {
      "cell_type": "markdown",
      "source": [
        "##Recursion"
      ],
      "metadata": {
        "id": "SkGWV4o42Xfj"
      }
    },
    {
      "cell_type": "code",
      "source": [
        "\n",
        "def fibo(n):\n",
        "   if n <= 1:\n",
        "       return n\n",
        "   else:\n",
        "       return(fibo(n-1) + fibo(n-2))\n",
        "nterms = 10\n",
        "for i in range(nterms):\n",
        "  # print(i)\n",
        "   print(fibo(i),end=' ')\n"
      ],
      "metadata": {
        "colab": {
          "base_uri": "https://localhost:8080/"
        },
        "id": "jFPqKJFs27uv",
        "outputId": "bd0d6319-2ca7-4171-ac07-560e4873235e"
      },
      "execution_count": null,
      "outputs": [
        {
          "output_type": "stream",
          "name": "stdout",
          "text": [
            "0 1 1 2 3 5 8 13 21 34 "
          ]
        }
      ]
    },
    {
      "cell_type": "markdown",
      "source": [
        "#15/02/2024"
      ],
      "metadata": {
        "id": "e1QnC0aM3HdM"
      }
    },
    {
      "cell_type": "code",
      "source": [
        "input='This is the sample of is of that word'\n",
        "st=input.split()\n",
        "z={}\n",
        "s=len(st)\n",
        "for i in st:\n",
        "  if i in z:\n",
        "    z[i]+=1\n",
        "  else:\n",
        "    z[i]=1\n",
        "# print(z)\n",
        "for k,j in z.items():\n",
        "  z[k]=j,len(k)\n",
        "print(z)"
      ],
      "metadata": {
        "id": "RM9SR-w04O5S",
        "colab": {
          "base_uri": "https://localhost:8080/"
        },
        "outputId": "1bc6cc7f-2906-4a6b-9f6d-cbe83d36d8c3"
      },
      "execution_count": null,
      "outputs": [
        {
          "output_type": "stream",
          "name": "stdout",
          "text": [
            "{'This': (1, 4), 'is': (2, 2), 'the': (1, 3), 'sample': (1, 6), 'of': (2, 2), 'that': (1, 4), 'word': (1, 4)}\n"
          ]
        }
      ]
    },
    {
      "cell_type": "code",
      "source": [
        "s=\"im mcc student\"\n",
        "an=''\n",
        "for i in s.split():\n",
        "  an=an+ \" \"+ i[::-1]\n",
        "print(an)"
      ],
      "metadata": {
        "colab": {
          "base_uri": "https://localhost:8080/"
        },
        "id": "l_Q4HTLWEaiY",
        "outputId": "f22e037a-7903-48a3-9cad-aaf495853b80"
      },
      "execution_count": null,
      "outputs": [
        {
          "output_type": "stream",
          "name": "stdout",
          "text": [
            " mi ccm tneduts\n"
          ]
        }
      ]
    },
    {
      "cell_type": "code",
      "source": [
        "s=\"im mcc student\"\n",
        "st=''\n",
        "for i in s:\n",
        "  st=i+st\n",
        "print(st)"
      ],
      "metadata": {
        "colab": {
          "base_uri": "https://localhost:8080/"
        },
        "id": "LCnhJbI9E8Py",
        "outputId": "bae6f925-ceb2-4da0-a9d1-6ac3546b1fdc"
      },
      "execution_count": null,
      "outputs": [
        {
          "output_type": "stream",
          "name": "stdout",
          "text": [
            "tneduts ccm mi\n"
          ]
        }
      ]
    },
    {
      "cell_type": "markdown",
      "source": [
        "##Write a Python program to count the number of strings from a given list of strings. The string length is 2 or more and the first and last characters are the same."
      ],
      "metadata": {
        "id": "Lz0GU_WHPmbW"
      }
    },
    {
      "cell_type": "code",
      "source": [
        "lst=['abc', 'xyz', 'aba', '1221']\n",
        "l={}\n",
        "c=0\n",
        "for i in lst:\n",
        "  if i[0] == i[-1]:\n",
        "    c=c+1\n",
        "print(c)\n"
      ],
      "metadata": {
        "id": "78Pvejno5FiH",
        "colab": {
          "base_uri": "https://localhost:8080/"
        },
        "outputId": "f3ba3a3b-c03f-4323-d925-1006f0e83d34"
      },
      "execution_count": null,
      "outputs": [
        {
          "output_type": "stream",
          "name": "stdout",
          "text": [
            "2\n"
          ]
        }
      ]
    },
    {
      "cell_type": "markdown",
      "source": [
        "##Write a Python program to get a list, sorted in increasing order by the last element in each tuple from a given list of non-empty tuples."
      ],
      "metadata": {
        "id": "8qdRII3JQ0E_"
      }
    },
    {
      "cell_type": "code",
      "source": [
        "ls=[(2, 5), (1, 2), (4, 4), (2, 3), (2, 1)]\n",
        "for i in range(len(ls)):\n",
        "  for j  in range(len(ls)):\n",
        "    if ls[i][1]<ls[j][1]:\n",
        "      ls[i],ls[j]=ls[j],ls[i]\n",
        "print(ls)"
      ],
      "metadata": {
        "colab": {
          "base_uri": "https://localhost:8080/"
        },
        "id": "OxIv-7u1P3Wb",
        "outputId": "b0daa658-cc14-45a1-a134-7888d1831b41"
      },
      "execution_count": null,
      "outputs": [
        {
          "output_type": "stream",
          "name": "stdout",
          "text": [
            "[(2, 1), (1, 2), (2, 3), (4, 4), (2, 5)]\n"
          ]
        }
      ]
    },
    {
      "cell_type": "code",
      "source": [
        "a = [10, 20, 30, 20, 10, 50, 60, 40, 80, 50, 40]\n",
        "b=[]\n",
        "for i in a:\n",
        "  if i not in b:\n",
        "    b.append(i)\n",
        "print(b)\n",
        "\n"
      ],
      "metadata": {
        "id": "VhBZ7iSiQ9Er",
        "colab": {
          "base_uri": "https://localhost:8080/"
        },
        "outputId": "64484930-4c75-43b3-95d9-48846a1450e7"
      },
      "execution_count": null,
      "outputs": [
        {
          "output_type": "stream",
          "name": "stdout",
          "text": [
            "[10, 20, 30, 50, 60, 40, 80]\n"
          ]
        }
      ]
    },
    {
      "cell_type": "markdown",
      "source": [
        "#17/02/2024"
      ],
      "metadata": {
        "id": "H-xZA7I8ox39"
      }
    },
    {
      "cell_type": "code",
      "source": [
        "a={\"mumbai\":\"india\",\"washington\":\"america\",\"karachi\":\"pakistan\",\"kolkatta\":\"india\"}\n",
        "\n",
        "res= {value: key for key, value in a.items()}\n",
        "\n",
        "print(res)"
      ],
      "metadata": {
        "id": "RLj6Zqck7E_I",
        "colab": {
          "base_uri": "https://localhost:8080/"
        },
        "outputId": "d04a92fa-7aff-4866-b2cd-8b5a53d58374"
      },
      "execution_count": null,
      "outputs": [
        {
          "output_type": "stream",
          "name": "stdout",
          "text": [
            "{'india': 'kolkatta', 'america': 'washington', 'pakistan': 'karachi'}\n"
          ]
        }
      ]
    },
    {
      "cell_type": "code",
      "source": [
        "a={\"mumbai\":\"india\",\"washington\":\"america\",\"karachi\":\"pakistan\",\"kolkatta\":\"india\"}\n",
        "em={}\n",
        "for k,v in a.items():\n",
        "  em.update({v:k})\n",
        "print(em)"
      ],
      "metadata": {
        "id": "vPc8z4jN7FE2",
        "colab": {
          "base_uri": "https://localhost:8080/"
        },
        "outputId": "ec87922c-38d0-4dde-c1c1-4a46062f21b6"
      },
      "execution_count": null,
      "outputs": [
        {
          "output_type": "stream",
          "name": "stdout",
          "text": [
            "{'india': 'kolkatta', 'america': 'washington', 'pakistan': 'karachi'}\n"
          ]
        }
      ]
    },
    {
      "cell_type": "code",
      "source": [
        "a={\"mumbai\":\"india\",\"washington\":\"america\",\"karachi\":\"pakistan\",\"kolkatta\":\"india\"}\n",
        "\n",
        "reversed_dict = {}\n",
        "for key, value in a.items():\n",
        "    reversed_dict[value] = key\n",
        "\n",
        "print(reversed_dict)\n"
      ],
      "metadata": {
        "colab": {
          "base_uri": "https://localhost:8080/"
        },
        "id": "U110lzAB2qrI",
        "outputId": "2ad4eceb-3961-490e-e33e-e6a8864b2ed1"
      },
      "execution_count": null,
      "outputs": [
        {
          "output_type": "stream",
          "name": "stdout",
          "text": [
            "{'india': 'kolkatta', 'america': 'washington', 'pakistan': 'karachi'}\n"
          ]
        }
      ]
    },
    {
      "cell_type": "code",
      "source": [
        "st=[11,10,121,100]\n",
        "for i in range(len(st)):\n",
        "  for j in range(len(st)):\n",
        "    if st[i]<st[j]:\n",
        "      st[i],st[j]=st[j],st[i]\n",
        "print(st)\n",
        "print(\"second highest in list\",st[-2])"
      ],
      "metadata": {
        "colab": {
          "base_uri": "https://localhost:8080/"
        },
        "id": "FsiDf6gJ3M5c",
        "outputId": "51f06457-7a76-495c-d6a0-cd0d3c0e78bf"
      },
      "execution_count": null,
      "outputs": [
        {
          "output_type": "stream",
          "name": "stdout",
          "text": [
            "[10, 11, 100, 121]\n",
            "second highest in list 100\n"
          ]
        }
      ]
    },
    {
      "cell_type": "code",
      "source": [
        "a=5\n",
        "s=12\n",
        "# out  93000"
      ],
      "metadata": {
        "id": "QybjRa9v7FKa"
      },
      "execution_count": null,
      "outputs": []
    },
    {
      "cell_type": "markdown",
      "source": [
        "###Python program to find the average of 10 numbers using while loop"
      ],
      "metadata": {
        "id": "xzaqQxYU731y"
      }
    },
    {
      "cell_type": "code",
      "source": [
        "count = 0\n",
        "sum = 0.0\n",
        "while(count<5):\n",
        "    number = float(input(\"Enter a real number: \"))\n",
        "    count=count+1\n",
        "    sum = sum+number\n",
        "avg = sum/10\n",
        "print(\"Average is :\",avg)"
      ],
      "metadata": {
        "colab": {
          "base_uri": "https://localhost:8080/"
        },
        "id": "p9c7cetQst7u",
        "outputId": "78e15e68-75bc-40da-e3ea-6c58140ec295"
      },
      "execution_count": null,
      "outputs": [
        {
          "output_type": "stream",
          "name": "stdout",
          "text": [
            "Enter a real number: 2\n",
            "Enter a real number: 3\n",
            "Enter a real number: 1\n",
            "Enter a real number: 11\n",
            "Enter a real number: 12\n",
            "Average is : 2.9\n"
          ]
        }
      ]
    },
    {
      "cell_type": "markdown",
      "source": [
        "###Python program to display the given integer in a reverse manner"
      ],
      "metadata": {
        "id": "nqF0CmsQ8Ji4"
      }
    },
    {
      "cell_type": "code",
      "source": [
        "number = int(input(\"Enter a positive integer: \"))\n",
        "rev = 0\n",
        "while(number!=0):\n",
        "    digit = number%10\n",
        "    rev = (rev*10)+digit\n",
        "    number = number//10\n",
        "print(rev)"
      ],
      "metadata": {
        "colab": {
          "base_uri": "https://localhost:8080/"
        },
        "id": "tny-OK6N7auO",
        "outputId": "96df7e9f-23c2-47eb-8c80-4ac09bb0338c"
      },
      "execution_count": null,
      "outputs": [
        {
          "output_type": "stream",
          "name": "stdout",
          "text": [
            "Enter a positive integer: 54321\n",
            "12345\n"
          ]
        }
      ]
    },
    {
      "cell_type": "markdown",
      "source": [
        "###Python program to find the sum of the digits of an integer using a while loop"
      ],
      "metadata": {
        "id": "BNFziXym8pkt"
      }
    },
    {
      "cell_type": "code",
      "source": [
        "sum = 0\n",
        "number = int(input(\"Enter an integer: \"))\n",
        "while(number!=0):\n",
        "    digit = number%10\n",
        "    sum = sum+digit\n",
        "    number = number//10\n",
        "print(\"Sum of digits is: \", sum)"
      ],
      "metadata": {
        "colab": {
          "base_uri": "https://localhost:8080/"
        },
        "id": "nosyAlr38BVc",
        "outputId": "6483d851-cb3f-4a9c-d67b-c8ff9d801812"
      },
      "execution_count": null,
      "outputs": [
        {
          "output_type": "stream",
          "name": "stdout",
          "text": [
            "Enter an integer: 61562\n",
            "Sum of digits is:  20\n"
          ]
        }
      ]
    },
    {
      "cell_type": "markdown",
      "source": [
        "###Python program to check whether the given integer is a prime number or not"
      ],
      "metadata": {
        "id": "ksIlyAY--T9q"
      }
    },
    {
      "cell_type": "code",
      "source": [
        "num = int(input(\"Enter an integer greater than 1: \"))\n",
        "isprime = 1\n",
        "for i in range(2,num//2):\n",
        "    if (num%i==0):\n",
        "        isprime = 0\n",
        "        break\n",
        "if(isprime==1):\n",
        "    print(num, \"is a prime number\")\n",
        "else:\n",
        "    print(num, \"is not a prime number\")"
      ],
      "metadata": {
        "colab": {
          "base_uri": "https://localhost:8080/"
        },
        "id": "w-9ZL1eO8km6",
        "outputId": "991f04dd-61cf-4234-dc86-1e92a147c010"
      },
      "execution_count": null,
      "outputs": [
        {
          "output_type": "stream",
          "name": "stdout",
          "text": [
            "Enter an integer greater than 1: 15\n",
            "15 is not a prime number\n"
          ]
        }
      ]
    },
    {
      "cell_type": "markdown",
      "source": [
        "#19/02/2024"
      ],
      "metadata": {
        "id": "bfLP8lsrfvv2"
      }
    },
    {
      "cell_type": "code",
      "source": [
        "a=[2,1,3,4,2,3]\n",
        "b={}\n",
        "for i in a:\n",
        "  if i in b:\n",
        "    b[i]+=1\n",
        "  else:\n",
        "    b[i]=1\n",
        "# print(b)\n",
        "for k,v in b.items():\n",
        "  if v>1:\n",
        "    # print(k)\n",
        "    if k%2==0:\n",
        "      print('even',k)\n",
        "    else:\n",
        "      print('odd',k)\n"
      ],
      "metadata": {
        "id": "KWU3McW399ZQ",
        "colab": {
          "base_uri": "https://localhost:8080/"
        },
        "outputId": "d9661cb4-3b1b-4762-c6e2-55ec704314a9"
      },
      "execution_count": null,
      "outputs": [
        {
          "output_type": "stream",
          "name": "stdout",
          "text": [
            "even 2\n",
            "odd 3\n"
          ]
        }
      ]
    },
    {
      "cell_type": "code",
      "source": [
        "s='abcdefghijklmnopqrstuvwxyz'\n",
        "\n",
        "'''output abcd\n",
        "efgh\n",
        "ijkl\n",
        "mnop\n",
        "qrst\n",
        "uvwx\n",
        "yz'''\n",
        "for i in range(0,len(s),4):\n",
        "  # print(s[i])\n",
        "  print(s[i:i+4])"
      ],
      "metadata": {
        "colab": {
          "base_uri": "https://localhost:8080/"
        },
        "id": "xxP07wywgNJN",
        "outputId": "ef070809-6d81-4c9d-e3a7-30797bc50c3d"
      },
      "execution_count": null,
      "outputs": [
        {
          "output_type": "stream",
          "name": "stdout",
          "text": [
            "abcd\n",
            "efgh\n",
            "ijkl\n",
            "mnop\n",
            "qrst\n",
            "uvwx\n",
            "yz\n"
          ]
        }
      ]
    },
    {
      "cell_type": "code",
      "source": [
        "dt=[['a', 'b', 1, 2], ['c', 'd', 3, 4], ['e', 'f','j', 5, 6]]\n",
        "d={}\n",
        "# The mapped Dictionary : {('a', 'b'): (1, 2), ('c', 'd'): (3, 4), ('e', 'f'): (5, 6)}\n",
        "for i in dt:\n",
        "  k=tuple(i[:2])\n",
        "  v=tuple(i[2:])\n",
        "  d[k]=v\n",
        "print(d)\n"
      ],
      "metadata": {
        "colab": {
          "base_uri": "https://localhost:8080/"
        },
        "id": "pjwe7rounkOZ",
        "outputId": "9d443886-bcde-41aa-de72-9940c526c1bf"
      },
      "execution_count": null,
      "outputs": [
        {
          "output_type": "stream",
          "name": "stdout",
          "text": [
            "{('a', 'b'): (1, 2), ('c', 'd'): (3, 4), ('e', 'f'): ('j', 5, 6)}\n"
          ]
        }
      ]
    },
    {
      "cell_type": "markdown",
      "source": [
        "##convert list into a dictionary"
      ],
      "metadata": {
        "id": "S_IgtK6Ju6j7"
      }
    },
    {
      "cell_type": "code",
      "source": [
        "\n",
        "l1=[1,2,3,4]\n",
        "l2=['a','b','c','d']\n",
        "d1=zip(l1,l2)\n",
        "print (dict(d1))"
      ],
      "metadata": {
        "colab": {
          "base_uri": "https://localhost:8080/"
        },
        "id": "Nc7JWSk4rPU2",
        "outputId": "f499eec2-ba42-484a-c1e3-76b8eea6db66"
      },
      "execution_count": null,
      "outputs": [
        {
          "output_type": "stream",
          "name": "stdout",
          "text": [
            "{1: 'a', 2: 'b', 3: 'c', 4: 'd'}\n"
          ]
        }
      ]
    },
    {
      "cell_type": "code",
      "source": [
        "l1=[{1:'a',2:'b'},{3:'c',4:'d'}]\n",
        "d1={}\n",
        "for i in l1:\n",
        "    d1.update(i)\n",
        "print (d1)"
      ],
      "metadata": {
        "colab": {
          "base_uri": "https://localhost:8080/"
        },
        "id": "X_ckGjjarZad",
        "outputId": "3720bfac-671d-44bc-dad0-13407860169c"
      },
      "execution_count": null,
      "outputs": [
        {
          "output_type": "stream",
          "name": "stdout",
          "text": [
            "{1: 'a', 2: 'b', 3: 'c', 4: 'd'}\n"
          ]
        }
      ]
    },
    {
      "cell_type": "markdown",
      "source": [
        "##convert list of tuple into dictionary\n",
        "\n"
      ],
      "metadata": {
        "id": "1dWoHhynw9YN"
      }
    },
    {
      "cell_type": "code",
      "source": [
        "color=[('red',1),('blue',2),('green',3)]\n",
        "d=dict(color)\n",
        "print (d)"
      ],
      "metadata": {
        "colab": {
          "base_uri": "https://localhost:8080/"
        },
        "id": "pgr8M8uir9g_",
        "outputId": "ff485259-d82c-4b3d-a2f6-3a5477b399bf"
      },
      "execution_count": null,
      "outputs": [
        {
          "output_type": "stream",
          "name": "stdout",
          "text": [
            "{'red': 1, 'blue': 2, 'green': 3}\n"
          ]
        }
      ]
    },
    {
      "cell_type": "code",
      "source": [
        "color=[('red',1),('blue',2),('green',3)]\n",
        "d={}\n",
        "for i in color:\n",
        "  # print(i[0])\n",
        "  d[i[0]]=i[1]\n",
        "print(d)\n",
        "\n"
      ],
      "metadata": {
        "colab": {
          "base_uri": "https://localhost:8080/"
        },
        "id": "5AbGNGUZsESO",
        "outputId": "6ca4d919-9c4b-47ab-84ec-e8348df04a7f"
      },
      "execution_count": null,
      "outputs": [
        {
          "output_type": "stream",
          "name": "stdout",
          "text": [
            "{'red': 1, 'blue': 2, 'green': 3}\n"
          ]
        }
      ]
    },
    {
      "cell_type": "markdown",
      "source": [
        "#21/02/2024"
      ],
      "metadata": {
        "id": "KV3CkPvtqEjN"
      }
    },
    {
      "cell_type": "markdown",
      "source": [
        "##list comprehension"
      ],
      "metadata": {
        "id": "_ZR3dpfi4AOo"
      }
    },
    {
      "cell_type": "code",
      "source": [
        "sq=[x**2 for x in range(10)]\n",
        "print(sq)"
      ],
      "metadata": {
        "id": "8l2nwb4wwsLi",
        "colab": {
          "base_uri": "https://localhost:8080/"
        },
        "outputId": "1d77fd41-1806-4041-f342-376fdbbbc6ab"
      },
      "execution_count": null,
      "outputs": [
        {
          "output_type": "stream",
          "name": "stdout",
          "text": [
            "[0, 1, 4, 9, 16, 25, 36, 49, 64, 81]\n"
          ]
        }
      ]
    },
    {
      "cell_type": "code",
      "source": [
        "x=['red', 'white', 'black', 'redi', 'green', 'bl']\n",
        "for i in range(len(x)):\n",
        "  # print(x[i])\n",
        "  for j in range(len(x)):\n",
        "    if len(x[i])<len(x[j]):\n",
        "      x[i],x[j]=x[j],x[i]\n",
        "print(x)"
      ],
      "metadata": {
        "colab": {
          "base_uri": "https://localhost:8080/"
        },
        "id": "M3N0LhY0qdIv",
        "outputId": "b33d3da1-d83b-4e7b-97c1-946103f24bc2"
      },
      "execution_count": null,
      "outputs": [
        {
          "output_type": "stream",
          "name": "stdout",
          "text": [
            "['bl', 'red', 'redi', 'white', 'green', 'black']\n"
          ]
        }
      ]
    },
    {
      "cell_type": "markdown",
      "source": [
        "###Write a Python program to get a single string from two given strings, separated by a space and swap the first two characters of each string."
      ],
      "metadata": {
        "id": "qJGev2bL8Fxf"
      }
    },
    {
      "cell_type": "code",
      "source": [
        "a='abc', 'xyz'\n",
        "# print(a[1][:2])\n",
        "# print(a[0][2:])\n",
        "# print(a[1][2:])\n",
        "# print(a[0][:2])\n",
        "res=a[1][:2]+a[0][2:] +' ' + a[0][:2] +a[1][2:]\n",
        "print(res)\n"
      ],
      "metadata": {
        "colab": {
          "base_uri": "https://localhost:8080/"
        },
        "id": "bK0LAU9drXZs",
        "outputId": "ba12e6c6-377c-46c8-ae8b-e899108a7622"
      },
      "execution_count": null,
      "outputs": [
        {
          "output_type": "stream",
          "name": "stdout",
          "text": [
            "xyc abz\n"
          ]
        }
      ]
    },
    {
      "cell_type": "code",
      "source": [
        "st='Exercises'\n",
        "print(len(st))"
      ],
      "metadata": {
        "colab": {
          "base_uri": "https://localhost:8080/"
        },
        "id": "VZ-K0pBo4-hG",
        "outputId": "902f6c28-4339-4adb-896c-70f6a2b3ff85"
      },
      "execution_count": null,
      "outputs": [
        {
          "output_type": "stream",
          "name": "stdout",
          "text": [
            "9\n"
          ]
        }
      ]
    },
    {
      "cell_type": "code",
      "source": [
        "st='Exercises'\n",
        "ct=0\n",
        "for i in st:\n",
        "  ct+=1\n",
        "print(ct)"
      ],
      "metadata": {
        "colab": {
          "base_uri": "https://localhost:8080/"
        },
        "id": "wIgU2zTU4_EF",
        "outputId": "ce2f2b44-1109-4891-e608-d513d69a4d4e"
      },
      "execution_count": null,
      "outputs": [
        {
          "output_type": "stream",
          "name": "stdout",
          "text": [
            "9\n"
          ]
        }
      ]
    },
    {
      "cell_type": "code",
      "source": [
        "l = [10, 1, 2, 7, 6, 1, 5]\n",
        "tag = 8\n",
        "output = []\n",
        "\n",
        "for i in range(len(l)):\n",
        "    for j in range(i + 1, len(l)):\n",
        "        if l[i] + l[j] == tag:\n",
        "            output.append([l[i], l[j]])\n",
        "\n",
        "print(output)"
      ],
      "metadata": {
        "colab": {
          "base_uri": "https://localhost:8080/"
        },
        "id": "Sw8BP1wQ91D6",
        "outputId": "1adaa0cb-1c63-488f-c23b-57ad748de35e"
      },
      "execution_count": null,
      "outputs": [
        {
          "output_type": "stream",
          "name": "stdout",
          "text": [
            "[[1, 7], [2, 6], [7, 1]]\n"
          ]
        }
      ]
    },
    {
      "cell_type": "code",
      "source": [
        "dt={\"Rahul\":38,\"Vijay\":17,\"Pranav\":93,\"Biswajit\":98}\n",
        "d=0\n",
        "d1=None\n",
        "for k,v in dt.items():\n",
        "  if v>d:\n",
        "    d=v\n",
        "    d1=k\n",
        "print(\"highest marks \",d1,d)\n"
      ],
      "metadata": {
        "colab": {
          "base_uri": "https://localhost:8080/"
        },
        "id": "0_2Kvgib91eZ",
        "outputId": "b99ea3f3-a959-432c-c49c-3906de3f0f0a"
      },
      "execution_count": null,
      "outputs": [
        {
          "output_type": "stream",
          "name": "stdout",
          "text": [
            "highest marks  Biswajit 98\n"
          ]
        }
      ]
    },
    {
      "cell_type": "code",
      "source": [
        "dt={\"Rahul\":38,\"Vijay\":17,\"Pranav\":93,\"Biswajit\":98}\n",
        "for name,marks in dt.items():\n",
        "  if marks>35:\n",
        "    print(\"pass student name is \",name)"
      ],
      "metadata": {
        "colab": {
          "base_uri": "https://localhost:8080/"
        },
        "id": "ImAth8_7--oU",
        "outputId": "f82aab54-f047-4316-8e8a-2ebbf049e7b8"
      },
      "execution_count": null,
      "outputs": [
        {
          "output_type": "stream",
          "name": "stdout",
          "text": [
            "pass student name is  Rahul\n",
            "pass student name is  Pranav\n",
            "pass student name is  Biswajit\n"
          ]
        }
      ]
    },
    {
      "cell_type": "code",
      "source": [
        "dt={\"Rahul\":38,\"Vijay\":17,\"Pranav\":93,\"Biswajit\":98}\n",
        "for i in dt:\n",
        "  if dt[i]>35:\n",
        "    print(\"pass student\",i)"
      ],
      "metadata": {
        "colab": {
          "base_uri": "https://localhost:8080/"
        },
        "id": "vtlE5rU1_exO",
        "outputId": "fe23313d-74b1-4997-de41-25b9f0539105"
      },
      "execution_count": null,
      "outputs": [
        {
          "output_type": "stream",
          "name": "stdout",
          "text": [
            "pass student Rahul\n",
            "pass student Pranav\n",
            "pass student Biswajit\n"
          ]
        }
      ]
    },
    {
      "cell_type": "markdown",
      "source": [
        "#23/02/2024"
      ],
      "metadata": {
        "id": "vwXrKFHJDPM2"
      }
    },
    {
      "cell_type": "markdown",
      "source": [
        "###sort matching values"
      ],
      "metadata": {
        "id": "pmh_XwuyNOwr"
      }
    },
    {
      "cell_type": "code",
      "source": [
        "at=[\"eat\",\"tea\",\"ate\",\"nat\",\"tan\",\"bat\"]\n",
        "a={}\n",
        "for i in at:\n",
        "  res=''.join(sorted(i))\n",
        "  # print(res)\n",
        "  if res not in a:\n",
        "    a[res]=[i]\n",
        "  else:\n",
        "    a[res].append(i)\n",
        "# print(a)\n",
        "l=[]\n",
        "for v in a.values():\n",
        "  l.append(v)\n",
        "print(l)"
      ],
      "metadata": {
        "id": "jeTuBe2iEzfd",
        "colab": {
          "base_uri": "https://localhost:8080/"
        },
        "outputId": "0e46838b-dc2d-4b7e-f142-7f2a2d419f49"
      },
      "execution_count": null,
      "outputs": [
        {
          "output_type": "stream",
          "name": "stdout",
          "text": [
            "[['eat', 'tea', 'ate'], ['nat', 'tan'], ['bat']]\n"
          ]
        }
      ]
    },
    {
      "cell_type": "code",
      "source": [
        "at=[\"eat\",\"tea\",\"ate\",\"nat\",\"tan\",\"bat\"]\n",
        "for i in at:\n",
        "  res=''.join(sorted(i))\n",
        "  print(res)"
      ],
      "metadata": {
        "colab": {
          "base_uri": "https://localhost:8080/"
        },
        "id": "5KuPIVZOFKx7",
        "outputId": "008b150d-7195-4958-e44e-5a931fed3d7b"
      },
      "execution_count": null,
      "outputs": [
        {
          "output_type": "stream",
          "name": "stdout",
          "text": [
            "aet\n",
            "aet\n",
            "aet\n",
            "ant\n",
            "ant\n",
            "abt\n"
          ]
        }
      ]
    },
    {
      "cell_type": "code",
      "source": [
        "st=[\"madam\",\"mumbai\",\"mom\",\"ada\"]\n",
        "\n",
        "g=st[0]\n",
        "for i in st:\n",
        "  # print(i)\n",
        "  if i==i[::-1]:\n",
        "    if len(g)>len(i):\n",
        "      g=i\n",
        "print(g)"
      ],
      "metadata": {
        "colab": {
          "base_uri": "https://localhost:8080/"
        },
        "id": "8BkRUG7mMZr0",
        "outputId": "425e392b-4381-4ab5-cf96-5e90b2644ab5"
      },
      "execution_count": null,
      "outputs": [
        {
          "output_type": "stream",
          "name": "stdout",
          "text": [
            "mom\n"
          ]
        }
      ]
    },
    {
      "cell_type": "code",
      "source": [
        "st=[\"madam\",\"mumbai\",\"mom\",\"ada\"]\n",
        "\n",
        "g=st[0]\n",
        "for i in st:\n",
        "  # print(i)\n",
        "  if i==i[::-1]:\n",
        "    if len(g)>=len(i):\n",
        "      g=i\n",
        "print(g)"
      ],
      "metadata": {
        "colab": {
          "base_uri": "https://localhost:8080/"
        },
        "id": "LLepjuleTFEE",
        "outputId": "c2441a66-a5a1-4683-9065-1338abc979a5"
      },
      "execution_count": null,
      "outputs": [
        {
          "output_type": "stream",
          "name": "stdout",
          "text": [
            "ada\n"
          ]
        }
      ]
    },
    {
      "cell_type": "code",
      "source": [
        "s = \"madam\"\n",
        "if s==s[::-1]:\n",
        "  print(s,\"palandrome\")\n",
        "else:\n",
        "  print('not palandrome')"
      ],
      "metadata": {
        "colab": {
          "base_uri": "https://localhost:8080/"
        },
        "id": "ZvCD_C4zN7No",
        "outputId": "151d959b-7eeb-4a50-c547-27a48c204999"
      },
      "execution_count": null,
      "outputs": [
        {
          "output_type": "stream",
          "name": "stdout",
          "text": [
            "madam palandrome\n"
          ]
        }
      ]
    },
    {
      "cell_type": "markdown",
      "source": [
        "###reversed string"
      ],
      "metadata": {
        "id": "X6l57Z2dV8Kt"
      }
    },
    {
      "cell_type": "code",
      "source": [
        "st =\" geeks quiz practice code\"\n",
        "s=st.split()\n",
        "print(s)\n",
        "res=s[::-1]\n",
        "print(' '.join(res))\n"
      ],
      "metadata": {
        "colab": {
          "base_uri": "https://localhost:8080/"
        },
        "id": "rdae45MsN-qC",
        "outputId": "04d3d84b-1f01-4504-bd6e-1a63107332fe"
      },
      "execution_count": null,
      "outputs": [
        {
          "output_type": "stream",
          "name": "stdout",
          "text": [
            "['geeks', 'quiz', 'practice', 'code']\n",
            "code practice quiz geeks\n"
          ]
        }
      ]
    },
    {
      "cell_type": "code",
      "source": [
        "l=['sum all the items in a list','find the second smalles number in a list ']\n",
        "l1=[]\n",
        "for i in l:\n",
        "  # print(i)\n",
        "  r=i.split()\n",
        "  # print(r)\n",
        "  for j in range(len(r)-1):\n",
        "    l1.append((r[j],r[j+1]))\n",
        "print(l1)\n"
      ],
      "metadata": {
        "colab": {
          "base_uri": "https://localhost:8080/"
        },
        "id": "UFVV7UlvTen1",
        "outputId": "cd94c9c3-790e-447b-87a1-8543b86c0e8f"
      },
      "execution_count": null,
      "outputs": [
        {
          "output_type": "stream",
          "name": "stdout",
          "text": [
            "[('sum', 'all'), ('all', 'the'), ('the', 'items'), ('items', 'in'), ('in', 'a'), ('a', 'list'), ('find', 'the'), ('the', 'second'), ('second', 'smalles'), ('smalles', 'number'), ('number', 'in'), ('in', 'a'), ('a', 'list')]\n"
          ]
        }
      ]
    },
    {
      "cell_type": "code",
      "source": [
        "a=[[10, 20], [30, 40], [50, 60], [30, 20, 80]]\n",
        "b=[[61], [12, 14, 15], [12, 13, 19, 20], [12]]\n",
        "res=[i+j for i,j in zip(a,b)]\n",
        "print(res)\n"
      ],
      "metadata": {
        "colab": {
          "base_uri": "https://localhost:8080/"
        },
        "id": "d1lpVghKXIIx",
        "outputId": "a581f080-68fd-4172-b61b-cf054694a04c"
      },
      "execution_count": null,
      "outputs": [
        {
          "output_type": "stream",
          "name": "stdout",
          "text": [
            "[[10, 20, 61], [30, 40, 12, 14, 15], [50, 60, 12, 13, 19, 20], [30, 20, 80, 12]]\n"
          ]
        }
      ]
    },
    {
      "cell_type": "code",
      "source": [
        "a=[[10, 20], [30, 40], [50, 60], [30, 20, 80]]\n",
        "b=[[61], [12, 14, 15], [12, 13, 19, 20], [12]]\n",
        "c=[]\n",
        "for i in range(len(a)):\n",
        "  tem=[*a[i],*b[i]]\n",
        "  c.append(tem)\n",
        "print(c)\n"
      ],
      "metadata": {
        "colab": {
          "base_uri": "https://localhost:8080/"
        },
        "id": "Czn0TkSMYRn5",
        "outputId": "d8b04b86-0883-4af6-906c-a76ca6a45a6e"
      },
      "execution_count": null,
      "outputs": [
        {
          "output_type": "stream",
          "name": "stdout",
          "text": [
            "[[10, 20, 61], [30, 40, 12, 14, 15], [50, 60, 12, 13, 19, 20], [30, 20, 80, 12]]\n"
          ]
        }
      ]
    },
    {
      "cell_type": "markdown",
      "source": [
        "#24/02/2024"
      ],
      "metadata": {
        "id": "nvSST6omQAur"
      }
    },
    {
      "cell_type": "code",
      "source": [
        "input=5\n",
        "d={}\n",
        "for i in range(1,6):\n",
        "  res=64+i\n",
        "  d[i]=chr(res)\n",
        "print(d)"
      ],
      "metadata": {
        "id": "1szeCsgVaScj",
        "colab": {
          "base_uri": "https://localhost:8080/"
        },
        "outputId": "81d65bde-224a-4c19-a720-0cf1c616383d"
      },
      "execution_count": null,
      "outputs": [
        {
          "output_type": "stream",
          "name": "stdout",
          "text": [
            "{1: 'A', 2: 'B', 3: 'C', 4: 'D', 5: 'E'}\n"
          ]
        }
      ]
    },
    {
      "cell_type": "code",
      "source": [
        "input=5\n",
        "d={}\n",
        "for i in range(1,27):\n",
        "  res=64+i\n",
        "  d[i]=chr(res)\n",
        "print(d)"
      ],
      "metadata": {
        "colab": {
          "base_uri": "https://localhost:8080/"
        },
        "id": "i51rov2GSKaA",
        "outputId": "6ec13537-1b52-436f-a750-7ce848f1559a"
      },
      "execution_count": null,
      "outputs": [
        {
          "output_type": "stream",
          "name": "stdout",
          "text": [
            "{1: 'A', 2: 'B', 3: 'C', 4: 'D', 5: 'E', 6: 'F', 7: 'G', 8: 'H', 9: 'I', 10: 'J', 11: 'K', 12: 'L', 13: 'M', 14: 'N', 15: 'O', 16: 'P', 17: 'Q', 18: 'R', 19: 'S', 20: 'T', 21: 'U', 22: 'V', 23: 'W', 24: 'X', 25: 'Y', 26: 'Z'}\n"
          ]
        }
      ]
    },
    {
      "cell_type": "code",
      "source": [
        "a=[\"abcd\",\"dcba\",\"lls\",\"s\",\"sssll\"]\n",
        "l=[]\n",
        "ot=[[0,1],[1,0],[3,2],[2,4]]\n",
        "\n",
        "for i in range(len(a)):\n",
        "  # print(i)\n",
        "  for j in range(len(a)):\n",
        "    # print(j)\n",
        "    if i==j:\n",
        "\n",
        "      continue\n",
        "    else:\n",
        "      res=a[i]+a[j]\n",
        "      if res==res[::-1]:\n",
        "        l.append([i,j])\n",
        "print(l)"
      ],
      "metadata": {
        "colab": {
          "base_uri": "https://localhost:8080/"
        },
        "id": "VdO6AvpsPw1n",
        "outputId": "74df0b5a-7f7e-4bbb-c36d-c0c591c87d5a"
      },
      "execution_count": null,
      "outputs": [
        {
          "output_type": "stream",
          "name": "stdout",
          "text": [
            "[[0, 1], [1, 0], [2, 4], [3, 2]]\n"
          ]
        }
      ]
    },
    {
      "cell_type": "code",
      "source": [
        "st=['Red', 'Green', 'White', 'Black', 'Pink', 'Yellow']\n",
        "for i in range(len(st)):\n",
        "  for j in range(len(st)):\n",
        "    if len(st[i])<len(st[j]):\n",
        "      st[i],st[j]=st[j],st[i]\n",
        "print(st)\n"
      ],
      "metadata": {
        "colab": {
          "base_uri": "https://localhost:8080/"
        },
        "id": "Ann6v5c8TvDC",
        "outputId": "f83916f4-7f67-4f04-a9be-0c631336163b"
      },
      "execution_count": null,
      "outputs": [
        {
          "output_type": "stream",
          "name": "stdout",
          "text": [
            "['Red', 'Pink', 'Black', 'White', 'Green', 'Yellow']\n"
          ]
        }
      ]
    },
    {
      "cell_type": "code",
      "source": [
        "l=[0,1,2,3,4,5]\n",
        "for i in range(0,len(l),2):\n",
        "  l[i],l[i+1]=l[i+1],l[i]\n",
        "print(l)\n"
      ],
      "metadata": {
        "colab": {
          "base_uri": "https://localhost:8080/"
        },
        "id": "hy-ijmNBxcim",
        "outputId": "51add4bf-1112-4da5-99f6-2a3de3bbd90d"
      },
      "execution_count": null,
      "outputs": [
        {
          "output_type": "stream",
          "name": "stdout",
          "text": [
            "[1, 0, 3, 2, 5, 4]\n"
          ]
        }
      ]
    },
    {
      "cell_type": "code",
      "source": [
        "l=[10, 1, 2, 7, 6, 1, 5]\n",
        "t=8\n",
        "o=[]\n",
        "for i in range(len(l)):\n",
        "  for j in range(i+1,len(l)):\n",
        "    if l[i]+l[j]==t:\n",
        "      o.append([l[i],l[j]])\n",
        "print(o)\n"
      ],
      "metadata": {
        "id": "943CyYp0yU6i",
        "colab": {
          "base_uri": "https://localhost:8080/"
        },
        "outputId": "d1add2d0-38ee-4bb9-d4a8-0c7de1f70d86"
      },
      "execution_count": null,
      "outputs": [
        {
          "output_type": "stream",
          "name": "stdout",
          "text": [
            "[[1, 7], [2, 6], [7, 1]]\n"
          ]
        }
      ]
    },
    {
      "cell_type": "markdown",
      "source": [
        "#25/02/2024"
      ],
      "metadata": {
        "id": "u9QFeAMfRcu5"
      }
    },
    {
      "cell_type": "code",
      "source": [
        "l=[\"h\",\"e\",\"l\",\"l\",\"o\"]\n",
        "# o=[\"o\",\"l\",\"l\",\"e\",\"h\"]\n",
        "for i in l:\n",
        "  # print(i)\n",
        "  res=l[::-1]\n",
        "print(res)"
      ],
      "metadata": {
        "colab": {
          "base_uri": "https://localhost:8080/"
        },
        "id": "orkRfPo1JUdc",
        "outputId": "96836b07-dc05-4058-b529-14b411b81e27"
      },
      "execution_count": null,
      "outputs": [
        {
          "output_type": "stream",
          "name": "stdout",
          "text": [
            "['o', 'l', 'l', 'e', 'h']\n"
          ]
        }
      ]
    },
    {
      "cell_type": "code",
      "source": [
        "st=[\"H\",\"a\",\"n\",\"n\",\"a\",\"h\"]\n",
        "# o=[\"h\",\"a\",\"n\",\"n\",\"a\",\"H\"]\n",
        "\n",
        "\n",
        "\n"
      ],
      "metadata": {
        "id": "FlHquV3BOfm4"
      },
      "execution_count": null,
      "outputs": []
    },
    {
      "cell_type": "code",
      "source": [
        "a=[\"abcd\",\"dcba\",\"lls\",\"s\",\"sssll\"]\n",
        "b=[]\n",
        "for i in range(len(a)):\n",
        "  for j in range(len(a)):\n",
        "    if i==j:\n",
        "      continue\n",
        "    else:\n",
        "      res=a[i]+a[j]\n",
        "      if res==res[::-1]:\n",
        "        b.append(res)\n",
        "\n",
        "print(b)"
      ],
      "metadata": {
        "colab": {
          "base_uri": "https://localhost:8080/"
        },
        "id": "60QJp--6O8IN",
        "outputId": "8c1431ba-962c-4700-a243-260d1e6d9572"
      },
      "execution_count": null,
      "outputs": [
        {
          "output_type": "stream",
          "name": "stdout",
          "text": [
            "['abcddcba', 'dcbaabcd', 'llssssll', 'slls']\n"
          ]
        }
      ]
    },
    {
      "cell_type": "code",
      "source": [
        "\n",
        "d= {'ravi': 10, 'rajnish': 9,'sanjeev': 15, 'yash': 2, 'suraj': 32}\n",
        "\n"
      ],
      "metadata": {
        "id": "pTl7fgezRi7I"
      },
      "execution_count": null,
      "outputs": []
    },
    {
      "cell_type": "markdown",
      "source": [
        "#26/02/2024"
      ],
      "metadata": {
        "id": "i7dgurbTfuoH"
      }
    },
    {
      "cell_type": "code",
      "source": [
        "a=[(36,'zebra'),('name','mumbai'),('sakinaka','apple')]\n",
        "for i in range(len(a)):\n",
        "  for j in range(i+1,len(a)):\n",
        "    if a[i][1]>a[j][1]:\n",
        "      a[i],a[j]=a[j],a[i]\n",
        "print(a)"
      ],
      "metadata": {
        "id": "2Oob5jGIe37P",
        "colab": {
          "base_uri": "https://localhost:8080/"
        },
        "outputId": "6eff6007-2ef1-4218-8046-216b55963174"
      },
      "execution_count": null,
      "outputs": [
        {
          "output_type": "stream",
          "name": "stdout",
          "text": [
            "[('sakinaka', 'apple'), ('name', 'mumbai'), (36, 'zebra')]\n"
          ]
        }
      ]
    },
    {
      "cell_type": "code",
      "source": [
        "l='python is a general purpose highlevel interpreted, object oriented programing language'\n",
        "vowel=0\n",
        "constant=0\n",
        "for i in l:\n",
        "  if i in 'aeiou':\n",
        "    vowel+=1\n",
        "  else:\n",
        "    constant+=1\n",
        "if constant >vowel:\n",
        "    print(\"constant is greater\")\n",
        "print(f'constant {constant}\\nvowels{vowel}')\n",
        "\n"
      ],
      "metadata": {
        "colab": {
          "base_uri": "https://localhost:8080/"
        },
        "id": "BWrSQH-sgwk2",
        "outputId": "c2911a18-3f70-4149-e655-0e3b17e66013"
      },
      "execution_count": null,
      "outputs": [
        {
          "output_type": "stream",
          "name": "stdout",
          "text": [
            "constant is greater\n",
            "constant 57\n",
            "vowels29\n"
          ]
        }
      ]
    },
    {
      "cell_type": "code",
      "source": [
        "s=[12, 35, 9, 56, 24]\n",
        "s[0],s[-1]=s[-1],s[0]\n",
        "print(s)"
      ],
      "metadata": {
        "colab": {
          "base_uri": "https://localhost:8080/"
        },
        "id": "5YWC_Dn6h7e-",
        "outputId": "30d1c5b7-c748-4af4-8e0e-6b5406a1b87a"
      },
      "execution_count": null,
      "outputs": [
        {
          "output_type": "stream",
          "name": "stdout",
          "text": [
            "[24, 35, 9, 56, 12]\n"
          ]
        }
      ]
    },
    {
      "cell_type": "code",
      "source": [
        "j=[[12, 35,22],[ 9, 56, 24]]\n",
        "for i in j:\n",
        "  i[0],i[-1]=i[-1],i[0]\n",
        "print(j)"
      ],
      "metadata": {
        "colab": {
          "base_uri": "https://localhost:8080/"
        },
        "id": "bYPycqB7m7Wj",
        "outputId": "6ecafa0e-c11c-462a-94a2-d73c6df992ac"
      },
      "execution_count": null,
      "outputs": [
        {
          "output_type": "stream",
          "name": "stdout",
          "text": [
            "[[22, 35, 12], [24, 56, 9]]\n"
          ]
        }
      ]
    },
    {
      "cell_type": "code",
      "source": [
        "d= {'ravi': 10, 'rajnish': 9,'sanjeev': 15, 'yash': 2, 'suraj': 32}\n",
        "dt=list(d.keys())\n",
        "# print(dt)\n",
        "z={}\n",
        "for i in range(len(dt)):\n",
        "  for j in range(len(dt)):\n",
        "    if dt[i]<dt[j]:\n",
        "      dt[i],dt[j]=dt[j],dt[i]\n",
        "# print(dt)\n",
        "for i in dt:\n",
        "  z[i]=d[i]\n",
        "print(z)\n"
      ],
      "metadata": {
        "colab": {
          "base_uri": "https://localhost:8080/"
        },
        "id": "LWzn85ZhnMUT",
        "outputId": "310c8ce9-4ce7-4c25-f7be-1e96dd50f53e"
      },
      "execution_count": null,
      "outputs": [
        {
          "output_type": "stream",
          "name": "stdout",
          "text": [
            "{'rajnish': 9, 'ravi': 10, 'sanjeev': 15, 'suraj': 32, 'yash': 2}\n"
          ]
        }
      ]
    },
    {
      "cell_type": "markdown",
      "source": [
        "#27/02/2024"
      ],
      "metadata": {
        "id": "4RDtbWstnCJz"
      }
    },
    {
      "cell_type": "code",
      "source": [
        "d= {'ravi': 10, 'rajnish': 9,'sanjeev': 15, 'yash': 2, 'suraj': 32}\n",
        "\n",
        "for i in d:\n",
        "  for j in d:\n",
        "    if d[i]<d[j]:\n",
        "      d[i],d[j]=d[j],d[i]\n",
        "print(d)"
      ],
      "metadata": {
        "id": "DfFqAeclrbNN",
        "colab": {
          "base_uri": "https://localhost:8080/"
        },
        "outputId": "6bfa5bc0-2f48-4c00-a490-1e5d29d0f167"
      },
      "execution_count": null,
      "outputs": [
        {
          "output_type": "stream",
          "name": "stdout",
          "text": [
            "{'ravi': 2, 'rajnish': 9, 'sanjeev': 10, 'yash': 15, 'suraj': 32}\n"
          ]
        }
      ]
    },
    {
      "cell_type": "markdown",
      "source": [
        "### Convert Dictionaries List to Order Key Nested dictionaries\n"
      ],
      "metadata": {
        "id": "jfkO0ZJEq5y5"
      }
    },
    {
      "cell_type": "code",
      "source": [
        "a= [{\"Gfg\" : 3, 4 : 9}, {\"is\": 8, \"Good\" : 2}, {\"Best\": 10, \"CS\" : 1}]\n",
        "res={}\n",
        "for k,v in enumerate(a):\n",
        "  res[k]=v\n",
        "print(res)\n"
      ],
      "metadata": {
        "colab": {
          "base_uri": "https://localhost:8080/"
        },
        "id": "9eCNKf89nPGH",
        "outputId": "16458b5f-3a07-4655-84ff-772ede74e7b7"
      },
      "execution_count": null,
      "outputs": [
        {
          "output_type": "stream",
          "name": "stdout",
          "text": [
            "{0: {'Gfg': 3, 4: 9}, 1: {'is': 8, 'Good': 2}, 2: {'Best': 10, 'CS': 1}}\n"
          ]
        }
      ]
    },
    {
      "cell_type": "code",
      "source": [
        "l=[3,2,0,5,0,6,4]\n",
        "l1=[]\n",
        "l2=0\n",
        "for i in l:\n",
        "  if i==0:\n",
        "    l2+=1\n",
        "  else:\n",
        "    l1.append(i)\n",
        "for j in range(l2):\n",
        "  l1.append(0)\n",
        "print(l1)"
      ],
      "metadata": {
        "colab": {
          "base_uri": "https://localhost:8080/"
        },
        "id": "JDGqnhkEqxoR",
        "outputId": "efd01018-5eeb-4f34-c14e-ce87afa24708"
      },
      "execution_count": null,
      "outputs": [
        {
          "output_type": "stream",
          "name": "stdout",
          "text": [
            "[3, 2, 5, 6, 4, 0, 0]\n"
          ]
        }
      ]
    },
    {
      "cell_type": "code",
      "source": [
        "ls=[('name','mcc'),('add','sakinaka')]\n",
        "# ls={'name': 'mcc', 'add': 'sakinaka'}\n",
        "\n",
        "if type(ls)==list:\n",
        "  d={}\n",
        "  for i in ls:\n",
        "    # print(i)\n",
        "    d[i[0]]=i[1]\n",
        "  print(d)\n",
        "elif type(ls)==dict:\n",
        "  d=[]\n",
        "  for i in ls:\n",
        "  # print(ls[i])\n",
        "    d.append((i,ls[i]))\n",
        "  print(d)"
      ],
      "metadata": {
        "colab": {
          "base_uri": "https://localhost:8080/"
        },
        "id": "BuziMk6SwJPP",
        "outputId": "7e55e8cb-e8cf-4fd0-8fbf-bab8d7f65a01"
      },
      "execution_count": null,
      "outputs": [
        {
          "output_type": "stream",
          "name": "stdout",
          "text": [
            "{'name': 'mcc', 'add': 'sakinaka'}\n"
          ]
        }
      ]
    },
    {
      "cell_type": "code",
      "source": [
        "ls=[('name','mcc'),('add','sakinaka')]\n",
        "d={}\n",
        "for i in ls:\n",
        "  # print(i)\n",
        "  d[i[0]]=i[1]\n",
        "print(d)"
      ],
      "metadata": {
        "colab": {
          "base_uri": "https://localhost:8080/"
        },
        "id": "ArKw09yurrHJ",
        "outputId": "09d4ea4a-659a-4601-b16c-8a4e77cd94a0"
      },
      "execution_count": null,
      "outputs": [
        {
          "output_type": "stream",
          "name": "stdout",
          "text": [
            "{'name': 'mcc', 'add': 'sakinaka'}\n"
          ]
        }
      ]
    },
    {
      "cell_type": "code",
      "source": [
        "ls={'name': 'mcc', 'add': 'sakinaka'}\n",
        "d=[]\n",
        "for i in ls:\n",
        "  # print(i)\n",
        "  # print(ls[i])\n",
        "  d.append((i,ls[i]))\n",
        "print(d)"
      ],
      "metadata": {
        "colab": {
          "base_uri": "https://localhost:8080/"
        },
        "id": "ZEygtrUps2OU",
        "outputId": "12f7d1ab-f807-4212-9efb-6d72bc9e54fc"
      },
      "execution_count": null,
      "outputs": [
        {
          "output_type": "stream",
          "name": "stdout",
          "text": [
            "[('name', 'mcc'), ('add', 'sakinaka')]\n"
          ]
        }
      ]
    },
    {
      "cell_type": "markdown",
      "source": [
        "#28/02/2024"
      ],
      "metadata": {
        "id": "1kQKHMsPvfPS"
      }
    },
    {
      "cell_type": "code",
      "source": [
        "v=['Gfg', 3, 'is', 8]\n",
        "k= ['name', 'id']\n",
        "d={}\n",
        "for i in range(len(k)):\n",
        "  d[k[i]]=v[i]\n",
        "print(d)\n"
      ],
      "metadata": {
        "id": "dBxdVZ5st9_A",
        "colab": {
          "base_uri": "https://localhost:8080/"
        },
        "outputId": "97f3475d-db22-46ad-9acf-cd939d26d810"
      },
      "execution_count": null,
      "outputs": [
        {
          "output_type": "stream",
          "name": "stdout",
          "text": [
            "{'name': 'Gfg', 'id': 3}\n"
          ]
        }
      ]
    },
    {
      "cell_type": "code",
      "source": [
        "x=['Gfg', 3, 'is', 8]\n",
        "y= ['name', 'id']\n",
        "d=[]\n",
        "for i in range(0,len(x),len(y)):\n",
        "  d.append({y[0]:x[i],y[1]:x[i+1]})\n",
        "print(d)"
      ],
      "metadata": {
        "colab": {
          "base_uri": "https://localhost:8080/"
        },
        "id": "lgs_Znl_AeeL",
        "outputId": "6909939a-be87-447a-d1a0-5002d9329ceb"
      },
      "execution_count": null,
      "outputs": [
        {
          "output_type": "stream",
          "name": "stdout",
          "text": [
            "[{'name': 'Gfg', 'id': 3}, {'name': 'is', 'id': 8}]\n"
          ]
        }
      ]
    },
    {
      "cell_type": "code",
      "source": [
        "l=[1,2,3,4]\n",
        "l1=['gsf','gfg','ls','dfg']\n",
        "l2={}\n",
        "for i in range(len(l)):\n",
        "  # print(l1[i])\n",
        "  # print(l[i])\n",
        "  l2[l[i]]=l1[i]\n",
        "print(l2)"
      ],
      "metadata": {
        "colab": {
          "base_uri": "https://localhost:8080/"
        },
        "id": "oFBjWXcoz0CP",
        "outputId": "00b25108-d52e-4472-f179-020a43590cc1"
      },
      "execution_count": null,
      "outputs": [
        {
          "output_type": "stream",
          "name": "stdout",
          "text": [
            "{1: 'gsf', 2: 'gfg', 3: 'ls', 4: 'dfg'}\n"
          ]
        }
      ]
    },
    {
      "cell_type": "code",
      "source": [
        "l=[1,2,3,4]\n",
        "l1=['gsf','gfg','ls','dfg']\n",
        "l2={}\n",
        "for i in range(len(l)):\n",
        "  l2[l[i]]=l1[i]\n",
        "print(l2)"
      ],
      "metadata": {
        "colab": {
          "base_uri": "https://localhost:8080/"
        },
        "id": "itIrZsgxQqdd",
        "outputId": "0eccfaed-2af5-4877-fdf8-466fe57dfce0"
      },
      "execution_count": null,
      "outputs": [
        {
          "output_type": "stream",
          "name": "stdout",
          "text": [
            "{1: 'gsf', 2: 'gfg', 3: 'ls', 4: 'dfg'}\n"
          ]
        }
      ]
    },
    {
      "cell_type": "markdown",
      "source": [
        "###array rotation"
      ],
      "metadata": {
        "id": "hA2j8_cT-tZd"
      }
    },
    {
      "cell_type": "code",
      "source": [
        "ls=[1,2,3,4,5]\n",
        "# ot=[3,4,5,1,2]\n",
        "n=3\n",
        "l1=[]\n",
        "id=l.index(n)\n",
        "for i in range(id,len(ls)):\n",
        "  l1.append(ls[i])\n",
        "for i in range(0,id):\n",
        "  l1.append(ls[i])\n",
        "print(l1)"
      ],
      "metadata": {
        "colab": {
          "base_uri": "https://localhost:8080/"
        },
        "id": "dyI_cQT94Py4",
        "outputId": "5d36eda3-83da-41ed-ea5a-fccb78660d56"
      },
      "execution_count": null,
      "outputs": [
        {
          "output_type": "stream",
          "name": "stdout",
          "text": [
            "[3, 4, 5, 1, 2]\n"
          ]
        }
      ]
    },
    {
      "cell_type": "code",
      "source": [
        "for i in range(5):\n",
        "    for j in range(i,5):\n",
        "        print(\" \", end=\"\")\n",
        "    for j in range(i,):\n",
        "        print(\"* \", end=\"\")\n",
        "    print()"
      ],
      "metadata": {
        "colab": {
          "base_uri": "https://localhost:8080/"
        },
        "id": "uqi2KxM67BV_",
        "outputId": "03593e24-edfa-4ba2-eca7-cbba00d4a4f1"
      },
      "execution_count": null,
      "outputs": [
        {
          "output_type": "stream",
          "name": "stdout",
          "text": [
            "     \n",
            "    * \n",
            "   * * \n",
            "  * * * \n",
            " * * * * \n"
          ]
        }
      ]
    },
    {
      "cell_type": "code",
      "source": [
        "# n=6"
      ],
      "metadata": {
        "id": "5TWkwv-b7B2W"
      },
      "execution_count": null,
      "outputs": []
    },
    {
      "cell_type": "code",
      "source": [
        "for i in range(5):\n",
        "    for j in range(5, i, -1):\n",
        "        print(\" \", end=\"\")\n",
        "    for k in range(i + 1):\n",
        "        print(\"* \", end=\"\")\n",
        "    print()"
      ],
      "metadata": {
        "colab": {
          "base_uri": "https://localhost:8080/"
        },
        "id": "zUC8E1H4806o",
        "outputId": "23a1d244-cf9e-4dd8-9e52-2cf8247cdba9"
      },
      "execution_count": null,
      "outputs": [
        {
          "output_type": "stream",
          "name": "stdout",
          "text": [
            "     * \n",
            "    * * \n",
            "   * * * \n",
            "  * * * * \n",
            " * * * * * \n"
          ]
        }
      ]
    },
    {
      "cell_type": "markdown",
      "source": [
        "#29/02/2024"
      ],
      "metadata": {
        "id": "i2xI1eDS8sbR"
      }
    },
    {
      "cell_type": "markdown",
      "source": [
        "###Remove empty List from List"
      ],
      "metadata": {
        "id": "kRFuW39mEgjo"
      }
    },
    {
      "cell_type": "code",
      "source": [
        "l= [5, 6, [], 3, [], [], 9]\n",
        "l1=[i for i in l if i !=[]]\n",
        "print(l1)\n"
      ],
      "metadata": {
        "id": "HB9ujhZC81a7",
        "colab": {
          "base_uri": "https://localhost:8080/"
        },
        "outputId": "fbcc6996-40b1-4582-ccc8-dbcfb51cfa83"
      },
      "execution_count": null,
      "outputs": [
        {
          "output_type": "stream",
          "name": "stdout",
          "text": [
            "[5, 6, 3, 9]\n"
          ]
        }
      ]
    },
    {
      "cell_type": "code",
      "source": [
        "l= [5, 6, [], 3, [], [], 9]\n",
        "l2=[]\n",
        "for i in l:\n",
        "  if i:\n",
        "    l2.append(i)\n",
        "print(l2)"
      ],
      "metadata": {
        "colab": {
          "base_uri": "https://localhost:8080/"
        },
        "id": "KiFStQus9gB5",
        "outputId": "50bd41d5-9ec4-4b24-fe95-a264e974bac7"
      },
      "execution_count": null,
      "outputs": [
        {
          "output_type": "stream",
          "name": "stdout",
          "text": [
            "[5, 6, 3, 9]\n"
          ]
        }
      ]
    },
    {
      "cell_type": "code",
      "source": [
        "l= [5, 6, [], 3, [], [], 9]\n",
        "while [] in l:\n",
        "  l.remove([])\n",
        "print(l)"
      ],
      "metadata": {
        "colab": {
          "base_uri": "https://localhost:8080/"
        },
        "id": "Ey-Oqmke-B01",
        "outputId": "6e73f110-d167-4a93-ecd1-8045e6e88601"
      },
      "execution_count": null,
      "outputs": [
        {
          "output_type": "stream",
          "name": "stdout",
          "text": [
            "[5, 6, 3, 9]\n"
          ]
        }
      ]
    },
    {
      "cell_type": "markdown",
      "source": [
        "###Uncommon elements in List"
      ],
      "metadata": {
        "id": "N-2H4xLr_XDl"
      }
    },
    {
      "cell_type": "code",
      "source": [
        "ls= [ [1, 2], [3, 4], [5, 6] ]\n",
        "ls1 = [ [3, 4], [5, 7], [1, 2] ]\n",
        "res=[]\n",
        "\n",
        "for i in ls:\n",
        "  if i not in ls1:\n",
        "    res.append(i)\n",
        "for i in ls1:\n",
        "  if i not in ls:\n",
        "    res.append(i)\n",
        "print(res)\n",
        "\n"
      ],
      "metadata": {
        "colab": {
          "base_uri": "https://localhost:8080/"
        },
        "id": "hfQwAfWO-R6A",
        "outputId": "654ad0ae-b321-4cbf-dca7-910352ab772e"
      },
      "execution_count": null,
      "outputs": [
        {
          "output_type": "stream",
          "name": "stdout",
          "text": [
            "[[5, 6], [5, 7]]\n"
          ]
        }
      ]
    },
    {
      "cell_type": "code",
      "source": [
        "no=11\n",
        "def num(no):\n",
        "  tm=False\n",
        "  if no == 1:\n",
        "    tm=True\n",
        "  elif no>1:\n",
        "    for i in range(2,no):\n",
        "      if no%i==0:\n",
        "        tm=True\n",
        "  if tm:\n",
        "      print('not a prime no')\n",
        "  else:\n",
        "    sn=str(no)\n",
        "    if sn==sn[::-1]:\n",
        "      print('palandrome')\n",
        "    else:\n",
        "      print('not palandrom')\n",
        "    print('prime no')\n",
        "num(no)\n"
      ],
      "metadata": {
        "colab": {
          "base_uri": "https://localhost:8080/"
        },
        "id": "_tblOpNI_RLz",
        "outputId": "1248616a-d644-4564-b770-9c2586cc5aae"
      },
      "execution_count": null,
      "outputs": [
        {
          "output_type": "stream",
          "name": "stdout",
          "text": [
            "palandrome\n",
            "prime no\n"
          ]
        }
      ]
    },
    {
      "cell_type": "code",
      "source": [
        "# l1=[2,12,11,43,22]\n",
        "l1=[4,9,2,1,6,3]\n",
        "def num(l):\n",
        "  l1=sorted(l,reverse=True)\n",
        "  pro=1\n",
        "  for i in range(0,3):\n",
        "    pro*=l1[i]\n",
        "  print(pro)\n",
        "num(l1)\n"
      ],
      "metadata": {
        "colab": {
          "base_uri": "https://localhost:8080/"
        },
        "id": "__CF7e_sA8h_",
        "outputId": "ffa917fc-662d-4a74-c075-ecfe10dc939e"
      },
      "execution_count": null,
      "outputs": [
        {
          "output_type": "stream",
          "name": "stdout",
          "text": [
            "216\n"
          ]
        }
      ]
    },
    {
      "cell_type": "markdown",
      "source": [
        "#01/03/2024"
      ],
      "metadata": {
        "id": "CZT5Ty0dHDXS"
      }
    },
    {
      "cell_type": "markdown",
      "source": [
        "###Reverse Row sort in Lists of List"
      ],
      "metadata": {
        "id": "AmWeEvoOJWoy"
      }
    },
    {
      "cell_type": "code",
      "source": [
        "l=[[4, 1, 6], [7, 8], [4, 10, 8]]\n",
        "for i in l:\n",
        "  # print(i)\n",
        "  for j in range(len(i)):\n",
        "    # print(i[j])\n",
        "    for k in range(j+1,len(i)):\n",
        "      if i[j]<i[k]:\n",
        "        i[j],i[k]=i[k],i[j]\n",
        "    print(l)\n",
        "print(\"list\",l)\n"
      ],
      "metadata": {
        "id": "Jyx6VbqGFfNz",
        "colab": {
          "base_uri": "https://localhost:8080/"
        },
        "outputId": "2dc1431c-6704-4edb-c1be-dbb576291037"
      },
      "execution_count": null,
      "outputs": [
        {
          "output_type": "stream",
          "name": "stdout",
          "text": [
            "[[6, 1, 4], [7, 8], [4, 10, 8]]\n",
            "[[6, 4, 1], [7, 8], [4, 10, 8]]\n",
            "[[6, 4, 1], [7, 8], [4, 10, 8]]\n",
            "[[6, 4, 1], [8, 7], [4, 10, 8]]\n",
            "[[6, 4, 1], [8, 7], [4, 10, 8]]\n",
            "[[6, 4, 1], [8, 7], [10, 4, 8]]\n",
            "[[6, 4, 1], [8, 7], [10, 8, 4]]\n",
            "[[6, 4, 1], [8, 7], [10, 8, 4]]\n",
            "list [[6, 4, 1], [8, 7], [10, 8, 4]]\n"
          ]
        }
      ]
    },
    {
      "cell_type": "code",
      "source": [
        "ls=[64,34,25,12,22,11,90]\n",
        "for i in range(len(ls)):\n",
        "  for j in range(len(ls)):\n",
        "    if ls[i]<ls[j]:\n",
        "      ls[i],ls[j]=ls[j],ls[i]\n",
        "print(\"final list\",ls)"
      ],
      "metadata": {
        "colab": {
          "base_uri": "https://localhost:8080/"
        },
        "id": "UQiiAerMHKgc",
        "outputId": "0f6db76d-1a79-4035-8bde-b03b9b92fd39"
      },
      "execution_count": null,
      "outputs": [
        {
          "output_type": "stream",
          "name": "stdout",
          "text": [
            "final list [11, 12, 22, 25, 34, 64, 90]\n"
          ]
        }
      ]
    },
    {
      "cell_type": "code",
      "source": [
        "st=\"abc\"\n",
        "b=[]\n",
        "for i in range(len(st)):\n",
        "  # print(i)\n",
        "  for j in range(i,len(st)):\n",
        "    # print(st[j])\n",
        "    b.append(st[i:j+1])\n",
        "print(b)\n",
        "print('count of unique substring',len(b))\n",
        "\n"
      ],
      "metadata": {
        "colab": {
          "base_uri": "https://localhost:8080/"
        },
        "id": "MzefF4HrKUfo",
        "outputId": "814b088e-d92e-42df-b950-959b118e91bc"
      },
      "execution_count": null,
      "outputs": [
        {
          "output_type": "stream",
          "name": "stdout",
          "text": [
            "['a', 'ab', 'abc', 'b', 'bc', 'c']\n",
            "count of unique substring 6\n"
          ]
        }
      ]
    },
    {
      "cell_type": "code",
      "source": [
        "a=\"abcxyzhjhabc\"\n",
        "res=''\n",
        "n=len(a) -1 -(a[::-1]).index('a')\n",
        "print(n)\n",
        "\n",
        "\n"
      ],
      "metadata": {
        "colab": {
          "base_uri": "https://localhost:8080/"
        },
        "id": "HWfRBcLWV6H0",
        "outputId": "4635d99a-52b1-4b4c-ffc2-e6b27b0ed1dd"
      },
      "execution_count": null,
      "outputs": [
        {
          "output_type": "stream",
          "name": "stdout",
          "text": [
            "9\n"
          ]
        }
      ]
    },
    {
      "cell_type": "code",
      "source": [
        "a=\"abcxyzhjhabc\"\n",
        "res=''\n",
        "n=len(a) -1 -(a[::-1]).index('a')\n",
        "# print(n)\n",
        "for i in range(len(a)):\n",
        "  if n<len(a):\n",
        "    if a[i]==a[n]:\n",
        "      res+=a[i]\n",
        "# print(res)\n",
        "    n+=1\n",
        "  else:\n",
        "    break\n",
        "print(res)\n",
        "\n"
      ],
      "metadata": {
        "colab": {
          "base_uri": "https://localhost:8080/"
        },
        "id": "FjlmeA_oY4o5",
        "outputId": "97a94040-5eb7-444c-a83a-be1b19aa9ad7"
      },
      "execution_count": null,
      "outputs": [
        {
          "output_type": "stream",
          "name": "stdout",
          "text": [
            "abc\n"
          ]
        }
      ]
    },
    {
      "cell_type": "markdown",
      "source": [
        "#02/03/2024"
      ],
      "metadata": {
        "id": "fyVALDluNZ7q"
      }
    },
    {
      "cell_type": "code",
      "source": [
        "ls= [1, 2, 2, 5, 8, 4, 4, 8]\n",
        "d={}\n",
        "y=\n",
        "for i in ls:\n",
        "  if d in ls:\n",
        "    d[i]+=1\n",
        "  else:\n",
        "    d[i]=1\n",
        "# print(d)\n",
        "for k,v in d.items():\n",
        "  if v==1:\n",
        "    y+=1\n",
        "print(\"unique number in list\",y)"
      ],
      "metadata": {
        "id": "fS5p7aMjgLB0",
        "colab": {
          "base_uri": "https://localhost:8080/"
        },
        "outputId": "3a2a11bf-3c5a-49a9-d847-90bfbddc2118"
      },
      "execution_count": null,
      "outputs": [
        {
          "output_type": "stream",
          "name": "stdout",
          "text": [
            "unique number in list 5\n"
          ]
        }
      ]
    },
    {
      "cell_type": "code",
      "source": [
        "a=[0,1,0,1,0,0,1,1,1,0,0]\n",
        "b=[]\n",
        "for i in a:\n",
        "  if i==0:\n",
        "    b.append(1)\n",
        "  else:\n",
        "    b.append(0)\n",
        "print(b)\n"
      ],
      "metadata": {
        "colab": {
          "base_uri": "https://localhost:8080/"
        },
        "id": "XFAY1PjzQ2sc",
        "outputId": "97e566f6-e671-4db3-f8e6-cc914db86c49"
      },
      "execution_count": null,
      "outputs": [
        {
          "output_type": "stream",
          "name": "stdout",
          "text": [
            "[1, 0, 1, 0, 1, 1, 0, 0, 0, 1, 1]\n"
          ]
        }
      ]
    },
    {
      "cell_type": "code",
      "source": [
        "a=[0,1,0,1,0,0,1,1,1,0,0]\n",
        "b=[]\n",
        "for i in a:\n",
        "  if i==0:\n",
        "    n=i+1\n",
        "    b.append(n)\n",
        "  else:\n",
        "    n=i-1\n",
        "    b.append(n)\n",
        "print(b)"
      ],
      "metadata": {
        "colab": {
          "base_uri": "https://localhost:8080/"
        },
        "id": "HbgHjqEDTcvQ",
        "outputId": "d6c1a4cb-f2bf-41fe-a386-a6e364e40fe1"
      },
      "execution_count": null,
      "outputs": [
        {
          "output_type": "stream",
          "name": "stdout",
          "text": [
            "[1, 0, 1, 0, 1, 1, 0, 0, 0, 1, 1]\n"
          ]
        }
      ]
    },
    {
      "cell_type": "code",
      "source": [
        "l=[0,1,0,1,0,0,1,1,1,0,0]\n",
        "for i in range(len(l)):\n",
        "  l[i]=1-l[i]\n",
        "print(l)"
      ],
      "metadata": {
        "colab": {
          "base_uri": "https://localhost:8080/"
        },
        "id": "yBv6If9-frFj",
        "outputId": "1b591301-246c-46ff-ec14-416b43cb5750"
      },
      "execution_count": null,
      "outputs": [
        {
          "output_type": "stream",
          "name": "stdout",
          "text": [
            "[1, 0, 1, 0, 1, 1, 0, 0, 0, 1, 1]\n"
          ]
        }
      ]
    },
    {
      "cell_type": "code",
      "source": [
        "lst=[0,1,0,1,0,0,1,1,1,0,0]\n",
        "\n",
        "for i in range(len(lst)):\n",
        "  lst[i]=int(not lst[i])\n",
        "print(lst)"
      ],
      "metadata": {
        "colab": {
          "base_uri": "https://localhost:8080/"
        },
        "id": "HeHkApRIjKI6",
        "outputId": "8067b353-337d-451c-fe0a-f352ae9b00ff"
      },
      "execution_count": null,
      "outputs": [
        {
          "output_type": "stream",
          "name": "stdout",
          "text": [
            "[1, 0, 1, 0, 1, 1, 0, 0, 0, 1, 1]\n"
          ]
        }
      ]
    },
    {
      "cell_type": "code",
      "source": [
        "a=[]\n",
        "def even(num):\n",
        "  for i in num:\n",
        "    if i%2==0:\n",
        "      a.append(i)\n",
        "  return a\n",
        "num=[2,3,4,5,67,7,8,12]\n",
        "even(num)"
      ],
      "metadata": {
        "colab": {
          "base_uri": "https://localhost:8080/"
        },
        "id": "LdYN7jcBOZy2",
        "outputId": "9436f64d-ccc4-4dd0-b5fd-aa25b2d59835"
      },
      "execution_count": null,
      "outputs": [
        {
          "output_type": "execute_result",
          "data": {
            "text/plain": [
              "[2, 4, 8, 12]"
            ]
          },
          "metadata": {},
          "execution_count": 44
        }
      ]
    },
    {
      "cell_type": "code",
      "source": [
        "b=[2,3,4,5,67,7,8,12]\n",
        "b=[i for i in b if i%2==0]\n",
        "print(b)"
      ],
      "metadata": {
        "colab": {
          "base_uri": "https://localhost:8080/"
        },
        "id": "kRkzuDl5P59i",
        "outputId": "f4cd0615-9ce3-44b6-86ca-11a8288b7fc9"
      },
      "execution_count": null,
      "outputs": [
        {
          "output_type": "stream",
          "name": "stdout",
          "text": [
            "[2, 4, 8, 12]\n"
          ]
        }
      ]
    },
    {
      "cell_type": "markdown",
      "source": [
        "#04/03/2024"
      ],
      "metadata": {
        "id": "elOoSMMqmodn"
      }
    },
    {
      "cell_type": "code",
      "source": [
        "lst=[2,11,21,1,12]\n",
        "for i in range(len(lst)):\n",
        "  for j in range(len(lst)):\n",
        "    if lst[i]<lst[j]:\n",
        "      lst[i],lst[j]=lst[j],lst[i]\n",
        "print(lst)\n",
        "print(\"second largest number\",lst[-2])"
      ],
      "metadata": {
        "id": "f8A21aoSTQOs",
        "colab": {
          "base_uri": "https://localhost:8080/"
        },
        "outputId": "5deeba04-e7c8-408b-d3d4-37dfc4e4d11a"
      },
      "execution_count": null,
      "outputs": [
        {
          "output_type": "stream",
          "name": "stdout",
          "text": [
            "[1, 2, 11, 12, 21]\n",
            "second largest number 12\n"
          ]
        }
      ]
    },
    {
      "cell_type": "code",
      "source": [
        "a=int(input(\"enter any list\"))\n",
        "d={}\n",
        "for i in range(a):\n",
        "  for j in range(a):\n",
        "    d[i]=j\n",
        "print(d)"
      ],
      "metadata": {
        "id": "NgrfKlZ5ikp0",
        "colab": {
          "base_uri": "https://localhost:8080/"
        },
        "outputId": "1afb57df-99e2-4885-a612-31d0ec194ebc"
      },
      "execution_count": null,
      "outputs": [
        {
          "output_type": "stream",
          "name": "stdout",
          "text": [
            "enter any list6\n",
            "{0: 5, 1: 5, 2: 5, 3: 5, 4: 5, 5: 5}\n"
          ]
        }
      ]
    },
    {
      "cell_type": "code",
      "source": [
        "n=int(input(\"enter no of inputs\"))\n",
        "l=[]\n",
        "for i in range(n):\n",
        "  l.append(input())\n",
        "d={}\n",
        "for i,j in enumerate(l):\n",
        "  d[i]=j\n",
        "print(d)"
      ],
      "metadata": {
        "id": "H79sYGvBmJ_F"
      },
      "execution_count": null,
      "outputs": []
    },
    {
      "cell_type": "code",
      "source": [
        "test= [5, 6, [], 3, [], [], 9]\n",
        "res = [i for i in test if i != []]\n",
        "print(\"List after empty list removal : \",(res))\n"
      ],
      "metadata": {
        "colab": {
          "base_uri": "https://localhost:8080/"
        },
        "id": "uDvopfaHk_ED",
        "outputId": "35c73083-c44b-4b8f-fb25-034684c84848"
      },
      "execution_count": null,
      "outputs": [
        {
          "output_type": "stream",
          "name": "stdout",
          "text": [
            "List after empty list removal :  [5, 6, 3, 9]\n"
          ]
        }
      ]
    },
    {
      "cell_type": "code",
      "source": [
        "lst=[2,11,21,1,12,21]\n",
        "e=[]\n",
        "for i in range(max(lst)+1):\n",
        "  if i in lst:\n",
        "    e.append(i)\n",
        "print(e[-2])"
      ],
      "metadata": {
        "colab": {
          "base_uri": "https://localhost:8080/"
        },
        "id": "mBmBL0nflTks",
        "outputId": "3be6ab67-5241-4f53-d96e-312d9866398b"
      },
      "execution_count": null,
      "outputs": [
        {
          "output_type": "stream",
          "name": "stdout",
          "text": [
            "12\n"
          ]
        }
      ]
    },
    {
      "cell_type": "markdown",
      "source": [
        "#05/03/2024"
      ],
      "metadata": {
        "id": "5Wf5Tq2ysSSQ"
      }
    },
    {
      "cell_type": "markdown",
      "source": [
        "###sort dictionary keys"
      ],
      "metadata": {
        "id": "ETq1qweEyWU3"
      }
    },
    {
      "cell_type": "code",
      "source": [
        "d={\"india\":\"mumbai\",\"country\":\"usa\",\"tiger\":\"national animal\"}\n",
        "d1=list(d.keys())\n",
        "res={}\n",
        "# print(d1)\n",
        "for i in range(len(d1)):\n",
        "  for j in range(len(d1)):\n",
        "    if d1[i]<d1[j]:\n",
        "      d1[i],d1[j]=d1[j],d1[i]\n",
        "# print(d1)\n",
        "for i in d1:\n",
        "  res[i]=d[i]\n",
        "print(res)\n"
      ],
      "metadata": {
        "colab": {
          "base_uri": "https://localhost:8080/"
        },
        "id": "hNBzX25csRM1",
        "outputId": "a47758ed-b7c2-45f4-b10d-32cdf15ec029"
      },
      "execution_count": null,
      "outputs": [
        {
          "output_type": "stream",
          "name": "stdout",
          "text": [
            "{'country': 'usa', 'india': 'mumbai', 'tiger': 'national animal'}\n"
          ]
        }
      ]
    },
    {
      "cell_type": "markdown",
      "source": [
        "###sort dictionay values"
      ],
      "metadata": {
        "id": "SGnvS3EVy_rS"
      }
    },
    {
      "cell_type": "code",
      "source": [
        "d={\"india\":\"mumbai\",\"country\":\"usa\",\"tiger\":\"national animal\"}\n",
        "for i in d:\n",
        "  for j in d:\n",
        "    if d[i]<d[j]:\n",
        "      d[i],d[j]=d[j],d[i]\n",
        "print(d)\n"
      ],
      "metadata": {
        "colab": {
          "base_uri": "https://localhost:8080/"
        },
        "id": "70dYh-ARyVKx",
        "outputId": "852e5bb2-2dec-443d-de4e-8c9f02e52d77"
      },
      "execution_count": null,
      "outputs": [
        {
          "output_type": "stream",
          "name": "stdout",
          "text": [
            "{'india': 'mumbai', 'country': 'national animal', 'tiger': 'usa'}\n"
          ]
        }
      ]
    },
    {
      "cell_type": "code",
      "source": [
        "a=[0,0,1,1,1,0,1]\n",
        "# a=[1,1,1]\n",
        "\n",
        "c=0\n",
        "for i in range(len(a)):\n",
        "  if a[i]==0:\n",
        "    c+=1\n",
        "    for j in range(len(a)):\n",
        "      # print(a[j])\n",
        "      if a[j]==0:\n",
        "        a[j]=1\n",
        "      else:\n",
        "        a[j]=0\n",
        "print(\"total count:\",c)"
      ],
      "metadata": {
        "id": "mU3woc2PyBvz",
        "colab": {
          "base_uri": "https://localhost:8080/"
        },
        "outputId": "1554d075-f05f-4067-97da-ab0b3f33d4d8"
      },
      "execution_count": null,
      "outputs": [
        {
          "output_type": "stream",
          "name": "stdout",
          "text": [
            "total count: 4\n"
          ]
        }
      ]
    },
    {
      "cell_type": "markdown",
      "source": [
        "###unique number in list"
      ],
      "metadata": {
        "id": "VGbOwuYpzGYv"
      }
    },
    {
      "cell_type": "code",
      "source": [
        "n= [1, 2, 2, 5, 8, 4, 4, 8]\n",
        "m={}\n",
        "y=0\n",
        "for i in n:\n",
        "  if i in m:\n",
        "    m[i]+=1\n",
        "  else:\n",
        "    m[i]=1\n",
        "print(m)\n",
        "for k,v in m.items():\n",
        "  if v==1:\n",
        "    y+=1\n",
        "print(m)"
      ],
      "metadata": {
        "colab": {
          "base_uri": "https://localhost:8080/"
        },
        "id": "rjDCYGjLvw_P",
        "outputId": "22bd6e68-1c05-49de-81b9-5bf264fc8347"
      },
      "execution_count": null,
      "outputs": [
        {
          "output_type": "stream",
          "name": "stdout",
          "text": [
            "{1: 1, 2: 2, 5: 1, 8: 2, 4: 2}\n",
            "2\n"
          ]
        }
      ]
    },
    {
      "cell_type": "markdown",
      "source": [
        "###How to count unique values inside a list\n"
      ],
      "metadata": {
        "id": "rqaNLlQ_2JHd"
      }
    },
    {
      "cell_type": "code",
      "source": [
        "n= [1, 2, 2, 5, 8, 4, 4, 8]\n",
        "m=[]\n",
        "c=0\n",
        "for i in n:\n",
        "  if i not in m:\n",
        "    c+=1\n",
        "    m.append(i)\n",
        "print(\"unique number in list is\",c)"
      ],
      "metadata": {
        "colab": {
          "base_uri": "https://localhost:8080/"
        },
        "id": "eN-DmJsZ11O6",
        "outputId": "113c92e3-e9c5-4a3a-b2e4-2125d989dbd9"
      },
      "execution_count": null,
      "outputs": [
        {
          "output_type": "stream",
          "name": "stdout",
          "text": [
            "unique number in list is 5\n"
          ]
        }
      ]
    },
    {
      "cell_type": "markdown",
      "source": [
        "###Extract elements with Frequency greater than K"
      ],
      "metadata": {
        "id": "kNtOvwY13uOi"
      }
    },
    {
      "cell_type": "code",
      "source": [
        "l= [4, 6, 4, 3, 3, 4, 3, 4, 6, 6]\n",
        "k = 2\n",
        "c=[]\n",
        "for i in l:\n",
        "  freq=l.count(i)\n",
        "  if freq>k and i not in c:\n",
        "    c.append(i)\n",
        "print(c)\n"
      ],
      "metadata": {
        "colab": {
          "base_uri": "https://localhost:8080/"
        },
        "id": "scv-1di4v6rw",
        "outputId": "303f7f7b-042c-44f8-e69b-40414b17d4ba"
      },
      "execution_count": null,
      "outputs": [
        {
          "output_type": "stream",
          "name": "stdout",
          "text": [
            "[4, 6, 3]\n"
          ]
        }
      ]
    },
    {
      "cell_type": "markdown",
      "source": [
        "#07/03/2024"
      ],
      "metadata": {
        "id": "xwOM9zHdBSsO"
      }
    },
    {
      "cell_type": "markdown",
      "source": [
        "##repeated number in list"
      ],
      "metadata": {
        "id": "Uc7Dl09kDh2V"
      }
    },
    {
      "cell_type": "code",
      "source": [
        "l=[2,3,1,2,3,5]\n",
        "count=0\n",
        "l1=[]\n",
        "for i in l:\n",
        "  if l.count(i)>1 and i not in l1:\n",
        "    l1.append(i)\n",
        "print(l1)"
      ],
      "metadata": {
        "id": "3fDSyVJD2UO8",
        "colab": {
          "base_uri": "https://localhost:8080/"
        },
        "outputId": "e35870bc-b86e-4af1-e16b-0239d4e9fcee"
      },
      "execution_count": null,
      "outputs": [
        {
          "output_type": "stream",
          "name": "stdout",
          "text": [
            "[2, 3]\n"
          ]
        }
      ]
    },
    {
      "cell_type": "markdown",
      "source": [
        "###remove dublicate from the list"
      ],
      "metadata": {
        "id": "khirkLA_EANt"
      }
    },
    {
      "cell_type": "code",
      "source": [
        "l=[2,3,1,2,3,5]\n",
        "res=[]\n",
        "for i in l:\n",
        "  if i not in res:\n",
        "    res.append(i)\n",
        "print(res)"
      ],
      "metadata": {
        "id": "p4jloR9i3Qum",
        "colab": {
          "base_uri": "https://localhost:8080/"
        },
        "outputId": "713fe99f-b3e7-4cd7-da83-d99ea6a8b45f"
      },
      "execution_count": null,
      "outputs": [
        {
          "output_type": "stream",
          "name": "stdout",
          "text": [
            "[2, 3, 1, 5]\n"
          ]
        }
      ]
    },
    {
      "cell_type": "code",
      "source": [
        "# l=[2,3,1,2,3,5]\n",
        "# l1=[]\n",
        "# res=[i for i in l if i not in l1  l1.append(i)]\n",
        "# print(res)\n"
      ],
      "metadata": {
        "id": "3Ks5ave4D8xs"
      },
      "execution_count": null,
      "outputs": []
    },
    {
      "cell_type": "markdown",
      "source": [
        "### common element in two list"
      ],
      "metadata": {
        "id": "tOnWDEcbFxAg"
      }
    },
    {
      "cell_type": "code",
      "source": [
        "a=[1,2,3,4,5]\n",
        "b=[2,5,3,6,4]\n",
        "l=[]\n",
        "for i in a:\n",
        "  if i in b:\n",
        "    l.append(i)\n",
        "print(l)\n"
      ],
      "metadata": {
        "colab": {
          "base_uri": "https://localhost:8080/"
        },
        "id": "uNbFkxNrD99T",
        "outputId": "94a78c61-e0a4-4069-8204-800f55bbaf20"
      },
      "execution_count": null,
      "outputs": [
        {
          "output_type": "stream",
          "name": "stdout",
          "text": [
            "[2, 3, 4, 5]\n"
          ]
        }
      ]
    },
    {
      "cell_type": "code",
      "source": [
        "a=[1,2,3,4,5]\n",
        "b=[2,5,3,6,4]\n",
        "\n",
        "res=set(a).intersection (set(b))\n",
        "print(res)\n"
      ],
      "metadata": {
        "colab": {
          "base_uri": "https://localhost:8080/"
        },
        "id": "pk_VkbTHGFBe",
        "outputId": "c4e95587-3d46-45b6-cf56-8f1f3a2ff6bc"
      },
      "execution_count": null,
      "outputs": [
        {
          "output_type": "stream",
          "name": "stdout",
          "text": [
            "{2, 3, 4, 5}\n"
          ]
        }
      ]
    },
    {
      "cell_type": "markdown",
      "source": [
        "###sum of all the element"
      ],
      "metadata": {
        "id": "o10ZwrBMF3DL"
      }
    },
    {
      "cell_type": "code",
      "source": [
        "l=[2,3,4,5]\n",
        "total=0\n",
        "for i in l:\n",
        "    total+=i\n",
        "print(total)\n"
      ],
      "metadata": {
        "colab": {
          "base_uri": "https://localhost:8080/"
        },
        "id": "VTZfGrd5EzjU",
        "outputId": "a3298225-810b-4772-9569-a847c912475f"
      },
      "execution_count": null,
      "outputs": [
        {
          "output_type": "stream",
          "name": "stdout",
          "text": [
            "14\n"
          ]
        }
      ]
    },
    {
      "cell_type": "markdown",
      "source": [
        "#08/03/2024"
      ],
      "metadata": {
        "id": "4jmrXthELmg4"
      }
    },
    {
      "cell_type": "code",
      "source": [
        "l= [4, 5,90, 6, 7]\n",
        "i,j=2,8\n",
        "for ele in l:\n",
        "  if ele<j and ele>=i:\n",
        "    print(ele)"
      ],
      "metadata": {
        "id": "Zwy5psHnE-yq",
        "colab": {
          "base_uri": "https://localhost:8080/"
        },
        "outputId": "c1a442ca-8d5b-4afc-ec24-6bc2a62fa9a5"
      },
      "execution_count": null,
      "outputs": [
        {
          "output_type": "stream",
          "name": "stdout",
          "text": [
            "4\n",
            "5\n",
            "6\n",
            "7\n"
          ]
        }
      ]
    },
    {
      "cell_type": "code",
      "source": [
        "def add(x, y):\n",
        "    return x + y\n",
        "\n",
        "def subtract(x, y):\n",
        "    return x - y\n",
        "\n",
        "def multiply(x, y):\n",
        "    return x * y\n",
        "\n",
        "def divide(x, y):\n",
        "    return x / y\n",
        "print(\"Select operation.\")\n",
        "print(\"1.Add\")\n",
        "print(\"2.Subtract\")\n",
        "print(\"3.Multiply\")\n",
        "print(\"4.Divide\")\n",
        "\n",
        "while True:\n",
        "    choice = input(\"Enter choice(1/2/3/4): \")\n",
        "    if choice in ('1', '2', '3', '4'):\n",
        "        try:\n",
        "            num1 = float(input(\"Enter first number: \"))\n",
        "            num2 = float(input(\"Enter second number: \"))\n",
        "        except ValueError:\n",
        "            print(\"Invalid input. Please enter a number.\")\n",
        "            continue\n",
        "\n",
        "        if choice == '1':\n",
        "            print(num1, \"+\", num2, \"=\", add(num1, num2))\n",
        "\n",
        "        elif choice == '2':\n",
        "            print(num1, \"-\", num2, \"=\", subtract(num1, num2))\n",
        "\n",
        "        elif choice == '3':\n",
        "            print(num1, \"*\", num2, \"=\", multiply(num1, num2))\n",
        "\n",
        "        elif choice == '4':\n",
        "            print(num1, \"/\", num2, \"=\", divide(num1, num2))\n",
        "\n",
        "        next_calculation = input(\"Let's do next calculation? (yes/no): \")\n",
        "        if next_calculation == \"no\":\n",
        "          break\n",
        "    else:\n",
        "        print(\"Invalid Input\")"
      ],
      "metadata": {
        "colab": {
          "base_uri": "https://localhost:8080/"
        },
        "id": "62APoSSUQq5M",
        "outputId": "cc3f3612-2a57-4408-c034-2c3aa0f7f8e2"
      },
      "execution_count": null,
      "outputs": [
        {
          "name": "stdout",
          "output_type": "stream",
          "text": [
            "Select operation.\n",
            "1.Add\n",
            "2.Subtract\n",
            "3.Multiply\n",
            "4.Divide\n",
            "Enter choice(1/2/3/4): 2\n",
            "Enter first number: 5\n",
            "Enter second number: 3\n",
            "5.0 - 3.0 = 2.0\n",
            "Let's do next calculation? (yes/no): no\n"
          ]
        }
      ]
    },
    {
      "cell_type": "code",
      "source": [
        "n=int(input('enter a number '))\n",
        "s=input('enter a symbol ')\n",
        "n1=int(input('enter a number '))\n",
        "if s=='+':\n",
        "  print('your answer is ',n+n1)\n",
        "elif s=='-':\n",
        "  print('your answer is ',n-n1)\n",
        "elif s=='*':\n",
        "  print('your answer is ',n*n1)\n",
        "else:\n",
        "  print('invalid symbol')\n"
      ],
      "metadata": {
        "colab": {
          "base_uri": "https://localhost:8080/"
        },
        "id": "PhWuyWApOpOb",
        "outputId": "fdedc1ad-7de7-4382-dc5a-e79f57b35f78"
      },
      "execution_count": null,
      "outputs": [
        {
          "output_type": "stream",
          "name": "stdout",
          "text": [
            "enter a number 3\n",
            "enter a symbol *\n",
            "enter a number 2\n",
            "your answer is  6\n"
          ]
        }
      ]
    },
    {
      "cell_type": "code",
      "source": [
        "n=int(input('enter a year'))\n",
        "if n%4==0:\n",
        "  print(\"this is leap year\")\n",
        "else:\n",
        "  print(\"its not leap year\")"
      ],
      "metadata": {
        "colab": {
          "base_uri": "https://localhost:8080/"
        },
        "id": "igADkohfMpB7",
        "outputId": "cac9a130-1212-4ca9-d157-3f4c68e540cd"
      },
      "execution_count": null,
      "outputs": [
        {
          "output_type": "stream",
          "name": "stdout",
          "text": [
            "enter a year2016\n",
            "its leap year\n"
          ]
        }
      ]
    },
    {
      "cell_type": "markdown",
      "source": [
        "###Python Program to print all Possible Combinations from the three Digits\n"
      ],
      "metadata": {
        "id": "TdhNONJtN0yc"
      }
    },
    {
      "cell_type": "code",
      "source": [
        "l=[1, 2, 3]\n",
        "for i in range(3):\n",
        "  for j in range(3):\n",
        "    for k in range(3):\n",
        "      if (i!=j and j!=k and i!=k):\n",
        "        print(l[i],l[j],l[k])\n",
        "\n"
      ],
      "metadata": {
        "colab": {
          "base_uri": "https://localhost:8080/"
        },
        "id": "qLpIQRldM0_y",
        "outputId": "d9071407-ba7b-4ccf-be19-66a35236a081"
      },
      "execution_count": null,
      "outputs": [
        {
          "output_type": "stream",
          "name": "stdout",
          "text": [
            "1 2 3\n",
            "1 3 2\n",
            "2 1 3\n",
            "2 3 1\n",
            "3 1 2\n",
            "3 2 1\n"
          ]
        }
      ]
    },
    {
      "cell_type": "markdown",
      "source": [
        "#09/03/2024"
      ],
      "metadata": {
        "id": "AXHJ1vLKUg5l"
      }
    },
    {
      "cell_type": "code",
      "source": [
        "import itertools\n",
        "\n",
        "l= [\"1\",\"2\",\"3\"]\n",
        "combinations=[]\n",
        "for i in range(1,len(l)+1):\n",
        "  c+=itertools.combinations(l,i)\n",
        "print(c)\n"
      ],
      "metadata": {
        "id": "PXaR_fWBNmKW",
        "colab": {
          "base_uri": "https://localhost:8080/"
        },
        "outputId": "eec07718-e6ea-4bed-9440-29b56dd8a9c3"
      },
      "execution_count": null,
      "outputs": [
        {
          "output_type": "stream",
          "name": "stdout",
          "text": [
            "[('1',), ('2',), ('3',), ('1', '2'), ('1', '3'), ('2', '3'), ('1', '2', '3')]\n"
          ]
        }
      ]
    },
    {
      "cell_type": "code",
      "source": [
        "import itertools\n",
        "\n",
        "l= [1,2,3,4]\n",
        "combinations=[]\n",
        "for i in range(1,len(l)+1):\n",
        "  c+=itertools.combinations(l,i)\n",
        "print(c)\n"
      ],
      "metadata": {
        "colab": {
          "base_uri": "https://localhost:8080/"
        },
        "id": "GzoNoBDqgaRU",
        "outputId": "c48074d8-5c50-446f-97c0-ab939c8263a7"
      },
      "execution_count": null,
      "outputs": [
        {
          "output_type": "stream",
          "name": "stdout",
          "text": [
            "[('1',), ('2',), ('3',), ('1', '2'), ('1', '3'), ('2', '3'), ('1', '2', '3'), (1,), (2,), (3,), (1, 2), (1, 3), (2, 3), (1, 2, 3), (1,), (2,), (3,), (4,), (1, 2), (1, 3), (1, 4), (2, 3), (2, 4), (3, 4), (1, 2, 3), (1, 2, 4), (1, 3, 4), (2, 3, 4), (1, 2, 3, 4)]\n"
          ]
        }
      ]
    },
    {
      "cell_type": "code",
      "source": [
        "from itertools import combinations\n",
        "ls= [\"GFG\", [5, 4], \"is\",[\"best\", \"good\", \"better\", \"average\"]]\n",
        "d=0\n",
        "tem=combinations(ls,2)\n",
        "for i in list(tem):\n",
        "  d=d+1\n",
        "  print(d,i)"
      ],
      "metadata": {
        "colab": {
          "base_uri": "https://localhost:8080/"
        },
        "id": "LmdFuaAhVn3F",
        "outputId": "6b67625d-afa8-4233-b3c5-1c203e1c34f5"
      },
      "execution_count": null,
      "outputs": [
        {
          "output_type": "stream",
          "name": "stdout",
          "text": [
            "1 ('GFG', [5, 4])\n",
            "2 ('GFG', 'is')\n",
            "3 ('GFG', ['best', 'good', 'better', 'average'])\n",
            "4 ([5, 4], 'is')\n",
            "5 ([5, 4], ['best', 'good', 'better', 'average'])\n",
            "6 ('is', ['best', 'good', 'better', 'average'])\n"
          ]
        }
      ]
    },
    {
      "cell_type": "code",
      "source": [
        "l= [1, 3, 4, 6, 5, 1]\n"
      ],
      "metadata": {
        "id": "RcLmhxiio4mp"
      },
      "execution_count": null,
      "outputs": []
    },
    {
      "cell_type": "code",
      "source": [
        "a='bccb'\n",
        "l=[]\n",
        "s=''\n",
        "for i in range(len(a)):\n",
        "  # print(a[i])\n",
        "  s+=a[i]\n",
        "  for j in range(i+1,len(a)-1):\n",
        "    # print(j)\n",
        "    em=s+a[j]+a[-1]\n",
        "\n",
        "    if em==em[::-1]:\n",
        "      if em not in l:\n",
        "        l.append(em)\n",
        "print(l)\n",
        "print(len(l))\n"
      ],
      "metadata": {
        "colab": {
          "base_uri": "https://localhost:8080/"
        },
        "id": "2F1oGG7oqBu-",
        "outputId": "2d54bab0-b66d-4981-9513-66a96ac6b0ad"
      },
      "execution_count": null,
      "outputs": [
        {
          "output_type": "stream",
          "name": "stdout",
          "text": [
            "['bcb', 'bccb']\n",
            "2\n"
          ]
        }
      ]
    },
    {
      "cell_type": "code",
      "source": [
        "st=\"zero four zero one\"\n",
        "b=st.split(' ')\n",
        "res=''\n",
        "dt={\"zero\":'0', \"one\":'1', \"two\":'2', \"three\":'4',\"four\":'4',}\n",
        "for i in b:\n",
        "  res+=''.join(dt[i])\n",
        "print(res)"
      ],
      "metadata": {
        "colab": {
          "base_uri": "https://localhost:8080/"
        },
        "id": "U_XwRefbrNgk",
        "outputId": "121dadf4-d869-49af-fcad-41a4d906cb16"
      },
      "execution_count": null,
      "outputs": [
        {
          "output_type": "stream",
          "name": "stdout",
          "text": [
            "0401\n"
          ]
        }
      ]
    },
    {
      "cell_type": "code",
      "source": [
        "a=\"skyblue\"\n",
        "res=a[3:]+ \" \" +a[:3]\n",
        "print(res)"
      ],
      "metadata": {
        "colab": {
          "base_uri": "https://localhost:8080/"
        },
        "id": "44n2uX0AtUml",
        "outputId": "a389cd1a-0b7e-4f8c-8ace-a65a3e3a6b5c"
      },
      "execution_count": null,
      "outputs": [
        {
          "output_type": "stream",
          "name": "stdout",
          "text": [
            "blue sky\n"
          ]
        }
      ]
    },
    {
      "cell_type": "code",
      "source": [
        "sky_color = \"skyblue\"\n",
        "blue_sky = sky_color[-4:] + \" \" + sky_color[:-4]\n",
        "print(blue_sky)\n"
      ],
      "metadata": {
        "colab": {
          "base_uri": "https://localhost:8080/"
        },
        "id": "AnvQmqqfUZQM",
        "outputId": "144ee959-c373-4c59-d951-061c3da6d41d"
      },
      "execution_count": null,
      "outputs": [
        {
          "output_type": "stream",
          "name": "stdout",
          "text": [
            "blue sky\n"
          ]
        }
      ]
    },
    {
      "cell_type": "markdown",
      "source": [
        "#11/03/2024"
      ],
      "metadata": {
        "id": "dc8A9CMrrA0H"
      }
    },
    {
      "cell_type": "code",
      "source": [
        "a='bccb'\n",
        "l=[]\n",
        "s=''\n",
        "# bcc,ccb,bcb, bccb\n",
        "for i in range(len(a)):\n",
        "  # print(a[i])\n",
        "  s+=a[i]\n",
        "print(a)\n",
        "for j in range(len(a)-1):\n",
        "    # print(j)\n",
        "    em=s+a[j]+a[-1]\n",
        "print(em)\n",
        "\n",
        "#     if em==em[::-1]:\n",
        "#       if em not in l:\n",
        "#         l.append(em)\n",
        "# print(l)\n",
        "# print(len(l))\n"
      ],
      "metadata": {
        "colab": {
          "base_uri": "https://localhost:8080/"
        },
        "id": "WugkYFq5rzI5",
        "outputId": "5a2e75b3-19dd-4ed8-f5ff-62e40cbabc7d"
      },
      "execution_count": null,
      "outputs": [
        {
          "output_type": "stream",
          "name": "stdout",
          "text": [
            "bccb\n",
            "bccbcb\n"
          ]
        }
      ]
    },
    {
      "cell_type": "code",
      "source": [
        "a='bccb'\n",
        "b=[]\n",
        "n=3\n",
        "while n<=len(a):\n",
        "  for i in range(len(a)):\n",
        "    h=a[i:i+n]\n",
        "    if len(h)>=3:\n",
        "      b.append(h)\n",
        "    n+=1\n",
        "print(b)\n"
      ],
      "metadata": {
        "colab": {
          "base_uri": "https://localhost:8080/"
        },
        "id": "z2tcXBTkVecK",
        "outputId": "74d3850a-8315-4fc1-b955-aabaa517af2f"
      },
      "execution_count": null,
      "outputs": [
        {
          "output_type": "stream",
          "name": "stdout",
          "text": [
            "['bcc', 'ccb']\n"
          ]
        }
      ]
    },
    {
      "cell_type": "code",
      "source": [
        "def generate_specific_substrings(s):\n",
        "    substrings = []\n",
        "    n = len(s)\n",
        "    for i in range(n):\n",
        "        for j in range(i + 1, n):\n",
        "            substring = s[i:j+1]\n",
        "            if substring == substring[::-1]:\n",
        "                substrings.append(substring)\n",
        "    return substrings\n",
        "\n",
        "a = 'bccb'\n",
        "output = generate_specific_substrings(a)\n",
        "print(output)\n"
      ],
      "metadata": {
        "colab": {
          "base_uri": "https://localhost:8080/"
        },
        "id": "7kG3rnSasYHG",
        "outputId": "4d491764-2646-412d-de40-ba837fb78ff2"
      },
      "execution_count": null,
      "outputs": [
        {
          "output_type": "stream",
          "name": "stdout",
          "text": [
            "['bccb', 'cc']\n"
          ]
        }
      ]
    },
    {
      "cell_type": "markdown",
      "source": [
        "###Python program to print even length words in a string\n"
      ],
      "metadata": {
        "id": "3IBOufkLzCs3"
      }
    },
    {
      "cell_type": "code",
      "source": [
        "n = \"This is a python language\"\n",
        "s=n.split(\" \")\n",
        "for i in s:\n",
        "  if len(i)%2==0:\n",
        "    print(i)"
      ],
      "metadata": {
        "colab": {
          "base_uri": "https://localhost:8080/"
        },
        "id": "ULcL9MiEvHou",
        "outputId": "60c9aebe-3be7-409d-de4e-563a57e32d44"
      },
      "execution_count": null,
      "outputs": [
        {
          "output_type": "stream",
          "name": "stdout",
          "text": [
            "This\n",
            "is\n",
            "python\n",
            "language\n"
          ]
        }
      ]
    },
    {
      "cell_type": "code",
      "source": [
        "n = \"i am laxmi\"\n",
        "s=n.split(\" \")\n",
        "for i in s:\n",
        "  if len(i)%2==0:\n",
        "    print(i)"
      ],
      "metadata": {
        "colab": {
          "base_uri": "https://localhost:8080/"
        },
        "id": "g9cN8aYVyoJj",
        "outputId": "878473f9-fa3c-4671-9831-4d6eecacb3a4"
      },
      "execution_count": null,
      "outputs": [
        {
          "output_type": "stream",
          "name": "stdout",
          "text": [
            "am\n"
          ]
        }
      ]
    },
    {
      "cell_type": "markdown",
      "source": [
        "###Uppercase Half String"
      ],
      "metadata": {
        "id": "Ojb2yM7C01PQ"
      }
    },
    {
      "cell_type": "code",
      "source": [
        "st= 'doingcoking'\n",
        "h=len(st)//2\n",
        "print(h)\n",
        "res=st[:h] +st[h:].upper()\n",
        "print(res)\n"
      ],
      "metadata": {
        "colab": {
          "base_uri": "https://localhost:8080/"
        },
        "id": "rjNu45ljy_FF",
        "outputId": "f7ac8273-de08-4df5-dcbf-d3d3666c2f43"
      },
      "execution_count": null,
      "outputs": [
        {
          "output_type": "stream",
          "name": "stdout",
          "text": [
            "5\n",
            "doingCOKING\n"
          ]
        }
      ]
    },
    {
      "cell_type": "code",
      "source": [
        "# s='welcome2ourcountry34'\n",
        "res=False\n",
        "s='nhjuyyfdshgvsnb'\n",
        "res1=False\n",
        "# for i in s:\n",
        "#   if s.alpha():\n",
        "#     res=True\n",
        "#     print(res)\n",
        "if s.isalnum():\n",
        "  print(True)\n",
        "elif s.isalpha():\n",
        "  print(False)"
      ],
      "metadata": {
        "colab": {
          "base_uri": "https://localhost:8080/"
        },
        "id": "88ghwYKGzp14",
        "outputId": "e995a173-26c7-408d-96af-b9b7c8adfa32"
      },
      "execution_count": null,
      "outputs": [
        {
          "output_type": "stream",
          "name": "stdout",
          "text": [
            "True\n"
          ]
        }
      ]
    },
    {
      "cell_type": "code",
      "source": [
        "num = 1\n",
        "while num <= 5:\n",
        "    # num+=1\n",
        "    print(num)\n",
        "    num += 1\n"
      ],
      "metadata": {
        "colab": {
          "base_uri": "https://localhost:8080/"
        },
        "id": "co27itqD11CP",
        "outputId": "f3014af1-516d-43d0-cd6a-cc13ea7153db"
      },
      "execution_count": null,
      "outputs": [
        {
          "output_type": "stream",
          "name": "stdout",
          "text": [
            "1\n",
            "2\n",
            "3\n",
            "4\n",
            "5\n"
          ]
        }
      ]
    },
    {
      "cell_type": "code",
      "source": [
        "n=1\n",
        "while n<=5:\n",
        "  print(n)\n",
        "  n+=1"
      ],
      "metadata": {
        "id": "phc9ECKxY_6h",
        "colab": {
          "base_uri": "https://localhost:8080/"
        },
        "outputId": "38628be5-d1e4-4822-93b3-731d46f65b2f"
      },
      "execution_count": null,
      "outputs": [
        {
          "output_type": "stream",
          "name": "stdout",
          "text": [
            "1\n",
            "2\n",
            "3\n",
            "4\n",
            "5\n"
          ]
        }
      ]
    },
    {
      "cell_type": "markdown",
      "source": [
        "#12/03/2024"
      ],
      "metadata": {
        "id": "lVEHyAMkwaXv"
      }
    },
    {
      "cell_type": "markdown",
      "source": [
        "###Python Program to Accept the Strings Which Contains all Vowels\n"
      ],
      "metadata": {
        "id": "T_53XGQ328UW"
      }
    },
    {
      "cell_type": "code",
      "source": [
        "st='geeksforgeeks'\n",
        "res=\"aeiou\"\n",
        "if st in res:\n",
        "  print(\"vowel present\")\n",
        "else:\n",
        "  print(\"vowels not present\")"
      ],
      "metadata": {
        "colab": {
          "base_uri": "https://localhost:8080/"
        },
        "id": "F0cBam_swQNv",
        "outputId": "15094a4a-3ace-418a-caa4-fad08776907e"
      },
      "execution_count": null,
      "outputs": [
        {
          "output_type": "stream",
          "name": "stdout",
          "text": [
            "vowels not present\n"
          ]
        }
      ]
    },
    {
      "cell_type": "code",
      "source": [
        "st = 'geeksfrgeeks'\n",
        "req='aeiou'\n",
        "miss_vow=''\n",
        "for i in req:\n",
        "  if i not in st:\n",
        "    miss_vow+=i\n",
        "if miss_vow:\n",
        "  print(\"missing vowels:\",miss_vow)\n",
        "else:\n",
        "  print('all required vowels present')"
      ],
      "metadata": {
        "colab": {
          "base_uri": "https://localhost:8080/"
        },
        "id": "Dpil_I9x4Kru",
        "outputId": "cded4b67-a9c6-41d6-989b-4f6c58183a08"
      },
      "execution_count": null,
      "outputs": [
        {
          "output_type": "stream",
          "name": "stdout",
          "text": [
            "missing vowels: aiou\n"
          ]
        }
      ]
    },
    {
      "cell_type": "code",
      "source": [
        "st='aeeeighiouObhkUul'\n",
        "res=\"aeiou\"\n",
        "res1=''\n",
        "l=[]\n",
        "for i in st:\n",
        "  if i in res and  i not in l:\n",
        "    l.append(i)\n",
        "# print(l)\n",
        "for i in l:\n",
        "    res1+=''.join(i)\n",
        "# print(res1)\n",
        "if res == res1:\n",
        "    print('vowels present')\n",
        "else:\n",
        "  print('vowels not present')\n"
      ],
      "metadata": {
        "colab": {
          "base_uri": "https://localhost:8080/"
        },
        "id": "S-vdJuy8xJGT",
        "outputId": "ff9d04e0-2490-4bc5-c4c6-96fb5fdd77b7"
      },
      "execution_count": null,
      "outputs": [
        {
          "output_type": "stream",
          "name": "stdout",
          "text": [
            "vowels present\n"
          ]
        }
      ]
    },
    {
      "cell_type": "code",
      "source": [
        "st = 'ABeeIghiObhkUul'\n",
        "required_vowels = \"aeiou\"\n",
        "\n",
        "for i in required_vowels:\n",
        "  if i not in st.lower():\n",
        "    print(\"all vowels not present\")\n",
        "    break\n",
        "else:\n",
        "    print(\"all vowels are present\")\n"
      ],
      "metadata": {
        "colab": {
          "base_uri": "https://localhost:8080/"
        },
        "id": "bwTAZfCU5Km2",
        "outputId": "53d0df80-43d2-4042-8b26-6fd62438dcfe"
      },
      "execution_count": null,
      "outputs": [
        {
          "output_type": "stream",
          "name": "stdout",
          "text": [
            "all vowels are present\n"
          ]
        }
      ]
    },
    {
      "cell_type": "markdown",
      "source": [
        "###convert roman number integer"
      ],
      "metadata": {
        "id": "Q3Cvi3qH1LMv"
      }
    },
    {
      "cell_type": "code",
      "source": [
        "num={'I':1,'II':2,'III':3,'IV':4,'V':5,'VI':6,'VII':7,'VIII':8,'IX':9,'X':10}\n",
        "n=input('Please give us roman number')\n",
        "print(\"this is integer number\",num[n])\n"
      ],
      "metadata": {
        "colab": {
          "base_uri": "https://localhost:8080/"
        },
        "id": "O9mN66eayPIj",
        "outputId": "6a283fb5-713e-4361-a0a4-dc699062b1c2"
      },
      "execution_count": null,
      "outputs": [
        {
          "output_type": "stream",
          "name": "stdout",
          "text": [
            "Please give us roman numberX\n",
            "this is integer number 10\n"
          ]
        }
      ]
    },
    {
      "cell_type": "code",
      "source": [
        "l=range(8)\n",
        "for i in l:\n",
        "  if i==4:\n",
        "    break\n",
        "  print(i)"
      ],
      "metadata": {
        "colab": {
          "base_uri": "https://localhost:8080/"
        },
        "id": "3C6KWQsa-7JM",
        "outputId": "798c0736-fe48-4bcd-b468-15ef08a20d71"
      },
      "execution_count": null,
      "outputs": [
        {
          "output_type": "stream",
          "name": "stdout",
          "text": [
            "0\n",
            "1\n",
            "2\n",
            "3\n"
          ]
        }
      ]
    },
    {
      "cell_type": "code",
      "source": [
        "for i in range(8):\n",
        "  if i==4:\n",
        "    break\n",
        "  print(i)"
      ],
      "metadata": {
        "colab": {
          "base_uri": "https://localhost:8080/"
        },
        "id": "oUd13DK8_MBM",
        "outputId": "d2bc826a-52f0-4e4c-bc3e-adff5a3f2e61"
      },
      "execution_count": null,
      "outputs": [
        {
          "output_type": "stream",
          "name": "stdout",
          "text": [
            "0\n",
            "1\n",
            "2\n",
            "3\n"
          ]
        }
      ]
    },
    {
      "cell_type": "code",
      "source": [
        "for i in range(8):\n",
        "  if i==4:\n",
        "    continue\n",
        "  print(i)"
      ],
      "metadata": {
        "colab": {
          "base_uri": "https://localhost:8080/"
        },
        "id": "H-8yiSqP_YBJ",
        "outputId": "d2cbfba6-b466-43cd-a573-3b58575a4c2f"
      },
      "execution_count": null,
      "outputs": [
        {
          "output_type": "stream",
          "name": "stdout",
          "text": [
            "0\n",
            "1\n",
            "2\n",
            "3\n",
            "5\n",
            "6\n",
            "7\n"
          ]
        }
      ]
    },
    {
      "cell_type": "markdown",
      "source": [
        "#14/03/2024"
      ],
      "metadata": {
        "id": "MREOFU2E_OCh"
      }
    },
    {
      "cell_type": "markdown",
      "source": [
        "###Count the Number of matching characters in a pair of string"
      ],
      "metadata": {
        "id": "AzeGRuM1KjTq"
      }
    },
    {
      "cell_type": "code",
      "source": [
        "s= 'abcdef'\n",
        "s1= 'defghia'\n",
        "s2=''\n",
        "for i in s:\n",
        "  # print(i)\n",
        "  for j in s1:\n",
        "    if i in j:\n",
        "      s2+=' '.join(i)\n",
        "print(\"matching values in both string:\",s2)\n",
        "print(len(s2))"
      ],
      "metadata": {
        "id": "lupbIgJ0_5-k",
        "colab": {
          "base_uri": "https://localhost:8080/"
        },
        "outputId": "a65fc2bc-494b-4d0f-99e8-93fa1c709b7b"
      },
      "execution_count": null,
      "outputs": [
        {
          "output_type": "stream",
          "name": "stdout",
          "text": [
            "matching values in both string: adef\n",
            "4\n"
          ]
        }
      ]
    },
    {
      "cell_type": "markdown",
      "source": [
        "###Count the Number of matching characters in a pair of string"
      ],
      "metadata": {
        "id": "iOr7LVj4KhEC"
      }
    },
    {
      "cell_type": "code",
      "source": [
        "s= 'aabcddekll12@'\n",
        "s1= 'bb22ll@55k'\n",
        "l=[]\n",
        "for i in s1:\n",
        "  if i in s:\n",
        "    if i not in l:\n",
        "      l.append(i)\n",
        "print(\"matching values in both string:\",l)\n",
        "print(len(l))"
      ],
      "metadata": {
        "colab": {
          "base_uri": "https://localhost:8080/"
        },
        "id": "zTbbZE-3_V7h",
        "outputId": "fc963176-01c2-45e7-e756-af42a7baf5db"
      },
      "execution_count": null,
      "outputs": [
        {
          "output_type": "stream",
          "name": "stdout",
          "text": [
            "matching values in both string: ['b', '2', 'l', '@', 'k']\n",
            "5\n"
          ]
        }
      ]
    },
    {
      "cell_type": "code",
      "source": [
        "s2='geeksforgeeks'\n",
        "s=''\n",
        "for i in s2:\n",
        "  if i not in s:\n",
        "    s+=''.join(i)\n",
        "print(s)\n"
      ],
      "metadata": {
        "colab": {
          "base_uri": "https://localhost:8080/"
        },
        "id": "2jSr_MUmIVxY",
        "outputId": "2930462a-4e5f-4d0c-b869-cc40e396c6c0"
      },
      "execution_count": null,
      "outputs": [
        {
          "output_type": "stream",
          "name": "stdout",
          "text": [
            "geksfor\n"
          ]
        }
      ]
    },
    {
      "cell_type": "markdown",
      "source": [],
      "metadata": {
        "id": "ReN3siNdNtG5"
      }
    },
    {
      "cell_type": "code",
      "source": [
        "s2='geeksforgeeks'\n",
        "d={}\n",
        "k1=''\n",
        "for i in s2:\n",
        "  if i  in d:\n",
        "    d[i]+=1\n",
        "  else:\n",
        "    d[i]=1\n",
        "print(d)\n",
        "for k,v in d.items():\n",
        "  if v==1:\n",
        "    k1=k\n",
        "    print(k,v)"
      ],
      "metadata": {
        "colab": {
          "base_uri": "https://localhost:8080/"
        },
        "id": "0YQvYhc1Lo2x",
        "outputId": "3b199c09-af1a-4933-cc1e-037a3a343eb5"
      },
      "execution_count": null,
      "outputs": [
        {
          "output_type": "stream",
          "name": "stdout",
          "text": [
            "{'g': 2, 'e': 4, 'k': 2, 's': 2, 'f': 1, 'o': 1, 'r': 1}\n",
            "f 1\n",
            "o 1\n",
            "r 1\n"
          ]
        }
      ]
    },
    {
      "cell_type": "code",
      "source": [
        "s2='geeksforgeeks'\n",
        "s3={}\n",
        "for i in s2:\n",
        "  if i in s3:\n",
        "    s3[i]+=1\n",
        "  else:\n",
        "    s3[i]=1\n",
        "print(s3)\n",
        "l=[i for i in s3.values()]\n",
        "print(max(l))"
      ],
      "metadata": {
        "colab": {
          "base_uri": "https://localhost:8080/"
        },
        "id": "A0EsK5NQM5m2",
        "outputId": "acff8edd-652e-4ca3-ce25-9e607cc755c4"
      },
      "execution_count": null,
      "outputs": [
        {
          "output_type": "stream",
          "name": "stdout",
          "text": [
            "{'g': 2, 'e': 4, 'k': 2, 's': 2, 'f': 1, 'o': 1, 'r': 1}\n",
            "4\n"
          ]
        }
      ]
    },
    {
      "cell_type": "markdown",
      "source": [
        "#15/03/2024"
      ],
      "metadata": {
        "id": "uy9y8x3GNjLU"
      }
    },
    {
      "cell_type": "code",
      "source": [
        "s='rashidaansari'\n",
        "res=s[7:]+ ' ' +s[:7]\n",
        "print(res)\n",
        "print(res.capitalize())\n",
        "print(res.title())\n"
      ],
      "metadata": {
        "id": "qgwTHQZhOAoZ",
        "colab": {
          "base_uri": "https://localhost:8080/"
        },
        "outputId": "797d49ed-26e0-4603-de5b-0a040b7b0e1c"
      },
      "execution_count": null,
      "outputs": [
        {
          "output_type": "stream",
          "name": "stdout",
          "text": [
            "ansari rashida\n",
            "Ansari rashida\n",
            "Ansari Rashida\n"
          ]
        }
      ]
    },
    {
      "cell_type": "code",
      "source": [
        "st= 'doingcoking'\n",
        "h=len(st)//2\n",
        "print(h)\n",
        "res=st[:h] +st[h:].upper()\n",
        "print(res)\n"
      ],
      "metadata": {
        "colab": {
          "base_uri": "https://localhost:8080/"
        },
        "id": "q5cmF1IIOWRp",
        "outputId": "69a3fe5f-709f-4919-f843-bde868acc07e"
      },
      "execution_count": null,
      "outputs": [
        {
          "output_type": "stream",
          "name": "stdout",
          "text": [
            "5\n",
            "doingCOKING\n"
          ]
        }
      ]
    },
    {
      "cell_type": "code",
      "source": [
        "n = \"This is a python language\"\n",
        "s=n.split(\" \")\n",
        "for i in s:\n",
        "  if len(i)%2==0:\n",
        "    print(i)"
      ],
      "metadata": {
        "colab": {
          "base_uri": "https://localhost:8080/"
        },
        "id": "zyJNCTo1N-NQ",
        "outputId": "ca859a40-2ee4-4115-f802-a45f4cf39570"
      },
      "execution_count": null,
      "outputs": [
        {
          "output_type": "stream",
          "name": "stdout",
          "text": [
            "This\n",
            "is\n",
            "python\n",
            "language\n"
          ]
        }
      ]
    },
    {
      "cell_type": "code",
      "source": [
        "from itertools import combinations\n",
        "ls= [\"GFG\", [5, 4], \"is\",[\"best\", \"good\", \"better\", \"average\"]]\n",
        "d=0\n",
        "tem=combinations(ls,2)\n",
        "for i in list(tem):\n",
        "  d=d+1\n",
        "print(d,i)"
      ],
      "metadata": {
        "colab": {
          "base_uri": "https://localhost:8080/"
        },
        "id": "Nvk-gP6BOPg5",
        "outputId": "e86e6d64-5522-439e-dada-db0570eaaa78"
      },
      "execution_count": null,
      "outputs": [
        {
          "output_type": "stream",
          "name": "stdout",
          "text": [
            "6 ('is', ['best', 'good', 'better', 'average'])\n"
          ]
        }
      ]
    },
    {
      "cell_type": "code",
      "source": [
        "def clo():\n",
        "  num='Rashida'\n",
        "  return lambda: 'hii '  +num\n",
        "ob=clo()\n",
        "print(ob())"
      ],
      "metadata": {
        "colab": {
          "base_uri": "https://localhost:8080/"
        },
        "id": "9xsqaWhOPXB8",
        "outputId": "ad13fac6-b70a-4a73-f9f2-2ab05da2ebf8"
      },
      "execution_count": null,
      "outputs": [
        {
          "output_type": "stream",
          "name": "stdout",
          "text": [
            "hii Rashida\n"
          ]
        }
      ]
    },
    {
      "cell_type": "markdown",
      "source": [
        "#19/03/2024"
      ],
      "metadata": {
        "id": "-5anz5bzZHZP"
      }
    },
    {
      "cell_type": "code",
      "source": [
        "for i in range(5):\n",
        "    for j in range(i):\n",
        "        print(\" \", end=\"\")\n",
        "    for j in range(i, 5):\n",
        "        print(\"* \", end=\"\")\n",
        "    print()"
      ],
      "metadata": {
        "colab": {
          "base_uri": "https://localhost:8080/"
        },
        "id": "q9lqqUYTaHv5",
        "outputId": "fd2dca94-3220-407f-d762-2c550e5fdc56"
      },
      "execution_count": null,
      "outputs": [
        {
          "output_type": "stream",
          "name": "stdout",
          "text": [
            "* * * * * \n",
            " * * * * \n",
            "  * * * \n",
            "   * * \n",
            "    * \n"
          ]
        }
      ]
    },
    {
      "cell_type": "code",
      "source": [
        "for i in range(5):\n",
        "    for j in range(5, i, -1):\n",
        "        print(\" \", end=\"\")\n",
        "    for k in range(i + 1):\n",
        "        print(\"* \", end=\"\")\n",
        "    print()"
      ],
      "metadata": {
        "colab": {
          "base_uri": "https://localhost:8080/"
        },
        "id": "26xP3ucfaXhi",
        "outputId": "73cb6788-1b3b-47a4-8615-3b393724837f"
      },
      "execution_count": null,
      "outputs": [
        {
          "output_type": "stream",
          "name": "stdout",
          "text": [
            "     * \n",
            "    * * \n",
            "   * * * \n",
            "  * * * * \n",
            " * * * * * \n"
          ]
        }
      ]
    },
    {
      "cell_type": "code",
      "source": [
        "n = 5\n",
        "alph = 65\n",
        "for i in range(0, n):\n",
        "\tprint(\" \" * (n-i), end=\" \")\n",
        "\tfor j in range(0, i+1):\n",
        "\t\tprint(chr(alph), end=\" \")\n",
        "\t\talph += 1\n",
        "\talph = 65\n",
        "\tprint()\n"
      ],
      "metadata": {
        "colab": {
          "base_uri": "https://localhost:8080/"
        },
        "id": "jpcjlaNfZo0R",
        "outputId": "64ebcb55-cdd4-45e9-a2ce-14f539cf8a64"
      },
      "execution_count": null,
      "outputs": [
        {
          "output_type": "stream",
          "name": "stdout",
          "text": [
            "      A \n",
            "     A B \n",
            "    A B C \n",
            "   A B C D \n",
            "  A B C D E \n"
          ]
        }
      ]
    },
    {
      "cell_type": "code",
      "source": [
        "l={'choclate':10,'strwabary':3,'vanila':1,'cherry':8}"
      ],
      "metadata": {
        "id": "RLqoivigZuua"
      },
      "execution_count": null,
      "outputs": []
    },
    {
      "cell_type": "code",
      "source": [
        "st= \"GeeksforGeeks\"\n",
        "st1={}\n",
        "for i in st:\n",
        "  if i in st1:\n",
        "    st1[i]+=1\n",
        "  else:\n",
        "    st1[i]=1\n",
        "res=max(st1, key = st1.get)\n",
        "print(\"maximum repeat charcter in string\",res)\n",
        "\n"
      ],
      "metadata": {
        "id": "NULASFZeAKM7",
        "colab": {
          "base_uri": "https://localhost:8080/"
        },
        "outputId": "137568d1-63c0-4f5d-9bbb-1f29d045609c"
      },
      "execution_count": null,
      "outputs": [
        {
          "output_type": "stream",
          "name": "stdout",
          "text": [
            "maximum repeat charcter in string e\n"
          ]
        }
      ]
    },
    {
      "cell_type": "code",
      "source": [
        "st=\"zero four zero one\"\n",
        "b=st.split(' ')\n",
        "res=''\n",
        "dt={\"zero\":'0', \"one\":'1', \"two\":'2', \"three\":'4',\"four\":'4',}\n",
        "for i in b:\n",
        "  res+=''.join(dt[i])\n",
        "print(res)"
      ],
      "metadata": {
        "colab": {
          "base_uri": "https://localhost:8080/"
        },
        "id": "7QKZjkKD49cK",
        "outputId": "3e9beb6b-0eac-4183-ffb1-b42ca6b9a7f7"
      },
      "execution_count": null,
      "outputs": [
        {
          "output_type": "stream",
          "name": "stdout",
          "text": [
            "0401\n"
          ]
        }
      ]
    },
    {
      "cell_type": "markdown",
      "source": [
        "#20/03/2024"
      ],
      "metadata": {
        "id": "Fs5Sa5zIALH3"
      }
    },
    {
      "cell_type": "code",
      "source": [
        "a='aaabbbbcccc'\n",
        "b={}\n",
        "# ot=a3b4c4\n",
        "for i in a:\n",
        "  if i in b:\n",
        "    b[i]+=1\n",
        "  else:\n",
        "    b[i]=1\n",
        "print(b)\n",
        "print(''.join(b))"
      ],
      "metadata": {
        "colab": {
          "base_uri": "https://localhost:8080/"
        },
        "id": "QoX_XAry_9aK",
        "outputId": "13c4258d-674e-41f5-984b-a0ea99136ee6"
      },
      "execution_count": null,
      "outputs": [
        {
          "output_type": "stream",
          "name": "stdout",
          "text": [
            "{'a': 3, 'b': 4, 'c': 4}\n",
            "abc\n"
          ]
        }
      ]
    },
    {
      "cell_type": "code",
      "source": [
        "a='aaabbbbcccc'\n",
        "b={}\n",
        "# ot=a3b4c4\n",
        "for i in a:\n",
        "  if i in b:\n",
        "    b[i]+=1\n",
        "  else:\n",
        "    b[i]=1\n",
        "print(b)\n",
        "res=''.join([f'{k}{v}' for k,v in b.items()])\n",
        "print(res)"
      ],
      "metadata": {
        "colab": {
          "base_uri": "https://localhost:8080/"
        },
        "id": "7SdFg4GTDFPB",
        "outputId": "4a5e350c-339a-40ce-994e-27fdea6a9d8c"
      },
      "execution_count": null,
      "outputs": [
        {
          "output_type": "stream",
          "name": "stdout",
          "text": [
            "{'a': 3, 'b': 4, 'c': 4}\n",
            "a3b4c4\n"
          ]
        }
      ]
    },
    {
      "cell_type": "code",
      "source": [
        "a='aaabbbbcccc'\n",
        "b={}\n",
        "res=''\n",
        "\n",
        "# ot=a3b4c4\n",
        "for i in a:\n",
        "  if i in b:\n",
        "    b[i]+=1\n",
        "  else:\n",
        "    b[i]=1\n",
        "print(b)\n",
        "for k,v in b.items():\n",
        "  res+=f'{k}{v}'\n",
        "print(res)\n"
      ],
      "metadata": {
        "colab": {
          "base_uri": "https://localhost:8080/"
        },
        "id": "4Fr7-_1LEpGb",
        "outputId": "b515e427-3017-4ae7-c374-3e7f22b00170"
      },
      "execution_count": null,
      "outputs": [
        {
          "output_type": "stream",
          "name": "stdout",
          "text": [
            "{'a': 3, 'b': 4, 'c': 4}\n",
            "a3b4c4\n"
          ]
        }
      ]
    },
    {
      "cell_type": "code",
      "source": [
        "l1= ['be','have','do','say','get','make','go','know','take','see','come','think','look','want','give','use','find','tell','ask','work','seem','feel','leave']\n",
        "for i in range(len(l1)):\n",
        "  for j in range(len(l1)):\n",
        "    if l1[i]<l1[j]:\n",
        "      l1[i],l1[j]=l1[j],l1[i]\n",
        "print(l1)"
      ],
      "metadata": {
        "colab": {
          "base_uri": "https://localhost:8080/"
        },
        "id": "0p8G4DxMEMp1",
        "outputId": "85ca6e6d-fa3a-4342-b3e5-22963d9ad2e2"
      },
      "execution_count": null,
      "outputs": [
        {
          "output_type": "stream",
          "name": "stdout",
          "text": [
            "['ask', 'be', 'come', 'do', 'feel', 'find', 'get', 'give', 'go', 'have', 'know', 'leave', 'look', 'make', 'say', 'see', 'seem', 'take', 'tell', 'think', 'use', 'want', 'work']\n"
          ]
        }
      ]
    },
    {
      "cell_type": "code",
      "source": [
        "s=\"<b>gfg</b> is <b> best </b> i love <b> reading css</b> from it \"\n",
        "b=s.split()\n",
        "l=[]\n",
        "for i in b:\n",
        "  if '>' in i:\n",
        "    l.append(i)\n",
        "print(l)"
      ],
      "metadata": {
        "colab": {
          "base_uri": "https://localhost:8080/"
        },
        "id": "ESj5nTWvDjAs",
        "outputId": "cd8e1c87-fc16-4d91-f22b-ff4d5eeb2755"
      },
      "execution_count": null,
      "outputs": [
        {
          "output_type": "stream",
          "name": "stdout",
          "text": [
            "['<b>gfg</b>', '<b>', '</b>', '<b>', 'css</b>']\n"
          ]
        }
      ]
    },
    {
      "cell_type": "code",
      "source": [
        "a='abcdcdcd'\n",
        "s='cdc'\n",
        "res=a.count('cdc')\n",
        "print(res)"
      ],
      "metadata": {
        "colab": {
          "base_uri": "https://localhost:8080/"
        },
        "id": "DiTUpOBTMTWr",
        "outputId": "2c614041-b6c8-4dd1-8475-8957c3c87bfb"
      },
      "execution_count": null,
      "outputs": [
        {
          "output_type": "stream",
          "name": "stdout",
          "text": [
            "1\n"
          ]
        }
      ]
    },
    {
      "cell_type": "code",
      "source": [
        "st=['ate','eat','car','rac','bed','tea']\n",
        "s={}\n",
        "s1=[]\n",
        "for i in st:\n",
        "  z=''.join(sorted(i))\n",
        "  # print(i)\n",
        "  if z in s:\n",
        "    s[z]+=[i]\n",
        "    # print(s)\n",
        "  else:\n",
        "    s[z]=[i]\n",
        "print(s)\n",
        "for v in s.values():\n",
        "  s1.append(v)\n",
        "print(s1)\n",
        "\n"
      ],
      "metadata": {
        "colab": {
          "base_uri": "https://localhost:8080/"
        },
        "id": "QnW_SXK2ph1U",
        "outputId": "00f5cee1-a90d-4390-d2eb-7f2c510aa219"
      },
      "execution_count": null,
      "outputs": [
        {
          "output_type": "stream",
          "name": "stdout",
          "text": [
            "{'aet': ['ate', 'eat', 'tea'], 'acr': ['car', 'rac'], 'bde': ['bed']}\n",
            "[['ate', 'eat', 'tea'], ['car', 'rac'], ['bed']]\n"
          ]
        }
      ]
    },
    {
      "cell_type": "markdown",
      "source": [
        "#write a query to create database and table"
      ],
      "metadata": {
        "id": "-m_gmOucoYVB"
      }
    },
    {
      "cell_type": "code",
      "source": [
        "# SQL query create database and table\n",
        "\n",
        "'''create database Student;\n",
        "use Student ;\n",
        "create table Details(name  varchar(20), age integer(2), roll_no integer(2), addmission_date integer(10));\n",
        "insert into Details values (\"huda\",23, 2, 1/2/3),(\"heena\",23, 2, 1/2/3),(\"anam\",23, 2, 1/2/3);\n",
        "alter table Details add course varchar(50);\n",
        "update Details set course=\"Information Technology\" where roll_no=1  ;\n",
        "update Details set course=\"banking and accountancy\" where roll_no=2  ;\n",
        "\n",
        "SET SQL_SAFE_UPDATES = 0;\n",
        "select * from Details;   '''"
      ],
      "metadata": {
        "colab": {
          "base_uri": "https://localhost:8080/",
          "height": 70
        },
        "id": "DXS8vJRvRGsL",
        "outputId": "05cedc6a-43bf-41db-c0cc-f0deb8f72a7e"
      },
      "execution_count": null,
      "outputs": [
        {
          "output_type": "execute_result",
          "data": {
            "text/plain": [
              "'create database Student;\\nuse Student ;\\ncreate table Details(name  varchar(20), age integer(2), roll_no integer(2), addmission_date integer(10));\\ninsert into Details values (\"huda\",23, 2, 1/2/3),(\"heena\",23, 2, 1/2/3),(\"anam\",23, 2, 1/2/3);\\nalter table Details add course varchar(50);\\nupdate Details set course=\"Information Technology\" where roll_no=1  ;\\nupdate Details set course=\"banking and accountancy\" where roll_no=2  ;\\n\\nSET SQL_SAFE_UPDATES = 0;\\nselect * from Details;   '"
            ],
            "application/vnd.google.colaboratory.intrinsic+json": {
              "type": "string"
            }
          },
          "metadata": {},
          "execution_count": 59
        }
      ]
    },
    {
      "cell_type": "markdown",
      "source": [
        "#21/03/2024"
      ],
      "metadata": {
        "id": "xxF4Oe1MEO8I"
      }
    },
    {
      "cell_type": "code",
      "source": [
        "l=range(1,11)\n",
        "c=2\n",
        "res=map(lambda i: i*c, l)\n",
        "print(list(res))\n"
      ],
      "metadata": {
        "colab": {
          "base_uri": "https://localhost:8080/"
        },
        "id": "jMmSAQhDEbvU",
        "outputId": "bc6af885-adf2-4567-c41d-f4a198331e6d"
      },
      "execution_count": null,
      "outputs": [
        {
          "output_type": "stream",
          "name": "stdout",
          "text": [
            "[2, 4, 6, 8, 10, 12, 14, 16, 18, 20]\n"
          ]
        }
      ]
    },
    {
      "cell_type": "markdown",
      "source": [
        "####write a program to print 1 to 10 table using lambda function"
      ],
      "metadata": {
        "id": "IUjpKuNUPOy1"
      }
    },
    {
      "cell_type": "code",
      "source": [
        "n=range(1,11)\n",
        "num=2\n",
        "res=list(map(lambda x:x*2,n))\n",
        "for i,j in enumerate(res,start=1):\n",
        "    print(f\" {num} x {i} = {j}\")\n"
      ],
      "metadata": {
        "colab": {
          "base_uri": "https://localhost:8080/"
        },
        "id": "gdhrGxhsOT2V",
        "outputId": "93ce5d6e-220f-4553-9ad0-f7866ba2f733"
      },
      "execution_count": null,
      "outputs": [
        {
          "output_type": "stream",
          "name": "stdout",
          "text": [
            " 2 x 1 = 2\n",
            " 2 x 2 = 4\n",
            " 2 x 3 = 6\n",
            " 2 x 4 = 8\n",
            " 2 x 5 = 10\n",
            " 2 x 6 = 12\n",
            " 2 x 7 = 14\n",
            " 2 x 8 = 16\n",
            " 2 x 9 = 18\n",
            " 2 x 10 = 20\n"
          ]
        }
      ]
    },
    {
      "cell_type": "code",
      "source": [
        "\n",
        "def print_multiplication_table(number):\n",
        "    print(f\"Multiplication table of {number}:\")\n",
        "    for i in range(1, 11):\n",
        "        result = number * i\n",
        "        print(f\"{number} x {i} = {result}\")\n",
        "\n",
        "num = int(input(\"Enter a number: \"))\n",
        "print_multiplication_table(num)"
      ],
      "metadata": {
        "colab": {
          "base_uri": "https://localhost:8080/"
        },
        "id": "_yqnAQtVEcAw",
        "outputId": "bf17d525-234b-46ec-88b2-8cdbd57c421e"
      },
      "execution_count": null,
      "outputs": [
        {
          "output_type": "stream",
          "name": "stdout",
          "text": [
            "Enter a number: 9\n",
            "Multiplication table of 9:\n",
            "9 x 1 = 9\n",
            "9 x 2 = 18\n",
            "9 x 3 = 27\n",
            "9 x 4 = 36\n",
            "9 x 5 = 45\n",
            "9 x 6 = 54\n",
            "9 x 7 = 63\n",
            "9 x 8 = 72\n",
            "9 x 9 = 81\n",
            "9 x 10 = 90\n"
          ]
        }
      ]
    },
    {
      "cell_type": "code",
      "source": [
        "num=2\n",
        "for i in range(1,11):\n",
        "  res=num*i\n",
        "  print(f\"{num} x {i}= {res}\")\n"
      ],
      "metadata": {
        "colab": {
          "base_uri": "https://localhost:8080/"
        },
        "id": "6sRd-Oz9EcT1",
        "outputId": "add1eea0-b528-400d-9508-54dddc27e6d7"
      },
      "execution_count": null,
      "outputs": [
        {
          "output_type": "stream",
          "name": "stdout",
          "text": [
            "2 x 1= 2\n",
            "2 x 2= 4\n",
            "2 x 3= 6\n",
            "2 x 4= 8\n",
            "2 x 5= 10\n",
            "2 x 6= 12\n",
            "2 x 7= 14\n",
            "2 x 8= 16\n",
            "2 x 9= 18\n",
            "2 x 10= 20\n"
          ]
        }
      ]
    },
    {
      "cell_type": "code",
      "source": [
        "sum1=0\n",
        "num=int(input(\"Enter a number:\"))\n",
        "temp=num\n",
        "while(num):\n",
        "    i=1\n",
        "    f=1\n",
        "    r=num%10\n",
        "    while(i<=r):\n",
        "        f=f*i\n",
        "        i=i+1\n",
        "    sum1=sum1+f\n",
        "    num=num//10\n",
        "if(sum1==temp):\n",
        "    print(\"The number is a strong number\")\n",
        "else:\n",
        "    print(\"The number is not a strong number\")"
      ],
      "metadata": {
        "colab": {
          "base_uri": "https://localhost:8080/"
        },
        "id": "CRAl5J-bN2Qk",
        "outputId": "fa9b400c-e74a-4bea-a7d0-f5c0b9983f4b"
      },
      "execution_count": null,
      "outputs": [
        {
          "output_type": "stream",
          "name": "stdout",
          "text": [
            "Enter a number:145\n",
            "The number is a strong number\n"
          ]
        }
      ]
    },
    {
      "cell_type": "markdown",
      "source": [
        "###SQL question"
      ],
      "metadata": {
        "id": "myaCVlK4Sgjb"
      }
    },
    {
      "cell_type": "code",
      "source": [
        "#sql question\n",
        "'''  create database  Employee;\n",
        "use Employee;\n",
        "create table Employee(employee_id integer, first_name varchar(50), last_name varchar(50), department varchar(50), salary integer , Hire_date date);\n",
        "select * from Employee;   '''"
      ],
      "metadata": {
        "colab": {
          "base_uri": "https://localhost:8080/",
          "height": 53
        },
        "id": "-MclH4WrONVn",
        "outputId": "d4e7280b-6574-4f34-d925-964626c702ea"
      },
      "execution_count": null,
      "outputs": [
        {
          "output_type": "execute_result",
          "data": {
            "text/plain": [
              "'create database  Employee;\\nuse Employee;\\ncreate table Employee(employee_id integer, first_name varchar(50), last_name varchar(50), department varchar(50), salary integer , Hire_date date);\\nselect * from Employee;   '"
            ],
            "application/vnd.google.colaboratory.intrinsic+json": {
              "type": "string"
            }
          },
          "metadata": {},
          "execution_count": 17
        }
      ]
    },
    {
      "cell_type": "code",
      "source": [
        "res=[i*2 for i in range(8) if i%2==0 ]\n",
        "print(res)"
      ],
      "metadata": {
        "colab": {
          "base_uri": "https://localhost:8080/"
        },
        "id": "DDxHUh0hTsIK",
        "outputId": "6d5af812-9131-41fc-ce83-e8a45e5e28f7"
      },
      "execution_count": null,
      "outputs": [
        {
          "output_type": "stream",
          "name": "stdout",
          "text": [
            "[0, 4, 8, 12]\n"
          ]
        }
      ]
    },
    {
      "cell_type": "code",
      "source": [
        "a=(1,2,3,4)\n",
        "b=(3,4,1,32)\n",
        "a=a+b\n",
        "print(a)\n",
        "print(id(c))\n",
        "print(id(a))\n",
        "print(id(b))\n",
        "\n"
      ],
      "metadata": {
        "colab": {
          "base_uri": "https://localhost:8080/"
        },
        "id": "EGijDyJAjYvW",
        "outputId": "635945e1-14ee-4f78-d3d4-648a977d7c21"
      },
      "execution_count": null,
      "outputs": [
        {
          "output_type": "stream",
          "name": "stdout",
          "text": [
            "(1, 2, 3, 4, 3, 4, 1, 32)\n",
            "137599173773680\n",
            "137599173775472\n",
            "137599173753040\n"
          ]
        }
      ]
    },
    {
      "cell_type": "code",
      "source": [
        "class A:\n",
        "  def a():\n",
        "    pass\n",
        "class B:\n",
        "  def b():\n",
        "    pass\n",
        "o=A()\n",
        "ob=B()\n",
        "print(type(o))\n",
        "print(type(ob))\n"
      ],
      "metadata": {
        "colab": {
          "base_uri": "https://localhost:8080/"
        },
        "id": "EqGU3u6tnrUz",
        "outputId": "bc7644dc-6126-482b-bff5-b1626ed5eca1"
      },
      "execution_count": null,
      "outputs": [
        {
          "output_type": "stream",
          "name": "stdout",
          "text": [
            "<class '__main__.A'>\n",
            "<class '__main__.B'>\n"
          ]
        }
      ]
    },
    {
      "cell_type": "code",
      "source": [
        "x = list(map(int, input(\"Enter a multiple value: \").split()))\n",
        "print(\"List of Values: \", x)"
      ],
      "metadata": {
        "colab": {
          "base_uri": "https://localhost:8080/"
        },
        "id": "zrNt_9bopBIl",
        "outputId": "1b3efd02-1059-4d78-fbad-627458079f6a"
      },
      "execution_count": null,
      "outputs": [
        {
          "output_type": "stream",
          "name": "stdout",
          "text": [
            "Enter a multiple value: 887\n",
            "List of Values:  [887]\n"
          ]
        }
      ]
    },
    {
      "cell_type": "markdown",
      "source": [
        "#22/03/2024"
      ],
      "metadata": {
        "id": "rU7WMpjrOHjB"
      }
    },
    {
      "cell_type": "markdown",
      "source": [
        "###Frequency of numbers in String"
      ],
      "metadata": {
        "id": "KCrykr9yPdhk"
      }
    },
    {
      "cell_type": "code",
      "source": [
        "t= \"geeks4feeks is No. 1 4 geeks\"\n",
        "t1=0\n",
        "for i in t:\n",
        "  # print(i)\n",
        "  if i.isdigit():\n",
        "    t1+=1\n",
        "print(\"total number in string\",(t1))\n",
        "\n"
      ],
      "metadata": {
        "id": "UuP6lxuh05ST",
        "colab": {
          "base_uri": "https://localhost:8080/"
        },
        "outputId": "70546493-59eb-496f-83bd-aac849652398"
      },
      "execution_count": null,
      "outputs": [
        {
          "output_type": "stream",
          "name": "stdout",
          "text": [
            "total number in string 3\n"
          ]
        }
      ]
    },
    {
      "cell_type": "code",
      "source": [
        "s= \"geeks4feeks is No. 1 4 geeks\"\n",
        "s1=0\n",
        "for i in s:\n",
        "  if i.isnumeric():\n",
        "    s1+=1\n",
        "print(\"total number in string\",s1)\n"
      ],
      "metadata": {
        "id": "pZwFLXl-1GEa",
        "colab": {
          "base_uri": "https://localhost:8080/"
        },
        "outputId": "313c947e-caa6-4cfb-83e8-4858ae6e3372"
      },
      "execution_count": null,
      "outputs": [
        {
          "output_type": "stream",
          "name": "stdout",
          "text": [
            "total number in string 3\n"
          ]
        }
      ]
    },
    {
      "cell_type": "markdown",
      "source": [
        "###Program to check if a string contains any special character\n"
      ],
      "metadata": {
        "id": "U6eW2VpEWVTD"
      }
    },
    {
      "cell_type": "code",
      "source": [
        "st='Geeks$@For$Geeks'\n",
        "\n",
        "s='!@#$%&*~'\n",
        "res=''\n",
        "for i in st:\n",
        "  if i in s:\n",
        "    res+=''.join(i)\n",
        "print(res)"
      ],
      "metadata": {
        "colab": {
          "base_uri": "https://localhost:8080/"
        },
        "id": "J9UXUSd5WLyu",
        "outputId": "8830d4e4-98cb-4802-a92c-2db78d0525c4"
      },
      "execution_count": null,
      "outputs": [
        {
          "output_type": "stream",
          "name": "stdout",
          "text": [
            "$@$\n"
          ]
        }
      ]
    },
    {
      "cell_type": "markdown",
      "source": [
        "######Program to check if a string contains any special character\n"
      ],
      "metadata": {
        "id": "ImdBaskGW9K3"
      }
    },
    {
      "cell_type": "code",
      "source": [
        "st='Geeks$@For$Geeks'\n",
        "# st='GeeksForGeeks'\n",
        "\n",
        "s='!@#$%&*~'\n",
        "res=''\n",
        "f=0\n",
        "for i in st:\n",
        "  if i in s:\n",
        "    res+=''.join(i)\n",
        "    f=1\n",
        "    break\n",
        "if f==1:\n",
        "  print(\"string not accepted because they have special charachter:\",res)\n",
        "else:\n",
        "    print(\"string accepted they dont have special character:\",res)\n"
      ],
      "metadata": {
        "colab": {
          "base_uri": "https://localhost:8080/"
        },
        "id": "B-0m9J2nSMzT",
        "outputId": "7860138a-c288-487e-f06a-7b1cf86754d6"
      },
      "execution_count": null,
      "outputs": [
        {
          "output_type": "stream",
          "name": "stdout",
          "text": [
            "string not accepted because they have special charachter: $\n"
          ]
        }
      ]
    },
    {
      "cell_type": "markdown",
      "source": [
        "###Find words which are greater than given length k\n"
      ],
      "metadata": {
        "id": "c-L5_a8uZ1hO"
      }
    },
    {
      "cell_type": "code",
      "source": [
        "s = \"hello geeks for geeks is computer science portal\"\n",
        "k = 4\n",
        "sp=s.split()\n",
        "em=''\n",
        "for i in sp:\n",
        "  # print(i)\n",
        "  if len(i)>4:\n",
        "    em+=' '+i\n",
        "print(em)"
      ],
      "metadata": {
        "colab": {
          "base_uri": "https://localhost:8080/"
        },
        "id": "favMw_GSS4FQ",
        "outputId": "c135eefe-e804-431a-8c6c-b498f397b874"
      },
      "execution_count": null,
      "outputs": [
        {
          "output_type": "stream",
          "name": "stdout",
          "text": [
            " hello geeks geeks computer science portal\n"
          ]
        }
      ]
    },
    {
      "cell_type": "markdown",
      "source": [
        "###Find words which are greater than given length k\n"
      ],
      "metadata": {
        "id": "qmss3_SWZ3VK"
      }
    },
    {
      "cell_type": "code",
      "source": [
        "s = \"hello geeks for geeks is computer science portal\"\n",
        "k = 4\n",
        "sp=s.split()\n",
        "em=''\n",
        "for i in sp:\n",
        "    # em+=' '.join(i)\n",
        "  # print(i)\n",
        "  if len(i)>4:\n",
        "    em+=''.join(i)\n",
        "print(em)"
      ],
      "metadata": {
        "colab": {
          "base_uri": "https://localhost:8080/"
        },
        "id": "EXmZkaqxXkNH",
        "outputId": "63564feb-577f-4bc9-a128-b1a881597fe2"
      },
      "execution_count": null,
      "outputs": [
        {
          "output_type": "stream",
          "name": "stdout",
          "text": [
            "hellogeeksgeekscomputerscienceportal\n"
          ]
        }
      ]
    },
    {
      "cell_type": "markdown",
      "source": [
        "###Find words which are greater than given length k\n"
      ],
      "metadata": {
        "id": "Hb3bljlCajpj"
      }
    },
    {
      "cell_type": "code",
      "source": [
        "s = \"hello geeks for geeks is computer science portal\"\n",
        "k = 4\n",
        "sp=s.split()\n",
        "l=[]\n",
        "for i in sp:\n",
        "  if len(i)>k:\n",
        "    l.append(i)\n",
        "print(l)"
      ],
      "metadata": {
        "colab": {
          "base_uri": "https://localhost:8080/"
        },
        "id": "5_yG1EH0ZTzP",
        "outputId": "bca74afb-2c16-463c-fe7d-8c9da4c89d14"
      },
      "execution_count": null,
      "outputs": [
        {
          "output_type": "stream",
          "name": "stdout",
          "text": [
            "['hello', 'geeks', 'geeks', 'computer', 'science', 'portal']\n"
          ]
        }
      ]
    },
    {
      "cell_type": "code",
      "source": [
        "st=\"mUmBAIcodingCluBgMail.COM\"\n",
        "b=''\n",
        "for i in st:\n",
        "  # print(i)\n",
        "  if i.islower():\n",
        "    b+=i.upper()\n",
        "    # print(st)\n",
        "  else:\n",
        "    b+=i.lower()\n",
        "print(b)"
      ],
      "metadata": {
        "colab": {
          "base_uri": "https://localhost:8080/"
        },
        "id": "8DXWi5E0a_NU",
        "outputId": "35b55c04-ff27-41a3-a70b-78efad7c7f93"
      },
      "execution_count": null,
      "outputs": [
        {
          "output_type": "stream",
          "name": "stdout",
          "text": [
            "MuMbaiCODINGcLUbGmAIL.com\n"
          ]
        }
      ]
    },
    {
      "cell_type": "code",
      "source": [
        "n=3\n",
        "s=''\n",
        "a=[1,2,3,4,5]\n",
        "res=a[:n]\n",
        "for x in res:\n",
        "  s+=str(x)\n",
        "y=int(s)\n",
        "print(y+1)"
      ],
      "metadata": {
        "colab": {
          "base_uri": "https://localhost:8080/"
        },
        "id": "opDHth3ka_fV",
        "outputId": "aa7611c9-a875-4569-ff39-014fec0d166b"
      },
      "execution_count": null,
      "outputs": [
        {
          "output_type": "stream",
          "name": "stdout",
          "text": [
            "124\n"
          ]
        }
      ]
    },
    {
      "cell_type": "markdown",
      "source": [
        "##sql question insert data in databse"
      ],
      "metadata": {
        "id": "fkIew5EriIOK"
      }
    },
    {
      "cell_type": "code",
      "source": [
        "#Insert data in table\n",
        "\n",
        "'''\n",
        "create database  Employee;\n",
        "use Employee;\n",
        "create table Employee(employee_id integer, first_name varchar(50), last_name varchar(50), department varchar(50), salary integer , Hire_date date);\n",
        "select * from Employee;\n",
        "insert into Employee values (1, \"Rashida\",\"Ansari\", 'IT', 32000, '2008-11-11');\n",
        "insert into Employee values (2, \"zobia\",\"Ansari\", 'engineering', 33000, '2008-11-11'),(3, \"hidayat\",\"khan\", 'IT', 32000, '2008-11-11');\n",
        "''''"
      ],
      "metadata": {
        "id": "5wko7ftSaNQX"
      },
      "execution_count": null,
      "outputs": []
    },
    {
      "cell_type": "markdown",
      "source": [
        "#23/03/2024"
      ],
      "metadata": {
        "id": "1Fv2EPAyYe5W"
      }
    },
    {
      "cell_type": "code",
      "source": [
        "st='aNSaRiraSHiDa'\n",
        "b=''\n",
        "for i in st:\n",
        "  if i.islower():\n",
        "    b+=i.upper()\n",
        "  else:\n",
        "    b+=i.lower()\n",
        "print(b)"
      ],
      "metadata": {
        "id": "vYF4Gpk5hwIu",
        "colab": {
          "base_uri": "https://localhost:8080/"
        },
        "outputId": "03c64357-6c93-4685-9884-9038c7d76007"
      },
      "execution_count": null,
      "outputs": [
        {
          "output_type": "stream",
          "name": "stdout",
          "text": [
            "AnsArIRAshIdA\n"
          ]
        }
      ]
    },
    {
      "cell_type": "code",
      "source": [
        "import re\n",
        "def match(str,pattern):\n",
        "  if re.search(pattern,str):\n",
        "    print(\"valid string\")\n",
        "  else:\n",
        "    print(\"invalid string\")\n",
        "pattern = re.compile('[A-Z]+$')\n",
        "match('ABCDE',pattern)\n",
        "match('12ABCda',pattern)\n",
        "match('12345',pattern)"
      ],
      "metadata": {
        "colab": {
          "base_uri": "https://localhost:8080/"
        },
        "id": "lt3RmeTat7KA",
        "outputId": "3fc2d631-b973-4cac-8206-a8aca753a29c"
      },
      "execution_count": null,
      "outputs": [
        {
          "output_type": "stream",
          "name": "stdout",
          "text": [
            "valid string\n",
            "invalid string\n",
            "invalid string\n"
          ]
        }
      ]
    },
    {
      "cell_type": "code",
      "source": [
        "n=7\n",
        "patt_n = 64+n+1\n",
        "for i in range(1,n+1):\n",
        "  for j in range(1,i+1):\n",
        "    print(chr(patt_n-j),end='')\n",
        "  print()"
      ],
      "metadata": {
        "id": "0cpcq33Kt7pQ",
        "colab": {
          "base_uri": "https://localhost:8080/"
        },
        "outputId": "f5706944-c665-446a-f12a-f711f894aad3"
      },
      "execution_count": null,
      "outputs": [
        {
          "output_type": "stream",
          "name": "stdout",
          "text": [
            "G\n",
            "GF\n",
            "GFE\n",
            "GFED\n",
            "GFEDC\n",
            "GFEDCB\n",
            "GFEDCBA\n"
          ]
        }
      ]
    },
    {
      "cell_type": "code",
      "source": [
        "import re\n",
        "pattern = re.compile('[A-Za-z0-9]$')\n",
        "str='absdABS90cn'\n",
        "# str='ASDFqwes'\n",
        "if re.search(pattern,str):\n",
        "  print(True)\n",
        "else:\n",
        "  print(False)"
      ],
      "metadata": {
        "colab": {
          "base_uri": "https://localhost:8080/"
        },
        "id": "2T9nTwD0zgYK",
        "outputId": "b93ce02c-df1e-4692-8219-6e4e878272c4"
      },
      "execution_count": null,
      "outputs": [
        {
          "output_type": "stream",
          "name": "stdout",
          "text": [
            "True\n"
          ]
        }
      ]
    },
    {
      "cell_type": "markdown",
      "source": [
        "#24/03/2024 Sunday"
      ],
      "metadata": {
        "id": "m-k-6KVcr2-H"
      }
    },
    {
      "cell_type": "markdown",
      "source": [
        "#25/03/2024 Monday"
      ],
      "metadata": {
        "id": "DfgTJaxsr7_N"
      }
    },
    {
      "cell_type": "code",
      "source": [
        "a= 'Geeks for Geeks'\n",
        "b = 'Learning from Geeks for Geeks'\n",
        "c=''\n",
        "for i in  a:\n",
        "  if i in b:\n",
        "    c+=i\n",
        "print(c)"
      ],
      "metadata": {
        "id": "5ckzfoKnznA7",
        "colab": {
          "base_uri": "https://localhost:8080/"
        },
        "outputId": "43b0a956-937c-4a9a-f578-bc981738a1e1"
      },
      "execution_count": null,
      "outputs": [
        {
          "output_type": "stream",
          "name": "stdout",
          "text": [
            "Geeks for Geeks\n"
          ]
        }
      ]
    },
    {
      "cell_type": "code",
      "source": [
        "# a= 'Geeks for Geeks'\n",
        "# b = 'Learning from Geeks for Geeks'\n",
        "# a=a.split()\n",
        "# b=b.split()\n",
        "# l=[]\n",
        "\n",
        "# for i in  a:\n",
        "#   if i not in b:\n",
        "#     l.append(i)\n",
        "# for i in b:\n",
        "#   if i not in a:\n",
        "#     l.append(i)\n",
        "# l=list(set(i))\n",
        "# print(a,b)"
      ],
      "metadata": {
        "id": "UBIb2aon4gdE"
      },
      "execution_count": null,
      "outputs": []
    },
    {
      "cell_type": "code",
      "source": [
        "\n",
        "def UncommonWords(A, B):\n",
        "\tA=A.split()\n",
        "\tB=B.split()\n",
        "\tx=[]\n",
        "\tfor i in A:\n",
        "\t\tif i not in B:\n",
        "\t\t\tx.append(i)\n",
        "\tfor i in B:\n",
        "\t\tif i not in A:\n",
        "\t\t\tx.append(i)\n",
        "\tx=list(set(x))\n",
        "\treturn x\n",
        "\n",
        "A = \"Geeks for Geeks\"\n",
        "B = \"Learning from Geeks for Geeks\"\n",
        "print(UncommonWords(A, B))\n"
      ],
      "metadata": {
        "colab": {
          "base_uri": "https://localhost:8080/"
        },
        "id": "Ihhs3Thr4g4G",
        "outputId": "9945af14-0235-45cd-f5d4-0e8153c58702"
      },
      "execution_count": null,
      "outputs": [
        {
          "output_type": "stream",
          "name": "stdout",
          "text": [
            "['Learning', 'from']\n"
          ]
        }
      ]
    },
    {
      "cell_type": "markdown",
      "source": [
        "#### Python program to calculate the length of a string without using built-in functions\n"
      ],
      "metadata": {
        "id": "2NeaaB_k_UXB"
      }
    },
    {
      "cell_type": "code",
      "source": [
        "def string_length(s):\n",
        "    'Function to calculate the length of a string.'\n",
        "    count = 0\n",
        "    for char in s:\n",
        "        count += 1\n",
        "    return count\n",
        "string_input = input(\"Enter a string: \")\n",
        "\n",
        "length = string_length(string_input)\n",
        "print(f\"The length of the string '{string_input}' is: {length}.\")"
      ],
      "metadata": {
        "colab": {
          "base_uri": "https://localhost:8080/"
        },
        "id": "bZwPcwDq-Mgb",
        "outputId": "e36bf238-a1f7-4aa1-f0bd-579425b2179e"
      },
      "execution_count": null,
      "outputs": [
        {
          "output_type": "stream",
          "name": "stdout",
          "text": [
            "Enter a string: rashida\n",
            "The length of the string 'rashida' is: 7.\n"
          ]
        }
      ]
    },
    {
      "cell_type": "markdown",
      "source": [
        "#### Function to check if a number is prime\n"
      ],
      "metadata": {
        "id": "hTbThzMn_rW4"
      }
    },
    {
      "cell_type": "code",
      "source": [
        "def is_prime(number):\n",
        "    if number < 2:\n",
        "        return False\n",
        "    for i in range(2, int(number ** 0.5) + 1):\n",
        "        if number % i == 0:\n",
        "            return False\n",
        "    return True\n",
        "\n",
        "num_to_check = 2\n",
        "if is_prime(num_to_check):\n",
        "    print(f\"{num_to_check} is a prime number.\")\n",
        "else:\n",
        "    print(f\"{num_to_check} is not a prime number.\")"
      ],
      "metadata": {
        "colab": {
          "base_uri": "https://localhost:8080/"
        },
        "id": "VvU_WmAf-2ev",
        "outputId": "d26f0883-d9aa-45a7-f88a-d42a56ba47aa"
      },
      "execution_count": null,
      "outputs": [
        {
          "output_type": "stream",
          "name": "stdout",
          "text": [
            "2 is a prime number.\n"
          ]
        }
      ]
    },
    {
      "cell_type": "markdown",
      "source": [
        "#### Function to count digits in a number\n"
      ],
      "metadata": {
        "id": "JnDgRpT__9_U"
      }
    },
    {
      "cell_type": "code",
      "source": [
        "def count_digits(n):\n",
        "    count = 0\n",
        "    while n > 0:\n",
        "        count += 1\n",
        "        n //= 10\n",
        "    return count\n",
        "number = 12345\n",
        "digit_count = count_digits(number)\n",
        "print(digit_count)"
      ],
      "metadata": {
        "colab": {
          "base_uri": "https://localhost:8080/"
        },
        "id": "4UFv7zZf_kHe",
        "outputId": "0af58a47-583b-491b-b10a-e97ee739cffe"
      },
      "execution_count": null,
      "outputs": [
        {
          "output_type": "stream",
          "name": "stdout",
          "text": [
            "5\n"
          ]
        }
      ]
    },
    {
      "cell_type": "markdown",
      "source": [
        "#26/03/2024"
      ],
      "metadata": {
        "id": "te4_kU8l8pfd"
      }
    },
    {
      "cell_type": "code",
      "source": [
        "d=[{'name':'adnan', 'age':36},{'name':'bob','age':20},{'name':'david','age':50},{'name':'ehsan','age':15}]\n",
        "for i in range(len(d)):\n",
        "  for j in range(len(d)):\n",
        "    if d[i]['age']>d[j]['age']:\n",
        "      d[i],d[j]=d[j],d[i]\n",
        "# print(d)\n",
        "print(d[0])"
      ],
      "metadata": {
        "id": "xzOjmOSQ_7ik",
        "colab": {
          "base_uri": "https://localhost:8080/"
        },
        "outputId": "ab1d0092-804e-4401-8c59-b024092c50e9"
      },
      "execution_count": null,
      "outputs": [
        {
          "output_type": "stream",
          "name": "stdout",
          "text": [
            "{'name': 'david', 'age': 50}\n"
          ]
        }
      ]
    },
    {
      "cell_type": "code",
      "source": [
        "s= 'abcdef'\n",
        "s1= 'defghia'\n",
        "s2=''\n",
        "for i in s:\n",
        "  # print(i)\n",
        "  for j in s1:\n",
        "    if i in j:\n",
        "      s2+=' '.join(i)\n",
        "print(\"matching values in both string:\",s2)\n",
        "print(len(s2))"
      ],
      "metadata": {
        "id": "ANHTndGe9CTl",
        "colab": {
          "base_uri": "https://localhost:8080/"
        },
        "outputId": "fd6e23a4-4690-482f-f45f-2b2dff923f32"
      },
      "execution_count": null,
      "outputs": [
        {
          "output_type": "stream",
          "name": "stdout",
          "text": [
            "matching values in both string: adef\n",
            "4\n"
          ]
        }
      ]
    },
    {
      "cell_type": "code",
      "source": [
        "    '''   create database  Employee;\n",
        "use Employee;\n",
        "create table Employee(employee_id integer, first_name varchar(50), last_name varchar(50), department varchar(50), salary integer , Hire_date date);\n",
        "select * from Employee;\n",
        "insert into Employee values (1, \"Rashida\",\"Ansari\", 'IT', 32000, '2008-11-11');\n",
        "insert into Employee values (2, \"zobia\",\"Ansari\", 'engineering', 33000, '2008-11-11'),(3, \"hidayat\",\"khan\", 'IT', 32000, '2008-11-11');\n",
        "insert into Employee values (2, \"sobia\",\"Ansari\", 'engineering', 33000, '2008-11-11'),(3, \"simran\",\"khan\", 'IT', 32000, '2008-11-11');\n",
        "select first_name from Employee where first_name like 'S%';\n",
        "\n",
        "select first_name from Employee where first_name like 'S%';   '''\n"
      ],
      "metadata": {
        "id": "4NAmDh0f9CeS"
      },
      "execution_count": null,
      "outputs": []
    },
    {
      "cell_type": "code",
      "source": [
        "n=5\n",
        "patt_n = 64+n+1\n",
        "for i in range(1,n+1):\n",
        "  for j in range(1,i+1):\n",
        "    print(chr(patt_n-j),end='')\n",
        "  print()"
      ],
      "metadata": {
        "id": "Ujj-xo-69Cnz",
        "colab": {
          "base_uri": "https://localhost:8080/"
        },
        "outputId": "bc0ff90e-011a-4551-8aed-815a37792033"
      },
      "execution_count": null,
      "outputs": [
        {
          "output_type": "stream",
          "name": "stdout",
          "text": [
            "E\n",
            "ED\n",
            "EDC\n",
            "EDCB\n",
            "EDCBA\n"
          ]
        }
      ]
    },
    {
      "cell_type": "code",
      "source": [
        "s='ABCDEFGHIJKLMNOPQRSTUvWXYZ'\n",
        "n=4\n",
        "def text_wrap(S,N):\n",
        "  for i in range(0,len(S),N):\n",
        "    print(S[i:i+4])\n",
        "text_wrap(s,n)"
      ],
      "metadata": {
        "id": "8u3PqSX69CxA",
        "colab": {
          "base_uri": "https://localhost:8080/"
        },
        "outputId": "36cef31e-9ebc-45ac-8b6a-88c4fa08a37b"
      },
      "execution_count": null,
      "outputs": [
        {
          "output_type": "stream",
          "name": "stdout",
          "text": [
            "ABCD\n",
            "EFGH\n",
            "IJKL\n",
            "MNOP\n",
            "QRST\n",
            "UvWX\n",
            "YZ\n"
          ]
        }
      ]
    },
    {
      "cell_type": "code",
      "source": [
        "for i in range(5):\n",
        "  for j in range(i+1):\n",
        "    print('*',end='')\n",
        "  print()\n",
        "for i in range(4):\n",
        "  for j in range(i,4):\n",
        "    print('*',end='')\n",
        "  print()\n"
      ],
      "metadata": {
        "id": "769LZ-_F9C7G",
        "colab": {
          "base_uri": "https://localhost:8080/"
        },
        "outputId": "a68d8753-14cf-4256-92bc-63c1d7c599f9"
      },
      "execution_count": null,
      "outputs": [
        {
          "output_type": "stream",
          "name": "stdout",
          "text": [
            "*\n",
            "**\n",
            "***\n",
            "****\n",
            "*****\n",
            "****\n",
            "***\n",
            "**\n",
            "*\n"
          ]
        }
      ]
    },
    {
      "cell_type": "markdown",
      "source": [
        "#27/03/2024"
      ],
      "metadata": {
        "id": "G_Kg9WDKDAgj"
      }
    },
    {
      "cell_type": "code",
      "source": [
        "from itertools import permutations\n",
        "\n",
        "def permute_string(s):\n",
        "    return [''.join(p) for p in permutations(s)]\n",
        "\n",
        "input_str = 'ABC'\n",
        "permutations = permute_string(input_str)\n",
        "for perm in permutations:\n",
        "    print(perm)\n"
      ],
      "metadata": {
        "colab": {
          "base_uri": "https://localhost:8080/"
        },
        "id": "sTzhDdHdDGLw",
        "outputId": "84b74581-c941-4967-c86b-6d605edc5ca8"
      },
      "execution_count": null,
      "outputs": [
        {
          "output_type": "stream",
          "name": "stdout",
          "text": [
            "ABC\n",
            "ACB\n",
            "BAC\n",
            "BCA\n",
            "CAB\n",
            "CBA\n"
          ]
        }
      ]
    },
    {
      "cell_type": "code",
      "source": [
        "from itertools import permutations\n",
        "import string\n",
        "\n",
        "s = \"abc\"\n",
        "a = string.ascii_letters\n",
        "p = permutations(s)\n",
        "d = []\n",
        "for i in list(p):\n",
        "\tif (i not in d):\n",
        "\t\td.append(i)\n",
        "\t\tprint(''.join(i))\n"
      ],
      "metadata": {
        "colab": {
          "base_uri": "https://localhost:8080/"
        },
        "id": "Hm4M6Ku4DGSX",
        "outputId": "237320bc-b6b0-4039-8d69-e2a7e401cb91"
      },
      "execution_count": null,
      "outputs": [
        {
          "output_type": "stream",
          "name": "stdout",
          "text": [
            "abc\n",
            "acb\n",
            "bac\n",
            "bca\n",
            "cab\n",
            "cba\n"
          ]
        }
      ]
    },
    {
      "cell_type": "markdown",
      "source": [
        "###Convert numeric words to numbers\n"
      ],
      "metadata": {
        "id": "v3LLCewDyf7q"
      }
    },
    {
      "cell_type": "code",
      "source": [
        "\n",
        "dt = {'one': '1','two': '2','three': '3','four': '4','five': '5','six': '6','seven': '7','eight': '8','nine': '9','zero': '0'}\n",
        "\n",
        "t= \"zero four zero one\"\n",
        "\n",
        "# print(\"The original string is : \" + t)\n",
        "\n",
        "res = ''.join(dt[i] for i in t.split())\n",
        "\n",
        "print(\"The string after performing replace : \" + res)\n"
      ],
      "metadata": {
        "colab": {
          "base_uri": "https://localhost:8080/"
        },
        "id": "k2Hr_976DGZ-",
        "outputId": "00a53686-0467-4a6f-fd49-54ef6200558d"
      },
      "execution_count": null,
      "outputs": [
        {
          "output_type": "stream",
          "name": "stdout",
          "text": [
            "The string after performing replace : 0401\n"
          ]
        }
      ]
    },
    {
      "cell_type": "code",
      "source": [
        "st=['ate','eat','car','rac','bed','tea']\n",
        "s={}\n",
        "s1=[]\n",
        "for i in st:\n",
        "  z=''.join(sorted(i))\n",
        "  # print(i)\n",
        "  if z in s:\n",
        "    s[z]+=[i]\n",
        "    # print(s)\n",
        "  else:\n",
        "    s[z]=[i]\n",
        "print(s)\n",
        "for v in s.values():\n",
        "  s1.append(v)\n",
        "print(s1)\n",
        "\n"
      ],
      "metadata": {
        "colab": {
          "base_uri": "https://localhost:8080/"
        },
        "id": "PHTIEWQ8z3Gq",
        "outputId": "e5de6bef-ac37-43f2-ed71-8fc91060c4cb"
      },
      "execution_count": null,
      "outputs": [
        {
          "output_type": "stream",
          "name": "stdout",
          "text": [
            "{'aet': ['ate', 'eat', 'tea'], 'acr': ['car', 'rac'], 'bde': ['bed']}\n",
            "[['ate', 'eat', 'tea'], ['car', 'rac'], ['bed']]\n"
          ]
        }
      ]
    },
    {
      "cell_type": "code",
      "source": [
        "st='Geeks$@For$Geeks'\n",
        "\n",
        "s='!@#$%&*~'\n",
        "res=''\n",
        "for i in st:\n",
        "  if i in s:\n",
        "    res+=''.join(i)\n",
        "print(res)"
      ],
      "metadata": {
        "colab": {
          "base_uri": "https://localhost:8080/"
        },
        "id": "-ZIFk4mP-M_3",
        "outputId": "4269fa63-541b-4ef4-97e6-217293dc219b"
      },
      "execution_count": null,
      "outputs": [
        {
          "output_type": "stream",
          "name": "stdout",
          "text": [
            "$@$\n"
          ]
        }
      ]
    },
    {
      "cell_type": "markdown",
      "source": [
        "#28/03/2024"
      ],
      "metadata": {
        "id": "ObyAcp39MJ3O"
      }
    },
    {
      "cell_type": "code",
      "source": [
        "l=[2,11,23,11,56,1,15]\n",
        "for i in range(len(l)):\n",
        "  for j in range(len(l)):\n",
        "    if l[i]<l[j]:\n",
        "      l[i],l[j]=l[j],l[i]\n",
        "print(l[-2])"
      ],
      "metadata": {
        "id": "73Q6Bwi8_Cdo",
        "colab": {
          "base_uri": "https://localhost:8080/"
        },
        "outputId": "9a1c82ff-7e9f-4137-dfb4-88ea0c2cb60f"
      },
      "execution_count": null,
      "outputs": [
        {
          "output_type": "stream",
          "name": "stdout",
          "text": [
            "23\n"
          ]
        }
      ]
    },
    {
      "cell_type": "code",
      "source": [
        "# def find_duplicate_and_missing(numbers):\n",
        "#     n = len(numbers)\n",
        "#     seen = {}\n",
        "#     duplicate = -1\n",
        "#     missing = -1\n",
        "#     for num in numbers:\n",
        "#         if num in seen:\n",
        "#             duplicate = num\n",
        "#         else:\n",
        "#             seen[num] = 1\n",
        "\n",
        "#     for i in range(1, n + 1):\n",
        "#         if i not in seen:\n",
        "#             missing = i\n",
        "#             break\n",
        "\n",
        "#     return duplicate, missing\n",
        "\n",
        "# # Example usage\n",
        "# a = [1, 2, 3, 5, 7, 2]\n",
        "# duplicate, missing = find_duplicate_and_missing(a)\n",
        "# print(\"Duplicate:\", duplicate)\n",
        "# print(\"Missing:\", missing)\n"
      ],
      "metadata": {
        "id": "c08Ij2DiMjNL"
      },
      "execution_count": null,
      "outputs": []
    },
    {
      "cell_type": "code",
      "source": [
        "l=[1,2,3,3,2,1,5]\n",
        "x={}\n",
        "y=0\n",
        "for i in l:\n",
        "  if i in x:\n",
        "    x[i]+=1\n",
        "  else:\n",
        "    x[i]=1\n",
        "for k,v in x.items():\n",
        "  if v!=1:\n",
        "    print(k)\n"
      ],
      "metadata": {
        "id": "Jspf5Wb1M2Ja",
        "colab": {
          "base_uri": "https://localhost:8080/"
        },
        "outputId": "7baf2af8-0fe6-44ee-861f-e59d8bdc6294"
      },
      "execution_count": null,
      "outputs": [
        {
          "output_type": "stream",
          "name": "stdout",
          "text": [
            "1\n",
            "2\n",
            "3\n"
          ]
        }
      ]
    },
    {
      "cell_type": "code",
      "source": [
        "\n",
        "l= [(4, 5, 6, 3), (5, 6, 6, 9), (1, 3, 5, 6), (6, 6, 7, 8)]\n",
        "K = 6\n",
        "\n",
        "res = [i for i in l if not any(i[j] == K and i[j + 1] == K for j in range(len(i) - 1))]\n",
        "print(\"The records after removal : \" + str(res))\n"
      ],
      "metadata": {
        "colab": {
          "base_uri": "https://localhost:8080/"
        },
        "id": "oXLLCU1lPJFx",
        "outputId": "89e16d73-f00f-458f-e292-36ea5780b814"
      },
      "execution_count": null,
      "outputs": [
        {
          "output_type": "stream",
          "name": "stdout",
          "text": [
            "The records after removal : [(4, 5, 6, 3), (1, 3, 5, 6)]\n"
          ]
        }
      ]
    },
    {
      "cell_type": "markdown",
      "source": [
        "###Replace index elements with elements in Other List"
      ],
      "metadata": {
        "id": "qZl8XoJeQ-Oo"
      }
    },
    {
      "cell_type": "code",
      "source": [
        "\n",
        "test_list1 = ['Gfg', 'is', 'best']\n",
        "test_list2 = [0, 1, 2, 1, 0, 0, 0, 2, 1, 1, 2, 0]\n",
        "\n",
        "res = [test_list1[idx] for idx in test_list2]\n",
        "print (\"The lists after index elements replacements is : \" + str(res))\n"
      ],
      "metadata": {
        "colab": {
          "base_uri": "https://localhost:8080/"
        },
        "id": "-0ehAHe_QWgY",
        "outputId": "92b89a05-2cb7-47c8-ec57-bef05e638b57"
      },
      "execution_count": null,
      "outputs": [
        {
          "output_type": "stream",
          "name": "stdout",
          "text": [
            "The lists after index elements replacements is : ['Gfg', 'is', 'best', 'is', 'Gfg', 'Gfg', 'Gfg', 'best', 'is', 'is', 'best', 'Gfg']\n"
          ]
        }
      ]
    },
    {
      "cell_type": "code",
      "source": [
        "\n",
        "ls= [(4, 5, 6, 4, 4), (4, 4, 3), (4, 4, 4), (3, 4, 9)]\n",
        "K = 4\n",
        "N = 3\n",
        "res = [ele for ele in ls if ele.count(K) == N]\n",
        "print(\"Filtered tuples : \" + str(res))\n"
      ],
      "metadata": {
        "colab": {
          "base_uri": "https://localhost:8080/"
        },
        "id": "Fg5KlpwXQ4MB",
        "outputId": "b3032920-a049-4192-ceea-bc5895d60574"
      },
      "execution_count": null,
      "outputs": [
        {
          "output_type": "stream",
          "name": "stdout",
          "text": [
            "Filtered tuples : [(4, 5, 6, 4, 4), (4, 4, 4)]\n"
          ]
        }
      ]
    },
    {
      "cell_type": "markdown",
      "source": [
        "#29/03/2024"
      ],
      "metadata": {
        "id": "2hbwWBq_RqHA"
      }
    },
    {
      "cell_type": "code",
      "source": [
        "t= [\"geeks\", \"for\", \"geeks\", \"is\", \"best\"]\n",
        "res=[i[::-1] for i in t]\n",
        "print(res)\n"
      ],
      "metadata": {
        "colab": {
          "base_uri": "https://localhost:8080/"
        },
        "id": "PFTTrkLLRaOD",
        "outputId": "408f1898-b4d6-410c-ce83-04f724164f23"
      },
      "execution_count": null,
      "outputs": [
        {
          "output_type": "stream",
          "name": "stdout",
          "text": [
            "['skeeg', 'rof', 'skeeg', 'si', 'tseb']\n"
          ]
        }
      ]
    },
    {
      "cell_type": "code",
      "source": [
        "num=[1,2,3,0,0,6]\n",
        "lhs=[ num[i] for i in range(len(num)//2)]\n",
        "rhs=[ num[i] for i in range(len(num)//2+1, len(num))]\n",
        "if sum(lhs)==sum(rhs):\n",
        "  print(True)\n",
        "else:\n",
        "  print(False)"
      ],
      "metadata": {
        "colab": {
          "base_uri": "https://localhost:8080/"
        },
        "id": "LPnnmpn4SUns",
        "outputId": "8f95df87-8c3e-4092-bed8-34e578abfd58"
      },
      "execution_count": null,
      "outputs": [
        {
          "output_type": "stream",
          "name": "stdout",
          "text": [
            "True\n"
          ]
        }
      ]
    },
    {
      "cell_type": "code",
      "source": [
        "x = 5\n",
        "if x < 3:\n",
        "    print(\"x is less than 3\")\n",
        "elif x == 3:\n",
        "    print(\"x is equal to 3\")\n",
        "else:\n",
        "    print(\"x is greater than 3\")"
      ],
      "metadata": {
        "colab": {
          "base_uri": "https://localhost:8080/"
        },
        "id": "DlJ6IAA0UDyD",
        "outputId": "20e21eba-2cb4-4ca8-b425-f460d709e6a1"
      },
      "execution_count": null,
      "outputs": [
        {
          "output_type": "stream",
          "name": "stdout",
          "text": [
            "x is greater than 3\n"
          ]
        }
      ]
    },
    {
      "cell_type": "code",
      "source": [
        "fruits = [\"apple\", \"banana\", \"cherry\"]\n",
        "for fruit in fruits:\n",
        "    print(fruit)"
      ],
      "metadata": {
        "colab": {
          "base_uri": "https://localhost:8080/"
        },
        "id": "4QG9njESjTJU",
        "outputId": "d7946074-34bc-499f-f967-9e3cae58df2e"
      },
      "execution_count": null,
      "outputs": [
        {
          "output_type": "stream",
          "name": "stdout",
          "text": [
            "apple\n",
            "banana\n",
            "cherry\n"
          ]
        }
      ]
    },
    {
      "cell_type": "code",
      "source": [],
      "metadata": {
        "id": "7uH3-83NlK4K"
      },
      "execution_count": null,
      "outputs": []
    },
    {
      "cell_type": "code",
      "source": [
        "for i in range(1, 6):\n",
        "    if i == 3:\n",
        "        continue\n",
        "    print(i)"
      ],
      "metadata": {
        "colab": {
          "base_uri": "https://localhost:8080/"
        },
        "id": "IMIPL2MPmPiI",
        "outputId": "174b8f4d-0c0c-4ab3-99a2-2674a8fddbbc"
      },
      "execution_count": null,
      "outputs": [
        {
          "output_type": "stream",
          "name": "stdout",
          "text": [
            "1\n",
            "2\n",
            "4\n",
            "5\n"
          ]
        }
      ]
    },
    {
      "cell_type": "markdown",
      "source": [
        "#30/03/2024"
      ],
      "metadata": {
        "id": "xKY-TuNw1mou"
      }
    },
    {
      "cell_type": "code",
      "source": [
        "x = 0\n",
        "a = 0\n",
        "b = -5\n",
        "if a > 0:\n",
        "    if b < 0:\n",
        "        x = x + 5\n",
        "    elif a > 5:\n",
        "        x = x + 4\n",
        "    else:\n",
        "        x = x + 3\n",
        "else:\n",
        "    x = x + 2\n",
        "print(x)"
      ],
      "metadata": {
        "id": "do7Vnvb8m9qq",
        "colab": {
          "base_uri": "https://localhost:8080/"
        },
        "outputId": "efbefcc9-b78d-45fd-b8d4-ccca350f6117"
      },
      "execution_count": null,
      "outputs": [
        {
          "output_type": "stream",
          "name": "stdout",
          "text": [
            "2\n"
          ]
        }
      ]
    },
    {
      "cell_type": "code",
      "source": [
        "for l in 'Jhon':\n",
        "   if l == 'o':\n",
        "      pass\n",
        "   print(l, end=\", \")"
      ],
      "metadata": {
        "colab": {
          "base_uri": "https://localhost:8080/"
        },
        "id": "OEQMhxqIyEZb",
        "outputId": "cc8ec591-c30c-4b30-e072-29cfd7f6223f"
      },
      "execution_count": null,
      "outputs": [
        {
          "output_type": "stream",
          "name": "stdout",
          "text": [
            "J, h, o, n, "
          ]
        }
      ]
    },
    {
      "cell_type": "code",
      "source": [
        "a, b = 12, 5\n",
        "if a + b:\n",
        "    print('True')\n",
        "else:\n",
        "  print('False')"
      ],
      "metadata": {
        "colab": {
          "base_uri": "https://localhost:8080/"
        },
        "id": "K0jtj1f7ypHb",
        "outputId": "fbb428f4-3668-40c9-e6bd-37ae93414bc8"
      },
      "execution_count": null,
      "outputs": [
        {
          "output_type": "stream",
          "name": "stdout",
          "text": [
            "True\n"
          ]
        }
      ]
    },
    {
      "cell_type": "code",
      "source": [
        "x = 5\n",
        "if x > 0:\n",
        "   print(\"Positive\")\n",
        "else:\n",
        "   print(\"Negative\")"
      ],
      "metadata": {
        "colab": {
          "base_uri": "https://localhost:8080/"
        },
        "id": "qnZYkDq2zYZm",
        "outputId": "a3fede46-9d16-4686-eb2f-fcbced29f7d6"
      },
      "execution_count": null,
      "outputs": [
        {
          "output_type": "stream",
          "name": "stdout",
          "text": [
            "Positive\n"
          ]
        }
      ]
    },
    {
      "cell_type": "code",
      "source": [
        "numbers = [10, 20]\n",
        "items = [\"Chair\", \"Table\"]\n",
        "\n",
        "for x in numbers:\n",
        "  for y in items:\n",
        "    print(x, y)"
      ],
      "metadata": {
        "colab": {
          "base_uri": "https://localhost:8080/"
        },
        "id": "TQ4sY4_82phO",
        "outputId": "cfae8d97-d9cc-4e13-f8e6-fd18a27b366a"
      },
      "execution_count": null,
      "outputs": [
        {
          "output_type": "stream",
          "name": "stdout",
          "text": [
            "10 Chair\n",
            "10 Table\n",
            "20 Chair\n",
            "20 Table\n"
          ]
        }
      ]
    },
    {
      "cell_type": "markdown",
      "source": [
        "#01/04/2024"
      ],
      "metadata": {
        "id": "CIPOsOMV0nKK"
      }
    },
    {
      "cell_type": "markdown",
      "source": [
        "###Python program to find the sum of all items in a dictionary\n"
      ],
      "metadata": {
        "id": "prOOhC3K6nUD"
      }
    },
    {
      "cell_type": "code",
      "source": [
        "dt={'a': 100, 'b':200, 'c':300}\n",
        "d=0\n",
        "for i in dt.values():\n",
        "  # print(i)\n",
        "  d+=i\n",
        "print('sum of the values',d)"
      ],
      "metadata": {
        "id": "zkYmijSx3Viy",
        "colab": {
          "base_uri": "https://localhost:8080/"
        },
        "outputId": "f0efd318-e1ef-4169-b05a-0f3099846191"
      },
      "execution_count": null,
      "outputs": [
        {
          "output_type": "stream",
          "name": "stdout",
          "text": [
            "sum of the values 600\n"
          ]
        }
      ]
    },
    {
      "cell_type": "code",
      "source": [
        "d={'x': 25, 'y':18, 'z':45}\n",
        "c=0\n",
        "for k,v in d.items():\n",
        "  c+=v\n",
        "print('sum of the values in dictionary',c)"
      ],
      "metadata": {
        "colab": {
          "base_uri": "https://localhost:8080/"
        },
        "id": "rFMVk9T55qr7",
        "outputId": "af9b1a16-a96f-4dd7-aadf-3fc58badfea0"
      },
      "execution_count": null,
      "outputs": [
        {
          "output_type": "stream",
          "name": "stdout",
          "text": [
            "sum of the values in dictionary 88\n"
          ]
        }
      ]
    },
    {
      "cell_type": "markdown",
      "source": [
        "###sort list of ditionary by values"
      ],
      "metadata": {
        "id": "BGl2NKZ6J0XN"
      }
    },
    {
      "cell_type": "code",
      "source": [
        "l= [{\"name\": \"Nandini\", \"age\": 20},{\"name\": \"Manjeet\", \"age\": 20},{\"name\": \"Nikhil\", \"age\": 19}]\n",
        "\n",
        "l1=len(l)\n",
        "for i in range(l1-1):\n",
        "  for j in range(0,l1-i-1):\n",
        "    if l[j]['age']>l[j+1]['age']:\n",
        "      l[j],l[j+1]=l[j+1],l[j]\n",
        "print(l)\n"
      ],
      "metadata": {
        "colab": {
          "base_uri": "https://localhost:8080/"
        },
        "id": "F9FZtWO77GBb",
        "outputId": "6b9d39e9-56c1-49b6-e569-d65452f37fcf"
      },
      "execution_count": null,
      "outputs": [
        {
          "output_type": "stream",
          "name": "stdout",
          "text": [
            "[{'name': 'Nikhil', 'age': 19}, {'name': 'Nandini', 'age': 20}, {'name': 'Manjeet', 'age': 20}]\n"
          ]
        }
      ]
    },
    {
      "cell_type": "markdown",
      "source": [
        "###sort list of ditionary by values"
      ],
      "metadata": {
        "id": "aaLpqWvLJ6RC"
      }
    },
    {
      "cell_type": "code",
      "source": [
        "l= [{\"name\": \"Nandini\", \"age\": 20},{\"name\": \"Billgate\", \"age\": 20},{\"name\": \"Akhil\", \"age\": 19}]\n",
        "\n",
        "l1=len(l)\n",
        "for i in range(l1-1):\n",
        "  for j in range(0,l1-i-1):\n",
        "    if l[j]['name']>l[j+1]['name']:\n",
        "      l[j],l[j+1]=l[j+1],l[j]\n",
        "print(l)\n"
      ],
      "metadata": {
        "colab": {
          "base_uri": "https://localhost:8080/"
        },
        "id": "RGLRq87WF_1k",
        "outputId": "5b420a2a-c905-4a8c-8a97-5c89760f3080"
      },
      "execution_count": null,
      "outputs": [
        {
          "output_type": "stream",
          "name": "stdout",
          "text": [
            "[{'name': 'Akhil', 'age': 19}, {'name': 'Billgate', 'age': 20}, {'name': 'Nandini', 'age': 20}]\n"
          ]
        }
      ]
    },
    {
      "cell_type": "code",
      "source": [
        "print(\"Enter Marks Obtained in 5 Subjects: \")\n",
        "total1 = int(input(\"Enter marks for Subject 1: \"))\n",
        "total2 = int(input(\"Enter marks for Subject 2: \"))\n",
        "total3 = int(input(\"Enter marks for Subject 3: \"))\n",
        "total4 = int(input(\"Enter marks for Subject 4: \"))\n",
        "total5 = int(input(\"Enter marks for Subject 5: \"))\n",
        "\n",
        "tot = total1 + total2 + total3 + total4 + total4\n",
        "avg = tot / 5\n",
        "\n",
        "if avg >= 91 and avg <= 100:\n",
        "\tprint(\"Your Grade is A1\")\n",
        "elif avg >= 81 and avg < 91:\n",
        "\tprint(\"Your Grade is A2\")\n",
        "elif avg >= 71 and avg < 81:\n",
        "\tprint(\"Your Grade is B1\")\n",
        "elif avg >= 61 and avg < 71:\n",
        "\tprint(\"Your Grade is B2\")\n",
        "elif avg >= 51 and avg < 61:\n",
        "\tprint(\"Your Grade is C1\")\n",
        "elif avg >= 41 and avg < 51:\n",
        "\tprint(\"Your Grade is C2\")\n",
        "elif avg >= 33 and avg < 41:\n",
        "\tprint(\"Your Grade is D\")\n",
        "elif avg >= 21 and avg < 33:\n",
        "\tprint(\"Your Grade is E1\")\n",
        "elif avg >= 0 and avg < 21:\n",
        "\tprint(\"Your Grade is E2\")\n",
        "else:\n",
        "\tprint(\"Invalid Input Try again!\")\n"
      ],
      "metadata": {
        "colab": {
          "base_uri": "https://localhost:8080/"
        },
        "id": "eskpWpceITmj",
        "outputId": "c105208c-131f-4038-872a-cee80f661ecf"
      },
      "execution_count": null,
      "outputs": [
        {
          "output_type": "stream",
          "name": "stdout",
          "text": [
            "Enter Marks Obtained in 5 Subjects: \n",
            "Enter marks for Subject 1: 90\n",
            "Enter marks for Subject 2: 90\n",
            "Enter marks for Subject 3: 89\n",
            "Enter marks for Subject 4: 79\n",
            "Enter marks for Subject 5: 98\n",
            "Your Grade is A2\n"
          ]
        }
      ]
    },
    {
      "cell_type": "markdown",
      "source": [
        "#02/04/2024"
      ],
      "metadata": {
        "id": "pE5506yp_KcW"
      }
    },
    {
      "cell_type": "code",
      "source": [
        "st= 'Gfg is best platform to pratice code'\n",
        "res = {key: st.count(key) for key in st.split()}\n",
        "print(res)"
      ],
      "metadata": {
        "id": "qJ301KSSMDFF",
        "colab": {
          "base_uri": "https://localhost:8080/"
        },
        "outputId": "5bff5104-12af-4d5b-fef0-4e1a907fb396"
      },
      "execution_count": null,
      "outputs": [
        {
          "output_type": "stream",
          "name": "stdout",
          "text": [
            "{'Gfg': 1, 'is': 1, 'best': 1, 'platform': 1, 'to': 1, 'pratice': 1, 'code': 1}\n"
          ]
        }
      ]
    },
    {
      "cell_type": "code",
      "source": [
        "\n",
        "s = 'Swimming is my life-long passion'\n",
        "\n",
        "c = s.count('i')\n",
        "print('Count of i:', c)\n",
        "\n",
        "c = s.count('m')\n",
        "print('Count of m:', c)"
      ],
      "metadata": {
        "id": "1d_zaTnRMwIN",
        "colab": {
          "base_uri": "https://localhost:8080/"
        },
        "outputId": "b2a5a1ef-4358-4e19-e6cb-79c72514fc6e"
      },
      "execution_count": null,
      "outputs": [
        {
          "output_type": "stream",
          "name": "stdout",
          "text": [
            "Count of i: 5\n",
            "Count of m: 3\n"
          ]
        }
      ]
    },
    {
      "cell_type": "markdown",
      "source": [
        "###Sort String list by K character frequency"
      ],
      "metadata": {
        "id": "uLcTaDgWWUMj"
      }
    },
    {
      "cell_type": "code",
      "source": [
        "l = [\"geekforgeekss\", \"is\", \"bessst\", \"for\", \"geeks\"]\n",
        "K = 's'\n",
        "\n",
        "ot= sorted(l, key=lambda x: x.count(K), reverse=True)\n",
        "print(ot)\n"
      ],
      "metadata": {
        "colab": {
          "base_uri": "https://localhost:8080/"
        },
        "id": "N83D2X4_AFPb",
        "outputId": "cdf0fe1b-a169-4085-951a-62efe0f72d90"
      },
      "execution_count": null,
      "outputs": [
        {
          "output_type": "stream",
          "name": "stdout",
          "text": [
            "['bessst', 'geekforgeekss', 'is', 'geeks', 'for']\n"
          ]
        }
      ]
    },
    {
      "cell_type": "code",
      "source": [
        "st = [\"geekforgeekss\", \"is\", \"bessst\", \"for\", \"geeks\"]\n",
        "K = 's'\n",
        "res = sorted(st, key=lambda x: -x.count(K))\n",
        "print(res)\n"
      ],
      "metadata": {
        "colab": {
          "base_uri": "https://localhost:8080/"
        },
        "id": "PLXz-8bYVgPZ",
        "outputId": "2740d086-a158-41c3-d4db-99878442a376"
      },
      "execution_count": null,
      "outputs": [
        {
          "output_type": "stream",
          "name": "stdout",
          "text": [
            "['bessst', 'geekforgeekss', 'is', 'geeks', 'for']\n"
          ]
        }
      ]
    },
    {
      "cell_type": "markdown",
      "source": [
        "###Find all duplicate characters in string"
      ],
      "metadata": {
        "id": "6SOxIvFsZV-Q"
      }
    },
    {
      "cell_type": "code",
      "source": [
        "st= \"hellossh\"\n",
        "d = []\n",
        "\n",
        "c= {}\n",
        "for i in st:\n",
        "    if i in c:\n",
        "        c[i] += 1\n",
        "    else:\n",
        "        c[i] = 1\n",
        "\n",
        "for i,count in c.items():\n",
        "    if count > 1:\n",
        "        d.append(i)\n",
        "\n",
        "output = ''.join(d)\n",
        "print(output)\n"
      ],
      "metadata": {
        "colab": {
          "base_uri": "https://localhost:8080/"
        },
        "id": "2Bm6dxaMVxLO",
        "outputId": "2d46beb5-7396-4424-b81b-5d6cf72d05f3"
      },
      "execution_count": null,
      "outputs": [
        {
          "output_type": "stream",
          "name": "stdout",
          "text": [
            "hls\n"
          ]
        }
      ]
    },
    {
      "cell_type": "markdown",
      "source": [
        "#03/04/2024"
      ],
      "metadata": {
        "id": "0rfV0D6jESeY"
      }
    },
    {
      "cell_type": "markdown",
      "source": [
        "###Find common elements in three sorted arrays by dictionary intersection\n"
      ],
      "metadata": {
        "id": "1EYVhvGHGvRG"
      }
    },
    {
      "cell_type": "code",
      "source": [
        "l= [1, 5, 10, 20, 40, 80]\n",
        "ar2 = [6, 7, 20, 80, 100]\n",
        "ar3 = [3, 4, 15, 20, 30, 70, 80, 120]\n",
        "#  [80, 20]\n",
        "\n",
        "set1=set(l)\n",
        "set2=set(ar2)\n",
        "set3=set(ar3)\n",
        "res=set1.intersection(set2,set3)\n",
        "print(res)\n",
        "\n"
      ],
      "metadata": {
        "id": "CVn7VBsUYCxp",
        "colab": {
          "base_uri": "https://localhost:8080/"
        },
        "outputId": "431981c0-8072-47d8-b23c-0c0ea832b9a4"
      },
      "execution_count": null,
      "outputs": [
        {
          "output_type": "stream",
          "name": "stdout",
          "text": [
            "{80, 20}\n"
          ]
        }
      ]
    },
    {
      "cell_type": "code",
      "source": [
        "l= [1, 5, 10, 20, 40, 80]\n",
        "ar2 = [6, 7, 20, 80, 100]\n",
        "ar3 = [3, 4, 15, 20, 30, 70, 80, 120]\n",
        "res=[]\n",
        "\n",
        "for i in l:\n",
        "  if i in ar2 and i in ar3:\n",
        "    res.append(i)\n",
        "print(res)\n"
      ],
      "metadata": {
        "colab": {
          "base_uri": "https://localhost:8080/"
        },
        "id": "-rGf0LV3G77C",
        "outputId": "915069cb-8121-43e7-b073-4a743a6e4767"
      },
      "execution_count": null,
      "outputs": [
        {
          "output_type": "stream",
          "name": "stdout",
          "text": [
            "[20, 80]\n"
          ]
        }
      ]
    },
    {
      "cell_type": "code",
      "source": [
        "dict1 = {'Adnan': 1, 'Akbar': 2, }\n",
        "dict2 = {'Saud': 5, 'Shoaib': 6}\n",
        "dict1.update(dict2)\n",
        "print(dict1)"
      ],
      "metadata": {
        "id": "VY5j_fu3Y_Ku",
        "colab": {
          "base_uri": "https://localhost:8080/"
        },
        "outputId": "68346aed-27d5-4b08-f04a-5a89b69dfd25"
      },
      "execution_count": null,
      "outputs": [
        {
          "output_type": "stream",
          "name": "stdout",
          "text": [
            "{'Adnan': 1, 'Akbar': 2, 'Saud': 5, 'Shoaib': 6}\n"
          ]
        }
      ]
    },
    {
      "cell_type": "code",
      "source": [
        "l=[1,2,3,4,5,2,3,4,7,9,5]\n",
        "l2=[]\n",
        "for i in l:\n",
        "  if i not in l2:\n",
        "    l2.append(i)\n",
        "print(l2)"
      ],
      "metadata": {
        "colab": {
          "base_uri": "https://localhost:8080/"
        },
        "id": "_MqOsy3eE750",
        "outputId": "9e504ee3-c4b9-422f-9b06-ebecc8c0db49"
      },
      "execution_count": null,
      "outputs": [
        {
          "output_type": "stream",
          "name": "stdout",
          "text": [
            "[1, 2, 3, 4, 5, 7, 9]\n"
          ]
        }
      ]
    },
    {
      "cell_type": "code",
      "source": [
        "d= {\"Gfg\" : [5, 7, 9, 4, 0], \"is\" : [6, 7, 4, 3, 3], \"Best\" : [9, 17, 6, 15, 57]}\n",
        "k=None\n",
        "v=0\n",
        "\n",
        "for key,value in d.items():\n",
        "  count=len(set(value))\n",
        "  if count > v:\n",
        "    v=count\n",
        "    k=key\n",
        "print(\"Key with maximum unique values:\", k)\n"
      ],
      "metadata": {
        "colab": {
          "base_uri": "https://localhost:8080/"
        },
        "id": "FQIJzOZQGEhH",
        "outputId": "fbbb3a05-2200-4b5e-8f5d-700c9c71db44"
      },
      "execution_count": null,
      "outputs": [
        {
          "output_type": "stream",
          "name": "stdout",
          "text": [
            "Key with maximum unique values: Gfg\n"
          ]
        }
      ]
    },
    {
      "cell_type": "markdown",
      "source": [
        "#04/03/2024"
      ],
      "metadata": {
        "id": "YN0o94LTpJk4"
      }
    },
    {
      "cell_type": "code",
      "source": [
        "st1=input(\"Enter first string:\")\n",
        "st2=input(\"Enter second string:\")\n",
        "count1=0\n",
        "count2=0\n",
        "for i in st1:\n",
        "      count1=count1+1\n",
        "for j in st2:\n",
        "      count2=count2+1\n",
        "if(count1<count2):\n",
        "      print(\"Larger string is:\")\n",
        "      print(st2)\n",
        "elif(count1==count2):\n",
        "      print(\"Both strings are equal.\")\n",
        "else:\n",
        "      print(\"Larger string is:\")\n",
        "      print(st1)"
      ],
      "metadata": {
        "id": "fn-cDkzRIJv8",
        "colab": {
          "base_uri": "https://localhost:8080/"
        },
        "outputId": "49ec9743-0766-47ae-80ee-6cb446c0f4c0"
      },
      "execution_count": null,
      "outputs": [
        {
          "output_type": "stream",
          "name": "stdout",
          "text": [
            "Enter first string:rashida\n",
            "Enter second string:ansari\n",
            "Larger string is:\n",
            "rashida\n"
          ]
        }
      ]
    },
    {
      "cell_type": "markdown",
      "source": [
        "###Python Program to Count the Number of Digits and Letters in a String\n"
      ],
      "metadata": {
        "id": "smfwyn4LqSYL"
      }
    },
    {
      "cell_type": "code",
      "source": [
        "st=input(\"Enter string:\")\n",
        "count1=0\n",
        "count2=0\n",
        "for i in st:\n",
        "      if(i.isdigit()):\n",
        "            count1=count1+1\n",
        "      count2=count2+1\n",
        "print(\"The number of digits is:\")\n",
        "print(count1)\n",
        "print(\"The number of characters is:\")\n",
        "print(count2)"
      ],
      "metadata": {
        "id": "h7t0k6WxIex9",
        "colab": {
          "base_uri": "https://localhost:8080/"
        },
        "outputId": "79441f67-3833-4e83-ff7b-24626d6e1637"
      },
      "execution_count": null,
      "outputs": [
        {
          "output_type": "stream",
          "name": "stdout",
          "text": [
            "Enter string:123rashida\n",
            "The number of digits is:\n",
            "3\n",
            "The number of characters is:\n",
            "10\n"
          ]
        }
      ]
    },
    {
      "cell_type": "code",
      "source": [
        "string=input(\"Enter string:\")\n",
        "count1=0\n",
        "count2=0\n",
        "for i in string:\n",
        "      if(i.islower()):\n",
        "            count1=count1+1\n",
        "      elif(i.isupper()):\n",
        "            count2=count2+1\n",
        "print(\"The number of lowercase characters is:\")\n",
        "print(count1)\n",
        "print(\"The number of uppercase characters is:\")\n",
        "print(count2)"
      ],
      "metadata": {
        "colab": {
          "base_uri": "https://localhost:8080/"
        },
        "id": "L6l0YyccqCb0",
        "outputId": "44ab769c-205f-4850-ff0b-37e4079b797a"
      },
      "execution_count": null,
      "outputs": [
        {
          "output_type": "stream",
          "name": "stdout",
          "text": [
            "Enter string:RAshhs\n",
            "The number of lowercase characters is:\n",
            "4\n",
            "The number of uppercase characters is:\n",
            "2\n"
          ]
        }
      ]
    },
    {
      "cell_type": "code",
      "source": [
        "string=input(\"Enter string:\")\n",
        "char=0\n",
        "word=1\n",
        "for i in string:\n",
        "      char=char+1\n",
        "      if(i==' '):\n",
        "            word=word+1\n",
        "print(\"Number of words in the string:\")\n",
        "print(word)\n",
        "print(\"Number of characters in the string:\")\n",
        "print(char)"
      ],
      "metadata": {
        "colab": {
          "base_uri": "https://localhost:8080/"
        },
        "id": "CTPdIVbiqaBc",
        "outputId": "592d49e1-06c5-4b24-f1a8-06c4f8ee9072"
      },
      "execution_count": null,
      "outputs": [
        {
          "output_type": "stream",
          "name": "stdout",
          "text": [
            "Enter string:abc cgd\n",
            "Number of words in the string:\n",
            "2\n",
            "Number of characters in the string:\n",
            "7\n"
          ]
        }
      ]
    },
    {
      "cell_type": "markdown",
      "source": [
        "####Python Program to Count the Number of Vowels in a String\n"
      ],
      "metadata": {
        "id": "5UvYHt0-q7ZO"
      }
    },
    {
      "cell_type": "code",
      "source": [
        "string=input(\"Enter string:\")\n",
        "vowels=0\n",
        "for i in string:\n",
        "      if(i=='a' or i=='e' or i=='i' or i=='o' or i=='u' or i=='A' or i=='E' or i=='I' or i=='O' or i=='U'):\n",
        "            vowels=vowels+1\n",
        "print(\"Number of vowels are:\")\n",
        "print(vowels)"
      ],
      "metadata": {
        "colab": {
          "base_uri": "https://localhost:8080/"
        },
        "id": "R1njumN3qqpS",
        "outputId": "1e476b61-c706-4f5a-bbe8-4f10285796e2"
      },
      "execution_count": null,
      "outputs": [
        {
          "output_type": "stream",
          "name": "stdout",
          "text": [
            "Enter string:rasguda\n",
            "Number of vowels are:\n",
            "3\n"
          ]
        }
      ]
    },
    {
      "cell_type": "markdown",
      "source": [
        "#05/04/2024"
      ],
      "metadata": {
        "id": "U6RRGVRAUCz6"
      }
    },
    {
      "cell_type": "markdown",
      "source": [
        "###Python Program to Count Number of Vowels in a String using Sets\n"
      ],
      "metadata": {
        "id": "T1GxJEx0VhxH"
      }
    },
    {
      "cell_type": "code",
      "source": [
        "s=input(\"Enter string:\")\n",
        "count = 0\n",
        "vowels = set(\"aeiou\")\n",
        "for letter in s:\n",
        "    if letter in vowels:\n",
        "        count += 1\n",
        "print(\"Count of the vowels is:\")\n",
        "print(count)"
      ],
      "metadata": {
        "id": "Jjn5fLMsq1t0",
        "colab": {
          "base_uri": "https://localhost:8080/"
        },
        "outputId": "17ce673b-b6a5-46c7-ddaa-be3d012a242f"
      },
      "execution_count": null,
      "outputs": [
        {
          "output_type": "stream",
          "name": "stdout",
          "text": [
            "Enter string:ansari\n",
            "Count of the vowels is:\n",
            "3\n"
          ]
        }
      ]
    },
    {
      "cell_type": "code",
      "source": [
        "st=input(\"enter string\")\n",
        "c=0\n",
        "v='aeiou'\n",
        "for i in st:\n",
        "  if i in v:\n",
        "    c+=1\n",
        "print(\"count of vowels is: \")\n",
        "print(c)"
      ],
      "metadata": {
        "colab": {
          "base_uri": "https://localhost:8080/"
        },
        "id": "AfgV2ORzU2gM",
        "outputId": "5c52f4e8-31a4-469c-99d4-e458aad1e2e8"
      },
      "execution_count": null,
      "outputs": [
        {
          "output_type": "stream",
          "name": "stdout",
          "text": [
            "enter stringrashida\n",
            "count of vowels is: \n",
            "3\n"
          ]
        }
      ]
    },
    {
      "cell_type": "code",
      "source": [
        "string=input(\"Enter string:\")\n",
        "word=input(\"Enter word:\")\n",
        "a=[]\n",
        "count=0\n",
        "a=string.split(\" \")\n",
        "for i in range(0,len(a)):\n",
        "      if(word==a[i]):\n",
        "            count=count+1\n",
        "print(\"Count of the word is:\")\n",
        "print(count)"
      ],
      "metadata": {
        "colab": {
          "base_uri": "https://localhost:8080/"
        },
        "id": "IpFx4PPxU24h",
        "outputId": "3dc4d1ba-0cc5-44a7-cf37-aa5c60117027"
      },
      "execution_count": null,
      "outputs": [
        {
          "output_type": "stream",
          "name": "stdout",
          "text": [
            "Enter string:hello world\n",
            "Enter word:hello\n",
            "Count of the word is:\n",
            "1\n"
          ]
        }
      ]
    },
    {
      "cell_type": "markdown",
      "source": [
        "###Python Program to Count the Frequency of Each Word in a String using Dictionary\n"
      ],
      "metadata": {
        "id": "eqxeHqG1XNqU"
      }
    },
    {
      "cell_type": "code",
      "source": [
        "t=input(\"Enter string:\")\n",
        "l=[]\n",
        "l=t.split()\n",
        "freq=[l.count(p) for p in l]\n",
        "\n",
        "print(dict(zip(l,freq)))\n"
      ],
      "metadata": {
        "colab": {
          "base_uri": "https://localhost:8080/"
        },
        "id": "ITncsgEEU3ar",
        "outputId": "2514e090-ab39-4704-9f0b-ded60dad3304"
      },
      "execution_count": null,
      "outputs": [
        {
          "output_type": "stream",
          "name": "stdout",
          "text": [
            "Enter string:huda khan\n",
            "{'huda': 1, 'khan': 1}\n"
          ]
        }
      ]
    },
    {
      "cell_type": "code",
      "source": [
        "st = [\"geekforgeekss\", \"is\", \"bessst\", \"for\", \"geeks\"]\n",
        "K = 's'\n",
        "res = sorted(st, key=lambda x: -x.count(K))\n",
        "print(res)\n"
      ],
      "metadata": {
        "id": "fHioHve_XBB8",
        "colab": {
          "base_uri": "https://localhost:8080/"
        },
        "outputId": "f5b75258-dee0-4999-fadc-b46958bc57e3"
      },
      "execution_count": null,
      "outputs": [
        {
          "output_type": "stream",
          "name": "stdout",
          "text": [
            "['bessst', 'geekforgeekss', 'is', 'geeks', 'for']\n"
          ]
        }
      ]
    },
    {
      "cell_type": "markdown",
      "source": [
        "#06/04/2024"
      ],
      "metadata": {
        "id": "qXf_VGAsm-yY"
      }
    },
    {
      "cell_type": "code",
      "source": [
        "user=input(\"Enter string:\")\n",
        "count=0\n",
        "for i in user:\n",
        "      count=count+1\n",
        "print(\"Length of the string is:\")\n",
        "print(count)"
      ],
      "metadata": {
        "id": "DYqANJPtjZSs",
        "colab": {
          "base_uri": "https://localhost:8080/"
        },
        "outputId": "c5cbbcfa-157c-4f53-b7b1-895f30f910be"
      },
      "execution_count": null,
      "outputs": [
        {
          "output_type": "stream",
          "name": "stdout",
          "text": [
            "Enter string:rashida\n",
            "Length of the string is:\n",
            "7\n"
          ]
        }
      ]
    },
    {
      "cell_type": "code",
      "source": [
        "def modify(string):\n",
        "  final = \"\"\n",
        "  for i in range(len(string)):\n",
        "    if i % 2 == 0:\n",
        "      final = final + string[i]\n",
        "  return final\n",
        "string=input(\"Enter string:\")\n",
        "print(\"Modified string is:\")\n",
        "print(modify(string))"
      ],
      "metadata": {
        "colab": {
          "base_uri": "https://localhost:8080/"
        },
        "id": "VV_Pe1IzoIIk",
        "outputId": "9b52553a-d43a-4e7b-88fb-bd3b83e00e9c"
      },
      "execution_count": null,
      "outputs": [
        {
          "output_type": "stream",
          "name": "stdout",
          "text": [
            "Enter string:5gshsh\n",
            "Modified string is:\n",
            "5ss\n"
          ]
        }
      ]
    },
    {
      "cell_type": "code",
      "source": [
        "string=input(\"Enter string:\")\n",
        "string=string.replace('a','$')\n",
        "string=string.replace('A','$')\n",
        "print(\"Modified string:\")\n",
        "print(string)"
      ],
      "metadata": {
        "colab": {
          "base_uri": "https://localhost:8080/"
        },
        "id": "oubIqnHPrt3H",
        "outputId": "e84625d1-a29b-494f-9b3b-4779e44096e9"
      },
      "execution_count": null,
      "outputs": [
        {
          "output_type": "stream",
          "name": "stdout",
          "text": [
            "Enter string:rashuda@\n",
            "Modified string:\n",
            "r$shud$@\n"
          ]
        }
      ]
    },
    {
      "cell_type": "code",
      "source": [
        "def is_palindrome(n):\n",
        "    return str(n) == ''.join(reversed(str(n)))\n",
        "\n",
        "n = int(input(\"Enter number: \"))\n",
        "\n",
        "if is_palindrome(n):\n",
        "  print(\"The number is a palindrome!\")\n",
        "else:\n",
        "  print(\"The number is not a palindrome.\")"
      ],
      "metadata": {
        "colab": {
          "base_uri": "https://localhost:8080/"
        },
        "id": "1A7sXI99uOcB",
        "outputId": "292b12b1-038a-4ad6-e22e-0a9691c59b4a"
      },
      "execution_count": null,
      "outputs": [
        {
          "output_type": "stream",
          "name": "stdout",
          "text": [
            "Enter number: 67\n",
            "The number is not a palindrome.\n"
          ]
        }
      ]
    },
    {
      "cell_type": "markdown",
      "source": [
        "###Python Program to Reverse a Number\n"
      ],
      "metadata": {
        "id": "uXJrQdU5EhnK"
      }
    },
    {
      "cell_type": "code",
      "source": [
        "number = int(input(\"Enter a number: \"))\n",
        "reversed_number = int(str(number)[::-1])\n",
        "print(\"Reversed number:\", reversed_number)"
      ],
      "metadata": {
        "colab": {
          "base_uri": "https://localhost:8080/"
        },
        "id": "WkKptm-3zMBp",
        "outputId": "db849912-4c80-45f7-d5c1-29e71ed8b46b"
      },
      "execution_count": null,
      "outputs": [
        {
          "output_type": "stream",
          "name": "stdout",
          "text": [
            "Enter a number: 456\n",
            "Reversed number: 654\n"
          ]
        }
      ]
    },
    {
      "cell_type": "markdown",
      "source": [
        "#08/04/2024"
      ],
      "metadata": {
        "id": "yeXT6rXnxljO"
      }
    },
    {
      "cell_type": "code",
      "source": [
        "d={'A':100,'B':540,'C':239}\n",
        "print(\"Total sum of values in the dictionary:\")\n",
        "print(sum(d.values()))"
      ],
      "metadata": {
        "id": "u-hEbGuTEc29",
        "colab": {
          "base_uri": "https://localhost:8080/"
        },
        "outputId": "3901d58d-e58a-432a-e281-cd942e4dd669"
      },
      "execution_count": null,
      "outputs": [
        {
          "output_type": "stream",
          "name": "stdout",
          "text": [
            "Total sum of values in the dictionary:\n",
            "879\n"
          ]
        }
      ]
    },
    {
      "cell_type": "markdown",
      "source": [],
      "metadata": {
        "id": "S0BG5eIr_0bt"
      }
    },
    {
      "cell_type": "code",
      "source": [
        "d = {'a':1,'b':2,'c':3,'d':4}\n",
        "print(\"Initial dictionary\")\n",
        "print(d)\n",
        "key=input(\"Enter the key to delete(a-d):\")\n",
        "if key in d:\n",
        "    del d[key]\n",
        "else:\n",
        "    print(\"Key not found!\")\n",
        "    exit(0)\n",
        "print(\"Updated dictionary\")\n",
        "print(d)"
      ],
      "metadata": {
        "id": "79zOZINdMDIA",
        "colab": {
          "base_uri": "https://localhost:8080/"
        },
        "outputId": "522d68c2-4e2a-448f-ab32-0da9bca0b8ee"
      },
      "execution_count": null,
      "outputs": [
        {
          "output_type": "stream",
          "name": "stdout",
          "text": [
            "Initial dictionary\n",
            "{'a': 1, 'b': 2, 'c': 3, 'd': 4}\n",
            "Enter the key to delete(a-d):1223sd\n",
            "Key not found!\n",
            "Updated dictionary\n",
            "{'a': 1, 'b': 2, 'c': 3, 'd': 4}\n"
          ]
        }
      ]
    },
    {
      "cell_type": "code",
      "source": [
        "\n",
        "test_list1 = ['Gfg', 'is', 'best']\n",
        "test_list2 = [0, 1, 2, 1, 0, 0, 0, 2, 1, 1, 2, 0]\n",
        "\n",
        "res = [test_list1[idx] for idx in test_list2]\n",
        "print (\"The lists after index elements replacements is : \" + str(res))\n"
      ],
      "metadata": {
        "colab": {
          "base_uri": "https://localhost:8080/"
        },
        "id": "UEWT6M0u9Hyo",
        "outputId": "c8daf6a6-1f33-46e2-a360-fe0ed0547a08"
      },
      "execution_count": null,
      "outputs": [
        {
          "output_type": "stream",
          "name": "stdout",
          "text": [
            "The lists after index elements replacements is : ['Gfg', 'is', 'best', 'is', 'Gfg', 'Gfg', 'Gfg', 'best', 'is', 'is', 'best', 'Gfg']\n"
          ]
        }
      ]
    },
    {
      "cell_type": "code",
      "source": [
        "def modify(string):\n",
        "  final = \"\"\n",
        "  for i in range(len(string)):\n",
        "    if i % 2 == 0:\n",
        "      final = final + string[i]\n",
        "  return final\n",
        "string=input(\"Enter string:\")\n",
        "print(\"Modified string is:\")\n",
        "print(modify(string))"
      ],
      "metadata": {
        "colab": {
          "base_uri": "https://localhost:8080/"
        },
        "id": "XFwugKBCAFWI",
        "outputId": "312798a1-c5ac-4028-dfe5-6246135eadee"
      },
      "execution_count": null,
      "outputs": [
        {
          "output_type": "stream",
          "name": "stdout",
          "text": [
            "Enter string:263\n",
            "Modified string is:\n",
            "23\n"
          ]
        }
      ]
    },
    {
      "cell_type": "code",
      "source": [
        "a=str(input(\"Enter a string: \"))\n",
        "print(\"Reverse of the string is: \")\n",
        "print(a[::-1])"
      ],
      "metadata": {
        "id": "TssN59sjALmV"
      },
      "execution_count": null,
      "outputs": []
    },
    {
      "cell_type": "markdown",
      "source": [
        "#09/04/2024"
      ],
      "metadata": {
        "id": "NkF912MqEG2K"
      }
    },
    {
      "cell_type": "code",
      "source": [
        "\n",
        "list1 = [10, 21, 4, 45, 66, 93, 11]\n",
        "\n",
        "only_odd = [num for num in list1 if num % 2 == 1]\n",
        "odd_count = len(only_odd)\n",
        "\n",
        "print(\"Even numbers in the list: \", len(list1) - odd_count)\n",
        "print(\"Odd numbers in the list: \", odd_count)\n"
      ],
      "metadata": {
        "colab": {
          "base_uri": "https://localhost:8080/"
        },
        "id": "mIXzVwPL80Sl",
        "outputId": "e70d91ba-badd-4ad0-eac0-422896441218"
      },
      "execution_count": null,
      "outputs": [
        {
          "output_type": "stream",
          "name": "stdout",
          "text": [
            "Even numbers in the list:  3\n",
            "Odd numbers in the list:  4\n"
          ]
        }
      ]
    },
    {
      "cell_type": "code",
      "source": [
        "\n",
        "list1 = [10, 21, 4, 45, 66, 93, 1]\n",
        "\n",
        "even_count, odd_count = 0, 0\n",
        "for num in list1:\n",
        "\tif num % 2 == 0:\n",
        "\t\teven_count += 1\n",
        "\telse:\n",
        "\t\todd_count += 1\n",
        "\n",
        "print(\"Even numbers in the list: \", even_count)\n",
        "print(\"Odd numbers in the list: \", odd_count)\n"
      ],
      "metadata": {
        "colab": {
          "base_uri": "https://localhost:8080/"
        },
        "id": "OaphBFz480n7",
        "outputId": "0508d0bd-f2d2-4de4-ab7d-173fe1037b28"
      },
      "execution_count": null,
      "outputs": [
        {
          "output_type": "stream",
          "name": "stdout",
          "text": [
            "Even numbers in the list:  3\n",
            "Odd numbers in the list:  4\n"
          ]
        }
      ]
    },
    {
      "cell_type": "code",
      "source": [
        "# Python Code to Remove empty List from List\n",
        "\n",
        "def empty_list_remove(input_list):\n",
        "\tnew_list = []\n",
        "\tfor ele in input_list:\n",
        "\t\tif ele:\n",
        "\t\t\tnew_list.append(ele)\n",
        "\treturn new_list\n",
        "\n",
        "\n",
        "# input list values\n",
        "input_list = [5, 6, [], 3, [], [], 9]\n",
        "\n",
        "# print initial list values\n",
        "print(f\"The original list is : {input_list}\")\n",
        "# function-call & print values\n",
        "print(f\"List after empty list removal : {empty_list_remove(input_list)}\")\n"
      ],
      "metadata": {
        "id": "glXR5Hoq81Qg"
      },
      "execution_count": null,
      "outputs": []
    },
    {
      "cell_type": "code",
      "source": [
        "ls= [5, 6, [], 3, [], [], 9]\n",
        "new=[]\n",
        "for i in ls:\n",
        "  if i:\n",
        "    new.append(i)\n",
        "print(new)\n",
        "\n"
      ],
      "metadata": {
        "colab": {
          "base_uri": "https://localhost:8080/"
        },
        "id": "quy5N7de_EKU",
        "outputId": "a583a42e-25fe-43e2-8021-bf2c3b162809"
      },
      "execution_count": null,
      "outputs": [
        {
          "output_type": "stream",
          "name": "stdout",
          "text": [
            "[5, 6, 3, 9]\n"
          ]
        }
      ]
    },
    {
      "cell_type": "markdown",
      "source": [
        "#15/04/2024"
      ],
      "metadata": {
        "id": "K4muyTq68Odd"
      }
    },
    {
      "cell_type": "code",
      "source": [
        "\n",
        "l= [5, 6, [], 3, [], [], 9]\n",
        "\n",
        "res = [ele for ele in l if ele != []]\n",
        "\n",
        "print(\"List after empty list removal : \",(res))\n"
      ],
      "metadata": {
        "colab": {
          "base_uri": "https://localhost:8080/"
        },
        "id": "cn5awMXj8Tmf",
        "outputId": "1348ef33-4871-4323-b3d4-2d77ed70b0b4"
      },
      "execution_count": null,
      "outputs": [
        {
          "output_type": "stream",
          "name": "stdout",
          "text": [
            "List after empty list removal :  [5, 6, 3, 9]\n"
          ]
        }
      ]
    },
    {
      "cell_type": "code",
      "source": [
        "ls= [5, 6, [], 3, [], [], 9]\n",
        "new=[]\n",
        "for i in ls:\n",
        "  if i:\n",
        "    new.append(i)\n",
        "print(new)"
      ],
      "metadata": {
        "colab": {
          "base_uri": "https://localhost:8080/"
        },
        "id": "sYsayz0v8T68",
        "outputId": "8f30fb19-3b2d-4802-9047-7ae0425d396c"
      },
      "execution_count": null,
      "outputs": [
        {
          "output_type": "stream",
          "name": "stdout",
          "text": [
            "[5, 6, 3, 9]\n"
          ]
        }
      ]
    },
    {
      "cell_type": "code",
      "source": [
        "\n",
        "test_list = [5, 6, [], 3, [], [], 9]\n",
        "\n",
        "new_list=[]\n",
        "for i in test_list:\n",
        "\tx=str(type(i))\n",
        "\tif(x.find('list')!=-1):\n",
        "\t\tif(len(i)!=0):\n",
        "\t\t\tnew_list.append(i)\n",
        "\telse:\n",
        "\t\tnew_list.append(i)\n",
        "print(\"List after empty list removal : \" + str(new_list))\n"
      ],
      "metadata": {
        "id": "Lejp9IIX_Zfj",
        "colab": {
          "base_uri": "https://localhost:8080/"
        },
        "outputId": "e4f1ff68-d290-4594-db94-63f963c48236"
      },
      "execution_count": null,
      "outputs": [
        {
          "output_type": "stream",
          "name": "stdout",
          "text": [
            "List after empty list removal : [5, 6, 3, 9]\n"
          ]
        }
      ]
    },
    {
      "cell_type": "code",
      "source": [
        "l= [\"Gfg\", 3, \"is\", 8, \"Best\", 10, \"for\", 18, \"Geeks\", 33]\n",
        "l1= [\"name\", \"number\"]\n",
        "\n",
        "n = len(l)\n",
        "res = []\n",
        "for i in range(0, n, 2):\n",
        "\tres.append({l1[0]: l[i], l1[1] : l[i + 1]})\n",
        "print(res)\n"
      ],
      "metadata": {
        "id": "WfAuAMf2_fuP",
        "colab": {
          "base_uri": "https://localhost:8080/"
        },
        "outputId": "28bf035d-fd9b-47a9-9c88-1b615bae7e81"
      },
      "execution_count": null,
      "outputs": [
        {
          "output_type": "stream",
          "name": "stdout",
          "text": [
            "[{'name': 'Gfg', 'number': 3}, {'name': 'is', 'number': 8}, {'name': 'Best', 'number': 10}, {'name': 'for', 'number': 18}, {'name': 'Geeks', 'number': 33}]\n"
          ]
        }
      ]
    },
    {
      "cell_type": "code",
      "source": [
        "dict1 = {'Adnan': 1, 'Akbar': 2, }\n",
        "dict2 = {'Saud': 5, 'Shoaib': 6}\n",
        "dict1.update(dict2)\n",
        "print(dict1)"
      ],
      "metadata": {
        "id": "dG0gKBEsCYqz",
        "colab": {
          "base_uri": "https://localhost:8080/"
        },
        "outputId": "7b545909-b928-4532-dd74-ff9ea56b45cb"
      },
      "execution_count": null,
      "outputs": [
        {
          "output_type": "stream",
          "name": "stdout",
          "text": [
            "{'Adnan': 1, 'Akbar': 2, 'Saud': 5, 'Shoaib': 6}\n"
          ]
        }
      ]
    },
    {
      "cell_type": "markdown",
      "source": [
        "#16/04/2024"
      ],
      "metadata": {
        "id": "-d_pGSGLEtm7"
      }
    },
    {
      "cell_type": "code",
      "source": [
        "a=[2,1,2,3,1]\n",
        "b={}\n",
        "for i in a:\n",
        "  if i in b:\n",
        "    b[i]+=1\n",
        "  else:\n",
        "    b[i]=1\n",
        "print(b)\n"
      ],
      "metadata": {
        "colab": {
          "base_uri": "https://localhost:8080/"
        },
        "id": "zDi64YLYESDy",
        "outputId": "6bac0271-8a3d-420c-d13a-fab9593feb51"
      },
      "execution_count": null,
      "outputs": [
        {
          "output_type": "stream",
          "name": "stdout",
          "text": [
            "{2: 2, 1: 2, 3: 1}\n"
          ]
        }
      ]
    },
    {
      "cell_type": "code",
      "source": [
        "a=[2,1,2,3,1,3,2,7,1]\n",
        "r={}\n",
        "em=0\n",
        "for i in a:\n",
        "  if i in r:\n",
        "    r[i]+=1\n",
        "  else:\n",
        "    r[i]=1\n",
        "print(r)\n",
        "for k,v in r.items():\n",
        "  if v==1:\n",
        "    em+=1\n",
        "print(em)\n"
      ],
      "metadata": {
        "colab": {
          "base_uri": "https://localhost:8080/"
        },
        "id": "sdT9f2yaExSx",
        "outputId": "6e6f8097-c4f0-4b6d-a2e2-219bc02655bc"
      },
      "execution_count": null,
      "outputs": [
        {
          "output_type": "stream",
          "name": "stdout",
          "text": [
            "{2: 3, 1: 3, 3: 2, 7: 1}\n",
            "1\n"
          ]
        }
      ]
    },
    {
      "cell_type": "markdown",
      "source": [
        "###unique number in a list"
      ],
      "metadata": {
        "id": "oM9z5A69Yie6"
      }
    },
    {
      "cell_type": "code",
      "source": [
        "num= [1, 2, 3, 2, 1,3,8]\n",
        "em = {}\n",
        "\n",
        "for i in num:\n",
        "    em[i] = em.get(i, 0) + 1\n",
        "for i, count in em.items():\n",
        "    if count == 1:\n",
        "      print(\"The unique number is:\", i)\n",
        "\n"
      ],
      "metadata": {
        "colab": {
          "base_uri": "https://localhost:8080/"
        },
        "id": "xIGVsIiTExdk",
        "outputId": "8860f1ff-5e09-4524-97bc-7eca97de42fa"
      },
      "execution_count": null,
      "outputs": [
        {
          "output_type": "stream",
          "name": "stdout",
          "text": [
            "The unique number is: 8\n"
          ]
        }
      ]
    },
    {
      "cell_type": "code",
      "source": [
        "numbers = [1, 2, 3, 2, 1,3,9,9,88]\n",
        "\n",
        "unique_sum = 2 * sum(set(numbers))\n",
        "\n",
        "total_sum = sum(numbers)\n",
        "unique_number = unique_sum - total_sum\n",
        "\n",
        "print(\"The unique number is:\", unique_number)\n"
      ],
      "metadata": {
        "colab": {
          "base_uri": "https://localhost:8080/"
        },
        "id": "E614LozEWpxY",
        "outputId": "c6093b49-1ed2-4397-f15d-4ba800b9e994"
      },
      "execution_count": null,
      "outputs": [
        {
          "output_type": "stream",
          "name": "stdout",
          "text": [
            "The unique number is: 88\n"
          ]
        }
      ]
    },
    {
      "cell_type": "code",
      "source": [
        "l= [\"Gfg\", 3, \"is\", 8, \"Best\", 10, \"for\", 18, \"Geeks\", 33]\n",
        "l1= [\"name\", \"number\"]\n",
        "\n",
        "n = len(l)\n",
        "res = []\n",
        "for i in range(0, n, 2):\n",
        "\tres.append({l1[0]: l[i], l1[1] : l[i + 1]})\n",
        "print(res)\n"
      ],
      "metadata": {
        "id": "AQmhS86gX5aM",
        "colab": {
          "base_uri": "https://localhost:8080/"
        },
        "outputId": "7af89d5d-00be-42dd-cf27-52c643ef26e1"
      },
      "execution_count": null,
      "outputs": [
        {
          "output_type": "stream",
          "name": "stdout",
          "text": [
            "[{'name': 'Gfg', 'number': 3}, {'name': 'is', 'number': 8}, {'name': 'Best', 'number': 10}, {'name': 'for', 'number': 18}, {'name': 'Geeks', 'number': 33}]\n"
          ]
        }
      ]
    },
    {
      "cell_type": "markdown",
      "source": [
        "#17/04/2024"
      ],
      "metadata": {
        "id": "Bpr2eQouL0IQ"
      }
    },
    {
      "cell_type": "markdown",
      "source": [
        "###remove dublicate values from the dictionary"
      ],
      "metadata": {
        "id": "Ii9Tfc4AMHK1"
      }
    },
    {
      "cell_type": "code",
      "source": [
        "d = {'a': 1, 'b': 2, 'c': 1, 'd': 3}\n",
        "v = list(set(d.values()))\n",
        "res = {value: key for key, value in d.items() if d[key] in v}\n",
        "print(res)\n"
      ],
      "metadata": {
        "id": "hqyWo8o2Tjms",
        "colab": {
          "base_uri": "https://localhost:8080/"
        },
        "outputId": "5e535a7b-cf8e-4198-b9e4-58693af6bc10"
      },
      "execution_count": null,
      "outputs": [
        {
          "output_type": "stream",
          "name": "stdout",
          "text": [
            "{1: 'c', 2: 'b', 3: 'd'}\n"
          ]
        }
      ]
    },
    {
      "cell_type": "markdown",
      "source": [
        "###unique number in list"
      ],
      "metadata": {
        "id": "W58AwsOwhNxf"
      }
    },
    {
      "cell_type": "code",
      "source": [
        "l = [1, 2, 2, 5, 8, 4, 4, 8]\n",
        "\n",
        "l1 = []\n",
        "count = 0\n",
        "\n",
        "for i in l:\n",
        "\tif i not in l1:\n",
        "\t\tcount += 1\n",
        "\t\tl1.append(i)\n",
        "\n",
        "print(\"No of unique items are:\", count)\n"
      ],
      "metadata": {
        "colab": {
          "base_uri": "https://localhost:8080/"
        },
        "id": "xBBjP3kZL3kP",
        "outputId": "b55d9ad5-f968-4e1c-e372-64a67000e5d0"
      },
      "execution_count": null,
      "outputs": [
        {
          "output_type": "stream",
          "name": "stdout",
          "text": [
            "No of unique items are: 5\n"
          ]
        }
      ]
    },
    {
      "cell_type": "code",
      "source": [
        "l = [1, 2, 2, 5, 8, 4, 4, 8]\n",
        "\n",
        "n = set(l)\n",
        "print(\"No of unique items in the list are:\", len(n))\n"
      ],
      "metadata": {
        "colab": {
          "base_uri": "https://localhost:8080/"
        },
        "id": "Dlla09-uhFQu",
        "outputId": "59ffbb53-0269-4f74-cf18-4fc03dbcba06"
      },
      "execution_count": null,
      "outputs": [
        {
          "output_type": "stream",
          "name": "stdout",
          "text": [
            "No of unique items in the list are: 5\n"
          ]
        }
      ]
    },
    {
      "cell_type": "code",
      "source": [
        "List_1 = [\"a\", \"b\"]\n",
        "List_2 = [1, 2]\n",
        "\n",
        "new = []\n",
        "\n",
        "for i in range(len(List_2)):\n",
        "    for j in range(len(List_2)):\n",
        "        if i != j:\n",
        "            new.append([(List_1[0], List_2[i]), (List_1[1], List_2[j])])\n",
        "print(new)\n"
      ],
      "metadata": {
        "colab": {
          "base_uri": "https://localhost:8080/"
        },
        "id": "gvH2VAumhZRH",
        "outputId": "410ccd65-1519-4ea1-f6fe-112e773e77e6"
      },
      "execution_count": null,
      "outputs": [
        {
          "output_type": "stream",
          "name": "stdout",
          "text": [
            "[[('a', 1), ('b', 2)], [('a', 2), ('b', 1)]]\n"
          ]
        }
      ]
    },
    {
      "cell_type": "code",
      "source": [
        "n=5\n",
        "patt_n = 64+n+1\n",
        "for i in range(1,n+1):\n",
        "  for j in range(1,i+1):\n",
        "    print(chr(patt_n-j),end='')\n",
        "  print()"
      ],
      "metadata": {
        "colab": {
          "base_uri": "https://localhost:8080/"
        },
        "id": "Ra_ne0P8iOsP",
        "outputId": "0992d5d5-f6a1-4865-93cf-b07dfe2d320b"
      },
      "execution_count": null,
      "outputs": [
        {
          "output_type": "stream",
          "name": "stdout",
          "text": [
            "E\n",
            "ED\n",
            "EDC\n",
            "EDCB\n",
            "EDCBA\n"
          ]
        }
      ]
    },
    {
      "cell_type": "markdown",
      "source": [
        "#18/04/2024"
      ],
      "metadata": {
        "id": "wbLkbGqWVOKr"
      }
    },
    {
      "cell_type": "code",
      "source": [
        "a=[1,21,2,3,12]\n",
        "for i in range(len(a)):\n",
        "  for j in range(len(a)):\n",
        "    if a[i]<a[j]:\n",
        "      a[i],a[j]=a[j],a[i]\n",
        "print(a)"
      ],
      "metadata": {
        "id": "sLxMfOe9QoCc",
        "colab": {
          "base_uri": "https://localhost:8080/"
        },
        "outputId": "597e160a-36ca-4205-c402-51f5a7920fae"
      },
      "execution_count": null,
      "outputs": [
        {
          "output_type": "stream",
          "name": "stdout",
          "text": [
            "[1, 2, 3, 12, 21]\n"
          ]
        }
      ]
    },
    {
      "cell_type": "markdown",
      "source": [
        "###Python program to find the sum of all items in a dictionary\n"
      ],
      "metadata": {
        "id": "FyRG0vmiZBlc"
      }
    },
    {
      "cell_type": "code",
      "source": [
        "d={'a': 100, 'b':200, 'c':300}\n",
        "c=0\n",
        "d1=d.values()\n",
        "print(d1)\n",
        "for i in d1:\n",
        "  c+=i\n",
        "\n",
        "print(\"total sum of the values\",c)"
      ],
      "metadata": {
        "colab": {
          "base_uri": "https://localhost:8080/"
        },
        "id": "RoLgEFj9VoJu",
        "outputId": "934adb60-54f0-4465-e6f7-ecdd594ec1f3"
      },
      "execution_count": null,
      "outputs": [
        {
          "output_type": "stream",
          "name": "stdout",
          "text": [
            "dict_values([100, 200, 300])\n",
            "total sum of the values 600\n"
          ]
        }
      ]
    },
    {
      "cell_type": "code",
      "source": [
        "d1={'x': 25, 'y':18, 'z':45}\n",
        "c1=0\n",
        "for k,v in d1.items():\n",
        "  c1+=v\n",
        "print(\"total sum of the values\",c1)\n"
      ],
      "metadata": {
        "colab": {
          "base_uri": "https://localhost:8080/"
        },
        "id": "-Vr8gXPbWIvB",
        "outputId": "729ed897-63e9-43fa-8505-57d249b09fd4"
      },
      "execution_count": null,
      "outputs": [
        {
          "output_type": "stream",
          "name": "stdout",
          "text": [
            "total sum of the values 88\n"
          ]
        }
      ]
    },
    {
      "cell_type": "code",
      "source": [
        "l= [{\"name\": \"Nandini\", \"age\": 21},{\"name\": \"Manjeet\", \"age\": 20},{\"name\": \"Nikhil\", \"age\": 19}]\n",
        "\n",
        "for i in range(len(l)):\n",
        "  for j in range(len(l)):\n",
        "    if l[j]['age']>l[i]['age']:\n",
        "      l[j],l[i]=l[i],l[j]\n",
        "print(\"sorted list :\")\n",
        "print(l)\n",
        "\n"
      ],
      "metadata": {
        "colab": {
          "base_uri": "https://localhost:8080/"
        },
        "id": "3sDTlxsNcayK",
        "outputId": "5789ea76-86da-4120-9943-98587b61c919"
      },
      "execution_count": null,
      "outputs": [
        {
          "output_type": "stream",
          "name": "stdout",
          "text": [
            "sorted list :\n",
            "[{'name': 'Nikhil', 'age': 19}, {'name': 'Manjeet', 'age': 20}, {'name': 'Nandini', 'age': 21}]\n"
          ]
        }
      ]
    },
    {
      "cell_type": "code",
      "source": [
        "l= [{\"name\": \"Nandini\", \"age\": 21},{\"name\": \"Manjeet\", \"age\": 20},{\"name\": \"Nikhil\", \"age\": 19}]\n",
        "n=len(l)\n",
        "for i in range(n):\n",
        "  for j in range(n):\n",
        "    if l[j]['age']>l[i]['age']:\n",
        "      l[j],l[i]=l[i],l[j]\n",
        "print(\"sorted list :\")\n",
        "# print(l)\n",
        "for item in l:\n",
        "  print(item)\n"
      ],
      "metadata": {
        "colab": {
          "base_uri": "https://localhost:8080/"
        },
        "id": "U0nPcYP8Y2ZN",
        "outputId": "6a12a926-e77b-4151-f3bb-d76c832fd799"
      },
      "execution_count": null,
      "outputs": [
        {
          "output_type": "stream",
          "name": "stdout",
          "text": [
            "sorted list :\n",
            "{'name': 'Nikhil', 'age': 19}\n",
            "{'name': 'Manjeet', 'age': 20}\n",
            "{'name': 'Nandini', 'age': 21}\n"
          ]
        }
      ]
    },
    {
      "cell_type": "code",
      "source": [
        "l = [{\"name\": \"Nandini\", \"age\": 20},{\"name\": \"Manjeet\", \"age\": 20},{\"name\": \"Nikhil\", \"age\": 19}]\n",
        "\n",
        "new= sorted(l, key=lambda x: x['age'])\n",
        "\n",
        "print(\"Sorted list by age:\")\n",
        "for item in new:\n",
        "    print(item)\n"
      ],
      "metadata": {
        "colab": {
          "base_uri": "https://localhost:8080/"
        },
        "id": "SnIDS-tAY2m6",
        "outputId": "1b47a9ac-337a-4ca0-e70a-15ec443c9acb"
      },
      "execution_count": null,
      "outputs": [
        {
          "output_type": "stream",
          "name": "stdout",
          "text": [
            "Sorted list by age:\n",
            "{'name': 'Nikhil', 'age': 19}\n",
            "{'name': 'Nandini', 'age': 20}\n",
            "{'name': 'Manjeet', 'age': 20}\n"
          ]
        }
      ]
    },
    {
      "cell_type": "markdown",
      "source": [
        "#19/04/2024"
      ],
      "metadata": {
        "id": "keOpSLZ-c8uk"
      }
    },
    {
      "cell_type": "code",
      "source": [
        "a=[4, 5, 5, 5, 3, 8]\n",
        "b={}\n",
        "for i in a:\n",
        "  if i in b:\n",
        "    b[i]+=1\n",
        "  else:\n",
        "    b[i]=1\n",
        "print(b)"
      ],
      "metadata": {
        "id": "3BBkXY5sa-9p",
        "colab": {
          "base_uri": "https://localhost:8080/"
        },
        "outputId": "6e5b1ea1-e485-4edb-8e41-223ec207d105"
      },
      "execution_count": null,
      "outputs": [
        {
          "output_type": "stream",
          "name": "stdout",
          "text": [
            "{4: 1, 5: 3, 3: 1, 8: 1}\n"
          ]
        }
      ]
    },
    {
      "cell_type": "code",
      "source": [
        "a = [4, 5, 5, 5, 3, 8]\n",
        "c=0\n",
        "m=None\n",
        "for i in a:\n",
        "  count=a.count(i)\n",
        "  if count>c:\n",
        "    c=count\n",
        "    m=i\n",
        "print(\"The number with the maximum repetition is:\",m)"
      ],
      "metadata": {
        "colab": {
          "base_uri": "https://localhost:8080/"
        },
        "id": "17Xrnp0idBth",
        "outputId": "0184454d-92e0-49a8-9b07-ce06798fa847"
      },
      "execution_count": null,
      "outputs": [
        {
          "output_type": "stream",
          "name": "stdout",
          "text": [
            "The number with the maximum repetition is: 5\n"
          ]
        }
      ]
    },
    {
      "cell_type": "code",
      "source": [
        "a= [1, 1, 1, 64, 23, 64, 22, 22, 22]\n",
        "\n",
        "c=0\n",
        "m=None\n",
        "for i in a:\n",
        "  count=a.count(i)\n",
        "  if count>c:\n",
        "    c=count\n",
        "    m=i\n",
        "print(\"The number with the maximum repetition is:\",m)"
      ],
      "metadata": {
        "colab": {
          "base_uri": "https://localhost:8080/"
        },
        "id": "S2NrR_wCdFRM",
        "outputId": "7dfc6157-4aea-4170-a525-4b0e933a60fc"
      },
      "execution_count": null,
      "outputs": [
        {
          "output_type": "stream",
          "name": "stdout",
          "text": [
            "The number with the maximum repetition is: 1\n"
          ]
        }
      ]
    },
    {
      "cell_type": "code",
      "source": [
        "\n",
        "l= ['Gfg is best', 'for Geeks', 'Preparing']\n",
        "\n",
        "K = ' '\n",
        "res = []\n",
        "for i in l:\n",
        "\tsub = i.split(K)\n",
        "\tres.extend(sub)\n",
        "print (\"The extended list after split strings : \" + str(res))\n"
      ],
      "metadata": {
        "colab": {
          "base_uri": "https://localhost:8080/"
        },
        "id": "xoUFC4v4dE6g",
        "outputId": "a2bceaaf-f5e3-4aa9-b035-84a8f8010556"
      },
      "execution_count": null,
      "outputs": [
        {
          "output_type": "stream",
          "name": "stdout",
          "text": [
            "The extended list after split strings : ['Gfg', 'is', 'best', 'for', 'Geeks', 'Preparing']\n"
          ]
        }
      ]
    },
    {
      "cell_type": "code",
      "source": [
        "\n",
        "t = ['gfgisbest', 'geeks', 'gfgfreak', 'gfgCS', 'Gcourses']\n",
        "\n",
        "s = 'gfg'\n",
        "\n",
        "res = 0\n",
        "for i in t:\n",
        "\tif i.startswith(s):\n",
        "\t\tres = res + 1\n",
        "\n",
        "print(\"Strings count with matching frequency : \" + str(res))\n"
      ],
      "metadata": {
        "colab": {
          "base_uri": "https://localhost:8080/"
        },
        "id": "gmli5K1XpNaf",
        "outputId": "9f8d35fa-342b-40c3-c0c7-23b913eb96f8"
      },
      "execution_count": null,
      "outputs": [
        {
          "output_type": "stream",
          "name": "stdout",
          "text": [
            "Strings count with matching frequency : 3\n"
          ]
        }
      ]
    },
    {
      "cell_type": "code",
      "source": [
        "\n",
        "t1 = ['gfgisbest', 'geeks', 'gfgfreak', 'gfgCS', 'Gcourses']\n",
        "\n",
        "t2 = 'gfg'\n",
        "\n",
        "res = 0\n",
        "for i in t1:\n",
        "\tif i.find(test_sub)==0:\n",
        "\t\tres = res + 1\n",
        "print (\"Strings count with matching frequency : \" + str(res))\n"
      ],
      "metadata": {
        "colab": {
          "base_uri": "https://localhost:8080/"
        },
        "id": "mYxfgtgupv66",
        "outputId": "a36834bb-c1ad-4203-c7b6-5f594aa2d380"
      },
      "execution_count": null,
      "outputs": [
        {
          "output_type": "stream",
          "name": "stdout",
          "text": [
            "Strings count with matching frequency : 3\n"
          ]
        }
      ]
    },
    {
      "cell_type": "markdown",
      "source": [
        "#20/04/2024"
      ],
      "metadata": {
        "id": "1hhsz-rApZu4"
      }
    },
    {
      "cell_type": "code",
      "source": [
        "l= [{\"name\": \"Nandini\", \"age\": 21},{\"name\": \"Manjeet\", \"age\": 20},{\"name\": \"Nikhil\", \"age\": 19}]\n",
        "n=len(l)\n",
        "for i in range(n):\n",
        "  for j in range(n):\n",
        "    if l[j]['age']>l[i]['age']:\n",
        "      l[j],l[i]=l[i],l[j]\n",
        "print(\"sorted list :\")\n",
        "# print(l)\n",
        "for item in l:\n",
        "  print(item)\n"
      ],
      "metadata": {
        "id": "w_-r3QDXqSpZ",
        "colab": {
          "base_uri": "https://localhost:8080/"
        },
        "outputId": "ea4606c6-6c4b-4a0b-b6c6-b8b03eb75e09"
      },
      "execution_count": null,
      "outputs": [
        {
          "output_type": "stream",
          "name": "stdout",
          "text": [
            "sorted list :\n",
            "{'name': 'Nikhil', 'age': 19}\n",
            "{'name': 'Manjeet', 'age': 20}\n",
            "{'name': 'Nandini', 'age': 21}\n"
          ]
        }
      ]
    },
    {
      "cell_type": "code",
      "source": [
        "l= [4, 5, 5, 5, 3, 8]\n",
        "size = len(l)\n",
        "for i in range(size - 2):\n",
        "\tif l[i] == l[i + 1] and l[i + 1] == l[i + 2]:\n",
        "\t\tprint(l[i])\n"
      ],
      "metadata": {
        "id": "SLXOtK8NHXyb",
        "colab": {
          "base_uri": "https://localhost:8080/"
        },
        "outputId": "4bb6a70a-8c97-456c-8d7f-a6d2d4a0f379"
      },
      "execution_count": null,
      "outputs": [
        {
          "output_type": "stream",
          "name": "stdout",
          "text": [
            "5\n"
          ]
        }
      ]
    },
    {
      "cell_type": "code",
      "source": [
        "\n",
        "list1 = [11, 5, 17, 18, 23, 50]\n",
        "for ele in list1:\n",
        "\tif ele % 2 == 0:\n",
        "\t\tlist1.remove(ele)\n",
        "print(\"New list after removing all even numbers: \", list1)\n"
      ],
      "metadata": {
        "colab": {
          "base_uri": "https://localhost:8080/"
        },
        "id": "DTsMfjUI1Z3A",
        "outputId": "62f642f0-7be5-40a0-d2e8-3a41f7d9da49"
      },
      "execution_count": null,
      "outputs": [
        {
          "output_type": "stream",
          "name": "stdout",
          "text": [
            "New list after removing all even numbers:  [11, 5, 17, 23]\n"
          ]
        }
      ]
    },
    {
      "cell_type": "code",
      "source": [
        "\n",
        "list1 = [11, 5, 17, 18, 23, 50]\n",
        "\n",
        "list1 = [ elem for elem in list1 if elem % 2 != 0]\n",
        "\n",
        "print(*list1)\n"
      ],
      "metadata": {
        "colab": {
          "base_uri": "https://localhost:8080/"
        },
        "id": "9SEzzJsm2QSM",
        "outputId": "82308ba3-8004-45a7-b3bb-fba502e62aaf"
      },
      "execution_count": null,
      "outputs": [
        {
          "output_type": "stream",
          "name": "stdout",
          "text": [
            "11 5 17 23\n"
          ]
        }
      ]
    },
    {
      "cell_type": "code",
      "source": [
        "\n",
        "list1 = [10, 20, 4, 45, 99]\n",
        "\n",
        "list1.sort()\n",
        "print(\"Smallest element is:\", list1[0])\n"
      ],
      "metadata": {
        "colab": {
          "base_uri": "https://localhost:8080/"
        },
        "id": "TSroGbfU2Yrk",
        "outputId": "9bd88147-761d-4b3e-81a2-503bd34ed80f"
      },
      "execution_count": null,
      "outputs": [
        {
          "output_type": "stream",
          "name": "stdout",
          "text": [
            "Smallest element is: 4\n"
          ]
        }
      ]
    },
    {
      "cell_type": "markdown",
      "source": [
        "#22/04/2024"
      ],
      "metadata": {
        "id": "lFzfG1Qd5W5s"
      }
    },
    {
      "cell_type": "code",
      "source": [
        "a=[0,1,2,3,4,5]\n",
        "#swap\n",
        "for i in range(0,len(a),2):\n",
        "  a[i],a[i+1]=a[i+1],a[i]\n",
        "print(a)"
      ],
      "metadata": {
        "id": "YS1r-9Gv2x1g",
        "colab": {
          "base_uri": "https://localhost:8080/"
        },
        "outputId": "e4cf86af-1428-46a9-d8ef-920a97455a90"
      },
      "execution_count": null,
      "outputs": [
        {
          "output_type": "stream",
          "name": "stdout",
          "text": [
            "[1, 0, 3, 2, 5, 4]\n"
          ]
        }
      ]
    },
    {
      "cell_type": "code",
      "source": [
        "lst=[0,1,2,3,4,5,8]\n",
        "\n",
        "for i in range(0,len(lst),2):\n",
        "  if i+1<len(lst):\n",
        "    lst[i],lst[i+1]=lst[i+1],lst[i]\n",
        "print(lst)"
      ],
      "metadata": {
        "colab": {
          "base_uri": "https://localhost:8080/"
        },
        "id": "h5mEZOghBN90",
        "outputId": "4996e5ff-94ee-496a-ccbf-b889aab775af"
      },
      "execution_count": null,
      "outputs": [
        {
          "output_type": "stream",
          "name": "stdout",
          "text": [
            "[1, 0, 3, 2, 5, 4, 8]\n"
          ]
        }
      ]
    },
    {
      "cell_type": "code",
      "source": [
        "s= \"zero four zero one\"\n",
        "\n",
        "digit = {\n",
        "    \"zero\": \"0\",\n",
        "    \"one\": \"1\",\n",
        "    \"two\": \"2\",\n",
        "    \"three\": \"3\",\n",
        "    \"four\": \"4\",\n",
        "    \"five\": \"5\",\n",
        "    \"six\": \"6\",\n",
        "    \"seven\": \"7\",\n",
        "    \"eight\": \"8\",\n",
        "    \"nine\": \"9\"\n",
        "}\n",
        "\n",
        "res= ''.join([digit.get(word, '') for word in s.split()])\n",
        "print(res)\n"
      ],
      "metadata": {
        "colab": {
          "base_uri": "https://localhost:8080/"
        },
        "id": "l0aRZ_2o_gmk",
        "outputId": "b4cf6b21-d51c-4035-dfdf-3630b6450eb6"
      },
      "execution_count": null,
      "outputs": [
        {
          "output_type": "stream",
          "name": "stdout",
          "text": [
            "0401\n"
          ]
        }
      ]
    },
    {
      "cell_type": "code",
      "source": [
        "for i in range(5):\n",
        "  for j in range(i+1):\n",
        "    print('*',end='')\n",
        "  print()\n",
        "for i in range(4):\n",
        "  for j in range(i,4):\n",
        "    print('*',end='')\n",
        "  print()"
      ],
      "metadata": {
        "colab": {
          "base_uri": "https://localhost:8080/"
        },
        "id": "7qCF56QvA0Dd",
        "outputId": "b28a8049-a57d-48d8-bae0-55fd3adc8127"
      },
      "execution_count": null,
      "outputs": [
        {
          "output_type": "stream",
          "name": "stdout",
          "text": [
            "*\n",
            "**\n",
            "***\n",
            "****\n",
            "*****\n",
            "****\n",
            "***\n",
            "**\n",
            "*\n"
          ]
        }
      ]
    },
    {
      "cell_type": "code",
      "source": [
        "input_str = \"GFGgffrrFg123$%\"\n",
        "\n",
        "output_str = ''.join(char for char in input_str if not char.isupper())\n",
        "print(\"After removing uppercase characters:\", output_str)\n"
      ],
      "metadata": {
        "colab": {
          "base_uri": "https://localhost:8080/"
        },
        "id": "nN6M9BzNA5Ze",
        "outputId": "f6fb9790-ac2e-448c-a545-25058b4463fd"
      },
      "execution_count": null,
      "outputs": [
        {
          "output_type": "stream",
          "name": "stdout",
          "text": [
            "After removing uppercase characters: gffrrg123$%\n"
          ]
        }
      ]
    },
    {
      "cell_type": "code",
      "source": [
        "st= \"rashida ANSARI\"\n",
        "\n",
        "res = ''.join(char.lower() if char.isupper() else char.upper() for char in st)\n",
        "\n",
        "print(\"After converting case of characters:\", res)\n"
      ],
      "metadata": {
        "colab": {
          "base_uri": "https://localhost:8080/"
        },
        "id": "1timJXMjFOWu",
        "outputId": "c75acb66-601c-4240-96bf-e97a82eea83b"
      },
      "execution_count": null,
      "outputs": [
        {
          "output_type": "stream",
          "name": "stdout",
          "text": [
            "After converting case of characters: RASHIDA ansari\n"
          ]
        }
      ]
    },
    {
      "cell_type": "code",
      "source": [
        "st= \"coding\"\n",
        "\n",
        "new = \"\"\n",
        "for char in st:\n",
        "    if char.isupper():\n",
        "        st+= char.lower()\n",
        "    else:\n",
        "        new += char.upper()\n",
        "print(\"After converting case of characters:\", new)\n"
      ],
      "metadata": {
        "colab": {
          "base_uri": "https://localhost:8080/"
        },
        "id": "UWTVwJ4pFsYS",
        "outputId": "d89a6d5f-fe6a-46b3-ce7e-baf0b5e2556a"
      },
      "execution_count": null,
      "outputs": [
        {
          "output_type": "stream",
          "name": "stdout",
          "text": [
            "After converting case of characters: CODING\n"
          ]
        }
      ]
    },
    {
      "cell_type": "markdown",
      "source": [
        "#23/04/2024"
      ],
      "metadata": {
        "id": "XXazc-Praz00"
      }
    },
    {
      "cell_type": "code",
      "source": [
        "s = 'geeksforgeeks 33 best'\n",
        "\n",
        "ch= 0\n",
        "\n",
        "for char in s:\n",
        "    if char != ' ':\n",
        "        ch += 1\n",
        "\n",
        "print(\"Total characters in the string:\", ch)\n",
        "\n"
      ],
      "metadata": {
        "id": "YXeyVxm8GKFk",
        "colab": {
          "base_uri": "https://localhost:8080/"
        },
        "outputId": "3ede57aa-19db-4dd5-d174-3d30124a2f0a"
      },
      "execution_count": null,
      "outputs": [
        {
          "output_type": "stream",
          "name": "stdout",
          "text": [
            "Total characters in the string: 19\n"
          ]
        }
      ]
    },
    {
      "cell_type": "code",
      "source": [
        "str1 = 'abc def'\n",
        "c=0\n",
        "for i in str1:\n",
        "  if i!= '':\n",
        "    c+=1\n",
        "print(c)\n"
      ],
      "metadata": {
        "colab": {
          "base_uri": "https://localhost:8080/"
        },
        "id": "QaLot15ffqfF",
        "outputId": "8a866c67-80b2-4426-fb06-177c1e6d9e95"
      },
      "execution_count": null,
      "outputs": [
        {
          "output_type": "stream",
          "name": "stdout",
          "text": [
            "7\n"
          ]
        }
      ]
    },
    {
      "cell_type": "code",
      "source": [
        "st = \"geeks\"\n",
        "c=0\n",
        "for i in  st:\n",
        "  c+=1\n",
        "print(\"total lenght of the string\",c)"
      ],
      "metadata": {
        "colab": {
          "base_uri": "https://localhost:8080/"
        },
        "id": "0KB4oiudbvnv",
        "outputId": "2767bd90-c487-4626-f49b-c911195f72a1"
      },
      "execution_count": null,
      "outputs": [
        {
          "output_type": "stream",
          "name": "stdout",
          "text": [
            "total lenght of the string 5\n"
          ]
        }
      ]
    },
    {
      "cell_type": "code",
      "source": [
        "\n",
        "str1 = 'aabcddekll12@'\n",
        "str2 = 'bb22ll@55k'\n",
        "\n",
        "res1= set(str1)\n",
        "res2= set(str2)\n",
        "\n",
        "new = res1.symmetric_difference(res2)\n",
        "\n",
        "print(\"Different characters in both strings:\", new)\n",
        "\n"
      ],
      "metadata": {
        "colab": {
          "base_uri": "https://localhost:8080/"
        },
        "id": "uy5_XQ8cbv2h",
        "outputId": "d52021e4-3d80-42f3-c68f-bc04be12dc26"
      },
      "execution_count": null,
      "outputs": [
        {
          "output_type": "stream",
          "name": "stdout",
          "text": [
            "Different characters in both strings: {'c', 'a', '5', '1', 'd', 'e'}\n"
          ]
        }
      ]
    },
    {
      "cell_type": "markdown",
      "source": [
        "#24/04/2024"
      ],
      "metadata": {
        "id": "9wpHdaSis3o_"
      }
    },
    {
      "cell_type": "code",
      "source": [
        "a=[2,56,76,21]\n",
        "for i in range(0,len(a),2):\n",
        "  a[i],a[i+1]=a[i+1],a[i]\n",
        "print(a)\n"
      ],
      "metadata": {
        "id": "cGkeHTp4k5f8",
        "colab": {
          "base_uri": "https://localhost:8080/"
        },
        "outputId": "cf755046-3cc6-4d6b-f4a9-e0a2ff93051c"
      },
      "execution_count": null,
      "outputs": [
        {
          "output_type": "stream",
          "name": "stdout",
          "text": [
            "[56, 2, 21, 76]\n"
          ]
        }
      ]
    },
    {
      "cell_type": "code",
      "source": [
        "s='abcxyz'\n",
        "c=0\n",
        "for i in s:\n",
        "  c+=1\n",
        "print(\"total charachters in string\",c)"
      ],
      "metadata": {
        "colab": {
          "base_uri": "https://localhost:8080/"
        },
        "id": "DyYU3tVH9zW0",
        "outputId": "f07762c5-d79d-44a8-ab0a-dd68ff9c8c8a"
      },
      "execution_count": null,
      "outputs": [
        {
          "output_type": "stream",
          "name": "stdout",
          "text": [
            "total charachters in string 6\n"
          ]
        }
      ]
    },
    {
      "cell_type": "code",
      "source": [
        "b=\"This is a python language\"\n",
        "r=b.split()\n",
        "print(r)\n",
        "for i in r:\n",
        "  if len(i)%2==0:\n",
        "    print(i)"
      ],
      "metadata": {
        "colab": {
          "base_uri": "https://localhost:8080/"
        },
        "id": "53_dzJvWlgXn",
        "outputId": "4af19b6d-2a18-468d-d0ee-a2374934a40f"
      },
      "execution_count": null,
      "outputs": [
        {
          "output_type": "stream",
          "name": "stdout",
          "text": [
            "['This', 'is', 'a', 'python', 'language']\n",
            "This\n",
            "is\n",
            "python\n",
            "language\n"
          ]
        }
      ]
    },
    {
      "cell_type": "code",
      "source": [
        "b=\"This is a python p language\"\n",
        "r=b.split()\n",
        "# print(r)\n",
        "for i in r:\n",
        "  if len(i)%2!=0:\n",
        "    print(i)"
      ],
      "metadata": {
        "colab": {
          "base_uri": "https://localhost:8080/"
        },
        "id": "MMmwGan8mB9l",
        "outputId": "a03e8c62-2321-4e9c-baf3-24a8624325b2"
      },
      "execution_count": null,
      "outputs": [
        {
          "output_type": "stream",
          "name": "stdout",
          "text": [
            "a\n",
            "p\n"
          ]
        }
      ]
    },
    {
      "cell_type": "code",
      "source": [
        "\n",
        "n=\"geeks for geek clas\"\n",
        "s=n.split(\" \")\n",
        "l=list(filter(lambda x: (len(x)%2==0),s))\n",
        "print(l)\n"
      ],
      "metadata": {
        "colab": {
          "base_uri": "https://localhost:8080/"
        },
        "id": "PQX9rsxGmY12",
        "outputId": "81035af1-7cc8-41d4-ca89-a2881dc5315d"
      },
      "execution_count": null,
      "outputs": [
        {
          "output_type": "stream",
          "name": "stdout",
          "text": [
            "['geek', 'clas']\n"
          ]
        }
      ]
    },
    {
      "cell_type": "markdown",
      "source": [
        "#25/04/2024"
      ],
      "metadata": {
        "id": "QcW5hvGwaadF"
      }
    },
    {
      "cell_type": "code",
      "source": [
        "lst=[23,87,56]\n",
        "g=1\n",
        "for i in range(len(lst)):\n",
        "  for j in range(i+1,len(lst)):\n",
        "    if lst[i]>g:\n",
        "       g=lst[i]\n",
        "\n",
        "print(\"the largest number is\",g)"
      ],
      "metadata": {
        "id": "AhWjrTD4q9mE"
      },
      "execution_count": null,
      "outputs": []
    },
    {
      "cell_type": "code",
      "source": [
        "lst=[2,32,4,54,53,22,11,67,5,87]\n",
        "\n",
        "sum=0\n",
        "product=1\n",
        "for i in lst:\n",
        "  sum=sum+i\n",
        "  product=product*i\n",
        "print('the sum of ',sum)\n",
        "print('the product of',product)\n"
      ],
      "metadata": {
        "id": "OKWtc4nBaew-",
        "colab": {
          "base_uri": "https://localhost:8080/"
        },
        "outputId": "42249b95-b895-4875-d090-f218b67152ac"
      },
      "execution_count": null,
      "outputs": [
        {
          "output_type": "stream",
          "name": "stdout",
          "text": [
            "the sum of  337\n",
            "the product of 5167601556480\n"
          ]
        }
      ]
    },
    {
      "cell_type": "code",
      "source": [
        "l=[1,2,3,3,2,1,5]\n",
        "x={}\n",
        "y=0\n",
        "for i in l:\n",
        "  if i in x:\n",
        "    x[i]+=1\n",
        "  else:\n",
        "    x[i]=1\n",
        "print('unique number',x)\n",
        "for k,v in x.items():\n",
        "  if v==1:\n",
        "    y+=1\n",
        "print(y)\n",
        "\n",
        "\n",
        "\n"
      ],
      "metadata": {
        "id": "H2g8aQIiafHU",
        "colab": {
          "base_uri": "https://localhost:8080/"
        },
        "outputId": "4f0b5997-d306-48b1-c96a-a58ba1306539"
      },
      "execution_count": null,
      "outputs": [
        {
          "output_type": "stream",
          "name": "stdout",
          "text": [
            "unique number {1: 2, 2: 2, 3: 2, 5: 1}\n",
            "1\n"
          ]
        }
      ]
    },
    {
      "cell_type": "code",
      "source": [
        "l=[1,2,3,3,2,1,5]\n",
        "x=0\n",
        "for i in l:\n",
        "  if l.count(i)==1:\n",
        "    x+=1\n",
        "print(x)\n"
      ],
      "metadata": {
        "id": "l_c4BPnhafdT",
        "colab": {
          "base_uri": "https://localhost:8080/"
        },
        "outputId": "64b37c37-c1b1-4854-d23e-cb0b5fdb280c"
      },
      "execution_count": null,
      "outputs": [
        {
          "output_type": "stream",
          "name": "stdout",
          "text": [
            "1\n"
          ]
        }
      ]
    },
    {
      "cell_type": "code",
      "source": [
        "l=[2,2,21,23,22,12,12]\n",
        "d=[]\n",
        "for i in l:\n",
        "  if l.count(i)>1 and i not in d:\n",
        "    d.append(i)\n",
        "print(d)"
      ],
      "metadata": {
        "id": "uPa7qbqsafvq",
        "colab": {
          "base_uri": "https://localhost:8080/"
        },
        "outputId": "ef98b5b1-c21f-4e74-82b9-9b2afcac143f"
      },
      "execution_count": null,
      "outputs": [
        {
          "output_type": "stream",
          "name": "stdout",
          "text": [
            "[2, 12]\n"
          ]
        }
      ]
    },
    {
      "cell_type": "markdown",
      "source": [
        "#26/04/2024"
      ],
      "metadata": {
        "id": "P66mNDmAnk5b"
      }
    },
    {
      "cell_type": "code",
      "source": [
        "a=\"mumbai, coding, club\"\n",
        "b=a.strip()\n",
        "print(b)"
      ],
      "metadata": {
        "colab": {
          "base_uri": "https://localhost:8080/"
        },
        "id": "HU56JD9m1Qpn",
        "outputId": "ded18d8c-a85b-4919-cd09-4fdc8ae0cab5"
      },
      "execution_count": null,
      "outputs": [
        {
          "output_type": "stream",
          "name": "stdout",
          "text": [
            "mumbai, coding, club\n"
          ]
        }
      ]
    },
    {
      "cell_type": "code",
      "source": [
        "a=\" mumbai, coding, club\"\n",
        "res=a.strip()\n",
        "print(res)\n",
        "\n",
        "res = tuple(map(str, res.split(',')))\n",
        "print(res)\n"
      ],
      "metadata": {
        "colab": {
          "base_uri": "https://localhost:8080/"
        },
        "id": "XqJpUscu1uKj",
        "outputId": "06343fa3-0cdd-4124-82a3-b90020146b7c"
      },
      "execution_count": null,
      "outputs": [
        {
          "output_type": "stream",
          "name": "stdout",
          "text": [
            "mumbai, coding, club\n",
            "('mumbai', ' coding', ' club')\n"
          ]
        }
      ]
    },
    {
      "cell_type": "code",
      "source": [
        "a=\" mumbai, coding, club\"\n",
        "res=a.strip()\n",
        "print(res)\n",
        "res.replace(\"\",\"\")\n",
        "\n",
        "res = tuple(map(str, res.split(',')))\n",
        "print(res)\n"
      ],
      "metadata": {
        "colab": {
          "base_uri": "https://localhost:8080/"
        },
        "id": "DDRnfb1519cF",
        "outputId": "c836e7ef-86b0-4a29-bd79-9940378da322"
      },
      "execution_count": null,
      "outputs": [
        {
          "output_type": "stream",
          "name": "stdout",
          "text": [
            "mumbai, coding, club\n",
            "('mumbai', ' coding', ' club')\n"
          ]
        }
      ]
    },
    {
      "cell_type": "code",
      "source": [
        "a=\" mumbai, coding, club\"\n",
        "n=\"\"\n",
        "for i in a:\n",
        "  if (not i.isspace()):\n",
        "    n+=i\n",
        "# print(n)\n",
        "res = tuple(map(str, n.split(',')))\n",
        "print(res)"
      ],
      "metadata": {
        "colab": {
          "base_uri": "https://localhost:8080/"
        },
        "id": "l5RImPpg3Sju",
        "outputId": "48c8c63d-ec4a-4d06-ba69-e9f99ced595e"
      },
      "execution_count": null,
      "outputs": [
        {
          "output_type": "stream",
          "name": "stdout",
          "text": [
            "('mumbai', 'coding', 'club')\n"
          ]
        }
      ]
    },
    {
      "cell_type": "code",
      "source": [
        "a=[2,3,4,5]\n",
        "b=[2,3,4,5]\n",
        "a.extend(b)\n",
        "print(a)"
      ],
      "metadata": {
        "colab": {
          "base_uri": "https://localhost:8080/"
        },
        "id": "nG6ziEeF4wjW",
        "outputId": "23506e1c-1cac-4fd8-cf97-86bacf0dc08e"
      },
      "execution_count": null,
      "outputs": [
        {
          "output_type": "stream",
          "name": "stdout",
          "text": [
            "[2, 3, 4, 5, 2, 3, 4, 5]\n"
          ]
        }
      ]
    },
    {
      "cell_type": "code",
      "source": [
        "a=[2,3,4,5]\n",
        "b=[2,3,4,5]\n",
        "\n",
        "res=a+b\n",
        "print(res)"
      ],
      "metadata": {
        "colab": {
          "base_uri": "https://localhost:8080/"
        },
        "id": "n_Ik4Nvm62Lw",
        "outputId": "6d518a84-a3d1-4543-8bb5-454e089880cd"
      },
      "execution_count": null,
      "outputs": [
        {
          "output_type": "stream",
          "name": "stdout",
          "text": [
            "[2, 3, 4, 5, 2, 3, 4, 5]\n"
          ]
        }
      ]
    },
    {
      "cell_type": "code",
      "source": [
        "a=\" Mumbai, coding, club\"\n",
        "b=a.split()\n",
        "# print(b)\n",
        "for i in b:\n",
        "  if i.isupper():\n",
        "    r=i.islower()\n",
        "    b=r\n",
        "print(b)\n"
      ],
      "metadata": {
        "colab": {
          "base_uri": "https://localhost:8080/"
        },
        "id": "7tohZdy97ZK_",
        "outputId": "9231cd4f-cfc5-45fc-aa92-b89519d2f9e9"
      },
      "execution_count": null,
      "outputs": [
        {
          "output_type": "stream",
          "name": "stdout",
          "text": [
            "['Mumbai,', 'coding,', 'club']\n"
          ]
        }
      ]
    },
    {
      "cell_type": "code",
      "source": [
        "r=True\n",
        "def a():\n",
        "  for i in range(1,5):\n",
        "    print(i)\n",
        "  global r\n",
        "  if r:\n",
        "    r=False\n",
        "    a()\n",
        "  print(\"5\")\n",
        "\n",
        "a()\n"
      ],
      "metadata": {
        "colab": {
          "base_uri": "https://localhost:8080/"
        },
        "id": "KNDu5J5V79mn",
        "outputId": "094fdfc9-d634-4a40-b69c-b5f6b8885a27"
      },
      "execution_count": null,
      "outputs": [
        {
          "output_type": "stream",
          "name": "stdout",
          "text": [
            "1\n",
            "2\n",
            "3\n",
            "4\n",
            "1\n",
            "2\n",
            "3\n",
            "4\n",
            "5\n",
            "5\n"
          ]
        }
      ]
    },
    {
      "cell_type": "code",
      "source": [
        "def out(func):\n",
        "  def inner():\n",
        "    print(\"login\")\n",
        "    func()\n",
        "  return inner\n",
        "@out\n",
        "def num():\n",
        "  print(\"hii\")\n",
        "num()\n"
      ],
      "metadata": {
        "colab": {
          "base_uri": "https://localhost:8080/"
        },
        "id": "cIqx4J7O8gfq",
        "outputId": "9d262861-162d-4ab0-f1f7-485f7e99b7ea"
      },
      "execution_count": null,
      "outputs": [
        {
          "output_type": "stream",
          "name": "stdout",
          "text": [
            "login\n",
            "hii\n"
          ]
        }
      ]
    },
    {
      "cell_type": "code",
      "source": [
        "def out(func):\n",
        "  def inner(num):\n",
        "    if num%2==0:\n",
        "      print(\"even\")\n",
        "    else:\n",
        "      num%2!=0\n",
        "      print('odd')\n",
        "    func()\n",
        "  return inner\n",
        "@out\n",
        "def num():\n",
        "  print(\"number is\")\n",
        "num(5)\n",
        "num(6)\n"
      ],
      "metadata": {
        "colab": {
          "base_uri": "https://localhost:8080/"
        },
        "id": "mstua2WuDmad",
        "outputId": "d9b15016-ae30-4b8e-c539-69dcc938cf3c"
      },
      "execution_count": null,
      "outputs": [
        {
          "output_type": "stream",
          "name": "stdout",
          "text": [
            "odd\n",
            "number is\n",
            "even\n",
            "number is\n"
          ]
        }
      ]
    },
    {
      "cell_type": "code",
      "source": [
        "\n",
        "def even_odd(func):\n",
        "    def inner(n):\n",
        "        if n%2==0:\n",
        "            print(\"Even\")\n",
        "        else:\n",
        "            print(\"Odd\")\n",
        "        func(n)\n",
        "    return inner\n",
        "\n",
        "@even_odd\n",
        "def test(n):\n",
        "    print(\"number is:\",n)\n",
        "test(5)\n",
        "test(6)\n"
      ],
      "metadata": {
        "colab": {
          "base_uri": "https://localhost:8080/"
        },
        "id": "u6I2kvWKKkQO",
        "outputId": "406231d3-7eb5-485b-97c1-f930b72a97a1"
      },
      "execution_count": null,
      "outputs": [
        {
          "output_type": "stream",
          "name": "stdout",
          "text": [
            "Odd\n",
            "number is: 5\n",
            "Even\n",
            "number is: 6\n"
          ]
        }
      ]
    },
    {
      "cell_type": "markdown",
      "source": [
        "#27/04/2024"
      ],
      "metadata": {
        "id": "L2uEsB05sqma"
      }
    },
    {
      "cell_type": "code",
      "source": [
        "\n",
        "t= (5, 20, 3, 7, 6, 8)\n",
        "K = 2\n",
        "\n",
        "res = []\n",
        "t = list(sorted(t))\n",
        "print(t)\n",
        "\n",
        "for i, j in enumerate(t):\n",
        "\tif i < K or i >= len(t) - K:\n",
        "\t\tres.append(j)\n",
        "res = tuple(res)\n",
        "print(\"The extracted values : \" + str(res))\n"
      ],
      "metadata": {
        "id": "nq3G6zSDK0oa",
        "colab": {
          "base_uri": "https://localhost:8080/"
        },
        "outputId": "25be0f33-d357-4977-e0a1-2e69a408f0b2"
      },
      "execution_count": null,
      "outputs": [
        {
          "output_type": "stream",
          "name": "stdout",
          "text": [
            "[3, 5, 6, 7, 8, 20]\n",
            "The extracted values : (3, 5, 8, 20)\n"
          ]
        }
      ]
    },
    {
      "cell_type": "code",
      "source": [
        "\n",
        "def factorial(n):\n",
        "\n",
        "    return 1 if (n==1 or n==0) else n * factorial(n - 1)\n",
        "num = 8\n",
        "print(\"Factorial of\",num,\"is\",factorial(num))\n"
      ],
      "metadata": {
        "colab": {
          "base_uri": "https://localhost:8080/"
        },
        "id": "WLkQBb946YrZ",
        "outputId": "7d059e66-de3a-40eb-facb-3a1d45f42591"
      },
      "execution_count": null,
      "outputs": [
        {
          "output_type": "stream",
          "name": "stdout",
          "text": [
            "Factorial of 8 is 40320\n"
          ]
        }
      ]
    },
    {
      "cell_type": "code",
      "source": [
        "\n",
        "def factorial(n):\n",
        "\n",
        "    return 1 if (n==1 or n==0) else n * factorial(n - 1)\n",
        "num = 5\n",
        "print (\"Factorial of\",num,\"is\",factorial(num))\n"
      ],
      "metadata": {
        "colab": {
          "base_uri": "https://localhost:8080/"
        },
        "id": "SgoDbVs19biY",
        "outputId": "c3625780-c6b1-4032-e8d9-f144a9e13fc8"
      },
      "execution_count": null,
      "outputs": [
        {
          "output_type": "stream",
          "name": "stdout",
          "text": [
            "Factorial of 5 is 120\n"
          ]
        }
      ]
    },
    {
      "cell_type": "markdown",
      "source": [
        "###python programe simple intrest"
      ],
      "metadata": {
        "id": "pVljLqNJ_qXH"
      }
    },
    {
      "cell_type": "code",
      "source": [
        "\n",
        "def simple_int(p,t,r):\n",
        "\tprint('The principal is', p)\n",
        "\tprint('The time period is', t)\n",
        "\tprint('The rate of interest is',r)\n",
        "\n",
        "\tsi = (p * t * r)/100\n",
        "\n",
        "\tprint('The Simple Interest is', si)\n",
        "simple_int(8, 6, 8)\n"
      ],
      "metadata": {
        "colab": {
          "base_uri": "https://localhost:8080/"
        },
        "id": "LS0huoD-_AHT",
        "outputId": "472b58ea-b1cf-437f-edd3-814e235ec41d"
      },
      "execution_count": null,
      "outputs": [
        {
          "output_type": "stream",
          "name": "stdout",
          "text": [
            "The principal is 8\n",
            "The time period is 6\n",
            "The rate of interest is 8\n",
            "The Simple Interest is 3.84\n"
          ]
        }
      ]
    },
    {
      "cell_type": "code",
      "source": [
        "def simple_intrest(p,t,r):\n",
        "  print('principle is',p)\n",
        "  print('time period is',t)\n",
        "  print('rate of intrest ',r)\n",
        "\n",
        "  s=(p*t*r)/100\n",
        "\n",
        "  print('simple intrest is',s)\n",
        "\n",
        "P=int(input(\"enter principle amount:\"))\n",
        "T=int(input(\"enter time period :\"))\n",
        "R=int(input(\"enter rate of intrest :\"))\n",
        "simple_intrest(P,T,R)"
      ],
      "metadata": {
        "colab": {
          "base_uri": "https://localhost:8080/"
        },
        "id": "Ro-lX6C0_cJk",
        "outputId": "f8389ecc-dbc6-4429-bc90-bbf05638f59b"
      },
      "execution_count": null,
      "outputs": [
        {
          "output_type": "stream",
          "name": "stdout",
          "text": [
            "enter principle amount:67\n",
            "enter time period :54\n",
            "enter rate of intrest :89\n",
            "principle is 5\n",
            "time period is 7\n",
            "rate of intrest  8\n",
            "simple intrest is 2.8\n"
          ]
        }
      ]
    },
    {
      "cell_type": "markdown",
      "source": [
        "#29/04/2024"
      ],
      "metadata": {
        "id": "2L_tf-VhVmY7"
      }
    },
    {
      "cell_type": "code",
      "source": [
        "s = \"this is a test string\"\n",
        "\n",
        "words = s.split()\n",
        "\n",
        "c = [word.capitalize() for word in words]\n",
        "\n",
        "r = ' '.join(c)\n",
        "\n",
        "print(r)\n"
      ],
      "metadata": {
        "id": "jipsZJ0AA3ue",
        "colab": {
          "base_uri": "https://localhost:8080/"
        },
        "outputId": "acb9123d-89fc-4ee3-e198-84e2b2e17ee1"
      },
      "execution_count": null,
      "outputs": [
        {
          "output_type": "stream",
          "name": "stdout",
          "text": [
            "This Is A Test String\n"
          ]
        }
      ]
    },
    {
      "cell_type": "code",
      "source": [
        "s = \"this is a test string\"\n",
        "\n",
        "res = \"\"\n",
        "\n",
        "for i in range(len(s)):\n",
        "    if (i == 0 or s[i - 1] == \" \") and s[i].isalpha():\n",
        "        res += s[i].upper()\n",
        "    else:\n",
        "        res += s[i]\n",
        "print(res)\n"
      ],
      "metadata": {
        "colab": {
          "base_uri": "https://localhost:8080/"
        },
        "id": "sVE-lxxpl5xO",
        "outputId": "5e780a34-1c3b-48bf-d0bf-341759fee4bd"
      },
      "execution_count": null,
      "outputs": [
        {
          "output_type": "stream",
          "name": "stdout",
          "text": [
            "This Is A Test String\n"
          ]
        }
      ]
    },
    {
      "cell_type": "code",
      "source": [
        "s = \"this is a test string\"\n",
        "c = \"\"\n",
        "r = True\n",
        "\n",
        "for char in s:\n",
        "    if char.isalpha() and r:\n",
        "        c += char.upper()\n",
        "        r = False\n",
        "    else:\n",
        "        c += char\n",
        "\n",
        "    if char == \" \":\n",
        "        r = True\n",
        "print(c)\n"
      ],
      "metadata": {
        "colab": {
          "base_uri": "https://localhost:8080/"
        },
        "id": "bIo-OrNTmNWn",
        "outputId": "b685dc53-28db-40fc-f796-941d88a8fee9"
      },
      "execution_count": null,
      "outputs": [
        {
          "output_type": "stream",
          "name": "stdout",
          "text": [
            "This Is A Test String\n"
          ]
        }
      ]
    },
    {
      "cell_type": "code",
      "source": [
        "r=True\n",
        "def a():\n",
        "  for i in range(1,5):\n",
        "    print(i)\n",
        "  global r\n",
        "  if r:\n",
        "    r=False\n",
        "    a()\n",
        "  print(\"5\")\n",
        "\n",
        "a()\n"
      ],
      "metadata": {
        "colab": {
          "base_uri": "https://localhost:8080/"
        },
        "id": "oSMHq5QazdVF",
        "outputId": "f6888230-f822-4eff-fde6-715c6dc8a9d2"
      },
      "execution_count": null,
      "outputs": [
        {
          "output_type": "stream",
          "name": "stdout",
          "text": [
            "1\n",
            "2\n",
            "3\n",
            "4\n",
            "1\n",
            "2\n",
            "3\n",
            "4\n",
            "5\n",
            "5\n"
          ]
        }
      ]
    },
    {
      "cell_type": "code",
      "source": [
        "\n",
        "def even_odd(func):\n",
        "    def inner(n):\n",
        "        if n%2==0:\n",
        "            print(\"Even\")\n",
        "        else:\n",
        "            print(\"Odd\")\n",
        "        func(n)\n",
        "    return inner\n",
        "\n",
        "@even_odd\n",
        "def test(n):\n",
        "    print(\"number is:\",n)\n",
        "test(5)\n",
        "test(6)\n"
      ],
      "metadata": {
        "colab": {
          "base_uri": "https://localhost:8080/"
        },
        "id": "A0CWKnuszkmz",
        "outputId": "25fd6ff4-c1b5-4bfa-f8b7-df6673034745"
      },
      "execution_count": null,
      "outputs": [
        {
          "output_type": "stream",
          "name": "stdout",
          "text": [
            "Odd\n",
            "number is: 5\n",
            "Even\n",
            "number is: 6\n"
          ]
        }
      ]
    },
    {
      "cell_type": "markdown",
      "source": [
        "#30/04/2024"
      ],
      "metadata": {
        "id": "4SmV9M-Nz_M_"
      }
    },
    {
      "cell_type": "code",
      "source": [
        "a=['a','b','e','g','k','b','a','a','e','m']\n",
        "b={}\n",
        "for i in a:\n",
        "  if i in b:\n",
        "    b[i]+=1\n",
        "  else:\n",
        "    b[i]=1\n",
        "print(b)\n",
        "for k,v in b.items():\n",
        "  k==1\n",
        "  print(k)\n"
      ],
      "metadata": {
        "id": "7UwckMgNzoD8",
        "colab": {
          "base_uri": "https://localhost:8080/"
        },
        "outputId": "c73c4dae-5b06-46d7-b740-2f0a74e2a866"
      },
      "execution_count": null,
      "outputs": [
        {
          "output_type": "stream",
          "name": "stdout",
          "text": [
            "{'a': 3, 'b': 2, 'e': 2, 'g': 1, 'k': 1, 'm': 1}\n",
            "a\n",
            "b\n",
            "e\n",
            "g\n",
            "k\n",
            "m\n"
          ]
        }
      ]
    },
    {
      "cell_type": "code",
      "source": [
        "def check_datatype(check_method):\n",
        "  def inner_fun(number):\n",
        "\n",
        "      if type(number)==int:\n",
        "        return check_method(number)\n",
        "      else:\n",
        "        return \"not a interger\"\n",
        "\n",
        "  return inner_fun\n",
        "\n",
        "\n",
        "@check_datatype\n",
        "def check_even_odd(inp):\n",
        "  if inp%2==0:\n",
        "    print(\"even\")\n",
        "  else:\n",
        "    print(\"odd\")\n",
        "\n",
        "inp=122.6\n",
        "check_even_odd(inp)"
      ],
      "metadata": {
        "colab": {
          "base_uri": "https://localhost:8080/",
          "height": 36
        },
        "id": "_k73mjNz5l-I",
        "outputId": "47a25ab2-931a-4113-f8be-6df81e093335"
      },
      "execution_count": null,
      "outputs": [
        {
          "output_type": "execute_result",
          "data": {
            "text/plain": [
              "'not a interger'"
            ],
            "application/vnd.google.colaboratory.intrinsic+json": {
              "type": "string"
            }
          },
          "metadata": {},
          "execution_count": 25
        }
      ]
    },
    {
      "cell_type": "code",
      "source": [
        "def find_secount_non_repeted(lis):\n",
        "  coun=0\n",
        "  for i in lis:\n",
        "    if lis.count(i)>=2:\n",
        "      pass\n",
        "    else:\n",
        "      coun+=1\n",
        "      if coun==2:\n",
        "        return i\n",
        "  return \"none\"\n",
        "lis=['a','b','e','g','k','b','a','a','e','m']\n",
        "find_secount_non_repeted(lis)"
      ],
      "metadata": {
        "colab": {
          "base_uri": "https://localhost:8080/",
          "height": 36
        },
        "id": "p6op2PCo6JWC",
        "outputId": "d49e20a6-93f0-4ef4-9c1b-e71a92a3126f"
      },
      "execution_count": null,
      "outputs": [
        {
          "output_type": "execute_result",
          "data": {
            "text/plain": [
              "'k'"
            ],
            "application/vnd.google.colaboratory.intrinsic+json": {
              "type": "string"
            }
          },
          "metadata": {},
          "execution_count": 23
        }
      ]
    },
    {
      "cell_type": "code",
      "source": [
        "def check_datatype(check_method):\n",
        "  def inner_fun(number):\n",
        "\n",
        "      if type(number)==int:\n",
        "        return check_method(number)\n",
        "      else:\n",
        "        return \"not a interger\"\n",
        "  return inner_fun\n",
        "\n",
        "\n",
        "@check_datatype\n",
        "def check_even_odd(inp):\n",
        "  if inp%2==0:\n",
        "    print(\"even\")\n",
        "  else:\n",
        "    print(\"odd\")\n",
        "\n",
        "inp=\"hsjs\"\n",
        "check_even_odd(inp)"
      ],
      "metadata": {
        "colab": {
          "base_uri": "https://localhost:8080/",
          "height": 36
        },
        "id": "pS58TH-Z6JdL",
        "outputId": "5cead9a5-bc32-4ab8-ce9d-fb5ffa9d9703"
      },
      "execution_count": null,
      "outputs": [
        {
          "output_type": "execute_result",
          "data": {
            "text/plain": [
              "'not a interger'"
            ],
            "application/vnd.google.colaboratory.intrinsic+json": {
              "type": "string"
            }
          },
          "metadata": {},
          "execution_count": 34
        }
      ]
    },
    {
      "cell_type": "code",
      "source": [
        "def datatype(func):\n",
        "  def inner(num):\n",
        "    if type(num)==int:\n",
        "      return func(num)\n",
        "    else:\n",
        "      return \"not a integer\"\n",
        "  return inner\n",
        "@datatype\n",
        "def even_odd(i):\n",
        "  if i%2==0:\n",
        "    print('even')\n",
        "  else:\n",
        "    print('odd')\n",
        "i=9\n",
        "even_odd(i)"
      ],
      "metadata": {
        "colab": {
          "base_uri": "https://localhost:8080/"
        },
        "id": "lEpH0PbdK7IA",
        "outputId": "d08e0eba-957b-4c8c-dc0b-fbcacbbc4a23"
      },
      "execution_count": null,
      "outputs": [
        {
          "output_type": "stream",
          "name": "stdout",
          "text": [
            "odd\n"
          ]
        }
      ]
    },
    {
      "cell_type": "code",
      "source": [
        "s = \"this is a test string\"\n",
        "\n",
        "words = s.split()\n",
        "\n",
        "c = [word.capitalize() for word in words]\n",
        "\n",
        "r = ' '.join(c)\n",
        "\n",
        "print(r)\n"
      ],
      "metadata": {
        "id": "Qxn1ARlUXY5U",
        "colab": {
          "base_uri": "https://localhost:8080/"
        },
        "outputId": "01cbc890-eabc-4e6e-90e7-4bf8a82acdfb"
      },
      "execution_count": null,
      "outputs": [
        {
          "output_type": "stream",
          "name": "stdout",
          "text": [
            "This Is A Test String\n"
          ]
        }
      ]
    },
    {
      "cell_type": "markdown",
      "source": [
        "#01/05/2024"
      ],
      "metadata": {
        "id": "ZFuU_zm6mREN"
      }
    },
    {
      "cell_type": "code",
      "source": [
        "def outer():\n",
        "  print(\"jh\")\n",
        "  def inner():\n",
        "    print(\"hiii\")\n",
        "  return inner\n",
        "\n",
        "a=outer()\n",
        "a()"
      ],
      "metadata": {
        "id": "SLZ0XSMkMEyA",
        "colab": {
          "base_uri": "https://localhost:8080/"
        },
        "outputId": "aefd2ac8-d0eb-4ba0-dfcb-cf8f88560640"
      },
      "execution_count": null,
      "outputs": [
        {
          "output_type": "stream",
          "name": "stdout",
          "text": [
            "jh\n",
            "hiii\n"
          ]
        }
      ]
    },
    {
      "cell_type": "code",
      "source": [
        "def outer():\n",
        "  print(\"jh\")\n",
        "  def inner():\n",
        "    print(\"hiii\")\n",
        "  return inner()\n",
        "\n",
        "outer()\n"
      ],
      "metadata": {
        "colab": {
          "base_uri": "https://localhost:8080/"
        },
        "id": "d0WkdTJfi1fH",
        "outputId": "45986bda-8f0b-4ded-8f1e-7130a3478c5c"
      },
      "execution_count": null,
      "outputs": [
        {
          "output_type": "stream",
          "name": "stdout",
          "text": [
            "jh\n",
            "hiii\n"
          ]
        }
      ]
    },
    {
      "cell_type": "markdown",
      "source": [
        "###decorater"
      ],
      "metadata": {
        "id": "rBFBXLKVmMh6"
      }
    },
    {
      "cell_type": "code",
      "source": [
        "def A():\n",
        "  print('iih')\n",
        "def B(func):\n",
        "  print('gag')\n",
        "  return A\n",
        "ob=B(A)\n",
        "ob()\n"
      ],
      "metadata": {
        "colab": {
          "base_uri": "https://localhost:8080/"
        },
        "id": "U7ivNwBSjSIB",
        "outputId": "f3d066bf-7b96-4420-f81d-f34fa5b10b10"
      },
      "execution_count": null,
      "outputs": [
        {
          "output_type": "stream",
          "name": "stdout",
          "text": [
            "gag\n",
            "iih\n"
          ]
        }
      ]
    },
    {
      "cell_type": "code",
      "source": [
        "l=[2,2,21,23,22,12,12]\n",
        "d=[]\n",
        "for i in l:\n",
        "  if l.count(i)>1 and i not in d:\n",
        "    d.append(i)\n",
        "print(d)"
      ],
      "metadata": {
        "id": "RRMKW7U4je4m",
        "colab": {
          "base_uri": "https://localhost:8080/"
        },
        "outputId": "bb47c300-309f-4754-d9f3-f6caf3fd206f"
      },
      "execution_count": null,
      "outputs": [
        {
          "output_type": "stream",
          "name": "stdout",
          "text": [
            "[2, 12]\n"
          ]
        }
      ]
    },
    {
      "cell_type": "code",
      "source": [
        "l=[2,2,21,23,22,12,12]\n",
        "d=[]\n",
        "for i in l:\n",
        "  if l.count(i)>1 and i not in d:\n",
        "    d.append(i)\n",
        "print(d)"
      ],
      "metadata": {
        "colab": {
          "base_uri": "https://localhost:8080/"
        },
        "id": "KJtFHk3DbFIp",
        "outputId": "7ed1b054-0426-4315-8ea9-86423ba5eb2b"
      },
      "execution_count": null,
      "outputs": [
        {
          "output_type": "stream",
          "name": "stdout",
          "text": [
            "[2, 12]\n"
          ]
        }
      ]
    },
    {
      "cell_type": "code",
      "source": [
        "a={'abc':1,'pqr':2,'xyz':3,'lmn':4,'str':5}\n",
        "lst=['abc','xyz','str']\n",
        "y={}\n",
        "for i in lst:\n",
        "  if i in a:\n",
        "    y[i]=a[i]\n",
        "print(y)"
      ],
      "metadata": {
        "colab": {
          "base_uri": "https://localhost:8080/"
        },
        "id": "_jVTBJk0bJfc",
        "outputId": "0ddf88be-3176-4fd0-afe5-4e130d0a81e8"
      },
      "execution_count": null,
      "outputs": [
        {
          "output_type": "stream",
          "name": "stdout",
          "text": [
            "{'abc': 1, 'xyz': 3, 'str': 5}\n"
          ]
        }
      ]
    },
    {
      "cell_type": "markdown",
      "source": [
        "#02/04/2024"
      ],
      "metadata": {
        "id": "g0SxrHaHbSdV"
      }
    },
    {
      "cell_type": "code",
      "source": [
        "l=['car','bus','bike','train']\n",
        "l1=[3,8,0,7]\n",
        "d={}\n",
        "for i in range(len(l)):\n",
        "  d.update({l[i]:l1[i]})\n",
        "print(d)\n"
      ],
      "metadata": {
        "colab": {
          "base_uri": "https://localhost:8080/"
        },
        "id": "iCdF9xFhbQ0H",
        "outputId": "fc1fc756-2bfd-42eb-d825-0e526a38552f"
      },
      "execution_count": null,
      "outputs": [
        {
          "output_type": "stream",
          "name": "stdout",
          "text": [
            "{'car': 3, 'bus': 8, 'bike': 0, 'train': 7}\n"
          ]
        }
      ]
    },
    {
      "cell_type": "code",
      "source": [
        "l=['car','bus','bike','train']\n",
        "l1=[3,8,0,7]\n",
        "d=dict(zip(l,l1))\n",
        "print(d)\n"
      ],
      "metadata": {
        "colab": {
          "base_uri": "https://localhost:8080/"
        },
        "id": "I7UnSi6K99D_",
        "outputId": "90432aa2-d310-42b0-9017-4e622afd9b3a"
      },
      "execution_count": null,
      "outputs": [
        {
          "output_type": "stream",
          "name": "stdout",
          "text": [
            "{'car': 3, 'bus': 8, 'bike': 0, 'train': 7}\n"
          ]
        }
      ]
    },
    {
      "cell_type": "code",
      "source": [
        "l=['car','bus','bike','train']\n",
        "d={i:len(i) for i in l}\n",
        "print(d)\n"
      ],
      "metadata": {
        "colab": {
          "base_uri": "https://localhost:8080/"
        },
        "id": "Gd4zqv6q99o6",
        "outputId": "a2cd3a71-17bc-411b-bfb4-d04fe3aeb9dd"
      },
      "execution_count": null,
      "outputs": [
        {
          "output_type": "stream",
          "name": "stdout",
          "text": [
            "{'car': 3, 'bus': 3, 'bike': 4, 'train': 5}\n"
          ]
        }
      ]
    },
    {
      "cell_type": "code",
      "source": [
        "\n",
        "l=['one','two','three','four','fifteen']\n",
        "d={i:len(i) for i in l}\n",
        "print(d)\n"
      ],
      "metadata": {
        "colab": {
          "base_uri": "https://localhost:8080/"
        },
        "id": "0MSub4Tk997B",
        "outputId": "d8e24788-097a-4fb3-e9fb-e90abaf90b71"
      },
      "execution_count": null,
      "outputs": [
        {
          "output_type": "stream",
          "name": "stdout",
          "text": [
            "{'one': 3, 'two': 3, 'three': 5, 'four': 4, 'fifteen': 7}\n"
          ]
        }
      ]
    },
    {
      "cell_type": "code",
      "source": [
        "l=['one','two','three','four']\n",
        "d={}\n",
        "for i in l:\n",
        "  d.update({i:len(i)})\n",
        "print(d)\n"
      ],
      "metadata": {
        "colab": {
          "base_uri": "https://localhost:8080/"
        },
        "id": "VCYkAEWO-HZi",
        "outputId": "e9fc0c1e-cd96-4176-b6c4-9ac4d82b795e"
      },
      "execution_count": null,
      "outputs": [
        {
          "output_type": "stream",
          "name": "stdout",
          "text": [
            "{'one': 3, 'two': 3, 'three': 5, 'four': 4}\n"
          ]
        }
      ]
    },
    {
      "cell_type": "markdown",
      "source": [
        "#03/05/2024"
      ],
      "metadata": {
        "id": "mw1edrna11KF"
      }
    },
    {
      "cell_type": "code",
      "source": [
        "d = [['a', 'b', 1, 2], ['c', 'd', 3, 4], ['e', 'f', 5, 6]]\n",
        "\n",
        "res = dict()\n",
        "for i in d:\n",
        "\tres[tuple(i[:2])] = tuple(i[2:])\n",
        "print(\"mapped Dictionary : \" + str(res))\n"
      ],
      "metadata": {
        "id": "ddauwK9q-Kim",
        "colab": {
          "base_uri": "https://localhost:8080/"
        },
        "outputId": "035a2976-946a-4d36-8163-ea6c587142b2"
      },
      "execution_count": null,
      "outputs": [
        {
          "output_type": "stream",
          "name": "stdout",
          "text": [
            "mapped Dictionary : {('a', 'b'): (1, 2), ('c', 'd'): (3, 4), ('e', 'f'): (5, 6)}\n"
          ]
        }
      ]
    },
    {
      "cell_type": "code",
      "source": [
        "t = [['a', 'b', 1, 2], ['c', 'd', 3, 4], ['e', 'f', 5, 6]]\n",
        "\n",
        "res = {tuple(sub[:2]): tuple(sub[2:]) for sub in t}\n",
        "\n",
        "print(res)\n"
      ],
      "metadata": {
        "colab": {
          "base_uri": "https://localhost:8080/"
        },
        "id": "TjZiAFKIs6gQ",
        "outputId": "09231507-75b3-488e-ede4-61a0600d8630"
      },
      "execution_count": null,
      "outputs": [
        {
          "output_type": "stream",
          "name": "stdout",
          "text": [
            "{('a', 'b'): (1, 2), ('c', 'd'): (3, 4), ('e', 'f'): (5, 6)}\n"
          ]
        }
      ]
    },
    {
      "cell_type": "code",
      "source": [
        "dt = [['a', 'b', 1, 2], ['c', 'd', 3, 4], ['e', 'f', 5, 6]]\n",
        "\n",
        "res = {(lst[0], lst[1]): tuple(lst[2:]) for lst in dt}\n",
        "\n",
        "print(res)\n"
      ],
      "metadata": {
        "colab": {
          "base_uri": "https://localhost:8080/"
        },
        "id": "ECVWWwz6u--J",
        "outputId": "a0fb971f-d30b-4bb8-e1aa-2b55d664f479"
      },
      "execution_count": null,
      "outputs": [
        {
          "output_type": "stream",
          "name": "stdout",
          "text": [
            "{('a', 'b'): (1, 2), ('c', 'd'): (3, 4), ('e', 'f'): (5, 6)}\n"
          ]
        }
      ]
    },
    {
      "cell_type": "code",
      "source": [
        "l = [['a', 'b', 1, 2], ['c', 'd', 3, 4], ['e', 'f', 5, 6]]\n",
        "\n",
        "result_dict = {}\n",
        "for i in l:\n",
        "\tkey = tuple(i[:2])\n",
        "\tvalue = tuple(i[2:])\n",
        "\tresult_dict[key] = value\n",
        "\n",
        "print(\"Dictionary : \" + str(result_dict))\n"
      ],
      "metadata": {
        "colab": {
          "base_uri": "https://localhost:8080/"
        },
        "id": "elx7nzmXvNil",
        "outputId": "723ecaa5-12f3-4636-d02f-d8885ef27ca7"
      },
      "execution_count": null,
      "outputs": [
        {
          "output_type": "stream",
          "name": "stdout",
          "text": [
            "Dictionary : {('a', 'b'): (1, 2), ('c', 'd'): (3, 4), ('e', 'f'): (5, 6)}\n"
          ]
        }
      ]
    },
    {
      "cell_type": "code",
      "source": [
        "\n",
        "def even_odd(func):\n",
        "    def inner(n):\n",
        "        if n%2==0:\n",
        "            print(\"Even\")\n",
        "        else:\n",
        "            print(\"Odd\")\n",
        "        func(n)\n",
        "    return inner\n",
        "\n",
        "@even_odd\n",
        "def test(n):\n",
        "    print(\"number is:\",n)\n",
        "test(5)\n",
        "test(6)\n"
      ],
      "metadata": {
        "colab": {
          "base_uri": "https://localhost:8080/"
        },
        "id": "jFpRcPsIvZ-_",
        "outputId": "402d361a-3aa4-4a96-888c-77b8d65686b4"
      },
      "execution_count": null,
      "outputs": [
        {
          "output_type": "stream",
          "name": "stdout",
          "text": [
            "Odd\n",
            "number is: 5\n",
            "Even\n",
            "number is: 6\n"
          ]
        }
      ]
    },
    {
      "cell_type": "markdown",
      "source": [
        "#04/05/2024"
      ],
      "metadata": {
        "id": "zVxfFVALucec"
      }
    },
    {
      "cell_type": "code",
      "source": [
        "d={'chocolate':10,'strawberry':5,'vanila':3}\n",
        "def add(**kwargs):\n",
        "  d.update(kwargs)\n",
        "  print(kwargs)\n",
        "def customer(*kwargs):\n",
        "  l=list(kwargs)\n",
        "  d[l[0]]-=l[1]\n",
        "# add(chocolate=11)\n",
        "# customer('strawberry',3)\n",
        "# print(d)\n",
        "add(mango=9)\n",
        "print(d)"
      ],
      "metadata": {
        "colab": {
          "base_uri": "https://localhost:8080/"
        },
        "id": "dPuqdC5V3orR",
        "outputId": "77b9d101-3fb8-441b-c9cf-3fdc717ae19d"
      },
      "execution_count": null,
      "outputs": [
        {
          "output_type": "stream",
          "name": "stdout",
          "text": [
            "{'mango': 9}\n",
            "{'chocolate': 10, 'strawberry': 5, 'vanila': 3, 'mango': 9}\n"
          ]
        }
      ]
    },
    {
      "cell_type": "code",
      "source": [
        "s = \"A, man, a plan, a canal: panama\"\n",
        "s = s.replace(',', '').replace(':', '').replace(' ','')\n",
        "print(s)\n"
      ],
      "metadata": {
        "id": "IU5vIoVOv5JF",
        "colab": {
          "base_uri": "https://localhost:8080/"
        },
        "outputId": "62c5b95c-0e0e-4b9e-d94f-c33b15b015ac"
      },
      "execution_count": null,
      "outputs": [
        {
          "output_type": "stream",
          "name": "stdout",
          "text": [
            "Amanaplanacanalpanama\n"
          ]
        }
      ]
    },
    {
      "cell_type": "code",
      "source": [
        "s = \"A, man, a plan, a Canal: Panama\"\n",
        "s = s.replace(',', '').replace(':', '').replace(' ', '')\n",
        "print(s)\n",
        "res=s.lower()\n",
        "print(res)\n",
        "r=res==res[::-1]\n",
        "print(r)\n"
      ],
      "metadata": {
        "colab": {
          "base_uri": "https://localhost:8080/"
        },
        "id": "a-7a51B23hq8",
        "outputId": "924dab71-f26d-44d9-9535-4e293d7686ce"
      },
      "execution_count": null,
      "outputs": [
        {
          "output_type": "stream",
          "name": "stdout",
          "text": [
            "AmanaplanaCanalPanama\n",
            "amanaplanacanalpanama\n",
            "True\n"
          ]
        }
      ]
    },
    {
      "cell_type": "code",
      "source": [
        "def pal(s):\n",
        "  return s==s[::-1]\n",
        "s='amanaplanacanalpanama'\n",
        "# s='apple'\n",
        "ob=pal(s)\n",
        "if ob:\n",
        "  print(\"palandrome\")\n",
        "else:\n",
        "  print(\"not palandrome\")\n"
      ],
      "metadata": {
        "colab": {
          "base_uri": "https://localhost:8080/"
        },
        "id": "5exJe2Jy3iBe",
        "outputId": "8856c37d-9d94-406c-ca79-4f627684c6e0"
      },
      "execution_count": null,
      "outputs": [
        {
          "output_type": "stream",
          "name": "stdout",
          "text": [
            "palandrome\n"
          ]
        }
      ]
    },
    {
      "cell_type": "code",
      "source": [
        "# d={'a':1,'bc':2,'bde':3}\n",
        "d={'a':1,'b':{'c':2,'d':{'e':3}}}\n"
      ],
      "metadata": {
        "id": "Vmj9buNc3iPM"
      },
      "execution_count": null,
      "outputs": []
    },
    {
      "cell_type": "code",
      "source": [
        "l=['a','r','s','e','x','p','O']\n",
        "v=['a','e','i','o','u']\n",
        "lam=lambda i: False if i in v else True\n",
        "res=filter(lam,l)\n",
        "res1=list(res)\n",
        "print(\"constant letters\",res1)"
      ],
      "metadata": {
        "colab": {
          "base_uri": "https://localhost:8080/"
        },
        "id": "08tUmkCM3i6z",
        "outputId": "605d0a18-bc02-4d58-edb1-526807e0ab3f"
      },
      "execution_count": null,
      "outputs": [
        {
          "output_type": "stream",
          "name": "stdout",
          "text": [
            "constant letters ['r', 's', 'x', 'p', 'O']\n"
          ]
        }
      ]
    },
    {
      "cell_type": "code",
      "source": [
        "d={'a':1,'b':{'c':2,'d':{'e':3}}}\n",
        "d1={}\n",
        "k = [i for i in d.keys()]\n",
        "for i in k:\n",
        "  if type(d[i])==dict:\n",
        "    for j in d[i]:\n",
        "      k=i+j\n",
        "      v=d[i][j]\n",
        "      d1.update({k:v})\n",
        "  else:\n",
        "    d1.update({i:d[i]})\n",
        "print(d1)"
      ],
      "metadata": {
        "colab": {
          "base_uri": "https://localhost:8080/"
        },
        "id": "NBM8UwI8-sgW",
        "outputId": "4870e4e7-6760-4f48-ee78-aa931963c575"
      },
      "execution_count": null,
      "outputs": [
        {
          "output_type": "stream",
          "name": "stdout",
          "text": [
            "{'a': 1, 'bc': 2, 'bd': {'e': 3}}\n"
          ]
        }
      ]
    },
    {
      "cell_type": "code",
      "source": [
        "d = {'a': 1, 'b': {'c': 2, 'd': {'e': 3}}}\n",
        "\n",
        "flattened_d = {}\n",
        "stack = [((), d)]\n",
        "\n",
        "while stack:\n",
        "    path, current = stack.pop()\n",
        "    for k, v in current.items():\n",
        "        if isinstance(v, dict):\n",
        "            if v:\n",
        "                stack.append((path + (k,), v))\n",
        "        else:\n",
        "            flattened_d[''.join(path + (k,))] = v\n",
        "\n",
        "print(flattened_d)\n"
      ],
      "metadata": {
        "colab": {
          "base_uri": "https://localhost:8080/"
        },
        "id": "adZkJR5PDCQu",
        "outputId": "477e6f6a-5db5-401d-88ab-db22b54c63a1"
      },
      "execution_count": null,
      "outputs": [
        {
          "output_type": "stream",
          "name": "stdout",
          "text": [
            "{'a': 1, 'bc': 2, 'bde': 3}\n"
          ]
        }
      ]
    },
    {
      "cell_type": "markdown",
      "source": [
        "#06/05/2024"
      ],
      "metadata": {
        "id": "YXP2V5BgGNGF"
      }
    },
    {
      "cell_type": "code",
      "source": [
        "a=['a','a','b','a','c','b']\n",
        "b=['a','b']\n",
        "d={}\n",
        "for j,i in enumerate(a,1):\n",
        "  if i in b:\n",
        "    if i in d:\n",
        "      d[i]+=[j]\n",
        "    else:\n",
        "      d[i]=[j]\n",
        "print(d)"
      ],
      "metadata": {
        "id": "01aLndVRMFVQ",
        "colab": {
          "base_uri": "https://localhost:8080/"
        },
        "outputId": "6f3fdcc1-de0b-4c24-a1e1-22a8705b88cc"
      },
      "execution_count": null,
      "outputs": [
        {
          "output_type": "stream",
          "name": "stdout",
          "text": [
            "{'a': [1, 2, 4], 'b': [3, 6]}\n"
          ]
        }
      ]
    },
    {
      "cell_type": "code",
      "source": [
        "a=['a','a','b','a','c','b']\n",
        "b=['a','b']\n",
        "d={}\n",
        "for j,i in enumerate(a,1):\n",
        "  if i in b:\n",
        "    if i in d:\n",
        "      d[i]+=[j]\n",
        "    else:\n",
        "      d[i]=[j]\n",
        "print(d)"
      ],
      "metadata": {
        "colab": {
          "base_uri": "https://localhost:8080/"
        },
        "id": "MqEOfFShhE9O",
        "outputId": "0069ffef-865b-4c5e-95ac-48d96e032440"
      },
      "execution_count": null,
      "outputs": [
        {
          "output_type": "stream",
          "name": "stdout",
          "text": [
            "{'a': [1, 2, 4], 'b': [3, 6]}\n"
          ]
        }
      ]
    },
    {
      "cell_type": "code",
      "source": [
        "\n",
        "str = \" Jan = January; Feb = February; Mar = March\"\n",
        "\n",
        "\n",
        "dictionary = dict(subString.split(\"=\") for subString in str.split(\";\"))\n",
        "\n",
        "print(dictionary)\n"
      ],
      "metadata": {
        "colab": {
          "base_uri": "https://localhost:8080/"
        },
        "id": "O6cEkWO9jwsy",
        "outputId": "df17eed6-4a52-4104-b8dc-be12832c054e"
      },
      "execution_count": null,
      "outputs": [
        {
          "output_type": "stream",
          "name": "stdout",
          "text": [
            "{' Jan ': ' January', ' Feb ': ' February', ' Mar ': ' March'}\n"
          ]
        }
      ]
    },
    {
      "cell_type": "code",
      "source": [
        "\n",
        "str1 = \"Jan, Feb, March\"\n",
        "keys = str1.split(\", \")\n",
        "d= {}\n",
        "\n",
        "for i in range(len(keys)):\n",
        "\td[keys[i]] = values[i]\n",
        "\n",
        "print(dictionary)\n"
      ],
      "metadata": {
        "colab": {
          "base_uri": "https://localhost:8080/"
        },
        "id": "yZgwXZJBn12_",
        "outputId": "41497d83-6dc8-4f95-c116-bb94e2c99298"
      },
      "execution_count": null,
      "outputs": [
        {
          "output_type": "stream",
          "name": "stdout",
          "text": [
            "{'Jan': 'January ', 'Feb': ' February ', 'March': ' March'}\n"
          ]
        }
      ]
    },
    {
      "cell_type": "code",
      "source": [
        "def pal(s):\n",
        "  return s==s[::-1]\n",
        "s='amanaplanacanalpanama'\n",
        "# s='apple'\n",
        "ob=pal(s)\n",
        "if ob:\n",
        "  print(\"palandrome\")\n",
        "else:\n",
        "  print(\"not palandrome\")\n"
      ],
      "metadata": {
        "colab": {
          "base_uri": "https://localhost:8080/"
        },
        "id": "Ht2daK97rSDW",
        "outputId": "05903a12-e6d0-47cf-fbef-ff1d8ef77fdc"
      },
      "execution_count": null,
      "outputs": [
        {
          "output_type": "stream",
          "name": "stdout",
          "text": [
            "palandrome\n"
          ]
        }
      ]
    },
    {
      "cell_type": "markdown",
      "source": [
        "#09/05/2024"
      ],
      "metadata": {
        "id": "KRZBpgk5-DL9"
      }
    },
    {
      "cell_type": "code",
      "source": [
        "l=[1,2,3,3,2,1,5]\n",
        "x={}\n",
        "y=0\n",
        "for i in l:\n",
        "  if i in x:\n",
        "    x[i]+=1\n",
        "  else:\n",
        "    x[i]=1\n",
        "for k,v in x.items():\n",
        "  if v!=1:\n",
        "    print(k)\n"
      ],
      "metadata": {
        "id": "ibAldzUZcnMt",
        "colab": {
          "base_uri": "https://localhost:8080/"
        },
        "outputId": "1b6b35d5-ded6-4e51-e5af-623a694ac2f7"
      },
      "execution_count": null,
      "outputs": [
        {
          "output_type": "stream",
          "name": "stdout",
          "text": [
            "1\n",
            "2\n",
            "3\n"
          ]
        }
      ]
    },
    {
      "cell_type": "code",
      "source": [
        "x=[('pqr',12),('abc',11),('xyz',10)]\n",
        "for i in range(len(x)):\n",
        "  for j in range(i+1,len(x)):\n",
        "    if x[i][1]>x[j][1]:\n",
        "      x[i],x[j]=x[j],x[i]\n",
        "print(x)"
      ],
      "metadata": {
        "colab": {
          "base_uri": "https://localhost:8080/"
        },
        "id": "Ye3Dzu7VY8iP",
        "outputId": "3ee7a6cf-23eb-4d43-bfb8-58dff1ed1858"
      },
      "execution_count": null,
      "outputs": [
        {
          "output_type": "stream",
          "name": "stdout",
          "text": [
            "[('xyz', 10), ('abc', 11), ('pqr', 12)]\n"
          ]
        }
      ]
    },
    {
      "cell_type": "code",
      "source": [
        "x=['apple','banana','cherry','kiwi','mango']\n",
        "n=[y for y in x if 'a' in y]\n",
        "print(n)"
      ],
      "metadata": {
        "colab": {
          "base_uri": "https://localhost:8080/"
        },
        "id": "dMiG_bwZZALc",
        "outputId": "6237b093-c7d6-4ed1-f40e-87f7ffdf72ca"
      },
      "execution_count": null,
      "outputs": [
        {
          "output_type": "stream",
          "name": "stdout",
          "text": [
            "['apple', 'banana', 'mango']\n"
          ]
        }
      ]
    },
    {
      "cell_type": "code",
      "source": [
        "d={'rajnish': 9, 'ravi': 10, 'sanjeev': 15, 'suraj': 32, 'yash': 2}\n",
        "x=0\n",
        "\n",
        "for i in d:\n",
        "  if d[i]>x:\n",
        "    x=d[i]\n",
        "\n",
        "print(x)"
      ],
      "metadata": {
        "colab": {
          "base_uri": "https://localhost:8080/"
        },
        "id": "nTcM1yIWZYak",
        "outputId": "e8ab5d40-2788-4c0c-d098-3e9c0264aa7f"
      },
      "execution_count": null,
      "outputs": [
        {
          "output_type": "stream",
          "name": "stdout",
          "text": [
            "32\n"
          ]
        }
      ]
    },
    {
      "cell_type": "code",
      "source": [
        "x=\"aaabbccccd\"\n",
        "y={}\n",
        "s=''\n",
        "for i in x:\n",
        "  if i in y:\n",
        "    y[i]+=1\n",
        "  else:\n",
        "      y[i]=1\n",
        "print(y)\n",
        "\n",
        "for k,v in y.items():\n",
        "  s1=k+str(v)\n",
        "  s+=''.join(s1)\n",
        "print(s)"
      ],
      "metadata": {
        "colab": {
          "base_uri": "https://localhost:8080/"
        },
        "id": "faLerJReZbFM",
        "outputId": "1d74377d-ec71-488d-d00a-6fd19b24bbdc"
      },
      "execution_count": null,
      "outputs": [
        {
          "output_type": "stream",
          "name": "stdout",
          "text": [
            "{'a': 3, 'b': 2, 'c': 4, 'd': 1}\n",
            "a3b2c4d1\n"
          ]
        }
      ]
    },
    {
      "cell_type": "markdown",
      "source": [
        "#10/05/2024"
      ],
      "metadata": {
        "id": "w9Yfx0v5s-ca"
      }
    },
    {
      "cell_type": "code",
      "source": [
        "a=\"helhlo\"\n",
        "d={}\n",
        "for i in a:\n",
        "  if i in d:\n",
        "    d[i]+=1\n",
        "  else:\n",
        "    d[i]=1\n",
        "print(d)"
      ],
      "metadata": {
        "id": "1B-huqoCZfj0",
        "colab": {
          "base_uri": "https://localhost:8080/"
        },
        "outputId": "71e52265-cfd4-44bb-edbb-8c5fcdaa0e25"
      },
      "execution_count": null,
      "outputs": [
        {
          "output_type": "stream",
          "name": "stdout",
          "text": [
            "{'h': 2, 'e': 1, 'l': 2, 'o': 1}\n"
          ]
        }
      ]
    },
    {
      "cell_type": "code",
      "source": [
        "a={'mumbai':40,'nagpur':36,'lucknow':100}\n",
        "for i in a:\n",
        "  # print(i)\n",
        "  for j in a:\n",
        "    # print(j)\n",
        "    if a[i]<a[j]:\n",
        "      a[i],a[j]=a[j],a[i]\n",
        "print(a)"
      ],
      "metadata": {
        "colab": {
          "base_uri": "https://localhost:8080/"
        },
        "id": "9KxiGqcfsh4N",
        "outputId": "bd5d8135-466c-465f-d8bd-154e7806404a"
      },
      "execution_count": null,
      "outputs": [
        {
          "output_type": "stream",
          "name": "stdout",
          "text": [
            "{'mumbai': 36, 'nagpur': 40, 'lucknow': 100}\n"
          ]
        }
      ]
    },
    {
      "cell_type": "code",
      "source": [
        "a={'mumbai':40,'nagpur':36,'lucknow':100}\n",
        "b=0\n",
        "for i in a:\n",
        "  if a[i]>b:\n",
        "    b=a[i]\n",
        "print(\"largest number in dicitionary\",b)"
      ],
      "metadata": {
        "colab": {
          "base_uri": "https://localhost:8080/"
        },
        "id": "Clci8JRQrqDp",
        "outputId": "4bec3107-9e0d-4b9d-bb6b-0997490b16f5"
      },
      "execution_count": null,
      "outputs": [
        {
          "output_type": "stream",
          "name": "stdout",
          "text": [
            "largest number in dicitionary 100\n"
          ]
        }
      ]
    },
    {
      "cell_type": "code",
      "source": [
        "st=\"storhing\"\n",
        "dt={}\n",
        "for i in st:\n",
        "  if i in dt:\n",
        "    dt[i]+=1\n",
        "  else:\n",
        "    dt[i]=1\n",
        "print(dt)"
      ],
      "metadata": {
        "colab": {
          "base_uri": "https://localhost:8080/"
        },
        "id": "Ykuy7VnasN_k",
        "outputId": "3d2b6250-82af-4e8f-b014-b1e8b99da2b3"
      },
      "execution_count": null,
      "outputs": [
        {
          "output_type": "stream",
          "name": "stdout",
          "text": [
            "{'s': 1, 't': 1, 'o': 1, 'r': 1, 'h': 1, 'i': 1, 'n': 1, 'g': 1}\n"
          ]
        }
      ]
    },
    {
      "cell_type": "code",
      "source": [
        "x=range(6)\n",
        "# print(x)\n",
        "for i in x:\n",
        "  print(i)"
      ],
      "metadata": {
        "colab": {
          "base_uri": "https://localhost:8080/"
        },
        "id": "kDFk3rwPy0rr",
        "outputId": "5bfc0ed4-e375-4a0c-b495-ffcec6ab9749"
      },
      "execution_count": null,
      "outputs": [
        {
          "output_type": "stream",
          "name": "stdout",
          "text": [
            "0\n",
            "1\n",
            "2\n",
            "3\n",
            "4\n",
            "5\n"
          ]
        }
      ]
    },
    {
      "cell_type": "markdown",
      "source": [
        "###using range function print even numbers"
      ],
      "metadata": {
        "id": "Id0Mxxn71PMh"
      }
    },
    {
      "cell_type": "code",
      "source": [
        "for i in range(2,15,2):\n",
        "  print(\"even numbers using by range function:\",i)"
      ],
      "metadata": {
        "colab": {
          "base_uri": "https://localhost:8080/"
        },
        "id": "87i7eZNMz8LW",
        "outputId": "767c425e-cca1-4503-85d0-2e3dc491d139"
      },
      "execution_count": null,
      "outputs": [
        {
          "output_type": "stream",
          "name": "stdout",
          "text": [
            "even numbers using by range function: 2\n",
            "even numbers using by range function: 4\n",
            "even numbers using by range function: 6\n",
            "even numbers using by range function: 8\n",
            "even numbers using by range function: 10\n",
            "even numbers using by range function: 12\n",
            "even numbers using by range function: 14\n"
          ]
        }
      ]
    },
    {
      "cell_type": "code",
      "source": [
        "for odd_num in range(0,15,1):\n",
        "  print(odd_num)"
      ],
      "metadata": {
        "colab": {
          "base_uri": "https://localhost:8080/"
        },
        "id": "dUXnhP1t0QD5",
        "outputId": "4e9d95f4-4c71-4cfb-e041-fe47f1c57ab7"
      },
      "execution_count": null,
      "outputs": [
        {
          "output_type": "stream",
          "name": "stdout",
          "text": [
            "0\n",
            "1\n",
            "2\n",
            "3\n",
            "4\n",
            "5\n",
            "6\n",
            "7\n",
            "8\n",
            "9\n",
            "10\n",
            "11\n",
            "12\n",
            "13\n",
            "14\n"
          ]
        }
      ]
    },
    {
      "cell_type": "markdown",
      "source": [
        "#11/05/2024"
      ],
      "metadata": {
        "id": "BKfGq5Rd0gG7"
      }
    },
    {
      "cell_type": "code",
      "source": [
        "st=\"storhing\"\n",
        "dt={}\n",
        "for i in st:\n",
        "  if i in dt:\n",
        "    dt[i]+=1\n",
        "  else:\n",
        "    dt[i]=1\n",
        "print(dt)"
      ],
      "metadata": {
        "id": "xS20yNpO1b-0",
        "colab": {
          "base_uri": "https://localhost:8080/"
        },
        "outputId": "ee6bae4e-f636-4f6a-a7a3-a1a4229ede6f"
      },
      "execution_count": null,
      "outputs": [
        {
          "output_type": "stream",
          "name": "stdout",
          "text": [
            "{'s': 1, 't': 1, 'o': 1, 'r': 1, 'h': 1, 'i': 1, 'n': 1, 'g': 1}\n"
          ]
        }
      ]
    },
    {
      "cell_type": "code",
      "source": [
        "a={'mumbai':40,'nagpur':36,'lucknow':100}\n",
        "for i in a:\n",
        "  # print(i)\n",
        "  for j in a:\n",
        "    # print(j)\n",
        "    if a[i]<a[j]:\n",
        "      a[i],a[j]=a[j],a[i]\n",
        "print(a)"
      ],
      "metadata": {
        "id": "cP9GESMh1j69",
        "colab": {
          "base_uri": "https://localhost:8080/"
        },
        "outputId": "8b7d5764-e89e-4239-fbd5-c310df1a9cda"
      },
      "execution_count": null,
      "outputs": [
        {
          "output_type": "stream",
          "name": "stdout",
          "text": [
            "{'mumbai': 36, 'nagpur': 40, 'lucknow': 100}\n"
          ]
        }
      ]
    },
    {
      "cell_type": "code",
      "source": [
        "list1 = [\"M\", \"na\", \"i\", \"ras\"]\n",
        "list2 = [\"y\", \"me\", \"s\", \"hida\"]\n",
        "list3=[i+j for i,j in zip(list1,list2)]\n",
        "print(list3)"
      ],
      "metadata": {
        "id": "GWBOkX2F1mIo",
        "colab": {
          "base_uri": "https://localhost:8080/"
        },
        "outputId": "fc200c37-f3d6-4861-dad8-d5bf416baefe"
      },
      "execution_count": null,
      "outputs": [
        {
          "output_type": "stream",
          "name": "stdout",
          "text": [
            "['My', 'name', 'is', 'rashida']\n"
          ]
        }
      ]
    },
    {
      "cell_type": "code",
      "source": [
        "a={'abc':1,'pqr':2,'xyz':3,'lmn':4,'str':5}\n",
        "lst=['abc','xyz','str']\n",
        "y={}\n",
        "for i in lst:\n",
        "  if i in a:\n",
        "    y[i]=a[i]\n",
        "print(y)"
      ],
      "metadata": {
        "colab": {
          "base_uri": "https://localhost:8080/"
        },
        "id": "RUTKUetrCW9S",
        "outputId": "233c900c-1b97-44f2-f164-7f69b46e7e30"
      },
      "execution_count": null,
      "outputs": [
        {
          "output_type": "stream",
          "name": "stdout",
          "text": [
            "{'abc': 1, 'xyz': 3, 'str': 5}\n"
          ]
        }
      ]
    },
    {
      "cell_type": "code",
      "source": [
        "lst=['rashida','zobia','anam','heena']\n",
        "for i in range(0,len(lst),2):\n",
        "  lst[i],lst[i+1]=lst[i+1],lst[i]\n",
        "print(lst)\n"
      ],
      "metadata": {
        "colab": {
          "base_uri": "https://localhost:8080/"
        },
        "id": "YEQRtTxLCfge",
        "outputId": "b02a93c8-4a87-43b6-edc8-e4258475ac32"
      },
      "execution_count": null,
      "outputs": [
        {
          "output_type": "stream",
          "name": "stdout",
          "text": [
            "['zobia', 'rashida', 'heena', 'anam']\n"
          ]
        }
      ]
    },
    {
      "cell_type": "markdown",
      "source": [
        "#13/05/2024"
      ],
      "metadata": {
        "id": "3S2CwA1FR2dL"
      }
    },
    {
      "cell_type": "code",
      "source": [
        "l=[2,2,21,23,22,12,12]\n",
        "d=[]\n",
        "for item in l:\n",
        "  if l.count(item)>1 and item not in d:\n",
        "    d.append(item)\n",
        "print(d)"
      ],
      "metadata": {
        "id": "KdITXv2SCoH6",
        "colab": {
          "base_uri": "https://localhost:8080/"
        },
        "outputId": "02d0b92d-21f2-4f62-923c-d14e6f4ad227"
      },
      "execution_count": null,
      "outputs": [
        {
          "output_type": "stream",
          "name": "stdout",
          "text": [
            "[2, 12]\n"
          ]
        }
      ]
    },
    {
      "cell_type": "code",
      "source": [
        "x=[0,1,0,3,2]\n",
        "for i in range(len(x)):\n",
        "  for j in range(len(x)):\n",
        "    if x[i]<x[j]:\n",
        "      x[i],x[j]=x[j],x[i]\n",
        "c=x.count(0)\n",
        "for i in range(c):\n",
        "  x.remove(0)\n",
        "  x.append(0)\n",
        "print(x)"
      ],
      "metadata": {
        "colab": {
          "base_uri": "https://localhost:8080/"
        },
        "id": "jzOYZ2egTxzN",
        "outputId": "0ffba418-295c-441b-e6ae-895e3b380d78"
      },
      "execution_count": null,
      "outputs": [
        {
          "output_type": "stream",
          "name": "stdout",
          "text": [
            "[1, 2, 3, 0, 0]\n"
          ]
        }
      ]
    },
    {
      "cell_type": "code",
      "source": [
        "x=\"aaabbccccd\"\n",
        "y={}\n",
        "s=''\n",
        "for i in x:\n",
        "  if i in y:\n",
        "    y[i]+=1\n",
        "  else:\n",
        "      y[i]=1\n",
        "print(y)\n",
        "\n",
        "for k,v in y.items():\n",
        "  s1=k+str(v)\n",
        "  s+=''.join(s1)\n",
        "print(s)"
      ],
      "metadata": {
        "colab": {
          "base_uri": "https://localhost:8080/"
        },
        "id": "zlUmcQTaT30J",
        "outputId": "ea7a80fe-4778-4110-b791-23cd96b74f20"
      },
      "execution_count": null,
      "outputs": [
        {
          "output_type": "stream",
          "name": "stdout",
          "text": [
            "{'a': 3, 'b': 2, 'c': 4, 'd': 1}\n",
            "a3b2c4d1\n"
          ]
        }
      ]
    },
    {
      "cell_type": "code",
      "source": [
        "x={'pqr':12,'xyz':11,'abc':13}\n",
        "y=list(x.keys())\n",
        "print(y)\n",
        "for i in range(len(y)):\n",
        "  for j in range(len(y)):\n",
        "    if y[i]<y[j]:\n",
        "      y[i],y[j]=y[j],y[i]\n",
        "print(y)\n"
      ],
      "metadata": {
        "colab": {
          "base_uri": "https://localhost:8080/"
        },
        "id": "bvZFCr2-T6Kx",
        "outputId": "c39deae5-46a1-4b8f-92a0-44d2705dd0e9"
      },
      "execution_count": null,
      "outputs": [
        {
          "output_type": "stream",
          "name": "stdout",
          "text": [
            "['pqr', 'xyz', 'abc']\n",
            "['abc', 'pqr', 'xyz']\n"
          ]
        }
      ]
    },
    {
      "cell_type": "code",
      "source": [
        "def func(dt):\n",
        "  x={}\n",
        "  for i, values in enumerate(dt[\"threshold\"]):\n",
        "\n",
        "    # print(values)\n",
        "    x[i]=list(values.values())\n",
        "  return x\n",
        "\n",
        "dt={\"threshold\":[{\"temp\":21,\"hum\":10,\"lux\":100},{\"temp\":26,\"hum\":20,\"lux\":150},{\"temp\":28,\"hum\":30,\"lux\":200}]}\n",
        "ot=func(dt)\n",
        "print(ot)\n"
      ],
      "metadata": {
        "colab": {
          "base_uri": "https://localhost:8080/"
        },
        "id": "t314rPxfUFbf",
        "outputId": "3cbf7a81-3cbf-484e-87ee-395f9a27e3c4"
      },
      "execution_count": null,
      "outputs": [
        {
          "output_type": "stream",
          "name": "stdout",
          "text": [
            "{0: [21, 10, 100], 1: [26, 20, 150], 2: [28, 30, 200]}\n"
          ]
        }
      ]
    },
    {
      "cell_type": "markdown",
      "source": [
        "#14/05/2024"
      ],
      "metadata": {
        "id": "3hvzczZLlew4"
      }
    },
    {
      "cell_type": "code",
      "source": [
        "lst=[1,2,3]\n",
        "res=lst.append(5)\n",
        "print(res)"
      ],
      "metadata": {
        "id": "byBoGHodUImT",
        "colab": {
          "base_uri": "https://localhost:8080/"
        },
        "outputId": "b596ff14-9195-4f71-9674-573baa17ecb8"
      },
      "execution_count": null,
      "outputs": [
        {
          "output_type": "stream",
          "name": "stdout",
          "text": [
            "None\n"
          ]
        }
      ]
    },
    {
      "cell_type": "code",
      "source": [
        "def decor1(func):\n",
        "   def wrapper():\n",
        "     return func().upper()\n",
        "   return wrapper\n",
        "\n",
        "def decor2(func):\n",
        "   def wrapper():\n",
        "     return func().split()\n",
        "   return wrapper\n",
        "\n",
        "@decor2\n",
        "@decor1\n",
        "def geet():\n",
        "    name=input('enter a name:')\n",
        "    surname=input('enter a surname:')\n",
        "    full_name=name+\" \"+surname\n",
        "    return full_name\n",
        "\n",
        "geet()\n",
        "# use of double decorator\n"
      ],
      "metadata": {
        "colab": {
          "base_uri": "https://localhost:8080/"
        },
        "id": "mKABlSASlHRN",
        "outputId": "bfd65b7f-1f7a-4ab8-805a-6533e6f65b01"
      },
      "execution_count": null,
      "outputs": [
        {
          "name": "stdout",
          "output_type": "stream",
          "text": [
            "enter a name:Rashida\n",
            "enter a surname:ansari\n"
          ]
        },
        {
          "output_type": "execute_result",
          "data": {
            "text/plain": [
              "['RASHIDA', 'ANSARI']"
            ]
          },
          "metadata": {},
          "execution_count": 29
        }
      ]
    },
    {
      "cell_type": "code",
      "source": [
        "a=\"1str25\"\n",
        "ot=26\n",
        "print(ord(\"9\"))"
      ],
      "metadata": {
        "colab": {
          "base_uri": "https://localhost:8080/"
        },
        "id": "ew0W8mj-nDCA",
        "outputId": "00630252-c8e1-416d-f62f-0a09505f05fb"
      },
      "execution_count": null,
      "outputs": [
        {
          "output_type": "stream",
          "name": "stdout",
          "text": [
            "57\n"
          ]
        }
      ]
    },
    {
      "cell_type": "code",
      "source": [
        "a=\"1str25\"\n",
        "b=a.split()\n",
        "# print(b)\n",
        "for i in b:\n",
        "  if i==type(int):\n",
        "    i+=1\n",
        "  else:\n",
        "    if i==type(str):\n",
        "      pass\n",
        "print()"
      ],
      "metadata": {
        "colab": {
          "base_uri": "https://localhost:8080/"
        },
        "id": "g6VAKR44BESh",
        "outputId": "86bd1762-225b-4a39-c78e-0af33951f7ae"
      },
      "execution_count": null,
      "outputs": [
        {
          "output_type": "stream",
          "name": "stdout",
          "text": [
            "\n"
          ]
        }
      ]
    },
    {
      "cell_type": "code",
      "source": [
        "a=\"1str25\"\n",
        "t=0\n",
        "for i in a:\n",
        "  if i.isdigit():\n",
        "    i=int(i)\n",
        "    t+=i\n",
        "print(t)"
      ],
      "metadata": {
        "colab": {
          "base_uri": "https://localhost:8080/"
        },
        "id": "WnhytYWXBxQ7",
        "outputId": "6836864e-dc39-4584-fbd6-07283b9452d4"
      },
      "execution_count": null,
      "outputs": [
        {
          "output_type": "stream",
          "name": "stdout",
          "text": [
            "8\n"
          ]
        }
      ]
    },
    {
      "cell_type": "code",
      "source": [
        "def decor1(func):\n",
        "   def wrapper():\n",
        "     return func().upper()\n",
        "   return wrapper\n",
        "\n",
        "def decor2(func):\n",
        "   def wrapper():\n",
        "     return func().split()\n",
        "   return wrapper\n",
        "\n",
        "@decor2\n",
        "@decor1\n",
        "def geet():\n",
        "    name=input('enter a name:')\n",
        "    surname=input('enter a surname:')\n",
        "    full_name=name+\" \"+surname\n",
        "    return full_name\n",
        "\n",
        "geet()"
      ],
      "metadata": {
        "colab": {
          "base_uri": "https://localhost:8080/"
        },
        "id": "vn8oCNWCnkkj",
        "outputId": "21cc8447-afd2-44df-fbbb-3427d0ac277f"
      },
      "execution_count": null,
      "outputs": [
        {
          "name": "stdout",
          "output_type": "stream",
          "text": [
            "enter a name:gh\n",
            "enter a surname:th\n"
          ]
        },
        {
          "output_type": "execute_result",
          "data": {
            "text/plain": [
              "['GH', 'TH']"
            ]
          },
          "metadata": {},
          "execution_count": 25
        }
      ]
    },
    {
      "cell_type": "code",
      "source": [
        "def out(func):\n",
        "  print(\"first\")\n",
        "  def inn():\n",
        "    print(\"outer\")\n",
        "    func()\n",
        "  return inn\n",
        "\n",
        "@out\n",
        "def ab():\n",
        "  print(\"ordinary\")\n",
        "\n"
      ],
      "metadata": {
        "colab": {
          "base_uri": "https://localhost:8080/"
        },
        "id": "q9w5pem_sNGj",
        "outputId": "ae68dce7-8c5e-4026-fbcf-86ca7a8fe8d3"
      },
      "execution_count": null,
      "outputs": [
        {
          "output_type": "stream",
          "name": "stdout",
          "text": [
            "first\n"
          ]
        }
      ]
    },
    {
      "cell_type": "code",
      "source": [
        "a=None\n",
        "print(type(a))"
      ],
      "metadata": {
        "colab": {
          "base_uri": "https://localhost:8080/"
        },
        "id": "ICzszzd4tUjA",
        "outputId": "1f0a9fc7-91dc-4efa-a67a-7a750a68eaea"
      },
      "execution_count": null,
      "outputs": [
        {
          "output_type": "stream",
          "name": "stdout",
          "text": [
            "<class 'NoneType'>\n"
          ]
        }
      ]
    },
    {
      "cell_type": "code",
      "source": [
        "a={'stg',1,3}\n",
        "a.add(2)\n",
        "print(a)"
      ],
      "metadata": {
        "colab": {
          "base_uri": "https://localhost:8080/"
        },
        "id": "2MQDUlVnvMOi",
        "outputId": "fc9fa31a-2df0-4385-d75f-ee4f9fea902c"
      },
      "execution_count": null,
      "outputs": [
        {
          "output_type": "stream",
          "name": "stdout",
          "text": [
            "{3, 1, 2, 'stg'}\n"
          ]
        }
      ]
    },
    {
      "cell_type": "markdown",
      "source": [
        "#15/05/2024"
      ],
      "metadata": {
        "id": "e-NHatziiRW9"
      }
    },
    {
      "cell_type": "code",
      "source": [
        "# Output : [[1], [2], [3, 3], [4, 4]]\n",
        "l = [1, 3, 4, 4, 2, 3]\n",
        "d = {}\n",
        "for i in l:\n",
        "    if i not in d:\n",
        "        d[i] = []\n",
        "    d[i].append(i)\n",
        "res = []\n",
        "for key in d:\n",
        "    res.append(d[key])\n",
        "\n",
        "for i in range(len(res)):\n",
        "    for j in range(i + 1, len(res)):\n",
        "        if res[i][0] > res[j][0]:\n",
        "            res[i], res[j] = res[j], res[i]\n",
        "print(res)\n"
      ],
      "metadata": {
        "id": "VNRnAQC80GN6",
        "colab": {
          "base_uri": "https://localhost:8080/"
        },
        "outputId": "a3ae638c-c8d5-4d12-8794-1a154c58d3e8"
      },
      "execution_count": null,
      "outputs": [
        {
          "output_type": "stream",
          "name": "stdout",
          "text": [
            "[[1], [2], [3, 3], [4, 4]]\n"
          ]
        }
      ]
    },
    {
      "cell_type": "code",
      "source": [
        "a = \"1str25\"\n",
        "num = \"\"\n",
        "numbers = []\n",
        "for char in a:\n",
        "    if char.isdigit():\n",
        "        num += char\n",
        "    else:\n",
        "        if num:\n",
        "            numbers.append(int(num))\n",
        "            num = \"\"\n",
        "if num:\n",
        "    numbers.append(int(num))\n",
        "res = sum(numbers)\n",
        "print(res)\n"
      ],
      "metadata": {
        "colab": {
          "base_uri": "https://localhost:8080/"
        },
        "id": "5dlham8pjgQ_",
        "outputId": "4c5c780b-f376-4e6f-ba2d-b2883127e933"
      },
      "execution_count": null,
      "outputs": [
        {
          "output_type": "stream",
          "name": "stdout",
          "text": [
            "26\n"
          ]
        }
      ]
    },
    {
      "cell_type": "code",
      "source": [
        "a = \"1str25\"\n",
        "\n",
        "num = \"\"\n",
        "total_sum = 0\n",
        "for char in a:\n",
        "    if '0' <= char <= '9':\n",
        "        num += char\n",
        "    else:\n",
        "        if num:\n",
        "            total_sum += int(num)\n",
        "            num = \"\"\n",
        "if num:\n",
        "    total_sum += int(num)\n",
        "print(total_sum)\n"
      ],
      "metadata": {
        "colab": {
          "base_uri": "https://localhost:8080/"
        },
        "id": "7Iha4hWhkFZI",
        "outputId": "13da98c4-d398-47f3-dd37-c6eaa89bf669"
      },
      "execution_count": null,
      "outputs": [
        {
          "output_type": "stream",
          "name": "stdout",
          "text": [
            "26\n"
          ]
        }
      ]
    },
    {
      "cell_type": "code",
      "source": [
        "l = [1, 3, 4, 4, 2, 3]\n",
        "\n",
        "ls = []\n",
        "\n",
        "for elem in l:\n",
        "    found = False\n",
        "    for group in ls:\n",
        "        if group[0] == elem:\n",
        "            group.append(elem)\n",
        "            found = True\n",
        "            break\n",
        "    if not found:\n",
        "        ls.append([elem])\n",
        "for i in range(len(ls)):\n",
        "    for j in range(0, len(ls) - i - 1):\n",
        "        if ls[j][0] > ls[j + 1][0]:\n",
        "            ls[j], ls[j + 1] = ls[j + 1], ls[j]\n",
        "print(ls)\n"
      ],
      "metadata": {
        "colab": {
          "base_uri": "https://localhost:8080/"
        },
        "id": "_wX05N-BkeYP",
        "outputId": "80e24420-e089-486e-f2ad-fd73b592a2b8"
      },
      "execution_count": null,
      "outputs": [
        {
          "output_type": "stream",
          "name": "stdout",
          "text": [
            "[[1], [2], [3, 3], [4, 4]]\n"
          ]
        }
      ]
    },
    {
      "cell_type": "code",
      "source": [
        "def outer(func):\n",
        "  def inner():\n",
        "    print(\"addition\")\n",
        "    n='Rashida doing python'\n",
        "    func()\n",
        "    return n\n",
        "  return inner\n",
        "\n",
        "@outer\n",
        "def sim():\n",
        "  print(\"i am software developer\")\n",
        "sim()"
      ],
      "metadata": {
        "colab": {
          "base_uri": "https://localhost:8080/",
          "height": 70
        },
        "id": "yQQxkNmzk_kn",
        "outputId": "6ff7083b-77b7-4291-dc71-b203cc4f7b41"
      },
      "execution_count": null,
      "outputs": [
        {
          "output_type": "stream",
          "name": "stdout",
          "text": [
            "addition\n",
            "i am software developer\n"
          ]
        },
        {
          "output_type": "execute_result",
          "data": {
            "text/plain": [
              "'Rashida doing python'"
            ],
            "application/vnd.google.colaboratory.intrinsic+json": {
              "type": "string"
            }
          },
          "metadata": {},
          "execution_count": 7
        }
      ]
    },
    {
      "cell_type": "markdown",
      "source": [
        "#16/05/2024"
      ],
      "metadata": {
        "id": "CCgHiJQIbzyO"
      }
    },
    {
      "cell_type": "code",
      "source": [
        "lst=[2,3,4,5,6,7]\n",
        "for i in range(0,len(lst),2):\n",
        "  if i+1<len(lst):\n",
        "    lst[i],lst[i+1]=lst[i+1],lst[i]\n",
        "print(lst)\n"
      ],
      "metadata": {
        "id": "9I0JpFBkSj0M",
        "colab": {
          "base_uri": "https://localhost:8080/"
        },
        "outputId": "5cccef66-860a-4c62-e878-20e362c368ee"
      },
      "execution_count": null,
      "outputs": [
        {
          "output_type": "stream",
          "name": "stdout",
          "text": [
            "[3, 2, 5, 4, 7, 6]\n"
          ]
        }
      ]
    },
    {
      "cell_type": "code",
      "source": [
        "x={'rashida':1,'zobia':2}\n",
        "y=('anam',3)\n",
        "z={**{y[0]:y[1]},**x}\n",
        "print(z)"
      ],
      "metadata": {
        "id": "Gj5hq7v4UOMi",
        "colab": {
          "base_uri": "https://localhost:8080/"
        },
        "outputId": "ff26f9cc-6266-40d0-ff94-02d1cd197b5b"
      },
      "execution_count": null,
      "outputs": [
        {
          "output_type": "stream",
          "name": "stdout",
          "text": [
            "{'anam': 3, 'rashida': 1, 'zobia': 2}\n"
          ]
        }
      ]
    },
    {
      "cell_type": "code",
      "source": [
        "lst=[2,32,4,54,53,22,11,67,5,87]\n",
        "\n",
        "sum=0\n",
        "product=1\n",
        "for i in lst:\n",
        "  sum=sum+i\n",
        "  product=product*i\n",
        "print('the sum of ',sum)\n",
        "print('the product of',product)\n"
      ],
      "metadata": {
        "colab": {
          "base_uri": "https://localhost:8080/"
        },
        "id": "2uBBeYG3RVdj",
        "outputId": "8cf585ab-01a1-42c4-f12d-2b730ae9fd78"
      },
      "execution_count": null,
      "outputs": [
        {
          "output_type": "stream",
          "name": "stdout",
          "text": [
            "the sum of  337\n",
            "the product of 5167601556480\n"
          ]
        }
      ]
    },
    {
      "cell_type": "code",
      "source": [
        "l=[2,2,21,23,22,12,12]\n",
        "d=[]\n",
        "for item in l:\n",
        "  if l.count(item)>1 and item not in d:\n",
        "    d.append(item)\n",
        "print(d)"
      ],
      "metadata": {
        "colab": {
          "base_uri": "https://localhost:8080/"
        },
        "id": "0-GHnTjoRhql",
        "outputId": "04081aba-95fd-4f8d-f95b-0eb602248485"
      },
      "execution_count": null,
      "outputs": [
        {
          "output_type": "stream",
          "name": "stdout",
          "text": [
            "[2, 12]\n"
          ]
        }
      ]
    },
    {
      "cell_type": "code",
      "source": [
        "l=[2,2,21,23,22,12,12]\n",
        "for i in l:\n",
        "  if l.count(i)>1:\n",
        "    l.remove(i)\n",
        "print(l)"
      ],
      "metadata": {
        "colab": {
          "base_uri": "https://localhost:8080/"
        },
        "id": "zxwjMnSyRn2Z",
        "outputId": "daf23716-060e-40e4-9dcc-e837fede01a9"
      },
      "execution_count": null,
      "outputs": [
        {
          "output_type": "stream",
          "name": "stdout",
          "text": [
            "[2, 21, 23, 22, 12]\n"
          ]
        }
      ]
    },
    {
      "cell_type": "markdown",
      "source": [
        "#17/05/2024"
      ],
      "metadata": {
        "id": "LLkw2pqmprAQ"
      }
    },
    {
      "cell_type": "code",
      "source": [
        "a=[1,1,3,4,5,6,7]\n",
        "l=[0,1,2,3,4,5,7]\n",
        "c=[0,1,2,3,4,5,7]\n"
      ],
      "metadata": {
        "id": "805rtPXyRrFy"
      },
      "execution_count": null,
      "outputs": []
    },
    {
      "cell_type": "code",
      "source": [
        "# l=[1,2,4,3,5,5,6,9]\n",
        "for i in range(len(l)):\n",
        "  if i ==l[i]:\n",
        "    print(l[i])"
      ],
      "metadata": {
        "colab": {
          "base_uri": "https://localhost:8080/"
        },
        "id": "KL8Raumr35qe",
        "outputId": "0a328065-e71d-4473-8faf-a28acfaf2202"
      },
      "execution_count": null,
      "outputs": [
        {
          "output_type": "stream",
          "name": "stdout",
          "text": [
            "0\n",
            "1\n",
            "2\n",
            "3\n",
            "4\n",
            "5\n"
          ]
        }
      ]
    },
    {
      "cell_type": "code",
      "source": [
        "a=\"abba\"\n",
        "b=\"dog cat cat dog\"\n",
        "\n",
        "for i in a:\n",
        "\n",
        "\n",
        "\n"
      ],
      "metadata": {
        "id": "jGKsVSQCvniQ"
      },
      "execution_count": null,
      "outputs": []
    },
    {
      "cell_type": "code",
      "source": [
        "x=\"you are a you\"\n",
        "y=\"i am a boy\"\n"
      ],
      "metadata": {
        "id": "cjhIA_Jqvn3k"
      },
      "execution_count": null,
      "outputs": []
    },
    {
      "cell_type": "code",
      "source": [
        "s='string123'\n",
        "st=s.split()\n",
        "# print(st)\n",
        "\n",
        "for i in st:\n",
        "  for j in i:\n",
        "    if type(j)==str and j.isdigit():\n",
        "      print(j, end='')\n",
        "print()\n",
        "\n"
      ],
      "metadata": {
        "colab": {
          "base_uri": "https://localhost:8080/"
        },
        "id": "ghT6ovoivoD0",
        "outputId": "48efdd7f-81b3-449d-c152-547240c763b6"
      },
      "execution_count": null,
      "outputs": [
        {
          "output_type": "stream",
          "name": "stdout",
          "text": [
            "123\n"
          ]
        }
      ]
    },
    {
      "cell_type": "code",
      "source": [
        "s = 'string123'\n",
        "\n",
        "result = ''.join([char for char in s if type(char) == str and not char.isdigit()])\n",
        "\n",
        "print(result)\n"
      ],
      "metadata": {
        "colab": {
          "base_uri": "https://localhost:8080/"
        },
        "id": "ugiFw4Pd5KJf",
        "outputId": "0def5189-751e-424e-da1c-d78d449d9d83"
      },
      "execution_count": null,
      "outputs": [
        {
          "output_type": "stream",
          "name": "stdout",
          "text": [
            "string\n"
          ]
        }
      ]
    },
    {
      "cell_type": "code",
      "source": [
        "s='working 123'\n",
        "st=s.split()\n",
        "# print(st)\n",
        "\n",
        "for i in st:\n",
        "  for char in i:\n",
        "    if type(char)==str and not char.isdigit():\n",
        "      print(char, end='')"
      ],
      "metadata": {
        "colab": {
          "base_uri": "https://localhost:8080/"
        },
        "id": "S6qRoa4F8FiG",
        "outputId": "ede61648-c301-4695-c286-7cdb52a4274c"
      },
      "execution_count": null,
      "outputs": [
        {
          "output_type": "stream",
          "name": "stdout",
          "text": [
            "working"
          ]
        }
      ]
    },
    {
      "cell_type": "code",
      "source": [
        "a = \"abba\"\n",
        "b = \"dog cat cat dog\"\n",
        "\n",
        "words = b.split()\n",
        "\n",
        "if len(set(a)) != len(set(words)) or len(a) != len(words):\n",
        "    print(False)\n",
        "else:\n",
        "    print([a.index(char) for char in a] == [words.index(word) for word in words])\n"
      ],
      "metadata": {
        "colab": {
          "base_uri": "https://localhost:8080/"
        },
        "id": "zQce453_6loh",
        "outputId": "40c20a7a-8d85-48bf-ee9f-570934a7d25a"
      },
      "execution_count": null,
      "outputs": [
        {
          "output_type": "stream",
          "name": "stdout",
          "text": [
            "True\n"
          ]
        }
      ]
    },
    {
      "cell_type": "markdown",
      "source": [
        "#21/05/2024"
      ],
      "metadata": {
        "id": "SepfDlfohp0C"
      }
    },
    {
      "cell_type": "code",
      "source": [
        "test_set = {6, 4, 2, 7, 9}\n",
        "\n",
        "up_ele = [1, 5, 10]\n",
        "\n",
        "test_set.update(up_ele)\n",
        "\n",
        "print(\"Set after adding elements : \" + str(test_set))\n"
      ],
      "metadata": {
        "id": "B4Xux42L8qkK",
        "colab": {
          "base_uri": "https://localhost:8080/"
        },
        "outputId": "59166c2d-d413-4924-bb5b-0c0392981e7c"
      },
      "execution_count": null,
      "outputs": [
        {
          "output_type": "stream",
          "name": "stdout",
          "text": [
            "Set after adding elements : {1, 2, 4, 5, 6, 7, 9, 10}\n"
          ]
        }
      ]
    },
    {
      "cell_type": "code",
      "source": [
        "\n",
        "from itertools import product\n",
        "\n",
        "test_dict = {'month' : [1, 2, 3],'name' : ['Jan', 'Feb', 'March']}\n",
        "res = dict(zip(test_dict['month'], test_dict['name']))\n",
        "\n",
        "print(\" dictionary : \" + str(res))\n"
      ],
      "metadata": {
        "colab": {
          "base_uri": "https://localhost:8080/"
        },
        "id": "BVSEOO_9Tns5",
        "outputId": "73b03111-dcc1-453c-b1d4-1a440798e69a"
      },
      "execution_count": null,
      "outputs": [
        {
          "output_type": "stream",
          "name": "stdout",
          "text": [
            " dictionary : {1: 'Jan', 2: 'Feb', 3: 'March'}\n"
          ]
        }
      ]
    },
    {
      "cell_type": "code",
      "source": [
        "\n",
        "test_dict = {'month' : [1, 2, 3],'name' : ['Jan', 'Feb', 'March']}\n",
        "x=list(test_dict.values())\n",
        "a=x[0]\n",
        "b=x[1]\n",
        "d=dict()\n",
        "for i in range(0,len(a)):\n",
        "\td[a[i]]=b[i]\n",
        "print(\" dictionary : \" + str(d))\n"
      ],
      "metadata": {
        "colab": {
          "base_uri": "https://localhost:8080/"
        },
        "id": "ZPHrD-nMTzSr",
        "outputId": "80ab23d9-a652-4ff1-fc9c-5590db4b3787"
      },
      "execution_count": null,
      "outputs": [
        {
          "output_type": "stream",
          "name": "stdout",
          "text": [
            " dictionary : {1: 'Jan', 2: 'Feb', 3: 'March'}\n"
          ]
        }
      ]
    },
    {
      "cell_type": "code",
      "source": [
        "test_dict = {'month': [1, 2, 3], 'name': ['Jan', 'Feb', 'March']}\n",
        "res = {test_dict['month'][i]: test_dict['name'][i] for i in range(len(test_dict['month']))}\n",
        "print(\"Flattened dictionary:\", res)\n"
      ],
      "metadata": {
        "colab": {
          "base_uri": "https://localhost:8080/"
        },
        "id": "PpM4wMp2T-AK",
        "outputId": "c79ef25e-23cb-453b-859d-029e442cc9e8"
      },
      "execution_count": null,
      "outputs": [
        {
          "output_type": "stream",
          "name": "stdout",
          "text": [
            "Flattened dictionary: {1: 'Jan', 2: 'Feb', 3: 'March'}\n"
          ]
        }
      ]
    },
    {
      "cell_type": "code",
      "source": [
        "\n",
        "d = {'month' : [1, 2, 3],'name' : ['Jan', 'Feb', 'March']}\n",
        "\n",
        "res = {}\n",
        "for i in range(len(d['month'])):\n",
        "\tres[d['month'][i]] = d['name'][i]\n",
        "\n",
        "print(\" dictionary : \" + str(res))\n"
      ],
      "metadata": {
        "colab": {
          "base_uri": "https://localhost:8080/"
        },
        "id": "sFNzATXzUB6b",
        "outputId": "ac8db209-5a0c-437d-bb4f-4f7c9bb95d0e"
      },
      "execution_count": null,
      "outputs": [
        {
          "output_type": "stream",
          "name": "stdout",
          "text": [
            " dictionary : {1: 'Jan', 2: 'Feb', 3: 'March'}\n"
          ]
        }
      ]
    },
    {
      "cell_type": "markdown",
      "source": [
        "#22/05/2024"
      ],
      "metadata": {
        "id": "UBiY9aBqDI_s"
      }
    },
    {
      "cell_type": "code",
      "source": [
        "l=[2,2,21,23,22,12,12]\n",
        "d=[]\n",
        "for item in l:\n",
        "  if l.count(item)>1 and item not in d:\n",
        "    d.append(item)\n",
        "print(d)"
      ],
      "metadata": {
        "id": "ymPzL27EUHz6",
        "colab": {
          "base_uri": "https://localhost:8080/"
        },
        "outputId": "8587d079-3b59-473c-c95b-a72f72989d3d"
      },
      "execution_count": null,
      "outputs": [
        {
          "output_type": "stream",
          "name": "stdout",
          "text": [
            "[2, 12]\n"
          ]
        }
      ]
    },
    {
      "cell_type": "code",
      "source": [
        "l=[2,2,21,23,22,12,12]\n",
        "for i in l:\n",
        "  if l.count(i)>1:\n",
        "    l.remove(i)\n",
        "print(l)"
      ],
      "metadata": {
        "colab": {
          "base_uri": "https://localhost:8080/"
        },
        "id": "KIRfD6Y4yNxC",
        "outputId": "4a2e72f3-69c7-4196-8f34-67666282de8d"
      },
      "execution_count": null,
      "outputs": [
        {
          "output_type": "stream",
          "name": "stdout",
          "text": [
            "[2, 21, 23, 22, 12]\n"
          ]
        }
      ]
    },
    {
      "cell_type": "code",
      "source": [
        "x=[('pqr',12),('abc',11),('xyz',10)]\n",
        "for i in range(len(x)):\n",
        "  for j in range(i+1,len(x)):\n",
        "    if x[i][1]>x[j][1]:\n",
        "      x[i],x[j]=x[j],x[i]\n",
        "print(x)"
      ],
      "metadata": {
        "colab": {
          "base_uri": "https://localhost:8080/"
        },
        "id": "8vyt2-TTyN5K",
        "outputId": "129f47da-5fde-43be-b2e3-7d5665ba22dc"
      },
      "execution_count": null,
      "outputs": [
        {
          "output_type": "stream",
          "name": "stdout",
          "text": [
            "[('xyz', 10), ('abc', 11), ('pqr', 12)]\n"
          ]
        }
      ]
    },
    {
      "cell_type": "code",
      "source": [
        "x=[1,2]\n",
        "y=[11,12]\n",
        "z=[i+j for i,j in zip(x,y)]\n",
        "print(z)"
      ],
      "metadata": {
        "colab": {
          "base_uri": "https://localhost:8080/"
        },
        "id": "b42w_mVRyOEa",
        "outputId": "7d2913d1-9be5-49c9-8217-4546a296738c"
      },
      "execution_count": null,
      "outputs": [
        {
          "output_type": "stream",
          "name": "stdout",
          "text": [
            "[12, 14]\n"
          ]
        }
      ]
    },
    {
      "cell_type": "code",
      "source": [
        "dl={'ravi': 10, 'rajnish': 9,'sanjeev': 15, 'yash': 2, 'suraj': 32}\n",
        "s = list(dl.keys())\n",
        "s.sort()\n",
        "z={i:dl[i]for i in s}\n",
        "print(z)"
      ],
      "metadata": {
        "colab": {
          "base_uri": "https://localhost:8080/"
        },
        "id": "3MHGJwpTyUNE",
        "outputId": "c4052299-cc1c-4580-a2d4-21545401440e"
      },
      "execution_count": null,
      "outputs": [
        {
          "output_type": "stream",
          "name": "stdout",
          "text": [
            "{'rajnish': 9, 'ravi': 10, 'sanjeev': 15, 'suraj': 32, 'yash': 2}\n"
          ]
        }
      ]
    },
    {
      "cell_type": "code",
      "source": [
        "dl={'ravi': 10, 'rajnish': 9,'sanjeev': 15, 'yash': 2, 'suraj': 32}\n",
        "x=sorted(dl.values())\n",
        "print(x)"
      ],
      "metadata": {
        "colab": {
          "base_uri": "https://localhost:8080/"
        },
        "id": "ZHeP-RwnXHy-",
        "outputId": "aee81bde-c6b9-4615-a065-3a28f117583c"
      },
      "execution_count": null,
      "outputs": [
        {
          "output_type": "stream",
          "name": "stdout",
          "text": [
            "[2, 9, 10, 15, 32]\n"
          ]
        }
      ]
    },
    {
      "cell_type": "markdown",
      "source": [
        "#23/05/2024"
      ],
      "metadata": {
        "id": "2bNZaKk42j7R"
      }
    },
    {
      "cell_type": "code",
      "source": [
        "dl={'rashida':21,'zobia':12,'heena':2,'anam':5}\n",
        "z=list(dl.values())\n",
        "print(z)\n",
        "for i in range(len(z)):\n",
        "  for j in range(len(z)):\n",
        "    if z[i]<z[j]:\n",
        "      z[i],z[j]=z[j],z[i]\n",
        "# print(z)\n",
        "# print(z[-1])\n",
        "for k,v in dl.items():\n",
        "  if v==z[-2]:\n",
        "    print({k,v})\n"
      ],
      "metadata": {
        "id": "RNLfs8nMXLRn",
        "colab": {
          "base_uri": "https://localhost:8080/"
        },
        "outputId": "deca1bf1-c1e7-404a-eee4-71ae8a5f8988"
      },
      "execution_count": null,
      "outputs": [
        {
          "output_type": "stream",
          "name": "stdout",
          "text": [
            "[21, 12, 2, 5]\n",
            "{'zobia', 12}\n"
          ]
        }
      ]
    },
    {
      "cell_type": "code",
      "source": [
        "l= {'a':500, 'b':584, 'c': 560,'d':400, 'e':5874, 'f': 20}\n",
        "x=list(l.values())\n",
        "# print(x)\n",
        "for i in range(len(x)):\n",
        "  for j in range(len(x)):\n",
        "    if x[i]>x[j]:\n",
        "      x[i],x[j]=x[j],x[i]\n",
        "\n",
        "print(x)\n",
        "x=x[:3]\n",
        "for k,v in l.items():\n",
        "  for i in x:\n",
        "    if v==i:\n",
        "      print({k:v})"
      ],
      "metadata": {
        "colab": {
          "base_uri": "https://localhost:8080/"
        },
        "id": "PvNT4Hh52tbQ",
        "outputId": "dcaceeaf-0587-4712-8c78-af99ada442ea"
      },
      "execution_count": null,
      "outputs": [
        {
          "output_type": "stream",
          "name": "stdout",
          "text": [
            "[5874, 584, 560, 500, 400, 20]\n",
            "{'b': 584}\n",
            "{'c': 560}\n",
            "{'e': 5874}\n"
          ]
        }
      ]
    },
    {
      "cell_type": "code",
      "source": [
        "d = {'n1': [2, 3, 1], 'n2': [5, 1, 2], 'n3': [3, 2, 4]}\n",
        "\n",
        "for k, v in d.items():\n",
        "  # print(v)\n",
        "  for i in range(len(v)):\n",
        "    for j in range(i+1, len(v)):\n",
        "      if v[i] > v[j]:\n",
        "        v[i], v[j] = v[j], v[i]\n",
        "print(d)\n"
      ],
      "metadata": {
        "colab": {
          "base_uri": "https://localhost:8080/"
        },
        "id": "n8PgpuS83_m4",
        "outputId": "45bb6ef3-d764-4f44-878c-1d3befb230a6"
      },
      "execution_count": null,
      "outputs": [
        {
          "output_type": "stream",
          "name": "stdout",
          "text": [
            "{'n1': [1, 2, 3], 'n2': [1, 2, 5], 'n3': [2, 3, 4]}\n"
          ]
        }
      ]
    },
    {
      "cell_type": "code",
      "source": [
        "n=5\n",
        "for i in range(n):\n",
        "  for j in range(n-i):\n",
        "    print(\"*\", end=\" \")\n",
        "  print()\n"
      ],
      "metadata": {
        "colab": {
          "base_uri": "https://localhost:8080/"
        },
        "id": "u8e-uJXT4DAJ",
        "outputId": "d5dd3c39-89bc-474e-ed72-28d3ee7448bd"
      },
      "execution_count": null,
      "outputs": [
        {
          "output_type": "stream",
          "name": "stdout",
          "text": [
            "* * * * * \n",
            "* * * * \n",
            "* * * \n",
            "* * \n",
            "* \n"
          ]
        }
      ]
    },
    {
      "cell_type": "code",
      "source": [
        "n=9\n",
        "for i in range(n):\n",
        "  for j in range(n-i):\n",
        "    print(\"*\", end='')\n",
        "  print()"
      ],
      "metadata": {
        "colab": {
          "base_uri": "https://localhost:8080/"
        },
        "id": "hvdkkqJ64Myl",
        "outputId": "03e11a16-2890-436e-ca5e-99e7943affc1"
      },
      "execution_count": null,
      "outputs": [
        {
          "output_type": "stream",
          "name": "stdout",
          "text": [
            "*********\n",
            "********\n",
            "*******\n",
            "******\n",
            "*****\n",
            "****\n",
            "***\n",
            "**\n",
            "*\n"
          ]
        }
      ]
    },
    {
      "cell_type": "markdown",
      "source": [
        "#25/05/2024"
      ],
      "metadata": {
        "id": "AC7G-PKW418U"
      }
    },
    {
      "cell_type": "code",
      "source": [
        "a={1}\n",
        "print(type(a))\n"
      ],
      "metadata": {
        "id": "Pp0OZ0kX4M_4",
        "colab": {
          "base_uri": "https://localhost:8080/"
        },
        "outputId": "a296dd81-7007-4d58-a2d1-78af73c9969e"
      },
      "execution_count": null,
      "outputs": [
        {
          "output_type": "stream",
          "name": "stdout",
          "text": [
            "<class 'set'>\n"
          ]
        }
      ]
    },
    {
      "cell_type": "markdown",
      "source": [
        "#27/05/2024"
      ],
      "metadata": {
        "id": "ai-dym8HYEfq"
      }
    },
    {
      "cell_type": "code",
      "source": [
        "dict1 = {\"a\": 4, \"b\": 6}\n",
        "dict2 = {\"b\": 5, \"c\": 7}\n",
        "\n",
        "result = dict1.copy()\n",
        "\n",
        "for key, value in dict2.items():\n",
        "    if key in result:\n",
        "        result[key] += value\n",
        "    else:\n",
        "        result[key] = value\n",
        "\n",
        "print(result)"
      ],
      "metadata": {
        "id": "ES8l7vnHhetV",
        "colab": {
          "base_uri": "https://localhost:8080/"
        },
        "outputId": "c87b708a-50bc-4071-ff62-a11f88602568"
      },
      "execution_count": null,
      "outputs": [
        {
          "output_type": "stream",
          "name": "stdout",
          "text": [
            "{'a': 4, 'b': 11, 'c': 7}\n"
          ]
        }
      ]
    },
    {
      "cell_type": "code",
      "source": [
        "from collections import defaultdict\n",
        "\n",
        "dict1 = {\"a\": 4, \"b\": 6}\n",
        "dict2 = {\"b\": 6, \"c\": 7}\n",
        "\n",
        "result = defaultdict(int, dict1)\n",
        "\n",
        "for key, value in dict2.items():\n",
        "    result[key] += value\n",
        "result = dict(result)\n",
        "\n",
        "print(result)"
      ],
      "metadata": {
        "id": "Zk46QpvrlIvK",
        "colab": {
          "base_uri": "https://localhost:8080/"
        },
        "outputId": "022d02b2-e375-4d95-d78f-bc4d5767cf0c"
      },
      "execution_count": null,
      "outputs": [
        {
          "output_type": "stream",
          "name": "stdout",
          "text": [
            "{'a': 4, 'b': 12, 'c': 7}\n"
          ]
        }
      ]
    },
    {
      "cell_type": "code",
      "source": [
        "from collections import Counter\n",
        "\n",
        "dict1 = {\"a\": 4, \"b\": 6}\n",
        "dict2 = {\"b\": 5, \"c\": 7}\n",
        "\n",
        "counter1 = Counter(dict1)\n",
        "counter2 = Counter(dict2)\n",
        "\n",
        "result = counter1 + counter2\n",
        "result = dict(result)\n",
        "\n",
        "print(result)"
      ],
      "metadata": {
        "colab": {
          "base_uri": "https://localhost:8080/"
        },
        "id": "YuA6jbf-D0H7",
        "outputId": "db06a199-b0f7-4ddc-9033-7320434b57cb"
      },
      "execution_count": null,
      "outputs": [
        {
          "output_type": "stream",
          "name": "stdout",
          "text": [
            "{'a': 4, 'b': 11, 'c': 7}\n"
          ]
        }
      ]
    },
    {
      "cell_type": "code",
      "source": [
        "dict1 = {\"a\": 4, \"b\": 6}\n",
        "dict2 = {\"b\": 5, \"c\": 7}\n",
        "\n",
        "all_keys = set(dict1) | set(dict2)\n",
        "\n",
        "result = {key: dict1.get(key, 0) + dict2.get(key, 0) for key in all_keys}\n",
        "\n",
        "print(result)\n"
      ],
      "metadata": {
        "colab": {
          "base_uri": "https://localhost:8080/"
        },
        "id": "Sy5BNMI0EQ4p",
        "outputId": "9913d2f6-3d6c-476b-8da3-5941cd792284"
      },
      "execution_count": null,
      "outputs": [
        {
          "output_type": "stream",
          "name": "stdout",
          "text": [
            "{'b': 11, 'c': 7, 'a': 4}\n"
          ]
        }
      ]
    },
    {
      "cell_type": "code",
      "source": [
        "dict1 = {\"a\": 4, \"b\": 6}\n",
        "dict2 = {\"b\": 5, \"c\": 7}\n",
        "\n",
        "all_keys = set(dict1) | set(dict2)\n",
        "\n",
        "result = {key: dict1.get(key, 0) + dict2.get(key, 0) for key in all_keys}\n",
        "\n",
        "print(result)\n"
      ],
      "metadata": {
        "colab": {
          "base_uri": "https://localhost:8080/"
        },
        "id": "hK6BSo9cEWzo",
        "outputId": "a5eb2878-66af-4611-fba9-97bcc30c19b9"
      },
      "execution_count": null,
      "outputs": [
        {
          "output_type": "stream",
          "name": "stdout",
          "text": [
            "{'b': 11, 'c': 7, 'a': 4}\n"
          ]
        }
      ]
    },
    {
      "cell_type": "markdown",
      "source": [
        "#28/05/2024"
      ],
      "metadata": {
        "id": "ahj7EQK24cQU"
      }
    },
    {
      "cell_type": "code",
      "source": [
        "d= {\"a\": 4, \"b\": 6}\n",
        "d1 = {\"b\": 5, \"c\": 7}\n",
        "res=d.copy()\n",
        "for k,v in d1.items():\n",
        "  if k in res:\n",
        "    res[k]+=v\n",
        "  else:\n",
        "    res[k]=v\n",
        "print(res)\n"
      ],
      "metadata": {
        "id": "6QF1VMztEciY",
        "colab": {
          "base_uri": "https://localhost:8080/"
        },
        "outputId": "c1c9c32b-a74b-497c-f1ae-15f2facb1e81"
      },
      "execution_count": null,
      "outputs": [
        {
          "output_type": "stream",
          "name": "stdout",
          "text": [
            "{'a': 4, 'b': 11, 'c': 7}\n"
          ]
        }
      ]
    },
    {
      "cell_type": "code",
      "source": [
        "d= {\"a\": 4, \"b\": 6}\n",
        "d1 = {\"b\": 5, \"c\": 7}\n",
        "r=d.copy()\n",
        "for k,v in d1.items():\n",
        "  if k in r:\n",
        "    r[k]+=v\n",
        "  else:\n",
        "    r[k]=v\n",
        "print(r)"
      ],
      "metadata": {
        "colab": {
          "base_uri": "https://localhost:8080/"
        },
        "id": "U6o-tb_e4t3l",
        "outputId": "61b4fff2-baac-428f-9d00-30a8f8cbdb31"
      },
      "execution_count": null,
      "outputs": [
        {
          "output_type": "stream",
          "name": "stdout",
          "text": [
            "{'a': 4, 'b': 11, 'c': 7}\n"
          ]
        }
      ]
    },
    {
      "cell_type": "code",
      "source": [
        "a=[1,2,3,40]\n",
        "for i in range(0,len(a),2):\n",
        "  a[i],a[i+1]=a[i+1],a[i]\n",
        "print(a)"
      ],
      "metadata": {
        "colab": {
          "base_uri": "https://localhost:8080/"
        },
        "id": "ryBHiLJE4uAr",
        "outputId": "b1ddf242-6266-4675-b672-803600471d8d"
      },
      "execution_count": null,
      "outputs": [
        {
          "output_type": "stream",
          "name": "stdout",
          "text": [
            "[2, 1, 40, 3]\n"
          ]
        }
      ]
    },
    {
      "cell_type": "code",
      "source": [
        "lst=[2,3,4,5,6,7]\n",
        "for i in range(0,len(lst),2):\n",
        "  if i+1<len(lst):\n",
        "    lst[i],lst[i+1]=lst[i+1],lst[i]\n",
        "print(lst)"
      ],
      "metadata": {
        "colab": {
          "base_uri": "https://localhost:8080/"
        },
        "id": "2ssLTgMJ8Ax5",
        "outputId": "fc0e6770-41bb-4a50-d3ae-69c04e75f205"
      },
      "execution_count": null,
      "outputs": [
        {
          "output_type": "stream",
          "name": "stdout",
          "text": [
            "[3, 2, 5, 4, 7, 6]\n"
          ]
        }
      ]
    },
    {
      "cell_type": "code",
      "source": [
        "a=[1,2,3,4]\n",
        "for i in range(0,len(a),2):\n",
        "  if i+1<len(a):\n",
        "    a[i],a[i+1]=a[i+1],a[i]\n",
        "print(a)"
      ],
      "metadata": {
        "colab": {
          "base_uri": "https://localhost:8080/"
        },
        "id": "5G0h1Lss6Qqf",
        "outputId": "3bac2e76-c5be-46b8-ef89-7f197e0e50dc"
      },
      "execution_count": null,
      "outputs": [
        {
          "output_type": "stream",
          "name": "stdout",
          "text": [
            "[2, 1, 4, 3]\n"
          ]
        }
      ]
    },
    {
      "cell_type": "code",
      "source": [
        "c=[1,2,3,4]\n",
        "for i in range(0,len(c),2):\n",
        "  if i+1<len(c):\n",
        "    c[i],c[i+1]=c[i+1],c[i]\n",
        "print(c)"
      ],
      "metadata": {
        "colab": {
          "base_uri": "https://localhost:8080/"
        },
        "id": "T4XWMaYY7u3M",
        "outputId": "44b2e96f-0641-4f59-b973-a4791f15338b"
      },
      "execution_count": null,
      "outputs": [
        {
          "output_type": "stream",
          "name": "stdout",
          "text": [
            "[2, 1, 4, 3]\n"
          ]
        }
      ]
    },
    {
      "cell_type": "markdown",
      "source": [
        "#29/05/2024"
      ],
      "metadata": {
        "id": "6ZGdMxqjdH53"
      }
    },
    {
      "cell_type": "code",
      "source": [
        "def outer(func):\n",
        "  def inner():\n",
        "    print('dec')\n",
        "    func()\n",
        "  return inner\n",
        "@outer\n",
        "def ord():\n",
        "  print('norml')\n",
        "ord()"
      ],
      "metadata": {
        "id": "70srFXwc7vW0",
        "colab": {
          "base_uri": "https://localhost:8080/"
        },
        "outputId": "db7c3d96-4b5c-4551-ffd0-f4e4c9893c13"
      },
      "execution_count": null,
      "outputs": [
        {
          "output_type": "stream",
          "name": "stdout",
          "text": [
            "dec\n",
            "norml\n"
          ]
        }
      ]
    },
    {
      "cell_type": "code",
      "source": [
        "def decor1(func):\n",
        "   def wrapper():\n",
        "     return func().upper()\n",
        "   return wrapper\n",
        "\n",
        "def decor2(func):\n",
        "   def wrapper():\n",
        "     return func().split()\n",
        "   return wrapper\n",
        "\n",
        "@decor2\n",
        "@decor1\n",
        "def geet():\n",
        "    name=input('enter a name:')\n",
        "    surname=input('enter a surname:')\n",
        "    full_name=name+\" \"+surname\n",
        "    return full_name\n",
        "\n",
        "geet()\n",
        "# use of double decorator\n"
      ],
      "metadata": {
        "id": "_bD-pxAX7wEO",
        "colab": {
          "base_uri": "https://localhost:8080/"
        },
        "outputId": "cbbfb8c8-be84-4b32-9049-a476a7282d44"
      },
      "execution_count": null,
      "outputs": [
        {
          "name": "stdout",
          "output_type": "stream",
          "text": [
            "enter a name:rgsa\n",
            "enter a surname:gshh\n"
          ]
        },
        {
          "output_type": "execute_result",
          "data": {
            "text/plain": [
              "['RGSA', 'GSHH']"
            ]
          },
          "metadata": {},
          "execution_count": 3
        }
      ]
    },
    {
      "cell_type": "markdown",
      "source": [
        "#31/05/2024"
      ],
      "metadata": {
        "id": "O_zmxdIE6L-S"
      }
    },
    {
      "cell_type": "code",
      "source": [
        "def decor1(func):\n",
        "   print('hyh')\n",
        "   def wrapper():\n",
        "     return func().upper()\n",
        "   return wrapper\n",
        "\n",
        "def decor2(func):\n",
        "   print(\"first\")\n",
        "   def wrapper():\n",
        "     return func().split()\n",
        "   return wrapper\n",
        "\n",
        "@decor2\n",
        "@decor1\n",
        "def geet():\n",
        "    name=input('enter a name:')\n",
        "    surname=input('enter a surname:')\n",
        "    full_name=name+\" \"+surname\n",
        "    return full_name\n",
        "\n",
        "geet()\n",
        "# use of double decorator\n"
      ],
      "metadata": {
        "id": "_RO8zQ_ediee",
        "colab": {
          "base_uri": "https://localhost:8080/"
        },
        "outputId": "9daaca62-f12f-40d8-9624-4652938ef1b9"
      },
      "execution_count": null,
      "outputs": [
        {
          "name": "stdout",
          "output_type": "stream",
          "text": [
            "hyh\n",
            "first\n",
            "enter a name:rt\n",
            "enter a surname:hj\n"
          ]
        },
        {
          "output_type": "execute_result",
          "data": {
            "text/plain": [
              "['RT', 'HJ']"
            ]
          },
          "metadata": {},
          "execution_count": 3
        }
      ]
    },
    {
      "cell_type": "code",
      "source": [
        "lst=[2,32,4,54,53,22,11,67,5,87]\n",
        "lst1=0\n",
        "for i in lst:\n",
        "  if i>lst1:\n",
        "    lst1=i\n",
        "print(i)"
      ],
      "metadata": {
        "id": "9HVWU0XFJ_oP",
        "colab": {
          "base_uri": "https://localhost:8080/"
        },
        "outputId": "034627c0-775a-4a3e-bb0c-c13bb774eb62"
      },
      "execution_count": null,
      "outputs": [
        {
          "output_type": "stream",
          "name": "stdout",
          "text": [
            "87\n"
          ]
        }
      ]
    },
    {
      "cell_type": "code",
      "source": [
        "lst=[2,32,4,54,53,22,11,67,5,87]\n",
        "\n",
        "sum=0\n",
        "product=1\n",
        "for i in lst:\n",
        "  sum=sum+i\n",
        "  product=product*i\n",
        "print('the sum of ',sum)\n",
        "print('the product of',product)\n"
      ],
      "metadata": {
        "colab": {
          "base_uri": "https://localhost:8080/"
        },
        "id": "Kw3BvV8rWil7",
        "outputId": "bfb29ab9-19da-4912-c288-7ceb14a8377c"
      },
      "execution_count": null,
      "outputs": [
        {
          "output_type": "stream",
          "name": "stdout",
          "text": [
            "the sum of  337\n",
            "the product of 5167601556480\n"
          ]
        }
      ]
    },
    {
      "cell_type": "code",
      "source": [
        "l=[1,2,3,3,2,1,1,5]\n",
        "x={}\n",
        "y=0\n",
        "for i in l:\n",
        "  if i in x:\n",
        "    x[i]+=1\n",
        "  else:\n",
        "    x[i]=1\n",
        "# print(x)\n",
        "for k,v in x.items():\n",
        "  if v==1:\n",
        "    y+=1\n",
        "print(x)\n"
      ],
      "metadata": {
        "colab": {
          "base_uri": "https://localhost:8080/"
        },
        "id": "G6Cr2a_6WrCH",
        "outputId": "1b7b097d-8bc0-4797-d588-d8e055fd86d5"
      },
      "execution_count": null,
      "outputs": [
        {
          "output_type": "stream",
          "name": "stdout",
          "text": [
            "{1: 3, 2: 2, 3: 2, 5: 1}\n"
          ]
        }
      ]
    },
    {
      "cell_type": "markdown",
      "source": [
        "#01/06/2024"
      ],
      "metadata": {
        "id": "hws-OnleXxsD"
      }
    },
    {
      "cell_type": "code",
      "source": [
        "l=[1,2,3,3,2,1,1,5]\n",
        "x={}\n",
        "y=0\n",
        "for i in l:\n",
        "  if i in x:\n",
        "    x[i]+=1\n",
        "  else:\n",
        "    x[i]=1\n",
        "print(x)\n",
        "for k,v in x.items():\n",
        "  if v==1:\n",
        "    print(k)\n"
      ],
      "metadata": {
        "colab": {
          "base_uri": "https://localhost:8080/"
        },
        "id": "L49D7bJLXOOh",
        "outputId": "83375e67-a37a-43c4-a8c1-576aa11afb50"
      },
      "execution_count": null,
      "outputs": [
        {
          "output_type": "stream",
          "name": "stdout",
          "text": [
            "{1: 3, 2: 2, 3: 2, 5: 1}\n",
            "5\n"
          ]
        }
      ]
    },
    {
      "cell_type": "markdown",
      "source": [
        "#03/06/2024"
      ],
      "metadata": {
        "id": "42v0JavMsWfB"
      }
    },
    {
      "cell_type": "code",
      "source": [
        "\n",
        "string = \"python quiz practice code\"\n",
        "s = string.split()[::-1]\n",
        "l = []\n",
        "for i in s:\n",
        "\tl.append(i)\n",
        "print(\" \".join(l))\n"
      ],
      "metadata": {
        "id": "lPQsCzGMX3HK",
        "colab": {
          "base_uri": "https://localhost:8080/"
        },
        "outputId": "3789eda8-f9fa-48a1-e3d6-1d9c5f021fe2"
      },
      "execution_count": null,
      "outputs": [
        {
          "output_type": "stream",
          "name": "stdout",
          "text": [
            "code practice quiz python\n"
          ]
        }
      ]
    },
    {
      "cell_type": "code",
      "source": [
        "def findLen(str):\n",
        "\tcounter = 0\n",
        "\tfor i in str:\n",
        "\t\tcounter += 1\n",
        "\treturn counter\n",
        "\n",
        "\n",
        "str = \"geeks\"\n",
        "print(findLen(str))\n"
      ],
      "metadata": {
        "colab": {
          "base_uri": "https://localhost:8080/"
        },
        "id": "5J8a6dZgskPx",
        "outputId": "6d8d4b36-2330-47b8-f3ef-a835703a1f5d"
      },
      "execution_count": null,
      "outputs": [
        {
          "output_type": "stream",
          "name": "stdout",
          "text": [
            "5\n"
          ]
        }
      ]
    },
    {
      "cell_type": "code",
      "source": [
        "s = \"welcome to mumbai coding club\"\n",
        "\n",
        "words = s.split()\n",
        "\n",
        "words = [word[:-1] + word[-1].upper() for word in words]\n",
        "\n",
        "result = ' '.join(words)\n",
        "\n",
        "print(\"String before:\", s)\n",
        "print(\"String after:\", result)\n"
      ],
      "metadata": {
        "colab": {
          "base_uri": "https://localhost:8080/"
        },
        "id": "iSBiMaCIs3RM",
        "outputId": "6a250d1b-f319-48ee-c9b3-a7ae0878d231"
      },
      "execution_count": null,
      "outputs": [
        {
          "output_type": "stream",
          "name": "stdout",
          "text": [
            "String before: welcome to mumbai coding club\n",
            "String after: welcomE tO mumbaI codinG cluB\n"
          ]
        }
      ]
    },
    {
      "cell_type": "code",
      "source": [
        "\n",
        "s = \"welcome to geeksforgeeks\"\n",
        "print(\"String before:\", s)\n",
        "a = s.split()\n",
        "res = []\n",
        "for i in a:\n",
        "\tx = i[0].upper()+i[1:-1]+i[-1].upper()\n",
        "\tres.append(x)\n",
        "res = \" \".join(res)\n",
        "print(\"String after:\", res)\n"
      ],
      "metadata": {
        "colab": {
          "base_uri": "https://localhost:8080/"
        },
        "id": "5SG-gQ-Qv5cj",
        "outputId": "26e673c9-a677-4e7b-f0ae-1c3a2ed311bd"
      },
      "execution_count": null,
      "outputs": [
        {
          "output_type": "stream",
          "name": "stdout",
          "text": [
            "String before: welcome to geeksforgeeks\n",
            "String after: WelcomE TO GeeksforgeekS\n"
          ]
        }
      ]
    },
    {
      "cell_type": "code",
      "source": [
        "def decor1(func):\n",
        "   print('hyh')\n",
        "   def wrapper():\n",
        "     return func().upper()\n",
        "   return wrapper\n",
        "\n",
        "def decor2(func):\n",
        "   print(\"first\")\n",
        "   def wrapper():\n",
        "     return func().split()\n",
        "   return wrapper\n",
        "\n",
        "@decor2\n",
        "@decor1\n",
        "def geet():\n",
        "    name=input('enter a name:')\n",
        "    surname=input('enter a surname:')\n",
        "    full_name=name+\" \"+surname\n",
        "    return full_name\n",
        "\n",
        "geet()\n",
        "# use of double decorator\n"
      ],
      "metadata": {
        "colab": {
          "base_uri": "https://localhost:8080/"
        },
        "id": "hvmK5TzkwKKt",
        "outputId": "9c875d6d-3aa5-4333-9380-a5777bc23d3d"
      },
      "execution_count": null,
      "outputs": [
        {
          "name": "stdout",
          "output_type": "stream",
          "text": [
            "hyh\n",
            "first\n",
            "enter a name:thhjf\n",
            "enter a surname:rrr\n"
          ]
        },
        {
          "output_type": "execute_result",
          "data": {
            "text/plain": [
              "['THHJF', 'RRR']"
            ]
          },
          "metadata": {},
          "execution_count": 1
        }
      ]
    },
    {
      "cell_type": "markdown",
      "source": [
        "#05/05/2024"
      ],
      "metadata": {
        "id": "jPK0qewVz1aA"
      }
    },
    {
      "cell_type": "code",
      "source": [
        "def decor1(func):\n",
        "  #  print('hyh')\n",
        "   def wrapper():\n",
        "     return func().upper()\n",
        "   return wrapper\n",
        "\n",
        "def decor2(func):\n",
        "  #  print(\"first\")\n",
        "   def wrapper():\n",
        "     return func().split()\n",
        "   return wrapper\n",
        "\n",
        "@decor2\n",
        "@decor1\n",
        "def geet():\n",
        "    name=input('enter a name:')\n",
        "    surname=input('enter a surname:')\n",
        "    full_name=name+\" \"+surname\n",
        "    return full_name\n",
        "\n",
        "geet()\n",
        "# use of double decorator\n"
      ],
      "metadata": {
        "id": "bVAlTNYbL7mC",
        "colab": {
          "base_uri": "https://localhost:8080/"
        },
        "outputId": "b49a7d7f-42d0-4c39-b9bd-6da12a436634"
      },
      "execution_count": null,
      "outputs": [
        {
          "name": "stdout",
          "output_type": "stream",
          "text": [
            "enter a name:rashida\n",
            "enter a surname:ansari\n"
          ]
        },
        {
          "output_type": "execute_result",
          "data": {
            "text/plain": [
              "['RASHIDA', 'ANSARI']"
            ]
          },
          "metadata": {},
          "execution_count": 6
        }
      ]
    },
    {
      "cell_type": "code",
      "source": [
        "def uppercase_decorator(func):\n",
        "    def wrapper():\n",
        "        result = func()\n",
        "        return result.upper()\n",
        "    return wrapper\n",
        "\n",
        "def strip_decorator(func):\n",
        "    def wrapper():\n",
        "        result = func()\n",
        "        return result.strip()\n",
        "    return wrapper\n",
        "\n",
        "@uppercase_decorator\n",
        "@strip_decorator\n",
        "def say_hello():\n",
        "    return \"   Hello, world!   \"\n",
        "\n",
        "print(say_hello())  # Output will be \"HELLO, WORLD!\"\n"
      ],
      "metadata": {
        "colab": {
          "base_uri": "https://localhost:8080/"
        },
        "id": "ltv7dqBNz-Gt",
        "outputId": "a56eb2df-44b5-49d3-c996-b179662c852d"
      },
      "execution_count": null,
      "outputs": [
        {
          "output_type": "stream",
          "name": "stdout",
          "text": [
            "HELLO, WORLD!\n"
          ]
        }
      ]
    },
    {
      "cell_type": "code",
      "source": [],
      "metadata": {
        "id": "p-l2_KwuNHX8"
      },
      "execution_count": null,
      "outputs": []
    },
    {
      "cell_type": "code",
      "source": [
        "s = \"welcome to mumbai coding club\"\n",
        "\n",
        "words = s.split()\n",
        "\n",
        "words = [word[:-1] + word[-1].upper() for word in words]\n",
        "\n",
        "result = ' '.join(words)\n",
        "\n",
        "print(\"String before:\", s)\n",
        "print(\"String after:\", result)\n"
      ],
      "metadata": {
        "colab": {
          "base_uri": "https://localhost:8080/"
        },
        "id": "vW8M7q2wz-xp",
        "outputId": "29d32ceb-8b96-4b9c-bd23-393c26681ffe"
      },
      "execution_count": null,
      "outputs": [
        {
          "output_type": "stream",
          "name": "stdout",
          "text": [
            "String before: welcome to mumbai coding club\n",
            "String after: welcomE tO mumbaI codinG cluB\n"
          ]
        }
      ]
    },
    {
      "cell_type": "code",
      "source": [
        "test_set = {6, 4, 2, 7, 9}\n",
        "\n",
        "up_ele = [1, 5, 10]\n",
        "\n",
        "test_set.update(up_ele)\n",
        "\n",
        "print(\"Set after adding elements : \" + str(test_set))\n"
      ],
      "metadata": {
        "colab": {
          "base_uri": "https://localhost:8080/"
        },
        "id": "-i4h6nCM103D",
        "outputId": "44cbf879-cf00-45e2-a199-472a973475c5"
      },
      "execution_count": null,
      "outputs": [
        {
          "output_type": "stream",
          "name": "stdout",
          "text": [
            "Set after adding elements : {1, 2, 4, 5, 6, 7, 9, 10}\n"
          ]
        }
      ]
    },
    {
      "cell_type": "code",
      "source": [
        "lst=[2,3,4,5,6,7]\n",
        "for i in range(0,len(lst),2):\n",
        "  if i+1<len(lst):\n",
        "    lst[i],lst[i+1]=lst[i+1],lst[i]\n",
        "print(lst)"
      ],
      "metadata": {
        "colab": {
          "base_uri": "https://localhost:8080/"
        },
        "id": "FDqQi6E316Ox",
        "outputId": "1efc594f-680c-4cdb-f0e2-6e105073d139"
      },
      "execution_count": null,
      "outputs": [
        {
          "output_type": "stream",
          "name": "stdout",
          "text": [
            "[3, 2, 5, 4, 7, 6]\n"
          ]
        }
      ]
    },
    {
      "cell_type": "markdown",
      "source": [
        "#06/06/2024"
      ],
      "metadata": {
        "id": "RPaK-z5WQ60e"
      }
    },
    {
      "cell_type": "code",
      "source": [
        "def decor1(func):\n",
        "    def wrapper():\n",
        "        return func().upper()\n",
        "    return wrapper\n",
        "\n",
        "def decor2(func):\n",
        "    def wrapper():\n",
        "        return func().split()\n",
        "    return wrapper\n",
        "\n",
        "@decor2\n",
        "@decor1\n",
        "def geet():\n",
        "    name = input('Enter a name: ')\n",
        "    surname = input('Enter a surname: ')\n",
        "    full_name = name + \" \" + surname\n",
        "    return full_name\n",
        "\n",
        "result = geet()\n",
        "print(result)\n"
      ],
      "metadata": {
        "id": "qywe8oUk2An5",
        "colab": {
          "base_uri": "https://localhost:8080/"
        },
        "outputId": "c6570f80-5ded-4188-da37-daaf9035adaa"
      },
      "execution_count": null,
      "outputs": [
        {
          "output_type": "stream",
          "name": "stdout",
          "text": [
            "Enter a name: gh\n",
            "Enter a surname: hy\n",
            "['GH', 'HY']\n"
          ]
        }
      ]
    },
    {
      "cell_type": "code",
      "source": [
        "import pandas as pd\n",
        "mydataset = {\n",
        "  'cars': [\"BMW\", \"Volvo\", \"Ford\",\"rashida\"],\n",
        "  'passings': [3, 7, 2,1]\n",
        "}\n",
        "\n",
        "myvar = pd.DataFrame(mydataset)\n",
        "\n",
        "print(myvar)"
      ],
      "metadata": {
        "colab": {
          "base_uri": "https://localhost:8080/"
        },
        "id": "oOy2WRe1Q9na",
        "outputId": "b5f66a14-26e5-4193-9e17-f229be56330d"
      },
      "execution_count": null,
      "outputs": [
        {
          "output_type": "stream",
          "name": "stdout",
          "text": [
            "      cars  passings\n",
            "0      BMW         3\n",
            "1    Volvo         7\n",
            "2     Ford         2\n",
            "3  rashida         1\n"
          ]
        }
      ]
    },
    {
      "cell_type": "code",
      "source": [
        "print(pd.__version__)\n"
      ],
      "metadata": {
        "colab": {
          "base_uri": "https://localhost:8080/"
        },
        "id": "SB9uu0fUVzZ3",
        "outputId": "b86e8c3a-1d10-47e8-9ef8-076aaba91780"
      },
      "execution_count": null,
      "outputs": [
        {
          "output_type": "stream",
          "name": "stdout",
          "text": [
            "2.0.3\n"
          ]
        }
      ]
    },
    {
      "cell_type": "code",
      "source": [
        "import pandas as pd\n",
        "\n",
        "calories = {\"day1\": 420, \"day2\": 380, \"day3\": 390}\n",
        "\n",
        "myvar = pd.Series(calories)\n",
        "\n",
        "print(myvar)"
      ],
      "metadata": {
        "colab": {
          "base_uri": "https://localhost:8080/"
        },
        "id": "qaP3SykjWZw2",
        "outputId": "48dc540e-2fc7-4233-e87c-f3f2d4a30e5c"
      },
      "execution_count": null,
      "outputs": [
        {
          "output_type": "stream",
          "name": "stdout",
          "text": [
            "day1    420\n",
            "day2    380\n",
            "day3    390\n",
            "dtype: int64\n"
          ]
        }
      ]
    },
    {
      "cell_type": "markdown",
      "source": [
        "#8/06/2024"
      ],
      "metadata": {
        "id": "U1k-0p1-D8Dg"
      }
    },
    {
      "cell_type": "code",
      "source": [
        "def deco1(func):\n",
        "  def wrapper():\n",
        "    return func().upper()\n",
        "  return wrapper\n",
        "\n",
        "def deco2(func):\n",
        "  def wrapper():\n",
        "      return func().split()\n",
        "  return wrapper\n",
        "@deco1\n",
        "@deco2\n",
        "def ord():\n",
        "  name=input(\"enter name\")\n",
        "  surname=input(\"enter surname\")\n",
        "  res=name + \" \" + surname\n",
        "  return res\n",
        "result = geet()\n",
        "print(result)"
      ],
      "metadata": {
        "id": "6GnaLw17Y1FB",
        "colab": {
          "base_uri": "https://localhost:8080/"
        },
        "outputId": "870af970-fcc1-41a7-e1e4-8a00dfcfefbf"
      },
      "execution_count": null,
      "outputs": [
        {
          "output_type": "stream",
          "name": "stdout",
          "text": [
            "Enter a name: hg\n",
            "Enter a surname: gh\n",
            "['HG', 'GH']\n"
          ]
        }
      ]
    },
    {
      "cell_type": "code",
      "source": [
        "def decor1(func):\n",
        "    def wrapper():\n",
        "      return func().upper()\n",
        "    return wrapper\n",
        "\n",
        "def decor2(func):\n",
        "    def wrapper():\n",
        "      return func().split()\n",
        "    return wrapper\n",
        "\n",
        "@decor2\n",
        "@decor1\n",
        "def geet():\n",
        "    name = input('Enter a name: ')\n",
        "    surname = input('Enter a surname: ')\n",
        "    full_name = name + \" \" + surname\n",
        "    return full_name\n",
        "\n",
        "result = geet()\n",
        "print(result)\n"
      ],
      "metadata": {
        "colab": {
          "base_uri": "https://localhost:8080/"
        },
        "id": "qR9BFCi_EGMj",
        "outputId": "e225326e-fe22-4772-d358-928e2127535e"
      },
      "execution_count": null,
      "outputs": [
        {
          "output_type": "stream",
          "name": "stdout",
          "text": [
            "Enter a name: ghfh\n",
            "Enter a surname: yunmlk\n",
            "['GHFH', 'YUNMLK']\n"
          ]
        }
      ]
    },
    {
      "cell_type": "code",
      "source": [
        "def dec1(func):\n",
        "  def inner():\n",
        "    return func().upper()\n",
        "  return inner\n",
        "\n",
        "def dec2(func):\n",
        "  def inner2():\n",
        "    return\n"
      ],
      "metadata": {
        "id": "ndFtCXUoGOgf"
      },
      "execution_count": null,
      "outputs": []
    },
    {
      "cell_type": "code",
      "source": [
        "di1={'a':12,'b':2}\n",
        "di2={\"b\":4,'c':3}\n",
        "{i : di1.update({i:di2[i]}) if i not in di1 else di1.update({i:di1[i]+di2[i]})for i in di2}\n",
        "print(di1)"
      ],
      "metadata": {
        "colab": {
          "base_uri": "https://localhost:8080/"
        },
        "id": "w3Gn4ZyYaYEu",
        "outputId": "386241ef-0f5d-40a6-d8a8-fb7e75edb9ba"
      },
      "execution_count": null,
      "outputs": [
        {
          "output_type": "stream",
          "name": "stdout",
          "text": [
            "{'a': 12, 'b': 6, 'c': 3}\n"
          ]
        }
      ]
    },
    {
      "cell_type": "code",
      "source": [
        "di1={'a':12,'b':2}\n",
        "di2={\"b\":4,'c':3}\n",
        "d={}\n",
        "for i,j in zip(di1, di2):\n",
        "  if i not in d:\n",
        "    d[i]=di1[i]\n",
        "\n",
        "  if j not in d:\n",
        "    d[j]=di2[j]\n",
        "  else:\n",
        "    d[j]=d[j]+di2[j]\n",
        "print(d)\n"
      ],
      "metadata": {
        "colab": {
          "base_uri": "https://localhost:8080/"
        },
        "id": "wUAnSubNaYeA",
        "outputId": "51a7ce51-89ca-4b63-84ee-22503fcf5766"
      },
      "execution_count": null,
      "outputs": [
        {
          "output_type": "stream",
          "name": "stdout",
          "text": [
            "{'a': 12, 'b': 4, 'c': 3}\n"
          ]
        }
      ]
    },
    {
      "cell_type": "code",
      "source": [
        "di1={'a':12,'b':2}\n",
        "di2={\"b\":4,'c':3}\n",
        "d={}\n",
        "for i,j in zip(di1, di2):\n",
        "  if i not in d:\n",
        "    d[i]=di1[i]\n",
        "  else:\n",
        "    d[i]=d[i]+di1[i]\n",
        "  if j not in d:\n",
        "    d[j]=di2[j]\n",
        "  else:\n",
        "    d[j]=d[j]+di2[j]\n",
        "print(d)"
      ],
      "metadata": {
        "colab": {
          "base_uri": "https://localhost:8080/"
        },
        "id": "OB0YxrcJbbOJ",
        "outputId": "8a025db2-808e-419f-e640-90cc2f9e5b08"
      },
      "execution_count": null,
      "outputs": [
        {
          "output_type": "stream",
          "name": "stdout",
          "text": [
            "{'a': 12, 'b': 6, 'c': 3}\n"
          ]
        }
      ]
    },
    {
      "cell_type": "markdown",
      "source": [
        "#11/06/2024"
      ],
      "metadata": {
        "id": "DMggmLNPomk8"
      }
    },
    {
      "cell_type": "code",
      "source": [
        "import pandas as pd\n",
        "dict1={\n",
        "    \"name\":['zobia','rashida','huda','anam'],\n",
        "    \"marks\":[32,44,76,25],\n",
        "    \"city\":['mumbai','pune','kolkatta','jhansi']\n",
        "\n",
        "}\n",
        "res=pd.DataFrame(dict1)\n",
        "res"
      ],
      "metadata": {
        "id": "rB583pbHcdzI",
        "colab": {
          "base_uri": "https://localhost:8080/",
          "height": 175
        },
        "outputId": "36c9e598-1cbe-48ea-f718-f24848b72b63"
      },
      "execution_count": null,
      "outputs": [
        {
          "output_type": "execute_result",
          "data": {
            "text/plain": [
              "      name  marks      city\n",
              "0    zobia     32    mumbai\n",
              "1  rashida     44      pune\n",
              "2     huda     76  kolkatta\n",
              "3     anam     25    jhansi"
            ],
            "text/html": [
              "\n",
              "  <div id=\"df-98877c7e-3c80-4215-b69c-ec735b8678f6\" class=\"colab-df-container\">\n",
              "    <div>\n",
              "<style scoped>\n",
              "    .dataframe tbody tr th:only-of-type {\n",
              "        vertical-align: middle;\n",
              "    }\n",
              "\n",
              "    .dataframe tbody tr th {\n",
              "        vertical-align: top;\n",
              "    }\n",
              "\n",
              "    .dataframe thead th {\n",
              "        text-align: right;\n",
              "    }\n",
              "</style>\n",
              "<table border=\"1\" class=\"dataframe\">\n",
              "  <thead>\n",
              "    <tr style=\"text-align: right;\">\n",
              "      <th></th>\n",
              "      <th>name</th>\n",
              "      <th>marks</th>\n",
              "      <th>city</th>\n",
              "    </tr>\n",
              "  </thead>\n",
              "  <tbody>\n",
              "    <tr>\n",
              "      <th>0</th>\n",
              "      <td>zobia</td>\n",
              "      <td>32</td>\n",
              "      <td>mumbai</td>\n",
              "    </tr>\n",
              "    <tr>\n",
              "      <th>1</th>\n",
              "      <td>rashida</td>\n",
              "      <td>44</td>\n",
              "      <td>pune</td>\n",
              "    </tr>\n",
              "    <tr>\n",
              "      <th>2</th>\n",
              "      <td>huda</td>\n",
              "      <td>76</td>\n",
              "      <td>kolkatta</td>\n",
              "    </tr>\n",
              "    <tr>\n",
              "      <th>3</th>\n",
              "      <td>anam</td>\n",
              "      <td>25</td>\n",
              "      <td>jhansi</td>\n",
              "    </tr>\n",
              "  </tbody>\n",
              "</table>\n",
              "</div>\n",
              "    <div class=\"colab-df-buttons\">\n",
              "\n",
              "  <div class=\"colab-df-container\">\n",
              "    <button class=\"colab-df-convert\" onclick=\"convertToInteractive('df-98877c7e-3c80-4215-b69c-ec735b8678f6')\"\n",
              "            title=\"Convert this dataframe to an interactive table.\"\n",
              "            style=\"display:none;\">\n",
              "\n",
              "  <svg xmlns=\"http://www.w3.org/2000/svg\" height=\"24px\" viewBox=\"0 -960 960 960\">\n",
              "    <path d=\"M120-120v-720h720v720H120Zm60-500h600v-160H180v160Zm220 220h160v-160H400v160Zm0 220h160v-160H400v160ZM180-400h160v-160H180v160Zm440 0h160v-160H620v160ZM180-180h160v-160H180v160Zm440 0h160v-160H620v160Z\"/>\n",
              "  </svg>\n",
              "    </button>\n",
              "\n",
              "  <style>\n",
              "    .colab-df-container {\n",
              "      display:flex;\n",
              "      gap: 12px;\n",
              "    }\n",
              "\n",
              "    .colab-df-convert {\n",
              "      background-color: #E8F0FE;\n",
              "      border: none;\n",
              "      border-radius: 50%;\n",
              "      cursor: pointer;\n",
              "      display: none;\n",
              "      fill: #1967D2;\n",
              "      height: 32px;\n",
              "      padding: 0 0 0 0;\n",
              "      width: 32px;\n",
              "    }\n",
              "\n",
              "    .colab-df-convert:hover {\n",
              "      background-color: #E2EBFA;\n",
              "      box-shadow: 0px 1px 2px rgba(60, 64, 67, 0.3), 0px 1px 3px 1px rgba(60, 64, 67, 0.15);\n",
              "      fill: #174EA6;\n",
              "    }\n",
              "\n",
              "    .colab-df-buttons div {\n",
              "      margin-bottom: 4px;\n",
              "    }\n",
              "\n",
              "    [theme=dark] .colab-df-convert {\n",
              "      background-color: #3B4455;\n",
              "      fill: #D2E3FC;\n",
              "    }\n",
              "\n",
              "    [theme=dark] .colab-df-convert:hover {\n",
              "      background-color: #434B5C;\n",
              "      box-shadow: 0px 1px 3px 1px rgba(0, 0, 0, 0.15);\n",
              "      filter: drop-shadow(0px 1px 2px rgba(0, 0, 0, 0.3));\n",
              "      fill: #FFFFFF;\n",
              "    }\n",
              "  </style>\n",
              "\n",
              "    <script>\n",
              "      const buttonEl =\n",
              "        document.querySelector('#df-98877c7e-3c80-4215-b69c-ec735b8678f6 button.colab-df-convert');\n",
              "      buttonEl.style.display =\n",
              "        google.colab.kernel.accessAllowed ? 'block' : 'none';\n",
              "\n",
              "      async function convertToInteractive(key) {\n",
              "        const element = document.querySelector('#df-98877c7e-3c80-4215-b69c-ec735b8678f6');\n",
              "        const dataTable =\n",
              "          await google.colab.kernel.invokeFunction('convertToInteractive',\n",
              "                                                    [key], {});\n",
              "        if (!dataTable) return;\n",
              "\n",
              "        const docLinkHtml = 'Like what you see? Visit the ' +\n",
              "          '<a target=\"_blank\" href=https://colab.research.google.com/notebooks/data_table.ipynb>data table notebook</a>'\n",
              "          + ' to learn more about interactive tables.';\n",
              "        element.innerHTML = '';\n",
              "        dataTable['output_type'] = 'display_data';\n",
              "        await google.colab.output.renderOutput(dataTable, element);\n",
              "        const docLink = document.createElement('div');\n",
              "        docLink.innerHTML = docLinkHtml;\n",
              "        element.appendChild(docLink);\n",
              "      }\n",
              "    </script>\n",
              "  </div>\n",
              "\n",
              "\n",
              "<div id=\"df-68d22f20-bb66-4dfe-a70a-e3c6fb8e5515\">\n",
              "  <button class=\"colab-df-quickchart\" onclick=\"quickchart('df-68d22f20-bb66-4dfe-a70a-e3c6fb8e5515')\"\n",
              "            title=\"Suggest charts\"\n",
              "            style=\"display:none;\">\n",
              "\n",
              "<svg xmlns=\"http://www.w3.org/2000/svg\" height=\"24px\"viewBox=\"0 0 24 24\"\n",
              "     width=\"24px\">\n",
              "    <g>\n",
              "        <path d=\"M19 3H5c-1.1 0-2 .9-2 2v14c0 1.1.9 2 2 2h14c1.1 0 2-.9 2-2V5c0-1.1-.9-2-2-2zM9 17H7v-7h2v7zm4 0h-2V7h2v10zm4 0h-2v-4h2v4z\"/>\n",
              "    </g>\n",
              "</svg>\n",
              "  </button>\n",
              "\n",
              "<style>\n",
              "  .colab-df-quickchart {\n",
              "      --bg-color: #E8F0FE;\n",
              "      --fill-color: #1967D2;\n",
              "      --hover-bg-color: #E2EBFA;\n",
              "      --hover-fill-color: #174EA6;\n",
              "      --disabled-fill-color: #AAA;\n",
              "      --disabled-bg-color: #DDD;\n",
              "  }\n",
              "\n",
              "  [theme=dark] .colab-df-quickchart {\n",
              "      --bg-color: #3B4455;\n",
              "      --fill-color: #D2E3FC;\n",
              "      --hover-bg-color: #434B5C;\n",
              "      --hover-fill-color: #FFFFFF;\n",
              "      --disabled-bg-color: #3B4455;\n",
              "      --disabled-fill-color: #666;\n",
              "  }\n",
              "\n",
              "  .colab-df-quickchart {\n",
              "    background-color: var(--bg-color);\n",
              "    border: none;\n",
              "    border-radius: 50%;\n",
              "    cursor: pointer;\n",
              "    display: none;\n",
              "    fill: var(--fill-color);\n",
              "    height: 32px;\n",
              "    padding: 0;\n",
              "    width: 32px;\n",
              "  }\n",
              "\n",
              "  .colab-df-quickchart:hover {\n",
              "    background-color: var(--hover-bg-color);\n",
              "    box-shadow: 0 1px 2px rgba(60, 64, 67, 0.3), 0 1px 3px 1px rgba(60, 64, 67, 0.15);\n",
              "    fill: var(--button-hover-fill-color);\n",
              "  }\n",
              "\n",
              "  .colab-df-quickchart-complete:disabled,\n",
              "  .colab-df-quickchart-complete:disabled:hover {\n",
              "    background-color: var(--disabled-bg-color);\n",
              "    fill: var(--disabled-fill-color);\n",
              "    box-shadow: none;\n",
              "  }\n",
              "\n",
              "  .colab-df-spinner {\n",
              "    border: 2px solid var(--fill-color);\n",
              "    border-color: transparent;\n",
              "    border-bottom-color: var(--fill-color);\n",
              "    animation:\n",
              "      spin 1s steps(1) infinite;\n",
              "  }\n",
              "\n",
              "  @keyframes spin {\n",
              "    0% {\n",
              "      border-color: transparent;\n",
              "      border-bottom-color: var(--fill-color);\n",
              "      border-left-color: var(--fill-color);\n",
              "    }\n",
              "    20% {\n",
              "      border-color: transparent;\n",
              "      border-left-color: var(--fill-color);\n",
              "      border-top-color: var(--fill-color);\n",
              "    }\n",
              "    30% {\n",
              "      border-color: transparent;\n",
              "      border-left-color: var(--fill-color);\n",
              "      border-top-color: var(--fill-color);\n",
              "      border-right-color: var(--fill-color);\n",
              "    }\n",
              "    40% {\n",
              "      border-color: transparent;\n",
              "      border-right-color: var(--fill-color);\n",
              "      border-top-color: var(--fill-color);\n",
              "    }\n",
              "    60% {\n",
              "      border-color: transparent;\n",
              "      border-right-color: var(--fill-color);\n",
              "    }\n",
              "    80% {\n",
              "      border-color: transparent;\n",
              "      border-right-color: var(--fill-color);\n",
              "      border-bottom-color: var(--fill-color);\n",
              "    }\n",
              "    90% {\n",
              "      border-color: transparent;\n",
              "      border-bottom-color: var(--fill-color);\n",
              "    }\n",
              "  }\n",
              "</style>\n",
              "\n",
              "  <script>\n",
              "    async function quickchart(key) {\n",
              "      const quickchartButtonEl =\n",
              "        document.querySelector('#' + key + ' button');\n",
              "      quickchartButtonEl.disabled = true;  // To prevent multiple clicks.\n",
              "      quickchartButtonEl.classList.add('colab-df-spinner');\n",
              "      try {\n",
              "        const charts = await google.colab.kernel.invokeFunction(\n",
              "            'suggestCharts', [key], {});\n",
              "      } catch (error) {\n",
              "        console.error('Error during call to suggestCharts:', error);\n",
              "      }\n",
              "      quickchartButtonEl.classList.remove('colab-df-spinner');\n",
              "      quickchartButtonEl.classList.add('colab-df-quickchart-complete');\n",
              "    }\n",
              "    (() => {\n",
              "      let quickchartButtonEl =\n",
              "        document.querySelector('#df-68d22f20-bb66-4dfe-a70a-e3c6fb8e5515 button');\n",
              "      quickchartButtonEl.style.display =\n",
              "        google.colab.kernel.accessAllowed ? 'block' : 'none';\n",
              "    })();\n",
              "  </script>\n",
              "</div>\n",
              "\n",
              "  <div id=\"id_2665ad10-0908-4e88-90a3-7620285234e4\">\n",
              "    <style>\n",
              "      .colab-df-generate {\n",
              "        background-color: #E8F0FE;\n",
              "        border: none;\n",
              "        border-radius: 50%;\n",
              "        cursor: pointer;\n",
              "        display: none;\n",
              "        fill: #1967D2;\n",
              "        height: 32px;\n",
              "        padding: 0 0 0 0;\n",
              "        width: 32px;\n",
              "      }\n",
              "\n",
              "      .colab-df-generate:hover {\n",
              "        background-color: #E2EBFA;\n",
              "        box-shadow: 0px 1px 2px rgba(60, 64, 67, 0.3), 0px 1px 3px 1px rgba(60, 64, 67, 0.15);\n",
              "        fill: #174EA6;\n",
              "      }\n",
              "\n",
              "      [theme=dark] .colab-df-generate {\n",
              "        background-color: #3B4455;\n",
              "        fill: #D2E3FC;\n",
              "      }\n",
              "\n",
              "      [theme=dark] .colab-df-generate:hover {\n",
              "        background-color: #434B5C;\n",
              "        box-shadow: 0px 1px 3px 1px rgba(0, 0, 0, 0.15);\n",
              "        filter: drop-shadow(0px 1px 2px rgba(0, 0, 0, 0.3));\n",
              "        fill: #FFFFFF;\n",
              "      }\n",
              "    </style>\n",
              "    <button class=\"colab-df-generate\" onclick=\"generateWithVariable('res')\"\n",
              "            title=\"Generate code using this dataframe.\"\n",
              "            style=\"display:none;\">\n",
              "\n",
              "  <svg xmlns=\"http://www.w3.org/2000/svg\" height=\"24px\"viewBox=\"0 0 24 24\"\n",
              "       width=\"24px\">\n",
              "    <path d=\"M7,19H8.4L18.45,9,17,7.55,7,17.6ZM5,21V16.75L18.45,3.32a2,2,0,0,1,2.83,0l1.4,1.43a1.91,1.91,0,0,1,.58,1.4,1.91,1.91,0,0,1-.58,1.4L9.25,21ZM18.45,9,17,7.55Zm-12,3A5.31,5.31,0,0,0,4.9,8.1,5.31,5.31,0,0,0,1,6.5,5.31,5.31,0,0,0,4.9,4.9,5.31,5.31,0,0,0,6.5,1,5.31,5.31,0,0,0,8.1,4.9,5.31,5.31,0,0,0,12,6.5,5.46,5.46,0,0,0,6.5,12Z\"/>\n",
              "  </svg>\n",
              "    </button>\n",
              "    <script>\n",
              "      (() => {\n",
              "      const buttonEl =\n",
              "        document.querySelector('#id_2665ad10-0908-4e88-90a3-7620285234e4 button.colab-df-generate');\n",
              "      buttonEl.style.display =\n",
              "        google.colab.kernel.accessAllowed ? 'block' : 'none';\n",
              "\n",
              "      buttonEl.onclick = () => {\n",
              "        google.colab.notebook.generateWithVariable('res');\n",
              "      }\n",
              "      })();\n",
              "    </script>\n",
              "  </div>\n",
              "\n",
              "    </div>\n",
              "  </div>\n"
            ],
            "application/vnd.google.colaboratory.intrinsic+json": {
              "type": "dataframe",
              "variable_name": "res",
              "summary": "{\n  \"name\": \"res\",\n  \"rows\": 4,\n  \"fields\": [\n    {\n      \"column\": \"name\",\n      \"properties\": {\n        \"dtype\": \"string\",\n        \"num_unique_values\": 4,\n        \"samples\": [\n          \"rashida\",\n          \"anam\",\n          \"zobia\"\n        ],\n        \"semantic_type\": \"\",\n        \"description\": \"\"\n      }\n    },\n    {\n      \"column\": \"marks\",\n      \"properties\": {\n        \"dtype\": \"number\",\n        \"std\": 22,\n        \"min\": 25,\n        \"max\": 76,\n        \"num_unique_values\": 4,\n        \"samples\": [\n          44,\n          25,\n          32\n        ],\n        \"semantic_type\": \"\",\n        \"description\": \"\"\n      }\n    },\n    {\n      \"column\": \"city\",\n      \"properties\": {\n        \"dtype\": \"string\",\n        \"num_unique_values\": 4,\n        \"samples\": [\n          \"pune\",\n          \"jhansi\",\n          \"mumbai\"\n        ],\n        \"semantic_type\": \"\",\n        \"description\": \"\"\n      }\n    }\n  ]\n}"
            }
          },
          "metadata": {},
          "execution_count": 8
        }
      ]
    },
    {
      "cell_type": "markdown",
      "source": [
        "#13/06/2024"
      ],
      "metadata": {
        "id": "5eFBn-eSQyqN"
      }
    },
    {
      "cell_type": "code",
      "source": [
        "res.to_csv('pandas.csv')"
      ],
      "metadata": {
        "id": "lUOw3jo9perB"
      },
      "execution_count": null,
      "outputs": []
    },
    {
      "cell_type": "code",
      "source": [
        "test_str = 'mumbai is the best city'\n",
        "map_dict = {'e': '1', 'b': '6', 'i': '4'}\n",
        "\n",
        "res = ''.join(\n",
        "\tidx if idx not in map_dict else map_dict[idx] for idx in test_str)\n",
        "print(\" string : \" + str(res))\n"
      ],
      "metadata": {
        "id": "GJ4JEIsTqag2",
        "colab": {
          "base_uri": "https://localhost:8080/"
        },
        "outputId": "4796a608-0ca4-430c-de9f-017e4cf61490"
      },
      "execution_count": null,
      "outputs": [
        {
          "output_type": "stream",
          "name": "stdout",
          "text": [
            " string : mum6a4 4s th1 61st c4ty\n"
          ]
        }
      ]
    },
    {
      "cell_type": "code",
      "source": [
        "\n",
        "test_str = 'geeksforgeeks is best'\n",
        "map_dict = {'e': '1', 'b': '6', 'i': '4'}\n",
        "for i in test_str:\n",
        "\tif i in map_dict.keys():\n",
        "\t\ttest_str=test_str.replace(i,map_dict[i])\n",
        "\n",
        "print(\"The converted string : \" + str(test_str))\n"
      ],
      "metadata": {
        "colab": {
          "base_uri": "https://localhost:8080/"
        },
        "id": "0V2Hr5kGYygE",
        "outputId": "3db1b299-cfb8-41be-8b54-d4db6541f3f3"
      },
      "execution_count": null,
      "outputs": [
        {
          "output_type": "stream",
          "name": "stdout",
          "text": [
            "The converted string : g11ksforg11ks 4s 61st\n"
          ]
        }
      ]
    },
    {
      "cell_type": "code",
      "source": [
        "test_str = 'geeksforgeeks is best'\n",
        "\n",
        "map_dict = {'e': '1', 'b': '6', 'i': '4'}\n",
        "\n",
        "new_str = ''.join([map_dict.get(char, char) for char in test_str])\n",
        "\n",
        "print(\"The converted string : \" + str(new_str))\n"
      ],
      "metadata": {
        "colab": {
          "base_uri": "https://localhost:8080/"
        },
        "id": "N9l03m5QZD-u",
        "outputId": "ece249ab-7e1b-4684-ba8a-fe2c0a7e9deb"
      },
      "execution_count": null,
      "outputs": [
        {
          "output_type": "stream",
          "name": "stdout",
          "text": [
            "The converted string : g11ksforg11ks 4s 61st\n"
          ]
        }
      ]
    },
    {
      "cell_type": "code",
      "source": [
        "string = \"geeksforgeeks\"\n",
        "\n",
        "chars = {}\n",
        "for char in string:\n",
        "    if char not in chars:\n",
        "        chars[char] = 1\n",
        "    else:\n",
        "        chars[char] += 1\n",
        "\n",
        "duplicates = []\n",
        "for char, count in chars.items():\n",
        "    if count > 1:\n",
        "        duplicates.append(char)\n",
        "\n",
        "print(duplicates)\n"
      ],
      "metadata": {
        "colab": {
          "base_uri": "https://localhost:8080/"
        },
        "id": "nZYfgWOXZKkj",
        "outputId": "40e5d173-a41b-40ab-be48-38d929a0eabb"
      },
      "execution_count": null,
      "outputs": [
        {
          "output_type": "stream",
          "name": "stdout",
          "text": [
            "['g', 'e', 'k', 's']\n"
          ]
        }
      ]
    },
    {
      "cell_type": "code",
      "source": [
        "string = \"geeksforgeeks\"\n",
        "\n",
        "seen = set()\n",
        "duplicates = set()\n",
        "\n",
        "for char in string:\n",
        "    if char in seen:\n",
        "        duplicates.add(char)\n",
        "    else:\n",
        "        seen.add(char)\n",
        "\n",
        "print(list(duplicates))\n"
      ],
      "metadata": {
        "colab": {
          "base_uri": "https://localhost:8080/"
        },
        "id": "eNJcDZaTZyBR",
        "outputId": "a3f897d7-7674-4c79-9c6d-bc10ccbfbff9"
      },
      "execution_count": null,
      "outputs": [
        {
          "output_type": "stream",
          "name": "stdout",
          "text": [
            "['g', 'e', 's', 'k']\n"
          ]
        }
      ]
    },
    {
      "cell_type": "markdown",
      "source": [
        "#15/06/2024"
      ],
      "metadata": {
        "id": "ova2SVchjWcR"
      }
    },
    {
      "cell_type": "code",
      "source": [],
      "metadata": {
        "id": "WvE_odDXlhHQ"
      },
      "execution_count": null,
      "outputs": []
    }
  ],
  "metadata": {
    "colab": {
      "provenance": [],
      "toc_visible": true
    },
    "kernelspec": {
      "display_name": "Python 3",
      "name": "python3"
    },
    "language_info": {
      "name": "python"
    }
  },
  "nbformat": 4,
  "nbformat_minor": 0
}